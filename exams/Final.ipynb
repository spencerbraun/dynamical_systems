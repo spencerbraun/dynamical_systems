{
 "cells": [
  {
   "cell_type": "code",
   "execution_count": 6,
   "metadata": {},
   "outputs": [],
   "source": [
    "using Plots\n",
    "using Statistics\n",
    "using LinearAlgebra\n",
    "using JSON\n",
    "\n",
    "include(\"readclassjson.jl\");"
   ]
  },
  {
   "cell_type": "code",
   "execution_count": 3,
   "metadata": {},
   "outputs": [],
   "source": [
    "# ; wget http://ee263.stanford.edu/yayfor21/neural_network.json -P data"
   ]
  },
  {
   "cell_type": "markdown",
   "metadata": {},
   "source": [
    "## Problem 1, g)"
   ]
  },
  {
   "cell_type": "code",
   "execution_count": 217,
   "metadata": {},
   "outputs": [
    {
     "data": {
      "text/plain": [
       "150000.0"
      ]
     },
     "execution_count": 217,
     "metadata": {},
     "output_type": "execute_result"
    }
   ],
   "source": [
    "r = 10\n",
    "m = 15e3\n",
    "k = 15e4"
   ]
  },
  {
   "cell_type": "code",
   "execution_count": null,
   "metadata": {},
   "outputs": [],
   "source": []
  },
  {
   "cell_type": "markdown",
   "metadata": {},
   "source": [
    "## Problem 2 a)"
   ]
  },
  {
   "cell_type": "code",
   "execution_count": 14,
   "metadata": {},
   "outputs": [],
   "source": [
    "A = [1 2 ; 3 4 ; 5 6]\n",
    "B = [ 7 8 ; 1 1 ; 4 2 ; 9 1];"
   ]
  },
  {
   "cell_type": "code",
   "execution_count": 22,
   "metadata": {},
   "outputs": [
    {
     "data": {
      "text/plain": [
       "2"
      ]
     },
     "execution_count": 22,
     "metadata": {},
     "output_type": "execute_result"
    }
   ],
   "source": [
    "ma = size(A)[1]\n",
    "mb = size(B)[1]\n",
    "n = size(A)[2]"
   ]
  },
  {
   "cell_type": "code",
   "execution_count": 15,
   "metadata": {},
   "outputs": [],
   "source": [
    "block = [A ; B];"
   ]
  },
  {
   "cell_type": "code",
   "execution_count": 101,
   "metadata": {},
   "outputs": [
    {
     "data": {
      "text/plain": [
       "2×2 Array{Float64,2}:\n",
       " 16.5915  0.0\n",
       "  0.0     5.72044"
      ]
     },
     "execution_count": 101,
     "metadata": {},
     "output_type": "execute_result"
    }
   ],
   "source": [
    "svd1 = svd(block, full=true)\n",
    "U11 = svd1.U[1:ma, 1:n]\n",
    "U21 = svd1.U[(ma+1):end, 1:n]\n",
    "V = svd1.V\n",
    "sigma = diagm(svd1.S)"
   ]
  },
  {
   "cell_type": "code",
   "execution_count": 28,
   "metadata": {},
   "outputs": [
    {
     "data": {
      "text/plain": [
       "2×2 Array{Float64,2}:\n",
       " 0.997115  0.0\n",
       " 0.0       0.733151"
      ]
     },
     "execution_count": 28,
     "metadata": {},
     "output_type": "execute_result"
    }
   ],
   "source": [
    "svd2 = svd(U21, full=true)\n",
    "Ub = svd2.U\n",
    "V3t = svd2.Vt\n",
    "V3 = svd2.V\n",
    "sigmab = diagm(svd2.S)"
   ]
  },
  {
   "cell_type": "code",
   "execution_count": 37,
   "metadata": {},
   "outputs": [
    {
     "data": {
      "text/plain": [
       "3×3 Array{Float64,2}:\n",
       " -0.362756  -0.509232  -0.0732378\n",
       " -0.40087   -0.504645  -0.0518877\n",
       "  0.790089  -0.279559  -0.034824"
      ]
     },
     "execution_count": 37,
     "metadata": {},
     "output_type": "execute_result"
    }
   ],
   "source": [
    "Ua = svd1.U[1:ma, (n+1):(ma+n)]"
   ]
  },
  {
   "cell_type": "code",
   "execution_count": 44,
   "metadata": {},
   "outputs": [
    {
     "data": {
      "text/plain": [
       "3×3 Array{Float64,2}:\n",
       " -0.0755123  -0.0721104  -0.106522\n",
       " -0.1811     -0.178822   -0.114893\n",
       " -0.286688   -0.285533   -0.123264"
      ]
     },
     "execution_count": 44,
     "metadata": {},
     "output_type": "execute_result"
    }
   ],
   "source": [
    "U11 * V3 * Ua[:,1:2]'"
   ]
  },
  {
   "cell_type": "code",
   "execution_count": 90,
   "metadata": {},
   "outputs": [
    {
     "data": {
      "text/plain": [
       "2×2 Array{Float64,2}:\n",
       " 0.0758998   1.13798e-15\n",
       " 0.0        -0.680066"
      ]
     },
     "execution_count": 90,
     "metadata": {},
     "output_type": "execute_result"
    }
   ],
   "source": [
    "qr1 = qr(U11 * V3)\n",
    "qrQ = qr1.Q\n",
    "Ua = reduce(hcat, Ua[:,i] for i in [1,2,3])\n",
    "sigmaa = qr1.R"
   ]
  },
  {
   "cell_type": "code",
   "execution_count": 91,
   "metadata": {},
   "outputs": [
    {
     "data": {
      "text/plain": [
       "3-element Array{Float64,1}:\n",
       " 0.286945838426678\n",
       " 0.5393238577758741\n",
       " 0.79170187712507"
      ]
     },
     "execution_count": 91,
     "metadata": {},
     "output_type": "execute_result"
    }
   ],
   "source": [
    "sigmaa[:,2] = sigmaa[:,2] .* -1\n",
    "Ua[:,2] = Ua[:,2] .* -1"
   ]
  },
  {
   "cell_type": "code",
   "execution_count": 106,
   "metadata": {},
   "outputs": [
    {
     "data": {
      "text/plain": [
       "true"
      ]
     },
     "execution_count": 106,
     "metadata": {},
     "output_type": "execute_result"
    }
   ],
   "source": [
    "isapprox(U11 * V3, Ua * [sigmaa ; zeros(1,2)])"
   ]
  },
  {
   "cell_type": "code",
   "execution_count": 96,
   "metadata": {},
   "outputs": [
    {
     "data": {
      "text/plain": [
       "2×2 Array{Float64,2}:\n",
       " 0.0758998  -1.13798e-15\n",
       " 0.0         0.680066"
      ]
     },
     "execution_count": 96,
     "metadata": {},
     "output_type": "execute_result"
    }
   ],
   "source": [
    "sigmaa"
   ]
  },
  {
   "cell_type": "code",
   "execution_count": 103,
   "metadata": {},
   "outputs": [
    {
     "data": {
      "text/plain": [
       "2×2 Array{Float64,2}:\n",
       " 0.997115  0.0\n",
       " 0.0       0.733151"
      ]
     },
     "execution_count": 103,
     "metadata": {},
     "output_type": "execute_result"
    }
   ],
   "source": [
    "sigmab"
   ]
  },
  {
   "cell_type": "code",
   "execution_count": 104,
   "metadata": {},
   "outputs": [
    {
     "data": {
      "text/plain": [
       "3×3 Array{Float64,2}:\n",
       " -0.8666    0.286946   0.408248\n",
       " -0.206066  0.539324  -0.816497\n",
       "  0.454468  0.791702   0.408248"
      ]
     },
     "execution_count": 104,
     "metadata": {},
     "output_type": "execute_result"
    }
   ],
   "source": [
    "Ua"
   ]
  },
  {
   "cell_type": "code",
   "execution_count": 105,
   "metadata": {},
   "outputs": [
    {
     "data": {
      "text/plain": [
       "4×4 Array{Float64,2}:\n",
       " 0.0848732   0.968482  -0.2213    -0.0765912\n",
       " 0.0251397   0.117052   0.184262   0.975558\n",
       " 0.282768    0.169974   0.922173  -0.20186\n",
       " 0.955095   -0.139467  -0.258206   0.040891"
      ]
     },
     "execution_count": 105,
     "metadata": {},
     "output_type": "execute_result"
    }
   ],
   "source": [
    "Ub"
   ]
  },
  {
   "cell_type": "code",
   "execution_count": 102,
   "metadata": {},
   "outputs": [
    {
     "data": {
      "text/plain": [
       "2×2 Array{Float64,2}:\n",
       "  0.115909   -0.0235084\n",
       " -0.0908419   0.109325"
      ]
     },
     "execution_count": 102,
     "metadata": {},
     "output_type": "execute_result"
    }
   ],
   "source": [
    "X = V * inv(sigma) * V3"
   ]
  },
  {
   "cell_type": "code",
   "execution_count": null,
   "metadata": {},
   "outputs": [],
   "source": []
  },
  {
   "cell_type": "code",
   "execution_count": null,
   "metadata": {},
   "outputs": [],
   "source": []
  },
  {
   "cell_type": "code",
   "execution_count": null,
   "metadata": {},
   "outputs": [],
   "source": []
  },
  {
   "cell_type": "code",
   "execution_count": null,
   "metadata": {},
   "outputs": [],
   "source": []
  },
  {
   "cell_type": "markdown",
   "metadata": {},
   "source": [
    "## Problem 4 c)"
   ]
  },
  {
   "cell_type": "code",
   "execution_count": 7,
   "metadata": {},
   "outputs": [
    {
     "data": {
      "text/plain": [
       "Dict{Any,Any} with 7 entries:\n",
       "  \"y\"  => [1, 1, 1, 0, 1, 0, 1, 0, 0, 1  …  1, 0, 1, 1, 1, 0, 1, 1, 1, 0]\n",
       "  \"X\"  => [3.09019 0.0951662; -0.181169 3.54493; … ; 3.19208 1.60698; 2.51807 -…\n",
       "  \"m\"  => 100\n",
       "  \"N\"  => 10\n",
       "  \"u\"  => [-0.927326, -1.94019, 0.205306, -0.702231, 1.37903, -0.287253, 1.4613…\n",
       "  \"mu\" => 1.0\n",
       "  \"n\"  => 2"
      ]
     },
     "execution_count": 7,
     "metadata": {},
     "output_type": "execute_result"
    }
   ],
   "source": [
    "nn = readclassjson(\"data/neural_network.json\")"
   ]
  },
  {
   "cell_type": "code",
   "execution_count": 27,
   "metadata": {},
   "outputs": [],
   "source": [
    "X = nn[\"X\"]\n",
    "y = nn[\"y\"]\n",
    "u = nn[\"u\"];\n",
    "n = 2\n",
    "N = 10\n",
    "mu = 1\n",
    "m = 100;"
   ]
  },
  {
   "cell_type": "markdown",
   "metadata": {},
   "source": [
    "Tried to write this in the alternate form first, solving directly for u. Ran out of time debugging"
   ]
  },
  {
   "cell_type": "code",
   "execution_count": 9,
   "metadata": {},
   "outputs": [
    {
     "data": {
      "text/plain": [
       "jacobian (generic function with 1 method)"
      ]
     },
     "execution_count": 9,
     "metadata": {},
     "output_type": "execute_result"
    }
   ],
   "source": [
    "function f(X, u)\n",
    "    u_shaped = reshape(u, 2, 10)\n",
    "    sum(X * u_shaped, dims=2).^2\n",
    "end\n",
    "\n",
    "function loss(u)\n",
    "    norm(f(X, u) .- y)\n",
    "end\n",
    "\n",
    "function jacobian(u)\n",
    "    fit = f(X, u)\n",
    "    u_shaped = reshape(u, 2, 10)\n",
    "    du =  2 .* X .* sum(X * u_shaped, dims=2)\n",
    "    du\n",
    "end"
   ]
  },
  {
   "cell_type": "code",
   "execution_count": 22,
   "metadata": {},
   "outputs": [
    {
     "data": {
      "text/plain": [
       "fitter (generic function with 2 methods)"
      ]
     },
     "execution_count": 22,
     "metadata": {},
     "output_type": "execute_result"
    }
   ],
   "source": [
    "function fitter(u0, iters=100)\n",
    "    u = u0\n",
    "    rmse_vec = zeros(iters)\n",
    "    for i = 1:iters\n",
    "        Jk = jacobian(u)\n",
    "        Ak = Jk\n",
    "        u_shaped = reshape(u, 2, 10)\n",
    "        bk = Jk * u_shaped .- Ak'u_shaped\n",
    "        \n",
    "        u_k1 = inv(Ak'*Ak + mu .* I) * Ak' * bk\n",
    "\n",
    "        rmse_vec[i] = loss(u)\n",
    "\n",
    "        u = u_k1[:]\n",
    "        \n",
    "    end\n",
    "    return(u, rmse_vec)\n",
    "end"
   ]
  },
  {
   "cell_type": "code",
   "execution_count": 23,
   "metadata": {},
   "outputs": [
    {
     "data": {
      "text/plain": [
       "100×10 Array{Float64,2}:\n",
       " -2170.85  -2238.26  -2306.58  -2311.1   …  -2213.62  -2245.52  -2248.78\n",
       " -2055.18  -2162.73  -2195.08  -2183.36     -2223.07  -2275.42  -2260.92\n",
       " -1992.46  -2253.14  -2502.87  -2516.77     -2176.66  -2300.28  -2309.18\n",
       " -2228.97  -2231.69  -2237.81  -2238.82     -2226.34  -2227.56  -2228.55\n",
       " -1823.41  -2137.6   -2325.48  -2314.28     -2192.5   -2343.65  -2325.29\n",
       " -2222.57  -2226.25  -2228.08  -2227.86  …  -2227.36  -2229.13  -2228.82\n",
       " -2111.45  -2168.95  -2163.75  -2151.93     -2230.45  -2258.87  -2245.33\n",
       " -2227.0   -2227.3   -2227.19  -2227.11     -2227.72  -2227.86  -2227.77\n",
       " -2179.19  -2223.81  -2258.84  -2259.32     -2220.74  -2242.05  -2241.59\n",
       " -2210.06  -2226.88  -2240.71  -2241.04     -2224.92  -2232.95  -2232.93\n",
       " -1647.97  -2121.91  -2433.51  -2423.6   …  -2168.05  -2395.52  -2375.07\n",
       " -2113.13  -2218.09  -2300.06  -2301.06     -2211.46  -2261.59  -2260.4\n",
       " -2221.78  -2226.62  -2229.8   -2229.7      -2227.07  -2229.39  -2229.19\n",
       "     ⋮                                   ⋱                      \n",
       " -2213.33  -2218.16  -2213.43  -2211.38     -2228.92  -2231.39  -2229.14\n",
       " -2226.94  -2227.84  -2228.76  -2228.83     -2227.49  -2227.92  -2227.97\n",
       " -1816.39  -2220.73  -2564.58  -2575.39  …  -2158.66  -2351.24  -2353.85\n",
       " -2202.42  -2218.11  -2222.73  -2220.99     -2227.03  -2234.67  -2232.53\n",
       " -1965.53  -2171.59  -2297.59  -2290.94     -2203.96  -2303.04  -2291.71\n",
       " -2182.06  -2225.97  -2262.41  -2263.37     -2220.4   -2241.33  -2241.38\n",
       " -1523.01  -2018.6   -2252.21  -2219.05     -2186.78  -2426.4   -2381.29\n",
       " -2106.71  -2198.15  -2249.72  -2245.7   …  -2218.17  -2262.22  -2256.07\n",
       " -2140.83  -2185.67  -2185.17  -2176.83     -2229.02  -2251.11  -2241.46\n",
       " -2115.61  -2217.78  -2297.04  -2297.89     -2212.02  -2260.83  -2259.52\n",
       " -2041.49  -2213.19  -2348.4   -2350.32     -2200.89  -2282.87  -2281.2\n",
       " -2223.7   -2236.54  -2255.96  -2258.41     -2223.51  -2229.47  -2231.74"
      ]
     },
     "execution_count": 23,
     "metadata": {},
     "output_type": "execute_result"
    }
   ],
   "source": [
    "Jk = jacobian(u)\n",
    "Ak = Jk\n",
    "u_shaped = reshape(u, 2, 10)\n",
    "bk = Jk * u_shaped .- loss(u)\n"
   ]
  },
  {
   "cell_type": "code",
   "execution_count": 29,
   "metadata": {},
   "outputs": [
    {
     "data": {
      "text/plain": [
       "([-2.534460172040803e142, -2.8098488715697473e142, -2.534460172040803e142, -2.8098488715697473e142, -2.534460172040803e142, -2.8098488715697473e142, -2.534460172040803e142, -2.8098488715697473e142, -2.534460172040803e142, -2.8098488715697473e142, -2.534460172040803e142, -2.8098488715697473e142, -2.534460172040803e142, -2.8098488715697473e142, -2.534460172040803e142, -2.8098488715697473e142, -2.534460172040803e142, -2.8098488715697473e142, -2.534460172040803e142, -2.8098488715697473e142], [2227.683873922618, 1.6044499268096676e6, 1.1569608248595848e9, 8.342794963375057e11, 6.015953719039051e14, 4.338078462713747e17, 3.128169801091256e20, 2.25570984678269e23, 1.6265827101512727e26, 1.1729218262431723e29  …  3.687188034479333e260, 2.658815500812296e263, 1.9172604709208955e266, 1.3825283146697423e269, 9.969352468553668e271, 7.188857370056749e274, 5.183854262353792e277, 3.738055108069484e280, 2.6954955297334548e283, 1.943710282689063e286])"
      ]
     },
     "execution_count": 29,
     "metadata": {},
     "output_type": "execute_result"
    }
   ],
   "source": [
    "output, rmse = fitter(u)"
   ]
  },
  {
   "cell_type": "code",
   "execution_count": 30,
   "metadata": {},
   "outputs": [
    {
     "data": {
      "text/plain": [
       "100-element Array{Float64,1}:\n",
       " 2227.683873922618\n",
       "    1.6044499268096676e6\n",
       "    1.1569608248595848e9\n",
       "    8.342794963375057e11\n",
       "    6.015953719039051e14\n",
       "    4.338078462713747e17\n",
       "    3.128169801091256e20\n",
       "    2.25570984678269e23\n",
       "    1.6265827101512727e26\n",
       "    1.1729218262431723e29\n",
       "    8.457889057173573e31\n",
       "    6.098947577144465e34\n",
       "    4.397924978361769e37\n",
       "    ⋮\n",
       "    7.091032130380002e254\n",
       "    5.113312900971899e257\n",
       "    3.687188034479333e260\n",
       "    2.658815500812296e263\n",
       "    1.9172604709208955e266\n",
       "    1.3825283146697423e269\n",
       "    9.969352468553668e271\n",
       "    7.188857370056749e274\n",
       "    5.183854262353792e277\n",
       "    3.738055108069484e280\n",
       "    2.6954955297334548e283\n",
       "    1.943710282689063e286"
      ]
     },
     "execution_count": 30,
     "metadata": {},
     "output_type": "execute_result"
    }
   ],
   "source": [
    "rmse"
   ]
  },
  {
   "cell_type": "code",
   "execution_count": 31,
   "metadata": {},
   "outputs": [
    {
     "data": {
      "text/plain": [
       "20-element Array{Float64,1}:\n",
       " -2.534460172040803e142\n",
       " -2.8098488715697473e142\n",
       " -2.534460172040803e142\n",
       " -2.8098488715697473e142\n",
       " -2.534460172040803e142\n",
       " -2.8098488715697473e142\n",
       " -2.534460172040803e142\n",
       " -2.8098488715697473e142\n",
       " -2.534460172040803e142\n",
       " -2.8098488715697473e142\n",
       " -2.534460172040803e142\n",
       " -2.8098488715697473e142\n",
       " -2.534460172040803e142\n",
       " -2.8098488715697473e142\n",
       " -2.534460172040803e142\n",
       " -2.8098488715697473e142\n",
       " -2.534460172040803e142\n",
       " -2.8098488715697473e142\n",
       " -2.534460172040803e142\n",
       " -2.8098488715697473e142"
      ]
     },
     "execution_count": 31,
     "metadata": {},
     "output_type": "execute_result"
    }
   ],
   "source": [
    "output"
   ]
  },
  {
   "cell_type": "code",
   "execution_count": null,
   "metadata": {},
   "outputs": [],
   "source": []
  }
 ],
 "metadata": {
  "kernelspec": {
   "display_name": "Julia 1.5.1",
   "language": "julia",
   "name": "julia-1.5"
  },
  "language_info": {
   "file_extension": ".jl",
   "mimetype": "application/julia",
   "name": "julia",
   "version": "1.5.1"
  }
 },
 "nbformat": 4,
 "nbformat_minor": 4
}
