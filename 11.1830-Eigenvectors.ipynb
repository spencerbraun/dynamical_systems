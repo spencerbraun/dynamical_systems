{
 "cells": [
  {
   "cell_type": "code",
   "execution_count": 16,
   "metadata": {},
   "outputs": [],
   "source": [
    "using Plots\n",
    "using Statistics\n",
    "using LinearAlgebra\n",
    "using JSON\n",
    "\n",
    "include(\"readclassjson.jl\");"
   ]
  },
  {
   "cell_type": "markdown",
   "metadata": {},
   "source": [
    "\n",
    "## 11.1830 Estimating a matrix with known eigenvectors\n",
    "\n",
    "Carry out your method with the data\n",
    "$$\n",
    "A^{\\text {meas }}=\\left[\\begin{array}{ccc}\n",
    "2.0 & 1.2 & -1.0 \\\\\n",
    "0.4 & 2.0 & -0.5 \\\\\n",
    "-0.5 & 0.9 & 1.0\n",
    "\\end{array}\\right], \\quad v_{1}=\\left[\\begin{array}{c}\n",
    "0.7 \\\\\n",
    "0 \\\\\n",
    "0.7\n",
    "\\end{array}\\right], \\quad v_{2}=\\left[\\begin{array}{c}\n",
    "0.3 \\\\\n",
    "0.6 \\\\\n",
    "0.7\n",
    "\\end{array}\\right], \\quad v_{3}=\\left[\\begin{array}{c}\n",
    "0.6 \\\\\n",
    "0.6 \\\\\n",
    "0.3\n",
    "\\end{array}\\right]\n",
    "$$\n",
    "Be sure to check that $\\hat{A}$ does indeed have $v_{1}, v_{2}, v_{3}$ as eigenvectors, by (numerically) finding its eigenvectors and eigenvalues. Also, give the value of $J$ for $\\hat{A}$.You"
   ]
  },
  {
   "cell_type": "code",
   "execution_count": 69,
   "metadata": {},
   "outputs": [
    {
     "data": {
      "text/plain": [
       "3×3 Array{Float64,2}:\n",
       "  2.0  1.2  -1.0\n",
       "  0.4  2.0  -0.5\n",
       " -0.5  0.9   1.0"
      ]
     },
     "execution_count": 69,
     "metadata": {},
     "output_type": "execute_result"
    }
   ],
   "source": [
    "Am = [2 1.2 -1 ; 0.4 2.0 -0.5 ; -0.5 0.9 1]"
   ]
  },
  {
   "cell_type": "code",
   "execution_count": 75,
   "metadata": {},
   "outputs": [],
   "source": [
    "Am_vec = Am[:];"
   ]
  },
  {
   "cell_type": "code",
   "execution_count": 4,
   "metadata": {},
   "outputs": [],
   "source": [
    "v1 = [0.7 ; 0 ; 0.7]\n",
    "v2 = [0.3 ; 0.6 ; 0.7]\n",
    "v3 = [0.6 ; 0.6 ; 0.3];"
   ]
  },
  {
   "cell_type": "code",
   "execution_count": 153,
   "metadata": {},
   "outputs": [
    {
     "data": {
      "text/plain": [
       "3×3 Array{Float64,2}:\n",
       " 0.7  0.3  0.6\n",
       " 0.0  0.6  0.6\n",
       " 0.7  0.7  0.3"
      ]
     },
     "execution_count": 153,
     "metadata": {},
     "output_type": "execute_result"
    }
   ],
   "source": [
    "eigenV = [v1 v2 v3]"
   ]
  },
  {
   "cell_type": "code",
   "execution_count": 154,
   "metadata": {},
   "outputs": [
    {
     "data": {
      "text/plain": [
       "3×3 Array{Float64,2}:\n",
       "  0.816327  -1.12245    0.612245\n",
       " -1.42857    0.714286   1.42857\n",
       "  1.42857    0.952381  -1.42857"
      ]
     },
     "execution_count": 154,
     "metadata": {},
     "output_type": "execute_result"
    }
   ],
   "source": [
    "eigenW = inv(eigenV)"
   ]
  },
  {
   "cell_type": "code",
   "execution_count": 156,
   "metadata": {},
   "outputs": [
    {
     "data": {
      "text/plain": [
       "9×3 Array{Float64,2}:\n",
       "  0.571429  -0.428571   0.857143\n",
       "  0.0       -0.857143   0.857143\n",
       "  0.571429  -1.0        0.428571\n",
       " -0.785714   0.214286   0.571429\n",
       " -0.0        0.428571   0.571429\n",
       " -0.785714   0.5        0.285714\n",
       "  0.428571   0.428571  -0.857143\n",
       "  0.0        0.857143  -0.857143\n",
       "  0.428571   1.0       -0.428571"
      ]
     },
     "execution_count": 156,
     "metadata": {},
     "output_type": "execute_result"
    }
   ],
   "source": [
    "V = reduce(hcat, [(eigenV[:,i] * transpose(eigenW[i,:]))[:] for i in [1, 2, 3]])"
   ]
  },
  {
   "cell_type": "code",
   "execution_count": 159,
   "metadata": {},
   "outputs": [
    {
     "data": {
      "text/plain": [
       "SVD{Float64,Float64,Array{Float64,2}}\n",
       "U factor:\n",
       "9×4 Array{Float64,2}:\n",
       "  0.549067   -0.177995   0.473132   -0.57366\n",
       "  0.183579   -0.422562  -0.0757833   0.323742\n",
       " -0.0828244  -0.493873   0.251226    0.452548\n",
       "  0.355616    0.104417  -0.45149    -0.110721\n",
       "  0.52914     0.198067   0.142604    0.448608\n",
       "  0.255203    0.231334  -0.445839    0.199265\n",
       " -0.332188    0.204347   0.283797    0.0823211\n",
       " -0.207111    0.4142     0.0640178  -0.0730018\n",
       "  0.182043    0.478415   0.446876    0.309813\n",
       "singular values:\n",
       "4-element Array{Float64,1}:\n",
       " 3.881561728035197\n",
       " 2.490178609079442\n",
       " 1.4967333638812184\n",
       " 0.12051216428058734\n",
       "Vt factor:\n",
       "4×4 Array{Float64,2}:\n",
       " -0.0715828  -0.00440834   0.400667   0.913412\n",
       " -0.142607    0.833796    -0.491008   0.208228\n",
       "  0.956823   -0.0161787   -0.23069    0.176099\n",
       "  0.24296     0.551818     0.738349  -0.302172"
      ]
     },
     "execution_count": 159,
     "metadata": {},
     "output_type": "execute_result"
    }
   ],
   "source": [
    "svd([V Am_vec])"
   ]
  },
  {
   "cell_type": "code",
   "execution_count": 160,
   "metadata": {},
   "outputs": [
    {
     "data": {
      "text/plain": [
       "3-element Array{Float64,1}:\n",
       " 0.7840290263886044\n",
       " 1.80014104068647\n",
       " 2.4158299329249253"
      ]
     },
     "execution_count": 160,
     "metadata": {},
     "output_type": "execute_result"
    }
   ],
   "source": [
    "lambda = V \\ Am_vec"
   ]
  },
  {
   "cell_type": "code",
   "execution_count": 161,
   "metadata": {},
   "outputs": [
    {
     "data": {
      "text/plain": [
       "3×3 Array{Float64,2}:\n",
       "  1.74724   1.1502    -0.96321\n",
       "  0.527733  2.15196   -0.527733\n",
       " -0.316769  0.974285   1.1008"
      ]
     },
     "execution_count": 161,
     "metadata": {},
     "output_type": "execute_result"
    }
   ],
   "source": [
    "Ahat = reshape(V * lambda, 3, 3)"
   ]
  },
  {
   "cell_type": "code",
   "execution_count": 169,
   "metadata": {},
   "outputs": [
    {
     "data": {
      "text/plain": [
       "Eigen{Float64,Float64,Array{Float64,2},Array{Float64,1}}\n",
       "values:\n",
       "3-element Array{Float64,1}:\n",
       " 0.7840290263886041\n",
       " 1.80014104068647\n",
       " 2.4158299329249258\n",
       "vectors:\n",
       "3×3 Array{Float64,2}:\n",
       " 0.707107     0.309426  -0.666667\n",
       " 3.60822e-16  0.618853  -0.666667\n",
       " 0.707107     0.721995  -0.333333"
      ]
     },
     "execution_count": 169,
     "metadata": {},
     "output_type": "execute_result"
    }
   ],
   "source": [
    "eigen(Ahat)"
   ]
  },
  {
   "cell_type": "markdown",
   "metadata": {},
   "source": [
    "Relatively close to the eigendecomposition"
   ]
  },
  {
   "cell_type": "code",
   "execution_count": 168,
   "metadata": {},
   "outputs": [
    {
     "data": {
      "text/plain": [
       "3×3 Array{Float64,2}:\n",
       " 0.00710678   0.00942637  0.0666667\n",
       " 3.60822e-16  0.0188527   0.0666667\n",
       " 0.00710678   0.0219949   0.0333333"
      ]
     },
     "execution_count": 168,
     "metadata": {},
     "output_type": "execute_result"
    }
   ],
   "source": [
    "abs.(eigen(Ahat).vectors) .- eigenV"
   ]
  },
  {
   "cell_type": "code",
   "execution_count": 119,
   "metadata": {},
   "outputs": [
    {
     "data": {
      "text/plain": [
       "3-element Array{Float64,1}:\n",
       " 1.1890047663086005\n",
       " 1.455877320907733\n",
       " 0.42967453937540034"
      ]
     },
     "execution_count": 119,
     "metadata": {},
     "output_type": "execute_result"
    }
   ],
   "source": [
    "Ahat * v2 "
   ]
  },
  {
   "cell_type": "code",
   "execution_count": 170,
   "metadata": {},
   "outputs": [
    {
     "data": {
      "text/plain": [
       "0.017461333438605432"
      ]
     },
     "execution_count": 170,
     "metadata": {},
     "output_type": "execute_result"
    }
   ],
   "source": [
    "J = (1/9) * sum((Am .- Ahat).^2)"
   ]
  },
  {
   "cell_type": "code",
   "execution_count": null,
   "metadata": {},
   "outputs": [],
   "source": []
  }
 ],
 "metadata": {
  "kernelspec": {
   "display_name": "Julia 1.5.1",
   "language": "julia",
   "name": "julia-1.5"
  },
  "language_info": {
   "file_extension": ".jl",
   "mimetype": "application/julia",
   "name": "julia",
   "version": "1.5.1"
  }
 },
 "nbformat": 4,
 "nbformat_minor": 4
}
