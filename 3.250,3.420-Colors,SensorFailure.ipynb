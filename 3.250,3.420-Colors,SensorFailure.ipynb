{
 "cells": [
  {
   "cell_type": "code",
   "execution_count": 64,
   "metadata": {},
   "outputs": [],
   "source": [
    "using Plots\n",
    "using Statistics\n",
    "using LinearAlgebra\n",
    "using JSON"
   ]
  },
  {
   "cell_type": "code",
   "execution_count": 2,
   "metadata": {},
   "outputs": [],
   "source": [
    "# ; wget http://ee263.stanford.edu/hw/color_perception_data.json"
   ]
  },
  {
   "cell_type": "code",
   "execution_count": 4,
   "metadata": {},
   "outputs": [],
   "source": [
    "# ; wget http://ee263.stanford.edu/hw/one_bad_sensor.json"
   ]
  },
  {
   "cell_type": "markdown",
   "metadata": {},
   "source": [
    "## 3.250 \n",
    "\n",
    "*Human color perception is based on the responses of three different types of color light receptors, called cones. The three types of cones have different spectral-response characteristics, and are called L, M, and, S because they respond mainly to long, medium, and short wavelengths, respectively. In this problem we will divide the visible spectrum into 20 bands, and model the cones’ responses as follows:*\n",
    "\n",
    "$L_{\\text {cone }}=\\sum_{i=1}^{20} l_{i} p_{i}, \\quad M_{\\text {cone }}=\\sum_{i=1}^{20} m_{i} p_{i}, \\quad S_{\\text {cone }}=\\sum_{i=1}^{20} s_{i} p_{i}$\n",
    "\n",
    "*where $p_{i}$ is the incident power in the $i$ th wavelength band, and $l_{i}, m_{i}$ and $s_{i}$ are nonnegative constants that describe the spectral responses of the different cones. The perceived color is a complex function of the three cone responses, i.e., the vector $\\left(L_{\\text {cone }}, M_{\\text {cone }}, S_{\\text {cone }}\\right),$ with different cone response vectors perceived as different colors. (Actual color perception is a bit more complicated than this, but the basic idea is right.)*"
   ]
  },
  {
   "cell_type": "markdown",
   "metadata": {},
   "source": [
    "### a)  Metamers\n",
    "*When are two light spectra, $p$ and $\\tilde{p},$ visually indistinguishable? (Visually identical lights with different spectral power compositions are called metamers.)*"
   ]
  },
  {
   "cell_type": "markdown",
   "metadata": {},
   "source": [
    "When the vector produced (L, M, S) is the same. When the A matrix A = (l m s)^T is not 1-1, has a null space larger than {0}"
   ]
  },
  {
   "cell_type": "markdown",
   "metadata": {},
   "source": [
    "### b) Visual color matching\n",
    "*In a color matching problem, an observer is shown a test light, and is asked to change the intensities of three primary lights until the sum of the primary lights looks like the test light. In other words, the observer is asked the find a spectrum of the form $p_{\\text {match }}=a_{1} u+a_{2} v+a_{3} w$ where $u, v, w$ are the spectra of the primary lights, and $a_{i}$ are the intensities to be found, that is visually indistinguishable from a given test light spectrum $p_{\\text {test. }}$ Can this always be done? Discuss briefly.*"
   ]
  },
  {
   "cell_type": "markdown",
   "metadata": {},
   "source": [
    "Only if the range R(A) lies in R3, the output space. This is a control problem, adjusting inputs to match a specific output. "
   ]
  },
  {
   "cell_type": "markdown",
   "metadata": {},
   "source": [
    "### c) Visual matching with phosphors\n",
    "*A computer monitor has three phosphors, R, G, and B.  It is desired to adjust the phosphor intensities to create a color that looks like a reference test light.  Find weights that achieve the match or explain why no such weights exist. The data for this problem is in color_perception_data.json, which contains the vectors wavelength,B_phosphor,G_phosphor,R_phosphor,L_coefficients,M_coefficients,S_coefficients, and test_light.*"
   ]
  },
  {
   "cell_type": "code",
   "execution_count": 92,
   "metadata": {},
   "outputs": [
    {
     "data": {
      "text/plain": [
       "Dict{Any,Any} with 10 entries:\n",
       "  \"test_light\"     => [58.2792, 42.3496, 51.5512, 33.3951, 43.2907, 22.595, 57.…\n",
       "  \"wavelength\"     => [380.0, 400.0, 420.0, 440.0, 460.0, 480.0, 500.0, 520.0, …\n",
       "  \"tungsten\"       => [20.0, 30.0, 40.0, 50.0, 60.0, 70.0, 80.0, 90.0, 100.0, 1…\n",
       "  \"L_coefficients\" => [0.12589, 0.079433, 0.1, 0.15849, 0.19953, 0.25119, 0.316…\n",
       "  \"M_coefficients\" => [0.15849, 0.14125, 0.14125, 0.25119, 0.31623, 0.39811, 0.…\n",
       "  \"G_phosphor\"     => [21.0, 23.0, 26.0, 30.0, 35.0, 45.0, 75.0, 90.0, 100.0, 9…\n",
       "  \"R_phosphor\"     => [15.0, 16.0, 17.0, 18.0, 19.0, 21.0, 23.0, 26.0, 30.0, 35…\n",
       "  \"B_phosphor\"     => [30.0, 35.0, 45.0, 75.0, 90.0, 100.0, 90.0, 75.0, 45.0, 3…\n",
       "  \"S_coefficients\" => [0.39811, 0.50119, 0.63096, 0.79433, 0.50119, 0.25119, 0.…\n",
       "  \"sunlight\"       => [40.0, 70.0, 100.0, 160.0, 240.0, 220.0, 180.0, 160.0, 18…"
      ]
     },
     "execution_count": 92,
     "metadata": {},
     "output_type": "execute_result"
    }
   ],
   "source": [
    "include(\"readclassjson.jl\")\n",
    "\n",
    "colors = readclassjson(\"data/color_perception_data.json\")"
   ]
  },
  {
   "cell_type": "code",
   "execution_count": 49,
   "metadata": {},
   "outputs": [],
   "source": [
    "test = colors[\"test_light\"]\n",
    "w = colors[\"wavelength\"]\n",
    "rgb = [colors[\"R_phosphor\"] colors[\"G_phosphor\"] colors[\"B_phosphor\"]]\n",
    "lms = [colors[\"L_coefficients\"] colors[\"M_coefficients\"] colors[\"S_coefficients\"]];"
   ]
  },
  {
   "cell_type": "code",
   "execution_count": 40,
   "metadata": {},
   "outputs": [
    {
     "data": {
      "text/plain": [
       "3-element Array{Float64,1}:\n",
       " 191.16611560329102\n",
       " 242.7872917703638\n",
       " 135.92624672925962"
      ]
     },
     "execution_count": 40,
     "metadata": {},
     "output_type": "execute_result"
    }
   ],
   "source": [
    "y = transpose(lms) * test"
   ]
  },
  {
   "cell_type": "code",
   "execution_count": 41,
   "metadata": {},
   "outputs": [
    {
     "data": {
      "text/plain": [
       "3×3 Array{Float64,2}:\n",
       " 145.555   254.398   197.777\n",
       " 148.341   333.869   278.369\n",
       "  55.7972   95.5058  194.713"
      ]
     },
     "execution_count": 41,
     "metadata": {},
     "output_type": "execute_result"
    }
   ],
   "source": [
    "A = transpose(lms) * rgb"
   ]
  },
  {
   "cell_type": "code",
   "execution_count": 47,
   "metadata": {},
   "outputs": [
    {
     "data": {
      "text/plain": [
       "3-element Array{Float64,1}:\n",
       " 0.4225929938835502\n",
       " 0.09874256378706159\n",
       " 0.5285525473174244"
      ]
     },
     "execution_count": 47,
     "metadata": {},
     "output_type": "execute_result"
    }
   ],
   "source": [
    "invA = inv(A)\n",
    "x = invA * y"
   ]
  },
  {
   "cell_type": "code",
   "execution_count": 52,
   "metadata": {},
   "outputs": [
    {
     "data": {
      "text/plain": [
       "3-element Array{Float64,1}:\n",
       " 191.16611560329105\n",
       " 242.78729177036385\n",
       " 135.92624672925962"
      ]
     },
     "execution_count": 52,
     "metadata": {},
     "output_type": "execute_result"
    }
   ],
   "source": [
    "A*x"
   ]
  },
  {
   "cell_type": "code",
   "execution_count": 51,
   "metadata": {},
   "outputs": [
    {
     "data": {
      "text/plain": [
       "true"
      ]
     },
     "execution_count": 51,
     "metadata": {},
     "output_type": "execute_result"
    }
   ],
   "source": [
    "isapprox(A*x,y)"
   ]
  },
  {
   "cell_type": "markdown",
   "metadata": {},
   "source": [
    "### d)\n",
    "Effects of illumination. An object's surface can be characterized by its reflectance ( $i . e .,$ the fraction of light it reflects) for each band of wavelengths. If the object is illuminated with a light spectrum characterized by $I_{i},$ and the reflectance of the object is $r_{i}($ which is between 0 and 1 ), then the reflected light spectrum is given by $I_{i} r_{i},$ where $i=1, \\ldots, 20$ denotes the wavelength band. Now consider two objects illuminated (at different times) by two different light sources, say an incandescent bulb and sunlight. Sally argues that if the two objects look identical when illuminated by a tungsten bulb, then they will look identical when illuminated by sunlight. Beth disagrees: she says that two objects can appear identical when illuminated by a tungsten bulb, but look different when lit by sunlight. Who is right? If Sally is right, explain why. If Beth is right give an example of two objects that appear identical under one light source and different under another. You can use the vectors sunlight and tungsten defined in the data file as the light\n",
    "sources."
   ]
  },
  {
   "cell_type": "code",
   "execution_count": 54,
   "metadata": {},
   "outputs": [],
   "source": [
    "tungsten = colors[\"tungsten\"]\n",
    "sunlight = colors[\"sunlight\"];"
   ]
  },
  {
   "cell_type": "code",
   "execution_count": 55,
   "metadata": {},
   "outputs": [
    {
     "data": {
      "text/plain": [
       "3-element Array{Float64,1}:\n",
       " 370.283327\n",
       " 425.851782523\n",
       " 142.47821435667242"
      ]
     },
     "execution_count": 55,
     "metadata": {},
     "output_type": "execute_result"
    }
   ],
   "source": [
    "transpose(lms) * tungsten"
   ]
  },
  {
   "cell_type": "code",
   "execution_count": 223,
   "metadata": {},
   "outputs": [],
   "source": [
    "B = transpose(lms);"
   ]
  },
  {
   "cell_type": "code",
   "execution_count": 229,
   "metadata": {},
   "outputs": [],
   "source": [
    "r1 = [repeat([0.5], 10) ; repeat([0.1], 10)]\n",
    "IR1 = (tungsten .* r1);"
   ]
  },
  {
   "cell_type": "code",
   "execution_count": 241,
   "metadata": {},
   "outputs": [],
   "source": [
    "nullVector = nullspace(B)[:,1];"
   ]
  },
  {
   "cell_type": "code",
   "execution_count": 238,
   "metadata": {},
   "outputs": [],
   "source": [
    "r2 = (IR1 - 50 .* nullVector) ./ tungsten\n",
    "IR2 = (tungsten .* r2);"
   ]
  },
  {
   "cell_type": "code",
   "execution_count": 246,
   "metadata": {},
   "outputs": [
    {
     "data": {
      "text/plain": [
       "false"
      ]
     },
     "execution_count": 246,
     "metadata": {},
     "output_type": "execute_result"
    }
   ],
   "source": [
    "isapprox(r1, r2)"
   ]
  },
  {
   "cell_type": "code",
   "execution_count": 242,
   "metadata": {},
   "outputs": [
    {
     "data": {
      "text/plain": [
       "3-element Array{Float64,1}:\n",
       " 124.82236869999998\n",
       " 173.2441382523\n",
       "  71.23471167566724"
      ]
     },
     "execution_count": 242,
     "metadata": {},
     "output_type": "execute_result"
    }
   ],
   "source": [
    "tungstenLook1 = B * IR1"
   ]
  },
  {
   "cell_type": "code",
   "execution_count": 243,
   "metadata": {},
   "outputs": [
    {
     "data": {
      "text/plain": [
       "3-element Array{Float64,1}:\n",
       " 124.82236869999997\n",
       " 173.2441382523\n",
       "  71.23471167566724"
      ]
     },
     "execution_count": 243,
     "metadata": {},
     "output_type": "execute_result"
    }
   ],
   "source": [
    "tungstenLook2 = B * IR2"
   ]
  },
  {
   "cell_type": "code",
   "execution_count": 244,
   "metadata": {},
   "outputs": [
    {
     "data": {
      "text/plain": [
       "true"
      ]
     },
     "execution_count": 244,
     "metadata": {},
     "output_type": "execute_result"
    }
   ],
   "source": [
    "isapprox(tungstenLook1, tungstenLook2)"
   ]
  },
  {
   "cell_type": "code",
   "execution_count": 245,
   "metadata": {},
   "outputs": [],
   "source": [
    "sun_IR1 = (sunlight .* r1);\n",
    "sun_IR2 = (sunlight .* r2);"
   ]
  },
  {
   "cell_type": "code",
   "execution_count": 247,
   "metadata": {},
   "outputs": [
    {
     "data": {
      "text/plain": [
       "3-element Array{Float64,1}:\n",
       " 247.85898313\n",
       " 359.8846318979\n",
       " 215.66132988271158"
      ]
     },
     "execution_count": 247,
     "metadata": {},
     "output_type": "execute_result"
    }
   ],
   "source": [
    "sunLook1 = B * sun_IR1"
   ]
  },
  {
   "cell_type": "code",
   "execution_count": 248,
   "metadata": {},
   "outputs": [
    {
     "data": {
      "text/plain": [
       "3-element Array{Float64,1}:\n",
       " 246.60513901099375\n",
       " 357.20225222205795\n",
       " 196.89366873222457"
      ]
     },
     "execution_count": 248,
     "metadata": {},
     "output_type": "execute_result"
    }
   ],
   "source": [
    "sunLook2 = B * sun_IR2"
   ]
  },
  {
   "cell_type": "code",
   "execution_count": 249,
   "metadata": {},
   "outputs": [
    {
     "data": {
      "text/plain": [
       "false"
      ]
     },
     "execution_count": 249,
     "metadata": {},
     "output_type": "execute_result"
    }
   ],
   "source": [
    "isapprox(sunLook1, sunLook2)"
   ]
  },
  {
   "cell_type": "code",
   "execution_count": null,
   "metadata": {},
   "outputs": [],
   "source": []
  },
  {
   "cell_type": "code",
   "execution_count": null,
   "metadata": {},
   "outputs": [],
   "source": []
  },
  {
   "cell_type": "markdown",
   "metadata": {},
   "source": [
    "## 3.430. Single sensor failure detection and identification\n",
    "Single sensor failure detection and identification. We have $y=A x,$ where $A \\in \\mathbb{R}^{m \\times n}$ is known, and $x \\in \\mathbb{R}^{n}$ is to be found. Unfortunately, up to one sensor may have failed (but you don't know which one has failed, or even whether any has failed). You are given $\\tilde{y}$ and not $y,$ where $\\tilde{y}$ is the same as $y$ in all entries except, possibly, one (say, the $k$ th entry). If all sensors are operating correctly, we have $y=\\tilde{y} .$ If the $k$ th sensor fails, we have $\\tilde{y}_{i}=y_{i}$ for all $i \\neq k$\n",
    "The file one_bad_sensor.m, available on the course web site, defines $A$ and $\\tilde{y}$ (as A and ytilde). Determine which sensor has failed (or if no sensors have failed). You must explain your method, and submit your code.\n",
    "\n",
    "For this exercise, you can use the matlab code rank ( $[\\mathrm{F}$ g] ) = rank (F) to check if $g \\in$ range $(F) .$ (We will see later a much better way to check if $g \\in \\operatorname{range}(F) .)$"
   ]
  },
  {
   "cell_type": "code",
   "execution_count": 145,
   "metadata": {},
   "outputs": [],
   "source": [
    "sensor = readclassjson(\"data/one_bad_sensor.json\")\n",
    "A = sensor[\"A\"]\n",
    "ytilde = sensor[\"ytilde\"];"
   ]
  },
  {
   "cell_type": "code",
   "execution_count": 261,
   "metadata": {},
   "outputs": [
    {
     "data": {
      "text/plain": [
       "(15, 10)"
      ]
     },
     "execution_count": 261,
     "metadata": {},
     "output_type": "execute_result"
    }
   ],
   "source": [
    "size(A)"
   ]
  },
  {
   "cell_type": "code",
   "execution_count": 262,
   "metadata": {},
   "outputs": [
    {
     "name": "stdout",
     "output_type": "stream",
     "text": [
      "rank(A) = 10\n",
      "rank(hcat(A, ytilde)) = 11\n"
     ]
    },
    {
     "data": {
      "text/plain": [
       "11"
      ]
     },
     "execution_count": 262,
     "metadata": {},
     "output_type": "execute_result"
    }
   ],
   "source": [
    "@show rank(A)\n",
    "@show rank(hcat(A,ytilde))"
   ]
  },
  {
   "cell_type": "code",
   "execution_count": 169,
   "metadata": {},
   "outputs": [],
   "source": [
    "round5(x) = round(x, digits=5);"
   ]
  },
  {
   "cell_type": "code",
   "execution_count": 170,
   "metadata": {},
   "outputs": [
    {
     "data": {
      "text/plain": [
       "15-element Array{Float64,1}:\n",
       "  0.2937\n",
       " -0.54803\n",
       "  0.00353\n",
       "  1.37586\n",
       " -6.75268\n",
       "  1.19049\n",
       "  8.7822\n",
       "  1.91197\n",
       " -1.46287\n",
       " -4.43363\n",
       " -1.72341\n",
       " -4.54749\n",
       " -0.10925\n",
       "  8.03353\n",
       "  1.78262"
      ]
     },
     "execution_count": 170,
     "metadata": {},
     "output_type": "execute_result"
    }
   ],
   "source": [
    "round5.(ytilde)"
   ]
  },
  {
   "cell_type": "code",
   "execution_count": 287,
   "metadata": {},
   "outputs": [
    {
     "data": {
      "text/plain": [
       "10×11 Array{Float64,2}:\n",
       "  1.16495    -0.360031    0.375042    …   0.438706   0.670293    0.293701\n",
       "  0.62684    -0.135577    1.12516        -1.24734    0.420147   -0.548031\n",
       "  0.0750806  -1.34934     0.728643        0.324668  -2.87275     0.00353264\n",
       "  0.351608   -1.27045    -2.37745         0.390071   1.68587     1.37586\n",
       " -0.696514    0.984571   -0.273783       -0.405139   0.0279256  -6.75268\n",
       "  1.69614    -0.0448816  -0.322941    …   0.292316  -0.902032    1.19049\n",
       "  0.0590606  -0.798946    0.317989        2.56591   -2.05326     8.7822\n",
       "  1.79707    -0.765173   -0.511173       -0.457817   0.0890866   1.91197\n",
       "  0.26407     0.861736   -0.00204164     -1.61083    2.0871     -1.46287\n",
       "  0.871674   -0.0562256   1.60651        -2.66952    0.365119   -4.43363"
      ]
     },
     "execution_count": 287,
     "metadata": {},
     "output_type": "execute_result"
    }
   ],
   "source": [
    "hcat(A[1:10, :], ytilde[1:10])"
   ]
  },
  {
   "cell_type": "code",
   "execution_count": null,
   "metadata": {},
   "outputs": [],
   "source": []
  },
  {
   "cell_type": "code",
   "execution_count": 266,
   "metadata": {},
   "outputs": [
    {
     "name": "stdout",
     "output_type": "stream",
     "text": [
      "rank(hcat(A[1:i, :], ytilde[1:i])) = 1\n",
      "rank(hcat(A[1:i, :], ytilde[1:i])) = 2\n",
      "rank(hcat(A[1:i, :], ytilde[1:i])) = 3\n",
      "rank(hcat(A[1:i, :], ytilde[1:i])) = 4\n",
      "rank(hcat(A[1:i, :], ytilde[1:i])) = 5\n",
      "rank(hcat(A[1:i, :], ytilde[1:i])) = 6\n",
      "rank(hcat(A[1:i, :], ytilde[1:i])) = 7\n",
      "rank(hcat(A[1:i, :], ytilde[1:i])) = 8\n",
      "rank(hcat(A[1:i, :], ytilde[1:i])) = 9\n",
      "rank(hcat(A[1:i, :], ytilde[1:i])) = 10\n",
      "rank(hcat(A[1:i, :], ytilde[1:i])) = 11\n",
      "rank(hcat(A[1:i, :], ytilde[1:i])) = 11\n",
      "rank(hcat(A[1:i, :], ytilde[1:i])) = 11\n",
      "rank(hcat(A[1:i, :], ytilde[1:i])) = 11\n",
      "rank(hcat(A[1:i, :], ytilde[1:i])) = 11\n"
     ]
    }
   ],
   "source": [
    "for i = 1:size(A)[1]\n",
    "    @show rank(hcat(A[1:i, :],ytilde[1:i]))\n",
    "#     @show size(A[1:end .!= i, :])\n",
    "#     @show size(ytilde[1:end .!= i])\n",
    "end"
   ]
  },
  {
   "cell_type": "code",
   "execution_count": 311,
   "metadata": {},
   "outputs": [
    {
     "data": {
      "text/plain": [
       "15-element BitArray{1}:\n",
       " 1\n",
       " 1\n",
       " 1\n",
       " 0\n",
       " 0\n",
       " 0\n",
       " 0\n",
       " 0\n",
       " 0\n",
       " 0\n",
       " 0\n",
       " 0\n",
       " 0\n",
       " 0\n",
       " 0"
      ]
     },
     "execution_count": 311,
     "metadata": {},
     "output_type": "execute_result"
    }
   ],
   "source": [
    "1:15 .∈ [[1,2,3]]"
   ]
  },
  {
   "cell_type": "code",
   "execution_count": 326,
   "metadata": {},
   "outputs": [
    {
     "name": "stdout",
     "output_type": "stream",
     "text": [
      "rank(hcat(A_prime, y_prime)) = 11\n",
      "rank(hcat(A_prime, y_prime)) = 11\n",
      "rank(hcat(A_prime, y_prime)) = 11\n",
      "rank(hcat(A_prime, y_prime)) = 11\n",
      "rank(hcat(A_prime, y_prime)) = 11\n",
      "rank(hcat(A_prime, y_prime)) = 11\n",
      "rank(hcat(A_prime, y_prime)) = 11\n",
      "rank(hcat(A_prime, y_prime)) = 11\n",
      "rank(hcat(A_prime, y_prime)) = 11\n",
      "rank(hcat(A_prime, y_prime)) = 11\n",
      "rank(hcat(A_prime, y_prime)) = 11\n",
      "rank(hcat(A_prime, y_prime)) = 11\n",
      "rank(hcat(A_prime, y_prime)) = 11\n",
      "rank(hcat(A_prime, y_prime)) = 11\n",
      "rank(hcat(A_prime, y_prime)) = 11\n"
     ]
    }
   ],
   "source": [
    "for i = 1:size(A)[1]\n",
    "#     A_prime = A[1:end .!= i, :]\n",
    "#     y_prime = ytilde[1:end .!= i]\n",
    "    idx = 1:15 .∉ [[i-2,i-1, i, i+1]]\n",
    "    A_prime = A[idx, :]\n",
    "    y_prime = ytilde[idx]\n",
    " \n",
    "#     @show 1:15 .!= i\n",
    "#     @show rank(hcat(A_prime,y_prime))\n",
    "#     @show size(y_prime)\n",
    "    if rank(hcat(A_prime,y_prime)) == rank(A_prime)\n",
    "        println(i)\n",
    "#         println(rank(hcat(A_prime,y_prime)))\n",
    "#         println(rank(A_prime))\n",
    "    end\n",
    "\n",
    "\n",
    "end\n"
   ]
  },
  {
   "cell_type": "code",
   "execution_count": 322,
   "metadata": {},
   "outputs": [
    {
     "data": {
      "text/plain": [
       "15-element BitArray{1}:\n",
       " 0\n",
       " 0\n",
       " 1\n",
       " 1\n",
       " 1\n",
       " 1\n",
       " 1\n",
       " 1\n",
       " 1\n",
       " 1\n",
       " 1\n",
       " 1\n",
       " 1\n",
       " 1\n",
       " 1"
      ]
     },
     "execution_count": 322,
     "metadata": {},
     "output_type": "execute_result"
    }
   ],
   "source": [
    "1:15 .∉ [[i-2, i-1, i, i+1]]"
   ]
  },
  {
   "cell_type": "code",
   "execution_count": 323,
   "metadata": {},
   "outputs": [
    {
     "data": {
      "text/plain": [
       "13-element Array{Float64,1}:\n",
       "  0.00353264\n",
       "  1.37586064\n",
       " -6.75268364\n",
       "  1.19048564\n",
       "  8.78219664\n",
       "  1.91197364\n",
       " -1.46286864\n",
       " -4.43362564\n",
       " -1.72340564\n",
       " -4.54749364\n",
       " -0.10924664\n",
       "  8.03352764\n",
       "  1.78262064"
      ]
     },
     "execution_count": 323,
     "metadata": {},
     "output_type": "execute_result"
    }
   ],
   "source": [
    "A_prime = A[1:15 .∉ [[i-2,i-1, i, i+1]], :]\n",
    "y_prime = ytilde[1:15 .∉ [[i-2, i-1, i, i+1]]]"
   ]
  },
  {
   "cell_type": "code",
   "execution_count": null,
   "metadata": {},
   "outputs": [],
   "source": []
  }
 ],
 "metadata": {
  "kernelspec": {
   "display_name": "Julia 1.5.1",
   "language": "julia",
   "name": "julia-1.5"
  },
  "language_info": {
   "file_extension": ".jl",
   "mimetype": "application/julia",
   "name": "julia",
   "version": "1.5.1"
  }
 },
 "nbformat": 4,
 "nbformat_minor": 4
}
