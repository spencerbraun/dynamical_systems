{
 "cells": [
  {
   "cell_type": "code",
   "execution_count": 2,
   "metadata": {},
   "outputs": [],
   "source": [
    "using Plots\n",
    "using Statistics\n",
    "using LinearAlgebra\n",
    "using JSON\n",
    "\n",
    "include(\"readclassjson.jl\");"
   ]
  },
  {
   "cell_type": "markdown",
   "metadata": {},
   "source": [
    "## 4.600 Sensor integrity monitor. \n",
    "A matrix $B \\in \\mathbb{R}^{k \\times m}$ is called an integrity monitor if the following holds:\n",
    "    \n",
    "* $B y=0$ for any $y$ which is consistent.\n",
    "* $B y \\neq 0$ for any $y$ which is inconsistent.\n",
    "\n",
    "If we find such a matrix $B,$ we can quickly check whether $y$ is consistent; we can send an alarm if $B y \\neq 0 .$ Note that the first requirement says that every consistent $y$ does not trip the alarm; the second requirement states that every inconsistent $y$ does trip the alarm. Finally, the problem. Find an integrity monitor $B$ for the matrix $A=\\left[\\begin{array}{ccc}1 & 2 & 1 \\\\ 1 & -1 & -2 \\\\ -2 & 1 & 3 \\\\ 1 & -1 & -2 \\\\ 1 & 1 & 0\\end{array}\\right]$ Your $B$ should have the smallest $k$ ( $i . e .,$ number of rows ) as possible. As usual, you have to explain what you're doing, as well as giving us your explicit matrix $B$. You must also verify that the matrix you choose satisfies the requirements."
   ]
  },
  {
   "cell_type": "code",
   "execution_count": 3,
   "metadata": {},
   "outputs": [
    {
     "data": {
      "text/plain": [
       "5×3 Array{Int64,2}:\n",
       "  1   2   1\n",
       "  1  -1  -2\n",
       " -2   1   3\n",
       "  1  -1  -2\n",
       "  1   1   0"
      ]
     },
     "execution_count": 3,
     "metadata": {},
     "output_type": "execute_result"
    }
   ],
   "source": [
    "A = [1 2 1; 1 -1 -2 ; -2 1 3; 1 -1 -2; 1 1 0]"
   ]
  },
  {
   "cell_type": "markdown",
   "metadata": {},
   "source": [
    "When we perform a full QR decomposition of the matrix A, we are left with $A=\\left[\\begin{array}{ll} Q_{1} & Q_{2} \\end{array}\\right]\\left[\\begin{array}{c} R_{1} \\\\ 0 \\end{array}\\right]$. The matrix product of $Q_1$ and $R_1$ fully reconstructs A while $Q_2$ is an orthogonal complement to $Q_1$ such that $R(Q_1) \\perp R(Q_2)$. Therefore any output generated via the matrix $Q_1$ will lie in the range of $Q_1$ and will also be orthogonal to any vector in the range of $Q_2$. From these facts, it seems clear what needs to be done. Since $Ax = Q_1R_1x$ then $R(A) = R(Q_1R_1) \\subset R(Q_1)$, meaning any y in $R(Ax)$ is also in the range of $Q_1$ and is therefore orthogonal to $R(Q_2)$. If we write this as $y \\perp Q_2x \\implies Q_2^Ty \\perp Q_2^TQ_2x \\implies Q_2^Ty \\perp x$. Therefore $Q_2^T$ is a suitable B - since $R(Q_1) \\perp R(Q_2)$ and $R(Q_1) + R(Q_2)$ span $R^m = R^5$, capturing every y either consistent with $Ax$ (in $R(Q_1)$) or inconsistent (in $R(Q_2)$). Finally, we can note that B has the minimum number of rows - in order to capture every inconsistent y, we need $R(Q_1) + R(Q_2)$ to span $R^5$, which requires two vectors in B."
   ]
  },
  {
   "cell_type": "code",
   "execution_count": 24,
   "metadata": {},
   "outputs": [],
   "source": [
    "F = qr(A);"
   ]
  },
  {
   "cell_type": "markdown",
   "metadata": {},
   "source": [
    "Extract pieces of QR"
   ]
  },
  {
   "cell_type": "code",
   "execution_count": 53,
   "metadata": {},
   "outputs": [],
   "source": [
    "R1 = F.R\n",
    "Q1 = F.Q[:,1:3]\n",
    "Q2 = F.Q[:,4:5];"
   ]
  },
  {
   "cell_type": "code",
   "execution_count": 54,
   "metadata": {},
   "outputs": [
    {
     "data": {
      "text/plain": [
       "5-element Array{Int64,1}:\n",
       "  8\n",
       " -7\n",
       "  9\n",
       " -7\n",
       "  3"
      ]
     },
     "execution_count": 54,
     "metadata": {},
     "output_type": "execute_result"
    }
   ],
   "source": [
    "x = 1:3\n",
    "Ax = A * x"
   ]
  },
  {
   "cell_type": "code",
   "execution_count": 57,
   "metadata": {},
   "outputs": [
    {
     "data": {
      "text/plain": [
       "3×2 Array{Float64,2}:\n",
       " -1.66533e-16   5.55112e-16\n",
       "  6.28345e-17   4.06481e-16\n",
       "  1.4099e-16   -3.57041e-16"
      ]
     },
     "execution_count": 57,
     "metadata": {},
     "output_type": "execute_result"
    }
   ],
   "source": [
    "transpose(R1) * transpose(Q1) * Q2"
   ]
  },
  {
   "cell_type": "code",
   "execution_count": 61,
   "metadata": {},
   "outputs": [
    {
     "data": {
      "text/plain": [
       "2×5 Transpose{Float64,Array{Float64,2}}:\n",
       "  0.0894036  -0.1348    0.459174    0.868262   0.0954814\n",
       " -0.536989   -0.112889  0.0502894  -0.0801713  0.830628"
      ]
     },
     "execution_count": 61,
     "metadata": {},
     "output_type": "execute_result"
    }
   ],
   "source": [
    "B = transpose(Q2)"
   ]
  },
  {
   "cell_type": "markdown",
   "metadata": {},
   "source": [
    "For a consistent y = Ax, By outputs zero."
   ]
  },
  {
   "cell_type": "code",
   "execution_count": 59,
   "metadata": {},
   "outputs": [
    {
     "data": {
      "text/plain": [
       "true"
      ]
     },
     "execution_count": 59,
     "metadata": {},
     "output_type": "execute_result"
    }
   ],
   "source": [
    "abs(sum(B * Ax)) < 1e-15"
   ]
  },
  {
   "cell_type": "code",
   "execution_count": 48,
   "metadata": {},
   "outputs": [
    {
     "data": {
      "text/plain": [
       "5-element Array{Int64,1}:\n",
       "  8\n",
       " -7\n",
       "  9\n",
       " -7\n",
       "  3"
      ]
     },
     "execution_count": 48,
     "metadata": {},
     "output_type": "execute_result"
    }
   ],
   "source": [
    "y = Ax "
   ]
  },
  {
   "cell_type": "markdown",
   "metadata": {},
   "source": [
    "For an inconsistent y, B does not output 0"
   ]
  },
  {
   "cell_type": "code",
   "execution_count": 50,
   "metadata": {},
   "outputs": [
    {
     "data": {
      "text/plain": [
       "1"
      ]
     },
     "execution_count": 50,
     "metadata": {},
     "output_type": "execute_result"
    }
   ],
   "source": [
    "y[3] = 1"
   ]
  },
  {
   "cell_type": "code",
   "execution_count": 52,
   "metadata": {},
   "outputs": [
    {
     "data": {
      "text/plain": [
       "2-element Array{Float64,1}:\n",
       " -3.673389302509566\n",
       " -0.4023148392043048"
      ]
     },
     "execution_count": 52,
     "metadata": {},
     "output_type": "execute_result"
    }
   ],
   "source": [
    "B * y"
   ]
  },
  {
   "cell_type": "code",
   "execution_count": null,
   "metadata": {},
   "outputs": [],
   "source": []
  }
 ],
 "metadata": {
  "kernelspec": {
   "display_name": "Julia 1.5.1",
   "language": "julia",
   "name": "julia-1.5"
  },
  "language_info": {
   "file_extension": ".jl",
   "mimetype": "application/julia",
   "name": "julia",
   "version": "1.5.1"
  }
 },
 "nbformat": 4,
 "nbformat_minor": 4
}
