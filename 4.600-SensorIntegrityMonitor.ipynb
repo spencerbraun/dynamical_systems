{
 "cells": [
  {
   "cell_type": "code",
   "execution_count": 2,
   "metadata": {},
   "outputs": [],
   "source": [
    "using Plots\n",
    "using Statistics\n",
    "using LinearAlgebra\n",
    "using JSON\n",
    "\n",
    "include(\"readclassjson.jl\");"
   ]
  },
  {
   "cell_type": "markdown",
   "metadata": {},
   "source": [
    "## 4.600 Sensor integrity monitor. \n",
    "A matrix $B \\in \\mathbb{R}^{k \\times m}$ is called an integrity monitor if the following holds:\n",
    "    \n",
    "* $B y=0$ for any $y$ which is consistent.\n",
    "* $B y \\neq 0$ for any $y$ which is inconsistent.\n",
    "\n",
    "If we find such a matrix $B,$ we can quickly check whether $y$ is consistent; we can send an alarm if $B y \\neq 0 .$ Note that the first requirement says that every consistent $y$ does not trip the alarm; the second requirement states that every inconsistent $y$ does trip the alarm. Finally, the problem. Find an integrity monitor $B$ for the matrix $A=\\left[\\begin{array}{ccc}1 & 2 & 1 \\\\ 1 & -1 & -2 \\\\ -2 & 1 & 3 \\\\ 1 & -1 & -2 \\\\ 1 & 1 & 0\\end{array}\\right]$ Your $B$ should have the smallest $k$ ( $i . e .,$ number of rows ) as possible. As usual, you have to explain what you're doing, as well as giving us your explicit matrix $B$. You must also verify that the matrix you choose satisfies the requirements."
   ]
  },
  {
   "cell_type": "code",
   "execution_count": 3,
   "metadata": {},
   "outputs": [
    {
     "data": {
      "text/plain": [
       "5×3 Array{Int64,2}:\n",
       "  1   2   1\n",
       "  1  -1  -2\n",
       " -2   1   3\n",
       "  1  -1  -2\n",
       "  1   1   0"
      ]
     },
     "execution_count": 3,
     "metadata": {},
     "output_type": "execute_result"
    }
   ],
   "source": [
    "A = [1 2 1; 1 -1 -2 ; -2 1 3; 1 -1 -2; 1 1 0]"
   ]
  },
  {
   "cell_type": "markdown",
   "metadata": {},
   "source": [
    "* When we perform a full QR decomposition of the matrix A, we are left with $A=\\left[\\begin{array}{ll} Q_{1} & Q_{2} \\end{array}\\right]\\left[\\begin{array}{c} R_{1} \\\\ 0 \\end{array}\\right]$. The matrix product of $Q_1$ and $R_1$ fully reconstructs A while $Q_2$ is an orthogonal complement to $Q_1$ such that $R(Q_1) \\perp R(Q_2)$. \n",
    "* Therefore any output generated via the matrix $Q_1$ will lie in the range of $Q_1$ and will also be orthogonal to any vector in the range of $Q_2$. From these facts, it seems clear what needs to be done. Since $Ax = Q_1R_1x$ then $R(A) = R(Q_1R_1) \\subset R(Q_1)$. Any y in $R(Ax)$ is also in $R(Q_1)$ and is orthogonal to $R(Q_2)$. \n",
    "* If we write this as $y \\perp Q_2x \\implies Q_2^Ty \\perp Q_2^TQ_2x \\implies Q_2^Ty \\perp x$. \n",
    "* Therefore $Q_2^T$ is a suitable B. Note B is has the minimum number of rows needed to produce 0 for any $y \\in R(Q_1)$ since $R(Q_1) \\perp R(Q_2)$ and $R(Q_1) + R(Q_2)$ span $R^m = R^5$. This allows us to capture every y either consistent with $Ax$ (in $R(Q_1)$) or inconsistent (in $R(Q_2)$) in all of $R^5$."
   ]
  },
  {
   "cell_type": "code",
   "execution_count": 24,
   "metadata": {},
   "outputs": [],
   "source": [
    "F = qr(A);"
   ]
  },
  {
   "cell_type": "markdown",
   "metadata": {},
   "source": [
    "Extract pieces of QR"
   ]
  },
  {
   "cell_type": "code",
   "execution_count": 53,
   "metadata": {},
   "outputs": [],
   "source": [
    "R1 = F.R\n",
    "Q1 = F.Q[:,1:3]\n",
    "Q2 = F.Q[:,4:5];"
   ]
  },
  {
   "cell_type": "markdown",
   "metadata": {},
   "source": [
    "Create example y"
   ]
  },
  {
   "cell_type": "code",
   "execution_count": 73,
   "metadata": {},
   "outputs": [
    {
     "data": {
      "text/plain": [
       "true"
      ]
     },
     "execution_count": 73,
     "metadata": {},
     "output_type": "execute_result"
    }
   ],
   "source": [
    "x = 1:3\n",
    "y = A * x\n",
    "rank(hcat(A, y)) == rank(A)"
   ]
  },
  {
   "cell_type": "code",
   "execution_count": 61,
   "metadata": {},
   "outputs": [
    {
     "data": {
      "text/plain": [
       "2×5 Transpose{Float64,Array{Float64,2}}:\n",
       "  0.0894036  -0.1348    0.459174    0.868262   0.0954814\n",
       " -0.536989   -0.112889  0.0502894  -0.0801713  0.830628"
      ]
     },
     "execution_count": 61,
     "metadata": {},
     "output_type": "execute_result"
    }
   ],
   "source": [
    "B = transpose(Q2)"
   ]
  },
  {
   "cell_type": "markdown",
   "metadata": {},
   "source": [
    "For a consistent $y = Ax$, $By$ outputs zero."
   ]
  },
  {
   "cell_type": "code",
   "execution_count": 74,
   "metadata": {},
   "outputs": [
    {
     "data": {
      "text/plain": [
       "true"
      ]
     },
     "execution_count": 74,
     "metadata": {},
     "output_type": "execute_result"
    }
   ],
   "source": [
    "abs(sum(B * y)) < 1e-15"
   ]
  },
  {
   "cell_type": "markdown",
   "metadata": {},
   "source": [
    "For an inconsistent y, B does not output 0"
   ]
  },
  {
   "cell_type": "code",
   "execution_count": 75,
   "metadata": {},
   "outputs": [
    {
     "data": {
      "text/plain": [
       "false"
      ]
     },
     "execution_count": 75,
     "metadata": {},
     "output_type": "execute_result"
    }
   ],
   "source": [
    "y[3] = 1\n",
    "rank(hcat(A, y)) == rank(A)"
   ]
  },
  {
   "cell_type": "code",
   "execution_count": 76,
   "metadata": {},
   "outputs": [
    {
     "data": {
      "text/plain": [
       "2-element Array{Float64,1}:\n",
       " -3.673389302509566\n",
       " -0.4023148392043048"
      ]
     },
     "execution_count": 76,
     "metadata": {},
     "output_type": "execute_result"
    }
   ],
   "source": [
    "B * y"
   ]
  },
  {
   "cell_type": "code",
   "execution_count": null,
   "metadata": {},
   "outputs": [],
   "source": []
  }
 ],
 "metadata": {
  "kernelspec": {
   "display_name": "Julia 1.5.1",
   "language": "julia",
   "name": "julia-1.5"
  },
  "language_info": {
   "file_extension": ".jl",
   "mimetype": "application/julia",
   "name": "julia",
   "version": "1.5.1"
  }
 },
 "nbformat": 4,
 "nbformat_minor": 4
}
