{
 "cells": [
  {
   "cell_type": "code",
   "execution_count": 1,
   "metadata": {},
   "outputs": [],
   "source": [
    "using Plots\n",
    "using Statistics\n",
    "using LinearAlgebra\n",
    "using JSON\n",
    "\n",
    "include(\"readclassjson.jl\");"
   ]
  },
  {
   "cell_type": "code",
   "execution_count": 2,
   "metadata": {},
   "outputs": [],
   "source": [
    "# ; wget http://ee263.stanford.edu/hw/sector_neutral_portfolio_data.json -P data"
   ]
  },
  {
   "cell_type": "markdown",
   "metadata": {},
   "source": [
    "## 8.1320 Sector Neutral Portfolio\n",
    "\n",
    "Using the data given in sector_neutral_portfolio_data.m, find the optimal portfolio. Report the associated values of $r$ (the return), and $R^{\\text {id }}$ (the idiosyncratic risk). Verify that $\\mathbf{1}^{\\top} x=1$ (or very close) and $R^{\\text {fact }}=0$ (or very small)."
   ]
  },
  {
   "cell_type": "code",
   "execution_count": 4,
   "metadata": {},
   "outputs": [
    {
     "data": {
      "text/plain": [
       "Dict{Any,Any} with 6 entries:\n",
       "  \"n\"      => 40\n",
       "  \"k\"      => 10\n",
       "  \"lambda\" => 0.1\n",
       "  \"sigmas\" => [0.241203, 0.0983616, 0.088924, 0.317671, 0.270963, 0.429772, 0.3…\n",
       "  \"F\"      => [0.0 0.451333 … 0.0 -0.603425; -0.698396 0.0 … 0.0 0.0; … ; 0.0 0…\n",
       "  \"mu\"     => [-0.00572421, -0.0573826, -0.0206606, 0.0395495, 0.0638035, -0.03…"
      ]
     },
     "execution_count": 4,
     "metadata": {},
     "output_type": "execute_result"
    }
   ],
   "source": [
    "portfolio = readclassjson(\"data/sector_neutral_portfolio_data.json\")"
   ]
  },
  {
   "cell_type": "code",
   "execution_count": 43,
   "metadata": {},
   "outputs": [],
   "source": [
    "Sigma = diagm(portfolio[\"sigmas\"].^2)\n",
    "F = portfolio[\"F\"]\n",
    "mu = portfolio[\"mu\"]\n",
    "lambda = portfolio[\"lambda\"];"
   ]
  },
  {
   "cell_type": "code",
   "execution_count": 45,
   "metadata": {},
   "outputs": [
    {
     "data": {
      "text/plain": [
       "51×51 Array{Float64,2}:\n",
       "  0.0116357  0.0        0.0         …  -0.0        -0.0  -0.0       -1.0\n",
       "  0.0        0.001935   0.0            -0.0        -0.0  -0.0       -1.0\n",
       "  0.0        0.0        0.00158149     -0.0        -0.0  -0.0       -1.0\n",
       "  0.0        0.0        0.0            -0.0        -0.0  -0.0       -1.0\n",
       "  0.0        0.0        0.0            -0.0528412  -0.0   0.424021  -1.0\n",
       "  0.0        0.0        0.0         …  -0.0        -0.0  -0.0       -1.0\n",
       "  0.0        0.0        0.0            -0.0558597  -0.0   1.16128   -1.0\n",
       "  0.0        0.0        0.0            -0.0        -0.0   0.983514  -1.0\n",
       "  0.0        0.0        0.0            -0.0        -0.0  -0.0       -1.0\n",
       "  0.0        0.0        0.0            -0.0        -0.0   0.462388  -1.0\n",
       "  0.0        0.0        0.0         …  -0.0        -0.0  -0.0       -1.0\n",
       "  0.0        0.0        0.0            -1.8053     -0.0  -0.0       -1.0\n",
       "  0.0        0.0        0.0            -0.0        -0.0  -0.0       -1.0\n",
       "  ⋮                                 ⋱                                ⋮\n",
       "  0.0        0.0        0.0            -0.0        -0.0  -0.0       -1.0\n",
       "  0.0        0.451333   0.0         …   0.0         0.0   0.0        0.0\n",
       " -0.698396   0.0        0.0             0.0         0.0   0.0        0.0\n",
       "  0.0        0.0        0.0             0.0         0.0   0.0        0.0\n",
       "  1.64952    0.0        0.0             0.0         0.0   0.0        0.0\n",
       "  0.0        0.0        0.0             0.0         0.0   0.0        0.0\n",
       "  0.0        0.0        0.0         …   0.0         0.0   0.0        0.0\n",
       "  0.0        0.0       -1.66494         0.0         0.0   0.0        0.0\n",
       "  0.0        0.0        0.0             0.0         0.0   0.0        0.0\n",
       "  0.0        0.0        0.0             0.0         0.0   0.0        0.0\n",
       "  0.0        0.0        0.0             0.0         0.0   0.0        0.0\n",
       "  1.0        1.0        1.0         …   0.0         0.0   0.0        0.0"
      ]
     },
     "execution_count": 45,
     "metadata": {},
     "output_type": "execute_result"
    }
   ],
   "source": [
    "A = [\n",
    "    2 * lambda .* Sigma -1 .*transpose(F) -1 .*ones(40,1) ; \n",
    "    F zeros(10,10) zeros(10,1) ;\n",
    "    ones(1, 40) zeros(1, 10) zeros(1, 1)\n",
    "]"
   ]
  },
  {
   "cell_type": "code",
   "execution_count": 46,
   "metadata": {},
   "outputs": [],
   "source": [
    "b = [\n",
    "    mu ;\n",
    "    zeros(10, 1) ;\n",
    "    1\n",
    "];"
   ]
  },
  {
   "cell_type": "code",
   "execution_count": 47,
   "metadata": {},
   "outputs": [
    {
     "data": {
      "text/plain": [
       "51"
      ]
     },
     "execution_count": 47,
     "metadata": {},
     "output_type": "execute_result"
    }
   ],
   "source": [
    "rank(A)"
   ]
  },
  {
   "cell_type": "code",
   "execution_count": 48,
   "metadata": {},
   "outputs": [],
   "source": [
    "z = A \\ b;"
   ]
  },
  {
   "cell_type": "code",
   "execution_count": 49,
   "metadata": {},
   "outputs": [
    {
     "data": {
      "text/plain": [
       "0.019669778165957906"
      ]
     },
     "execution_count": 49,
     "metadata": {},
     "output_type": "execute_result"
    }
   ],
   "source": [
    "x = z[1:40]\n",
    "alpha = z[41:50]\n",
    "beta = z[end]"
   ]
  },
  {
   "cell_type": "markdown",
   "metadata": {},
   "source": [
    "Checks"
   ]
  },
  {
   "cell_type": "code",
   "execution_count": 50,
   "metadata": {},
   "outputs": [
    {
     "data": {
      "text/plain": [
       "1.0000000000000058"
      ]
     },
     "execution_count": 50,
     "metadata": {},
     "output_type": "execute_result"
    }
   ],
   "source": [
    "sum(x)"
   ]
  },
  {
   "cell_type": "code",
   "execution_count": 51,
   "metadata": {},
   "outputs": [
    {
     "data": {
      "text/plain": [
       "3.854828800208144e-15"
      ]
     },
     "execution_count": 51,
     "metadata": {},
     "output_type": "execute_result"
    }
   ],
   "source": [
    "norm(F * x)"
   ]
  },
  {
   "cell_type": "markdown",
   "metadata": {},
   "source": [
    "Objective"
   ]
  },
  {
   "cell_type": "code",
   "execution_count": 52,
   "metadata": {},
   "outputs": [
    {
     "data": {
      "text/plain": [
       "13.343302630323738"
      ]
     },
     "execution_count": 52,
     "metadata": {},
     "output_type": "execute_result"
    }
   ],
   "source": [
    "transpose(mu)*x - lambda .* (transpose(x) * Sigma * x)"
   ]
  },
  {
   "cell_type": "markdown",
   "metadata": {},
   "source": [
    "Return"
   ]
  },
  {
   "cell_type": "code",
   "execution_count": 53,
   "metadata": {},
   "outputs": [
    {
     "data": {
      "text/plain": [
       "26.706275038813427"
      ]
     },
     "execution_count": 53,
     "metadata": {},
     "output_type": "execute_result"
    }
   ],
   "source": [
    "r = transpose(mu)*x"
   ]
  },
  {
   "cell_type": "markdown",
   "metadata": {},
   "source": [
    "$R^{id}$"
   ]
  },
  {
   "cell_type": "code",
   "execution_count": 54,
   "metadata": {},
   "outputs": [
    {
     "data": {
      "text/plain": [
       "133.62972408489688"
      ]
     },
     "execution_count": 54,
     "metadata": {},
     "output_type": "execute_result"
    }
   ],
   "source": [
    "Rid = transpose(x) * Sigma * x"
   ]
  },
  {
   "cell_type": "code",
   "execution_count": null,
   "metadata": {},
   "outputs": [],
   "source": []
  }
 ],
 "metadata": {
  "kernelspec": {
   "display_name": "Julia 1.5.1",
   "language": "julia",
   "name": "julia-1.5"
  },
  "language_info": {
   "file_extension": ".jl",
   "mimetype": "application/julia",
   "name": "julia",
   "version": "1.5.1"
  }
 },
 "nbformat": 4,
 "nbformat_minor": 4
}
