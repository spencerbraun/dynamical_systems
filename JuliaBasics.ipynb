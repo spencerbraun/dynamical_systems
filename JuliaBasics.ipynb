{
 "cells": [
  {
   "cell_type": "code",
   "execution_count": 2,
   "metadata": {},
   "outputs": [
    {
     "data": {
      "text/plain": [
       "2"
      ]
     },
     "execution_count": 2,
     "metadata": {},
     "output_type": "execute_result"
    }
   ],
   "source": [
    "x = 1 + 1"
   ]
  },
  {
   "cell_type": "code",
   "execution_count": 7,
   "metadata": {},
   "outputs": [
    {
     "data": {
      "text/plain": [
       "'x': ASCII/Unicode U+0078 (category Ll: Letter, lowercase)"
      ]
     },
     "execution_count": 7,
     "metadata": {},
     "output_type": "execute_result"
    }
   ],
   "source": [
    "\"x\"[1]"
   ]
  },
  {
   "cell_type": "code",
   "execution_count": 16,
   "metadata": {},
   "outputs": [
    {
     "data": {
      "text/plain": [
       "\"xxxxc\""
      ]
     },
     "execution_count": 16,
     "metadata": {},
     "output_type": "execute_result"
    }
   ],
   "source": [
    "SubString(\"xxxxxcxxx\", 2, 6)"
   ]
  },
  {
   "cell_type": "code",
   "execution_count": 17,
   "metadata": {},
   "outputs": [
    {
     "name": "stdout",
     "output_type": "stream",
     "text": [
      "search: \u001b[0m\u001b[1mS\u001b[22m\u001b[0m\u001b[1mu\u001b[22m\u001b[0m\u001b[1mb\u001b[22m\u001b[0m\u001b[1mS\u001b[22m\u001b[0m\u001b[1mt\u001b[22m\u001b[0m\u001b[1mr\u001b[22m\u001b[0m\u001b[1mi\u001b[22m\u001b[0m\u001b[1mn\u001b[22m\u001b[0m\u001b[1mg\u001b[22m \u001b[0m\u001b[1mS\u001b[22m\u001b[0m\u001b[1mu\u001b[22m\u001b[0m\u001b[1mb\u001b[22m\u001b[0m\u001b[1ms\u001b[22m\u001b[0m\u001b[1mt\u001b[22mitutionSt\u001b[0m\u001b[1mr\u001b[22m\u001b[0m\u001b[1mi\u001b[22m\u001b[0m\u001b[1mn\u001b[22m\u001b[0m\u001b[1mg\u001b[22m\n",
      "\n"
     ]
    },
    {
     "data": {
      "text/latex": [
       "\\begin{verbatim}\n",
       "SubString(s::AbstractString, i::Integer, j::Integer=lastindex(s))\n",
       "SubString(s::AbstractString, r::UnitRange{<:Integer})\n",
       "\\end{verbatim}\n",
       "Like \\href{@ref}{\\texttt{getindex}}, but returns a view into the parent string \\texttt{s} within range \\texttt{i:j} or \\texttt{r} respectively instead of making a copy.\n",
       "\n",
       "\\section{Examples}\n",
       "\\begin{verbatim}\n",
       "julia> SubString(\"abc\", 1, 2)\n",
       "\"ab\"\n",
       "\n",
       "julia> SubString(\"abc\", 1:2)\n",
       "\"ab\"\n",
       "\n",
       "julia> SubString(\"abc\", 2)\n",
       "\"bc\"\n",
       "\\end{verbatim}\n"
      ],
      "text/markdown": [
       "```\n",
       "SubString(s::AbstractString, i::Integer, j::Integer=lastindex(s))\n",
       "SubString(s::AbstractString, r::UnitRange{<:Integer})\n",
       "```\n",
       "\n",
       "Like [`getindex`](@ref), but returns a view into the parent string `s` within range `i:j` or `r` respectively instead of making a copy.\n",
       "\n",
       "# Examples\n",
       "\n",
       "```jldoctest\n",
       "julia> SubString(\"abc\", 1, 2)\n",
       "\"ab\"\n",
       "\n",
       "julia> SubString(\"abc\", 1:2)\n",
       "\"ab\"\n",
       "\n",
       "julia> SubString(\"abc\", 2)\n",
       "\"bc\"\n",
       "```\n"
      ],
      "text/plain": [
       "\u001b[36m  SubString(s::AbstractString, i::Integer, j::Integer=lastindex(s))\u001b[39m\n",
       "\u001b[36m  SubString(s::AbstractString, r::UnitRange{<:Integer})\u001b[39m\n",
       "\n",
       "  Like \u001b[36mgetindex\u001b[39m, but returns a view into the parent string \u001b[36ms\u001b[39m within range \u001b[36mi:j\u001b[39m\n",
       "  or \u001b[36mr\u001b[39m respectively instead of making a copy.\n",
       "\n",
       "\u001b[1m  Examples\u001b[22m\n",
       "\u001b[1m  ≡≡≡≡≡≡≡≡≡≡\u001b[22m\n",
       "\n",
       "\u001b[36m  julia> SubString(\"abc\", 1, 2)\u001b[39m\n",
       "\u001b[36m  \"ab\"\u001b[39m\n",
       "\u001b[36m  \u001b[39m\n",
       "\u001b[36m  julia> SubString(\"abc\", 1:2)\u001b[39m\n",
       "\u001b[36m  \"ab\"\u001b[39m\n",
       "\u001b[36m  \u001b[39m\n",
       "\u001b[36m  julia> SubString(\"abc\", 2)\u001b[39m\n",
       "\u001b[36m  \"bc\"\u001b[39m"
      ]
     },
     "execution_count": 17,
     "metadata": {},
     "output_type": "execute_result"
    }
   ],
   "source": [
    "?SubString"
   ]
  },
  {
   "cell_type": "code",
   "execution_count": 24,
   "metadata": {},
   "outputs": [
    {
     "data": {
      "text/plain": [
       "z (generic function with 1 method)"
      ]
     },
     "execution_count": 24,
     "metadata": {},
     "output_type": "execute_result"
    }
   ],
   "source": [
    "function z(x, y)\n",
    "    r  = x + y\n",
    "    return r - 2\n",
    "end"
   ]
  },
  {
   "cell_type": "code",
   "execution_count": 25,
   "metadata": {},
   "outputs": [
    {
     "data": {
      "text/plain": [
       "1"
      ]
     },
     "execution_count": 25,
     "metadata": {},
     "output_type": "execute_result"
    }
   ],
   "source": [
    "z(1,2)"
   ]
  },
  {
   "cell_type": "code",
   "execution_count": 18,
   "metadata": {},
   "outputs": [
    {
     "data": {
      "text/plain": [
       "f (generic function with 1 method)"
      ]
     },
     "execution_count": 18,
     "metadata": {},
     "output_type": "execute_result"
    }
   ],
   "source": [
    "f(x) = 1 + x"
   ]
  },
  {
   "cell_type": "code",
   "execution_count": 19,
   "metadata": {},
   "outputs": [
    {
     "data": {
      "text/plain": [
       "3"
      ]
     },
     "execution_count": 19,
     "metadata": {},
     "output_type": "execute_result"
    }
   ],
   "source": [
    "f(2)"
   ]
  },
  {
   "cell_type": "code",
   "execution_count": 29,
   "metadata": {},
   "outputs": [
    {
     "data": {
      "text/plain": [
       "hypot (generic function with 1 method)"
      ]
     },
     "execution_count": 29,
     "metadata": {},
     "output_type": "execute_result"
    }
   ],
   "source": [
    "function hypot(x,y)::Float32\n",
    "   x = abs(x)\n",
    "   y = abs(y)\n",
    "   if x > y\n",
    "       r = y/x\n",
    "       return x*sqrt(1+r*r)\n",
    "   end\n",
    "   if y == 0\n",
    "       return zero(x)\n",
    "   end\n",
    "   r = x/y\n",
    "   return y*sqrt(1+r*r)\n",
    "end"
   ]
  },
  {
   "cell_type": "code",
   "execution_count": 30,
   "metadata": {},
   "outputs": [
    {
     "data": {
      "text/plain": [
       "3.6055512f0"
      ]
     },
     "execution_count": 30,
     "metadata": {},
     "output_type": "execute_result"
    }
   ],
   "source": [
    "hypot(2,3)"
   ]
  },
  {
   "cell_type": "code",
   "execution_count": 31,
   "metadata": {},
   "outputs": [
    {
     "data": {
      "text/plain": [
       "printx (generic function with 1 method)"
      ]
     },
     "execution_count": 31,
     "metadata": {},
     "output_type": "execute_result"
    }
   ],
   "source": [
    "function printx(x)\n",
    "    println(\"x = $x\")\n",
    "    return nothing\n",
    "end"
   ]
  },
  {
   "cell_type": "code",
   "execution_count": 32,
   "metadata": {},
   "outputs": [
    {
     "data": {
      "text/plain": [
       "10"
      ]
     },
     "execution_count": 32,
     "metadata": {},
     "output_type": "execute_result"
    }
   ],
   "source": [
    "+(1,2,3,4)"
   ]
  },
  {
   "cell_type": "code",
   "execution_count": 34,
   "metadata": {},
   "outputs": [
    {
     "data": {
      "text/plain": [
       "5×3 Array{Int64,2}:\n",
       " 1   6   7\n",
       " 2   8   9\n",
       " 3  10  11\n",
       " 4  12  13\n",
       " 5  14  15"
      ]
     },
     "execution_count": 34,
     "metadata": {},
     "output_type": "execute_result"
    }
   ],
   "source": [
    "b = [6 7; 8 9; 10 11; 12 13; 14 15]\n",
    "a = [1; 2; 3; 4; 5]\n",
    "hcat(a,b)"
   ]
  },
  {
   "cell_type": "code",
   "execution_count": 35,
   "metadata": {},
   "outputs": [
    {
     "data": {
      "text/plain": [
       "#1 (generic function with 1 method)"
      ]
     },
     "execution_count": 35,
     "metadata": {},
     "output_type": "execute_result"
    }
   ],
   "source": [
    "x -> x^2 + 2x - 1"
   ]
  },
  {
   "cell_type": "code",
   "execution_count": 38,
   "metadata": {},
   "outputs": [
    {
     "data": {
      "text/plain": [
       "3-element Array{Int64,1}:\n",
       "  2\n",
       " 14\n",
       " -2"
      ]
     },
     "execution_count": 38,
     "metadata": {},
     "output_type": "execute_result"
    }
   ],
   "source": [
    "map(x -> x^2 + 2x - 1, [1, 3, -1])"
   ]
  },
  {
   "cell_type": "code",
   "execution_count": 39,
   "metadata": {},
   "outputs": [
    {
     "data": {
      "text/plain": [
       "2"
      ]
     },
     "execution_count": 39,
     "metadata": {},
     "output_type": "execute_result"
    }
   ],
   "source": [
    "x = (a=2, b=1+2); x.a"
   ]
  },
  {
   "cell_type": "code",
   "execution_count": 42,
   "metadata": {},
   "outputs": [
    {
     "data": {
      "text/plain": [
       "(1, 2)"
      ]
     },
     "execution_count": 42,
     "metadata": {},
     "output_type": "execute_result"
    }
   ],
   "source": [
    "minmax(x, y) = (y < x) ? (y, x) : (x, y); minmax(2,1)"
   ]
  },
  {
   "cell_type": "code",
   "execution_count": 43,
   "metadata": {},
   "outputs": [
    {
     "data": {
      "text/plain": [
       "2000-12-12"
      ]
     },
     "execution_count": 43,
     "metadata": {},
     "output_type": "execute_result"
    }
   ],
   "source": [
    "using Dates\n",
    "Date(2000, 12, 12)"
   ]
  },
  {
   "cell_type": "code",
   "execution_count": 44,
   "metadata": {},
   "outputs": [
    {
     "ename": "LoadError",
     "evalue": "UndefVarError: A not defined",
     "output_type": "error",
     "traceback": [
      "UndefVarError: A not defined",
      "",
      "Stacktrace:",
      " [1] top-level scope at In[44]:1",
      " [2] include_string(::Function, ::Module, ::String, ::String) at ./loading.jl:1091"
     ]
    }
   ],
   "source": [
    "map([A, B, C]) do x\n",
    "    if x < 0 && iseven(x)\n",
    "        return 0\n",
    "    elseif x == 0\n",
    "        return 1\n",
    "    else\n",
    "        return x\n",
    "    end\n",
    "end"
   ]
  },
  {
   "cell_type": "code",
   "execution_count": null,
   "metadata": {},
   "outputs": [],
   "source": [
    "\\circ"
   ]
  },
  {
   "cell_type": "code",
   "execution_count": null,
   "metadata": {},
   "outputs": [],
   "source": [
    "open(\"outfile\", \"w\") do io\n",
    "    write(io, data)\n",
    "end"
   ]
  },
  {
   "cell_type": "code",
   "execution_count": 45,
   "metadata": {},
   "outputs": [
    {
     "data": {
      "text/plain": [
       "6-element Array{Char,1}:\n",
       " 'U': ASCII/Unicode U+0055 (category Lu: Letter, uppercase)\n",
       " 'N': ASCII/Unicode U+004E (category Lu: Letter, uppercase)\n",
       " 'E': ASCII/Unicode U+0045 (category Lu: Letter, uppercase)\n",
       " 'S': ASCII/Unicode U+0053 (category Lu: Letter, uppercase)\n",
       " 'E': ASCII/Unicode U+0045 (category Lu: Letter, uppercase)\n",
       " 'S': ASCII/Unicode U+0053 (category Lu: Letter, uppercase)"
      ]
     },
     "execution_count": 45,
     "metadata": {},
     "output_type": "execute_result"
    }
   ],
   "source": [
    "map(first ∘ reverse ∘ uppercase, split(\"you can compose functions like this\"))"
   ]
  },
  {
   "cell_type": "code",
   "execution_count": 46,
   "metadata": {},
   "outputs": [
    {
     "data": {
      "text/plain": [
       "4-element Array{Any,1}:\n",
       "  \"A\"\n",
       "  \"tsil\"\n",
       "  \"Of\"\n",
       " 7"
      ]
     },
     "execution_count": 46,
     "metadata": {},
     "output_type": "execute_result"
    }
   ],
   "source": [
    "# broadcasting\n",
    "[\"a\", \"list\", \"of\", \"strings\"] .|> [uppercase, reverse, titlecase, length]"
   ]
  },
  {
   "cell_type": "code",
   "execution_count": 49,
   "metadata": {},
   "outputs": [
    {
     "data": {
      "text/plain": [
       "3-element Array{Float64,1}:\n",
       " 13.42477796076938\n",
       " 17.42477796076938\n",
       " 21.42477796076938"
      ]
     },
     "execution_count": 49,
     "metadata": {},
     "output_type": "execute_result"
    }
   ],
   "source": [
    "#vectorizing functions\n",
    "A = [1.0, 2.0, 3.0]\n",
    "sin.(A)\n",
    "f(x,y) = 3x + 4y;\n",
    "f.(pi, A)"
   ]
  },
  {
   "cell_type": "code",
   "execution_count": 51,
   "metadata": {},
   "outputs": [
    {
     "data": {
      "text/plain": [
       "3"
      ]
     },
     "execution_count": 51,
     "metadata": {},
     "output_type": "execute_result"
    }
   ],
   "source": [
    "l = begin\n",
    "       x = 1\n",
    "       y = 2\n",
    "       x + y\n",
    "   end"
   ]
  },
  {
   "cell_type": "code",
   "execution_count": 52,
   "metadata": {},
   "outputs": [
    {
     "name": "stdout",
     "output_type": "stream",
     "text": [
      "x is less than y\n"
     ]
    }
   ],
   "source": [
    "if x < y\n",
    "    println(\"x is less than y\")\n",
    "elseif x > y\n",
    "    println(\"x is greater than y\")\n",
    "else\n",
    "    println(\"x is equal to y\")\n",
    "end"
   ]
  },
  {
   "cell_type": "code",
   "execution_count": 54,
   "metadata": {},
   "outputs": [],
   "source": [
    "vector = [3; 4; 5];"
   ]
  },
  {
   "cell_type": "code",
   "execution_count": 55,
   "metadata": {},
   "outputs": [
    {
     "data": {
      "text/plain": [
       "2-element Array{Int64,1}:\n",
       " 4\n",
       " 5"
      ]
     },
     "execution_count": 55,
     "metadata": {},
     "output_type": "execute_result"
    }
   ],
   "source": [
    "vector[2:3]"
   ]
  },
  {
   "cell_type": "code",
   "execution_count": 60,
   "metadata": {},
   "outputs": [
    {
     "name": "stdout",
     "output_type": "stream",
     "text": [
      "search:\n",
      "\n",
      "Couldn't find \u001b[36mavg\u001b[39m\n",
      "Perhaps you meant a, ans, Aug, abs, all, any, big, log, mv, A, Apr, abs2 or acos\n"
     ]
    },
    {
     "data": {
      "text/latex": [
       "No documentation found.\n",
       "\n",
       "Binding \\texttt{avg} does not exist.\n",
       "\n"
      ],
      "text/markdown": [
       "No documentation found.\n",
       "\n",
       "Binding `avg` does not exist.\n"
      ],
      "text/plain": [
       "  No documentation found.\n",
       "\n",
       "  Binding \u001b[36mavg\u001b[39m does not exist."
      ]
     },
     "execution_count": 60,
     "metadata": {},
     "output_type": "execute_result"
    }
   ],
   "source": [
    "?avg"
   ]
  },
  {
   "cell_type": "code",
   "execution_count": 62,
   "metadata": {},
   "outputs": [
    {
     "name": "stdout",
     "output_type": "stream",
     "text": [
      "sum(vector) = 12\n",
      "mean(vector) = 4.0\n",
      "ones(3) = [1.0, 1.0, 1.0]\n",
      "zeros(3) = [0.0, 0.0, 0.0]\n",
      "e2 = [0.0, 1.0, 0.0]\n",
      "dot(a, b) = 11\n",
      "a' * b = 11\n",
      "a' * b = 11\n",
      "2a + b = [1, 11, 2]\n",
      "a .+ 4 = [5, 8, 4]\n"
     ]
    }
   ],
   "source": [
    "using Statistics \n",
    "using LinearAlgebra\n",
    "\n",
    "# Useful functions\n",
    "@show sum(vector)\n",
    "@show mean(vector)\n",
    "\n",
    "# Ones vector\n",
    "@show ones(3)\n",
    "\n",
    "# Zeros vector\n",
    "@show zeros(3)\n",
    "\n",
    "# Unit vectors\n",
    "e2 = zeros(3)\n",
    "e2[2] = 1\n",
    "@show e2\n",
    "\n",
    "# Inner products\n",
    "a = [1; 4; 0]\n",
    "b = [-1; 3; 2]\n",
    "\n",
    "@show dot(a, b)\n",
    "@show a' * b\n",
    "@show a'b\n",
    "\n",
    "# Vector addition and scalar multiplication\n",
    "@show 2*a + b\n",
    "\n",
    "# Adding a scalar to a vector (note the .)\n",
    "@show a .+ 4;"
   ]
  },
  {
   "cell_type": "code",
   "execution_count": null,
   "metadata": {},
   "outputs": [],
   "source": []
  }
 ],
 "metadata": {
  "kernelspec": {
   "display_name": "Julia 1.5.1",
   "language": "julia",
   "name": "julia-1.5"
  },
  "language_info": {
   "file_extension": ".jl",
   "mimetype": "application/julia",
   "name": "julia",
   "version": "1.5.1"
  }
 },
 "nbformat": 4,
 "nbformat_minor": 4
}
