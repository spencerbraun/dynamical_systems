{
 "cells": [
  {
   "cell_type": "code",
   "execution_count": 2,
   "metadata": {},
   "outputs": [
    {
     "name": "stderr",
     "output_type": "stream",
     "text": [
      "┌ Info: Precompiling Plots [91a5bcdd-55d7-5caf-9e0b-520d859cae80]\n",
      "└ @ Base loading.jl:1278\n"
     ]
    }
   ],
   "source": [
    "using Plots\n",
    "using Statistics\n",
    "using LinearAlgebra\n",
    "using JSON\n",
    "\n",
    "include(\"readclassjson.jl\");"
   ]
  },
  {
   "cell_type": "code",
   "execution_count": 5,
   "metadata": {
    "scrolled": true
   },
   "outputs": [],
   "source": [
    "# ; wget http://ee263.stanford.edu/twentytwenty/filter_data.json -P data/"
   ]
  },
  {
   "cell_type": "code",
   "execution_count": 7,
   "metadata": {},
   "outputs": [],
   "source": [
    "# ; wget http://ee263.stanford.edu/twentytwenty/nonlinear_data.json -P data/"
   ]
  },
  {
   "cell_type": "markdown",
   "metadata": {},
   "source": [
    "## Problem 1"
   ]
  },
  {
   "cell_type": "code",
   "execution_count": 13,
   "metadata": {},
   "outputs": [
    {
     "data": {
      "text/plain": [
       "5×5 Array{Float64,2}:\n",
       " 0.0  0.0  0.0  0.0  0.0\n",
       " 1.0  0.0  0.0  0.0  0.0\n",
       " 0.0  1.0  0.0  0.0  0.0\n",
       " 0.0  0.0  1.0  0.0  0.0\n",
       " 0.0  0.0  0.0  1.0  0.0"
      ]
     },
     "execution_count": 13,
     "metadata": {},
     "output_type": "execute_result"
    }
   ],
   "source": [
    "D = [zeros(1,5) ; 1 zeros(1,4) ; 0 1 zeros(1,3) ; 0 0 1 0 0 ; zeros(1,3) 1 0 ]"
   ]
  },
  {
   "cell_type": "code",
   "execution_count": 16,
   "metadata": {},
   "outputs": [
    {
     "data": {
      "text/plain": [
       "5-element Array{Int64,1}:\n",
       " 1\n",
       " 2\n",
       " 3\n",
       " 4\n",
       " 5"
      ]
     },
     "execution_count": 16,
     "metadata": {},
     "output_type": "execute_result"
    }
   ],
   "source": [
    "x = [1 ; 2 ; 3 ; 4 ; 5 ]"
   ]
  },
  {
   "cell_type": "code",
   "execution_count": 27,
   "metadata": {},
   "outputs": [
    {
     "data": {
      "text/plain": [
       "5-element Array{Float64,1}:\n",
       " 0.0\n",
       " 1.0\n",
       " 2.0\n",
       " 3.0\n",
       " 4.0"
      ]
     },
     "execution_count": 27,
     "metadata": {},
     "output_type": "execute_result"
    }
   ],
   "source": [
    "D * x"
   ]
  },
  {
   "cell_type": "code",
   "execution_count": 23,
   "metadata": {},
   "outputs": [
    {
     "data": {
      "text/plain": [
       "5×5 Array{Float64,2}:\n",
       " 0.0  0.0  0.0  0.0  0.0\n",
       " 0.0  0.0  0.0  0.0  0.0\n",
       " 1.0  0.0  0.0  0.0  0.0\n",
       " 0.0  1.0  0.0  0.0  0.0\n",
       " 0.0  0.0  1.0  0.0  0.0"
      ]
     },
     "execution_count": 23,
     "metadata": {},
     "output_type": "execute_result"
    }
   ],
   "source": [
    "D * D"
   ]
  },
  {
   "cell_type": "code",
   "execution_count": 22,
   "metadata": {},
   "outputs": [
    {
     "data": {
      "text/plain": [
       "5×5 Array{Float64,2}:\n",
       " 0.0  0.0  0.0  0.0  0.0\n",
       " 0.0  0.0  0.0  0.0  0.0\n",
       " 0.0  0.0  0.0  0.0  0.0\n",
       " 1.0  0.0  0.0  0.0  0.0\n",
       " 0.0  1.0  0.0  0.0  0.0"
      ]
     },
     "execution_count": 22,
     "metadata": {},
     "output_type": "execute_result"
    }
   ],
   "source": [
    "D * D * D"
   ]
  },
  {
   "cell_type": "code",
   "execution_count": 259,
   "metadata": {},
   "outputs": [
    {
     "data": {
      "text/plain": [
       "Dict{Any,Any} with 4 entries:\n",
       "  \"y\" => [0.02, 0.035, -0.04, -0.055, -0.045, -0.155, -0.165, -0.265, -0.2, -0.…\n",
       "  \"m\" => 11\n",
       "  \"x\" => [0.4, -0.1, -1.4, 0.7, -0.4, -0.8, 0.4, -0.7, 1.1, 0.0  …  1.0, 0.2, 0…\n",
       "  \"n\" => 60"
      ]
     },
     "execution_count": 259,
     "metadata": {},
     "output_type": "execute_result"
    }
   ],
   "source": [
    "filter_data = readclassjson(\"data/filter_data.json\")"
   ]
  },
  {
   "cell_type": "code",
   "execution_count": 260,
   "metadata": {},
   "outputs": [
    {
     "data": {
      "text/plain": [
       "60"
      ]
     },
     "execution_count": 260,
     "metadata": {},
     "output_type": "execute_result"
    }
   ],
   "source": [
    "y = filter_data[\"y\"]\n",
    "x = filter_data[\"x\"]\n",
    "m = filter_data[\"m\"]\n",
    "n = filter_data[\"n\"]"
   ]
  },
  {
   "cell_type": "code",
   "execution_count": 37,
   "metadata": {},
   "outputs": [],
   "source": [
    "D = [zeros(1, n) ; I(n)[1:(end-1),:]];"
   ]
  },
  {
   "cell_type": "code",
   "execution_count": 44,
   "metadata": {},
   "outputs": [
    {
     "data": {
      "text/plain": [
       "60×60 Array{Float64,2}:\n",
       "  0.4   0.0   0.0   0.0   0.0   0.0  …   0.0   0.0   0.0   0.0   0.0  0.0\n",
       " -0.1   0.4   0.0   0.0   0.0   0.0      0.0   0.0   0.0   0.0   0.0  0.0\n",
       " -1.4  -0.1   0.4   0.0   0.0   0.0      0.0   0.0   0.0   0.0   0.0  0.0\n",
       "  0.7  -1.4  -0.1   0.4   0.0   0.0      0.0   0.0   0.0   0.0   0.0  0.0\n",
       " -0.4   0.7  -1.4  -0.1   0.4   0.0      0.0   0.0   0.0   0.0   0.0  0.0\n",
       " -0.8  -0.4   0.7  -1.4  -0.1   0.4  …   0.0   0.0   0.0   0.0   0.0  0.0\n",
       "  0.4  -0.8  -0.4   0.7  -1.4  -0.1      0.0   0.0   0.0   0.0   0.0  0.0\n",
       " -0.7   0.4  -0.8  -0.4   0.7  -1.4      0.0   0.0   0.0   0.0   0.0  0.0\n",
       "  1.1  -0.7   0.4  -0.8  -0.4   0.7      0.0   0.0   0.0   0.0   0.0  0.0\n",
       "  0.0   1.1  -0.7   0.4  -0.8  -0.4      0.0   0.0   0.0   0.0   0.0  0.0\n",
       " -0.1   0.0   1.1  -0.7   0.4  -0.8  …   0.0   0.0   0.0   0.0   0.0  0.0\n",
       " -0.2  -0.1   0.0   1.1  -0.7   0.4      0.0   0.0   0.0   0.0   0.0  0.0\n",
       " -0.4  -0.2  -0.1   0.0   1.1  -0.7      0.0   0.0   0.0   0.0   0.0  0.0\n",
       "  ⋮                             ⋮    ⋱         ⋮                      \n",
       " -0.5   0.0   1.9   0.1   0.8   0.6      0.0   0.0   0.0   0.0   0.0  0.0\n",
       " -0.6  -0.5   0.0   1.9   0.1   0.8      0.0   0.0   0.0   0.0   0.0  0.0\n",
       "  1.0  -0.6  -0.5   0.0   1.9   0.1  …   0.0   0.0   0.0   0.0   0.0  0.0\n",
       "  0.2   1.0  -0.6  -0.5   0.0   1.9      0.0   0.0   0.0   0.0   0.0  0.0\n",
       "  0.7   0.2   1.0  -0.6  -0.5   0.0      0.0   0.0   0.0   0.0   0.0  0.0\n",
       " -1.1   0.7   0.2   1.0  -0.6  -0.5      0.0   0.0   0.0   0.0   0.0  0.0\n",
       "  1.0  -1.1   0.7   0.2   1.0  -0.6      0.4   0.0   0.0   0.0   0.0  0.0\n",
       " -0.4   1.0  -1.1   0.7   0.2   1.0  …  -0.1   0.4   0.0   0.0   0.0  0.0\n",
       "  0.5  -0.4   1.0  -1.1   0.7   0.2     -1.4  -0.1   0.4   0.0   0.0  0.0\n",
       " -0.6   0.5  -0.4   1.0  -1.1   0.7      0.7  -1.4  -0.1   0.4   0.0  0.0\n",
       "  0.0  -0.6   0.5  -0.4   1.0  -1.1     -0.4   0.7  -1.4  -0.1   0.4  0.0\n",
       " -1.3   0.0  -0.6   0.5  -0.4   1.0     -0.8  -0.4   0.7  -1.4  -0.1  0.4"
      ]
     },
     "execution_count": 44,
     "metadata": {},
     "output_type": "execute_result"
    }
   ],
   "source": [
    "Dx = reduce(hcat, (D^i * x for i in 0:59))"
   ]
  },
  {
   "cell_type": "code",
   "execution_count": 286,
   "metadata": {},
   "outputs": [
    {
     "data": {
      "text/plain": [
       "58"
      ]
     },
     "execution_count": 286,
     "metadata": {},
     "output_type": "execute_result"
    }
   ],
   "source": [
    "rank(Dx)"
   ]
  },
  {
   "cell_type": "code",
   "execution_count": 271,
   "metadata": {},
   "outputs": [
    {
     "data": {
      "text/plain": [
       "deficient (generic function with 1 method)"
      ]
     },
     "execution_count": 271,
     "metadata": {},
     "output_type": "execute_result"
    }
   ],
   "source": [
    "function deficient(Dx, y)\n",
    "    F = qr(Dx)\n",
    "    Q = F.Q\n",
    "    R1 = F.R[1:58, 1:58]\n",
    "    R2 = F.R[:,59:60]\n",
    "    Rinv = zeros(60, 60)\n",
    "    Rinv[1:58, 1:58] = inv(R1)\n",
    "    h = Rinv * transpose(Q) * y\n",
    "    return h\n",
    "end"
   ]
  },
  {
   "cell_type": "code",
   "execution_count": 278,
   "metadata": {},
   "outputs": [
    {
     "data": {
      "text/plain": [
       "60-element Array{Float64,1}:\n",
       "  0.050000000000000495\n",
       "  0.09999999999999985\n",
       "  0.1000000000000002\n",
       "  0.15\n",
       "  0.1500000000000006\n",
       "  0.1999999999999993\n",
       "  0.15000000000000002\n",
       "  0.1499999999999991\n",
       "  0.10000000000000053\n",
       "  0.09999999999999944\n",
       "  0.050000000000000835\n",
       " -6.534043492948813e-16\n",
       "  5.039018018510801e-16\n",
       "  ⋮\n",
       "  3.137204038217156e-14\n",
       " -4.515485207967629e-15\n",
       "  2.4338170367954604e-14\n",
       " -4.9453496853146817e-14\n",
       "  5.3033966107562946e-14\n",
       " -5.28951882294848e-14\n",
       "  1.0871858968641845e-13\n",
       " -1.0508260928077107e-13\n",
       "  6.022959908591474e-14\n",
       " -1.8432477766339161e-13\n",
       "  0.0\n",
       "  0.0"
      ]
     },
     "execution_count": 278,
     "metadata": {},
     "output_type": "execute_result"
    }
   ],
   "source": [
    "h = deficient(Dx, y)"
   ]
  },
  {
   "cell_type": "code",
   "execution_count": 283,
   "metadata": {},
   "outputs": [
    {
     "data": {
      "text/plain": [
       "11"
      ]
     },
     "execution_count": 283,
     "metadata": {},
     "output_type": "execute_result"
    }
   ],
   "source": [
    "sum(abs.(h) .> 1e-12)"
   ]
  },
  {
   "cell_type": "code",
   "execution_count": 280,
   "metadata": {},
   "outputs": [
    {
     "data": {
      "text/plain": [
       "true"
      ]
     },
     "execution_count": 280,
     "metadata": {},
     "output_type": "execute_result"
    }
   ],
   "source": [
    "isapprox(Dx * h, y)"
   ]
  },
  {
   "cell_type": "code",
   "execution_count": null,
   "metadata": {},
   "outputs": [],
   "source": []
  },
  {
   "cell_type": "code",
   "execution_count": null,
   "metadata": {},
   "outputs": [],
   "source": []
  },
  {
   "cell_type": "markdown",
   "metadata": {},
   "source": [
    "## Problem 2"
   ]
  },
  {
   "cell_type": "markdown",
   "metadata": {},
   "source": [
    "### f."
   ]
  },
  {
   "cell_type": "markdown",
   "metadata": {},
   "source": [
    "Note I numbered the edges to add to the incidence matrix such that the edges connecting the following nodes were indexed as below:\n",
    "\n",
    "* 1-2 = 1\n",
    "* 1-3 = 2\n",
    "* 2-4 = 3\n",
    "* 3-4 = 4\n",
    "* 1-4 = 5\n"
   ]
  },
  {
   "cell_type": "code",
   "execution_count": 214,
   "metadata": {},
   "outputs": [
    {
     "data": {
      "text/plain": [
       "4×5 Array{Int64,2}:\n",
       "  1   1   0   0   1\n",
       " -1   0   1   0   0\n",
       "  0  -1   0   1   0\n",
       "  0   0  -1  -1  -1"
      ]
     },
     "execution_count": 214,
     "metadata": {},
     "output_type": "execute_result"
    }
   ],
   "source": [
    "A = [ 1 1 0 0 1 ; -1 0 1 0 0 ; 0 -1 0 1 0; 0 0 -1 -1 -1]"
   ]
  },
  {
   "cell_type": "markdown",
   "metadata": {},
   "source": [
    "A has neither full row or column rank"
   ]
  },
  {
   "cell_type": "code",
   "execution_count": 205,
   "metadata": {},
   "outputs": [
    {
     "data": {
      "text/plain": [
       "3"
      ]
     },
     "execution_count": 205,
     "metadata": {},
     "output_type": "execute_result"
    }
   ],
   "source": [
    "rank(A)"
   ]
  },
  {
   "cell_type": "code",
   "execution_count": 249,
   "metadata": {},
   "outputs": [
    {
     "data": {
      "text/plain": [
       "4×1 Transpose{Int64,Array{Int64,2}}:\n",
       "  1\n",
       "  0\n",
       "  0\n",
       " -1"
      ]
     },
     "execution_count": 249,
     "metadata": {},
     "output_type": "execute_result"
    }
   ],
   "source": [
    "b = transpose([1 0 0 -1])"
   ]
  },
  {
   "cell_type": "code",
   "execution_count": 245,
   "metadata": {},
   "outputs": [
    {
     "data": {
      "text/plain": [
       "leastnorm (generic function with 1 method)"
      ]
     },
     "execution_count": 245,
     "metadata": {},
     "output_type": "execute_result"
    }
   ],
   "source": [
    "function leastnorm(A, b)\n",
    "    F = qr(transpose(A))\n",
    "    Q = F.Q\n",
    "    R1 = F.R[1:3, 1:3]\n",
    "    R2 = F.R[:,4]\n",
    "    RTinv = zeros(5,4)\n",
    "    RTinv[1:3, 1:3] = transpose(inv(R1))\n",
    "    w = Q * RTinv * b\n",
    "    return w\n",
    "end"
   ]
  },
  {
   "cell_type": "code",
   "execution_count": 246,
   "metadata": {},
   "outputs": [
    {
     "data": {
      "text/plain": [
       "5×1 Array{Float64,2}:\n",
       " 0.25\n",
       " 0.24999999999999994\n",
       " 0.25000000000000006\n",
       " 0.25\n",
       " 0.5000000000000001"
      ]
     },
     "execution_count": 246,
     "metadata": {},
     "output_type": "execute_result"
    }
   ],
   "source": [
    "wln = leastnorm(A, b)"
   ]
  },
  {
   "cell_type": "code",
   "execution_count": 247,
   "metadata": {},
   "outputs": [
    {
     "data": {
      "text/plain": [
       "0.7071067811865476"
      ]
     },
     "execution_count": 247,
     "metadata": {},
     "output_type": "execute_result"
    }
   ],
   "source": [
    "norm(w)"
   ]
  },
  {
   "cell_type": "code",
   "execution_count": 248,
   "metadata": {},
   "outputs": [
    {
     "data": {
      "text/plain": [
       "true"
      ]
     },
     "execution_count": 248,
     "metadata": {},
     "output_type": "execute_result"
    }
   ],
   "source": [
    "isapprox(A * w, b)"
   ]
  },
  {
   "cell_type": "markdown",
   "metadata": {},
   "source": [
    "### g."
   ]
  },
  {
   "cell_type": "markdown",
   "metadata": {},
   "source": [
    "I only changed the index for the edge that changed"
   ]
  },
  {
   "cell_type": "code",
   "execution_count": 250,
   "metadata": {},
   "outputs": [
    {
     "data": {
      "text/plain": [
       "4×5 Array{Int64,2}:\n",
       "  1   1   0   0   0\n",
       " -1   0   1   0   1\n",
       "  0  -1   0   1  -1\n",
       "  0   0  -1  -1   0"
      ]
     },
     "execution_count": 250,
     "metadata": {},
     "output_type": "execute_result"
    }
   ],
   "source": [
    "A = [1 1 0 0 0 ; -1 0 1 0 1 ; 0 -1 0 1 -1 ; 0 0 -1 -1 0]"
   ]
  },
  {
   "cell_type": "code",
   "execution_count": 251,
   "metadata": {},
   "outputs": [
    {
     "data": {
      "text/plain": [
       "3"
      ]
     },
     "execution_count": 251,
     "metadata": {},
     "output_type": "execute_result"
    }
   ],
   "source": [
    "rank(A)"
   ]
  },
  {
   "cell_type": "code",
   "execution_count": 252,
   "metadata": {},
   "outputs": [
    {
     "data": {
      "text/plain": [
       "5×1 Array{Float64,2}:\n",
       "  0.5\n",
       "  0.5\n",
       "  0.4999999999999998\n",
       "  0.4999999999999997\n",
       " -7.292309661585507e-17"
      ]
     },
     "execution_count": 252,
     "metadata": {},
     "output_type": "execute_result"
    }
   ],
   "source": [
    "wln2 = leastnorm(A, b)"
   ]
  },
  {
   "cell_type": "code",
   "execution_count": 253,
   "metadata": {},
   "outputs": [
    {
     "data": {
      "text/plain": [
       "4×1 Array{Float64,2}:\n",
       "  1.0\n",
       " -2.949677015408864e-16\n",
       " -2.0463265954043407e-16\n",
       " -0.9999999999999996"
      ]
     },
     "execution_count": 253,
     "metadata": {},
     "output_type": "execute_result"
    }
   ],
   "source": [
    "A * wln2"
   ]
  },
  {
   "cell_type": "code",
   "execution_count": 254,
   "metadata": {},
   "outputs": [
    {
     "data": {
      "text/plain": [
       "true"
      ]
     },
     "execution_count": 254,
     "metadata": {},
     "output_type": "execute_result"
    }
   ],
   "source": [
    "isapprox(A * wln2, b)"
   ]
  },
  {
   "cell_type": "code",
   "execution_count": 255,
   "metadata": {},
   "outputs": [
    {
     "data": {
      "text/plain": [
       "0.9999999999999998"
      ]
     },
     "execution_count": 255,
     "metadata": {},
     "output_type": "execute_result"
    }
   ],
   "source": [
    "norm(wln2)"
   ]
  },
  {
   "cell_type": "markdown",
   "metadata": {},
   "source": [
    "## Problem 3"
   ]
  },
  {
   "cell_type": "code",
   "execution_count": 53,
   "metadata": {},
   "outputs": [
    {
     "data": {
      "text/plain": [
       "Dict{Any,Any} with 2 entries:\n",
       "  \"x\" => [0.0, 0.0256281, 0.0512563, 0.0768844, 0.102513, 0.128141, 0.153769, 0…\n",
       "  \"y\" => [-0.267319, -0.155229, -0.131375, -0.184448, -0.0515287, -0.150317, -0…"
      ]
     },
     "execution_count": 53,
     "metadata": {},
     "output_type": "execute_result"
    }
   ],
   "source": [
    "nonlin = readclassjson(\"data/nonlinear_data.json\")"
   ]
  },
  {
   "cell_type": "code",
   "execution_count": 54,
   "metadata": {},
   "outputs": [
    {
     "data": {
      "text/plain": [
       "200-element Array{Float64,1}:\n",
       " -0.267318974843255\n",
       " -0.15522881964934643\n",
       " -0.1313749835860241\n",
       " -0.18444821737633815\n",
       " -0.051528667263256375\n",
       " -0.15031677713628416\n",
       " -0.01714152900873025\n",
       "  0.05627842256032599\n",
       "  0.001432001308560086\n",
       "  0.2018220908643815\n",
       "  0.21660622469060334\n",
       "  0.15065860186456878\n",
       "  0.08137103102752144\n",
       "  ⋮\n",
       " -0.6862618146791382\n",
       " -0.8868900876091095\n",
       " -0.8688449314631866\n",
       " -0.9270421150834154\n",
       " -0.7286998719765979\n",
       " -0.6300607035076583\n",
       " -0.6897080554140692\n",
       " -0.8486489769749685\n",
       " -0.6676967879798368\n",
       " -0.8961131217914085\n",
       " -0.6215913896959666\n",
       " -0.5934428217314303"
      ]
     },
     "execution_count": 54,
     "metadata": {},
     "output_type": "execute_result"
    }
   ],
   "source": [
    "x = nonlin[\"x\"]\n",
    "y = nonlin[\"y\"]"
   ]
  },
  {
   "cell_type": "code",
   "execution_count": 60,
   "metadata": {},
   "outputs": [
    {
     "data": {
      "text/plain": [
       "0.1:0.1:5.0"
      ]
     },
     "execution_count": 60,
     "metadata": {},
     "output_type": "execute_result"
    }
   ],
   "source": [
    "k = 1:50\n",
    "points = 0.1 .* k"
   ]
  },
  {
   "cell_type": "code",
   "execution_count": 156,
   "metadata": {},
   "outputs": [
    {
     "data": {
      "text/plain": [
       "loess (generic function with 2 methods)"
      ]
     },
     "execution_count": 156,
     "metadata": {},
     "output_type": "execute_result"
    }
   ],
   "source": [
    "function loess(x0, out=\"fit\")\n",
    "    function epanechnikov(xi)\n",
    "        if norm(xi - x0)^2 <= 1\n",
    "            1 - norm(xi - x0)^2\n",
    "        else\n",
    "            0\n",
    "        end\n",
    "    end\n",
    "    \n",
    "    b = [1 ; x0]\n",
    "    W = diagm(epanechnikov.(x))\n",
    "    coefs = inv(transpose(x) * W * x) * transpose(x) * W * y\n",
    "    f = b * coefs\n",
    "    if out == \"fit\"\n",
    "        return sum(f)\n",
    "    else\n",
    "        return coefs\n",
    "    end\n",
    "end"
   ]
  },
  {
   "cell_type": "code",
   "execution_count": 157,
   "metadata": {},
   "outputs": [
    {
     "data": {
      "text/plain": [
       "50-element Array{Float64,1}:\n",
       "  0.9404759956720716\n",
       "  1.0522784512546368\n",
       "  1.1532868848964892\n",
       "  1.2461787265475768\n",
       "  1.328761343473372\n",
       "  1.4043545375756163\n",
       "  1.4708379475215603\n",
       "  1.5284534088999244\n",
       "  1.576257592656153\n",
       "  1.6089182413968122\n",
       "  1.6311969221129574\n",
       "  1.6387122777476248\n",
       "  1.6355012993972955\n",
       "  ⋮\n",
       " -0.7967311425173997\n",
       " -0.8307655460044236\n",
       " -0.857072199851509\n",
       " -0.8763466797111533\n",
       " -0.8938182474676004\n",
       " -0.9089668853737871\n",
       " -0.9217865580536138\n",
       " -0.9328992025548946\n",
       " -0.9418057211940825\n",
       " -0.9506087675428958\n",
       " -0.9588993729464128\n",
       " -0.9676158717773584"
      ]
     },
     "execution_count": 157,
     "metadata": {},
     "output_type": "execute_result"
    }
   ],
   "source": [
    "fit = sum.(loess.(points))"
   ]
  },
  {
   "cell_type": "code",
   "execution_count": 158,
   "metadata": {},
   "outputs": [
    {
     "data": {
      "text/plain": [
       "1.1909573090961318"
      ]
     },
     "execution_count": 158,
     "metadata": {},
     "output_type": "execute_result"
    }
   ],
   "source": [
    "fit[20]"
   ]
  },
  {
   "cell_type": "code",
   "execution_count": 163,
   "metadata": {},
   "outputs": [
    {
     "data": {
      "text/plain": [
       "0.4366843466685817:0.039698576969871065:2.3819146181922637"
      ]
     },
     "execution_count": 163,
     "metadata": {},
     "output_type": "execute_result"
    }
   ],
   "source": [
    "at2 = loess(2, \"coefs\")\n",
    "at2Line = points.*at2 .+at2"
   ]
  },
  {
   "cell_type": "code",
   "execution_count": 164,
   "metadata": {},
   "outputs": [
    {
     "data": {
      "image/svg+xml": [
       "<?xml version=\"1.0\" encoding=\"utf-8\"?>\n",
       "<svg xmlns=\"http://www.w3.org/2000/svg\" xmlns:xlink=\"http://www.w3.org/1999/xlink\" width=\"600\" height=\"400\" viewBox=\"0 0 2400 1600\">\n",
       "<defs>\n",
       "  <clipPath id=\"clip190\">\n",
       "    <rect x=\"0\" y=\"0\" width=\"2400\" height=\"1600\"/>\n",
       "  </clipPath>\n",
       "</defs>\n",
       "<path clip-path=\"url(#clip190)\" d=\"\n",
       "M0 1600 L2400 1600 L2400 0 L0 0  Z\n",
       "  \" fill=\"#ffffff\" fill-rule=\"evenodd\" fill-opacity=\"1\"/>\n",
       "<defs>\n",
       "  <clipPath id=\"clip191\">\n",
       "    <rect x=\"480\" y=\"0\" width=\"1681\" height=\"1600\"/>\n",
       "  </clipPath>\n",
       "</defs>\n",
       "<path clip-path=\"url(#clip190)\" d=\"\n",
       "M142.455 1486.45 L2352.76 1486.45 L2352.76 47.2441 L142.455 47.2441  Z\n",
       "  \" fill=\"#ffffff\" fill-rule=\"evenodd\" fill-opacity=\"1\"/>\n",
       "<defs>\n",
       "  <clipPath id=\"clip192\">\n",
       "    <rect x=\"142\" y=\"47\" width=\"2211\" height=\"1440\"/>\n",
       "  </clipPath>\n",
       "</defs>\n",
       "<polyline clip-path=\"url(#clip192)\" style=\"stroke:#000000; stroke-width:2; stroke-opacity:0.1; fill:none\" points=\"\n",
       "  205.01,1486.45 205.01,47.2441 \n",
       "  \"/>\n",
       "<polyline clip-path=\"url(#clip192)\" style=\"stroke:#000000; stroke-width:2; stroke-opacity:0.1; fill:none\" points=\"\n",
       "  613.871,1486.45 613.871,47.2441 \n",
       "  \"/>\n",
       "<polyline clip-path=\"url(#clip192)\" style=\"stroke:#000000; stroke-width:2; stroke-opacity:0.1; fill:none\" points=\"\n",
       "  1022.73,1486.45 1022.73,47.2441 \n",
       "  \"/>\n",
       "<polyline clip-path=\"url(#clip192)\" style=\"stroke:#000000; stroke-width:2; stroke-opacity:0.1; fill:none\" points=\"\n",
       "  1431.59,1486.45 1431.59,47.2441 \n",
       "  \"/>\n",
       "<polyline clip-path=\"url(#clip192)\" style=\"stroke:#000000; stroke-width:2; stroke-opacity:0.1; fill:none\" points=\"\n",
       "  1840.45,1486.45 1840.45,47.2441 \n",
       "  \"/>\n",
       "<polyline clip-path=\"url(#clip192)\" style=\"stroke:#000000; stroke-width:2; stroke-opacity:0.1; fill:none\" points=\"\n",
       "  2249.31,1486.45 2249.31,47.2441 \n",
       "  \"/>\n",
       "<polyline clip-path=\"url(#clip192)\" style=\"stroke:#000000; stroke-width:2; stroke-opacity:0.1; fill:none\" points=\"\n",
       "  142.455,1433.4 2352.76,1433.4 \n",
       "  \"/>\n",
       "<polyline clip-path=\"url(#clip192)\" style=\"stroke:#000000; stroke-width:2; stroke-opacity:0.1; fill:none\" points=\"\n",
       "  142.455,1035.57 2352.76,1035.57 \n",
       "  \"/>\n",
       "<polyline clip-path=\"url(#clip192)\" style=\"stroke:#000000; stroke-width:2; stroke-opacity:0.1; fill:none\" points=\"\n",
       "  142.455,637.743 2352.76,637.743 \n",
       "  \"/>\n",
       "<polyline clip-path=\"url(#clip192)\" style=\"stroke:#000000; stroke-width:2; stroke-opacity:0.1; fill:none\" points=\"\n",
       "  142.455,239.913 2352.76,239.913 \n",
       "  \"/>\n",
       "<polyline clip-path=\"url(#clip190)\" style=\"stroke:#000000; stroke-width:4; stroke-opacity:1; fill:none\" points=\"\n",
       "  142.455,1486.45 2352.76,1486.45 \n",
       "  \"/>\n",
       "<polyline clip-path=\"url(#clip190)\" style=\"stroke:#000000; stroke-width:4; stroke-opacity:1; fill:none\" points=\"\n",
       "  142.455,1486.45 142.455,47.2441 \n",
       "  \"/>\n",
       "<polyline clip-path=\"url(#clip190)\" style=\"stroke:#000000; stroke-width:4; stroke-opacity:1; fill:none\" points=\"\n",
       "  205.01,1486.45 205.01,1469.18 \n",
       "  \"/>\n",
       "<polyline clip-path=\"url(#clip190)\" style=\"stroke:#000000; stroke-width:4; stroke-opacity:1; fill:none\" points=\"\n",
       "  613.871,1486.45 613.871,1469.18 \n",
       "  \"/>\n",
       "<polyline clip-path=\"url(#clip190)\" style=\"stroke:#000000; stroke-width:4; stroke-opacity:1; fill:none\" points=\"\n",
       "  1022.73,1486.45 1022.73,1469.18 \n",
       "  \"/>\n",
       "<polyline clip-path=\"url(#clip190)\" style=\"stroke:#000000; stroke-width:4; stroke-opacity:1; fill:none\" points=\"\n",
       "  1431.59,1486.45 1431.59,1469.18 \n",
       "  \"/>\n",
       "<polyline clip-path=\"url(#clip190)\" style=\"stroke:#000000; stroke-width:4; stroke-opacity:1; fill:none\" points=\"\n",
       "  1840.45,1486.45 1840.45,1469.18 \n",
       "  \"/>\n",
       "<polyline clip-path=\"url(#clip190)\" style=\"stroke:#000000; stroke-width:4; stroke-opacity:1; fill:none\" points=\"\n",
       "  2249.31,1486.45 2249.31,1469.18 \n",
       "  \"/>\n",
       "<polyline clip-path=\"url(#clip190)\" style=\"stroke:#000000; stroke-width:4; stroke-opacity:1; fill:none\" points=\"\n",
       "  142.455,1433.4 168.978,1433.4 \n",
       "  \"/>\n",
       "<polyline clip-path=\"url(#clip190)\" style=\"stroke:#000000; stroke-width:4; stroke-opacity:1; fill:none\" points=\"\n",
       "  142.455,1035.57 168.978,1035.57 \n",
       "  \"/>\n",
       "<polyline clip-path=\"url(#clip190)\" style=\"stroke:#000000; stroke-width:4; stroke-opacity:1; fill:none\" points=\"\n",
       "  142.455,637.743 168.978,637.743 \n",
       "  \"/>\n",
       "<polyline clip-path=\"url(#clip190)\" style=\"stroke:#000000; stroke-width:4; stroke-opacity:1; fill:none\" points=\"\n",
       "  142.455,239.913 168.978,239.913 \n",
       "  \"/>\n",
       "<path clip-path=\"url(#clip190)\" d=\"M 0 0 M205.01 1508.44 Q201.399 1508.44 199.571 1512 Q197.765 1515.55 197.765 1522.67 Q197.765 1529.78 199.571 1533.35 Q201.399 1536.89 205.01 1536.89 Q208.645 1536.89 210.45 1533.35 Q212.279 1529.78 212.279 1522.67 Q212.279 1515.55 210.45 1512 Q208.645 1508.44 205.01 1508.44 M205.01 1504.73 Q210.821 1504.73 213.876 1509.34 Q216.955 1513.92 216.955 1522.67 Q216.955 1531.4 213.876 1536.01 Q210.821 1540.59 205.01 1540.59 Q199.2 1540.59 196.122 1536.01 Q193.066 1531.4 193.066 1522.67 Q193.066 1513.92 196.122 1509.34 Q199.2 1504.73 205.01 1504.73 Z\" fill=\"#000000\" fill-rule=\"evenodd\" fill-opacity=\"1\" /><path clip-path=\"url(#clip190)\" d=\"M 0 0 M604.253 1535.98 L611.892 1535.98 L611.892 1509.62 L603.582 1511.29 L603.582 1507.03 L611.846 1505.36 L616.522 1505.36 L616.522 1535.98 L624.161 1535.98 L624.161 1539.92 L604.253 1539.92 L604.253 1535.98 Z\" fill=\"#000000\" fill-rule=\"evenodd\" fill-opacity=\"1\" /><path clip-path=\"url(#clip190)\" d=\"M 0 0 M1017.38 1535.98 L1033.7 1535.98 L1033.7 1539.92 L1011.76 1539.92 L1011.76 1535.98 Q1014.42 1533.23 1019.01 1528.6 Q1023.61 1523.95 1024.79 1522.61 Q1027.04 1520.08 1027.92 1518.35 Q1028.82 1516.59 1028.82 1514.9 Q1028.82 1512.14 1026.88 1510.41 Q1024.95 1508.67 1021.85 1508.67 Q1019.65 1508.67 1017.2 1509.43 Q1014.77 1510.2 1011.99 1511.75 L1011.99 1507.03 Q1014.82 1505.89 1017.27 1505.31 Q1019.72 1504.73 1021.76 1504.73 Q1027.13 1504.73 1030.32 1507.42 Q1033.52 1510.11 1033.52 1514.6 Q1033.52 1516.73 1032.71 1518.65 Q1031.92 1520.54 1029.82 1523.14 Q1029.24 1523.81 1026.13 1527.03 Q1023.03 1530.22 1017.38 1535.98 Z\" fill=\"#000000\" fill-rule=\"evenodd\" fill-opacity=\"1\" /><path clip-path=\"url(#clip190)\" d=\"M 0 0 M1435.84 1521.29 Q1439.2 1522 1441.07 1524.27 Q1442.97 1526.54 1442.97 1529.87 Q1442.97 1534.99 1439.45 1537.79 Q1435.93 1540.59 1429.45 1540.59 Q1427.28 1540.59 1424.96 1540.15 Q1422.67 1539.73 1420.22 1538.88 L1420.22 1534.36 Q1422.16 1535.5 1424.47 1536.08 Q1426.79 1536.66 1429.31 1536.66 Q1433.71 1536.66 1436 1534.92 Q1438.32 1533.18 1438.32 1529.87 Q1438.32 1526.82 1436.16 1525.11 Q1434.03 1523.37 1430.22 1523.37 L1426.19 1523.37 L1426.19 1519.53 L1430.4 1519.53 Q1433.85 1519.53 1435.68 1518.16 Q1437.51 1516.77 1437.51 1514.18 Q1437.51 1511.52 1435.61 1510.11 Q1433.73 1508.67 1430.22 1508.67 Q1428.29 1508.67 1426.1 1509.09 Q1423.9 1509.5 1421.26 1510.38 L1421.26 1506.22 Q1423.92 1505.48 1426.23 1505.11 Q1428.57 1504.73 1430.63 1504.73 Q1435.96 1504.73 1439.06 1507.17 Q1442.16 1509.57 1442.16 1513.69 Q1442.16 1516.56 1440.52 1518.55 Q1438.87 1520.52 1435.84 1521.29 Z\" fill=\"#000000\" fill-rule=\"evenodd\" fill-opacity=\"1\" /><path clip-path=\"url(#clip190)\" d=\"M 0 0 M1843.46 1509.43 L1831.66 1527.88 L1843.46 1527.88 L1843.46 1509.43 M1842.24 1505.36 L1848.12 1505.36 L1848.12 1527.88 L1853.05 1527.88 L1853.05 1531.77 L1848.12 1531.77 L1848.12 1539.92 L1843.46 1539.92 L1843.46 1531.77 L1827.86 1531.77 L1827.86 1527.26 L1842.24 1505.36 Z\" fill=\"#000000\" fill-rule=\"evenodd\" fill-opacity=\"1\" /><path clip-path=\"url(#clip190)\" d=\"M 0 0 M2239.59 1505.36 L2257.95 1505.36 L2257.95 1509.3 L2243.87 1509.3 L2243.87 1517.77 Q2244.89 1517.42 2245.91 1517.26 Q2246.93 1517.07 2247.95 1517.07 Q2253.74 1517.07 2257.12 1520.24 Q2260.49 1523.42 2260.49 1528.83 Q2260.49 1534.41 2257.02 1537.51 Q2253.55 1540.59 2247.23 1540.59 Q2245.05 1540.59 2242.79 1540.22 Q2240.54 1539.85 2238.13 1539.11 L2238.13 1534.41 Q2240.22 1535.54 2242.44 1536.1 Q2244.66 1536.66 2247.14 1536.66 Q2251.14 1536.66 2253.48 1534.55 Q2255.82 1532.44 2255.82 1528.83 Q2255.82 1525.22 2253.48 1523.11 Q2251.14 1521.01 2247.14 1521.01 Q2245.26 1521.01 2243.39 1521.42 Q2241.54 1521.84 2239.59 1522.72 L2239.59 1505.36 Z\" fill=\"#000000\" fill-rule=\"evenodd\" fill-opacity=\"1\" /><path clip-path=\"url(#clip190)\" d=\"M 0 0 M62.9921 1433.85 L92.6679 1433.85 L92.6679 1437.79 L62.9921 1437.79 L62.9921 1433.85 Z\" fill=\"#000000\" fill-rule=\"evenodd\" fill-opacity=\"1\" /><path clip-path=\"url(#clip190)\" d=\"M 0 0 M98.5475 1446.75 L106.186 1446.75 L106.186 1420.38 L97.8762 1422.05 L97.8762 1417.79 L106.14 1416.12 L110.816 1416.12 L110.816 1446.75 L118.455 1446.75 L118.455 1450.68 L98.5475 1450.68 L98.5475 1446.75 Z\" fill=\"#000000\" fill-rule=\"evenodd\" fill-opacity=\"1\" /><path clip-path=\"url(#clip190)\" d=\"M 0 0 M106.51 1021.37 Q102.899 1021.37 101.071 1024.94 Q99.2651 1028.48 99.2651 1035.61 Q99.2651 1042.71 101.071 1046.28 Q102.899 1049.82 106.51 1049.82 Q110.145 1049.82 111.95 1046.28 Q113.779 1042.71 113.779 1035.61 Q113.779 1028.48 111.95 1024.94 Q110.145 1021.37 106.51 1021.37 M106.51 1017.67 Q112.321 1017.67 115.376 1022.27 Q118.455 1026.86 118.455 1035.61 Q118.455 1044.33 115.376 1048.94 Q112.321 1053.52 106.51 1053.52 Q100.7 1053.52 97.6216 1048.94 Q94.566 1044.33 94.566 1035.61 Q94.566 1026.86 97.6216 1022.27 Q100.7 1017.67 106.51 1017.67 Z\" fill=\"#000000\" fill-rule=\"evenodd\" fill-opacity=\"1\" /><path clip-path=\"url(#clip190)\" d=\"M 0 0 M98.5475 651.088 L106.186 651.088 L106.186 624.722 L97.8762 626.389 L97.8762 622.129 L106.14 620.463 L110.816 620.463 L110.816 651.088 L118.455 651.088 L118.455 655.023 L98.5475 655.023 L98.5475 651.088 Z\" fill=\"#000000\" fill-rule=\"evenodd\" fill-opacity=\"1\" /><path clip-path=\"url(#clip190)\" d=\"M 0 0 M102.135 253.258 L118.455 253.258 L118.455 257.193 L96.5105 257.193 L96.5105 253.258 Q99.1725 250.503 103.756 245.874 Q108.362 241.221 109.543 239.878 Q111.788 237.355 112.668 235.619 Q113.571 233.86 113.571 232.17 Q113.571 229.416 111.626 227.679 Q109.705 225.943 106.603 225.943 Q104.404 225.943 101.95 226.707 Q99.5197 227.471 96.7419 229.022 L96.7419 224.3 Q99.566 223.166 102.02 222.587 Q104.473 222.008 106.51 222.008 Q111.881 222.008 115.075 224.693 Q118.27 227.379 118.27 231.869 Q118.27 233.999 117.459 235.92 Q116.672 237.818 114.566 240.411 Q113.987 241.082 110.885 244.3 Q107.784 247.494 102.135 253.258 Z\" fill=\"#000000\" fill-rule=\"evenodd\" fill-opacity=\"1\" /><polyline clip-path=\"url(#clip192)\" style=\"stroke:#009af9; stroke-width:4; stroke-opacity:1; fill:none\" points=\"\n",
       "  205.01,1141.92 215.489,1097.33 225.967,1087.84 236.446,1108.95 246.924,1056.07 257.402,1095.37 267.881,1042.39 278.359,1013.18 288.837,1035 299.316,955.281 \n",
       "  309.794,949.4 320.272,975.636 330.751,1003.2 341.229,918.645 351.707,980.753 362.186,972.646 372.664,929.445 383.142,937.101 393.621,936.039 404.099,929.571 \n",
       "  414.577,810.574 425.056,901.101 435.534,821.377 446.012,870.718 456.491,841.418 466.969,815.007 477.447,803.802 487.926,758.025 498.404,766.101 508.882,753.673 \n",
       "  519.361,699.532 529.839,715.72 540.317,689.602 550.796,699.993 561.274,694.208 571.752,679.893 582.231,661.143 592.709,676.925 603.187,692.854 613.666,655.682 \n",
       "  624.144,598.72 634.622,636.755 645.101,683.615 655.579,645.196 666.057,610.729 676.536,681.143 687.014,542.287 697.492,638.37 707.971,604.886 718.449,685.744 \n",
       "  728.928,594.086 739.406,584.337 749.884,585.209 760.363,523.01 770.841,574.411 781.319,654.898 791.798,567.801 802.276,650.78 812.754,544.088 823.233,565.534 \n",
       "  833.711,505.876 844.189,558.996 854.668,632.482 865.146,512.966 875.624,582.709 886.103,632.311 896.581,562.058 907.059,518.545 917.538,571.707 928.016,583.569 \n",
       "  938.494,609.678 948.973,529.697 959.451,568.374 969.929,633.391 980.408,700.576 990.886,668.779 1001.36,571.256 1011.84,569.398 1022.32,622.979 1032.8,585.601 \n",
       "  1043.28,671.708 1053.76,695.998 1064.23,678.706 1074.71,689.632 1085.19,652.264 1095.67,589.721 1106.15,629.377 1116.63,728.967 1127.1,681.291 1137.58,760.919 \n",
       "  1148.06,731.131 1158.54,696.275 1169.02,771.47 1179.5,748.587 1189.97,748.545 1200.45,813.17 1210.93,831.57 1221.41,803.551 1231.89,835.131 1242.37,868.627 \n",
       "  1252.84,874.385 1263.32,865.975 1273.8,857.891 1284.28,911.965 1294.76,938.981 1305.24,890.048 1315.71,977.527 1326.19,938.954 1336.67,949.827 1347.15,1034.98 \n",
       "  1357.63,944.172 1368.11,999.825 1378.58,925.025 1389.06,1005.78 1399.54,967.199 1410.02,1019.49 1420.5,1037.89 1430.98,1088.61 1441.45,1089.46 1451.93,1059.98 \n",
       "  1462.41,1024.77 1472.89,1094.8 1483.37,1127.72 1493.85,1130.64 1504.32,1196.08 1514.8,1150.51 1525.28,1212.63 1535.76,1223.44 1546.24,1105.09 1556.72,1187.27 \n",
       "  1567.19,1194.98 1577.67,1148.01 1588.15,1197.56 1598.63,1179.33 1609.11,1210.1 1619.59,1287.72 1630.06,1180.07 1640.54,1278.67 1651.02,1221.67 1661.5,1237.16 \n",
       "  1671.98,1195.92 1682.46,1260.62 1692.93,1274.16 1703.41,1293.94 1713.89,1315.08 1724.37,1322.51 1734.85,1319.72 1745.33,1309.37 1755.8,1315.47 1766.28,1287.82 \n",
       "  1776.76,1316.93 1787.24,1294.47 1797.72,1326.02 1808.2,1383.78 1818.67,1328.35 1829.15,1337.85 1839.63,1292.58 1850.11,1337.86 1860.59,1371.48 1871.07,1288.63 \n",
       "  1881.54,1347.67 1892.02,1306.16 1902.5,1268.05 1912.98,1340.37 1923.46,1260.65 1933.94,1349.04 1944.41,1408.7 1954.89,1326.19 1965.37,1363.13 1975.85,1321.53 \n",
       "  1986.33,1298.56 1996.81,1386.85 2007.29,1303.97 2017.76,1413.56 2028.24,1324.75 2038.72,1300.47 2049.2,1304.21 2059.68,1328.34 2070.16,1341.66 2080.63,1358.77 \n",
       "  2091.11,1348.63 2101.59,1307.98 2112.07,1341.57 2122.55,1308.42 2133.03,1276.4 2143.5,1344.84 2153.98,1374.14 2164.46,1445.72 2174.94,1308.59 2185.42,1388.4 \n",
       "  2195.9,1381.22 2206.37,1404.38 2216.85,1325.47 2227.33,1286.23 2237.81,1309.96 2248.29,1373.19 2258.77,1301.2 2269.24,1392.07 2279.72,1282.86 2290.2,1271.66 \n",
       "  \n",
       "  \"/>\n",
       "<polyline clip-path=\"url(#clip192)\" style=\"stroke:#e26f46; stroke-width:4; stroke-opacity:1; fill:none\" points=\"\n",
       "  245.897,661.423 286.783,616.945 327.669,576.761 368.555,539.806 409.441,506.952 450.327,476.879 491.213,450.429 532.099,427.508 572.985,408.49 613.871,395.497 \n",
       "  654.757,386.634 695.643,383.644 736.529,384.922 777.416,392.184 818.302,405.607 859.188,425.7 900.074,452.055 940.96,484.222 981.846,521.305 1022.73,561.774 \n",
       "  1063.62,606.144 1104.5,653.8 1145.39,705.144 1186.28,758.227 1227.16,812.179 1268.05,866.347 1308.93,919.734 1349.82,972.642 1390.71,1023.83 1431.59,1073.38 \n",
       "  1472.48,1119.86 1513.36,1162.83 1554.25,1201.29 1595.14,1236.05 1636.02,1266.87 1676.91,1293.56 1717.8,1316.56 1758.68,1335.77 1799.57,1352.54 1840.45,1366.08 \n",
       "  1881.34,1376.54 1922.23,1384.21 1963.11,1391.16 2004,1397.19 2044.88,1402.29 2085.77,1406.71 2126.66,1410.25 2167.54,1413.75 2208.43,1417.05 2249.31,1420.52 \n",
       "  \n",
       "  \"/>\n",
       "<polyline clip-path=\"url(#clip192)\" style=\"stroke:#3da44d; stroke-width:4; stroke-opacity:1; fill:none\" points=\"\n",
       "  245.897,861.846 286.783,846.053 327.669,830.26 368.555,814.466 409.441,798.673 450.327,782.88 491.213,767.087 532.099,751.293 572.985,735.5 613.871,719.707 \n",
       "  654.757,703.914 695.643,688.12 736.529,672.327 777.416,656.534 818.302,640.741 859.188,624.947 900.074,609.154 940.96,593.361 981.846,577.567 1022.73,561.774 \n",
       "  1063.62,545.981 1104.5,530.188 1145.39,514.394 1186.28,498.601 1227.16,482.808 1268.05,467.015 1308.93,451.221 1349.82,435.428 1390.71,419.635 1431.59,403.842 \n",
       "  1472.48,388.048 1513.36,372.255 1554.25,356.462 1595.14,340.669 1636.02,324.875 1676.91,309.082 1717.8,293.289 1758.68,277.495 1799.57,261.702 1840.45,245.909 \n",
       "  1881.34,230.116 1922.23,214.322 1963.11,198.529 2004,182.736 2044.88,166.943 2085.77,151.149 2126.66,135.356 2167.54,119.563 2208.43,103.77 2249.31,87.9763 \n",
       "  \n",
       "  \"/>\n",
       "<path clip-path=\"url(#clip190)\" d=\"\n",
       "M1981.89 337.138 L2279.08 337.138 L2279.08 95.2176 L1981.89 95.2176  Z\n",
       "  \" fill=\"#ffffff\" fill-rule=\"evenodd\" fill-opacity=\"1\"/>\n",
       "<polyline clip-path=\"url(#clip190)\" style=\"stroke:#000000; stroke-width:4; stroke-opacity:1; fill:none\" points=\"\n",
       "  1981.89,337.138 2279.08,337.138 2279.08,95.2176 1981.89,95.2176 1981.89,337.138 \n",
       "  \"/>\n",
       "<polyline clip-path=\"url(#clip190)\" style=\"stroke:#009af9; stroke-width:4; stroke-opacity:1; fill:none\" points=\"\n",
       "  2006.45,155.698 2153.81,155.698 \n",
       "  \"/>\n",
       "<path clip-path=\"url(#clip190)\" d=\"M 0 0 M2192.21 175.385 Q2190.4 180.015 2188.69 181.427 Q2186.98 182.839 2184.11 182.839 L2180.7 182.839 L2180.7 179.274 L2183.2 179.274 Q2184.96 179.274 2185.93 178.44 Q2186.91 177.607 2188.09 174.505 L2188.85 172.561 L2178.36 147.052 L2182.88 147.052 L2190.98 167.329 L2199.08 147.052 L2203.6 147.052 L2192.21 175.385 Z\" fill=\"#000000\" fill-rule=\"evenodd\" fill-opacity=\"1\" /><path clip-path=\"url(#clip190)\" d=\"M 0 0 M2209.48 169.042 L2217.11 169.042 L2217.11 142.677 L2208.8 144.343 L2208.8 140.084 L2217.07 138.418 L2221.74 138.418 L2221.74 169.042 L2229.38 169.042 L2229.38 172.978 L2209.48 172.978 L2209.48 169.042 Z\" fill=\"#000000\" fill-rule=\"evenodd\" fill-opacity=\"1\" /><polyline clip-path=\"url(#clip190)\" style=\"stroke:#e26f46; stroke-width:4; stroke-opacity:1; fill:none\" points=\"\n",
       "  2006.45,216.178 2153.81,216.178 \n",
       "  \"/>\n",
       "<path clip-path=\"url(#clip190)\" d=\"M 0 0 M2192.21 235.865 Q2190.4 240.495 2188.69 241.907 Q2186.98 243.319 2184.11 243.319 L2180.7 243.319 L2180.7 239.754 L2183.2 239.754 Q2184.96 239.754 2185.93 238.92 Q2186.91 238.087 2188.09 234.985 L2188.85 233.041 L2178.36 207.532 L2182.88 207.532 L2190.98 227.809 L2199.08 207.532 L2203.6 207.532 L2192.21 235.865 Z\" fill=\"#000000\" fill-rule=\"evenodd\" fill-opacity=\"1\" /><path clip-path=\"url(#clip190)\" d=\"M 0 0 M2212.69 229.522 L2229.01 229.522 L2229.01 233.458 L2207.07 233.458 L2207.07 229.522 Q2209.73 226.768 2214.31 222.138 Q2218.92 217.485 2220.1 216.143 Q2222.35 213.62 2223.23 211.884 Q2224.13 210.124 2224.13 208.435 Q2224.13 205.68 2222.18 203.944 Q2220.26 202.208 2217.16 202.208 Q2214.96 202.208 2212.51 202.972 Q2210.08 203.735 2207.3 205.286 L2207.3 200.564 Q2210.12 199.43 2212.58 198.851 Q2215.03 198.273 2217.07 198.273 Q2222.44 198.273 2225.63 200.958 Q2228.83 203.643 2228.83 208.134 Q2228.83 210.263 2228.02 212.185 Q2227.23 214.083 2225.12 216.675 Q2224.54 217.347 2221.44 220.564 Q2218.34 223.759 2212.69 229.522 Z\" fill=\"#000000\" fill-rule=\"evenodd\" fill-opacity=\"1\" /><polyline clip-path=\"url(#clip190)\" style=\"stroke:#3da44d; stroke-width:4; stroke-opacity:1; fill:none\" points=\"\n",
       "  2006.45,276.658 2153.81,276.658 \n",
       "  \"/>\n",
       "<path clip-path=\"url(#clip190)\" d=\"M 0 0 M2192.21 296.345 Q2190.4 300.975 2188.69 302.387 Q2186.98 303.799 2184.11 303.799 L2180.7 303.799 L2180.7 300.234 L2183.2 300.234 Q2184.96 300.234 2185.93 299.4 Q2186.91 298.567 2188.09 295.465 L2188.85 293.521 L2178.36 268.012 L2182.88 268.012 L2190.98 288.289 L2199.08 268.012 L2203.6 268.012 L2192.21 296.345 Z\" fill=\"#000000\" fill-rule=\"evenodd\" fill-opacity=\"1\" /><path clip-path=\"url(#clip190)\" d=\"M 0 0 M2222.83 275.303 Q2226.19 276.021 2228.06 278.289 Q2229.96 280.558 2229.96 283.891 Q2229.96 289.007 2226.44 291.808 Q2222.92 294.609 2216.44 294.609 Q2214.27 294.609 2211.95 294.169 Q2209.66 293.752 2207.21 292.896 L2207.21 288.382 Q2209.15 289.516 2211.47 290.095 Q2213.78 290.674 2216.3 290.674 Q2220.7 290.674 2222.99 288.938 Q2225.31 287.201 2225.31 283.891 Q2225.31 280.836 2223.16 279.123 Q2221.03 277.387 2217.21 277.387 L2213.18 277.387 L2213.18 273.544 L2217.39 273.544 Q2220.84 273.544 2222.67 272.178 Q2224.5 270.79 2224.5 268.197 Q2224.5 265.535 2222.6 264.123 Q2220.73 262.688 2217.21 262.688 Q2215.29 262.688 2213.09 263.104 Q2210.89 263.521 2208.25 264.401 L2208.25 260.234 Q2210.91 259.493 2213.23 259.123 Q2215.56 258.753 2217.62 258.753 Q2222.95 258.753 2226.05 261.183 Q2229.15 263.59 2229.15 267.711 Q2229.15 270.581 2227.51 272.572 Q2225.86 274.54 2222.83 275.303 Z\" fill=\"#000000\" fill-rule=\"evenodd\" fill-opacity=\"1\" /></svg>\n"
      ]
     },
     "execution_count": 164,
     "metadata": {},
     "output_type": "execute_result"
    }
   ],
   "source": [
    "plot(x, y)\n",
    "plot!(points, fit)\n",
    "plot!(points, at2Line)"
   ]
  },
  {
   "cell_type": "code",
   "execution_count": null,
   "metadata": {},
   "outputs": [],
   "source": []
  }
 ],
 "metadata": {
  "kernelspec": {
   "display_name": "Julia 1.5.1",
   "language": "julia",
   "name": "julia-1.5"
  },
  "language_info": {
   "file_extension": ".jl",
   "mimetype": "application/julia",
   "name": "julia",
   "version": "1.5.1"
  }
 },
 "nbformat": 4,
 "nbformat_minor": 4
}
