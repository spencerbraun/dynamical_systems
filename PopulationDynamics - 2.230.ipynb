{
 "cells": [
  {
   "cell_type": "code",
   "execution_count": 177,
   "metadata": {},
   "outputs": [],
   "source": [
    "using Plots\n",
    "using Statistics\n",
    "using LinearAlgebra\n",
    "using JSON"
   ]
  },
  {
   "cell_type": "markdown",
   "metadata": {},
   "source": [
    "### 2.230 Population Dynamics"
   ]
  },
  {
   "cell_type": "markdown",
   "metadata": {},
   "source": [
    "An ecosystem consists of $n$ species that interact (say, by eating other species, eating each other's food sources, eating each other's predators, and so on). We let $x(t) \\in \\mathbb{R}^{n}$ be the vector of deviations of the species populations (say, in thousands) from some equilibrium values (which don't matter here), in time period (say, month) $t$. In this model, time will take on the discrete values $t=0,1,2, \\ldots . .$ Thus $x_{3}(4)<0$ means that the population of species 3 in time period 4 is below its equilibrium level. (It does not mean the population of species 3 is negative in time period $4 .$ ) The population (deviations) follows a discrete-time linear dynamical system:\n",
    "\n",
    "$x(t+1)=A x(t)$\n",
    "\n",
    "We refer to x(0)as the initial population perturbation. The questions below pertain to the specific case with n=10 species, with matrix A given in pop_dyn_data.m"
   ]
  },
  {
   "cell_type": "code",
   "execution_count": 2,
   "metadata": {},
   "outputs": [],
   "source": [
    "# ; wget http://ee263.stanford.edu/hw/pop_dyn_data.json"
   ]
  },
  {
   "cell_type": "code",
   "execution_count": 1,
   "metadata": {},
   "outputs": [],
   "source": [
    "# ; wget http://ee263.stanford.edu/hw/readclassjson.jl"
   ]
  },
  {
   "cell_type": "markdown",
   "metadata": {},
   "source": [
    "## a) \n",
    "\n",
    "Suppose the initial perturbation is $x(0)=e_{4}$ (meaning, we inject one thousand new creatures of species 4 into the ecosystem at $t=0$ ). How long will it take to affect the other species populations? In other words, report a vector $s,$ where $s_{i}$ is the smallest $t$ for which $x_{i}(t) \\neq 0 .$ (We have $s_{4}=0$ )."
   ]
  },
  {
   "cell_type": "code",
   "execution_count": 183,
   "metadata": {},
   "outputs": [
    {
     "data": {
      "text/plain": [
       "1"
      ]
     },
     "execution_count": 183,
     "metadata": {},
     "output_type": "execute_result"
    }
   ],
   "source": [
    "include(\"readclassjson.jl\")\n",
    "\n",
    "data = readclassjson(\"data/pop_dyn_data.json\")\n",
    "A = data[\"A\"]\n",
    "\n",
    "e4 = zeros(10, 1)\n",
    "e4[4] = 1"
   ]
  },
  {
   "cell_type": "code",
   "execution_count": 184,
   "metadata": {},
   "outputs": [],
   "source": [
    "s = zeros(10, 1)\n",
    "zs = 10\n",
    "t = 0\n",
    "x_t = e4\n",
    "while zs > 1\n",
    "    x = A * x_t\n",
    "    x_t = x\n",
    "    t += 1\n",
    "    inter = intersect(findall(s->s==0, s),  findall(x->x!=0, x_t))\n",
    "    idx = filter(e-> e != CartesianIndex(4, 1), inter)\n",
    "    s[idx] .= t\n",
    "    zs = sum(s.==0)\n",
    "end\n"
   ]
  },
  {
   "cell_type": "code",
   "execution_count": 185,
   "metadata": {},
   "outputs": [
    {
     "data": {
      "text/plain": [
       "10×1 Array{Float64,2}:\n",
       " 4.0\n",
       " 2.0\n",
       " 1.0\n",
       " 0.0\n",
       " 4.0\n",
       " 3.0\n",
       " 3.0\n",
       " 2.0\n",
       " 4.0\n",
       " 3.0"
      ]
     },
     "execution_count": 185,
     "metadata": {},
     "output_type": "execute_result"
    }
   ],
   "source": [
    "s"
   ]
  },
  {
   "cell_type": "markdown",
   "metadata": {},
   "source": [
    "## b) Population control\n",
    "\n",
    "We can choose any initial perturbation that satisfies $\\left|x_{i}(0)\\right| \\leq 1$ for each $i=1, \\ldots, 10 .$ (We achieve this by introducing additional creatures and/or hunting and fishing.) What initial perturbation $x(0)$ would you choose in order to maximize the population of species 1 at time $t=10 ?$ Explain your reasoning. Give the initial perturbation, and using your selected initial perturbation, give $x_{1}(10)$ and plot $x_{1}(t)$ versus $t$ for $t=0, \\ldots, 40$"
   ]
  },
  {
   "cell_type": "markdown",
   "metadata": {},
   "source": [
    "First, each vector x(t) is formed by multiplying A by the output of the last multiplication, x(t-1). Therefore to get from t=0 to t=10 directly, we can multiply x(0) by A 10 times in a row, or equivalently by $A^{10}$. "
   ]
  },
  {
   "cell_type": "code",
   "execution_count": 145,
   "metadata": {},
   "outputs": [
    {
     "data": {
      "text/plain": [
       "10×10 Array{Float64,2}:\n",
       " -0.141283   -0.222126    0.211576   -0.109539   …   0.0728288   -0.00669028\n",
       "  0.189949    0.178999   -0.224136    0.130759      -0.0292531    0.0220555\n",
       " -0.329879   -0.290752    0.378378   -0.227495       0.046582    -0.0394566\n",
       "  0.132577    0.141948   -0.160779    0.0929931     -0.0289555    0.0132879\n",
       "  0.0253133   0.0366763  -0.0361538   0.0191936     -0.0113601    0.00180215\n",
       " -0.236533   -0.305988    0.318023   -0.174102   …   0.0844258   -0.0198052\n",
       " -0.339636   -0.43558     0.453029   -0.249089       0.118378    -0.0288531\n",
       " -0.13614    -0.121563    0.159938   -0.094182       0.0200446   -0.0161335\n",
       " -0.151151   -0.213296    0.211637   -0.113919       0.0650082   -0.0110078\n",
       " -0.0323288  -0.0148114   0.0314869  -0.0208241     -0.00337123   0.00540534"
      ]
     },
     "execution_count": 145,
     "metadata": {},
     "output_type": "execute_result"
    }
   ],
   "source": [
    "A10 = A^10"
   ]
  },
  {
   "cell_type": "markdown",
   "metadata": {},
   "source": [
    "Second, we saw in class that in the equation y = Ax, $y_i$ is the inner product  of the ith row of A with x. Thus in $ x(10) = A^{10} x(0)$, $x_1(10) = \\langle A^{10}_{1.}, x(0)\\rangle$. With the constraint $\\left|x_{i}(0)\\right| \\leq 1$, it is then clear that the x(0) that maximizes $x_i(10)$ will have -1 entries to maximize the addition of negative entries of $A^{10}_{1.}$ and +1 entries to maximize the positive entries. Looking at $A^{10}_1$:"
   ]
  },
  {
   "cell_type": "code",
   "execution_count": 157,
   "metadata": {},
   "outputs": [
    {
     "data": {
      "text/plain": [
       "10-element Array{Float64,1}:\n",
       " -0.14128324295499142\n",
       " -0.2221257123811655\n",
       "  0.21157593252145163\n",
       " -0.1095387185207043\n",
       "  0.003971427594502857\n",
       "  0.07758131191295213\n",
       "  0.06070967438130133\n",
       "  0.15773848291090417\n",
       "  0.07282876866893216\n",
       " -0.006690275989246299"
      ]
     },
     "execution_count": 157,
     "metadata": {},
     "output_type": "execute_result"
    }
   ],
   "source": [
    "A10[1, :]"
   ]
  },
  {
   "cell_type": "code",
   "execution_count": 158,
   "metadata": {},
   "outputs": [
    {
     "data": {
      "text/plain": [
       "10-element Array{Float64,1}:\n",
       " -1.0\n",
       " -1.0\n",
       "  1.0\n",
       " -1.0\n",
       "  1.0\n",
       "  1.0\n",
       "  1.0\n",
       "  1.0\n",
       "  1.0\n",
       " -1.0"
      ]
     },
     "execution_count": 158,
     "metadata": {},
     "output_type": "execute_result"
    }
   ],
   "source": [
    "x_0 = A10[1, :] ./ abs.(A10[1, :])"
   ]
  },
  {
   "cell_type": "markdown",
   "metadata": {},
   "source": [
    "Therefore the maximum value of $x_1(10)$ is given by:"
   ]
  },
  {
   "cell_type": "code",
   "execution_count": 182,
   "metadata": {},
   "outputs": [
    {
     "data": {
      "text/plain": [
       "1.0640435478361518"
      ]
     },
     "execution_count": 182,
     "metadata": {},
     "output_type": "execute_result"
    }
   ],
   "source": [
    "(A10 * x_0)[1]"
   ]
  },
  {
   "cell_type": "markdown",
   "metadata": {},
   "source": [
    "Turning to the plot of $x_1(t)$ over time:"
   ]
  },
  {
   "cell_type": "code",
   "execution_count": 179,
   "metadata": {},
   "outputs": [],
   "source": [
    "t = 1:40\n",
    "x_t = x_0\n",
    "x_1 = [x_0[1]]\n",
    "for i in t\n",
    "    x = A * x_t\n",
    "    append!(x_1, x[1])\n",
    "    x_t = x\n",
    "end    "
   ]
  },
  {
   "cell_type": "code",
   "execution_count": 181,
   "metadata": {},
   "outputs": [
    {
     "data": {
      "image/svg+xml": [
       "<?xml version=\"1.0\" encoding=\"utf-8\"?>\n",
       "<svg xmlns=\"http://www.w3.org/2000/svg\" xmlns:xlink=\"http://www.w3.org/1999/xlink\" width=\"600\" height=\"400\" viewBox=\"0 0 2400 1600\">\n",
       "<defs>\n",
       "  <clipPath id=\"clip620\">\n",
       "    <rect x=\"0\" y=\"0\" width=\"2400\" height=\"1600\"/>\n",
       "  </clipPath>\n",
       "</defs>\n",
       "<path clip-path=\"url(#clip620)\" d=\"\n",
       "M0 1600 L2400 1600 L2400 0 L0 0  Z\n",
       "  \" fill=\"#ffffff\" fill-rule=\"evenodd\" fill-opacity=\"1\"/>\n",
       "<defs>\n",
       "  <clipPath id=\"clip621\">\n",
       "    <rect x=\"480\" y=\"0\" width=\"1681\" height=\"1600\"/>\n",
       "  </clipPath>\n",
       "</defs>\n",
       "<path clip-path=\"url(#clip620)\" d=\"\n",
       "M179.654 1486.45 L2352.76 1486.45 L2352.76 47.2441 L179.654 47.2441  Z\n",
       "  \" fill=\"#ffffff\" fill-rule=\"evenodd\" fill-opacity=\"1\"/>\n",
       "<defs>\n",
       "  <clipPath id=\"clip622\">\n",
       "    <rect x=\"179\" y=\"47\" width=\"2174\" height=\"1440\"/>\n",
       "  </clipPath>\n",
       "</defs>\n",
       "<polyline clip-path=\"url(#clip622)\" style=\"stroke:#000000; stroke-width:2; stroke-opacity:0.1; fill:none\" points=\"\n",
       "  241.157,1486.45 241.157,47.2441 \n",
       "  \"/>\n",
       "<polyline clip-path=\"url(#clip622)\" style=\"stroke:#000000; stroke-width:2; stroke-opacity:0.1; fill:none\" points=\"\n",
       "  753.681,1486.45 753.681,47.2441 \n",
       "  \"/>\n",
       "<polyline clip-path=\"url(#clip622)\" style=\"stroke:#000000; stroke-width:2; stroke-opacity:0.1; fill:none\" points=\"\n",
       "  1266.2,1486.45 1266.2,47.2441 \n",
       "  \"/>\n",
       "<polyline clip-path=\"url(#clip622)\" style=\"stroke:#000000; stroke-width:2; stroke-opacity:0.1; fill:none\" points=\"\n",
       "  1778.73,1486.45 1778.73,47.2441 \n",
       "  \"/>\n",
       "<polyline clip-path=\"url(#clip622)\" style=\"stroke:#000000; stroke-width:2; stroke-opacity:0.1; fill:none\" points=\"\n",
       "  2291.25,1486.45 2291.25,47.2441 \n",
       "  \"/>\n",
       "<polyline clip-path=\"url(#clip622)\" style=\"stroke:#000000; stroke-width:2; stroke-opacity:0.1; fill:none\" points=\"\n",
       "  179.654,1445.72 2352.76,1445.72 \n",
       "  \"/>\n",
       "<polyline clip-path=\"url(#clip622)\" style=\"stroke:#000000; stroke-width:2; stroke-opacity:0.1; fill:none\" points=\"\n",
       "  179.654,1118.17 2352.76,1118.17 \n",
       "  \"/>\n",
       "<polyline clip-path=\"url(#clip622)\" style=\"stroke:#000000; stroke-width:2; stroke-opacity:0.1; fill:none\" points=\"\n",
       "  179.654,790.625 2352.76,790.625 \n",
       "  \"/>\n",
       "<polyline clip-path=\"url(#clip622)\" style=\"stroke:#000000; stroke-width:2; stroke-opacity:0.1; fill:none\" points=\"\n",
       "  179.654,463.08 2352.76,463.08 \n",
       "  \"/>\n",
       "<polyline clip-path=\"url(#clip622)\" style=\"stroke:#000000; stroke-width:2; stroke-opacity:0.1; fill:none\" points=\"\n",
       "  179.654,135.535 2352.76,135.535 \n",
       "  \"/>\n",
       "<polyline clip-path=\"url(#clip620)\" style=\"stroke:#000000; stroke-width:4; stroke-opacity:1; fill:none\" points=\"\n",
       "  179.654,1486.45 2352.76,1486.45 \n",
       "  \"/>\n",
       "<polyline clip-path=\"url(#clip620)\" style=\"stroke:#000000; stroke-width:4; stroke-opacity:1; fill:none\" points=\"\n",
       "  179.654,1486.45 179.654,47.2441 \n",
       "  \"/>\n",
       "<polyline clip-path=\"url(#clip620)\" style=\"stroke:#000000; stroke-width:4; stroke-opacity:1; fill:none\" points=\"\n",
       "  241.157,1486.45 241.157,1469.18 \n",
       "  \"/>\n",
       "<polyline clip-path=\"url(#clip620)\" style=\"stroke:#000000; stroke-width:4; stroke-opacity:1; fill:none\" points=\"\n",
       "  753.681,1486.45 753.681,1469.18 \n",
       "  \"/>\n",
       "<polyline clip-path=\"url(#clip620)\" style=\"stroke:#000000; stroke-width:4; stroke-opacity:1; fill:none\" points=\"\n",
       "  1266.2,1486.45 1266.2,1469.18 \n",
       "  \"/>\n",
       "<polyline clip-path=\"url(#clip620)\" style=\"stroke:#000000; stroke-width:4; stroke-opacity:1; fill:none\" points=\"\n",
       "  1778.73,1486.45 1778.73,1469.18 \n",
       "  \"/>\n",
       "<polyline clip-path=\"url(#clip620)\" style=\"stroke:#000000; stroke-width:4; stroke-opacity:1; fill:none\" points=\"\n",
       "  2291.25,1486.45 2291.25,1469.18 \n",
       "  \"/>\n",
       "<polyline clip-path=\"url(#clip620)\" style=\"stroke:#000000; stroke-width:4; stroke-opacity:1; fill:none\" points=\"\n",
       "  179.654,1445.72 205.731,1445.72 \n",
       "  \"/>\n",
       "<polyline clip-path=\"url(#clip620)\" style=\"stroke:#000000; stroke-width:4; stroke-opacity:1; fill:none\" points=\"\n",
       "  179.654,1118.17 205.731,1118.17 \n",
       "  \"/>\n",
       "<polyline clip-path=\"url(#clip620)\" style=\"stroke:#000000; stroke-width:4; stroke-opacity:1; fill:none\" points=\"\n",
       "  179.654,790.625 205.731,790.625 \n",
       "  \"/>\n",
       "<polyline clip-path=\"url(#clip620)\" style=\"stroke:#000000; stroke-width:4; stroke-opacity:1; fill:none\" points=\"\n",
       "  179.654,463.08 205.731,463.08 \n",
       "  \"/>\n",
       "<polyline clip-path=\"url(#clip620)\" style=\"stroke:#000000; stroke-width:4; stroke-opacity:1; fill:none\" points=\"\n",
       "  179.654,135.535 205.731,135.535 \n",
       "  \"/>\n",
       "<path clip-path=\"url(#clip620)\" d=\"M 0 0 M241.157 1508.44 Q237.545 1508.44 235.717 1512 Q233.911 1515.55 233.911 1522.67 Q233.911 1529.78 235.717 1533.35 Q237.545 1536.89 241.157 1536.89 Q244.791 1536.89 246.596 1533.35 Q248.425 1529.78 248.425 1522.67 Q248.425 1515.55 246.596 1512 Q244.791 1508.44 241.157 1508.44 M241.157 1504.73 Q246.967 1504.73 250.022 1509.34 Q253.101 1513.92 253.101 1522.67 Q253.101 1531.4 250.022 1536.01 Q246.967 1540.59 241.157 1540.59 Q235.346 1540.59 232.268 1536.01 Q229.212 1531.4 229.212 1522.67 Q229.212 1513.92 232.268 1509.34 Q235.346 1504.73 241.157 1504.73 Z\" fill=\"#000000\" fill-rule=\"evenodd\" fill-opacity=\"1\" /><path clip-path=\"url(#clip620)\" d=\"M 0 0 M730.556 1535.98 L738.195 1535.98 L738.195 1509.62 L729.885 1511.29 L729.885 1507.03 L738.148 1505.36 L742.824 1505.36 L742.824 1535.98 L750.463 1535.98 L750.463 1539.92 L730.556 1539.92 L730.556 1535.98 Z\" fill=\"#000000\" fill-rule=\"evenodd\" fill-opacity=\"1\" /><path clip-path=\"url(#clip620)\" d=\"M 0 0 M765.532 1508.44 Q761.921 1508.44 760.093 1512 Q758.287 1515.55 758.287 1522.67 Q758.287 1529.78 760.093 1533.35 Q761.921 1536.89 765.532 1536.89 Q769.167 1536.89 770.972 1533.35 Q772.801 1529.78 772.801 1522.67 Q772.801 1515.55 770.972 1512 Q769.167 1508.44 765.532 1508.44 M765.532 1504.73 Q771.343 1504.73 774.398 1509.34 Q777.477 1513.92 777.477 1522.67 Q777.477 1531.4 774.398 1536.01 Q771.343 1540.59 765.532 1540.59 Q759.722 1540.59 756.644 1536.01 Q753.588 1531.4 753.588 1522.67 Q753.588 1513.92 756.644 1509.34 Q759.722 1504.73 765.532 1504.73 Z\" fill=\"#000000\" fill-rule=\"evenodd\" fill-opacity=\"1\" /><path clip-path=\"url(#clip620)\" d=\"M 0 0 M1247.35 1535.98 L1263.67 1535.98 L1263.67 1539.92 L1241.73 1539.92 L1241.73 1535.98 Q1244.39 1533.23 1248.97 1528.6 Q1253.58 1523.95 1254.76 1522.61 Q1257 1520.08 1257.88 1518.35 Q1258.79 1516.59 1258.79 1514.9 Q1258.79 1512.14 1256.84 1510.41 Q1254.92 1508.67 1251.82 1508.67 Q1249.62 1508.67 1247.17 1509.43 Q1244.73 1510.2 1241.96 1511.75 L1241.96 1507.03 Q1244.78 1505.89 1247.23 1505.31 Q1249.69 1504.73 1251.73 1504.73 Q1257.1 1504.73 1260.29 1507.42 Q1263.48 1510.11 1263.48 1514.6 Q1263.48 1516.73 1262.67 1518.65 Q1261.89 1520.54 1259.78 1523.14 Q1259.2 1523.81 1256.1 1527.03 Q1253 1530.22 1247.35 1535.98 Z\" fill=\"#000000\" fill-rule=\"evenodd\" fill-opacity=\"1\" /><path clip-path=\"url(#clip620)\" d=\"M 0 0 M1278.74 1508.44 Q1275.13 1508.44 1273.3 1512 Q1271.49 1515.55 1271.49 1522.67 Q1271.49 1529.78 1273.3 1533.35 Q1275.13 1536.89 1278.74 1536.89 Q1282.37 1536.89 1284.18 1533.35 Q1286.01 1529.78 1286.01 1522.67 Q1286.01 1515.55 1284.18 1512 Q1282.37 1508.44 1278.74 1508.44 M1278.74 1504.73 Q1284.55 1504.73 1287.61 1509.34 Q1290.68 1513.92 1290.68 1522.67 Q1290.68 1531.4 1287.61 1536.01 Q1284.55 1540.59 1278.74 1540.59 Q1272.93 1540.59 1269.85 1536.01 Q1266.8 1531.4 1266.8 1522.67 Q1266.8 1513.92 1269.85 1509.34 Q1272.93 1504.73 1278.74 1504.73 Z\" fill=\"#000000\" fill-rule=\"evenodd\" fill-opacity=\"1\" /><path clip-path=\"url(#clip620)\" d=\"M 0 0 M1769.47 1521.29 Q1772.83 1522 1774.7 1524.27 Q1776.6 1526.54 1776.6 1529.87 Q1776.6 1534.99 1773.08 1537.79 Q1769.56 1540.59 1763.08 1540.59 Q1760.9 1540.59 1758.59 1540.15 Q1756.3 1539.73 1753.84 1538.88 L1753.84 1534.36 Q1755.79 1535.5 1758.1 1536.08 Q1760.42 1536.66 1762.94 1536.66 Q1767.34 1536.66 1769.63 1534.92 Q1771.95 1533.18 1771.95 1529.87 Q1771.95 1526.82 1769.79 1525.11 Q1767.66 1523.37 1763.84 1523.37 L1759.82 1523.37 L1759.82 1519.53 L1764.03 1519.53 Q1767.48 1519.53 1769.31 1518.16 Q1771.14 1516.77 1771.14 1514.18 Q1771.14 1511.52 1769.24 1510.11 Q1767.36 1508.67 1763.84 1508.67 Q1761.92 1508.67 1759.72 1509.09 Q1757.53 1509.5 1754.89 1510.38 L1754.89 1506.22 Q1757.55 1505.48 1759.86 1505.11 Q1762.2 1504.73 1764.26 1504.73 Q1769.59 1504.73 1772.69 1507.17 Q1775.79 1509.57 1775.79 1513.69 Q1775.79 1516.56 1774.15 1518.55 Q1772.5 1520.52 1769.47 1521.29 Z\" fill=\"#000000\" fill-rule=\"evenodd\" fill-opacity=\"1\" /><path clip-path=\"url(#clip620)\" d=\"M 0 0 M1791.67 1508.44 Q1788.06 1508.44 1786.23 1512 Q1784.42 1515.55 1784.42 1522.67 Q1784.42 1529.78 1786.23 1533.35 Q1788.06 1536.89 1791.67 1536.89 Q1795.3 1536.89 1797.11 1533.35 Q1798.94 1529.78 1798.94 1522.67 Q1798.94 1515.55 1797.11 1512 Q1795.3 1508.44 1791.67 1508.44 M1791.67 1504.73 Q1797.48 1504.73 1800.53 1509.34 Q1803.61 1513.92 1803.61 1522.67 Q1803.61 1531.4 1800.53 1536.01 Q1797.48 1540.59 1791.67 1540.59 Q1785.86 1540.59 1782.78 1536.01 Q1779.72 1531.4 1779.72 1522.67 Q1779.72 1513.92 1782.78 1509.34 Q1785.86 1504.73 1791.67 1504.73 Z\" fill=\"#000000\" fill-rule=\"evenodd\" fill-opacity=\"1\" /><path clip-path=\"url(#clip620)\" d=\"M 0 0 M2280.76 1509.43 L2268.95 1527.88 L2280.76 1527.88 L2280.76 1509.43 M2279.53 1505.36 L2285.41 1505.36 L2285.41 1527.88 L2290.34 1527.88 L2290.34 1531.77 L2285.41 1531.77 L2285.41 1539.92 L2280.76 1539.92 L2280.76 1531.77 L2265.15 1531.77 L2265.15 1527.26 L2279.53 1505.36 Z\" fill=\"#000000\" fill-rule=\"evenodd\" fill-opacity=\"1\" /><path clip-path=\"url(#clip620)\" d=\"M 0 0 M2305.41 1508.44 Q2301.8 1508.44 2299.97 1512 Q2298.16 1515.55 2298.16 1522.67 Q2298.16 1529.78 2299.97 1533.35 Q2301.8 1536.89 2305.41 1536.89 Q2309.04 1536.89 2310.85 1533.35 Q2312.68 1529.78 2312.68 1522.67 Q2312.68 1515.55 2310.85 1512 Q2309.04 1508.44 2305.41 1508.44 M2305.41 1504.73 Q2311.22 1504.73 2314.27 1509.34 Q2317.35 1513.92 2317.35 1522.67 Q2317.35 1531.4 2314.27 1536.01 Q2311.22 1540.59 2305.41 1540.59 Q2299.6 1540.59 2296.52 1536.01 Q2293.46 1531.4 2293.46 1522.67 Q2293.46 1513.92 2296.52 1509.34 Q2299.6 1504.73 2305.41 1504.73 Z\" fill=\"#000000\" fill-rule=\"evenodd\" fill-opacity=\"1\" /><path clip-path=\"url(#clip620)\" d=\"M 0 0 M63.2236 1446.17 L92.8994 1446.17 L92.8994 1450.1 L63.2236 1450.1 L63.2236 1446.17 Z\" fill=\"#000000\" fill-rule=\"evenodd\" fill-opacity=\"1\" /><path clip-path=\"url(#clip620)\" d=\"M 0 0 M98.779 1459.06 L106.418 1459.06 L106.418 1432.69 L98.1077 1434.36 L98.1077 1430.1 L106.372 1428.44 L111.047 1428.44 L111.047 1459.06 L118.686 1459.06 L118.686 1463 L98.779 1463 L98.779 1459.06 Z\" fill=\"#000000\" fill-rule=\"evenodd\" fill-opacity=\"1\" /><path clip-path=\"url(#clip620)\" d=\"M 0 0 M123.756 1457.12 L128.64 1457.12 L128.64 1463 L123.756 1463 L123.756 1457.12 Z\" fill=\"#000000\" fill-rule=\"evenodd\" fill-opacity=\"1\" /><path clip-path=\"url(#clip620)\" d=\"M 0 0 M143.709 1431.51 Q140.098 1431.51 138.27 1435.08 Q136.464 1438.62 136.464 1445.75 Q136.464 1452.86 138.27 1456.42 Q140.098 1459.96 143.709 1459.96 Q147.344 1459.96 149.149 1456.42 Q150.978 1452.86 150.978 1445.75 Q150.978 1438.62 149.149 1435.08 Q147.344 1431.51 143.709 1431.51 M143.709 1427.81 Q149.519 1427.81 152.575 1432.42 Q155.654 1437 155.654 1445.75 Q155.654 1454.48 152.575 1459.08 Q149.519 1463.67 143.709 1463.67 Q137.899 1463.67 134.82 1459.08 Q131.765 1454.48 131.765 1445.75 Q131.765 1437 134.82 1432.42 Q137.899 1427.81 143.709 1427.81 Z\" fill=\"#000000\" fill-rule=\"evenodd\" fill-opacity=\"1\" /><path clip-path=\"url(#clip620)\" d=\"M 0 0 M62.9921 1118.62 L92.6679 1118.62 L92.6679 1122.56 L62.9921 1122.56 L62.9921 1118.62 Z\" fill=\"#000000\" fill-rule=\"evenodd\" fill-opacity=\"1\" /><path clip-path=\"url(#clip620)\" d=\"M 0 0 M107.737 1103.97 Q104.126 1103.97 102.297 1107.53 Q100.492 1111.08 100.492 1118.21 Q100.492 1125.31 102.297 1128.88 Q104.126 1132.42 107.737 1132.42 Q111.371 1132.42 113.177 1128.88 Q115.006 1125.31 115.006 1118.21 Q115.006 1111.08 113.177 1107.53 Q111.371 1103.97 107.737 1103.97 M107.737 1100.27 Q113.547 1100.27 116.603 1104.87 Q119.682 1109.46 119.682 1118.21 Q119.682 1126.93 116.603 1131.54 Q113.547 1136.12 107.737 1136.12 Q101.927 1136.12 98.8484 1131.54 Q95.7929 1126.93 95.7929 1118.21 Q95.7929 1109.46 98.8484 1104.87 Q101.927 1100.27 107.737 1100.27 Z\" fill=\"#000000\" fill-rule=\"evenodd\" fill-opacity=\"1\" /><path clip-path=\"url(#clip620)\" d=\"M 0 0 M124.751 1129.57 L129.635 1129.57 L129.635 1135.45 L124.751 1135.45 L124.751 1129.57 Z\" fill=\"#000000\" fill-rule=\"evenodd\" fill-opacity=\"1\" /><path clip-path=\"url(#clip620)\" d=\"M 0 0 M134.751 1100.89 L153.107 1100.89 L153.107 1104.83 L139.033 1104.83 L139.033 1113.3 Q140.052 1112.95 141.07 1112.79 Q142.089 1112.6 143.107 1112.6 Q148.894 1112.6 152.274 1115.77 Q155.654 1118.95 155.654 1124.36 Q155.654 1129.94 152.181 1133.04 Q148.709 1136.12 142.39 1136.12 Q140.214 1136.12 137.945 1135.75 Q135.7 1135.38 133.293 1134.64 L133.293 1129.94 Q135.376 1131.08 137.598 1131.63 Q139.82 1132.19 142.297 1132.19 Q146.302 1132.19 148.64 1130.08 Q150.978 1127.97 150.978 1124.36 Q150.978 1120.75 148.64 1118.65 Q146.302 1116.54 142.297 1116.54 Q140.422 1116.54 138.547 1116.96 Q136.695 1117.37 134.751 1118.25 L134.751 1100.89 Z\" fill=\"#000000\" fill-rule=\"evenodd\" fill-opacity=\"1\" /><path clip-path=\"url(#clip620)\" d=\"M 0 0 M106.742 776.424 Q103.131 776.424 101.302 779.989 Q99.4966 783.53 99.4966 790.66 Q99.4966 797.766 101.302 801.331 Q103.131 804.873 106.742 804.873 Q110.376 804.873 112.182 801.331 Q114.01 797.766 114.01 790.66 Q114.01 783.53 112.182 779.989 Q110.376 776.424 106.742 776.424 M106.742 772.72 Q112.552 772.72 115.608 777.327 Q118.686 781.91 118.686 790.66 Q118.686 799.387 115.608 803.993 Q112.552 808.577 106.742 808.577 Q100.932 808.577 97.8531 803.993 Q94.7975 799.387 94.7975 790.66 Q94.7975 781.91 97.8531 777.327 Q100.932 772.72 106.742 772.72 Z\" fill=\"#000000\" fill-rule=\"evenodd\" fill-opacity=\"1\" /><path clip-path=\"url(#clip620)\" d=\"M 0 0 M123.756 802.026 L128.64 802.026 L128.64 807.905 L123.756 807.905 L123.756 802.026 Z\" fill=\"#000000\" fill-rule=\"evenodd\" fill-opacity=\"1\" /><path clip-path=\"url(#clip620)\" d=\"M 0 0 M143.709 776.424 Q140.098 776.424 138.27 779.989 Q136.464 783.53 136.464 790.66 Q136.464 797.766 138.27 801.331 Q140.098 804.873 143.709 804.873 Q147.344 804.873 149.149 801.331 Q150.978 797.766 150.978 790.66 Q150.978 783.53 149.149 779.989 Q147.344 776.424 143.709 776.424 M143.709 772.72 Q149.519 772.72 152.575 777.327 Q155.654 781.91 155.654 790.66 Q155.654 799.387 152.575 803.993 Q149.519 808.577 143.709 808.577 Q137.899 808.577 134.82 803.993 Q131.765 799.387 131.765 790.66 Q131.765 781.91 134.82 777.327 Q137.899 772.72 143.709 772.72 Z\" fill=\"#000000\" fill-rule=\"evenodd\" fill-opacity=\"1\" /><path clip-path=\"url(#clip620)\" d=\"M 0 0 M107.737 448.879 Q104.126 448.879 102.297 452.444 Q100.492 455.985 100.492 463.115 Q100.492 470.221 102.297 473.786 Q104.126 477.328 107.737 477.328 Q111.371 477.328 113.177 473.786 Q115.006 470.221 115.006 463.115 Q115.006 455.985 113.177 452.444 Q111.371 448.879 107.737 448.879 M107.737 445.175 Q113.547 445.175 116.603 449.782 Q119.682 454.365 119.682 463.115 Q119.682 471.842 116.603 476.448 Q113.547 481.031 107.737 481.031 Q101.927 481.031 98.8484 476.448 Q95.7929 471.842 95.7929 463.115 Q95.7929 454.365 98.8484 449.782 Q101.927 445.175 107.737 445.175 Z\" fill=\"#000000\" fill-rule=\"evenodd\" fill-opacity=\"1\" /><path clip-path=\"url(#clip620)\" d=\"M 0 0 M124.751 474.48 L129.635 474.48 L129.635 480.36 L124.751 480.36 L124.751 474.48 Z\" fill=\"#000000\" fill-rule=\"evenodd\" fill-opacity=\"1\" /><path clip-path=\"url(#clip620)\" d=\"M 0 0 M134.751 445.8 L153.107 445.8 L153.107 449.735 L139.033 449.735 L139.033 458.207 Q140.052 457.86 141.07 457.698 Q142.089 457.513 143.107 457.513 Q148.894 457.513 152.274 460.684 Q155.654 463.856 155.654 469.272 Q155.654 474.851 152.181 477.953 Q148.709 481.031 142.39 481.031 Q140.214 481.031 137.945 480.661 Q135.7 480.291 133.293 479.55 L133.293 474.851 Q135.376 475.985 137.598 476.541 Q139.82 477.096 142.297 477.096 Q146.302 477.096 148.64 474.99 Q150.978 472.883 150.978 469.272 Q150.978 465.661 148.64 463.555 Q146.302 461.448 142.297 461.448 Q140.422 461.448 138.547 461.865 Q136.695 462.281 134.751 463.161 L134.751 445.8 Z\" fill=\"#000000\" fill-rule=\"evenodd\" fill-opacity=\"1\" /><path clip-path=\"url(#clip620)\" d=\"M 0 0 M98.779 148.88 L106.418 148.88 L106.418 122.514 L98.1077 124.181 L98.1077 119.922 L106.372 118.255 L111.047 118.255 L111.047 148.88 L118.686 148.88 L118.686 152.815 L98.779 152.815 L98.779 148.88 Z\" fill=\"#000000\" fill-rule=\"evenodd\" fill-opacity=\"1\" /><path clip-path=\"url(#clip620)\" d=\"M 0 0 M123.756 146.935 L128.64 146.935 L128.64 152.815 L123.756 152.815 L123.756 146.935 Z\" fill=\"#000000\" fill-rule=\"evenodd\" fill-opacity=\"1\" /><path clip-path=\"url(#clip620)\" d=\"M 0 0 M143.709 121.334 Q140.098 121.334 138.27 124.898 Q136.464 128.44 136.464 135.57 Q136.464 142.676 138.27 146.241 Q140.098 149.782 143.709 149.782 Q147.344 149.782 149.149 146.241 Q150.978 142.676 150.978 135.57 Q150.978 128.44 149.149 124.898 Q147.344 121.334 143.709 121.334 M143.709 117.63 Q149.519 117.63 152.575 122.236 Q155.654 126.82 155.654 135.57 Q155.654 144.296 152.575 148.903 Q149.519 153.486 143.709 153.486 Q137.899 153.486 134.82 148.903 Q131.765 144.296 131.765 135.57 Q131.765 126.82 134.82 122.236 Q137.899 117.63 143.709 117.63 Z\" fill=\"#000000\" fill-rule=\"evenodd\" fill-opacity=\"1\" /><polyline clip-path=\"url(#clip622)\" style=\"stroke:#009af9; stroke-width:4; stroke-opacity:1; fill:none\" points=\"\n",
       "  241.157,1445.72 292.409,909.788 343.661,566.086 394.914,412.647 446.166,322.31 497.419,249.668 548.671,198.16 599.923,159.133 651.176,128.188 702.428,106.465 \n",
       "  753.681,93.5806 804.933,87.9763 856.185,88.2605 907.438,93.219 958.69,101.839 1009.94,113.368 1061.2,127.232 1112.45,142.951 1163.7,160.107 1214.95,178.338 \n",
       "  1266.2,197.333 1317.46,216.827 1368.71,236.602 1419.96,256.478 1471.21,276.307 1522.47,295.968 1573.72,315.363 1624.97,334.412 1676.22,353.052 1727.48,371.235 \n",
       "  1778.73,388.923 1829.98,406.087 1881.23,422.71 1932.49,438.779 1983.74,454.287 2034.99,469.233 2086.24,483.62 2137.5,497.452 2188.75,510.738 2240,523.489 \n",
       "  2291.25,535.716 \n",
       "  \"/>\n",
       "<path clip-path=\"url(#clip620)\" d=\"\n",
       "M1987.85 216.178 L2280.32 216.178 L2280.32 95.2176 L1987.85 95.2176  Z\n",
       "  \" fill=\"#ffffff\" fill-rule=\"evenodd\" fill-opacity=\"1\"/>\n",
       "<polyline clip-path=\"url(#clip620)\" style=\"stroke:#000000; stroke-width:4; stroke-opacity:1; fill:none\" points=\"\n",
       "  1987.85,216.178 2280.32,216.178 2280.32,95.2176 1987.85,95.2176 1987.85,216.178 \n",
       "  \"/>\n",
       "<polyline clip-path=\"url(#clip620)\" style=\"stroke:#009af9; stroke-width:4; stroke-opacity:1; fill:none\" points=\"\n",
       "  2011.99,155.698 2156.86,155.698 \n",
       "  \"/>\n",
       "<path clip-path=\"url(#clip620)\" d=\"M 0 0 M2194.85 175.385 Q2193.05 180.015 2191.33 181.427 Q2189.62 182.839 2186.75 182.839 L2183.35 182.839 L2183.35 179.274 L2185.85 179.274 Q2187.61 179.274 2188.58 178.44 Q2189.55 177.607 2190.73 174.505 L2191.5 172.561 L2181.01 147.052 L2185.52 147.052 L2193.63 167.329 L2201.73 147.052 L2206.24 147.052 L2194.85 175.385 Z\" fill=\"#000000\" fill-rule=\"evenodd\" fill-opacity=\"1\" /><path clip-path=\"url(#clip620)\" d=\"M 0 0 M2212.12 169.042 L2219.76 169.042 L2219.76 142.677 L2211.45 144.343 L2211.45 140.084 L2219.71 138.418 L2224.39 138.418 L2224.39 169.042 L2232.03 169.042 L2232.03 172.978 L2212.12 172.978 L2212.12 169.042 Z\" fill=\"#000000\" fill-rule=\"evenodd\" fill-opacity=\"1\" /></svg>\n"
      ]
     },
     "execution_count": 181,
     "metadata": {},
     "output_type": "execute_result"
    }
   ],
   "source": [
    "\n",
    "plot([0; t],x_1)\n"
   ]
  },
  {
   "cell_type": "code",
   "execution_count": null,
   "metadata": {},
   "outputs": [],
   "source": []
  }
 ],
 "metadata": {
  "kernelspec": {
   "display_name": "Julia 1.5.1",
   "language": "julia",
   "name": "julia-1.5"
  },
  "language_info": {
   "file_extension": ".jl",
   "mimetype": "application/julia",
   "name": "julia",
   "version": "1.5.1"
  }
 },
 "nbformat": 4,
 "nbformat_minor": 4
}
