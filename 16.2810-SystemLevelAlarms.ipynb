{
 "cells": [
  {
   "cell_type": "code",
   "execution_count": 1,
   "metadata": {},
   "outputs": [],
   "source": [
    "using Plots\n",
    "using Statistics\n",
    "using LinearAlgebra\n",
    "using JSON\n",
    "\n",
    "include(\"readclassjson.jl\");"
   ]
  },
  {
   "cell_type": "markdown",
   "metadata": {},
   "source": [
    "\\begin{align*}\n",
    "A=\\left[\\begin{array}{ccc}\n",
    "-0.9 & -4.2 & -2 \\\\\n",
    "1 & 0 & 0 \\\\\n",
    "0 & 1 & 0\n",
    "\\end{array}\\right], \\quad C=\\left[\\begin{array}{ccc}\n",
    "1 & 0 & -1 \\\\\n",
    "0 & 1 & 1\n",
    "\\end{array}\\right]\n",
    "\\end{align*}"
   ]
  },
  {
   "cell_type": "code",
   "execution_count": 4,
   "metadata": {},
   "outputs": [
    {
     "data": {
      "text/plain": [
       "2×3 Array{Int64,2}:\n",
       " 1  0  -1\n",
       " 0  1   1"
      ]
     },
     "execution_count": 4,
     "metadata": {},
     "output_type": "execute_result"
    }
   ],
   "source": [
    "A = [-0.9 -4.2 -2 ; 1 0 0 ; 0 1 0]\n",
    "C = [1 0 -1 ; 0 1 1]"
   ]
  },
  {
   "cell_type": "code",
   "execution_count": 17,
   "metadata": {},
   "outputs": [
    {
     "data": {
      "text/plain": [
       "5×3 Array{Float64,2}:\n",
       " -0.816326   -1.99085   -1.24183\n",
       "  0.63736     0.38533   -0.13163\n",
       " -0.328734   -1.13316   -0.581612\n",
       "  0.292682   -0.130546  -0.168747\n",
       " -0.0203417  -0.625948  -0.330852"
      ]
     },
     "execution_count": 17,
     "metadata": {},
     "output_type": "execute_result"
    }
   ],
   "source": [
    "y_1_matrix = reduce(vcat, [C[1,:]' * exp(A .* t) for t in [1.0195, 3.0288, 4.0863, 6.4176, 6.9723]])"
   ]
  },
  {
   "cell_type": "code",
   "execution_count": 18,
   "metadata": {},
   "outputs": [
    {
     "data": {
      "text/plain": [
       "2×3 Array{Float64,2}:\n",
       "  0.523163   0.316825   0.343106\n",
       " -0.123144  -0.739255  -0.149319"
      ]
     },
     "execution_count": 18,
     "metadata": {},
     "output_type": "execute_result"
    }
   ],
   "source": [
    "y_2_matrix = reduce(vcat, [C[2,:]' * exp(A .* t) for t in [0.9210, 1.9402]])"
   ]
  },
  {
   "cell_type": "code",
   "execution_count": 19,
   "metadata": {},
   "outputs": [
    {
     "data": {
      "text/plain": [
       "7×3 Array{Float64,2}:\n",
       " -0.816326   -1.99085   -1.24183\n",
       "  0.63736     0.38533   -0.13163\n",
       " -0.328734   -1.13316   -0.581612\n",
       "  0.292682   -0.130546  -0.168747\n",
       " -0.0203417  -0.625948  -0.330852\n",
       "  0.523163    0.316825   0.343106\n",
       " -0.123144   -0.739255  -0.149319"
      ]
     },
     "execution_count": 19,
     "metadata": {},
     "output_type": "execute_result"
    }
   ],
   "source": [
    "total_matrix = vcat(y_1_matrix, y_2_matrix)"
   ]
  },
  {
   "cell_type": "code",
   "execution_count": 20,
   "metadata": {},
   "outputs": [
    {
     "data": {
      "text/plain": [
       "7×1 Array{Float64,2}:\n",
       " 1.0\n",
       " 1.0\n",
       " 1.0\n",
       " 1.0\n",
       " 1.0\n",
       " 1.0\n",
       " 1.0"
      ]
     },
     "execution_count": 20,
     "metadata": {},
     "output_type": "execute_result"
    }
   ],
   "source": [
    "y_vals = ones(7, 1)"
   ]
  },
  {
   "cell_type": "code",
   "execution_count": 23,
   "metadata": {},
   "outputs": [
    {
     "data": {
      "text/plain": [
       "3×1 Array{Float64,2}:\n",
       "  2.8000085666483163\n",
       " -1.8998215255717283\n",
       "  0.39975403221356076"
      ]
     },
     "execution_count": 23,
     "metadata": {},
     "output_type": "execute_result"
    }
   ],
   "source": [
    "x0 = total_matrix \\ y_vals"
   ]
  },
  {
   "cell_type": "code",
   "execution_count": 27,
   "metadata": {},
   "outputs": [
    {
     "data": {
      "text/plain": [
       "3×1 Array{Float64,2}:\n",
       "  2.800795474309895\n",
       " -1.9006483447480866\n",
       "  0.4006529597835425"
      ]
     },
     "execution_count": 27,
     "metadata": {},
     "output_type": "execute_result"
    }
   ],
   "source": [
    "x0 = total_matrix[1:3,:] \\ y_vals[1:3,:]"
   ]
  },
  {
   "cell_type": "markdown",
   "metadata": {},
   "source": [
    "For a consistent set of equations, the left inverse produces an exact solution, not an approximate one. We can see below that the solution produces the y values with some floating point error. Additionally, basing our solution just on say the first three equations produced nearly the same estimates. And finally, our test $y = Q_1Q_1^Ty$ appears true, therefore y lies in range of our \"total_matrix\". "
   ]
  },
  {
   "cell_type": "code",
   "execution_count": 45,
   "metadata": {},
   "outputs": [
    {
     "data": {
      "text/plain": [
       "7×1 Array{Float64,2}:\n",
       " 1.0001126138100727\n",
       " 0.9999353807219192\n",
       " 0.9998445908112364\n",
       " 1.0000674646734078\n",
       " 0.9999726817581848\n",
       " 1.0001083106816497\n",
       " 0.9999588978156284"
      ]
     },
     "execution_count": 45,
     "metadata": {},
     "output_type": "execute_result"
    }
   ],
   "source": [
    "F = qr(total_matrix)\n",
    "F.Q[:,1:3] * F.Q[:,1:3]' * y_vals"
   ]
  },
  {
   "cell_type": "code",
   "execution_count": 24,
   "metadata": {},
   "outputs": [
    {
     "data": {
      "text/plain": [
       "7×1 Array{Float64,2}:\n",
       " 1.0001126138100742\n",
       " 0.9999353807219196\n",
       " 0.9998445908112371\n",
       " 1.000067464673408\n",
       " 0.9999726817581855\n",
       " 1.0001083106816497\n",
       " 0.9999588978156289"
      ]
     },
     "execution_count": 24,
     "metadata": {},
     "output_type": "execute_result"
    }
   ],
   "source": [
    "total_matrix * x0"
   ]
  },
  {
   "cell_type": "markdown",
   "metadata": {},
   "source": [
    "Finally, the exact solution to $||x(T)||$ is below"
   ]
  },
  {
   "cell_type": "code",
   "execution_count": 31,
   "metadata": {},
   "outputs": [
    {
     "data": {
      "text/plain": [
       "3×1 Array{Float64,2}:\n",
       "  0.48692034806057316\n",
       "  0.03415720077628341\n",
       " -0.11900897260050991"
      ]
     },
     "execution_count": 31,
     "metadata": {},
     "output_type": "execute_result"
    }
   ],
   "source": [
    "T = 10\n",
    "xT = exp(A .* T)x0"
   ]
  },
  {
   "cell_type": "code",
   "execution_count": 33,
   "metadata": {},
   "outputs": [
    {
     "data": {
      "text/plain": [
       "0.5024154409248685"
      ]
     },
     "execution_count": 33,
     "metadata": {},
     "output_type": "execute_result"
    }
   ],
   "source": [
    "norm(xT)"
   ]
  }
 ],
 "metadata": {
  "kernelspec": {
   "display_name": "Julia 1.5.1",
   "language": "julia",
   "name": "julia-1.5"
  },
  "language_info": {
   "file_extension": ".jl",
   "mimetype": "application/julia",
   "name": "julia",
   "version": "1.5.1"
  }
 },
 "nbformat": 4,
 "nbformat_minor": 4
}
