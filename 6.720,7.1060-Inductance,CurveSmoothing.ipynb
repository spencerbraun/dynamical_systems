{
 "cells": [
  {
   "cell_type": "code",
   "execution_count": 8,
   "metadata": {},
   "outputs": [],
   "source": [
    "using Plots\n",
    "using Statistics\n",
    "using LinearAlgebra\n",
    "using JSON\n",
    "\n",
    "include(\"readclassjson.jl\");"
   ]
  },
  {
   "cell_type": "code",
   "execution_count": 4,
   "metadata": {},
   "outputs": [],
   "source": [
    "# ; wget http://ee263.stanford.edu/hw/inductor_data.json -P data/"
   ]
  },
  {
   "cell_type": "code",
   "execution_count": 6,
   "metadata": {},
   "outputs": [],
   "source": [
    "# ; wget http://ee263.stanford.edu/hw/curve_smoothing.json -P data/"
   ]
  },
  {
   "cell_type": "markdown",
   "metadata": {},
   "source": [
    "## 6.720 Approximate inductance formula\n",
    "\n",
    "Approximate inductance model $\\hat{L}=\\alpha n^{\\beta_{1}} w^{\\beta_{2}} d^{\\beta_{3}} D^{\\beta_{4}}$ for $\\alpha, \\beta_{1}, \\beta_{2}, \\beta_{3}, \\beta_{4} \\in \\mathbb{R}$ in $R$ and $\\alpha > 0$.\n",
    "\n",
    "The file inductor_data.json on the course web site contains data for 50 inductors. (The data is real, not that it would affect how you solve the problem ... ) For inductor $i,$ we give parameters $n_{i}, w_{i}, d_{i},$ and $D_{i}($ all in $\\mu \\mathrm{m}),$ and also, the inductance $L_{i}$ (in nH) obtained from measurements. (The data are organized as vectors of length 50. Thus, for example, $w_{13}$ gives the wire width of inductor $13 .$ ) Your task, i.e., , the problem, is to find $\\alpha, \\beta_{1}, \\ldots, \\beta_{4}$ so that\n",
    "$$\n",
    "\\hat{L}_{i}=\\alpha n_{i}^{\\beta_{1}} w_{i}^{\\beta_{2}} d_{i}^{\\beta_{3}} D_{i}^{\\beta_{4}} \\approx L_{i} \\quad \\text { for } i=1, \\ldots, 50\n",
    "$$\n",
    "Your solution must include a clear description of how you found your parameters, as well as their actual numerical values. Note that we have not specified the criterion that you use to judge the approximate model (i.e., the fit between $\\hat{L}_{i}$ and $\\left.L_{i}\\right) ;$ we leave that to your engineering judgment. But be sure to tell us what criterion you use. We define the percentage error between $\\hat{L}_{i}$ and $L_{i}$ as\n",
    "$$\n",
    "e_{i}=100\\left|\\hat{L}_{i}-L_{i}\\right| / L_{i}\n",
    "$$\n",
    "Find the average percentage error for your model, i.e., $\\left(e_{1}+\\cdots+e_{50}\\right) / 50 .$ (We are only asking you to find the average percentage error for your model; we do not require that your model minimize the average percentage error.) Hint: you might find it easier to work with log $L$.\n",
    "\n",
    "----------"
   ]
  },
  {
   "cell_type": "markdown",
   "metadata": {},
   "source": [
    "First we can transform the equation $\\hat{L}_{i}=\\alpha n_{i}^{\\beta_{1}} w_{i}^{\\beta_{2}} d_{i}^{\\beta_{3}} D_{i}^{\\beta_{4}}$ by taking logs of both sides. This gives us $log(\\hat{L}_{i})=log(\\alpha) +  {\\beta_{1}}log(n_{i}) + {\\beta_{2}}log(w_{i}) + {\\beta_{3}}log(d_{i}) + {\\beta_{4}}log(D_{i})$, a linear equation in this scale. Writing in matrix form, we have $log(\\hat{L}_{i}) = \\begin{bmatrix}1 &  log(n_{i}) & log(w_{i}) & log(d_{i}) & log(D_{i})\\end{bmatrix}\\begin{bmatrix}log(\\alpha) \\\\ \\beta_1 \\\\ \\beta_2 \\\\ \\beta_3 \\\\ \\beta_4 \\end{bmatrix} = Ab$ where A is a $50 \\times 5$ matrix and b is $5 \\times 1$. Then we can use a least squares objective $\\underset{b}{min} \\; ||log(\\hat{L}_{i}) - Ab||^2$ to solve the problem. We will get solution $\\hat{b} = (A^TA)^{-1}A^Tlog(\\hat{L}_{i})$. Then we have our $\\beta$ values directly from the last four elements of $\\hat{b}$ and $\\alpha= e^{\\hat{b}[1]}$"
   ]
  },
  {
   "cell_type": "code",
   "execution_count": 26,
   "metadata": {},
   "outputs": [
    {
     "data": {
      "text/plain": [
       "Dict{Any,Any} with 6 entries:\n",
       "  \"d\" => [165.45, 132.85, 64.35, 221.9, 82.05, 57.0, 34.0, 42.0, 164.0, 236.0  …\n",
       "  \"w\" => [22.4, 21.0, 6.0, 17.6, 12.0, 3.2, 13.0, 24.0, 5.0, 5.0  …  7.0, 7.0, …\n",
       "  \"N\" => 50\n",
       "  \"D\" => [345.0, 325.0, 210.0, 395.0, 240.0, 180.0, 300.0, 400.0, 300.0, 300.0 …\n",
       "  \"L\" => [5.2, 5.5, 13.7, 10.2, 6.5, 20.1, 7.6, 7.3, 23.5, 9.7  …  2.8, 12.1, 3…\n",
       "  \"n\" => [3.75, 4.25, 9.25, 4.5, 5.75, 12.0, 7.0, 6.0, 8.0, 4.0  …  5.0, 9.0, 3…"
      ]
     },
     "execution_count": 26,
     "metadata": {},
     "output_type": "execute_result"
    }
   ],
   "source": [
    "induct = readclassjson(\"data/inductor_data.json\")"
   ]
  },
  {
   "cell_type": "code",
   "execution_count": 27,
   "metadata": {},
   "outputs": [],
   "source": [
    "lL = log.(induct[\"L\"])\n",
    "lw = log.(induct[\"w\"])\n",
    "lD = log.(induct[\"D\"])\n",
    "ld = log.(induct[\"d\"])\n",
    "ln = log.(induct[\"n\"]);"
   ]
  },
  {
   "cell_type": "code",
   "execution_count": 28,
   "metadata": {},
   "outputs": [],
   "source": [
    "intercept = ones(1,50);"
   ]
  },
  {
   "cell_type": "markdown",
   "metadata": {},
   "source": [
    "Construct design matrix A"
   ]
  },
  {
   "cell_type": "code",
   "execution_count": 29,
   "metadata": {},
   "outputs": [
    {
     "data": {
      "text/plain": [
       "50×5 Array{Float64,2}:\n",
       " 1.0  1.32176  3.10906  5.10867  5.84354\n",
       " 1.0  1.44692  3.04452  4.88922  5.78383\n",
       " 1.0  2.22462  1.79176  4.16434  5.34711\n",
       " 1.0  1.50408  2.8679   5.40223  5.97889\n",
       " 1.0  1.7492   2.48491  4.40733  5.48064\n",
       " 1.0  2.48491  1.16315  4.04305  5.19296\n",
       " 1.0  1.94591  2.56495  3.52636  5.70378\n",
       " 1.0  1.79176  3.17805  3.73767  5.99146\n",
       " 1.0  2.07944  1.60944  5.09987  5.70378\n",
       " 1.0  1.38629  1.60944  5.46383  5.70378\n",
       " 1.0  2.3979   2.19722  3.09104  5.70378\n",
       " 1.0  2.07944  2.63906  2.99573  5.70378\n",
       " 1.0  1.79176  2.94444  3.46574  5.70378\n",
       " ⋮                               \n",
       " 1.0  2.19722  1.8718   1.60944  5.34711\n",
       " 1.0  2.07944  1.79176  3.82864  5.42053\n",
       " 1.0  1.60944  1.94591  3.78419  5.03695\n",
       " 1.0  2.19722  1.94591  3.78419  5.52146\n",
       " 1.0  1.17865  3.21888  5.01396  5.82895\n",
       " 1.0  1.50408  3.13549  3.93183  5.70378\n",
       " 1.0  1.09861  2.89037  5.12396  5.70378\n",
       " 1.0  1.7492   2.25129  3.16758  5.24702\n",
       " 1.0  1.09861  4.49981  4.91265  6.55108\n",
       " 1.0  1.38629  2.77259  4.30407  5.56834\n",
       " 1.0  1.79176  2.77259  4.60517  5.97126\n",
       " 1.0  2.07944  2.77259  4.91265  6.27664"
      ]
     },
     "execution_count": 29,
     "metadata": {},
     "output_type": "execute_result"
    }
   ],
   "source": [
    "design = [transpose(intercept) ln lw ld lD]"
   ]
  },
  {
   "cell_type": "markdown",
   "metadata": {},
   "source": [
    "Solve for vector $\\hat{b}$ via QR"
   ]
  },
  {
   "cell_type": "code",
   "execution_count": 30,
   "metadata": {},
   "outputs": [
    {
     "data": {
      "text/plain": [
       "5-element Array{Float64,1}:\n",
       " -7.2541217323302485\n",
       "  1.379364507670155\n",
       " -0.4806038688513885\n",
       "  0.275615953098549\n",
       "  1.213171626335038"
      ]
     },
     "execution_count": 30,
     "metadata": {},
     "output_type": "execute_result"
    }
   ],
   "source": [
    "F = qr(design)\n",
    "R = F.R\n",
    "Q = F.Q\n",
    "coefficients = inv(R) * transpose(Q[:,1:5]) * lL"
   ]
  },
  {
   "cell_type": "markdown",
   "metadata": {},
   "source": [
    "Transform $\\alpha$ to correct scale to get solution"
   ]
  },
  {
   "cell_type": "code",
   "execution_count": 31,
   "metadata": {},
   "outputs": [],
   "source": [
    "alpha = exp(coefficients[1])\n",
    "betas = coefficients[2:end];"
   ]
  },
  {
   "cell_type": "code",
   "execution_count": 32,
   "metadata": {},
   "outputs": [
    {
     "data": {
      "text/plain": [
       "0.000707253264286207"
      ]
     },
     "execution_count": 32,
     "metadata": {},
     "output_type": "execute_result"
    }
   ],
   "source": [
    "alpha"
   ]
  },
  {
   "cell_type": "code",
   "execution_count": 33,
   "metadata": {},
   "outputs": [
    {
     "data": {
      "text/plain": [
       "4-element Array{Float64,1}:\n",
       "  1.379364507670155\n",
       " -0.4806038688513885\n",
       "  0.275615953098549\n",
       "  1.213171626335038"
      ]
     },
     "execution_count": 33,
     "metadata": {},
     "output_type": "execute_result"
    }
   ],
   "source": [
    "betas"
   ]
  },
  {
   "cell_type": "code",
   "execution_count": 57,
   "metadata": {},
   "outputs": [
    {
     "data": {
      "text/plain": [
       "50-element Array{Float64,1}:\n",
       "  4.816693056661896\n",
       "  5.169714756609035\n",
       " 13.303608802234692\n",
       "  8.886918832583243\n",
       "  6.222006749426116\n",
       " 20.671022967278425\n",
       "  8.07571456155682\n",
       "  7.3068983579024565\n",
       " 23.7113929035591\n",
       " 10.076114184412646\n",
       " 15.943686822329685\n",
       "  8.09449037927301\n",
       "  5.350222163312585\n",
       "  ⋮\n",
       "  6.095814575405753\n",
       " 10.851827525304378\n",
       "  3.2685251817228176\n",
       " 13.235500787489151\n",
       "  3.589843508532568\n",
       "  3.7320568830948884\n",
       "  3.3336056432058006\n",
       "  3.7257192524202813\n",
       "  4.056132658908893\n",
       "  3.5508719761944665\n",
       " 11.004173683481907\n",
       " 25.79862272786435"
      ]
     },
     "execution_count": 57,
     "metadata": {},
     "output_type": "execute_result"
    }
   ],
   "source": [
    "L = induct[\"L\"]\n",
    "Lhat = exp.(design * coefficients)"
   ]
  },
  {
   "cell_type": "markdown",
   "metadata": {},
   "source": [
    "Find average percent error"
   ]
  },
  {
   "cell_type": "code",
   "execution_count": 58,
   "metadata": {},
   "outputs": [
    {
     "data": {
      "text/plain": [
       "6.77002401837891"
      ]
     },
     "execution_count": 58,
     "metadata": {},
     "output_type": "execute_result"
    }
   ],
   "source": [
    "e = 100 .* abs.(Lhat - L) ./ L;\n",
    "eBar = sum(e)/50"
   ]
  },
  {
   "cell_type": "code",
   "execution_count": null,
   "metadata": {},
   "outputs": [],
   "source": []
  },
  {
   "cell_type": "markdown",
   "metadata": {},
   "source": []
  },
  {
   "cell_type": "markdown",
   "metadata": {},
   "source": [
    "## 7.1060 Curve-smoothing "
   ]
  },
  {
   "cell_type": "markdown",
   "metadata": {},
   "source": [
    "### a)\n",
    "*Explain how to find $g$ that minimizes $d+\\mu c,$ where $\\mu \\geq 0$ is a parameter that gives the relative weighting of sum-square curvature compared to sum-square deviation. Does your method always work? If there are some assumptions you need to make (say, on rank of some matrix, independence of some vectors, etc.), state them clearly. Explain how to obtain the two extreme cases: $\\mu=0,$ which corresponds to minimizing $d$ without regard for $c,$ and also the solution obtained as $\\mu \\rightarrow \\infty(i . e .,$ as we put more and more weight on minimizing curvature).*"
   ]
  },
  {
   "cell_type": "markdown",
   "metadata": {},
   "source": [
    "Let us reformat the problem to match the multi-objective least squares format $\\|A x-y\\|^{2}+\\mu\\|F x-b\\|^{2}$. The first term is roughly our mean square deviation objective. We can write $d=\\frac{1}{n} \\sum_{i=1}^{n}\\left(f_{i}-g_{i}\\right)^{2}$ in vector form $$d = \\frac{1}{n}||f - g||^2 = ||\\frac{I}{\\sqrt{n}}g - \\frac{f}{\\sqrt{n}}||^2$$ We can then see here $A = \\frac{I}{\\sqrt{n}},\\, x = g, \\, y = \\frac{f}{\\sqrt{n}}$. \n",
    "\n",
    "Similarly, to add a cost for curvature we can rewrite $c=\\frac{1}{n-2} \\sum_{i=2}^{n-1}\\left(\\frac{g_{i+1}-2 g_{i}+g_{i-1}}{1 / n^{2}}\\right)^{2}$ as $|| \\frac{n^2Bg}{\\sqrt{n-2}}||^2$ where B is an $n-2 \\times n$ matrix \n",
    "$B_{ij} = \\begin{cases}1 & \\text{if }i=j \\\\ -2 & \\text{if }j=i+1\\\\1 & \\text{if }j=i+2 \\\\ 0 & \\text{else}  \\end{cases} \\implies B = \\begin{bmatrix}1 & -2 & 1 & 0 &\\cdots &0 \\\\ 0 & 1 & -2 & 1 &\\cdots &0 \\\\ \\vdots & \\ddots & & & &\\vdots \\\\ 0 & \\cdots & 0 & 1 & -2 & 1\\end{bmatrix}$\n",
    "\n",
    "Here we are equating $F =\\frac{n^2B}{\\sqrt{n-2}}, \\, x = g, \\, b=0$. Then our objective is $\\underset{g}{min} \\; ||\\frac{I}{\\sqrt{n}}g - \\frac{f}{\\sqrt{n}}||^2 + \\mu ||\\frac{n^2B}{\\sqrt{n-2}}g||^2$. Following the steps from lecture \n",
    "$$\n",
    "\\tilde{A} = \\begin{bmatrix}\\frac{I}{\\sqrt{n}} \\\\ \\sqrt{\\frac{\\mu}{n-2}}{n^2B}\\end{bmatrix}\\quad \n",
    "\\tilde{y} = \\begin{bmatrix}\\frac{f}{\\sqrt{n}} \\\\ 0\\end{bmatrix}\n",
    "$$\n",
    "and the least squares solution becomes \n",
    "$$\n",
    "\\hat{g} =\\left(\\tilde{A}^{\\top} \\tilde{A}\\right)^{-1} \\tilde{A}^{\\top} \\tilde{y} \\\\\n",
    "=\\left(\\frac{1}{n}I^{\\top} I+\\frac{n^4\\mu}{n-2}B^{\\top} B\\right)^{-1}(\\frac{1}{n}I^{\\top}f)\\\\\n",
    "=\\frac{1}{n}(\\frac{1}{n}I+\\frac{n^4\\mu}{n-2} B^{\\top} B)^{-1}f\n",
    "$$\n",
    "\n",
    "\n",
    "Note $\\tilde{A}$ is always full column rank and invertible due to the identity matrix having independent columns and rows. Thus we do not need additional restrictions on the inputs to our method, even if $\\mu=0$. Below the limiting case of $\\mu \\rightarrow \\infty$ does require special attention however."
   ]
  },
  {
   "cell_type": "markdown",
   "metadata": {},
   "source": [
    "For $\\mu = 0$ then $\\underset{g}{min} \\; ||\\frac{I}{\\sqrt{n}}g - \\frac{f}{\\sqrt{n}}||^2 + \\mu ||\\frac{n^2B}{\\sqrt{n-2}}g||^2 = \\underset{g}{min} \\; ||\\frac{I}{\\sqrt{n}}g - \\frac{f}{\\sqrt{n}}||^2$ and we have a more typical least squares objective without regularization on the curvature. We can see the solution becomes $\\frac{1}{n}(\\frac{1}{n}I)^{-1}f = f$ - we are able to perfectly interpolate the points of f. This makes sense since we imposed no other restrictions on the form of g (and matches the behavior of a smoothing spline which we are recreating)."
   ]
  },
  {
   "cell_type": "markdown",
   "metadata": {},
   "source": [
    "As $\\mu \\rightarrow \\infty$ there is an infinite penalty on the curvature of g - therefore the function will shift to have a zero second derivative to minimize this cost. This forces g to be linear, since anything more flexible could have a non-zero second derivative. Specifically we create $X = \\begin{bmatrix} 1 & 1\\\\ 1 & 2 \\\\ \\vdots \\\\1 & n\\end{bmatrix}$ where the first column is all 1's and the second a column of indices of f. Next we create a vector of coefficients $\\beta = \\begin{bmatrix}\\beta_0 \\\\ \\beta_1\\end{bmatrix}$. Then knowing that imposing $\\mu \\rightarrow \\infty$ forces $||\\frac{n^2B}{\\sqrt{n-2}}g||^2 \\rightarrow 0$, our objective can be rewritten as $\\underset{g}{min} \\; ||\\frac{I}{\\sqrt{n}}g - \\frac{f}{\\sqrt{n}}||^2 = \\underset{\\beta}{min} \\; \\frac{1}{n}||X\\beta - f||^2$. This is a typical linear least squares criterion (say for linear regression) with solution $\\hat{\\beta} = (X^TX)^{-1}X^Tf$. (Note since unregularized regression is scale equivariant we should get appropriate values of g even though the second column of X is not necessarily on the right scale.)"
   ]
  },
  {
   "cell_type": "markdown",
   "metadata": {},
   "source": [
    "### b) "
   ]
  },
  {
   "cell_type": "code",
   "execution_count": 9,
   "metadata": {},
   "outputs": [],
   "source": [
    "smooth = readclassjson(\"data/curve_smoothing.json\")\n",
    "f = smooth[\"f\"];"
   ]
  },
  {
   "cell_type": "markdown",
   "metadata": {},
   "source": [
    "Define matrix B as above"
   ]
  },
  {
   "cell_type": "code",
   "execution_count": 10,
   "metadata": {},
   "outputs": [],
   "source": [
    "B = zeros(49, 51)\n",
    "for i = 1:49\n",
    "   B[i, i] = 1\n",
    "   B[i, i+1] = -2\n",
    "   B[i, i+2] = 1\n",
    "end\n"
   ]
  },
  {
   "cell_type": "markdown",
   "metadata": {},
   "source": [
    "Write function to produce g, considering infinite mu case separately"
   ]
  },
  {
   "cell_type": "code",
   "execution_count": 13,
   "metadata": {},
   "outputs": [
    {
     "data": {
      "text/plain": [
       "spline (generic function with 1 method)"
      ]
     },
     "execution_count": 13,
     "metadata": {},
     "output_type": "execute_result"
    }
   ],
   "source": [
    "function spline(f, B, mu)\n",
    "    n = length(f)\n",
    "    \n",
    "    if mu != Inf\n",
    "        A = [I./sqrt(n) ; sqrt(mu/(n-2))*(n^2) .* B]\n",
    "        y = [f./sqrt(n); zeros(49,1)]\n",
    "        g = inv(transpose(A) * A) * transpose(A) * y\n",
    "        return g\n",
    "    else\n",
    "        X = [ones(51, 1) 1:51]\n",
    "        betas = inv(transpose(X) * X) * transpose(X) * f\n",
    "        g = X * betas\n",
    "        return g \n",
    "    end\n",
    "end"
   ]
  },
  {
   "cell_type": "code",
   "execution_count": 44,
   "metadata": {},
   "outputs": [
    {
     "data": {
      "text/plain": [
       "tradeoff (generic function with 1 method)"
      ]
     },
     "execution_count": 44,
     "metadata": {},
     "output_type": "execute_result"
    }
   ],
   "source": [
    "function tradeoff(mu)\n",
    "    g = spline(f, B, mu)\n",
    "    n = length(f)\n",
    "    J1 = (1/n) * norm(f-g)\n",
    "    J2 = (n^4/(n-2)) * norm(B*g)\n",
    "    return [J1 J2]\n",
    "end"
   ]
  },
  {
   "cell_type": "code",
   "execution_count": 45,
   "metadata": {},
   "outputs": [],
   "source": [
    "mu = exp10.(range(-15, stop=15, length=50));"
   ]
  },
  {
   "cell_type": "code",
   "execution_count": 46,
   "metadata": {},
   "outputs": [],
   "source": [
    "curve = tradeoff.(mu);"
   ]
  },
  {
   "cell_type": "code",
   "execution_count": 47,
   "metadata": {},
   "outputs": [],
   "source": [
    "J1 = [x[1] for x in curve]\n",
    "J2 = [x[2] for x in curve];"
   ]
  },
  {
   "cell_type": "markdown",
   "metadata": {},
   "source": [
    "Plot the optimal tradeoff curve"
   ]
  },
  {
   "cell_type": "code",
   "execution_count": 48,
   "metadata": {},
   "outputs": [
    {
     "data": {
      "image/svg+xml": [
       "<?xml version=\"1.0\" encoding=\"utf-8\"?>\n",
       "<svg xmlns=\"http://www.w3.org/2000/svg\" xmlns:xlink=\"http://www.w3.org/1999/xlink\" width=\"600\" height=\"400\" viewBox=\"0 0 2400 1600\">\n",
       "<defs>\n",
       "  <clipPath id=\"clip650\">\n",
       "    <rect x=\"0\" y=\"0\" width=\"2400\" height=\"1600\"/>\n",
       "  </clipPath>\n",
       "</defs>\n",
       "<path clip-path=\"url(#clip650)\" d=\"\n",
       "M0 1600 L2400 1600 L2400 0 L0 0  Z\n",
       "  \" fill=\"#ffffff\" fill-rule=\"evenodd\" fill-opacity=\"1\"/>\n",
       "<defs>\n",
       "  <clipPath id=\"clip651\">\n",
       "    <rect x=\"480\" y=\"0\" width=\"1681\" height=\"1600\"/>\n",
       "  </clipPath>\n",
       "</defs>\n",
       "<path clip-path=\"url(#clip650)\" d=\"\n",
       "M238.292 1410.9 L2352.76 1410.9 L2352.76 123.472 L238.292 123.472  Z\n",
       "  \" fill=\"#ffffff\" fill-rule=\"evenodd\" fill-opacity=\"1\"/>\n",
       "<defs>\n",
       "  <clipPath id=\"clip652\">\n",
       "    <rect x=\"238\" y=\"123\" width=\"2115\" height=\"1288\"/>\n",
       "  </clipPath>\n",
       "</defs>\n",
       "<polyline clip-path=\"url(#clip652)\" style=\"stroke:#000000; stroke-width:2; stroke-opacity:0.1; fill:none\" points=\"\n",
       "  298.135,1410.9 298.135,123.472 \n",
       "  \"/>\n",
       "<polyline clip-path=\"url(#clip652)\" style=\"stroke:#000000; stroke-width:2; stroke-opacity:0.1; fill:none\" points=\"\n",
       "  680.389,1410.9 680.389,123.472 \n",
       "  \"/>\n",
       "<polyline clip-path=\"url(#clip652)\" style=\"stroke:#000000; stroke-width:2; stroke-opacity:0.1; fill:none\" points=\"\n",
       "  1062.64,1410.9 1062.64,123.472 \n",
       "  \"/>\n",
       "<polyline clip-path=\"url(#clip652)\" style=\"stroke:#000000; stroke-width:2; stroke-opacity:0.1; fill:none\" points=\"\n",
       "  1444.9,1410.9 1444.9,123.472 \n",
       "  \"/>\n",
       "<polyline clip-path=\"url(#clip652)\" style=\"stroke:#000000; stroke-width:2; stroke-opacity:0.1; fill:none\" points=\"\n",
       "  1827.15,1410.9 1827.15,123.472 \n",
       "  \"/>\n",
       "<polyline clip-path=\"url(#clip652)\" style=\"stroke:#000000; stroke-width:2; stroke-opacity:0.1; fill:none\" points=\"\n",
       "  2209.4,1410.9 2209.4,123.472 \n",
       "  \"/>\n",
       "<polyline clip-path=\"url(#clip652)\" style=\"stroke:#000000; stroke-width:2; stroke-opacity:0.1; fill:none\" points=\"\n",
       "  238.292,1374.46 2352.76,1374.46 \n",
       "  \"/>\n",
       "<polyline clip-path=\"url(#clip652)\" style=\"stroke:#000000; stroke-width:2; stroke-opacity:0.1; fill:none\" points=\"\n",
       "  238.292,1124.21 2352.76,1124.21 \n",
       "  \"/>\n",
       "<polyline clip-path=\"url(#clip652)\" style=\"stroke:#000000; stroke-width:2; stroke-opacity:0.1; fill:none\" points=\"\n",
       "  238.292,873.956 2352.76,873.956 \n",
       "  \"/>\n",
       "<polyline clip-path=\"url(#clip652)\" style=\"stroke:#000000; stroke-width:2; stroke-opacity:0.1; fill:none\" points=\"\n",
       "  238.292,623.704 2352.76,623.704 \n",
       "  \"/>\n",
       "<polyline clip-path=\"url(#clip652)\" style=\"stroke:#000000; stroke-width:2; stroke-opacity:0.1; fill:none\" points=\"\n",
       "  238.292,373.452 2352.76,373.452 \n",
       "  \"/>\n",
       "<polyline clip-path=\"url(#clip650)\" style=\"stroke:#000000; stroke-width:4; stroke-opacity:1; fill:none\" points=\"\n",
       "  238.292,1410.9 2352.76,1410.9 \n",
       "  \"/>\n",
       "<polyline clip-path=\"url(#clip650)\" style=\"stroke:#000000; stroke-width:4; stroke-opacity:1; fill:none\" points=\"\n",
       "  238.292,1410.9 238.292,123.472 \n",
       "  \"/>\n",
       "<polyline clip-path=\"url(#clip650)\" style=\"stroke:#000000; stroke-width:4; stroke-opacity:1; fill:none\" points=\"\n",
       "  298.135,1410.9 298.135,1395.45 \n",
       "  \"/>\n",
       "<polyline clip-path=\"url(#clip650)\" style=\"stroke:#000000; stroke-width:4; stroke-opacity:1; fill:none\" points=\"\n",
       "  680.389,1410.9 680.389,1395.45 \n",
       "  \"/>\n",
       "<polyline clip-path=\"url(#clip650)\" style=\"stroke:#000000; stroke-width:4; stroke-opacity:1; fill:none\" points=\"\n",
       "  1062.64,1410.9 1062.64,1395.45 \n",
       "  \"/>\n",
       "<polyline clip-path=\"url(#clip650)\" style=\"stroke:#000000; stroke-width:4; stroke-opacity:1; fill:none\" points=\"\n",
       "  1444.9,1410.9 1444.9,1395.45 \n",
       "  \"/>\n",
       "<polyline clip-path=\"url(#clip650)\" style=\"stroke:#000000; stroke-width:4; stroke-opacity:1; fill:none\" points=\"\n",
       "  1827.15,1410.9 1827.15,1395.45 \n",
       "  \"/>\n",
       "<polyline clip-path=\"url(#clip650)\" style=\"stroke:#000000; stroke-width:4; stroke-opacity:1; fill:none\" points=\"\n",
       "  2209.4,1410.9 2209.4,1395.45 \n",
       "  \"/>\n",
       "<polyline clip-path=\"url(#clip650)\" style=\"stroke:#000000; stroke-width:4; stroke-opacity:1; fill:none\" points=\"\n",
       "  238.292,1374.46 263.666,1374.46 \n",
       "  \"/>\n",
       "<polyline clip-path=\"url(#clip650)\" style=\"stroke:#000000; stroke-width:4; stroke-opacity:1; fill:none\" points=\"\n",
       "  238.292,1124.21 263.666,1124.21 \n",
       "  \"/>\n",
       "<polyline clip-path=\"url(#clip650)\" style=\"stroke:#000000; stroke-width:4; stroke-opacity:1; fill:none\" points=\"\n",
       "  238.292,873.956 263.666,873.956 \n",
       "  \"/>\n",
       "<polyline clip-path=\"url(#clip650)\" style=\"stroke:#000000; stroke-width:4; stroke-opacity:1; fill:none\" points=\"\n",
       "  238.292,623.704 263.666,623.704 \n",
       "  \"/>\n",
       "<polyline clip-path=\"url(#clip650)\" style=\"stroke:#000000; stroke-width:4; stroke-opacity:1; fill:none\" points=\"\n",
       "  238.292,373.452 263.666,373.452 \n",
       "  \"/>\n",
       "<path clip-path=\"url(#clip650)\" d=\"M 0 0 M298.135 1432.89 Q294.524 1432.89 292.696 1436.45 Q290.89 1439.99 290.89 1447.12 Q290.89 1454.23 292.696 1457.79 Q294.524 1461.34 298.135 1461.34 Q301.77 1461.34 303.575 1457.79 Q305.404 1454.23 305.404 1447.12 Q305.404 1439.99 303.575 1436.45 Q301.77 1432.89 298.135 1432.89 M298.135 1429.18 Q303.946 1429.18 307.001 1433.79 Q310.08 1438.37 310.08 1447.12 Q310.08 1455.85 307.001 1460.46 Q303.946 1465.04 298.135 1465.04 Q292.325 1465.04 289.247 1460.46 Q286.191 1455.85 286.191 1447.12 Q286.191 1438.37 289.247 1433.79 Q292.325 1429.18 298.135 1429.18 Z\" fill=\"#000000\" fill-rule=\"evenodd\" fill-opacity=\"1\" /><path clip-path=\"url(#clip650)\" d=\"M 0 0 M618.666 1481.97 L626.305 1481.97 L626.305 1455.6 L617.995 1457.27 L617.995 1453.01 L626.259 1451.34 L630.935 1451.34 L630.935 1481.97 L638.574 1481.97 L638.574 1485.9 L618.666 1485.9 L618.666 1481.97 Z\" fill=\"#000000\" fill-rule=\"evenodd\" fill-opacity=\"1\" /><path clip-path=\"url(#clip650)\" d=\"M 0 0 M671.814 1460.44 L661.236 1471.07 L671.814 1481.64 L669.06 1484.45 L658.435 1473.82 L647.81 1484.45 L645.078 1481.64 L655.634 1471.07 L645.078 1460.44 L647.81 1457.64 L658.435 1468.27 L669.06 1457.64 L671.814 1460.44 Z\" fill=\"#000000\" fill-rule=\"evenodd\" fill-opacity=\"1\" /><path clip-path=\"url(#clip650)\" d=\"M 0 0 M677.694 1481.97 L685.333 1481.97 L685.333 1455.6 L677.023 1457.27 L677.023 1453.01 L685.286 1451.34 L689.962 1451.34 L689.962 1481.97 L697.601 1481.97 L697.601 1485.9 L677.694 1485.9 L677.694 1481.97 Z\" fill=\"#000000\" fill-rule=\"evenodd\" fill-opacity=\"1\" /><path clip-path=\"url(#clip650)\" d=\"M 0 0 M712.67 1454.42 Q709.059 1454.42 707.231 1457.99 Q705.425 1461.53 705.425 1468.66 Q705.425 1475.77 707.231 1479.33 Q709.059 1482.87 712.67 1482.87 Q716.305 1482.87 718.11 1479.33 Q719.939 1475.77 719.939 1468.66 Q719.939 1461.53 718.11 1457.99 Q716.305 1454.42 712.67 1454.42 M712.67 1450.72 Q718.481 1450.72 721.536 1455.33 Q724.615 1459.91 724.615 1468.66 Q724.615 1477.39 721.536 1481.99 Q718.481 1486.58 712.67 1486.58 Q706.86 1486.58 703.782 1481.99 Q700.726 1477.39 700.726 1468.66 Q700.726 1459.91 703.782 1455.33 Q706.86 1450.72 712.67 1450.72 Z\" fill=\"#000000\" fill-rule=\"evenodd\" fill-opacity=\"1\" /><path clip-path=\"url(#clip650)\" d=\"M 0 0 M725.8 1430.41 L740.714 1430.41 L740.714 1433.61 L729.279 1433.61 L729.279 1440.49 Q730.107 1440.21 730.934 1440.08 Q731.762 1439.93 732.589 1439.93 Q737.291 1439.93 740.037 1442.51 Q742.783 1445.08 742.783 1449.48 Q742.783 1454.02 739.962 1456.54 Q737.141 1459.04 732.006 1459.04 Q730.238 1459.04 728.395 1458.74 Q726.571 1458.44 724.615 1457.84 L724.615 1454.02 Q726.308 1454.94 728.113 1455.39 Q729.919 1455.84 731.931 1455.84 Q735.185 1455.84 737.084 1454.13 Q738.984 1452.42 738.984 1449.48 Q738.984 1446.55 737.084 1444.84 Q735.185 1443.13 731.931 1443.13 Q730.408 1443.13 728.884 1443.47 Q727.38 1443.8 725.8 1444.52 L725.8 1430.41 Z\" fill=\"#000000\" fill-rule=\"evenodd\" fill-opacity=\"1\" /><path clip-path=\"url(#clip650)\" d=\"M 0 0 M1005.19 1481.97 L1021.51 1481.97 L1021.51 1485.9 L999.566 1485.9 L999.566 1481.97 Q1002.23 1479.21 1006.81 1474.58 Q1011.42 1469.93 1012.6 1468.59 Q1014.84 1466.07 1015.72 1464.33 Q1016.63 1462.57 1016.63 1460.88 Q1016.63 1458.13 1014.68 1456.39 Q1012.76 1454.65 1009.66 1454.65 Q1007.46 1454.65 1005.01 1455.42 Q1002.58 1456.18 999.797 1457.73 L999.797 1453.01 Q1002.62 1451.88 1005.08 1451.3 Q1007.53 1450.72 1009.57 1450.72 Q1014.94 1450.72 1018.13 1453.4 Q1021.33 1456.09 1021.33 1460.58 Q1021.33 1462.71 1020.51 1464.63 Q1019.73 1466.53 1017.62 1469.12 Q1017.04 1469.79 1013.94 1473.01 Q1010.84 1476.2 1005.19 1481.97 Z\" fill=\"#000000\" fill-rule=\"evenodd\" fill-opacity=\"1\" /><path clip-path=\"url(#clip650)\" d=\"M 0 0 M1054.75 1460.44 L1044.17 1471.07 L1054.75 1481.64 L1052 1484.45 L1041.37 1473.82 L1030.75 1484.45 L1028.01 1481.64 L1038.57 1471.07 L1028.01 1460.44 L1030.75 1457.64 L1041.37 1468.27 L1052 1457.64 L1054.75 1460.44 Z\" fill=\"#000000\" fill-rule=\"evenodd\" fill-opacity=\"1\" /><path clip-path=\"url(#clip650)\" d=\"M 0 0 M1060.63 1481.97 L1068.27 1481.97 L1068.27 1455.6 L1059.96 1457.27 L1059.96 1453.01 L1068.22 1451.34 L1072.9 1451.34 L1072.9 1481.97 L1080.54 1481.97 L1080.54 1485.9 L1060.63 1485.9 L1060.63 1481.97 Z\" fill=\"#000000\" fill-rule=\"evenodd\" fill-opacity=\"1\" /><path clip-path=\"url(#clip650)\" d=\"M 0 0 M1095.61 1454.42 Q1092 1454.42 1090.17 1457.99 Q1088.36 1461.53 1088.36 1468.66 Q1088.36 1475.77 1090.17 1479.33 Q1092 1482.87 1095.61 1482.87 Q1099.24 1482.87 1101.05 1479.33 Q1102.88 1475.77 1102.88 1468.66 Q1102.88 1461.53 1101.05 1457.99 Q1099.24 1454.42 1095.61 1454.42 M1095.61 1450.72 Q1101.42 1450.72 1104.47 1455.33 Q1107.55 1459.91 1107.55 1468.66 Q1107.55 1477.39 1104.47 1481.99 Q1101.42 1486.58 1095.61 1486.58 Q1089.8 1486.58 1086.72 1481.99 Q1083.66 1477.39 1083.66 1468.66 Q1083.66 1459.91 1086.72 1455.33 Q1089.8 1450.72 1095.61 1450.72 Z\" fill=\"#000000\" fill-rule=\"evenodd\" fill-opacity=\"1\" /><path clip-path=\"url(#clip650)\" d=\"M 0 0 M1108.74 1430.41 L1123.65 1430.41 L1123.65 1433.61 L1112.22 1433.61 L1112.22 1440.49 Q1113.04 1440.21 1113.87 1440.08 Q1114.7 1439.93 1115.53 1439.93 Q1120.23 1439.93 1122.97 1442.51 Q1125.72 1445.08 1125.72 1449.48 Q1125.72 1454.02 1122.9 1456.54 Q1120.08 1459.04 1114.94 1459.04 Q1113.17 1459.04 1111.33 1458.74 Q1109.51 1458.44 1107.55 1457.84 L1107.55 1454.02 Q1109.24 1454.94 1111.05 1455.39 Q1112.86 1455.84 1114.87 1455.84 Q1118.12 1455.84 1120.02 1454.13 Q1121.92 1452.42 1121.92 1449.48 Q1121.92 1446.55 1120.02 1444.84 Q1118.12 1443.13 1114.87 1443.13 Q1113.34 1443.13 1111.82 1443.47 Q1110.32 1443.8 1108.74 1444.52 L1108.74 1430.41 Z\" fill=\"#000000\" fill-rule=\"evenodd\" fill-opacity=\"1\" /><path clip-path=\"url(#clip650)\" d=\"M 0 0 M1397.04 1467.27 Q1400.4 1467.99 1402.27 1470.26 Q1404.17 1472.52 1404.17 1475.86 Q1404.17 1480.97 1400.65 1483.77 Q1397.13 1486.58 1390.65 1486.58 Q1388.47 1486.58 1386.16 1486.14 Q1383.87 1485.72 1381.41 1484.86 L1381.41 1480.35 Q1383.36 1481.48 1385.67 1482.06 Q1387.99 1482.64 1390.51 1482.64 Q1394.91 1482.64 1397.2 1480.9 Q1399.52 1479.17 1399.52 1475.86 Q1399.52 1472.8 1397.36 1471.09 Q1395.23 1469.35 1391.41 1469.35 L1387.39 1469.35 L1387.39 1465.51 L1391.6 1465.51 Q1395.05 1465.51 1396.88 1464.14 Q1398.71 1462.76 1398.71 1460.16 Q1398.71 1457.5 1396.81 1456.09 Q1394.93 1454.65 1391.41 1454.65 Q1389.49 1454.65 1387.29 1455.07 Q1385.1 1455.49 1382.46 1456.37 L1382.46 1452.2 Q1385.12 1451.46 1387.43 1451.09 Q1389.77 1450.72 1391.83 1450.72 Q1397.16 1450.72 1400.26 1453.15 Q1403.36 1455.56 1403.36 1459.68 Q1403.36 1462.55 1401.72 1464.54 Q1400.07 1466.51 1397.04 1467.27 Z\" fill=\"#000000\" fill-rule=\"evenodd\" fill-opacity=\"1\" /><path clip-path=\"url(#clip650)\" d=\"M 0 0 M1437.41 1460.44 L1426.83 1471.07 L1437.41 1481.64 L1434.65 1484.45 L1424.03 1473.82 L1413.41 1484.45 L1410.67 1481.64 L1421.23 1471.07 L1410.67 1460.44 L1413.41 1457.64 L1424.03 1468.27 L1434.65 1457.64 L1437.41 1460.44 Z\" fill=\"#000000\" fill-rule=\"evenodd\" fill-opacity=\"1\" /><path clip-path=\"url(#clip650)\" d=\"M 0 0 M1443.29 1481.97 L1450.93 1481.97 L1450.93 1455.6 L1442.62 1457.27 L1442.62 1453.01 L1450.88 1451.34 L1455.56 1451.34 L1455.56 1481.97 L1463.2 1481.97 L1463.2 1485.9 L1443.29 1485.9 L1443.29 1481.97 Z\" fill=\"#000000\" fill-rule=\"evenodd\" fill-opacity=\"1\" /><path clip-path=\"url(#clip650)\" d=\"M 0 0 M1478.27 1454.42 Q1474.65 1454.42 1472.83 1457.99 Q1471.02 1461.53 1471.02 1468.66 Q1471.02 1475.77 1472.83 1479.33 Q1474.65 1482.87 1478.27 1482.87 Q1481.9 1482.87 1483.71 1479.33 Q1485.53 1475.77 1485.53 1468.66 Q1485.53 1461.53 1483.71 1457.99 Q1481.9 1454.42 1478.27 1454.42 M1478.27 1450.72 Q1484.08 1450.72 1487.13 1455.33 Q1490.21 1459.91 1490.21 1468.66 Q1490.21 1477.39 1487.13 1481.99 Q1484.08 1486.58 1478.27 1486.58 Q1472.46 1486.58 1469.38 1481.99 Q1466.32 1477.39 1466.32 1468.66 Q1466.32 1459.91 1469.38 1455.33 Q1472.46 1450.72 1478.27 1450.72 Z\" fill=\"#000000\" fill-rule=\"evenodd\" fill-opacity=\"1\" /><path clip-path=\"url(#clip650)\" d=\"M 0 0 M1491.4 1430.41 L1506.31 1430.41 L1506.31 1433.61 L1494.87 1433.61 L1494.87 1440.49 Q1495.7 1440.21 1496.53 1440.08 Q1497.36 1439.93 1498.18 1439.93 Q1502.89 1439.93 1505.63 1442.51 Q1508.38 1445.08 1508.38 1449.48 Q1508.38 1454.02 1505.56 1456.54 Q1502.74 1459.04 1497.6 1459.04 Q1495.83 1459.04 1493.99 1458.74 Q1492.17 1458.44 1490.21 1457.84 L1490.21 1454.02 Q1491.9 1454.94 1493.71 1455.39 Q1495.51 1455.84 1497.53 1455.84 Q1500.78 1455.84 1502.68 1454.13 Q1504.58 1452.42 1504.58 1449.48 Q1504.58 1446.55 1502.68 1444.84 Q1500.78 1443.13 1497.53 1443.13 Q1496 1443.13 1494.48 1443.47 Q1492.97 1443.8 1491.4 1444.52 L1491.4 1430.41 Z\" fill=\"#000000\" fill-rule=\"evenodd\" fill-opacity=\"1\" /><path clip-path=\"url(#clip650)\" d=\"M 0 0 M1778.05 1455.42 L1766.25 1473.87 L1778.05 1473.87 L1778.05 1455.42 M1776.83 1451.34 L1782.71 1451.34 L1782.71 1473.87 L1787.64 1473.87 L1787.64 1477.76 L1782.71 1477.76 L1782.71 1485.9 L1778.05 1485.9 L1778.05 1477.76 L1762.45 1477.76 L1762.45 1473.24 L1776.83 1451.34 Z\" fill=\"#000000\" fill-rule=\"evenodd\" fill-opacity=\"1\" /><path clip-path=\"url(#clip650)\" d=\"M 0 0 M1820.88 1460.44 L1810.3 1471.07 L1820.88 1481.64 L1818.12 1484.45 L1807.5 1473.82 L1796.87 1484.45 L1794.14 1481.64 L1804.7 1471.07 L1794.14 1460.44 L1796.87 1457.64 L1807.5 1468.27 L1818.12 1457.64 L1820.88 1460.44 Z\" fill=\"#000000\" fill-rule=\"evenodd\" fill-opacity=\"1\" /><path clip-path=\"url(#clip650)\" d=\"M 0 0 M1826.76 1481.97 L1834.4 1481.97 L1834.4 1455.6 L1826.09 1457.27 L1826.09 1453.01 L1834.35 1451.34 L1839.03 1451.34 L1839.03 1481.97 L1846.67 1481.97 L1846.67 1485.9 L1826.76 1485.9 L1826.76 1481.97 Z\" fill=\"#000000\" fill-rule=\"evenodd\" fill-opacity=\"1\" /><path clip-path=\"url(#clip650)\" d=\"M 0 0 M1861.73 1454.42 Q1858.12 1454.42 1856.3 1457.99 Q1854.49 1461.53 1854.49 1468.66 Q1854.49 1475.77 1856.3 1479.33 Q1858.12 1482.87 1861.73 1482.87 Q1865.37 1482.87 1867.17 1479.33 Q1869 1475.77 1869 1468.66 Q1869 1461.53 1867.17 1457.99 Q1865.37 1454.42 1861.73 1454.42 M1861.73 1450.72 Q1867.54 1450.72 1870.6 1455.33 Q1873.68 1459.91 1873.68 1468.66 Q1873.68 1477.39 1870.6 1481.99 Q1867.54 1486.58 1861.73 1486.58 Q1855.92 1486.58 1852.85 1481.99 Q1849.79 1477.39 1849.79 1468.66 Q1849.79 1459.91 1852.85 1455.33 Q1855.92 1450.72 1861.73 1450.72 Z\" fill=\"#000000\" fill-rule=\"evenodd\" fill-opacity=\"1\" /><path clip-path=\"url(#clip650)\" d=\"M 0 0 M1874.86 1430.41 L1889.78 1430.41 L1889.78 1433.61 L1878.34 1433.61 L1878.34 1440.49 Q1879.17 1440.21 1880 1440.08 Q1880.83 1439.93 1881.65 1439.93 Q1886.36 1439.93 1889.1 1442.51 Q1891.85 1445.08 1891.85 1449.48 Q1891.85 1454.02 1889.03 1456.54 Q1886.21 1459.04 1881.07 1459.04 Q1879.3 1459.04 1877.46 1458.74 Q1875.64 1458.44 1873.68 1457.84 L1873.68 1454.02 Q1875.37 1454.94 1877.18 1455.39 Q1878.98 1455.84 1881 1455.84 Q1884.25 1455.84 1886.15 1454.13 Q1888.05 1452.42 1888.05 1449.48 Q1888.05 1446.55 1886.15 1444.84 Q1884.25 1443.13 1881 1443.13 Q1879.47 1443.13 1877.95 1443.47 Q1876.44 1443.8 1874.86 1444.52 L1874.86 1430.41 Z\" fill=\"#000000\" fill-rule=\"evenodd\" fill-opacity=\"1\" /><path clip-path=\"url(#clip650)\" d=\"M 0 0 M2147.58 1451.34 L2165.93 1451.34 L2165.93 1455.28 L2151.86 1455.28 L2151.86 1463.75 Q2152.88 1463.4 2153.9 1463.24 Q2154.91 1463.06 2155.93 1463.06 Q2161.72 1463.06 2165.1 1466.23 Q2168.48 1469.4 2168.48 1474.82 Q2168.48 1480.39 2165.01 1483.5 Q2161.54 1486.58 2155.22 1486.58 Q2153.04 1486.58 2150.77 1486.2 Q2148.53 1485.83 2146.12 1485.09 L2146.12 1480.39 Q2148.2 1481.53 2150.42 1482.08 Q2152.65 1482.64 2155.12 1482.64 Q2159.13 1482.64 2161.47 1480.53 Q2163.8 1478.43 2163.8 1474.82 Q2163.8 1471.2 2161.47 1469.1 Q2159.13 1466.99 2155.12 1466.99 Q2153.25 1466.99 2151.37 1467.41 Q2149.52 1467.83 2147.58 1468.7 L2147.58 1451.34 Z\" fill=\"#000000\" fill-rule=\"evenodd\" fill-opacity=\"1\" /><path clip-path=\"url(#clip650)\" d=\"M 0 0 M2201.72 1460.44 L2191.14 1471.07 L2201.72 1481.64 L2198.97 1484.45 L2188.34 1473.82 L2177.72 1484.45 L2174.98 1481.64 L2185.54 1471.07 L2174.98 1460.44 L2177.72 1457.64 L2188.34 1468.27 L2198.97 1457.64 L2201.72 1460.44 Z\" fill=\"#000000\" fill-rule=\"evenodd\" fill-opacity=\"1\" /><path clip-path=\"url(#clip650)\" d=\"M 0 0 M2207.6 1481.97 L2215.24 1481.97 L2215.24 1455.6 L2206.93 1457.27 L2206.93 1453.01 L2215.19 1451.34 L2219.87 1451.34 L2219.87 1481.97 L2227.51 1481.97 L2227.51 1485.9 L2207.6 1485.9 L2207.6 1481.97 Z\" fill=\"#000000\" fill-rule=\"evenodd\" fill-opacity=\"1\" /><path clip-path=\"url(#clip650)\" d=\"M 0 0 M2242.58 1454.42 Q2238.97 1454.42 2237.14 1457.99 Q2235.33 1461.53 2235.33 1468.66 Q2235.33 1475.77 2237.14 1479.33 Q2238.97 1482.87 2242.58 1482.87 Q2246.21 1482.87 2248.02 1479.33 Q2249.84 1475.77 2249.84 1468.66 Q2249.84 1461.53 2248.02 1457.99 Q2246.21 1454.42 2242.58 1454.42 M2242.58 1450.72 Q2248.39 1450.72 2251.44 1455.33 Q2254.52 1459.91 2254.52 1468.66 Q2254.52 1477.39 2251.44 1481.99 Q2248.39 1486.58 2242.58 1486.58 Q2236.77 1486.58 2233.69 1481.99 Q2230.63 1477.39 2230.63 1468.66 Q2230.63 1459.91 2233.69 1455.33 Q2236.77 1450.72 2242.58 1450.72 Z\" fill=\"#000000\" fill-rule=\"evenodd\" fill-opacity=\"1\" /><path clip-path=\"url(#clip650)\" d=\"M 0 0 M2255.71 1430.41 L2270.62 1430.41 L2270.62 1433.61 L2259.19 1433.61 L2259.19 1440.49 Q2260.01 1440.21 2260.84 1440.08 Q2261.67 1439.93 2262.5 1439.93 Q2267.2 1439.93 2269.94 1442.51 Q2272.69 1445.08 2272.69 1449.48 Q2272.69 1454.02 2269.87 1456.54 Q2267.05 1459.04 2261.91 1459.04 Q2260.14 1459.04 2258.3 1458.74 Q2256.48 1458.44 2254.52 1457.84 L2254.52 1454.02 Q2256.21 1454.94 2258.02 1455.39 Q2259.82 1455.84 2261.84 1455.84 Q2265.09 1455.84 2266.99 1454.13 Q2268.89 1452.42 2268.89 1449.48 Q2268.89 1446.55 2266.99 1444.84 Q2265.09 1443.13 2261.84 1443.13 Q2260.31 1443.13 2258.79 1443.47 Q2257.29 1443.8 2255.71 1444.52 L2255.71 1430.41 Z\" fill=\"#000000\" fill-rule=\"evenodd\" fill-opacity=\"1\" /><path clip-path=\"url(#clip650)\" d=\"M 0 0 M138.367 1360.26 Q134.755 1360.26 132.927 1363.82 Q131.121 1367.37 131.121 1374.49 Q131.121 1381.6 132.927 1385.17 Q134.755 1388.71 138.367 1388.71 Q142.001 1388.71 143.806 1385.17 Q145.635 1381.6 145.635 1374.49 Q145.635 1367.37 143.806 1363.82 Q142.001 1360.26 138.367 1360.26 M138.367 1356.56 Q144.177 1356.56 147.232 1361.16 Q150.311 1365.74 150.311 1374.49 Q150.311 1383.22 147.232 1387.83 Q144.177 1392.41 138.367 1392.41 Q132.556 1392.41 129.478 1387.83 Q126.422 1383.22 126.422 1374.49 Q126.422 1365.74 129.478 1361.16 Q132.556 1356.56 138.367 1356.56 Z\" fill=\"#000000\" fill-rule=\"evenodd\" fill-opacity=\"1\" /><path clip-path=\"url(#clip650)\" d=\"M 0 0 M155.38 1385.86 L160.265 1385.86 L160.265 1391.74 L155.38 1391.74 L155.38 1385.86 Z\" fill=\"#000000\" fill-rule=\"evenodd\" fill-opacity=\"1\" /><path clip-path=\"url(#clip650)\" d=\"M 0 0 M175.334 1360.26 Q171.723 1360.26 169.894 1363.82 Q168.089 1367.37 168.089 1374.49 Q168.089 1381.6 169.894 1385.17 Q171.723 1388.71 175.334 1388.71 Q178.968 1388.71 180.774 1385.17 Q182.602 1381.6 182.602 1374.49 Q182.602 1367.37 180.774 1363.82 Q178.968 1360.26 175.334 1360.26 M175.334 1356.56 Q181.144 1356.56 184.2 1361.16 Q187.278 1365.74 187.278 1374.49 Q187.278 1383.22 184.2 1387.83 Q181.144 1392.41 175.334 1392.41 Q169.524 1392.41 166.445 1387.83 Q163.39 1383.22 163.39 1374.49 Q163.39 1365.74 166.445 1361.16 Q169.524 1356.56 175.334 1356.56 Z\" fill=\"#000000\" fill-rule=\"evenodd\" fill-opacity=\"1\" /><path clip-path=\"url(#clip650)\" d=\"M 0 0 M202.348 1360.26 Q198.737 1360.26 196.908 1363.82 Q195.102 1367.37 195.102 1374.49 Q195.102 1381.6 196.908 1385.17 Q198.737 1388.71 202.348 1388.71 Q205.982 1388.71 207.787 1385.17 Q209.616 1381.6 209.616 1374.49 Q209.616 1367.37 207.787 1363.82 Q205.982 1360.26 202.348 1360.26 M202.348 1356.56 Q208.158 1356.56 211.213 1361.16 Q214.292 1365.74 214.292 1374.49 Q214.292 1383.22 211.213 1387.83 Q208.158 1392.41 202.348 1392.41 Q196.538 1392.41 193.459 1387.83 Q190.403 1383.22 190.403 1374.49 Q190.403 1365.74 193.459 1361.16 Q196.538 1356.56 202.348 1356.56 Z\" fill=\"#000000\" fill-rule=\"evenodd\" fill-opacity=\"1\" /><path clip-path=\"url(#clip650)\" d=\"M 0 0 M139.015 1110.01 Q135.404 1110.01 133.575 1113.57 Q131.769 1117.11 131.769 1124.24 Q131.769 1131.35 133.575 1134.91 Q135.404 1138.46 139.015 1138.46 Q142.649 1138.46 144.455 1134.91 Q146.283 1131.35 146.283 1124.24 Q146.283 1117.11 144.455 1113.57 Q142.649 1110.01 139.015 1110.01 M139.015 1106.3 Q144.825 1106.3 147.88 1110.91 Q150.959 1115.49 150.959 1124.24 Q150.959 1132.97 147.88 1137.58 Q144.825 1142.16 139.015 1142.16 Q133.205 1142.16 130.126 1137.58 Q127.07 1132.97 127.07 1124.24 Q127.07 1115.49 130.126 1110.91 Q133.205 1106.3 139.015 1106.3 Z\" fill=\"#000000\" fill-rule=\"evenodd\" fill-opacity=\"1\" /><path clip-path=\"url(#clip650)\" d=\"M 0 0 M156.029 1135.61 L160.913 1135.61 L160.913 1141.49 L156.029 1141.49 L156.029 1135.61 Z\" fill=\"#000000\" fill-rule=\"evenodd\" fill-opacity=\"1\" /><path clip-path=\"url(#clip650)\" d=\"M 0 0 M175.982 1110.01 Q172.371 1110.01 170.542 1113.57 Q168.737 1117.11 168.737 1124.24 Q168.737 1131.35 170.542 1134.91 Q172.371 1138.46 175.982 1138.46 Q179.616 1138.46 181.422 1134.91 Q183.251 1131.35 183.251 1124.24 Q183.251 1117.11 181.422 1113.57 Q179.616 1110.01 175.982 1110.01 M175.982 1106.3 Q181.792 1106.3 184.848 1110.91 Q187.926 1115.49 187.926 1124.24 Q187.926 1132.97 184.848 1137.58 Q181.792 1142.16 175.982 1142.16 Q170.172 1142.16 167.093 1137.58 Q164.038 1132.97 164.038 1124.24 Q164.038 1115.49 167.093 1110.91 Q170.172 1106.3 175.982 1106.3 Z\" fill=\"#000000\" fill-rule=\"evenodd\" fill-opacity=\"1\" /><path clip-path=\"url(#clip650)\" d=\"M 0 0 M207.163 1122.85 Q210.519 1123.57 212.394 1125.84 Q214.292 1128.11 214.292 1131.44 Q214.292 1136.56 210.774 1139.36 Q207.255 1142.16 200.774 1142.16 Q198.598 1142.16 196.283 1141.72 Q193.991 1141.3 191.538 1140.45 L191.538 1135.93 Q193.482 1137.07 195.797 1137.65 Q198.112 1138.22 200.635 1138.22 Q205.033 1138.22 207.325 1136.49 Q209.639 1134.75 209.639 1131.44 Q209.639 1128.39 207.487 1126.67 Q205.357 1124.94 201.538 1124.94 L197.51 1124.94 L197.51 1121.09 L201.723 1121.09 Q205.172 1121.09 207 1119.73 Q208.829 1118.34 208.829 1115.75 Q208.829 1113.09 206.931 1111.67 Q205.056 1110.24 201.538 1110.24 Q199.616 1110.24 197.417 1110.65 Q195.218 1111.07 192.579 1111.95 L192.579 1107.78 Q195.241 1107.04 197.556 1106.67 Q199.894 1106.3 201.954 1106.3 Q207.278 1106.3 210.38 1108.73 Q213.482 1111.14 213.482 1115.26 Q213.482 1118.13 211.838 1120.12 Q210.195 1122.09 207.163 1122.85 Z\" fill=\"#000000\" fill-rule=\"evenodd\" fill-opacity=\"1\" /><path clip-path=\"url(#clip650)\" d=\"M 0 0 M138.205 859.755 Q134.593 859.755 132.765 863.319 Q130.959 866.861 130.959 873.991 Q130.959 881.097 132.765 884.662 Q134.593 888.203 138.205 888.203 Q141.839 888.203 143.644 884.662 Q145.473 881.097 145.473 873.991 Q145.473 866.861 143.644 863.319 Q141.839 859.755 138.205 859.755 M138.205 856.051 Q144.015 856.051 147.07 860.657 Q150.149 865.241 150.149 873.991 Q150.149 882.717 147.07 887.324 Q144.015 891.907 138.205 891.907 Q132.394 891.907 129.316 887.324 Q126.26 882.717 126.26 873.991 Q126.26 865.241 129.316 860.657 Q132.394 856.051 138.205 856.051 Z\" fill=\"#000000\" fill-rule=\"evenodd\" fill-opacity=\"1\" /><path clip-path=\"url(#clip650)\" d=\"M 0 0 M155.218 885.356 L160.103 885.356 L160.103 891.236 L155.218 891.236 L155.218 885.356 Z\" fill=\"#000000\" fill-rule=\"evenodd\" fill-opacity=\"1\" /><path clip-path=\"url(#clip650)\" d=\"M 0 0 M175.172 859.755 Q171.561 859.755 169.732 863.319 Q167.927 866.861 167.927 873.991 Q167.927 881.097 169.732 884.662 Q171.561 888.203 175.172 888.203 Q178.806 888.203 180.612 884.662 Q182.44 881.097 182.44 873.991 Q182.44 866.861 180.612 863.319 Q178.806 859.755 175.172 859.755 M175.172 856.051 Q180.982 856.051 184.038 860.657 Q187.116 865.241 187.116 873.991 Q187.116 882.717 184.038 887.324 Q180.982 891.907 175.172 891.907 Q169.362 891.907 166.283 887.324 Q163.228 882.717 163.228 873.991 Q163.228 865.241 166.283 860.657 Q169.362 856.051 175.172 856.051 Z\" fill=\"#000000\" fill-rule=\"evenodd\" fill-opacity=\"1\" /><path clip-path=\"url(#clip650)\" d=\"M 0 0 M202.764 872.092 Q199.616 872.092 197.764 874.245 Q195.936 876.398 195.936 880.148 Q195.936 883.875 197.764 886.051 Q199.616 888.203 202.764 888.203 Q205.913 888.203 207.741 886.051 Q209.593 883.875 209.593 880.148 Q209.593 876.398 207.741 874.245 Q205.913 872.092 202.764 872.092 M212.047 857.44 L212.047 861.699 Q210.287 860.866 208.482 860.426 Q206.7 859.986 204.94 859.986 Q200.311 859.986 197.857 863.111 Q195.426 866.236 195.079 872.555 Q196.445 870.542 198.505 869.477 Q200.565 868.389 203.042 868.389 Q208.25 868.389 211.26 871.56 Q214.292 874.708 214.292 880.148 Q214.292 885.472 211.144 888.69 Q207.996 891.907 202.764 891.907 Q196.769 891.907 193.598 887.324 Q190.426 882.717 190.426 873.991 Q190.426 865.796 194.315 860.935 Q198.204 856.051 204.755 856.051 Q206.514 856.051 208.297 856.398 Q210.102 856.745 212.047 857.44 Z\" fill=\"#000000\" fill-rule=\"evenodd\" fill-opacity=\"1\" /><path clip-path=\"url(#clip650)\" d=\"M 0 0 M138.552 609.502 Q134.941 609.502 133.112 613.067 Q131.306 616.609 131.306 623.738 Q131.306 630.845 133.112 634.41 Q134.941 637.951 138.552 637.951 Q142.186 637.951 143.992 634.41 Q145.82 630.845 145.82 623.738 Q145.82 616.609 143.992 613.067 Q142.186 609.502 138.552 609.502 M138.552 605.799 Q144.362 605.799 147.417 610.405 Q150.496 614.989 150.496 623.738 Q150.496 632.465 147.417 637.072 Q144.362 641.655 138.552 641.655 Q132.742 641.655 129.663 637.072 Q126.607 632.465 126.607 623.738 Q126.607 614.989 129.663 610.405 Q132.742 605.799 138.552 605.799 Z\" fill=\"#000000\" fill-rule=\"evenodd\" fill-opacity=\"1\" /><path clip-path=\"url(#clip650)\" d=\"M 0 0 M155.566 635.104 L160.45 635.104 L160.45 640.984 L155.566 640.984 L155.566 635.104 Z\" fill=\"#000000\" fill-rule=\"evenodd\" fill-opacity=\"1\" /><path clip-path=\"url(#clip650)\" d=\"M 0 0 M175.519 609.502 Q171.908 609.502 170.079 613.067 Q168.274 616.609 168.274 623.738 Q168.274 630.845 170.079 634.41 Q171.908 637.951 175.519 637.951 Q179.153 637.951 180.959 634.41 Q182.788 630.845 182.788 623.738 Q182.788 616.609 180.959 613.067 Q179.153 609.502 175.519 609.502 M175.519 605.799 Q181.329 605.799 184.385 610.405 Q187.464 614.989 187.464 623.738 Q187.464 632.465 184.385 637.072 Q181.329 641.655 175.519 641.655 Q169.709 641.655 166.63 637.072 Q163.575 632.465 163.575 623.738 Q163.575 614.989 166.63 610.405 Q169.709 605.799 175.519 605.799 Z\" fill=\"#000000\" fill-rule=\"evenodd\" fill-opacity=\"1\" /><path clip-path=\"url(#clip650)\" d=\"M 0 0 M192.672 640.266 L192.672 636.007 Q194.431 636.84 196.237 637.28 Q198.042 637.72 199.778 637.72 Q204.408 637.72 206.838 634.618 Q209.292 631.493 209.639 625.151 Q208.297 627.141 206.237 628.206 Q204.176 629.271 201.676 629.271 Q196.491 629.271 193.459 626.146 Q190.45 622.998 190.45 617.558 Q190.45 612.234 193.598 609.016 Q196.746 605.799 201.977 605.799 Q207.973 605.799 211.121 610.405 Q214.292 614.989 214.292 623.738 Q214.292 631.91 210.403 636.794 Q206.538 641.655 199.987 641.655 Q198.227 641.655 196.422 641.308 Q194.616 640.961 192.672 640.266 M201.977 625.613 Q205.125 625.613 206.954 623.461 Q208.806 621.308 208.806 617.558 Q208.806 613.831 206.954 611.678 Q205.125 609.502 201.977 609.502 Q198.829 609.502 196.977 611.678 Q195.149 613.831 195.149 617.558 Q195.149 621.308 196.977 623.461 Q198.829 625.613 201.977 625.613 Z\" fill=\"#000000\" fill-rule=\"evenodd\" fill-opacity=\"1\" /><path clip-path=\"url(#clip650)\" d=\"M 0 0 M141.191 359.25 Q137.58 359.25 135.751 362.815 Q133.945 366.357 133.945 373.486 Q133.945 380.593 135.751 384.158 Q137.58 387.699 141.191 387.699 Q144.825 387.699 146.63 384.158 Q148.459 380.593 148.459 373.486 Q148.459 366.357 146.63 362.815 Q144.825 359.25 141.191 359.25 M141.191 355.547 Q147.001 355.547 150.056 360.153 Q153.135 364.736 153.135 373.486 Q153.135 382.213 150.056 386.82 Q147.001 391.403 141.191 391.403 Q135.38 391.403 132.302 386.82 Q129.246 382.213 129.246 373.486 Q129.246 364.736 132.302 360.153 Q135.38 355.547 141.191 355.547 Z\" fill=\"#000000\" fill-rule=\"evenodd\" fill-opacity=\"1\" /><path clip-path=\"url(#clip650)\" d=\"M 0 0 M158.204 384.852 L163.089 384.852 L163.089 390.732 L158.204 390.732 L158.204 384.852 Z\" fill=\"#000000\" fill-rule=\"evenodd\" fill-opacity=\"1\" /><path clip-path=\"url(#clip650)\" d=\"M 0 0 M168.968 386.796 L176.607 386.796 L176.607 360.431 L168.297 362.098 L168.297 357.838 L176.561 356.172 L181.237 356.172 L181.237 386.796 L188.876 386.796 L188.876 390.732 L168.968 390.732 L168.968 386.796 Z\" fill=\"#000000\" fill-rule=\"evenodd\" fill-opacity=\"1\" /><path clip-path=\"url(#clip650)\" d=\"M 0 0 M197.973 386.796 L214.292 386.796 L214.292 390.732 L192.348 390.732 L192.348 386.796 Q195.01 384.042 199.593 379.412 Q204.2 374.76 205.38 373.417 Q207.625 370.894 208.505 369.158 Q209.408 367.398 209.408 365.709 Q209.408 362.954 207.463 361.218 Q205.542 359.482 202.44 359.482 Q200.241 359.482 197.788 360.246 Q195.357 361.01 192.579 362.561 L192.579 357.838 Q195.403 356.704 197.857 356.125 Q200.311 355.547 202.348 355.547 Q207.718 355.547 210.912 358.232 Q214.107 360.917 214.107 365.408 Q214.107 367.537 213.297 369.459 Q212.51 371.357 210.403 373.949 Q209.825 374.621 206.723 377.838 Q203.621 381.033 197.973 386.796 Z\" fill=\"#000000\" fill-rule=\"evenodd\" fill-opacity=\"1\" /><path clip-path=\"url(#clip650)\" d=\"M 0 0 M882.149 17.6457 Q873.237 17.6457 867.971 24.2892 Q862.746 30.9327 862.746 42.3968 Q862.746 53.8203 867.971 60.4638 Q873.237 67.1073 882.149 67.1073 Q891.061 67.1073 896.247 60.4638 Q901.472 53.8203 901.472 42.3968 Q901.472 30.9327 896.247 24.2892 Q891.061 17.6457 882.149 17.6457 M882.149 11.0023 Q894.869 11.0023 902.485 19.5497 Q910.101 28.0566 910.101 42.3968 Q910.101 56.6965 902.485 65.2439 Q894.869 73.7508 882.149 73.7508 Q869.389 73.7508 861.733 65.2439 Q854.117 56.737 854.117 42.3968 Q854.117 28.0566 861.733 19.5497 Q869.389 11.0023 882.149 11.0023 Z\" fill=\"#000000\" fill-rule=\"evenodd\" fill-opacity=\"1\" /><path clip-path=\"url(#clip650)\" d=\"M 0 0 M925.13 65.7705 L925.13 89.8329 L917.635 89.8329 L917.635 27.2059 L925.13 27.2059 L925.13 34.0924 Q927.479 30.0415 931.044 28.0971 Q934.649 26.1121 939.632 26.1121 Q947.896 26.1121 953.04 32.6746 Q958.225 39.2371 958.225 49.9314 Q958.225 60.6258 953.04 67.1883 Q947.896 73.7508 939.632 73.7508 Q934.649 73.7508 931.044 71.8063 Q927.479 69.8214 925.13 65.7705 M950.488 49.9314 Q950.488 41.7081 947.085 37.0496 Q943.723 32.3505 937.809 32.3505 Q931.895 32.3505 928.492 37.0496 Q925.13 41.7081 925.13 49.9314 Q925.13 58.1548 928.492 62.8538 Q931.895 67.5124 937.809 67.5124 Q943.723 67.5124 947.085 62.8538 Q950.488 58.1548 950.488 49.9314 Z\" fill=\"#000000\" fill-rule=\"evenodd\" fill-opacity=\"1\" /><path clip-path=\"url(#clip650)\" d=\"M 0 0 M973.416 14.324 L973.416 27.2059 L988.769 27.2059 L988.769 32.9987 L973.416 32.9987 L973.416 57.6282 Q973.416 63.1779 974.915 64.7578 Q976.455 66.3376 981.113 66.3376 L988.769 66.3376 L988.769 72.576 L981.113 72.576 Q972.485 72.576 969.203 69.3758 Q965.922 66.1351 965.922 57.6282 L965.922 32.9987 L960.453 32.9987 L960.453 27.2059 L965.922 27.2059 L965.922 14.324 L973.416 14.324 Z\" fill=\"#000000\" fill-rule=\"evenodd\" fill-opacity=\"1\" /><path clip-path=\"url(#clip650)\" d=\"M 0 0 M996.588 27.2059 L1004.04 27.2059 L1004.04 72.576 L996.588 72.576 L996.588 27.2059 M996.588 9.54393 L1004.04 9.54393 L1004.04 18.9825 L996.588 18.9825 L996.588 9.54393 Z\" fill=\"#000000\" fill-rule=\"evenodd\" fill-opacity=\"1\" /><path clip-path=\"url(#clip650)\" d=\"M 0 0 M1047.18 35.9153 Q1049.98 30.8922 1053.87 28.5022 Q1057.76 26.1121 1063.02 26.1121 Q1070.11 26.1121 1073.96 31.0947 Q1077.81 36.0368 1077.81 45.1919 L1077.81 72.576 L1070.31 72.576 L1070.31 45.4349 Q1070.31 38.913 1068 35.7533 Q1065.7 32.5936 1060.96 32.5936 Q1055.16 32.5936 1051.8 36.4419 Q1048.44 40.2903 1048.44 46.9338 L1048.44 72.576 L1040.94 72.576 L1040.94 45.4349 Q1040.94 38.8725 1038.64 35.7533 Q1036.33 32.5936 1031.51 32.5936 Q1025.79 32.5936 1022.43 36.4824 Q1019.07 40.3308 1019.07 46.9338 L1019.07 72.576 L1011.58 72.576 L1011.58 27.2059 L1019.07 27.2059 L1019.07 34.2544 Q1021.62 30.082 1025.19 28.0971 Q1028.75 26.1121 1033.65 26.1121 Q1038.6 26.1121 1042.04 28.6237 Q1045.52 31.1352 1047.18 35.9153 Z\" fill=\"#000000\" fill-rule=\"evenodd\" fill-opacity=\"1\" /><path clip-path=\"url(#clip650)\" d=\"M 0 0 M1106.25 49.7694 Q1097.21 49.7694 1093.73 51.8354 Q1090.24 53.9013 1090.24 58.8839 Q1090.24 62.8538 1092.84 65.2034 Q1095.47 67.5124 1099.97 67.5124 Q1106.16 67.5124 1109.89 63.1374 Q1113.66 58.7219 1113.66 51.4303 L1113.66 49.7694 L1106.25 49.7694 M1121.11 46.6907 L1121.11 72.576 L1113.66 72.576 L1113.66 65.6895 Q1111.11 69.8214 1107.3 71.8063 Q1103.49 73.7508 1097.98 73.7508 Q1091.01 73.7508 1086.88 69.8619 Q1082.79 65.9325 1082.79 59.3701 Q1082.79 51.7138 1087.89 47.825 Q1093.04 43.9361 1103.21 43.9361 L1113.66 43.9361 L1113.66 43.2069 Q1113.66 38.0623 1110.26 35.2672 Q1106.89 32.4315 1100.78 32.4315 Q1096.89 32.4315 1093.2 33.3632 Q1089.52 34.295 1086.11 36.1584 L1086.11 29.2718 Q1090.2 27.692 1094.05 26.9223 Q1097.9 26.1121 1101.55 26.1121 Q1111.39 26.1121 1116.25 31.2163 Q1121.11 36.3204 1121.11 46.6907 Z\" fill=\"#000000\" fill-rule=\"evenodd\" fill-opacity=\"1\" /><path clip-path=\"url(#clip650)\" d=\"M 0 0 M1128.93 9.54393 L1136.38 9.54393 L1136.38 72.576 L1128.93 72.576 L1128.93 9.54393 Z\" fill=\"#000000\" fill-rule=\"evenodd\" fill-opacity=\"1\" /><path clip-path=\"url(#clip650)\" d=\"M 0 0 M1177.95 14.324 L1177.95 27.2059 L1193.3 27.2059 L1193.3 32.9987 L1177.95 32.9987 L1177.95 57.6282 Q1177.95 63.1779 1179.45 64.7578 Q1180.98 66.3376 1185.64 66.3376 L1193.3 66.3376 L1193.3 72.576 L1185.64 72.576 Q1177.01 72.576 1173.73 69.3758 Q1170.45 66.1351 1170.45 57.6282 L1170.45 32.9987 L1164.98 32.9987 L1164.98 27.2059 L1170.45 27.2059 L1170.45 14.324 L1177.95 14.324 Z\" fill=\"#000000\" fill-rule=\"evenodd\" fill-opacity=\"1\" /><path clip-path=\"url(#clip650)\" d=\"M 0 0 M1227.41 34.1734 Q1226.15 33.4443 1224.65 33.1202 Q1223.2 32.7556 1221.41 32.7556 Q1215.09 32.7556 1211.69 36.8875 Q1208.33 40.9789 1208.33 48.6757 L1208.33 72.576 L1200.83 72.576 L1200.83 27.2059 L1208.33 27.2059 L1208.33 34.2544 Q1210.68 30.1225 1214.45 28.1376 Q1218.21 26.1121 1223.6 26.1121 Q1224.37 26.1121 1225.3 26.2337 Q1226.23 26.3147 1227.37 26.5172 L1227.41 34.1734 Z\" fill=\"#000000\" fill-rule=\"evenodd\" fill-opacity=\"1\" /><path clip-path=\"url(#clip650)\" d=\"M 0 0 M1255.85 49.7694 Q1246.81 49.7694 1243.33 51.8354 Q1239.84 53.9013 1239.84 58.8839 Q1239.84 62.8538 1242.44 65.2034 Q1245.07 67.5124 1249.57 67.5124 Q1255.76 67.5124 1259.49 63.1374 Q1263.26 58.7219 1263.26 51.4303 L1263.26 49.7694 L1255.85 49.7694 M1270.71 46.6907 L1270.71 72.576 L1263.26 72.576 L1263.26 65.6895 Q1260.71 69.8214 1256.9 71.8063 Q1253.09 73.7508 1247.58 73.7508 Q1240.61 73.7508 1236.48 69.8619 Q1232.39 65.9325 1232.39 59.3701 Q1232.39 51.7138 1237.49 47.825 Q1242.64 43.9361 1252.81 43.9361 L1263.26 43.9361 L1263.26 43.2069 Q1263.26 38.0623 1259.86 35.2672 Q1256.49 32.4315 1250.38 32.4315 Q1246.49 32.4315 1242.8 33.3632 Q1239.12 34.295 1235.71 36.1584 L1235.71 29.2718 Q1239.8 27.692 1243.65 26.9223 Q1247.5 26.1121 1251.15 26.1121 Q1260.99 26.1121 1265.85 31.2163 Q1270.71 36.3204 1270.71 46.6907 Z\" fill=\"#000000\" fill-rule=\"evenodd\" fill-opacity=\"1\" /><path clip-path=\"url(#clip650)\" d=\"M 0 0 M1308.39 34.0924 L1308.39 9.54393 L1315.84 9.54393 L1315.84 72.576 L1308.39 72.576 L1308.39 65.7705 Q1306.04 69.8214 1302.43 71.8063 Q1298.87 73.7508 1293.84 73.7508 Q1285.62 73.7508 1280.43 67.1883 Q1275.29 60.6258 1275.29 49.9314 Q1275.29 39.2371 1280.43 32.6746 Q1285.62 26.1121 1293.84 26.1121 Q1298.87 26.1121 1302.43 28.0971 Q1306.04 30.0415 1308.39 34.0924 M1282.99 49.9314 Q1282.99 58.1548 1286.35 62.8538 Q1289.75 67.5124 1295.67 67.5124 Q1301.58 67.5124 1304.98 62.8538 Q1308.39 58.1548 1308.39 49.9314 Q1308.39 41.7081 1304.98 37.0496 Q1301.58 32.3505 1295.67 32.3505 Q1289.75 32.3505 1286.35 37.0496 Q1282.99 41.7081 1282.99 49.9314 Z\" fill=\"#000000\" fill-rule=\"evenodd\" fill-opacity=\"1\" /><path clip-path=\"url(#clip650)\" d=\"M 0 0 M1362.47 48.0275 L1362.47 51.6733 L1328.19 51.6733 Q1328.68 59.3701 1332.81 63.421 Q1336.99 67.4314 1344.4 67.4314 Q1348.69 67.4314 1352.7 66.3781 Q1356.75 65.3249 1360.72 63.2184 L1360.72 70.267 Q1356.71 71.9684 1352.5 72.8596 Q1348.29 73.7508 1343.95 73.7508 Q1333.1 73.7508 1326.74 67.4314 Q1320.42 61.1119 1320.42 50.3365 Q1320.42 39.1965 1326.41 32.6746 Q1332.45 26.1121 1342.66 26.1121 Q1351.81 26.1121 1357.12 32.0264 Q1362.47 37.9003 1362.47 48.0275 M1355.01 45.84 Q1354.93 39.7232 1351.57 36.0774 Q1348.25 32.4315 1342.74 32.4315 Q1336.5 32.4315 1332.73 35.9558 Q1329 39.4801 1328.44 45.8805 L1355.01 45.84 Z\" fill=\"#000000\" fill-rule=\"evenodd\" fill-opacity=\"1\" /><path clip-path=\"url(#clip650)\" d=\"M 0 0 M1366.52 46.5287 L1388.35 46.5287 L1388.35 53.1722 L1366.52 53.1722 L1366.52 46.5287 Z\" fill=\"#000000\" fill-rule=\"evenodd\" fill-opacity=\"1\" /><path clip-path=\"url(#clip650)\" d=\"M 0 0 M1415.29 32.4315 Q1409.29 32.4315 1405.81 37.1306 Q1402.33 41.7891 1402.33 49.9314 Q1402.33 58.0738 1405.77 62.7728 Q1409.25 67.4314 1415.29 67.4314 Q1421.24 67.4314 1424.73 62.7323 Q1428.21 58.0333 1428.21 49.9314 Q1428.21 41.8701 1424.73 37.1711 Q1421.24 32.4315 1415.29 32.4315 M1415.29 26.1121 Q1425.01 26.1121 1430.56 32.4315 Q1436.11 38.7509 1436.11 49.9314 Q1436.11 61.0714 1430.56 67.4314 Q1425.01 73.7508 1415.29 73.7508 Q1405.53 73.7508 1399.98 67.4314 Q1394.47 61.0714 1394.47 49.9314 Q1394.47 38.7509 1399.98 32.4315 Q1405.53 26.1121 1415.29 26.1121 Z\" fill=\"#000000\" fill-rule=\"evenodd\" fill-opacity=\"1\" /><path clip-path=\"url(#clip650)\" d=\"M 0 0 M1466.9 9.54393 L1466.9 15.7418 L1459.77 15.7418 Q1455.76 15.7418 1454.18 17.3622 Q1452.64 18.9825 1452.64 23.1955 L1452.64 27.2059 L1464.91 27.2059 L1464.91 32.9987 L1452.64 32.9987 L1452.64 72.576 L1445.14 72.576 L1445.14 32.9987 L1438.01 32.9987 L1438.01 27.2059 L1445.14 27.2059 L1445.14 24.0462 Q1445.14 16.471 1448.67 13.0277 Q1452.19 9.54393 1459.85 9.54393 L1466.9 9.54393 Z\" fill=\"#000000\" fill-rule=\"evenodd\" fill-opacity=\"1\" /><path clip-path=\"url(#clip650)\" d=\"M 0 0 M1497.68 9.54393 L1497.68 15.7418 L1490.55 15.7418 Q1486.54 15.7418 1484.96 17.3622 Q1483.43 18.9825 1483.43 23.1955 L1483.43 27.2059 L1495.7 27.2059 L1495.7 32.9987 L1483.43 32.9987 L1483.43 72.576 L1475.93 72.576 L1475.93 32.9987 L1468.8 32.9987 L1468.8 27.2059 L1475.93 27.2059 L1475.93 24.0462 Q1475.93 16.471 1479.46 13.0277 Q1482.98 9.54393 1490.64 9.54393 L1497.68 9.54393 Z\" fill=\"#000000\" fill-rule=\"evenodd\" fill-opacity=\"1\" /><path clip-path=\"url(#clip650)\" d=\"M 0 0 M1564.52 28.9478 L1564.52 35.9153 Q1561.36 34.1734 1558.16 33.3227 Q1555 32.4315 1551.76 32.4315 Q1544.51 32.4315 1540.5 37.0496 Q1536.49 41.6271 1536.49 49.9314 Q1536.49 58.2358 1540.5 62.8538 Q1544.51 67.4314 1551.76 67.4314 Q1555 67.4314 1558.16 66.5807 Q1561.36 65.6895 1564.52 63.9476 L1564.52 70.8341 Q1561.41 72.2924 1558.04 73.0216 Q1554.72 73.7508 1550.95 73.7508 Q1540.7 73.7508 1534.67 67.3098 Q1528.63 60.8689 1528.63 49.9314 Q1528.63 38.832 1534.71 32.472 Q1540.83 26.1121 1551.44 26.1121 Q1554.88 26.1121 1558.16 26.8413 Q1561.45 27.5299 1564.52 28.9478 Z\" fill=\"#000000\" fill-rule=\"evenodd\" fill-opacity=\"1\" /><path clip-path=\"url(#clip650)\" d=\"M 0 0 M1571.57 54.671 L1571.57 27.2059 L1579.03 27.2059 L1579.03 54.3874 Q1579.03 60.8284 1581.54 64.0691 Q1584.05 67.2693 1589.07 67.2693 Q1595.11 67.2693 1598.59 63.421 Q1602.12 59.5726 1602.12 52.9291 L1602.12 27.2059 L1609.57 27.2059 L1609.57 72.576 L1602.12 72.576 L1602.12 65.6084 Q1599.4 69.7404 1595.8 71.7658 Q1592.23 73.7508 1587.49 73.7508 Q1579.67 73.7508 1575.62 68.8897 Q1571.57 64.0286 1571.57 54.671 M1590.33 26.1121 L1590.33 26.1121 Z\" fill=\"#000000\" fill-rule=\"evenodd\" fill-opacity=\"1\" /><path clip-path=\"url(#clip650)\" d=\"M 0 0 M1643.68 34.1734 Q1642.42 33.4443 1640.92 33.1202 Q1639.47 32.7556 1637.68 32.7556 Q1631.36 32.7556 1627.96 36.8875 Q1624.6 40.9789 1624.6 48.6757 L1624.6 72.576 L1617.11 72.576 L1617.11 27.2059 L1624.6 27.2059 L1624.6 34.2544 Q1626.95 30.1225 1630.72 28.1376 Q1634.48 26.1121 1639.87 26.1121 Q1640.64 26.1121 1641.57 26.2337 Q1642.5 26.3147 1643.64 26.5172 L1643.68 34.1734 Z\" fill=\"#000000\" fill-rule=\"evenodd\" fill-opacity=\"1\" /><path clip-path=\"url(#clip650)\" d=\"M 0 0 M1646.15 27.2059 L1654.05 27.2059 L1668.23 65.2844 L1682.41 27.2059 L1690.3 27.2059 L1673.29 72.576 L1663.16 72.576 L1646.15 27.2059 Z\" fill=\"#000000\" fill-rule=\"evenodd\" fill-opacity=\"1\" /><path clip-path=\"url(#clip650)\" d=\"M 0 0 M1736.93 48.0275 L1736.93 51.6733 L1702.66 51.6733 Q1703.15 59.3701 1707.28 63.421 Q1711.45 67.4314 1718.86 67.4314 Q1723.16 67.4314 1727.17 66.3781 Q1731.22 65.3249 1735.19 63.2184 L1735.19 70.267 Q1731.18 71.9684 1726.97 72.8596 Q1722.75 73.7508 1718.42 73.7508 Q1707.56 73.7508 1701.2 67.4314 Q1694.88 61.1119 1694.88 50.3365 Q1694.88 39.1965 1700.88 32.6746 Q1706.91 26.1121 1717.12 26.1121 Q1726.28 26.1121 1731.58 32.0264 Q1736.93 37.9003 1736.93 48.0275 M1729.48 45.84 Q1729.4 39.7232 1726.03 36.0774 Q1722.71 32.4315 1717.2 32.4315 Q1710.96 32.4315 1707.2 35.9558 Q1703.47 39.4801 1702.9 45.8805 L1729.48 45.84 Z\" fill=\"#000000\" fill-rule=\"evenodd\" fill-opacity=\"1\" /><path clip-path=\"url(#clip650)\" d=\"M 0 0 M1032.86 1514.67 L1039.29 1514.67 L1039.29 1558.88 Q1039.29 1567.47 1036.01 1571.35 Q1032.76 1575.24 1025.54 1575.24 L1023.09 1575.24 L1023.09 1569.82 L1025.09 1569.82 Q1029.36 1569.82 1031.11 1567.44 Q1032.86 1565.05 1032.86 1558.88 L1032.86 1514.67 Z\" fill=\"#000000\" fill-rule=\"evenodd\" fill-opacity=\"1\" /><path clip-path=\"url(#clip650)\" d=\"M 0 0 M1051.8 1556.77 L1074.24 1556.77 L1074.24 1562.19 L1044.06 1562.19 L1044.06 1556.77 Q1047.72 1552.99 1054.03 1546.62 Q1060.36 1540.22 1061.98 1538.38 Q1065.07 1534.91 1066.28 1532.52 Q1067.52 1530.1 1067.52 1527.78 Q1067.52 1523.99 1064.85 1521.6 Q1062.2 1519.22 1057.94 1519.22 Q1054.92 1519.22 1051.54 1520.27 Q1048.2 1521.32 1044.38 1523.45 L1044.38 1516.96 Q1048.26 1515.4 1051.64 1514.6 Q1055.01 1513.81 1057.81 1513.81 Q1065.2 1513.81 1069.59 1517.5 Q1073.98 1521.19 1073.98 1527.37 Q1073.98 1530.29 1072.87 1532.94 Q1071.79 1535.54 1068.89 1539.11 Q1068.09 1540.03 1063.83 1544.46 Q1059.56 1548.85 1051.8 1556.77 Z\" fill=\"#000000\" fill-rule=\"evenodd\" fill-opacity=\"1\" /><path clip-path=\"url(#clip650)\" d=\"M 0 0 M1101.86 1532.58 L1142.67 1532.58 L1142.67 1537.93 L1101.86 1537.93 L1101.86 1532.58 M1101.86 1545.57 L1142.67 1545.57 L1142.67 1550.98 L1101.86 1550.98 L1101.86 1545.57 Z\" fill=\"#000000\" fill-rule=\"evenodd\" fill-opacity=\"1\" /><path clip-path=\"url(#clip650)\" d=\"M 0 0 M1169.79 1514.67 L1179.37 1514.67 L1191.49 1547 L1203.68 1514.67 L1213.26 1514.67 L1213.26 1562.19 L1206.99 1562.19 L1206.99 1520.46 L1194.74 1553.05 L1188.28 1553.05 L1176.02 1520.46 L1176.02 1562.19 L1169.79 1562.19 L1169.79 1514.67 Z\" fill=\"#000000\" fill-rule=\"evenodd\" fill-opacity=\"1\" /><path clip-path=\"url(#clip650)\" d=\"M 0 0 M1248.15 1516.23 L1248.15 1522.5 Q1244.49 1520.74 1241.24 1519.89 Q1237.99 1519.03 1234.97 1519.03 Q1229.72 1519.03 1226.85 1521.06 Q1224.02 1523.1 1224.02 1526.86 Q1224.02 1530.01 1225.9 1531.63 Q1227.81 1533.22 1233.09 1534.21 L1236.98 1535 Q1244.17 1536.37 1247.57 1539.84 Q1251.01 1543.28 1251.01 1549.07 Q1251.01 1555.98 1246.36 1559.54 Q1241.75 1563.11 1232.81 1563.11 Q1229.43 1563.11 1225.61 1562.34 Q1221.83 1561.58 1217.75 1560.08 L1217.75 1553.46 Q1221.67 1555.66 1225.42 1556.77 Q1229.18 1557.89 1232.81 1557.89 Q1238.31 1557.89 1241.3 1555.72 Q1244.3 1553.56 1244.3 1549.55 Q1244.3 1546.05 1242.13 1544.08 Q1240 1542.1 1235.1 1541.11 L1231.18 1540.35 Q1223.99 1538.92 1220.77 1535.86 Q1217.56 1532.81 1217.56 1527.37 Q1217.56 1521.06 1221.98 1517.43 Q1226.44 1513.81 1234.24 1513.81 Q1237.58 1513.81 1241.05 1514.41 Q1244.52 1515.02 1248.15 1516.23 Z\" fill=\"#000000\" fill-rule=\"evenodd\" fill-opacity=\"1\" /><path clip-path=\"url(#clip650)\" d=\"M 0 0 M1313.71 1518.33 L1313.71 1525.11 Q1310.47 1522.08 1306.78 1520.59 Q1303.12 1519.09 1298.98 1519.09 Q1290.83 1519.09 1286.5 1524.09 Q1282.17 1529.05 1282.17 1538.47 Q1282.17 1547.86 1286.5 1552.86 Q1290.83 1557.82 1298.98 1557.82 Q1303.12 1557.82 1306.78 1556.33 Q1310.47 1554.83 1313.71 1551.81 L1313.71 1558.53 Q1310.34 1560.82 1306.55 1561.96 Q1302.8 1563.11 1298.6 1563.11 Q1287.81 1563.11 1281.6 1556.52 Q1275.39 1549.9 1275.39 1538.47 Q1275.39 1527.01 1281.6 1520.43 Q1287.81 1513.81 1298.6 1513.81 Q1302.86 1513.81 1306.62 1514.95 Q1310.4 1516.07 1313.71 1518.33 Z\" fill=\"#000000\" fill-rule=\"evenodd\" fill-opacity=\"1\" /><path clip-path=\"url(#clip650)\" d=\"M 0 0 M1319.25 1548.12 L1319.25 1526.54 L1325.11 1526.54 L1325.11 1547.89 Q1325.11 1552.96 1327.08 1555.5 Q1329.06 1558.02 1333 1558.02 Q1337.74 1558.02 1340.48 1554.99 Q1343.25 1551.97 1343.25 1546.75 L1343.25 1526.54 L1349.11 1526.54 L1349.11 1562.19 L1343.25 1562.19 L1343.25 1556.71 Q1341.12 1559.96 1338.29 1561.55 Q1335.48 1563.11 1331.76 1563.11 Q1325.62 1563.11 1322.44 1559.29 Q1319.25 1555.47 1319.25 1548.12 M1333.99 1525.68 L1333.99 1525.68 Z\" fill=\"#000000\" fill-rule=\"evenodd\" fill-opacity=\"1\" /><path clip-path=\"url(#clip650)\" d=\"M 0 0 M1375.91 1532.01 Q1374.92 1531.44 1373.74 1531.18 Q1372.6 1530.9 1371.2 1530.9 Q1366.23 1530.9 1363.56 1534.14 Q1360.92 1537.36 1360.92 1543.41 L1360.92 1562.19 L1355.03 1562.19 L1355.03 1526.54 L1360.92 1526.54 L1360.92 1532.08 Q1362.76 1528.83 1365.72 1527.27 Q1368.68 1525.68 1372.92 1525.68 Q1373.52 1525.68 1374.25 1525.77 Q1374.98 1525.84 1375.88 1526 L1375.91 1532.01 Z\" fill=\"#000000\" fill-rule=\"evenodd\" fill-opacity=\"1\" /><path clip-path=\"url(#clip650)\" d=\"M 0 0 M1377.85 1526.54 L1384.06 1526.54 L1395.2 1556.46 L1406.34 1526.54 L1412.54 1526.54 L1399.17 1562.19 L1391.22 1562.19 L1377.85 1526.54 Z\" fill=\"#000000\" fill-rule=\"evenodd\" fill-opacity=\"1\" /><path clip-path=\"url(#clip650)\" d=\"M 0 0 M1434.89 1544.27 Q1427.79 1544.27 1425.05 1545.89 Q1422.31 1547.51 1422.31 1551.43 Q1422.31 1554.55 1424.35 1556.39 Q1426.42 1558.21 1429.95 1558.21 Q1434.82 1558.21 1437.75 1554.77 Q1440.71 1551.3 1440.71 1545.57 L1440.71 1544.27 L1434.89 1544.27 M1446.57 1541.85 L1446.57 1562.19 L1440.71 1562.19 L1440.71 1556.77 Q1438.7 1560.02 1435.71 1561.58 Q1432.72 1563.11 1428.39 1563.11 Q1422.92 1563.11 1419.67 1560.05 Q1416.46 1556.97 1416.46 1551.81 Q1416.46 1545.79 1420.47 1542.74 Q1424.51 1539.68 1432.5 1539.68 L1440.71 1539.68 L1440.71 1539.11 Q1440.71 1535.07 1438.04 1532.87 Q1435.39 1530.64 1430.59 1530.64 Q1427.53 1530.64 1424.64 1531.38 Q1421.74 1532.11 1419.07 1533.57 L1419.07 1528.16 Q1422.28 1526.92 1425.3 1526.31 Q1428.33 1525.68 1431.19 1525.68 Q1438.93 1525.68 1442.75 1529.69 Q1446.57 1533.7 1446.57 1541.85 Z\" fill=\"#000000\" fill-rule=\"evenodd\" fill-opacity=\"1\" /><path clip-path=\"url(#clip650)\" d=\"M 0 0 M1458.5 1516.42 L1458.5 1526.54 L1470.57 1526.54 L1470.57 1531.09 L1458.5 1531.09 L1458.5 1550.44 Q1458.5 1554.8 1459.68 1556.04 Q1460.89 1557.28 1464.55 1557.28 L1470.57 1557.28 L1470.57 1562.19 L1464.55 1562.19 Q1457.77 1562.19 1455.19 1559.67 Q1452.61 1557.12 1452.61 1550.44 L1452.61 1531.09 L1448.32 1531.09 L1448.32 1526.54 L1452.61 1526.54 L1452.61 1516.42 L1458.5 1516.42 Z\" fill=\"#000000\" fill-rule=\"evenodd\" fill-opacity=\"1\" /><path clip-path=\"url(#clip650)\" d=\"M 0 0 M1476.1 1548.12 L1476.1 1526.54 L1481.96 1526.54 L1481.96 1547.89 Q1481.96 1552.96 1483.93 1555.5 Q1485.91 1558.02 1489.85 1558.02 Q1494.6 1558.02 1497.33 1554.99 Q1500.1 1551.97 1500.1 1546.75 L1500.1 1526.54 L1505.96 1526.54 L1505.96 1562.19 L1500.1 1562.19 L1500.1 1556.71 Q1497.97 1559.96 1495.14 1561.55 Q1492.34 1563.11 1488.61 1563.11 Q1482.47 1563.11 1479.29 1559.29 Q1476.1 1555.47 1476.1 1548.12 M1490.84 1525.68 L1490.84 1525.68 Z\" fill=\"#000000\" fill-rule=\"evenodd\" fill-opacity=\"1\" /><path clip-path=\"url(#clip650)\" d=\"M 0 0 M1532.76 1532.01 Q1531.77 1531.44 1530.59 1531.18 Q1529.45 1530.9 1528.05 1530.9 Q1523.08 1530.9 1520.41 1534.14 Q1517.77 1537.36 1517.77 1543.41 L1517.77 1562.19 L1511.88 1562.19 L1511.88 1526.54 L1517.77 1526.54 L1517.77 1532.08 Q1519.61 1528.83 1522.57 1527.27 Q1525.53 1525.68 1529.77 1525.68 Q1530.37 1525.68 1531.1 1525.77 Q1531.83 1525.84 1532.73 1526 L1532.76 1532.01 Z\" fill=\"#000000\" fill-rule=\"evenodd\" fill-opacity=\"1\" /><path clip-path=\"url(#clip650)\" d=\"M 0 0 M1567.96 1542.9 L1567.96 1545.76 L1541.03 1545.76 Q1541.42 1551.81 1544.66 1554.99 Q1547.94 1558.14 1553.76 1558.14 Q1557.14 1558.14 1560.29 1557.32 Q1563.47 1556.49 1566.59 1554.83 L1566.59 1560.37 Q1563.44 1561.71 1560.13 1562.41 Q1556.82 1563.11 1553.41 1563.11 Q1544.88 1563.11 1539.89 1558.14 Q1534.92 1553.18 1534.92 1544.71 Q1534.92 1535.96 1539.63 1530.83 Q1544.38 1525.68 1552.4 1525.68 Q1559.59 1525.68 1563.76 1530.33 Q1567.96 1534.94 1567.96 1542.9 M1562.1 1541.18 Q1562.04 1536.37 1559.4 1533.51 Q1556.79 1530.64 1552.46 1530.64 Q1547.56 1530.64 1544.6 1533.41 Q1541.67 1536.18 1541.22 1541.21 L1562.1 1541.18 Z\" fill=\"#000000\" fill-rule=\"evenodd\" fill-opacity=\"1\" /><path clip-path=\"url(#clip650)\" d=\"M 0 0 M40.4842 1018.85 L40.4842 1012.42 L84.694 1012.42 Q93.2877 1012.42 97.1708 1015.7 Q101.054 1018.95 101.054 1026.17 L101.054 1028.62 L95.643 1028.62 L95.643 1026.62 Q95.643 1022.35 93.2559 1020.6 Q90.8687 1018.85 84.694 1018.85 L40.4842 1018.85 Z\" fill=\"#000000\" fill-rule=\"evenodd\" fill-opacity=\"1\" /><path clip-path=\"url(#clip650)\" d=\"M 0 0 M82.5933 1004.34 L82.5933 993.835 L46.3406 993.835 L48.6323 1005.26 L42.7758 1005.26 L40.4842 993.899 L40.4842 987.47 L82.5933 987.47 L82.5933 976.966 L88.0042 976.966 L88.0042 1004.34 L82.5933 1004.34 Z\" fill=\"#000000\" fill-rule=\"evenodd\" fill-opacity=\"1\" /><path clip-path=\"url(#clip650)\" d=\"M 0 0 M58.4036 949.339 L58.4036 908.535 L63.7508 908.535 L63.7508 949.339 L58.4036 949.339 M71.3897 949.339 L71.3897 908.535 L76.8005 908.535 L76.8005 949.339 L71.3897 949.339 Z\" fill=\"#000000\" fill-rule=\"evenodd\" fill-opacity=\"1\" /><path clip-path=\"url(#clip650)\" d=\"M 0 0 M40.4842 881.417 L40.4842 871.837 L72.8219 859.71 L40.4842 847.52 L40.4842 837.939 L88.0042 837.939 L88.0042 844.209 L46.277 844.209 L78.8694 856.463 L78.8694 862.925 L46.277 875.179 L88.0042 875.179 L88.0042 881.417 L40.4842 881.417 Z\" fill=\"#000000\" fill-rule=\"evenodd\" fill-opacity=\"1\" /><path clip-path=\"url(#clip650)\" d=\"M 0 0 M42.0438 803.055 L48.314 803.055 Q46.5634 806.715 45.704 809.962 Q44.8447 813.208 44.8447 816.232 Q44.8447 821.484 46.8817 824.348 Q48.9187 827.181 52.6745 827.181 Q55.8255 827.181 57.4488 825.303 Q59.0402 823.394 60.0269 818.11 L60.8226 814.227 Q62.1912 807.034 65.6605 803.628 Q69.098 800.191 74.8908 800.191 Q81.7976 800.191 85.3624 804.838 Q88.9272 809.453 88.9272 818.396 Q88.9272 821.77 88.1633 825.59 Q87.3994 829.377 85.9035 833.451 L79.2831 833.451 Q81.4793 829.536 82.5933 825.781 Q83.7073 822.025 83.7073 818.396 Q83.7073 812.89 81.543 809.898 Q79.3786 806.906 75.3682 806.906 Q71.8671 806.906 69.8937 809.071 Q67.9204 811.203 66.9337 816.105 L66.1698 820.02 Q64.7375 827.213 61.682 830.428 Q58.6264 833.642 53.1837 833.642 Q46.8817 833.642 43.2532 829.218 Q39.6248 824.762 39.6248 816.964 Q39.6248 813.622 40.2295 810.153 Q40.8343 806.684 42.0438 803.055 Z\" fill=\"#000000\" fill-rule=\"evenodd\" fill-opacity=\"1\" /><path clip-path=\"url(#clip650)\" d=\"M 0 0 M45.7677 766.643 L82.7206 766.643 L82.7206 758.877 Q82.7206 749.042 78.2646 744.491 Q73.8086 739.907 64.1964 739.907 Q54.6479 739.907 50.2237 744.491 Q45.7677 749.042 45.7677 758.877 L45.7677 766.643 M40.4842 773.073 L40.4842 759.864 Q40.4842 746.05 46.2451 739.589 Q51.9743 733.128 64.1964 733.128 Q76.4822 733.128 82.2432 739.621 Q88.0042 746.114 88.0042 759.864 L88.0042 773.073 L40.4842 773.073 Z\" fill=\"#000000\" fill-rule=\"evenodd\" fill-opacity=\"1\" /><path clip-path=\"url(#clip650)\" d=\"M 0 0 M68.7161 696.493 L71.5806 696.493 L71.5806 723.42 Q77.6281 723.038 80.8109 719.792 Q83.9619 716.513 83.9619 710.689 Q83.9619 707.315 83.1344 704.164 Q82.3069 700.981 80.6518 697.862 L86.1899 697.862 Q87.5267 701.013 88.227 704.323 Q88.9272 707.633 88.9272 711.039 Q88.9272 719.569 83.9619 724.566 Q78.9967 729.531 70.5303 729.531 Q61.7774 729.531 56.6531 724.821 Q51.4968 720.078 51.4968 712.057 Q51.4968 704.864 56.1438 700.695 Q60.7589 696.493 68.7161 696.493 M66.9973 702.35 Q62.1912 702.413 59.3266 705.055 Q56.4621 707.665 56.4621 711.994 Q56.4621 716.895 59.2312 719.855 Q62.0002 722.784 67.0292 723.229 L66.9973 702.35 Z\" fill=\"#000000\" fill-rule=\"evenodd\" fill-opacity=\"1\" /><path clip-path=\"url(#clip650)\" d=\"M 0 0 M52.3562 694.552 L52.3562 688.345 L82.275 677.205 L52.3562 666.065 L52.3562 659.859 L88.0042 673.227 L88.0042 681.184 L52.3562 694.552 Z\" fill=\"#000000\" fill-rule=\"evenodd\" fill-opacity=\"1\" /><path clip-path=\"url(#clip650)\" d=\"M 0 0 M52.3562 653.716 L52.3562 647.859 L88.0042 647.859 L88.0042 653.716 L52.3562 653.716 M38.479 653.716 L38.479 647.859 L45.895 647.859 L45.895 653.716 L38.479 653.716 Z\" fill=\"#000000\" fill-rule=\"evenodd\" fill-opacity=\"1\" /><path clip-path=\"url(#clip650)\" d=\"M 0 0 M70.0847 625.516 Q70.0847 632.613 71.7079 635.351 Q73.3312 638.088 77.2461 638.088 Q80.3653 638.088 82.2114 636.051 Q84.0256 633.982 84.0256 630.449 Q84.0256 625.579 80.5881 622.651 Q77.1188 619.691 71.3897 619.691 L70.0847 619.691 L70.0847 625.516 M67.6657 613.835 L88.0042 613.835 L88.0042 619.691 L82.5933 619.691 Q85.8398 621.696 87.3994 624.688 Q88.9272 627.68 88.9272 632.009 Q88.9272 637.483 85.8716 640.73 Q82.7843 643.944 77.6281 643.944 Q71.6125 643.944 68.5569 639.934 Q65.5014 635.892 65.5014 627.903 L65.5014 619.691 L64.9285 619.691 Q60.8862 619.691 58.6901 622.365 Q56.4621 625.006 56.4621 629.812 Q56.4621 632.868 57.1941 635.764 Q57.9262 638.661 59.3903 641.334 L53.9795 641.334 Q52.7381 638.12 52.1334 635.096 Q51.4968 632.072 51.4968 629.208 Q51.4968 621.473 55.5072 617.654 Q59.5176 613.835 67.6657 613.835 Z\" fill=\"#000000\" fill-rule=\"evenodd\" fill-opacity=\"1\" /><path clip-path=\"url(#clip650)\" d=\"M 0 0 M42.2347 601.899 L52.3562 601.899 L52.3562 589.836 L56.9077 589.836 L56.9077 601.899 L76.2594 601.899 Q80.6199 601.899 81.8613 600.721 Q83.1026 599.512 83.1026 595.851 L83.1026 589.836 L88.0042 589.836 L88.0042 595.851 Q88.0042 602.631 85.4897 605.209 Q82.9434 607.787 76.2594 607.787 L56.9077 607.787 L56.9077 612.084 L52.3562 612.084 L52.3562 607.787 L42.2347 607.787 L42.2347 601.899 Z\" fill=\"#000000\" fill-rule=\"evenodd\" fill-opacity=\"1\" /><path clip-path=\"url(#clip650)\" d=\"M 0 0 M52.3562 583.693 L52.3562 577.836 L88.0042 577.836 L88.0042 583.693 L52.3562 583.693 M38.479 583.693 L38.479 577.836 L45.895 577.836 L45.895 583.693 L38.479 583.693 Z\" fill=\"#000000\" fill-rule=\"evenodd\" fill-opacity=\"1\" /><path clip-path=\"url(#clip650)\" d=\"M 0 0 M56.4621 557.88 Q56.4621 562.591 60.1542 565.328 Q63.8145 568.065 70.212 568.065 Q76.6095 568.065 80.3017 565.36 Q83.9619 562.622 83.9619 557.88 Q83.9619 553.201 80.2698 550.464 Q76.5777 547.727 70.212 547.727 Q63.8781 547.727 60.186 550.464 Q56.4621 553.201 56.4621 557.88 M51.4968 557.88 Q51.4968 550.241 56.4621 545.881 Q61.4273 541.52 70.212 541.52 Q78.9649 541.52 83.9619 545.881 Q88.9272 550.241 88.9272 557.88 Q88.9272 565.551 83.9619 569.911 Q78.9649 574.24 70.212 574.24 Q61.4273 574.24 56.4621 569.911 Q51.4968 565.551 51.4968 557.88 Z\" fill=\"#000000\" fill-rule=\"evenodd\" fill-opacity=\"1\" /><path clip-path=\"url(#clip650)\" d=\"M 0 0 M66.4881 505.745 L88.0042 505.745 L88.0042 511.601 L66.679 511.601 Q61.6183 511.601 59.1038 513.575 Q56.5894 515.548 56.5894 519.495 Q56.5894 524.237 59.6131 526.974 Q62.6368 529.712 67.8567 529.712 L88.0042 529.712 L88.0042 535.6 L52.3562 535.6 L52.3562 529.712 L57.8944 529.712 Q54.6797 527.611 53.0883 524.778 Q51.4968 521.914 51.4968 518.19 Q51.4968 512.047 55.3163 508.896 Q59.1038 505.745 66.4881 505.745 Z\" fill=\"#000000\" fill-rule=\"evenodd\" fill-opacity=\"1\" /><polyline clip-path=\"url(#clip652)\" style=\"stroke:#009af9; stroke-width:4; stroke-opacity:1; fill:none\" points=\"\n",
       "  2292.91,1374.46 2292.91,1374.46 2292.91,1374.46 2292.9,1374.46 2292.87,1374.46 2292.73,1374.44 2292.15,1374.39 2289.79,1374.18 2280.19,1373.3 2242.03,1369.81 \n",
       "  2102.58,1356.98 1714.58,1320.41 1116.78,1260.04 666.705,1206.85 469.325,1175.16 407.729,1155.98 377.238,1129.55 348.689,1070.51 327.065,986.806 312.961,889.136 \n",
       "  304.431,798.384 300.321,737.76 298.747,710.163 298.291,701.676 298.174,699.466 298.145,698.917 298.138,698.783 298.136,698.75 298.136,698.742 298.135,698.74 \n",
       "  298.135,698.74 298.135,698.739 298.135,698.739 298.135,698.739 298.135,698.729 298.135,698.706 298.135,697.517 298.135,688.861 298.135,658.518 298.135,306.53 \n",
       "  298.135,263.673 298.135,218.658 298.135,165.13 298.135,161.255 298.135,160.223 298.135,159.971 298.135,159.909 298.135,159.913 298.135,159.92 298.135,159.918 \n",
       "  \n",
       "  \"/>\n",
       "</svg>\n"
      ]
     },
     "execution_count": 48,
     "metadata": {},
     "output_type": "execute_result"
    }
   ],
   "source": [
    "plot(J2, J1, legend=false)\n",
    "xlabel!(\"J2 = MS Curvature\")\n",
    "ylabel!(\"J1 = MS Deviation\")\n",
    "title!(\"Optimal trade-off curve\")"
   ]
  },
  {
   "cell_type": "markdown",
   "metadata": {},
   "source": [
    "We can understand the critical points from the analytical work done on special values of $\\mu$. When $J1=0$ we are in the case $\\mu=0$ since there is no penalty on curvature and g is free to interpolate the points of f. Below is the value of J2 when J1=0"
   ]
  },
  {
   "cell_type": "code",
   "execution_count": 53,
   "metadata": {},
   "outputs": [
    {
     "data": {
      "text/plain": [
       "521846.43415172066"
      ]
     },
     "execution_count": 53,
     "metadata": {},
     "output_type": "execute_result"
    }
   ],
   "source": [
    "tradeoff(0)[2]"
   ]
  },
  {
   "cell_type": "markdown",
   "metadata": {},
   "source": [
    "When J2 = 0 we are in the case of $\\mu = \\infty$ since that forces the curvature to zero. Then J1 is just the MSE of the linear model. That number is calculated below."
   ]
  },
  {
   "cell_type": "code",
   "execution_count": 55,
   "metadata": {},
   "outputs": [
    {
     "data": {
      "text/plain": [
       "0.08100479571088001"
      ]
     },
     "execution_count": 55,
     "metadata": {},
     "output_type": "execute_result"
    }
   ],
   "source": [
    "tradeoff(Inf)[1]"
   ]
  },
  {
   "cell_type": "code",
   "execution_count": 43,
   "metadata": {
    "scrolled": false
   },
   "outputs": [
    {
     "data": {
      "image/svg+xml": [
       "<?xml version=\"1.0\" encoding=\"utf-8\"?>\n",
       "<svg xmlns=\"http://www.w3.org/2000/svg\" xmlns:xlink=\"http://www.w3.org/1999/xlink\" width=\"600\" height=\"400\" viewBox=\"0 0 2400 1600\">\n",
       "<defs>\n",
       "  <clipPath id=\"clip450\">\n",
       "    <rect x=\"0\" y=\"0\" width=\"2400\" height=\"1600\"/>\n",
       "  </clipPath>\n",
       "</defs>\n",
       "<path clip-path=\"url(#clip450)\" d=\"\n",
       "M0 1600 L2400 1600 L2400 0 L0 0  Z\n",
       "  \" fill=\"#ffffff\" fill-rule=\"evenodd\" fill-opacity=\"1\"/>\n",
       "<defs>\n",
       "  <clipPath id=\"clip451\">\n",
       "    <rect x=\"480\" y=\"0\" width=\"1681\" height=\"1600\"/>\n",
       "  </clipPath>\n",
       "</defs>\n",
       "<path clip-path=\"url(#clip450)\" d=\"\n",
       "M206.302 1423.18 L2352.76 1423.18 L2352.76 123.472 L206.302 123.472  Z\n",
       "  \" fill=\"#ffffff\" fill-rule=\"evenodd\" fill-opacity=\"1\"/>\n",
       "<defs>\n",
       "  <clipPath id=\"clip452\">\n",
       "    <rect x=\"206\" y=\"123\" width=\"2147\" height=\"1301\"/>\n",
       "  </clipPath>\n",
       "</defs>\n",
       "<polyline clip-path=\"url(#clip452)\" style=\"stroke:#000000; stroke-width:2; stroke-opacity:0.1; fill:none\" points=\"\n",
       "  226.551,1423.18 226.551,123.472 \n",
       "  \"/>\n",
       "<polyline clip-path=\"url(#clip452)\" style=\"stroke:#000000; stroke-width:2; stroke-opacity:0.1; fill:none\" points=\"\n",
       "  631.542,1423.18 631.542,123.472 \n",
       "  \"/>\n",
       "<polyline clip-path=\"url(#clip452)\" style=\"stroke:#000000; stroke-width:2; stroke-opacity:0.1; fill:none\" points=\"\n",
       "  1036.53,1423.18 1036.53,123.472 \n",
       "  \"/>\n",
       "<polyline clip-path=\"url(#clip452)\" style=\"stroke:#000000; stroke-width:2; stroke-opacity:0.1; fill:none\" points=\"\n",
       "  1441.53,1423.18 1441.53,123.472 \n",
       "  \"/>\n",
       "<polyline clip-path=\"url(#clip452)\" style=\"stroke:#000000; stroke-width:2; stroke-opacity:0.1; fill:none\" points=\"\n",
       "  1846.52,1423.18 1846.52,123.472 \n",
       "  \"/>\n",
       "<polyline clip-path=\"url(#clip452)\" style=\"stroke:#000000; stroke-width:2; stroke-opacity:0.1; fill:none\" points=\"\n",
       "  2251.51,1423.18 2251.51,123.472 \n",
       "  \"/>\n",
       "<polyline clip-path=\"url(#clip452)\" style=\"stroke:#000000; stroke-width:2; stroke-opacity:0.1; fill:none\" points=\"\n",
       "  206.302,1397.49 2352.76,1397.49 \n",
       "  \"/>\n",
       "<polyline clip-path=\"url(#clip452)\" style=\"stroke:#000000; stroke-width:2; stroke-opacity:0.1; fill:none\" points=\"\n",
       "  206.302,1136.19 2352.76,1136.19 \n",
       "  \"/>\n",
       "<polyline clip-path=\"url(#clip452)\" style=\"stroke:#000000; stroke-width:2; stroke-opacity:0.1; fill:none\" points=\"\n",
       "  206.302,874.896 2352.76,874.896 \n",
       "  \"/>\n",
       "<polyline clip-path=\"url(#clip452)\" style=\"stroke:#000000; stroke-width:2; stroke-opacity:0.1; fill:none\" points=\"\n",
       "  206.302,613.601 2352.76,613.601 \n",
       "  \"/>\n",
       "<polyline clip-path=\"url(#clip452)\" style=\"stroke:#000000; stroke-width:2; stroke-opacity:0.1; fill:none\" points=\"\n",
       "  206.302,352.306 2352.76,352.306 \n",
       "  \"/>\n",
       "<polyline clip-path=\"url(#clip450)\" style=\"stroke:#000000; stroke-width:4; stroke-opacity:1; fill:none\" points=\"\n",
       "  206.302,1423.18 2352.76,1423.18 \n",
       "  \"/>\n",
       "<polyline clip-path=\"url(#clip450)\" style=\"stroke:#000000; stroke-width:4; stroke-opacity:1; fill:none\" points=\"\n",
       "  206.302,1423.18 206.302,123.472 \n",
       "  \"/>\n",
       "<polyline clip-path=\"url(#clip450)\" style=\"stroke:#000000; stroke-width:4; stroke-opacity:1; fill:none\" points=\"\n",
       "  226.551,1423.18 226.551,1407.58 \n",
       "  \"/>\n",
       "<polyline clip-path=\"url(#clip450)\" style=\"stroke:#000000; stroke-width:4; stroke-opacity:1; fill:none\" points=\"\n",
       "  631.542,1423.18 631.542,1407.58 \n",
       "  \"/>\n",
       "<polyline clip-path=\"url(#clip450)\" style=\"stroke:#000000; stroke-width:4; stroke-opacity:1; fill:none\" points=\"\n",
       "  1036.53,1423.18 1036.53,1407.58 \n",
       "  \"/>\n",
       "<polyline clip-path=\"url(#clip450)\" style=\"stroke:#000000; stroke-width:4; stroke-opacity:1; fill:none\" points=\"\n",
       "  1441.53,1423.18 1441.53,1407.58 \n",
       "  \"/>\n",
       "<polyline clip-path=\"url(#clip450)\" style=\"stroke:#000000; stroke-width:4; stroke-opacity:1; fill:none\" points=\"\n",
       "  1846.52,1423.18 1846.52,1407.58 \n",
       "  \"/>\n",
       "<polyline clip-path=\"url(#clip450)\" style=\"stroke:#000000; stroke-width:4; stroke-opacity:1; fill:none\" points=\"\n",
       "  2251.51,1423.18 2251.51,1407.58 \n",
       "  \"/>\n",
       "<polyline clip-path=\"url(#clip450)\" style=\"stroke:#000000; stroke-width:4; stroke-opacity:1; fill:none\" points=\"\n",
       "  206.302,1397.49 232.059,1397.49 \n",
       "  \"/>\n",
       "<polyline clip-path=\"url(#clip450)\" style=\"stroke:#000000; stroke-width:4; stroke-opacity:1; fill:none\" points=\"\n",
       "  206.302,1136.19 232.059,1136.19 \n",
       "  \"/>\n",
       "<polyline clip-path=\"url(#clip450)\" style=\"stroke:#000000; stroke-width:4; stroke-opacity:1; fill:none\" points=\"\n",
       "  206.302,874.896 232.059,874.896 \n",
       "  \"/>\n",
       "<polyline clip-path=\"url(#clip450)\" style=\"stroke:#000000; stroke-width:4; stroke-opacity:1; fill:none\" points=\"\n",
       "  206.302,613.601 232.059,613.601 \n",
       "  \"/>\n",
       "<polyline clip-path=\"url(#clip450)\" style=\"stroke:#000000; stroke-width:4; stroke-opacity:1; fill:none\" points=\"\n",
       "  206.302,352.306 232.059,352.306 \n",
       "  \"/>\n",
       "<path clip-path=\"url(#clip450)\" d=\"M 0 0 M226.551 1445.17 Q222.94 1445.17 221.111 1448.74 Q219.306 1452.28 219.306 1459.41 Q219.306 1466.51 221.111 1470.08 Q222.94 1473.62 226.551 1473.62 Q230.185 1473.62 231.991 1470.08 Q233.82 1466.51 233.82 1459.41 Q233.82 1452.28 231.991 1448.74 Q230.185 1445.17 226.551 1445.17 M226.551 1441.47 Q232.361 1441.47 235.417 1446.07 Q238.495 1450.66 238.495 1459.41 Q238.495 1468.13 235.417 1472.74 Q232.361 1477.32 226.551 1477.32 Q220.741 1477.32 217.662 1472.74 Q214.607 1468.13 214.607 1459.41 Q214.607 1450.66 217.662 1446.07 Q220.741 1441.47 226.551 1441.47 Z\" fill=\"#000000\" fill-rule=\"evenodd\" fill-opacity=\"1\" /><path clip-path=\"url(#clip450)\" d=\"M 0 0 M608.418 1472.72 L616.056 1472.72 L616.056 1446.35 L607.746 1448.02 L607.746 1443.76 L616.01 1442.09 L620.686 1442.09 L620.686 1472.72 L628.325 1472.72 L628.325 1476.65 L608.418 1476.65 L608.418 1472.72 Z\" fill=\"#000000\" fill-rule=\"evenodd\" fill-opacity=\"1\" /><path clip-path=\"url(#clip450)\" d=\"M 0 0 M643.394 1445.17 Q639.783 1445.17 637.954 1448.74 Q636.149 1452.28 636.149 1459.41 Q636.149 1466.51 637.954 1470.08 Q639.783 1473.62 643.394 1473.62 Q647.029 1473.62 648.834 1470.08 Q650.663 1466.51 650.663 1459.41 Q650.663 1452.28 648.834 1448.74 Q647.029 1445.17 643.394 1445.17 M643.394 1441.47 Q649.204 1441.47 652.26 1446.07 Q655.339 1450.66 655.339 1459.41 Q655.339 1468.13 652.26 1472.74 Q649.204 1477.32 643.394 1477.32 Q637.584 1477.32 634.505 1472.74 Q631.45 1468.13 631.45 1459.41 Q631.45 1450.66 634.505 1446.07 Q637.584 1441.47 643.394 1441.47 Z\" fill=\"#000000\" fill-rule=\"evenodd\" fill-opacity=\"1\" /><path clip-path=\"url(#clip450)\" d=\"M 0 0 M1017.68 1472.72 L1034 1472.72 L1034 1476.65 L1012.05 1476.65 L1012.05 1472.72 Q1014.72 1469.96 1019.3 1465.33 Q1023.91 1460.68 1025.09 1459.34 Q1027.33 1456.81 1028.21 1455.08 Q1029.11 1453.32 1029.11 1451.63 Q1029.11 1448.87 1027.17 1447.14 Q1025.25 1445.4 1022.15 1445.4 Q1019.95 1445.4 1017.49 1446.17 Q1015.06 1446.93 1012.29 1448.48 L1012.29 1443.76 Q1015.11 1442.62 1017.56 1442.05 Q1020.02 1441.47 1022.05 1441.47 Q1027.43 1441.47 1030.62 1444.15 Q1033.81 1446.84 1033.81 1451.33 Q1033.81 1453.46 1033 1455.38 Q1032.22 1457.28 1030.11 1459.87 Q1029.53 1460.54 1026.43 1463.76 Q1023.33 1466.95 1017.68 1472.72 Z\" fill=\"#000000\" fill-rule=\"evenodd\" fill-opacity=\"1\" /><path clip-path=\"url(#clip450)\" d=\"M 0 0 M1049.07 1445.17 Q1045.46 1445.17 1043.63 1448.74 Q1041.82 1452.28 1041.82 1459.41 Q1041.82 1466.51 1043.63 1470.08 Q1045.46 1473.62 1049.07 1473.62 Q1052.7 1473.62 1054.51 1470.08 Q1056.34 1466.51 1056.34 1459.41 Q1056.34 1452.28 1054.51 1448.74 Q1052.7 1445.17 1049.07 1445.17 M1049.07 1441.47 Q1054.88 1441.47 1057.93 1446.07 Q1061.01 1450.66 1061.01 1459.41 Q1061.01 1468.13 1057.93 1472.74 Q1054.88 1477.32 1049.07 1477.32 Q1043.26 1477.32 1040.18 1472.74 Q1037.12 1468.13 1037.12 1459.41 Q1037.12 1450.66 1040.18 1446.07 Q1043.26 1441.47 1049.07 1441.47 Z\" fill=\"#000000\" fill-rule=\"evenodd\" fill-opacity=\"1\" /><path clip-path=\"url(#clip450)\" d=\"M 0 0 M1432.27 1458.02 Q1435.62 1458.74 1437.5 1461 Q1439.4 1463.27 1439.4 1466.61 Q1439.4 1471.72 1435.88 1474.52 Q1432.36 1477.32 1425.88 1477.32 Q1423.7 1477.32 1421.39 1476.88 Q1419.09 1476.47 1416.64 1475.61 L1416.64 1471.1 Q1418.59 1472.23 1420.9 1472.81 Q1423.22 1473.39 1425.74 1473.39 Q1430.14 1473.39 1432.43 1471.65 Q1434.74 1469.92 1434.74 1466.61 Q1434.74 1463.55 1432.59 1461.84 Q1430.46 1460.1 1426.64 1460.1 L1422.61 1460.1 L1422.61 1456.26 L1426.83 1456.26 Q1430.28 1456.26 1432.1 1454.89 Q1433.93 1453.5 1433.93 1450.91 Q1433.93 1448.25 1432.03 1446.84 Q1430.16 1445.4 1426.64 1445.4 Q1424.72 1445.4 1422.52 1445.82 Q1420.32 1446.24 1417.68 1447.11 L1417.68 1442.95 Q1420.34 1442.21 1422.66 1441.84 Q1425 1441.47 1427.06 1441.47 Q1432.38 1441.47 1435.48 1443.9 Q1438.59 1446.3 1438.59 1450.43 Q1438.59 1453.3 1436.94 1455.29 Q1435.3 1457.25 1432.27 1458.02 Z\" fill=\"#000000\" fill-rule=\"evenodd\" fill-opacity=\"1\" /><path clip-path=\"url(#clip450)\" d=\"M 0 0 M1454.47 1445.17 Q1450.85 1445.17 1449.03 1448.74 Q1447.22 1452.28 1447.22 1459.41 Q1447.22 1466.51 1449.03 1470.08 Q1450.85 1473.62 1454.47 1473.62 Q1458.1 1473.62 1459.9 1470.08 Q1461.73 1466.51 1461.73 1459.41 Q1461.73 1452.28 1459.9 1448.74 Q1458.1 1445.17 1454.47 1445.17 M1454.47 1441.47 Q1460.28 1441.47 1463.33 1446.07 Q1466.41 1450.66 1466.41 1459.41 Q1466.41 1468.13 1463.33 1472.74 Q1460.28 1477.32 1454.47 1477.32 Q1448.65 1477.32 1445.58 1472.74 Q1442.52 1468.13 1442.52 1459.41 Q1442.52 1450.66 1445.58 1446.07 Q1448.65 1441.47 1454.47 1441.47 Z\" fill=\"#000000\" fill-rule=\"evenodd\" fill-opacity=\"1\" /><path clip-path=\"url(#clip450)\" d=\"M 0 0 M1836.02 1446.17 L1824.21 1464.61 L1836.02 1464.61 L1836.02 1446.17 M1834.79 1442.09 L1840.67 1442.09 L1840.67 1464.61 L1845.6 1464.61 L1845.6 1468.5 L1840.67 1468.5 L1840.67 1476.65 L1836.02 1476.65 L1836.02 1468.5 L1820.42 1468.5 L1820.42 1463.99 L1834.79 1442.09 Z\" fill=\"#000000\" fill-rule=\"evenodd\" fill-opacity=\"1\" /><path clip-path=\"url(#clip450)\" d=\"M 0 0 M1860.67 1445.17 Q1857.06 1445.17 1855.23 1448.74 Q1853.43 1452.28 1853.43 1459.41 Q1853.43 1466.51 1855.23 1470.08 Q1857.06 1473.62 1860.67 1473.62 Q1864.31 1473.62 1866.11 1470.08 Q1867.94 1466.51 1867.94 1459.41 Q1867.94 1452.28 1866.11 1448.74 Q1864.31 1445.17 1860.67 1445.17 M1860.67 1441.47 Q1866.48 1441.47 1869.54 1446.07 Q1872.62 1450.66 1872.62 1459.41 Q1872.62 1468.13 1869.54 1472.74 Q1866.48 1477.32 1860.67 1477.32 Q1854.86 1477.32 1851.78 1472.74 Q1848.73 1468.13 1848.73 1459.41 Q1848.73 1450.66 1851.78 1446.07 Q1854.86 1441.47 1860.67 1441.47 Z\" fill=\"#000000\" fill-rule=\"evenodd\" fill-opacity=\"1\" /><path clip-path=\"url(#clip450)\" d=\"M 0 0 M2228.28 1442.09 L2246.64 1442.09 L2246.64 1446.03 L2232.56 1446.03 L2232.56 1454.5 Q2233.58 1454.15 2234.6 1453.99 Q2235.62 1453.8 2236.64 1453.8 Q2242.42 1453.8 2245.8 1456.98 Q2249.18 1460.15 2249.18 1465.56 Q2249.18 1471.14 2245.71 1474.24 Q2242.24 1477.32 2235.92 1477.32 Q2233.74 1477.32 2231.47 1476.95 Q2229.23 1476.58 2226.82 1475.84 L2226.82 1471.14 Q2228.9 1472.28 2231.13 1472.83 Q2233.35 1473.39 2235.83 1473.39 Q2239.83 1473.39 2242.17 1471.28 Q2244.51 1469.18 2244.51 1465.56 Q2244.51 1461.95 2242.17 1459.85 Q2239.83 1457.74 2235.83 1457.74 Q2233.95 1457.74 2232.08 1458.16 Q2230.22 1458.57 2228.28 1459.45 L2228.28 1442.09 Z\" fill=\"#000000\" fill-rule=\"evenodd\" fill-opacity=\"1\" /><path clip-path=\"url(#clip450)\" d=\"M 0 0 M2264.25 1445.17 Q2260.64 1445.17 2258.81 1448.74 Q2257.01 1452.28 2257.01 1459.41 Q2257.01 1466.51 2258.81 1470.08 Q2260.64 1473.62 2264.25 1473.62 Q2267.89 1473.62 2269.69 1470.08 Q2271.52 1466.51 2271.52 1459.41 Q2271.52 1452.28 2269.69 1448.74 Q2267.89 1445.17 2264.25 1445.17 M2264.25 1441.47 Q2270.06 1441.47 2273.12 1446.07 Q2276.2 1450.66 2276.2 1459.41 Q2276.2 1468.13 2273.12 1472.74 Q2270.06 1477.32 2264.25 1477.32 Q2258.44 1477.32 2255.36 1472.74 Q2252.31 1468.13 2252.31 1459.41 Q2252.31 1450.66 2255.36 1446.07 Q2258.44 1441.47 2264.25 1441.47 Z\" fill=\"#000000\" fill-rule=\"evenodd\" fill-opacity=\"1\" /><path clip-path=\"url(#clip450)\" d=\"M 0 0 M126.26 1397.94 L155.936 1397.94 L155.936 1401.87 L126.26 1401.87 L126.26 1397.94 Z\" fill=\"#000000\" fill-rule=\"evenodd\" fill-opacity=\"1\" /><path clip-path=\"url(#clip450)\" d=\"M 0 0 M175.172 1396.13 Q178.528 1396.85 180.403 1399.12 Q182.302 1401.39 182.302 1404.72 Q182.302 1409.84 178.783 1412.64 Q175.265 1415.44 168.783 1415.44 Q166.607 1415.44 164.292 1415 Q162.001 1414.58 159.547 1413.72 L159.547 1409.21 Q161.491 1410.35 163.806 1410.92 Q166.121 1411.5 168.644 1411.5 Q173.042 1411.5 175.334 1409.77 Q177.649 1408.03 177.649 1404.72 Q177.649 1401.66 175.496 1399.95 Q173.366 1398.22 169.547 1398.22 L165.519 1398.22 L165.519 1394.37 L169.732 1394.37 Q173.181 1394.37 175.01 1393.01 Q176.839 1391.62 176.839 1389.03 Q176.839 1386.36 174.94 1384.95 Q173.065 1383.52 169.547 1383.52 Q167.626 1383.52 165.427 1383.93 Q163.228 1384.35 160.589 1385.23 L160.589 1381.06 Q163.251 1380.32 165.566 1379.95 Q167.903 1379.58 169.964 1379.58 Q175.288 1379.58 178.39 1382.01 Q181.491 1384.42 181.491 1388.54 Q181.491 1391.41 179.848 1393.4 Q178.204 1395.37 175.172 1396.13 Z\" fill=\"#000000\" fill-rule=\"evenodd\" fill-opacity=\"1\" /><path clip-path=\"url(#clip450)\" d=\"M 0 0 M127.209 1136.64 L156.885 1136.64 L156.885 1140.58 L127.209 1140.58 L127.209 1136.64 Z\" fill=\"#000000\" fill-rule=\"evenodd\" fill-opacity=\"1\" /><path clip-path=\"url(#clip450)\" d=\"M 0 0 M165.982 1149.54 L182.302 1149.54 L182.302 1153.47 L160.357 1153.47 L160.357 1149.54 Q163.019 1146.78 167.603 1142.15 Q172.209 1137.5 173.39 1136.16 Q175.635 1133.63 176.515 1131.9 Q177.417 1130.14 177.417 1128.45 Q177.417 1125.69 175.473 1123.96 Q173.552 1122.22 170.45 1122.22 Q168.251 1122.22 165.797 1122.99 Q163.366 1123.75 160.589 1125.3 L160.589 1120.58 Q163.413 1119.44 165.866 1118.86 Q168.32 1118.29 170.357 1118.29 Q175.727 1118.29 178.922 1120.97 Q182.116 1123.66 182.116 1128.15 Q182.116 1130.28 181.306 1132.2 Q180.519 1134.1 178.413 1136.69 Q177.834 1137.36 174.732 1140.58 Q171.63 1143.77 165.982 1149.54 Z\" fill=\"#000000\" fill-rule=\"evenodd\" fill-opacity=\"1\" /><path clip-path=\"url(#clip450)\" d=\"M 0 0 M126.839 875.347 L156.515 875.347 L156.515 879.283 L126.839 879.283 L126.839 875.347 Z\" fill=\"#000000\" fill-rule=\"evenodd\" fill-opacity=\"1\" /><path clip-path=\"url(#clip450)\" d=\"M 0 0 M162.394 888.241 L170.033 888.241 L170.033 861.875 L161.723 863.542 L161.723 859.283 L169.987 857.616 L174.663 857.616 L174.663 888.241 L182.302 888.241 L182.302 892.176 L162.394 892.176 L162.394 888.241 Z\" fill=\"#000000\" fill-rule=\"evenodd\" fill-opacity=\"1\" /><path clip-path=\"url(#clip450)\" d=\"M 0 0 M170.357 599.4 Q166.746 599.4 164.917 602.964 Q163.112 606.506 163.112 613.636 Q163.112 620.742 164.917 624.307 Q166.746 627.848 170.357 627.848 Q173.991 627.848 175.797 624.307 Q177.626 620.742 177.626 613.636 Q177.626 606.506 175.797 602.964 Q173.991 599.4 170.357 599.4 M170.357 595.696 Q176.167 595.696 179.223 600.302 Q182.302 604.886 182.302 613.636 Q182.302 622.362 179.223 626.969 Q176.167 631.552 170.357 631.552 Q164.547 631.552 161.468 626.969 Q158.413 622.362 158.413 613.636 Q158.413 604.886 161.468 600.302 Q164.547 595.696 170.357 595.696 Z\" fill=\"#000000\" fill-rule=\"evenodd\" fill-opacity=\"1\" /><path clip-path=\"url(#clip450)\" d=\"M 0 0 M162.394 365.65 L170.033 365.65 L170.033 339.285 L161.723 340.952 L161.723 336.692 L169.987 335.026 L174.663 335.026 L174.663 365.65 L182.302 365.65 L182.302 369.586 L162.394 369.586 L162.394 365.65 Z\" fill=\"#000000\" fill-rule=\"evenodd\" fill-opacity=\"1\" /><path clip-path=\"url(#clip450)\" d=\"M 0 0 M1146.78 35.9153 Q1149.58 30.8922 1153.46 28.5022 Q1157.35 26.1121 1162.62 26.1121 Q1169.71 26.1121 1173.56 31.0947 Q1177.41 36.0368 1177.41 45.1919 L1177.41 72.576 L1169.91 72.576 L1169.91 45.4349 Q1169.91 38.913 1167.6 35.7533 Q1165.29 32.5936 1160.55 32.5936 Q1154.76 32.5936 1151.4 36.4419 Q1148.04 40.2903 1148.04 46.9338 L1148.04 72.576 L1140.54 72.576 L1140.54 45.4349 Q1140.54 38.8725 1138.23 35.7533 Q1135.92 32.5936 1131.1 32.5936 Q1125.39 32.5936 1122.03 36.4824 Q1118.67 40.3308 1118.67 46.9338 L1118.67 72.576 L1111.17 72.576 L1111.17 27.2059 L1118.67 27.2059 L1118.67 34.2544 Q1121.22 30.082 1124.78 28.0971 Q1128.35 26.1121 1133.25 26.1121 Q1138.19 26.1121 1141.64 28.6237 Q1145.12 31.1352 1146.78 35.9153 Z\" fill=\"#000000\" fill-rule=\"evenodd\" fill-opacity=\"1\" /><path clip-path=\"url(#clip450)\" d=\"M 0 0 M1184.45 54.671 L1184.45 27.2059 L1191.91 27.2059 L1191.91 54.3874 Q1191.91 60.8284 1194.42 64.0691 Q1196.93 67.2693 1201.95 67.2693 Q1207.99 67.2693 1211.47 63.421 Q1215 59.5726 1215 52.9291 L1215 27.2059 L1222.45 27.2059 L1222.45 72.576 L1215 72.576 L1215 65.6084 Q1212.28 69.7404 1208.68 71.7658 Q1205.11 73.7508 1200.37 73.7508 Q1192.56 73.7508 1188.5 68.8897 Q1184.45 64.0286 1184.45 54.671 M1203.21 26.1121 L1203.21 26.1121 Z\" fill=\"#000000\" fill-rule=\"evenodd\" fill-opacity=\"1\" /><path clip-path=\"url(#clip450)\" d=\"M 0 0 M1257.61 34.9026 L1309.55 34.9026 L1309.55 41.7081 L1257.61 41.7081 L1257.61 34.9026 M1257.61 51.4303 L1309.55 51.4303 L1309.55 58.3168 L1257.61 58.3168 L1257.61 51.4303 Z\" fill=\"#000000\" fill-rule=\"evenodd\" fill-opacity=\"1\" /><path clip-path=\"url(#clip450)\" d=\"M 0 0 M1362.29 17.4837 Q1355.97 17.4837 1352.77 23.7221 Q1349.61 29.92 1349.61 42.3968 Q1349.61 54.833 1352.77 61.0714 Q1355.97 67.2693 1362.29 67.2693 Q1368.65 67.2693 1371.81 61.0714 Q1375.01 54.833 1375.01 42.3968 Q1375.01 29.92 1371.81 23.7221 Q1368.65 17.4837 1362.29 17.4837 M1362.29 11.0023 Q1372.46 11.0023 1377.8 19.0636 Q1383.19 27.0843 1383.19 42.3968 Q1383.19 57.6687 1377.8 65.73 Q1372.46 73.7508 1362.29 73.7508 Q1352.12 73.7508 1346.73 65.73 Q1341.39 57.6687 1341.39 42.3968 Q1341.39 27.0843 1346.73 19.0636 Q1352.12 11.0023 1362.29 11.0023 Z\" fill=\"#000000\" fill-rule=\"evenodd\" fill-opacity=\"1\" /><path clip-path=\"url(#clip450)\" d=\"M 0 0 M1392.06 62.2867 L1400.61 62.2867 L1400.61 72.576 L1392.06 72.576 L1392.06 62.2867 Z\" fill=\"#000000\" fill-rule=\"evenodd\" fill-opacity=\"1\" /><path clip-path=\"url(#clip450)\" d=\"M 0 0 M1426.98 17.4837 Q1420.66 17.4837 1417.46 23.7221 Q1414.3 29.92 1414.3 42.3968 Q1414.3 54.833 1417.46 61.0714 Q1420.66 67.2693 1426.98 67.2693 Q1433.34 67.2693 1436.5 61.0714 Q1439.7 54.833 1439.7 42.3968 Q1439.7 29.92 1436.5 23.7221 Q1433.34 17.4837 1426.98 17.4837 M1426.98 11.0023 Q1437.15 11.0023 1442.5 19.0636 Q1447.88 27.0843 1447.88 42.3968 Q1447.88 57.6687 1442.5 65.73 Q1437.15 73.7508 1426.98 73.7508 Q1416.81 73.7508 1411.43 65.73 Q1406.08 57.6687 1406.08 42.3968 Q1406.08 27.0843 1411.43 19.0636 Q1416.81 11.0023 1426.98 11.0023 Z\" fill=\"#000000\" fill-rule=\"evenodd\" fill-opacity=\"1\" /><path clip-path=\"url(#clip450)\" d=\"M 0 0 M1112.3 1556.04 L1094.16 1508.52 L1100.88 1508.52 L1115.93 1548.53 L1131.02 1508.52 L1137.7 1508.52 L1119.59 1556.04 L1112.3 1556.04 Z\" fill=\"#000000\" fill-rule=\"evenodd\" fill-opacity=\"1\" /><path clip-path=\"url(#clip450)\" d=\"M 0 0 M1169.27 1536.76 L1169.27 1539.62 L1142.35 1539.62 Q1142.73 1545.67 1145.98 1548.85 Q1149.25 1552 1155.08 1552 Q1158.45 1552 1161.6 1551.17 Q1164.79 1550.35 1167.91 1548.69 L1167.91 1554.23 Q1164.76 1555.57 1161.44 1556.27 Q1158.13 1556.97 1154.73 1556.97 Q1146.2 1556.97 1141.2 1552 Q1136.24 1547.04 1136.24 1538.57 Q1136.24 1529.82 1140.95 1524.69 Q1145.69 1519.54 1153.71 1519.54 Q1160.9 1519.54 1165.07 1524.18 Q1169.27 1528.8 1169.27 1536.76 M1163.42 1535.04 Q1163.35 1530.23 1160.71 1527.37 Q1158.1 1524.5 1153.77 1524.5 Q1148.87 1524.5 1145.91 1527.27 Q1142.98 1530.04 1142.54 1535.07 L1163.42 1535.04 Z\" fill=\"#000000\" fill-rule=\"evenodd\" fill-opacity=\"1\" /><path clip-path=\"url(#clip450)\" d=\"M 0 0 M1201.07 1521.76 L1201.07 1527.24 Q1198.59 1525.87 1196.07 1525.2 Q1193.59 1524.5 1191.05 1524.5 Q1185.35 1524.5 1182.2 1528.13 Q1179.05 1531.73 1179.05 1538.25 Q1179.05 1544.78 1182.2 1548.4 Q1185.35 1552 1191.05 1552 Q1193.59 1552 1196.07 1551.33 Q1198.59 1550.63 1201.07 1549.26 L1201.07 1554.68 Q1198.62 1555.82 1195.98 1556.39 Q1193.37 1556.97 1190.41 1556.97 Q1182.36 1556.97 1177.61 1551.91 Q1172.87 1546.85 1172.87 1538.25 Q1172.87 1529.53 1177.65 1524.53 Q1182.45 1519.54 1190.79 1519.54 Q1193.5 1519.54 1196.07 1520.11 Q1198.65 1520.65 1201.07 1521.76 Z\" fill=\"#000000\" fill-rule=\"evenodd\" fill-opacity=\"1\" /><path clip-path=\"url(#clip450)\" d=\"M 0 0 M1213.01 1510.27 L1213.01 1520.4 L1225.07 1520.4 L1225.07 1524.95 L1213.01 1524.95 L1213.01 1544.3 Q1213.01 1548.66 1214.18 1549.9 Q1215.39 1551.14 1219.05 1551.14 L1225.07 1551.14 L1225.07 1556.04 L1219.05 1556.04 Q1212.28 1556.04 1209.7 1553.53 Q1207.12 1550.98 1207.12 1544.3 L1207.12 1524.95 L1202.82 1524.95 L1202.82 1520.4 L1207.12 1520.4 L1207.12 1510.27 L1213.01 1510.27 Z\" fill=\"#000000\" fill-rule=\"evenodd\" fill-opacity=\"1\" /><path clip-path=\"url(#clip450)\" d=\"M 0 0 M1245.03 1524.5 Q1240.32 1524.5 1237.58 1528.19 Q1234.84 1531.85 1234.84 1538.25 Q1234.84 1544.65 1237.55 1548.34 Q1240.28 1552 1245.03 1552 Q1249.71 1552 1252.44 1548.31 Q1255.18 1544.62 1255.18 1538.25 Q1255.18 1531.92 1252.44 1528.23 Q1249.71 1524.5 1245.03 1524.5 M1245.03 1519.54 Q1252.67 1519.54 1257.03 1524.5 Q1261.39 1529.47 1261.39 1538.25 Q1261.39 1547 1257.03 1552 Q1252.67 1556.97 1245.03 1556.97 Q1237.36 1556.97 1233 1552 Q1228.67 1547 1228.67 1538.25 Q1228.67 1529.47 1233 1524.5 Q1237.36 1519.54 1245.03 1519.54 Z\" fill=\"#000000\" fill-rule=\"evenodd\" fill-opacity=\"1\" /><path clip-path=\"url(#clip450)\" d=\"M 0 0 M1288.19 1525.87 Q1287.2 1525.3 1286.02 1525.04 Q1284.88 1524.76 1283.48 1524.76 Q1278.51 1524.76 1275.84 1528 Q1273.19 1531.22 1273.19 1537.27 L1273.19 1556.04 L1267.31 1556.04 L1267.31 1520.4 L1273.19 1520.4 L1273.19 1525.93 Q1275.04 1522.69 1278 1521.13 Q1280.96 1519.54 1285.19 1519.54 Q1285.8 1519.54 1286.53 1519.63 Q1287.26 1519.7 1288.15 1519.85 L1288.19 1525.87 Z\" fill=\"#000000\" fill-rule=\"evenodd\" fill-opacity=\"1\" /><path clip-path=\"url(#clip450)\" d=\"M 0 0 M1315.3 1508.52 L1321.73 1508.52 L1321.73 1556.04 L1315.3 1556.04 L1315.3 1508.52 Z\" fill=\"#000000\" fill-rule=\"evenodd\" fill-opacity=\"1\" /><path clip-path=\"url(#clip450)\" d=\"M 0 0 M1357.51 1534.53 L1357.51 1556.04 L1351.65 1556.04 L1351.65 1534.72 Q1351.65 1529.66 1349.68 1527.14 Q1347.71 1524.63 1343.76 1524.63 Q1339.02 1524.63 1336.28 1527.65 Q1333.54 1530.68 1333.54 1535.9 L1333.54 1556.04 L1327.65 1556.04 L1327.65 1520.4 L1333.54 1520.4 L1333.54 1525.93 Q1335.64 1522.72 1338.48 1521.13 Q1341.34 1519.54 1345.06 1519.54 Q1351.21 1519.54 1354.36 1523.36 Q1357.51 1527.14 1357.51 1534.53 Z\" fill=\"#000000\" fill-rule=\"evenodd\" fill-opacity=\"1\" /><path clip-path=\"url(#clip450)\" d=\"M 0 0 M1387.11 1525.81 L1387.11 1506.52 L1392.97 1506.52 L1392.97 1556.04 L1387.11 1556.04 L1387.11 1550.7 Q1385.26 1553.88 1382.43 1555.44 Q1379.63 1556.97 1375.68 1556.97 Q1369.22 1556.97 1365.15 1551.81 Q1361.11 1546.65 1361.11 1538.25 Q1361.11 1529.85 1365.15 1524.69 Q1369.22 1519.54 1375.68 1519.54 Q1379.63 1519.54 1382.43 1521.1 Q1385.26 1522.62 1387.11 1525.81 M1367.15 1538.25 Q1367.15 1544.71 1369.79 1548.4 Q1372.47 1552.07 1377.11 1552.07 Q1381.76 1552.07 1384.44 1548.4 Q1387.11 1544.71 1387.11 1538.25 Q1387.11 1531.79 1384.44 1528.13 Q1381.76 1524.44 1377.11 1524.44 Q1372.47 1524.44 1369.79 1528.13 Q1367.15 1531.79 1367.15 1538.25 Z\" fill=\"#000000\" fill-rule=\"evenodd\" fill-opacity=\"1\" /><path clip-path=\"url(#clip450)\" d=\"M 0 0 M1429.6 1536.76 L1429.6 1539.62 L1402.67 1539.62 Q1403.06 1545.67 1406.3 1548.85 Q1409.58 1552 1415.4 1552 Q1418.78 1552 1421.93 1551.17 Q1425.11 1550.35 1428.23 1548.69 L1428.23 1554.23 Q1425.08 1555.57 1421.77 1556.27 Q1418.46 1556.97 1415.05 1556.97 Q1406.52 1556.97 1401.53 1552 Q1396.56 1547.04 1396.56 1538.57 Q1396.56 1529.82 1401.27 1524.69 Q1406.02 1519.54 1414.04 1519.54 Q1421.23 1519.54 1425.4 1524.18 Q1429.6 1528.8 1429.6 1536.76 M1423.74 1535.04 Q1423.68 1530.23 1421.04 1527.37 Q1418.43 1524.5 1414.1 1524.5 Q1409.2 1524.5 1406.24 1527.27 Q1403.31 1530.04 1402.86 1535.07 L1423.74 1535.04 Z\" fill=\"#000000\" fill-rule=\"evenodd\" fill-opacity=\"1\" /><path clip-path=\"url(#clip450)\" d=\"M 0 0 M1464.23 1520.4 L1451.34 1537.74 L1464.9 1556.04 L1457.99 1556.04 L1447.62 1542.04 L1437.24 1556.04 L1430.33 1556.04 L1444.18 1537.39 L1431.51 1520.4 L1438.42 1520.4 L1447.87 1533.1 L1457.32 1520.4 L1464.23 1520.4 Z\" fill=\"#000000\" fill-rule=\"evenodd\" fill-opacity=\"1\" /><path clip-path=\"url(#clip450)\" d=\"M 0 0 M88.0042 833.45 L40.4842 851.592 L40.4842 844.877 L80.4926 829.822 L40.4842 814.735 L40.4842 808.051 L88.0042 826.161 L88.0042 833.45 Z\" fill=\"#000000\" fill-rule=\"evenodd\" fill-opacity=\"1\" /><path clip-path=\"url(#clip450)\" d=\"M 0 0 M70.0847 790.768 Q70.0847 797.866 71.7079 800.603 Q73.3312 803.34 77.2461 803.34 Q80.3653 803.34 82.2114 801.303 Q84.0256 799.234 84.0256 795.701 Q84.0256 790.832 80.5881 787.903 Q77.1188 784.943 71.3897 784.943 L70.0847 784.943 L70.0847 790.768 M67.6657 779.087 L88.0042 779.087 L88.0042 784.943 L82.5933 784.943 Q85.8398 786.949 87.3994 789.94 Q88.9272 792.932 88.9272 797.261 Q88.9272 802.736 85.8716 805.982 Q82.7843 809.197 77.6281 809.197 Q71.6125 809.197 68.5569 805.186 Q65.5014 801.144 65.5014 793.155 L65.5014 784.943 L64.9285 784.943 Q60.8862 784.943 58.6901 787.617 Q56.4621 790.259 56.4621 795.065 Q56.4621 798.12 57.1941 801.017 Q57.9262 803.913 59.3903 806.587 L53.9795 806.587 Q52.7381 803.372 52.1334 800.348 Q51.4968 797.325 51.4968 794.46 Q51.4968 786.726 55.5072 782.906 Q59.5176 779.087 67.6657 779.087 Z\" fill=\"#000000\" fill-rule=\"evenodd\" fill-opacity=\"1\" /><path clip-path=\"url(#clip450)\" d=\"M 0 0 M38.479 772.944 L38.479 767.088 L88.0042 767.088 L88.0042 772.944 L38.479 772.944 Z\" fill=\"#000000\" fill-rule=\"evenodd\" fill-opacity=\"1\" /><path clip-path=\"url(#clip450)\" d=\"M 0 0 M73.9359 761.549 L52.3562 761.549 L52.3562 755.693 L73.7131 755.693 Q78.7739 755.693 81.3202 753.72 Q83.8346 751.746 83.8346 747.8 Q83.8346 743.057 80.8109 740.32 Q77.7872 737.551 72.5673 737.551 L52.3562 737.551 L52.3562 731.694 L88.0042 731.694 L88.0042 737.551 L82.5296 737.551 Q85.7762 739.683 87.3676 742.516 Q88.9272 745.317 88.9272 749.041 Q88.9272 755.184 85.1078 758.367 Q81.2883 761.549 73.9359 761.549 M51.4968 746.813 L51.4968 746.813 Z\" fill=\"#000000\" fill-rule=\"evenodd\" fill-opacity=\"1\" /><path clip-path=\"url(#clip450)\" d=\"M 0 0 M68.7161 695.06 L71.5806 695.06 L71.5806 721.987 Q77.6281 721.605 80.8109 718.358 Q83.9619 715.08 83.9619 709.255 Q83.9619 705.881 83.1344 702.73 Q82.3069 699.547 80.6518 696.428 L86.1899 696.428 Q87.5267 699.579 88.227 702.889 Q88.9272 706.2 88.9272 709.605 Q88.9272 718.135 83.9619 723.132 Q78.9967 728.098 70.5303 728.098 Q61.7774 728.098 56.6531 723.387 Q51.4968 718.645 51.4968 710.624 Q51.4968 703.431 56.1438 699.261 Q60.7589 695.06 68.7161 695.06 M66.9973 700.916 Q62.1912 700.98 59.3266 703.621 Q56.4621 706.231 56.4621 710.56 Q56.4621 715.462 59.2312 718.422 Q62.0002 721.35 67.0292 721.796 L66.9973 700.916 Z\" fill=\"#000000\" fill-rule=\"evenodd\" fill-opacity=\"1\" /><polyline clip-path=\"url(#clip452)\" style=\"stroke:#009af9; stroke-width:12; stroke-opacity:1; fill:none\" stroke-dasharray=\"6, 12\" points=\"\n",
       "  267.05,1386.4 307.549,1346.62 348.049,1270.43 388.548,1260.02 429.047,1108.32 469.546,1125.3 510.045,999.913 550.544,916.688 591.043,790.428 631.542,862.494 \n",
       "  672.042,791.207 712.541,657.082 753.04,557.181 793.539,624.646 834.038,682.815 874.537,669.177 915.036,676.376 955.536,568.795 996.035,713.222 1036.53,652.762 \n",
       "  1077.03,716.937 1117.53,752.906 1158.03,660.672 1198.53,585.208 1239.03,730.558 1279.53,658.726 1320.03,566.458 1360.53,494.095 1401.03,561.935 1441.53,530.12 \n",
       "  1482.02,443.286 1522.52,577.892 1563.02,438.498 1603.52,474.49 1644.02,601.779 1684.52,547.297 1725.02,534.554 1765.52,621.773 1806.02,600.823 1846.52,652.198 \n",
       "  1887.02,650.598 1927.51,634.477 1968.01,660.271 2008.51,598.864 2049.01,498.289 2089.51,372.361 2130.01,414.25 2170.51,217.399 2211.01,308.844 2251.51,160.256 \n",
       "  2292.01,240.402 \n",
       "  \"/>\n",
       "<polyline clip-path=\"url(#clip452)\" style=\"stroke:#e26f46; stroke-width:4; stroke-opacity:1; fill:none\" points=\"\n",
       "  267.05,1386.4 307.549,1346.62 348.049,1270.43 388.548,1260.02 429.047,1108.32 469.546,1125.3 510.045,999.913 550.544,916.688 591.043,790.428 631.542,862.494 \n",
       "  672.042,791.207 712.541,657.082 753.04,557.181 793.539,624.646 834.038,682.815 874.537,669.177 915.036,676.376 955.536,568.795 996.035,713.222 1036.53,652.762 \n",
       "  1077.03,716.937 1117.53,752.906 1158.03,660.672 1198.53,585.208 1239.03,730.558 1279.53,658.726 1320.03,566.458 1360.53,494.095 1401.03,561.935 1441.53,530.12 \n",
       "  1482.02,443.286 1522.52,577.892 1563.02,438.498 1603.52,474.49 1644.02,601.779 1684.52,547.297 1725.02,534.554 1765.52,621.773 1806.02,600.823 1846.52,652.198 \n",
       "  1887.02,650.598 1927.51,634.477 1968.01,660.271 2008.51,598.864 2049.01,498.289 2089.51,372.361 2130.01,414.25 2170.51,217.399 2211.01,308.844 2251.51,160.256 \n",
       "  2292.01,240.402 \n",
       "  \"/>\n",
       "<path clip-path=\"url(#clip450)\" d=\"\n",
       "M2019.54 348.236 L2281.21 348.236 L2281.21 166.796 L2019.54 166.796  Z\n",
       "  \" fill=\"#ffffff\" fill-rule=\"evenodd\" fill-opacity=\"1\"/>\n",
       "<polyline clip-path=\"url(#clip450)\" style=\"stroke:#000000; stroke-width:4; stroke-opacity:1; fill:none\" points=\"\n",
       "  2019.54,348.236 2281.21,348.236 2281.21,166.796 2019.54,166.796 2019.54,348.236 \n",
       "  \"/>\n",
       "<polyline clip-path=\"url(#clip450)\" style=\"stroke:#009af9; stroke-width:4; stroke-opacity:1; fill:none\" stroke-dasharray=\"2, 4\" points=\"\n",
       "  2043.39,227.276 2186.49,227.276 \n",
       "  \"/>\n",
       "<path clip-path=\"url(#clip450)\" d=\"M 0 0 M2226.84 208.537 L2226.84 212.079 L2222.77 212.079 Q2220.48 212.079 2219.57 213.005 Q2218.69 213.931 2218.69 216.338 L2218.69 218.63 L2225.71 218.63 L2225.71 221.94 L2218.69 221.94 L2218.69 244.556 L2214.41 244.556 L2214.41 221.94 L2210.34 221.94 L2210.34 218.63 L2214.41 218.63 L2214.41 216.824 Q2214.41 212.496 2216.43 210.528 Q2218.44 208.537 2222.81 208.537 L2226.84 208.537 Z\" fill=\"#000000\" fill-rule=\"evenodd\" fill-opacity=\"1\" /><polyline clip-path=\"url(#clip450)\" style=\"stroke:#e26f46; stroke-width:4; stroke-opacity:1; fill:none\" points=\"\n",
       "  2043.39,287.756 2186.49,287.756 \n",
       "  \"/>\n",
       "<path clip-path=\"url(#clip450)\" d=\"M 0 0 M2229.25 291.772 Q2229.25 287.142 2227.33 284.596 Q2225.43 282.05 2221.98 282.05 Q2218.55 282.05 2216.63 284.596 Q2214.74 287.142 2214.74 291.772 Q2214.74 296.378 2216.63 298.925 Q2218.55 301.471 2221.98 301.471 Q2225.43 301.471 2227.33 298.925 Q2229.25 296.378 2229.25 291.772 M2233.51 301.818 Q2233.51 308.438 2230.57 311.656 Q2227.63 314.897 2221.56 314.897 Q2219.32 314.897 2217.33 314.55 Q2215.34 314.225 2213.46 313.531 L2213.46 309.388 Q2215.34 310.406 2217.17 310.892 Q2218.99 311.378 2220.89 311.378 Q2225.08 311.378 2227.17 309.179 Q2229.25 307.003 2229.25 302.582 L2229.25 300.476 Q2227.93 302.767 2225.87 303.901 Q2223.81 305.036 2220.94 305.036 Q2216.17 305.036 2213.25 301.401 Q2210.34 297.767 2210.34 291.772 Q2210.34 285.753 2213.25 282.119 Q2216.17 278.485 2220.94 278.485 Q2223.81 278.485 2225.87 279.619 Q2227.93 280.753 2229.25 283.045 L2229.25 279.11 L2233.51 279.11 L2233.51 301.818 Z\" fill=\"#000000\" fill-rule=\"evenodd\" fill-opacity=\"1\" /></svg>\n"
      ]
     },
     "metadata": {},
     "output_type": "display_data"
    },
    {
     "data": {
      "image/svg+xml": [
       "<?xml version=\"1.0\" encoding=\"utf-8\"?>\n",
       "<svg xmlns=\"http://www.w3.org/2000/svg\" xmlns:xlink=\"http://www.w3.org/1999/xlink\" width=\"600\" height=\"400\" viewBox=\"0 0 2400 1600\">\n",
       "<defs>\n",
       "  <clipPath id=\"clip490\">\n",
       "    <rect x=\"0\" y=\"0\" width=\"2400\" height=\"1600\"/>\n",
       "  </clipPath>\n",
       "</defs>\n",
       "<path clip-path=\"url(#clip490)\" d=\"\n",
       "M0 1600 L2400 1600 L2400 0 L0 0  Z\n",
       "  \" fill=\"#ffffff\" fill-rule=\"evenodd\" fill-opacity=\"1\"/>\n",
       "<defs>\n",
       "  <clipPath id=\"clip491\">\n",
       "    <rect x=\"480\" y=\"0\" width=\"1681\" height=\"1600\"/>\n",
       "  </clipPath>\n",
       "</defs>\n",
       "<path clip-path=\"url(#clip490)\" d=\"\n",
       "M206.302 1423.18 L2352.76 1423.18 L2352.76 123.472 L206.302 123.472  Z\n",
       "  \" fill=\"#ffffff\" fill-rule=\"evenodd\" fill-opacity=\"1\"/>\n",
       "<defs>\n",
       "  <clipPath id=\"clip492\">\n",
       "    <rect x=\"206\" y=\"123\" width=\"2147\" height=\"1301\"/>\n",
       "  </clipPath>\n",
       "</defs>\n",
       "<polyline clip-path=\"url(#clip492)\" style=\"stroke:#000000; stroke-width:2; stroke-opacity:0.1; fill:none\" points=\"\n",
       "  226.551,1423.18 226.551,123.472 \n",
       "  \"/>\n",
       "<polyline clip-path=\"url(#clip492)\" style=\"stroke:#000000; stroke-width:2; stroke-opacity:0.1; fill:none\" points=\"\n",
       "  631.542,1423.18 631.542,123.472 \n",
       "  \"/>\n",
       "<polyline clip-path=\"url(#clip492)\" style=\"stroke:#000000; stroke-width:2; stroke-opacity:0.1; fill:none\" points=\"\n",
       "  1036.53,1423.18 1036.53,123.472 \n",
       "  \"/>\n",
       "<polyline clip-path=\"url(#clip492)\" style=\"stroke:#000000; stroke-width:2; stroke-opacity:0.1; fill:none\" points=\"\n",
       "  1441.53,1423.18 1441.53,123.472 \n",
       "  \"/>\n",
       "<polyline clip-path=\"url(#clip492)\" style=\"stroke:#000000; stroke-width:2; stroke-opacity:0.1; fill:none\" points=\"\n",
       "  1846.52,1423.18 1846.52,123.472 \n",
       "  \"/>\n",
       "<polyline clip-path=\"url(#clip492)\" style=\"stroke:#000000; stroke-width:2; stroke-opacity:0.1; fill:none\" points=\"\n",
       "  2251.51,1423.18 2251.51,123.472 \n",
       "  \"/>\n",
       "<polyline clip-path=\"url(#clip492)\" style=\"stroke:#000000; stroke-width:2; stroke-opacity:0.1; fill:none\" points=\"\n",
       "  206.302,1397.49 2352.76,1397.49 \n",
       "  \"/>\n",
       "<polyline clip-path=\"url(#clip492)\" style=\"stroke:#000000; stroke-width:2; stroke-opacity:0.1; fill:none\" points=\"\n",
       "  206.302,1136.19 2352.76,1136.19 \n",
       "  \"/>\n",
       "<polyline clip-path=\"url(#clip492)\" style=\"stroke:#000000; stroke-width:2; stroke-opacity:0.1; fill:none\" points=\"\n",
       "  206.302,874.896 2352.76,874.896 \n",
       "  \"/>\n",
       "<polyline clip-path=\"url(#clip492)\" style=\"stroke:#000000; stroke-width:2; stroke-opacity:0.1; fill:none\" points=\"\n",
       "  206.302,613.601 2352.76,613.601 \n",
       "  \"/>\n",
       "<polyline clip-path=\"url(#clip492)\" style=\"stroke:#000000; stroke-width:2; stroke-opacity:0.1; fill:none\" points=\"\n",
       "  206.302,352.306 2352.76,352.306 \n",
       "  \"/>\n",
       "<polyline clip-path=\"url(#clip490)\" style=\"stroke:#000000; stroke-width:4; stroke-opacity:1; fill:none\" points=\"\n",
       "  206.302,1423.18 2352.76,1423.18 \n",
       "  \"/>\n",
       "<polyline clip-path=\"url(#clip490)\" style=\"stroke:#000000; stroke-width:4; stroke-opacity:1; fill:none\" points=\"\n",
       "  206.302,1423.18 206.302,123.472 \n",
       "  \"/>\n",
       "<polyline clip-path=\"url(#clip490)\" style=\"stroke:#000000; stroke-width:4; stroke-opacity:1; fill:none\" points=\"\n",
       "  226.551,1423.18 226.551,1407.58 \n",
       "  \"/>\n",
       "<polyline clip-path=\"url(#clip490)\" style=\"stroke:#000000; stroke-width:4; stroke-opacity:1; fill:none\" points=\"\n",
       "  631.542,1423.18 631.542,1407.58 \n",
       "  \"/>\n",
       "<polyline clip-path=\"url(#clip490)\" style=\"stroke:#000000; stroke-width:4; stroke-opacity:1; fill:none\" points=\"\n",
       "  1036.53,1423.18 1036.53,1407.58 \n",
       "  \"/>\n",
       "<polyline clip-path=\"url(#clip490)\" style=\"stroke:#000000; stroke-width:4; stroke-opacity:1; fill:none\" points=\"\n",
       "  1441.53,1423.18 1441.53,1407.58 \n",
       "  \"/>\n",
       "<polyline clip-path=\"url(#clip490)\" style=\"stroke:#000000; stroke-width:4; stroke-opacity:1; fill:none\" points=\"\n",
       "  1846.52,1423.18 1846.52,1407.58 \n",
       "  \"/>\n",
       "<polyline clip-path=\"url(#clip490)\" style=\"stroke:#000000; stroke-width:4; stroke-opacity:1; fill:none\" points=\"\n",
       "  2251.51,1423.18 2251.51,1407.58 \n",
       "  \"/>\n",
       "<polyline clip-path=\"url(#clip490)\" style=\"stroke:#000000; stroke-width:4; stroke-opacity:1; fill:none\" points=\"\n",
       "  206.302,1397.49 232.059,1397.49 \n",
       "  \"/>\n",
       "<polyline clip-path=\"url(#clip490)\" style=\"stroke:#000000; stroke-width:4; stroke-opacity:1; fill:none\" points=\"\n",
       "  206.302,1136.19 232.059,1136.19 \n",
       "  \"/>\n",
       "<polyline clip-path=\"url(#clip490)\" style=\"stroke:#000000; stroke-width:4; stroke-opacity:1; fill:none\" points=\"\n",
       "  206.302,874.896 232.059,874.896 \n",
       "  \"/>\n",
       "<polyline clip-path=\"url(#clip490)\" style=\"stroke:#000000; stroke-width:4; stroke-opacity:1; fill:none\" points=\"\n",
       "  206.302,613.601 232.059,613.601 \n",
       "  \"/>\n",
       "<polyline clip-path=\"url(#clip490)\" style=\"stroke:#000000; stroke-width:4; stroke-opacity:1; fill:none\" points=\"\n",
       "  206.302,352.306 232.059,352.306 \n",
       "  \"/>\n",
       "<path clip-path=\"url(#clip490)\" d=\"M 0 0 M226.551 1445.17 Q222.94 1445.17 221.111 1448.74 Q219.306 1452.28 219.306 1459.41 Q219.306 1466.51 221.111 1470.08 Q222.94 1473.62 226.551 1473.62 Q230.185 1473.62 231.991 1470.08 Q233.82 1466.51 233.82 1459.41 Q233.82 1452.28 231.991 1448.74 Q230.185 1445.17 226.551 1445.17 M226.551 1441.47 Q232.361 1441.47 235.417 1446.07 Q238.495 1450.66 238.495 1459.41 Q238.495 1468.13 235.417 1472.74 Q232.361 1477.32 226.551 1477.32 Q220.741 1477.32 217.662 1472.74 Q214.607 1468.13 214.607 1459.41 Q214.607 1450.66 217.662 1446.07 Q220.741 1441.47 226.551 1441.47 Z\" fill=\"#000000\" fill-rule=\"evenodd\" fill-opacity=\"1\" /><path clip-path=\"url(#clip490)\" d=\"M 0 0 M608.418 1472.72 L616.056 1472.72 L616.056 1446.35 L607.746 1448.02 L607.746 1443.76 L616.01 1442.09 L620.686 1442.09 L620.686 1472.72 L628.325 1472.72 L628.325 1476.65 L608.418 1476.65 L608.418 1472.72 Z\" fill=\"#000000\" fill-rule=\"evenodd\" fill-opacity=\"1\" /><path clip-path=\"url(#clip490)\" d=\"M 0 0 M643.394 1445.17 Q639.783 1445.17 637.954 1448.74 Q636.149 1452.28 636.149 1459.41 Q636.149 1466.51 637.954 1470.08 Q639.783 1473.62 643.394 1473.62 Q647.029 1473.62 648.834 1470.08 Q650.663 1466.51 650.663 1459.41 Q650.663 1452.28 648.834 1448.74 Q647.029 1445.17 643.394 1445.17 M643.394 1441.47 Q649.204 1441.47 652.26 1446.07 Q655.339 1450.66 655.339 1459.41 Q655.339 1468.13 652.26 1472.74 Q649.204 1477.32 643.394 1477.32 Q637.584 1477.32 634.505 1472.74 Q631.45 1468.13 631.45 1459.41 Q631.45 1450.66 634.505 1446.07 Q637.584 1441.47 643.394 1441.47 Z\" fill=\"#000000\" fill-rule=\"evenodd\" fill-opacity=\"1\" /><path clip-path=\"url(#clip490)\" d=\"M 0 0 M1017.68 1472.72 L1034 1472.72 L1034 1476.65 L1012.05 1476.65 L1012.05 1472.72 Q1014.72 1469.96 1019.3 1465.33 Q1023.91 1460.68 1025.09 1459.34 Q1027.33 1456.81 1028.21 1455.08 Q1029.11 1453.32 1029.11 1451.63 Q1029.11 1448.87 1027.17 1447.14 Q1025.25 1445.4 1022.15 1445.4 Q1019.95 1445.4 1017.49 1446.17 Q1015.06 1446.93 1012.29 1448.48 L1012.29 1443.76 Q1015.11 1442.62 1017.56 1442.05 Q1020.02 1441.47 1022.05 1441.47 Q1027.43 1441.47 1030.62 1444.15 Q1033.81 1446.84 1033.81 1451.33 Q1033.81 1453.46 1033 1455.38 Q1032.22 1457.28 1030.11 1459.87 Q1029.53 1460.54 1026.43 1463.76 Q1023.33 1466.95 1017.68 1472.72 Z\" fill=\"#000000\" fill-rule=\"evenodd\" fill-opacity=\"1\" /><path clip-path=\"url(#clip490)\" d=\"M 0 0 M1049.07 1445.17 Q1045.46 1445.17 1043.63 1448.74 Q1041.82 1452.28 1041.82 1459.41 Q1041.82 1466.51 1043.63 1470.08 Q1045.46 1473.62 1049.07 1473.62 Q1052.7 1473.62 1054.51 1470.08 Q1056.34 1466.51 1056.34 1459.41 Q1056.34 1452.28 1054.51 1448.74 Q1052.7 1445.17 1049.07 1445.17 M1049.07 1441.47 Q1054.88 1441.47 1057.93 1446.07 Q1061.01 1450.66 1061.01 1459.41 Q1061.01 1468.13 1057.93 1472.74 Q1054.88 1477.32 1049.07 1477.32 Q1043.26 1477.32 1040.18 1472.74 Q1037.12 1468.13 1037.12 1459.41 Q1037.12 1450.66 1040.18 1446.07 Q1043.26 1441.47 1049.07 1441.47 Z\" fill=\"#000000\" fill-rule=\"evenodd\" fill-opacity=\"1\" /><path clip-path=\"url(#clip490)\" d=\"M 0 0 M1432.27 1458.02 Q1435.62 1458.74 1437.5 1461 Q1439.4 1463.27 1439.4 1466.61 Q1439.4 1471.72 1435.88 1474.52 Q1432.36 1477.32 1425.88 1477.32 Q1423.7 1477.32 1421.39 1476.88 Q1419.09 1476.47 1416.64 1475.61 L1416.64 1471.1 Q1418.59 1472.23 1420.9 1472.81 Q1423.22 1473.39 1425.74 1473.39 Q1430.14 1473.39 1432.43 1471.65 Q1434.74 1469.92 1434.74 1466.61 Q1434.74 1463.55 1432.59 1461.84 Q1430.46 1460.1 1426.64 1460.1 L1422.61 1460.1 L1422.61 1456.26 L1426.83 1456.26 Q1430.28 1456.26 1432.1 1454.89 Q1433.93 1453.5 1433.93 1450.91 Q1433.93 1448.25 1432.03 1446.84 Q1430.16 1445.4 1426.64 1445.4 Q1424.72 1445.4 1422.52 1445.82 Q1420.32 1446.24 1417.68 1447.11 L1417.68 1442.95 Q1420.34 1442.21 1422.66 1441.84 Q1425 1441.47 1427.06 1441.47 Q1432.38 1441.47 1435.48 1443.9 Q1438.59 1446.3 1438.59 1450.43 Q1438.59 1453.3 1436.94 1455.29 Q1435.3 1457.25 1432.27 1458.02 Z\" fill=\"#000000\" fill-rule=\"evenodd\" fill-opacity=\"1\" /><path clip-path=\"url(#clip490)\" d=\"M 0 0 M1454.47 1445.17 Q1450.85 1445.17 1449.03 1448.74 Q1447.22 1452.28 1447.22 1459.41 Q1447.22 1466.51 1449.03 1470.08 Q1450.85 1473.62 1454.47 1473.62 Q1458.1 1473.62 1459.9 1470.08 Q1461.73 1466.51 1461.73 1459.41 Q1461.73 1452.28 1459.9 1448.74 Q1458.1 1445.17 1454.47 1445.17 M1454.47 1441.47 Q1460.28 1441.47 1463.33 1446.07 Q1466.41 1450.66 1466.41 1459.41 Q1466.41 1468.13 1463.33 1472.74 Q1460.28 1477.32 1454.47 1477.32 Q1448.65 1477.32 1445.58 1472.74 Q1442.52 1468.13 1442.52 1459.41 Q1442.52 1450.66 1445.58 1446.07 Q1448.65 1441.47 1454.47 1441.47 Z\" fill=\"#000000\" fill-rule=\"evenodd\" fill-opacity=\"1\" /><path clip-path=\"url(#clip490)\" d=\"M 0 0 M1836.02 1446.17 L1824.21 1464.61 L1836.02 1464.61 L1836.02 1446.17 M1834.79 1442.09 L1840.67 1442.09 L1840.67 1464.61 L1845.6 1464.61 L1845.6 1468.5 L1840.67 1468.5 L1840.67 1476.65 L1836.02 1476.65 L1836.02 1468.5 L1820.42 1468.5 L1820.42 1463.99 L1834.79 1442.09 Z\" fill=\"#000000\" fill-rule=\"evenodd\" fill-opacity=\"1\" /><path clip-path=\"url(#clip490)\" d=\"M 0 0 M1860.67 1445.17 Q1857.06 1445.17 1855.23 1448.74 Q1853.43 1452.28 1853.43 1459.41 Q1853.43 1466.51 1855.23 1470.08 Q1857.06 1473.62 1860.67 1473.62 Q1864.31 1473.62 1866.11 1470.08 Q1867.94 1466.51 1867.94 1459.41 Q1867.94 1452.28 1866.11 1448.74 Q1864.31 1445.17 1860.67 1445.17 M1860.67 1441.47 Q1866.48 1441.47 1869.54 1446.07 Q1872.62 1450.66 1872.62 1459.41 Q1872.62 1468.13 1869.54 1472.74 Q1866.48 1477.32 1860.67 1477.32 Q1854.86 1477.32 1851.78 1472.74 Q1848.73 1468.13 1848.73 1459.41 Q1848.73 1450.66 1851.78 1446.07 Q1854.86 1441.47 1860.67 1441.47 Z\" fill=\"#000000\" fill-rule=\"evenodd\" fill-opacity=\"1\" /><path clip-path=\"url(#clip490)\" d=\"M 0 0 M2228.28 1442.09 L2246.64 1442.09 L2246.64 1446.03 L2232.56 1446.03 L2232.56 1454.5 Q2233.58 1454.15 2234.6 1453.99 Q2235.62 1453.8 2236.64 1453.8 Q2242.42 1453.8 2245.8 1456.98 Q2249.18 1460.15 2249.18 1465.56 Q2249.18 1471.14 2245.71 1474.24 Q2242.24 1477.32 2235.92 1477.32 Q2233.74 1477.32 2231.47 1476.95 Q2229.23 1476.58 2226.82 1475.84 L2226.82 1471.14 Q2228.9 1472.28 2231.13 1472.83 Q2233.35 1473.39 2235.83 1473.39 Q2239.83 1473.39 2242.17 1471.28 Q2244.51 1469.18 2244.51 1465.56 Q2244.51 1461.95 2242.17 1459.85 Q2239.83 1457.74 2235.83 1457.74 Q2233.95 1457.74 2232.08 1458.16 Q2230.22 1458.57 2228.28 1459.45 L2228.28 1442.09 Z\" fill=\"#000000\" fill-rule=\"evenodd\" fill-opacity=\"1\" /><path clip-path=\"url(#clip490)\" d=\"M 0 0 M2264.25 1445.17 Q2260.64 1445.17 2258.81 1448.74 Q2257.01 1452.28 2257.01 1459.41 Q2257.01 1466.51 2258.81 1470.08 Q2260.64 1473.62 2264.25 1473.62 Q2267.89 1473.62 2269.69 1470.08 Q2271.52 1466.51 2271.52 1459.41 Q2271.52 1452.28 2269.69 1448.74 Q2267.89 1445.17 2264.25 1445.17 M2264.25 1441.47 Q2270.06 1441.47 2273.12 1446.07 Q2276.2 1450.66 2276.2 1459.41 Q2276.2 1468.13 2273.12 1472.74 Q2270.06 1477.32 2264.25 1477.32 Q2258.44 1477.32 2255.36 1472.74 Q2252.31 1468.13 2252.31 1459.41 Q2252.31 1450.66 2255.36 1446.07 Q2258.44 1441.47 2264.25 1441.47 Z\" fill=\"#000000\" fill-rule=\"evenodd\" fill-opacity=\"1\" /><path clip-path=\"url(#clip490)\" d=\"M 0 0 M126.26 1397.94 L155.936 1397.94 L155.936 1401.87 L126.26 1401.87 L126.26 1397.94 Z\" fill=\"#000000\" fill-rule=\"evenodd\" fill-opacity=\"1\" /><path clip-path=\"url(#clip490)\" d=\"M 0 0 M175.172 1396.13 Q178.528 1396.85 180.403 1399.12 Q182.302 1401.39 182.302 1404.72 Q182.302 1409.84 178.783 1412.64 Q175.265 1415.44 168.783 1415.44 Q166.607 1415.44 164.292 1415 Q162.001 1414.58 159.547 1413.72 L159.547 1409.21 Q161.491 1410.35 163.806 1410.92 Q166.121 1411.5 168.644 1411.5 Q173.042 1411.5 175.334 1409.77 Q177.649 1408.03 177.649 1404.72 Q177.649 1401.66 175.496 1399.95 Q173.366 1398.22 169.547 1398.22 L165.519 1398.22 L165.519 1394.37 L169.732 1394.37 Q173.181 1394.37 175.01 1393.01 Q176.839 1391.62 176.839 1389.03 Q176.839 1386.36 174.94 1384.95 Q173.065 1383.52 169.547 1383.52 Q167.626 1383.52 165.427 1383.93 Q163.228 1384.35 160.589 1385.23 L160.589 1381.06 Q163.251 1380.32 165.566 1379.95 Q167.903 1379.58 169.964 1379.58 Q175.288 1379.58 178.39 1382.01 Q181.491 1384.42 181.491 1388.54 Q181.491 1391.41 179.848 1393.4 Q178.204 1395.37 175.172 1396.13 Z\" fill=\"#000000\" fill-rule=\"evenodd\" fill-opacity=\"1\" /><path clip-path=\"url(#clip490)\" d=\"M 0 0 M127.209 1136.64 L156.885 1136.64 L156.885 1140.58 L127.209 1140.58 L127.209 1136.64 Z\" fill=\"#000000\" fill-rule=\"evenodd\" fill-opacity=\"1\" /><path clip-path=\"url(#clip490)\" d=\"M 0 0 M165.982 1149.54 L182.302 1149.54 L182.302 1153.47 L160.357 1153.47 L160.357 1149.54 Q163.019 1146.78 167.603 1142.15 Q172.209 1137.5 173.39 1136.16 Q175.635 1133.63 176.515 1131.9 Q177.417 1130.14 177.417 1128.45 Q177.417 1125.69 175.473 1123.96 Q173.552 1122.22 170.45 1122.22 Q168.251 1122.22 165.797 1122.99 Q163.366 1123.75 160.589 1125.3 L160.589 1120.58 Q163.413 1119.44 165.866 1118.86 Q168.32 1118.29 170.357 1118.29 Q175.727 1118.29 178.922 1120.97 Q182.116 1123.66 182.116 1128.15 Q182.116 1130.28 181.306 1132.2 Q180.519 1134.1 178.413 1136.69 Q177.834 1137.36 174.732 1140.58 Q171.63 1143.77 165.982 1149.54 Z\" fill=\"#000000\" fill-rule=\"evenodd\" fill-opacity=\"1\" /><path clip-path=\"url(#clip490)\" d=\"M 0 0 M126.839 875.347 L156.515 875.347 L156.515 879.283 L126.839 879.283 L126.839 875.347 Z\" fill=\"#000000\" fill-rule=\"evenodd\" fill-opacity=\"1\" /><path clip-path=\"url(#clip490)\" d=\"M 0 0 M162.394 888.241 L170.033 888.241 L170.033 861.875 L161.723 863.542 L161.723 859.283 L169.987 857.616 L174.663 857.616 L174.663 888.241 L182.302 888.241 L182.302 892.176 L162.394 892.176 L162.394 888.241 Z\" fill=\"#000000\" fill-rule=\"evenodd\" fill-opacity=\"1\" /><path clip-path=\"url(#clip490)\" d=\"M 0 0 M170.357 599.4 Q166.746 599.4 164.917 602.964 Q163.112 606.506 163.112 613.636 Q163.112 620.742 164.917 624.307 Q166.746 627.848 170.357 627.848 Q173.991 627.848 175.797 624.307 Q177.626 620.742 177.626 613.636 Q177.626 606.506 175.797 602.964 Q173.991 599.4 170.357 599.4 M170.357 595.696 Q176.167 595.696 179.223 600.302 Q182.302 604.886 182.302 613.636 Q182.302 622.362 179.223 626.969 Q176.167 631.552 170.357 631.552 Q164.547 631.552 161.468 626.969 Q158.413 622.362 158.413 613.636 Q158.413 604.886 161.468 600.302 Q164.547 595.696 170.357 595.696 Z\" fill=\"#000000\" fill-rule=\"evenodd\" fill-opacity=\"1\" /><path clip-path=\"url(#clip490)\" d=\"M 0 0 M162.394 365.65 L170.033 365.65 L170.033 339.285 L161.723 340.952 L161.723 336.692 L169.987 335.026 L174.663 335.026 L174.663 365.65 L182.302 365.65 L182.302 369.586 L162.394 369.586 L162.394 365.65 Z\" fill=\"#000000\" fill-rule=\"evenodd\" fill-opacity=\"1\" /><path clip-path=\"url(#clip490)\" d=\"M 0 0 M1156.44 35.9153 Q1159.24 30.8922 1163.13 28.5022 Q1167.01 26.1121 1172.28 26.1121 Q1179.37 26.1121 1183.22 31.0947 Q1187.07 36.0368 1187.07 45.1919 L1187.07 72.576 L1179.57 72.576 L1179.57 45.4349 Q1179.57 38.913 1177.26 35.7533 Q1174.95 32.5936 1170.22 32.5936 Q1164.42 32.5936 1161.06 36.4419 Q1157.7 40.2903 1157.7 46.9338 L1157.7 72.576 L1150.2 72.576 L1150.2 45.4349 Q1150.2 38.8725 1147.89 35.7533 Q1145.59 32.5936 1140.76 32.5936 Q1135.05 32.5936 1131.69 36.4824 Q1128.33 40.3308 1128.33 46.9338 L1128.33 72.576 L1120.83 72.576 L1120.83 27.2059 L1128.33 27.2059 L1128.33 34.2544 Q1130.88 30.082 1134.45 28.0971 Q1138.01 26.1121 1142.91 26.1121 Q1147.85 26.1121 1151.3 28.6237 Q1154.78 31.1352 1156.44 35.9153 Z\" fill=\"#000000\" fill-rule=\"evenodd\" fill-opacity=\"1\" /><path clip-path=\"url(#clip490)\" d=\"M 0 0 M1194.12 54.671 L1194.12 27.2059 L1201.57 27.2059 L1201.57 54.3874 Q1201.57 60.8284 1204.08 64.0691 Q1206.59 67.2693 1211.62 67.2693 Q1217.65 67.2693 1221.13 63.421 Q1224.66 59.5726 1224.66 52.9291 L1224.66 27.2059 L1232.11 27.2059 L1232.11 72.576 L1224.66 72.576 L1224.66 65.6084 Q1221.95 69.7404 1218.34 71.7658 Q1214.78 73.7508 1210.04 73.7508 Q1202.22 73.7508 1198.17 68.8897 Q1194.12 64.0286 1194.12 54.671 M1212.87 26.1121 L1212.87 26.1121 Z\" fill=\"#000000\" fill-rule=\"evenodd\" fill-opacity=\"1\" /><path clip-path=\"url(#clip490)\" d=\"M 0 0 M1267.27 34.9026 L1319.21 34.9026 L1319.21 41.7081 L1267.27 41.7081 L1267.27 34.9026 M1267.27 51.4303 L1319.21 51.4303 L1319.21 58.3168 L1267.27 58.3168 L1267.27 51.4303 Z\" fill=\"#000000\" fill-rule=\"evenodd\" fill-opacity=\"1\" /><path clip-path=\"url(#clip490)\" d=\"M 0 0 M1353.72 12.096 L1361.9 12.096 L1361.9 72.576 L1353.72 72.576 L1353.72 12.096 Z\" fill=\"#000000\" fill-rule=\"evenodd\" fill-opacity=\"1\" /><path clip-path=\"url(#clip490)\" d=\"M 0 0 M1407.44 45.1919 L1407.44 72.576 L1399.98 72.576 L1399.98 45.4349 Q1399.98 38.994 1397.47 35.7938 Q1394.96 32.5936 1389.94 32.5936 Q1383.9 32.5936 1380.42 36.4419 Q1376.93 40.2903 1376.93 46.9338 L1376.93 72.576 L1369.44 72.576 L1369.44 27.2059 L1376.93 27.2059 L1376.93 34.2544 Q1379.61 30.163 1383.21 28.1376 Q1386.86 26.1121 1391.6 26.1121 Q1399.42 26.1121 1403.43 30.9732 Q1407.44 35.7938 1407.44 45.1919 Z\" fill=\"#000000\" fill-rule=\"evenodd\" fill-opacity=\"1\" /><path clip-path=\"url(#clip490)\" d=\"M 0 0 M1438.22 9.54393 L1438.22 15.7418 L1431.09 15.7418 Q1427.08 15.7418 1425.5 17.3622 Q1423.96 18.9825 1423.96 23.1955 L1423.96 27.2059 L1436.24 27.2059 L1436.24 32.9987 L1423.96 32.9987 L1423.96 72.576 L1416.47 72.576 L1416.47 32.9987 L1409.34 32.9987 L1409.34 27.2059 L1416.47 27.2059 L1416.47 24.0462 Q1416.47 16.471 1419.99 13.0277 Q1423.52 9.54393 1431.17 9.54393 L1438.22 9.54393 Z\" fill=\"#000000\" fill-rule=\"evenodd\" fill-opacity=\"1\" /><path clip-path=\"url(#clip490)\" d=\"M 0 0 M1112.3 1556.04 L1094.16 1508.52 L1100.88 1508.52 L1115.93 1548.53 L1131.02 1508.52 L1137.7 1508.52 L1119.59 1556.04 L1112.3 1556.04 Z\" fill=\"#000000\" fill-rule=\"evenodd\" fill-opacity=\"1\" /><path clip-path=\"url(#clip490)\" d=\"M 0 0 M1169.27 1536.76 L1169.27 1539.62 L1142.35 1539.62 Q1142.73 1545.67 1145.98 1548.85 Q1149.25 1552 1155.08 1552 Q1158.45 1552 1161.6 1551.17 Q1164.79 1550.35 1167.91 1548.69 L1167.91 1554.23 Q1164.76 1555.57 1161.44 1556.27 Q1158.13 1556.97 1154.73 1556.97 Q1146.2 1556.97 1141.2 1552 Q1136.24 1547.04 1136.24 1538.57 Q1136.24 1529.82 1140.95 1524.69 Q1145.69 1519.54 1153.71 1519.54 Q1160.9 1519.54 1165.07 1524.18 Q1169.27 1528.8 1169.27 1536.76 M1163.42 1535.04 Q1163.35 1530.23 1160.71 1527.37 Q1158.1 1524.5 1153.77 1524.5 Q1148.87 1524.5 1145.91 1527.27 Q1142.98 1530.04 1142.54 1535.07 L1163.42 1535.04 Z\" fill=\"#000000\" fill-rule=\"evenodd\" fill-opacity=\"1\" /><path clip-path=\"url(#clip490)\" d=\"M 0 0 M1201.07 1521.76 L1201.07 1527.24 Q1198.59 1525.87 1196.07 1525.2 Q1193.59 1524.5 1191.05 1524.5 Q1185.35 1524.5 1182.2 1528.13 Q1179.05 1531.73 1179.05 1538.25 Q1179.05 1544.78 1182.2 1548.4 Q1185.35 1552 1191.05 1552 Q1193.59 1552 1196.07 1551.33 Q1198.59 1550.63 1201.07 1549.26 L1201.07 1554.68 Q1198.62 1555.82 1195.98 1556.39 Q1193.37 1556.97 1190.41 1556.97 Q1182.36 1556.97 1177.61 1551.91 Q1172.87 1546.85 1172.87 1538.25 Q1172.87 1529.53 1177.65 1524.53 Q1182.45 1519.54 1190.79 1519.54 Q1193.5 1519.54 1196.07 1520.11 Q1198.65 1520.65 1201.07 1521.76 Z\" fill=\"#000000\" fill-rule=\"evenodd\" fill-opacity=\"1\" /><path clip-path=\"url(#clip490)\" d=\"M 0 0 M1213.01 1510.27 L1213.01 1520.4 L1225.07 1520.4 L1225.07 1524.95 L1213.01 1524.95 L1213.01 1544.3 Q1213.01 1548.66 1214.18 1549.9 Q1215.39 1551.14 1219.05 1551.14 L1225.07 1551.14 L1225.07 1556.04 L1219.05 1556.04 Q1212.28 1556.04 1209.7 1553.53 Q1207.12 1550.98 1207.12 1544.3 L1207.12 1524.95 L1202.82 1524.95 L1202.82 1520.4 L1207.12 1520.4 L1207.12 1510.27 L1213.01 1510.27 Z\" fill=\"#000000\" fill-rule=\"evenodd\" fill-opacity=\"1\" /><path clip-path=\"url(#clip490)\" d=\"M 0 0 M1245.03 1524.5 Q1240.32 1524.5 1237.58 1528.19 Q1234.84 1531.85 1234.84 1538.25 Q1234.84 1544.65 1237.55 1548.34 Q1240.28 1552 1245.03 1552 Q1249.71 1552 1252.44 1548.31 Q1255.18 1544.62 1255.18 1538.25 Q1255.18 1531.92 1252.44 1528.23 Q1249.71 1524.5 1245.03 1524.5 M1245.03 1519.54 Q1252.67 1519.54 1257.03 1524.5 Q1261.39 1529.47 1261.39 1538.25 Q1261.39 1547 1257.03 1552 Q1252.67 1556.97 1245.03 1556.97 Q1237.36 1556.97 1233 1552 Q1228.67 1547 1228.67 1538.25 Q1228.67 1529.47 1233 1524.5 Q1237.36 1519.54 1245.03 1519.54 Z\" fill=\"#000000\" fill-rule=\"evenodd\" fill-opacity=\"1\" /><path clip-path=\"url(#clip490)\" d=\"M 0 0 M1288.19 1525.87 Q1287.2 1525.3 1286.02 1525.04 Q1284.88 1524.76 1283.48 1524.76 Q1278.51 1524.76 1275.84 1528 Q1273.19 1531.22 1273.19 1537.27 L1273.19 1556.04 L1267.31 1556.04 L1267.31 1520.4 L1273.19 1520.4 L1273.19 1525.93 Q1275.04 1522.69 1278 1521.13 Q1280.96 1519.54 1285.19 1519.54 Q1285.8 1519.54 1286.53 1519.63 Q1287.26 1519.7 1288.15 1519.85 L1288.19 1525.87 Z\" fill=\"#000000\" fill-rule=\"evenodd\" fill-opacity=\"1\" /><path clip-path=\"url(#clip490)\" d=\"M 0 0 M1315.3 1508.52 L1321.73 1508.52 L1321.73 1556.04 L1315.3 1556.04 L1315.3 1508.52 Z\" fill=\"#000000\" fill-rule=\"evenodd\" fill-opacity=\"1\" /><path clip-path=\"url(#clip490)\" d=\"M 0 0 M1357.51 1534.53 L1357.51 1556.04 L1351.65 1556.04 L1351.65 1534.72 Q1351.65 1529.66 1349.68 1527.14 Q1347.71 1524.63 1343.76 1524.63 Q1339.02 1524.63 1336.28 1527.65 Q1333.54 1530.68 1333.54 1535.9 L1333.54 1556.04 L1327.65 1556.04 L1327.65 1520.4 L1333.54 1520.4 L1333.54 1525.93 Q1335.64 1522.72 1338.48 1521.13 Q1341.34 1519.54 1345.06 1519.54 Q1351.21 1519.54 1354.36 1523.36 Q1357.51 1527.14 1357.51 1534.53 Z\" fill=\"#000000\" fill-rule=\"evenodd\" fill-opacity=\"1\" /><path clip-path=\"url(#clip490)\" d=\"M 0 0 M1387.11 1525.81 L1387.11 1506.52 L1392.97 1506.52 L1392.97 1556.04 L1387.11 1556.04 L1387.11 1550.7 Q1385.26 1553.88 1382.43 1555.44 Q1379.63 1556.97 1375.68 1556.97 Q1369.22 1556.97 1365.15 1551.81 Q1361.11 1546.65 1361.11 1538.25 Q1361.11 1529.85 1365.15 1524.69 Q1369.22 1519.54 1375.68 1519.54 Q1379.63 1519.54 1382.43 1521.1 Q1385.26 1522.62 1387.11 1525.81 M1367.15 1538.25 Q1367.15 1544.71 1369.79 1548.4 Q1372.47 1552.07 1377.11 1552.07 Q1381.76 1552.07 1384.44 1548.4 Q1387.11 1544.71 1387.11 1538.25 Q1387.11 1531.79 1384.44 1528.13 Q1381.76 1524.44 1377.11 1524.44 Q1372.47 1524.44 1369.79 1528.13 Q1367.15 1531.79 1367.15 1538.25 Z\" fill=\"#000000\" fill-rule=\"evenodd\" fill-opacity=\"1\" /><path clip-path=\"url(#clip490)\" d=\"M 0 0 M1429.6 1536.76 L1429.6 1539.62 L1402.67 1539.62 Q1403.06 1545.67 1406.3 1548.85 Q1409.58 1552 1415.4 1552 Q1418.78 1552 1421.93 1551.17 Q1425.11 1550.35 1428.23 1548.69 L1428.23 1554.23 Q1425.08 1555.57 1421.77 1556.27 Q1418.46 1556.97 1415.05 1556.97 Q1406.52 1556.97 1401.53 1552 Q1396.56 1547.04 1396.56 1538.57 Q1396.56 1529.82 1401.27 1524.69 Q1406.02 1519.54 1414.04 1519.54 Q1421.23 1519.54 1425.4 1524.18 Q1429.6 1528.8 1429.6 1536.76 M1423.74 1535.04 Q1423.68 1530.23 1421.04 1527.37 Q1418.43 1524.5 1414.1 1524.5 Q1409.2 1524.5 1406.24 1527.27 Q1403.31 1530.04 1402.86 1535.07 L1423.74 1535.04 Z\" fill=\"#000000\" fill-rule=\"evenodd\" fill-opacity=\"1\" /><path clip-path=\"url(#clip490)\" d=\"M 0 0 M1464.23 1520.4 L1451.34 1537.74 L1464.9 1556.04 L1457.99 1556.04 L1447.62 1542.04 L1437.24 1556.04 L1430.33 1556.04 L1444.18 1537.39 L1431.51 1520.4 L1438.42 1520.4 L1447.87 1533.1 L1457.32 1520.4 L1464.23 1520.4 Z\" fill=\"#000000\" fill-rule=\"evenodd\" fill-opacity=\"1\" /><path clip-path=\"url(#clip490)\" d=\"M 0 0 M88.0042 833.45 L40.4842 851.592 L40.4842 844.877 L80.4926 829.822 L40.4842 814.735 L40.4842 808.051 L88.0042 826.161 L88.0042 833.45 Z\" fill=\"#000000\" fill-rule=\"evenodd\" fill-opacity=\"1\" /><path clip-path=\"url(#clip490)\" d=\"M 0 0 M70.0847 790.768 Q70.0847 797.866 71.7079 800.603 Q73.3312 803.34 77.2461 803.34 Q80.3653 803.34 82.2114 801.303 Q84.0256 799.234 84.0256 795.701 Q84.0256 790.832 80.5881 787.903 Q77.1188 784.943 71.3897 784.943 L70.0847 784.943 L70.0847 790.768 M67.6657 779.087 L88.0042 779.087 L88.0042 784.943 L82.5933 784.943 Q85.8398 786.949 87.3994 789.94 Q88.9272 792.932 88.9272 797.261 Q88.9272 802.736 85.8716 805.982 Q82.7843 809.197 77.6281 809.197 Q71.6125 809.197 68.5569 805.186 Q65.5014 801.144 65.5014 793.155 L65.5014 784.943 L64.9285 784.943 Q60.8862 784.943 58.6901 787.617 Q56.4621 790.259 56.4621 795.065 Q56.4621 798.12 57.1941 801.017 Q57.9262 803.913 59.3903 806.587 L53.9795 806.587 Q52.7381 803.372 52.1334 800.348 Q51.4968 797.325 51.4968 794.46 Q51.4968 786.726 55.5072 782.906 Q59.5176 779.087 67.6657 779.087 Z\" fill=\"#000000\" fill-rule=\"evenodd\" fill-opacity=\"1\" /><path clip-path=\"url(#clip490)\" d=\"M 0 0 M38.479 772.944 L38.479 767.088 L88.0042 767.088 L88.0042 772.944 L38.479 772.944 Z\" fill=\"#000000\" fill-rule=\"evenodd\" fill-opacity=\"1\" /><path clip-path=\"url(#clip490)\" d=\"M 0 0 M73.9359 761.549 L52.3562 761.549 L52.3562 755.693 L73.7131 755.693 Q78.7739 755.693 81.3202 753.72 Q83.8346 751.746 83.8346 747.8 Q83.8346 743.057 80.8109 740.32 Q77.7872 737.551 72.5673 737.551 L52.3562 737.551 L52.3562 731.694 L88.0042 731.694 L88.0042 737.551 L82.5296 737.551 Q85.7762 739.683 87.3676 742.516 Q88.9272 745.317 88.9272 749.041 Q88.9272 755.184 85.1078 758.367 Q81.2883 761.549 73.9359 761.549 M51.4968 746.813 L51.4968 746.813 Z\" fill=\"#000000\" fill-rule=\"evenodd\" fill-opacity=\"1\" /><path clip-path=\"url(#clip490)\" d=\"M 0 0 M68.7161 695.06 L71.5806 695.06 L71.5806 721.987 Q77.6281 721.605 80.8109 718.358 Q83.9619 715.08 83.9619 709.255 Q83.9619 705.881 83.1344 702.73 Q82.3069 699.547 80.6518 696.428 L86.1899 696.428 Q87.5267 699.579 88.227 702.889 Q88.9272 706.2 88.9272 709.605 Q88.9272 718.135 83.9619 723.132 Q78.9967 728.098 70.5303 728.098 Q61.7774 728.098 56.6531 723.387 Q51.4968 718.645 51.4968 710.624 Q51.4968 703.431 56.1438 699.261 Q60.7589 695.06 68.7161 695.06 M66.9973 700.916 Q62.1912 700.98 59.3266 703.621 Q56.4621 706.231 56.4621 710.56 Q56.4621 715.462 59.2312 718.422 Q62.0002 721.35 67.0292 721.796 L66.9973 700.916 Z\" fill=\"#000000\" fill-rule=\"evenodd\" fill-opacity=\"1\" /><polyline clip-path=\"url(#clip492)\" style=\"stroke:#009af9; stroke-width:12; stroke-opacity:1; fill:none\" stroke-dasharray=\"6, 12\" points=\"\n",
       "  267.05,1386.4 307.549,1346.62 348.049,1270.43 388.548,1260.02 429.047,1108.32 469.546,1125.3 510.045,999.913 550.544,916.688 591.043,790.428 631.542,862.494 \n",
       "  672.042,791.207 712.541,657.082 753.04,557.181 793.539,624.646 834.038,682.815 874.537,669.177 915.036,676.376 955.536,568.795 996.035,713.222 1036.53,652.762 \n",
       "  1077.03,716.937 1117.53,752.906 1158.03,660.672 1198.53,585.208 1239.03,730.558 1279.53,658.726 1320.03,566.458 1360.53,494.095 1401.03,561.935 1441.53,530.12 \n",
       "  1482.02,443.286 1522.52,577.892 1563.02,438.498 1603.52,474.49 1644.02,601.779 1684.52,547.297 1725.02,534.554 1765.52,621.773 1806.02,600.823 1846.52,652.198 \n",
       "  1887.02,650.598 1927.51,634.477 1968.01,660.271 2008.51,598.864 2049.01,498.289 2089.51,372.361 2130.01,414.25 2170.51,217.399 2211.01,308.844 2251.51,160.256 \n",
       "  2292.01,240.402 \n",
       "  \"/>\n",
       "<polyline clip-path=\"url(#clip492)\" style=\"stroke:#e26f46; stroke-width:4; stroke-opacity:1; fill:none\" points=\"\n",
       "  267.05,1041.23 307.549,1026.38 348.049,1011.53 388.548,996.673 429.047,981.821 469.546,966.969 510.045,952.116 550.544,937.264 591.043,922.412 631.542,907.56 \n",
       "  672.042,892.707 712.541,877.855 753.04,863.003 793.539,848.15 834.038,833.298 874.537,818.446 915.036,803.594 955.536,788.741 996.035,773.889 1036.53,759.037 \n",
       "  1077.03,744.184 1117.53,729.332 1158.03,714.48 1198.53,699.628 1239.03,684.775 1279.53,669.923 1320.03,655.071 1360.53,640.218 1401.03,625.366 1441.53,610.514 \n",
       "  1482.02,595.662 1522.52,580.809 1563.02,565.957 1603.52,551.105 1644.02,536.253 1684.52,521.4 1725.02,506.548 1765.52,491.696 1806.02,476.843 1846.52,461.991 \n",
       "  1887.02,447.139 1927.51,432.287 1968.01,417.434 2008.51,402.582 2049.01,387.73 2089.51,372.877 2130.01,358.025 2170.51,343.173 2211.01,328.321 2251.51,313.468 \n",
       "  2292.01,298.616 \n",
       "  \"/>\n",
       "<path clip-path=\"url(#clip490)\" d=\"\n",
       "M2019.54 348.236 L2281.21 348.236 L2281.21 166.796 L2019.54 166.796  Z\n",
       "  \" fill=\"#ffffff\" fill-rule=\"evenodd\" fill-opacity=\"1\"/>\n",
       "<polyline clip-path=\"url(#clip490)\" style=\"stroke:#000000; stroke-width:4; stroke-opacity:1; fill:none\" points=\"\n",
       "  2019.54,348.236 2281.21,348.236 2281.21,166.796 2019.54,166.796 2019.54,348.236 \n",
       "  \"/>\n",
       "<polyline clip-path=\"url(#clip490)\" style=\"stroke:#009af9; stroke-width:4; stroke-opacity:1; fill:none\" stroke-dasharray=\"2, 4\" points=\"\n",
       "  2043.39,227.276 2186.49,227.276 \n",
       "  \"/>\n",
       "<path clip-path=\"url(#clip490)\" d=\"M 0 0 M2226.84 208.537 L2226.84 212.079 L2222.77 212.079 Q2220.48 212.079 2219.57 213.005 Q2218.69 213.931 2218.69 216.338 L2218.69 218.63 L2225.71 218.63 L2225.71 221.94 L2218.69 221.94 L2218.69 244.556 L2214.41 244.556 L2214.41 221.94 L2210.34 221.94 L2210.34 218.63 L2214.41 218.63 L2214.41 216.824 Q2214.41 212.496 2216.43 210.528 Q2218.44 208.537 2222.81 208.537 L2226.84 208.537 Z\" fill=\"#000000\" fill-rule=\"evenodd\" fill-opacity=\"1\" /><polyline clip-path=\"url(#clip490)\" style=\"stroke:#e26f46; stroke-width:4; stroke-opacity:1; fill:none\" points=\"\n",
       "  2043.39,287.756 2186.49,287.756 \n",
       "  \"/>\n",
       "<path clip-path=\"url(#clip490)\" d=\"M 0 0 M2229.25 291.772 Q2229.25 287.142 2227.33 284.596 Q2225.43 282.05 2221.98 282.05 Q2218.55 282.05 2216.63 284.596 Q2214.74 287.142 2214.74 291.772 Q2214.74 296.378 2216.63 298.925 Q2218.55 301.471 2221.98 301.471 Q2225.43 301.471 2227.33 298.925 Q2229.25 296.378 2229.25 291.772 M2233.51 301.818 Q2233.51 308.438 2230.57 311.656 Q2227.63 314.897 2221.56 314.897 Q2219.32 314.897 2217.33 314.55 Q2215.34 314.225 2213.46 313.531 L2213.46 309.388 Q2215.34 310.406 2217.17 310.892 Q2218.99 311.378 2220.89 311.378 Q2225.08 311.378 2227.17 309.179 Q2229.25 307.003 2229.25 302.582 L2229.25 300.476 Q2227.93 302.767 2225.87 303.901 Q2223.81 305.036 2220.94 305.036 Q2216.17 305.036 2213.25 301.401 Q2210.34 297.767 2210.34 291.772 Q2210.34 285.753 2213.25 282.119 Q2216.17 278.485 2220.94 278.485 Q2223.81 278.485 2225.87 279.619 Q2227.93 280.753 2229.25 283.045 L2229.25 279.11 L2233.51 279.11 L2233.51 301.818 Z\" fill=\"#000000\" fill-rule=\"evenodd\" fill-opacity=\"1\" /></svg>\n"
      ]
     },
     "metadata": {},
     "output_type": "display_data"
    },
    {
     "data": {
      "image/svg+xml": [
       "<?xml version=\"1.0\" encoding=\"utf-8\"?>\n",
       "<svg xmlns=\"http://www.w3.org/2000/svg\" xmlns:xlink=\"http://www.w3.org/1999/xlink\" width=\"600\" height=\"400\" viewBox=\"0 0 2400 1600\">\n",
       "<defs>\n",
       "  <clipPath id=\"clip530\">\n",
       "    <rect x=\"0\" y=\"0\" width=\"2400\" height=\"1600\"/>\n",
       "  </clipPath>\n",
       "</defs>\n",
       "<path clip-path=\"url(#clip530)\" d=\"\n",
       "M0 1600 L2400 1600 L2400 0 L0 0  Z\n",
       "  \" fill=\"#ffffff\" fill-rule=\"evenodd\" fill-opacity=\"1\"/>\n",
       "<defs>\n",
       "  <clipPath id=\"clip531\">\n",
       "    <rect x=\"480\" y=\"0\" width=\"1681\" height=\"1600\"/>\n",
       "  </clipPath>\n",
       "</defs>\n",
       "<path clip-path=\"url(#clip530)\" d=\"\n",
       "M206.302 1423.18 L2352.76 1423.18 L2352.76 123.472 L206.302 123.472  Z\n",
       "  \" fill=\"#ffffff\" fill-rule=\"evenodd\" fill-opacity=\"1\"/>\n",
       "<defs>\n",
       "  <clipPath id=\"clip532\">\n",
       "    <rect x=\"206\" y=\"123\" width=\"2147\" height=\"1301\"/>\n",
       "  </clipPath>\n",
       "</defs>\n",
       "<polyline clip-path=\"url(#clip532)\" style=\"stroke:#000000; stroke-width:2; stroke-opacity:0.1; fill:none\" points=\"\n",
       "  226.551,1423.18 226.551,123.472 \n",
       "  \"/>\n",
       "<polyline clip-path=\"url(#clip532)\" style=\"stroke:#000000; stroke-width:2; stroke-opacity:0.1; fill:none\" points=\"\n",
       "  631.542,1423.18 631.542,123.472 \n",
       "  \"/>\n",
       "<polyline clip-path=\"url(#clip532)\" style=\"stroke:#000000; stroke-width:2; stroke-opacity:0.1; fill:none\" points=\"\n",
       "  1036.53,1423.18 1036.53,123.472 \n",
       "  \"/>\n",
       "<polyline clip-path=\"url(#clip532)\" style=\"stroke:#000000; stroke-width:2; stroke-opacity:0.1; fill:none\" points=\"\n",
       "  1441.53,1423.18 1441.53,123.472 \n",
       "  \"/>\n",
       "<polyline clip-path=\"url(#clip532)\" style=\"stroke:#000000; stroke-width:2; stroke-opacity:0.1; fill:none\" points=\"\n",
       "  1846.52,1423.18 1846.52,123.472 \n",
       "  \"/>\n",
       "<polyline clip-path=\"url(#clip532)\" style=\"stroke:#000000; stroke-width:2; stroke-opacity:0.1; fill:none\" points=\"\n",
       "  2251.51,1423.18 2251.51,123.472 \n",
       "  \"/>\n",
       "<polyline clip-path=\"url(#clip532)\" style=\"stroke:#000000; stroke-width:2; stroke-opacity:0.1; fill:none\" points=\"\n",
       "  206.302,1393.64 2352.76,1393.64 \n",
       "  \"/>\n",
       "<polyline clip-path=\"url(#clip532)\" style=\"stroke:#000000; stroke-width:2; stroke-opacity:0.1; fill:none\" points=\"\n",
       "  206.302,1133.16 2352.76,1133.16 \n",
       "  \"/>\n",
       "<polyline clip-path=\"url(#clip532)\" style=\"stroke:#000000; stroke-width:2; stroke-opacity:0.1; fill:none\" points=\"\n",
       "  206.302,872.673 2352.76,872.673 \n",
       "  \"/>\n",
       "<polyline clip-path=\"url(#clip532)\" style=\"stroke:#000000; stroke-width:2; stroke-opacity:0.1; fill:none\" points=\"\n",
       "  206.302,612.191 2352.76,612.191 \n",
       "  \"/>\n",
       "<polyline clip-path=\"url(#clip532)\" style=\"stroke:#000000; stroke-width:2; stroke-opacity:0.1; fill:none\" points=\"\n",
       "  206.302,351.708 2352.76,351.708 \n",
       "  \"/>\n",
       "<polyline clip-path=\"url(#clip530)\" style=\"stroke:#000000; stroke-width:4; stroke-opacity:1; fill:none\" points=\"\n",
       "  206.302,1423.18 2352.76,1423.18 \n",
       "  \"/>\n",
       "<polyline clip-path=\"url(#clip530)\" style=\"stroke:#000000; stroke-width:4; stroke-opacity:1; fill:none\" points=\"\n",
       "  206.302,1423.18 206.302,123.472 \n",
       "  \"/>\n",
       "<polyline clip-path=\"url(#clip530)\" style=\"stroke:#000000; stroke-width:4; stroke-opacity:1; fill:none\" points=\"\n",
       "  226.551,1423.18 226.551,1407.58 \n",
       "  \"/>\n",
       "<polyline clip-path=\"url(#clip530)\" style=\"stroke:#000000; stroke-width:4; stroke-opacity:1; fill:none\" points=\"\n",
       "  631.542,1423.18 631.542,1407.58 \n",
       "  \"/>\n",
       "<polyline clip-path=\"url(#clip530)\" style=\"stroke:#000000; stroke-width:4; stroke-opacity:1; fill:none\" points=\"\n",
       "  1036.53,1423.18 1036.53,1407.58 \n",
       "  \"/>\n",
       "<polyline clip-path=\"url(#clip530)\" style=\"stroke:#000000; stroke-width:4; stroke-opacity:1; fill:none\" points=\"\n",
       "  1441.53,1423.18 1441.53,1407.58 \n",
       "  \"/>\n",
       "<polyline clip-path=\"url(#clip530)\" style=\"stroke:#000000; stroke-width:4; stroke-opacity:1; fill:none\" points=\"\n",
       "  1846.52,1423.18 1846.52,1407.58 \n",
       "  \"/>\n",
       "<polyline clip-path=\"url(#clip530)\" style=\"stroke:#000000; stroke-width:4; stroke-opacity:1; fill:none\" points=\"\n",
       "  2251.51,1423.18 2251.51,1407.58 \n",
       "  \"/>\n",
       "<polyline clip-path=\"url(#clip530)\" style=\"stroke:#000000; stroke-width:4; stroke-opacity:1; fill:none\" points=\"\n",
       "  206.302,1393.64 232.059,1393.64 \n",
       "  \"/>\n",
       "<polyline clip-path=\"url(#clip530)\" style=\"stroke:#000000; stroke-width:4; stroke-opacity:1; fill:none\" points=\"\n",
       "  206.302,1133.16 232.059,1133.16 \n",
       "  \"/>\n",
       "<polyline clip-path=\"url(#clip530)\" style=\"stroke:#000000; stroke-width:4; stroke-opacity:1; fill:none\" points=\"\n",
       "  206.302,872.673 232.059,872.673 \n",
       "  \"/>\n",
       "<polyline clip-path=\"url(#clip530)\" style=\"stroke:#000000; stroke-width:4; stroke-opacity:1; fill:none\" points=\"\n",
       "  206.302,612.191 232.059,612.191 \n",
       "  \"/>\n",
       "<polyline clip-path=\"url(#clip530)\" style=\"stroke:#000000; stroke-width:4; stroke-opacity:1; fill:none\" points=\"\n",
       "  206.302,351.708 232.059,351.708 \n",
       "  \"/>\n",
       "<path clip-path=\"url(#clip530)\" d=\"M 0 0 M226.551 1445.17 Q222.94 1445.17 221.111 1448.74 Q219.306 1452.28 219.306 1459.41 Q219.306 1466.51 221.111 1470.08 Q222.94 1473.62 226.551 1473.62 Q230.185 1473.62 231.991 1470.08 Q233.82 1466.51 233.82 1459.41 Q233.82 1452.28 231.991 1448.74 Q230.185 1445.17 226.551 1445.17 M226.551 1441.47 Q232.361 1441.47 235.417 1446.07 Q238.495 1450.66 238.495 1459.41 Q238.495 1468.13 235.417 1472.74 Q232.361 1477.32 226.551 1477.32 Q220.741 1477.32 217.662 1472.74 Q214.607 1468.13 214.607 1459.41 Q214.607 1450.66 217.662 1446.07 Q220.741 1441.47 226.551 1441.47 Z\" fill=\"#000000\" fill-rule=\"evenodd\" fill-opacity=\"1\" /><path clip-path=\"url(#clip530)\" d=\"M 0 0 M608.418 1472.72 L616.056 1472.72 L616.056 1446.35 L607.746 1448.02 L607.746 1443.76 L616.01 1442.09 L620.686 1442.09 L620.686 1472.72 L628.325 1472.72 L628.325 1476.65 L608.418 1476.65 L608.418 1472.72 Z\" fill=\"#000000\" fill-rule=\"evenodd\" fill-opacity=\"1\" /><path clip-path=\"url(#clip530)\" d=\"M 0 0 M643.394 1445.17 Q639.783 1445.17 637.954 1448.74 Q636.149 1452.28 636.149 1459.41 Q636.149 1466.51 637.954 1470.08 Q639.783 1473.62 643.394 1473.62 Q647.029 1473.62 648.834 1470.08 Q650.663 1466.51 650.663 1459.41 Q650.663 1452.28 648.834 1448.74 Q647.029 1445.17 643.394 1445.17 M643.394 1441.47 Q649.204 1441.47 652.26 1446.07 Q655.339 1450.66 655.339 1459.41 Q655.339 1468.13 652.26 1472.74 Q649.204 1477.32 643.394 1477.32 Q637.584 1477.32 634.505 1472.74 Q631.45 1468.13 631.45 1459.41 Q631.45 1450.66 634.505 1446.07 Q637.584 1441.47 643.394 1441.47 Z\" fill=\"#000000\" fill-rule=\"evenodd\" fill-opacity=\"1\" /><path clip-path=\"url(#clip530)\" d=\"M 0 0 M1017.68 1472.72 L1034 1472.72 L1034 1476.65 L1012.05 1476.65 L1012.05 1472.72 Q1014.72 1469.96 1019.3 1465.33 Q1023.91 1460.68 1025.09 1459.34 Q1027.33 1456.81 1028.21 1455.08 Q1029.11 1453.32 1029.11 1451.63 Q1029.11 1448.87 1027.17 1447.14 Q1025.25 1445.4 1022.15 1445.4 Q1019.95 1445.4 1017.49 1446.17 Q1015.06 1446.93 1012.29 1448.48 L1012.29 1443.76 Q1015.11 1442.62 1017.56 1442.05 Q1020.02 1441.47 1022.05 1441.47 Q1027.43 1441.47 1030.62 1444.15 Q1033.81 1446.84 1033.81 1451.33 Q1033.81 1453.46 1033 1455.38 Q1032.22 1457.28 1030.11 1459.87 Q1029.53 1460.54 1026.43 1463.76 Q1023.33 1466.95 1017.68 1472.72 Z\" fill=\"#000000\" fill-rule=\"evenodd\" fill-opacity=\"1\" /><path clip-path=\"url(#clip530)\" d=\"M 0 0 M1049.07 1445.17 Q1045.46 1445.17 1043.63 1448.74 Q1041.82 1452.28 1041.82 1459.41 Q1041.82 1466.51 1043.63 1470.08 Q1045.46 1473.62 1049.07 1473.62 Q1052.7 1473.62 1054.51 1470.08 Q1056.34 1466.51 1056.34 1459.41 Q1056.34 1452.28 1054.51 1448.74 Q1052.7 1445.17 1049.07 1445.17 M1049.07 1441.47 Q1054.88 1441.47 1057.93 1446.07 Q1061.01 1450.66 1061.01 1459.41 Q1061.01 1468.13 1057.93 1472.74 Q1054.88 1477.32 1049.07 1477.32 Q1043.26 1477.32 1040.18 1472.74 Q1037.12 1468.13 1037.12 1459.41 Q1037.12 1450.66 1040.18 1446.07 Q1043.26 1441.47 1049.07 1441.47 Z\" fill=\"#000000\" fill-rule=\"evenodd\" fill-opacity=\"1\" /><path clip-path=\"url(#clip530)\" d=\"M 0 0 M1432.27 1458.02 Q1435.62 1458.74 1437.5 1461 Q1439.4 1463.27 1439.4 1466.61 Q1439.4 1471.72 1435.88 1474.52 Q1432.36 1477.32 1425.88 1477.32 Q1423.7 1477.32 1421.39 1476.88 Q1419.09 1476.47 1416.64 1475.61 L1416.64 1471.1 Q1418.59 1472.23 1420.9 1472.81 Q1423.22 1473.39 1425.74 1473.39 Q1430.14 1473.39 1432.43 1471.65 Q1434.74 1469.92 1434.74 1466.61 Q1434.74 1463.55 1432.59 1461.84 Q1430.46 1460.1 1426.64 1460.1 L1422.61 1460.1 L1422.61 1456.26 L1426.83 1456.26 Q1430.28 1456.26 1432.1 1454.89 Q1433.93 1453.5 1433.93 1450.91 Q1433.93 1448.25 1432.03 1446.84 Q1430.16 1445.4 1426.64 1445.4 Q1424.72 1445.4 1422.52 1445.82 Q1420.32 1446.24 1417.68 1447.11 L1417.68 1442.95 Q1420.34 1442.21 1422.66 1441.84 Q1425 1441.47 1427.06 1441.47 Q1432.38 1441.47 1435.48 1443.9 Q1438.59 1446.3 1438.59 1450.43 Q1438.59 1453.3 1436.94 1455.29 Q1435.3 1457.25 1432.27 1458.02 Z\" fill=\"#000000\" fill-rule=\"evenodd\" fill-opacity=\"1\" /><path clip-path=\"url(#clip530)\" d=\"M 0 0 M1454.47 1445.17 Q1450.85 1445.17 1449.03 1448.74 Q1447.22 1452.28 1447.22 1459.41 Q1447.22 1466.51 1449.03 1470.08 Q1450.85 1473.62 1454.47 1473.62 Q1458.1 1473.62 1459.9 1470.08 Q1461.73 1466.51 1461.73 1459.41 Q1461.73 1452.28 1459.9 1448.74 Q1458.1 1445.17 1454.47 1445.17 M1454.47 1441.47 Q1460.28 1441.47 1463.33 1446.07 Q1466.41 1450.66 1466.41 1459.41 Q1466.41 1468.13 1463.33 1472.74 Q1460.28 1477.32 1454.47 1477.32 Q1448.65 1477.32 1445.58 1472.74 Q1442.52 1468.13 1442.52 1459.41 Q1442.52 1450.66 1445.58 1446.07 Q1448.65 1441.47 1454.47 1441.47 Z\" fill=\"#000000\" fill-rule=\"evenodd\" fill-opacity=\"1\" /><path clip-path=\"url(#clip530)\" d=\"M 0 0 M1836.02 1446.17 L1824.21 1464.61 L1836.02 1464.61 L1836.02 1446.17 M1834.79 1442.09 L1840.67 1442.09 L1840.67 1464.61 L1845.6 1464.61 L1845.6 1468.5 L1840.67 1468.5 L1840.67 1476.65 L1836.02 1476.65 L1836.02 1468.5 L1820.42 1468.5 L1820.42 1463.99 L1834.79 1442.09 Z\" fill=\"#000000\" fill-rule=\"evenodd\" fill-opacity=\"1\" /><path clip-path=\"url(#clip530)\" d=\"M 0 0 M1860.67 1445.17 Q1857.06 1445.17 1855.23 1448.74 Q1853.43 1452.28 1853.43 1459.41 Q1853.43 1466.51 1855.23 1470.08 Q1857.06 1473.62 1860.67 1473.62 Q1864.31 1473.62 1866.11 1470.08 Q1867.94 1466.51 1867.94 1459.41 Q1867.94 1452.28 1866.11 1448.74 Q1864.31 1445.17 1860.67 1445.17 M1860.67 1441.47 Q1866.48 1441.47 1869.54 1446.07 Q1872.62 1450.66 1872.62 1459.41 Q1872.62 1468.13 1869.54 1472.74 Q1866.48 1477.32 1860.67 1477.32 Q1854.86 1477.32 1851.78 1472.74 Q1848.73 1468.13 1848.73 1459.41 Q1848.73 1450.66 1851.78 1446.07 Q1854.86 1441.47 1860.67 1441.47 Z\" fill=\"#000000\" fill-rule=\"evenodd\" fill-opacity=\"1\" /><path clip-path=\"url(#clip530)\" d=\"M 0 0 M2228.28 1442.09 L2246.64 1442.09 L2246.64 1446.03 L2232.56 1446.03 L2232.56 1454.5 Q2233.58 1454.15 2234.6 1453.99 Q2235.62 1453.8 2236.64 1453.8 Q2242.42 1453.8 2245.8 1456.98 Q2249.18 1460.15 2249.18 1465.56 Q2249.18 1471.14 2245.71 1474.24 Q2242.24 1477.32 2235.92 1477.32 Q2233.74 1477.32 2231.47 1476.95 Q2229.23 1476.58 2226.82 1475.84 L2226.82 1471.14 Q2228.9 1472.28 2231.13 1472.83 Q2233.35 1473.39 2235.83 1473.39 Q2239.83 1473.39 2242.17 1471.28 Q2244.51 1469.18 2244.51 1465.56 Q2244.51 1461.95 2242.17 1459.85 Q2239.83 1457.74 2235.83 1457.74 Q2233.95 1457.74 2232.08 1458.16 Q2230.22 1458.57 2228.28 1459.45 L2228.28 1442.09 Z\" fill=\"#000000\" fill-rule=\"evenodd\" fill-opacity=\"1\" /><path clip-path=\"url(#clip530)\" d=\"M 0 0 M2264.25 1445.17 Q2260.64 1445.17 2258.81 1448.74 Q2257.01 1452.28 2257.01 1459.41 Q2257.01 1466.51 2258.81 1470.08 Q2260.64 1473.62 2264.25 1473.62 Q2267.89 1473.62 2269.69 1470.08 Q2271.52 1466.51 2271.52 1459.41 Q2271.52 1452.28 2269.69 1448.74 Q2267.89 1445.17 2264.25 1445.17 M2264.25 1441.47 Q2270.06 1441.47 2273.12 1446.07 Q2276.2 1450.66 2276.2 1459.41 Q2276.2 1468.13 2273.12 1472.74 Q2270.06 1477.32 2264.25 1477.32 Q2258.44 1477.32 2255.36 1472.74 Q2252.31 1468.13 2252.31 1459.41 Q2252.31 1450.66 2255.36 1446.07 Q2258.44 1441.47 2264.25 1441.47 Z\" fill=\"#000000\" fill-rule=\"evenodd\" fill-opacity=\"1\" /><path clip-path=\"url(#clip530)\" d=\"M 0 0 M126.26 1394.09 L155.936 1394.09 L155.936 1398.02 L126.26 1398.02 L126.26 1394.09 Z\" fill=\"#000000\" fill-rule=\"evenodd\" fill-opacity=\"1\" /><path clip-path=\"url(#clip530)\" d=\"M 0 0 M175.172 1392.28 Q178.528 1393 180.403 1395.27 Q182.302 1397.54 182.302 1400.87 Q182.302 1405.99 178.783 1408.79 Q175.265 1411.59 168.783 1411.59 Q166.607 1411.59 164.292 1411.15 Q162.001 1410.73 159.547 1409.88 L159.547 1405.36 Q161.491 1406.5 163.806 1407.08 Q166.121 1407.65 168.644 1407.65 Q173.042 1407.65 175.334 1405.92 Q177.649 1404.18 177.649 1400.87 Q177.649 1397.82 175.496 1396.1 Q173.366 1394.37 169.547 1394.37 L165.519 1394.37 L165.519 1390.52 L169.732 1390.52 Q173.181 1390.52 175.01 1389.16 Q176.839 1387.77 176.839 1385.18 Q176.839 1382.52 174.94 1381.1 Q173.065 1379.67 169.547 1379.67 Q167.626 1379.67 165.427 1380.08 Q163.228 1380.5 160.589 1381.38 L160.589 1377.21 Q163.251 1376.47 165.566 1376.1 Q167.903 1375.73 169.964 1375.73 Q175.288 1375.73 178.39 1378.16 Q181.491 1380.57 181.491 1384.69 Q181.491 1387.56 179.848 1389.55 Q178.204 1391.52 175.172 1392.28 Z\" fill=\"#000000\" fill-rule=\"evenodd\" fill-opacity=\"1\" /><path clip-path=\"url(#clip530)\" d=\"M 0 0 M127.209 1133.61 L156.885 1133.61 L156.885 1137.54 L127.209 1137.54 L127.209 1133.61 Z\" fill=\"#000000\" fill-rule=\"evenodd\" fill-opacity=\"1\" /><path clip-path=\"url(#clip530)\" d=\"M 0 0 M165.982 1146.5 L182.302 1146.5 L182.302 1150.44 L160.357 1150.44 L160.357 1146.5 Q163.019 1143.75 167.603 1139.12 Q172.209 1134.46 173.39 1133.12 Q175.635 1130.6 176.515 1128.86 Q177.417 1127.1 177.417 1125.41 Q177.417 1122.66 175.473 1120.92 Q173.552 1119.19 170.45 1119.19 Q168.251 1119.19 165.797 1119.95 Q163.366 1120.71 160.589 1122.26 L160.589 1117.54 Q163.413 1116.41 165.866 1115.83 Q168.32 1115.25 170.357 1115.25 Q175.727 1115.25 178.922 1117.94 Q182.116 1120.62 182.116 1125.11 Q182.116 1127.24 181.306 1129.16 Q180.519 1131.06 178.413 1133.65 Q177.834 1134.32 174.732 1137.54 Q171.63 1140.74 165.982 1146.5 Z\" fill=\"#000000\" fill-rule=\"evenodd\" fill-opacity=\"1\" /><path clip-path=\"url(#clip530)\" d=\"M 0 0 M126.839 873.124 L156.515 873.124 L156.515 877.06 L126.839 877.06 L126.839 873.124 Z\" fill=\"#000000\" fill-rule=\"evenodd\" fill-opacity=\"1\" /><path clip-path=\"url(#clip530)\" d=\"M 0 0 M162.394 886.018 L170.033 886.018 L170.033 859.652 L161.723 861.319 L161.723 857.06 L169.987 855.393 L174.663 855.393 L174.663 886.018 L182.302 886.018 L182.302 889.953 L162.394 889.953 L162.394 886.018 Z\" fill=\"#000000\" fill-rule=\"evenodd\" fill-opacity=\"1\" /><path clip-path=\"url(#clip530)\" d=\"M 0 0 M170.357 597.989 Q166.746 597.989 164.917 601.554 Q163.112 605.096 163.112 612.225 Q163.112 619.332 164.917 622.897 Q166.746 626.438 170.357 626.438 Q173.991 626.438 175.797 622.897 Q177.626 619.332 177.626 612.225 Q177.626 605.096 175.797 601.554 Q173.991 597.989 170.357 597.989 M170.357 594.286 Q176.167 594.286 179.223 598.892 Q182.302 603.475 182.302 612.225 Q182.302 620.952 179.223 625.559 Q176.167 630.142 170.357 630.142 Q164.547 630.142 161.468 625.559 Q158.413 620.952 158.413 612.225 Q158.413 603.475 161.468 598.892 Q164.547 594.286 170.357 594.286 Z\" fill=\"#000000\" fill-rule=\"evenodd\" fill-opacity=\"1\" /><path clip-path=\"url(#clip530)\" d=\"M 0 0 M162.394 365.053 L170.033 365.053 L170.033 338.688 L161.723 340.354 L161.723 336.095 L169.987 334.428 L174.663 334.428 L174.663 365.053 L182.302 365.053 L182.302 368.988 L162.394 368.988 L162.394 365.053 Z\" fill=\"#000000\" fill-rule=\"evenodd\" fill-opacity=\"1\" /><path clip-path=\"url(#clip530)\" d=\"M 0 0 M1088.75 35.9153 Q1091.55 30.8922 1095.44 28.5022 Q1099.32 26.1121 1104.59 26.1121 Q1111.68 26.1121 1115.53 31.0947 Q1119.38 36.0368 1119.38 45.1919 L1119.38 72.576 L1111.88 72.576 L1111.88 45.4349 Q1111.88 38.913 1109.57 35.7533 Q1107.26 32.5936 1102.52 32.5936 Q1096.73 32.5936 1093.37 36.4419 Q1090.01 40.2903 1090.01 46.9338 L1090.01 72.576 L1082.51 72.576 L1082.51 45.4349 Q1082.51 38.8725 1080.2 35.7533 Q1077.89 32.5936 1073.07 32.5936 Q1067.36 32.5936 1064 36.4824 Q1060.64 40.3308 1060.64 46.9338 L1060.64 72.576 L1053.14 72.576 L1053.14 27.2059 L1060.64 27.2059 L1060.64 34.2544 Q1063.19 30.082 1066.75 28.0971 Q1070.32 26.1121 1075.22 26.1121 Q1080.16 26.1121 1083.61 28.6237 Q1087.09 31.1352 1088.75 35.9153 Z\" fill=\"#000000\" fill-rule=\"evenodd\" fill-opacity=\"1\" /><path clip-path=\"url(#clip530)\" d=\"M 0 0 M1126.42 54.671 L1126.42 27.2059 L1133.88 27.2059 L1133.88 54.3874 Q1133.88 60.8284 1136.39 64.0691 Q1138.9 67.2693 1143.92 67.2693 Q1149.96 67.2693 1153.44 63.421 Q1156.97 59.5726 1156.97 52.9291 L1156.97 27.2059 L1164.42 27.2059 L1164.42 72.576 L1156.97 72.576 L1156.97 65.6084 Q1154.25 69.7404 1150.65 71.7658 Q1147.08 73.7508 1142.34 73.7508 Q1134.53 73.7508 1130.48 68.8897 Q1126.42 64.0286 1126.42 54.671 M1145.18 26.1121 L1145.18 26.1121 Z\" fill=\"#000000\" fill-rule=\"evenodd\" fill-opacity=\"1\" /><path clip-path=\"url(#clip530)\" d=\"M 0 0 M1199.58 34.9026 L1251.52 34.9026 L1251.52 41.7081 L1199.58 41.7081 L1199.58 34.9026 M1199.58 51.4303 L1251.52 51.4303 L1251.52 58.3168 L1199.58 58.3168 L1199.58 51.4303 Z\" fill=\"#000000\" fill-rule=\"evenodd\" fill-opacity=\"1\" /><path clip-path=\"url(#clip530)\" d=\"M 0 0 M1288.18 65.6895 L1301.55 65.6895 L1301.55 19.5497 L1287 22.4663 L1287 15.0127 L1301.46 12.096 L1309.65 12.096 L1309.65 65.6895 L1323.02 65.6895 L1323.02 72.576 L1288.18 72.576 L1288.18 65.6895 Z\" fill=\"#000000\" fill-rule=\"evenodd\" fill-opacity=\"1\" /><path clip-path=\"url(#clip530)\" d=\"M 0 0 M1331.89 62.2867 L1340.43 62.2867 L1340.43 72.576 L1331.89 72.576 L1331.89 62.2867 Z\" fill=\"#000000\" fill-rule=\"evenodd\" fill-opacity=\"1\" /><path clip-path=\"url(#clip530)\" d=\"M 0 0 M1366.81 17.4837 Q1360.49 17.4837 1357.29 23.7221 Q1354.13 29.92 1354.13 42.3968 Q1354.13 54.833 1357.29 61.0714 Q1360.49 67.2693 1366.81 67.2693 Q1373.17 67.2693 1376.33 61.0714 Q1379.53 54.833 1379.53 42.3968 Q1379.53 29.92 1376.33 23.7221 Q1373.17 17.4837 1366.81 17.4837 M1366.81 11.0023 Q1376.97 11.0023 1382.32 19.0636 Q1387.71 27.0843 1387.71 42.3968 Q1387.71 57.6687 1382.32 65.73 Q1376.97 73.7508 1366.81 73.7508 Q1356.64 73.7508 1351.25 65.73 Q1345.9 57.6687 1345.9 42.3968 Q1345.9 27.0843 1351.25 19.0636 Q1356.64 11.0023 1366.81 11.0023 Z\" fill=\"#000000\" fill-rule=\"evenodd\" fill-opacity=\"1\" /><path clip-path=\"url(#clip530)\" d=\"M 0 0 M1434.33 48.0275 L1434.33 51.6733 L1400.06 51.6733 Q1400.55 59.3701 1404.68 63.421 Q1408.85 67.4314 1416.27 67.4314 Q1420.56 67.4314 1424.57 66.3781 Q1428.62 65.3249 1432.59 63.2184 L1432.59 70.267 Q1428.58 71.9684 1424.37 72.8596 Q1420.16 73.7508 1415.82 73.7508 Q1404.96 73.7508 1398.61 67.4314 Q1392.29 61.1119 1392.29 50.3365 Q1392.29 39.1965 1398.28 32.6746 Q1404.32 26.1121 1414.53 26.1121 Q1423.68 26.1121 1428.99 32.0264 Q1434.33 37.9003 1434.33 48.0275 M1426.88 45.84 Q1426.8 39.7232 1423.44 36.0774 Q1420.12 32.4315 1414.61 32.4315 Q1408.37 32.4315 1404.6 35.9558 Q1400.87 39.4801 1400.31 45.8805 L1426.88 45.84 Z\" fill=\"#000000\" fill-rule=\"evenodd\" fill-opacity=\"1\" /><path clip-path=\"url(#clip530)\" d=\"M 0 0 M1438.38 46.5287 L1460.22 46.5287 L1460.22 53.1722 L1438.38 53.1722 L1438.38 46.5287 Z\" fill=\"#000000\" fill-rule=\"evenodd\" fill-opacity=\"1\" /><path clip-path=\"url(#clip530)\" d=\"M 0 0 M1467.02 12.096 L1505.91 12.096 L1505.91 15.5798 L1483.96 72.576 L1475.41 72.576 L1496.07 18.9825 L1467.02 18.9825 L1467.02 12.096 Z\" fill=\"#000000\" fill-rule=\"evenodd\" fill-opacity=\"1\" /><path clip-path=\"url(#clip530)\" d=\"M 0 0 M1112.3 1556.04 L1094.16 1508.52 L1100.88 1508.52 L1115.93 1548.53 L1131.02 1508.52 L1137.7 1508.52 L1119.59 1556.04 L1112.3 1556.04 Z\" fill=\"#000000\" fill-rule=\"evenodd\" fill-opacity=\"1\" /><path clip-path=\"url(#clip530)\" d=\"M 0 0 M1169.27 1536.76 L1169.27 1539.62 L1142.35 1539.62 Q1142.73 1545.67 1145.98 1548.85 Q1149.25 1552 1155.08 1552 Q1158.45 1552 1161.6 1551.17 Q1164.79 1550.35 1167.91 1548.69 L1167.91 1554.23 Q1164.76 1555.57 1161.44 1556.27 Q1158.13 1556.97 1154.73 1556.97 Q1146.2 1556.97 1141.2 1552 Q1136.24 1547.04 1136.24 1538.57 Q1136.24 1529.82 1140.95 1524.69 Q1145.69 1519.54 1153.71 1519.54 Q1160.9 1519.54 1165.07 1524.18 Q1169.27 1528.8 1169.27 1536.76 M1163.42 1535.04 Q1163.35 1530.23 1160.71 1527.37 Q1158.1 1524.5 1153.77 1524.5 Q1148.87 1524.5 1145.91 1527.27 Q1142.98 1530.04 1142.54 1535.07 L1163.42 1535.04 Z\" fill=\"#000000\" fill-rule=\"evenodd\" fill-opacity=\"1\" /><path clip-path=\"url(#clip530)\" d=\"M 0 0 M1201.07 1521.76 L1201.07 1527.24 Q1198.59 1525.87 1196.07 1525.2 Q1193.59 1524.5 1191.05 1524.5 Q1185.35 1524.5 1182.2 1528.13 Q1179.05 1531.73 1179.05 1538.25 Q1179.05 1544.78 1182.2 1548.4 Q1185.35 1552 1191.05 1552 Q1193.59 1552 1196.07 1551.33 Q1198.59 1550.63 1201.07 1549.26 L1201.07 1554.68 Q1198.62 1555.82 1195.98 1556.39 Q1193.37 1556.97 1190.41 1556.97 Q1182.36 1556.97 1177.61 1551.91 Q1172.87 1546.85 1172.87 1538.25 Q1172.87 1529.53 1177.65 1524.53 Q1182.45 1519.54 1190.79 1519.54 Q1193.5 1519.54 1196.07 1520.11 Q1198.65 1520.65 1201.07 1521.76 Z\" fill=\"#000000\" fill-rule=\"evenodd\" fill-opacity=\"1\" /><path clip-path=\"url(#clip530)\" d=\"M 0 0 M1213.01 1510.27 L1213.01 1520.4 L1225.07 1520.4 L1225.07 1524.95 L1213.01 1524.95 L1213.01 1544.3 Q1213.01 1548.66 1214.18 1549.9 Q1215.39 1551.14 1219.05 1551.14 L1225.07 1551.14 L1225.07 1556.04 L1219.05 1556.04 Q1212.28 1556.04 1209.7 1553.53 Q1207.12 1550.98 1207.12 1544.3 L1207.12 1524.95 L1202.82 1524.95 L1202.82 1520.4 L1207.12 1520.4 L1207.12 1510.27 L1213.01 1510.27 Z\" fill=\"#000000\" fill-rule=\"evenodd\" fill-opacity=\"1\" /><path clip-path=\"url(#clip530)\" d=\"M 0 0 M1245.03 1524.5 Q1240.32 1524.5 1237.58 1528.19 Q1234.84 1531.85 1234.84 1538.25 Q1234.84 1544.65 1237.55 1548.34 Q1240.28 1552 1245.03 1552 Q1249.71 1552 1252.44 1548.31 Q1255.18 1544.62 1255.18 1538.25 Q1255.18 1531.92 1252.44 1528.23 Q1249.71 1524.5 1245.03 1524.5 M1245.03 1519.54 Q1252.67 1519.54 1257.03 1524.5 Q1261.39 1529.47 1261.39 1538.25 Q1261.39 1547 1257.03 1552 Q1252.67 1556.97 1245.03 1556.97 Q1237.36 1556.97 1233 1552 Q1228.67 1547 1228.67 1538.25 Q1228.67 1529.47 1233 1524.5 Q1237.36 1519.54 1245.03 1519.54 Z\" fill=\"#000000\" fill-rule=\"evenodd\" fill-opacity=\"1\" /><path clip-path=\"url(#clip530)\" d=\"M 0 0 M1288.19 1525.87 Q1287.2 1525.3 1286.02 1525.04 Q1284.88 1524.76 1283.48 1524.76 Q1278.51 1524.76 1275.84 1528 Q1273.19 1531.22 1273.19 1537.27 L1273.19 1556.04 L1267.31 1556.04 L1267.31 1520.4 L1273.19 1520.4 L1273.19 1525.93 Q1275.04 1522.69 1278 1521.13 Q1280.96 1519.54 1285.19 1519.54 Q1285.8 1519.54 1286.53 1519.63 Q1287.26 1519.7 1288.15 1519.85 L1288.19 1525.87 Z\" fill=\"#000000\" fill-rule=\"evenodd\" fill-opacity=\"1\" /><path clip-path=\"url(#clip530)\" d=\"M 0 0 M1315.3 1508.52 L1321.73 1508.52 L1321.73 1556.04 L1315.3 1556.04 L1315.3 1508.52 Z\" fill=\"#000000\" fill-rule=\"evenodd\" fill-opacity=\"1\" /><path clip-path=\"url(#clip530)\" d=\"M 0 0 M1357.51 1534.53 L1357.51 1556.04 L1351.65 1556.04 L1351.65 1534.72 Q1351.65 1529.66 1349.68 1527.14 Q1347.71 1524.63 1343.76 1524.63 Q1339.02 1524.63 1336.28 1527.65 Q1333.54 1530.68 1333.54 1535.9 L1333.54 1556.04 L1327.65 1556.04 L1327.65 1520.4 L1333.54 1520.4 L1333.54 1525.93 Q1335.64 1522.72 1338.48 1521.13 Q1341.34 1519.54 1345.06 1519.54 Q1351.21 1519.54 1354.36 1523.36 Q1357.51 1527.14 1357.51 1534.53 Z\" fill=\"#000000\" fill-rule=\"evenodd\" fill-opacity=\"1\" /><path clip-path=\"url(#clip530)\" d=\"M 0 0 M1387.11 1525.81 L1387.11 1506.52 L1392.97 1506.52 L1392.97 1556.04 L1387.11 1556.04 L1387.11 1550.7 Q1385.26 1553.88 1382.43 1555.44 Q1379.63 1556.97 1375.68 1556.97 Q1369.22 1556.97 1365.15 1551.81 Q1361.11 1546.65 1361.11 1538.25 Q1361.11 1529.85 1365.15 1524.69 Q1369.22 1519.54 1375.68 1519.54 Q1379.63 1519.54 1382.43 1521.1 Q1385.26 1522.62 1387.11 1525.81 M1367.15 1538.25 Q1367.15 1544.71 1369.79 1548.4 Q1372.47 1552.07 1377.11 1552.07 Q1381.76 1552.07 1384.44 1548.4 Q1387.11 1544.71 1387.11 1538.25 Q1387.11 1531.79 1384.44 1528.13 Q1381.76 1524.44 1377.11 1524.44 Q1372.47 1524.44 1369.79 1528.13 Q1367.15 1531.79 1367.15 1538.25 Z\" fill=\"#000000\" fill-rule=\"evenodd\" fill-opacity=\"1\" /><path clip-path=\"url(#clip530)\" d=\"M 0 0 M1429.6 1536.76 L1429.6 1539.62 L1402.67 1539.62 Q1403.06 1545.67 1406.3 1548.85 Q1409.58 1552 1415.4 1552 Q1418.78 1552 1421.93 1551.17 Q1425.11 1550.35 1428.23 1548.69 L1428.23 1554.23 Q1425.08 1555.57 1421.77 1556.27 Q1418.46 1556.97 1415.05 1556.97 Q1406.52 1556.97 1401.53 1552 Q1396.56 1547.04 1396.56 1538.57 Q1396.56 1529.82 1401.27 1524.69 Q1406.02 1519.54 1414.04 1519.54 Q1421.23 1519.54 1425.4 1524.18 Q1429.6 1528.8 1429.6 1536.76 M1423.74 1535.04 Q1423.68 1530.23 1421.04 1527.37 Q1418.43 1524.5 1414.1 1524.5 Q1409.2 1524.5 1406.24 1527.27 Q1403.31 1530.04 1402.86 1535.07 L1423.74 1535.04 Z\" fill=\"#000000\" fill-rule=\"evenodd\" fill-opacity=\"1\" /><path clip-path=\"url(#clip530)\" d=\"M 0 0 M1464.23 1520.4 L1451.34 1537.74 L1464.9 1556.04 L1457.99 1556.04 L1447.62 1542.04 L1437.24 1556.04 L1430.33 1556.04 L1444.18 1537.39 L1431.51 1520.4 L1438.42 1520.4 L1447.87 1533.1 L1457.32 1520.4 L1464.23 1520.4 Z\" fill=\"#000000\" fill-rule=\"evenodd\" fill-opacity=\"1\" /><path clip-path=\"url(#clip530)\" d=\"M 0 0 M88.0042 833.45 L40.4842 851.592 L40.4842 844.877 L80.4926 829.822 L40.4842 814.735 L40.4842 808.051 L88.0042 826.161 L88.0042 833.45 Z\" fill=\"#000000\" fill-rule=\"evenodd\" fill-opacity=\"1\" /><path clip-path=\"url(#clip530)\" d=\"M 0 0 M70.0847 790.768 Q70.0847 797.866 71.7079 800.603 Q73.3312 803.34 77.2461 803.34 Q80.3653 803.34 82.2114 801.303 Q84.0256 799.234 84.0256 795.701 Q84.0256 790.832 80.5881 787.903 Q77.1188 784.943 71.3897 784.943 L70.0847 784.943 L70.0847 790.768 M67.6657 779.087 L88.0042 779.087 L88.0042 784.943 L82.5933 784.943 Q85.8398 786.949 87.3994 789.94 Q88.9272 792.932 88.9272 797.261 Q88.9272 802.736 85.8716 805.982 Q82.7843 809.197 77.6281 809.197 Q71.6125 809.197 68.5569 805.186 Q65.5014 801.144 65.5014 793.155 L65.5014 784.943 L64.9285 784.943 Q60.8862 784.943 58.6901 787.617 Q56.4621 790.259 56.4621 795.065 Q56.4621 798.12 57.1941 801.017 Q57.9262 803.913 59.3903 806.587 L53.9795 806.587 Q52.7381 803.372 52.1334 800.348 Q51.4968 797.325 51.4968 794.46 Q51.4968 786.726 55.5072 782.906 Q59.5176 779.087 67.6657 779.087 Z\" fill=\"#000000\" fill-rule=\"evenodd\" fill-opacity=\"1\" /><path clip-path=\"url(#clip530)\" d=\"M 0 0 M38.479 772.944 L38.479 767.088 L88.0042 767.088 L88.0042 772.944 L38.479 772.944 Z\" fill=\"#000000\" fill-rule=\"evenodd\" fill-opacity=\"1\" /><path clip-path=\"url(#clip530)\" d=\"M 0 0 M73.9359 761.549 L52.3562 761.549 L52.3562 755.693 L73.7131 755.693 Q78.7739 755.693 81.3202 753.72 Q83.8346 751.746 83.8346 747.8 Q83.8346 743.057 80.8109 740.32 Q77.7872 737.551 72.5673 737.551 L52.3562 737.551 L52.3562 731.694 L88.0042 731.694 L88.0042 737.551 L82.5296 737.551 Q85.7762 739.683 87.3676 742.516 Q88.9272 745.317 88.9272 749.041 Q88.9272 755.184 85.1078 758.367 Q81.2883 761.549 73.9359 761.549 M51.4968 746.813 L51.4968 746.813 Z\" fill=\"#000000\" fill-rule=\"evenodd\" fill-opacity=\"1\" /><path clip-path=\"url(#clip530)\" d=\"M 0 0 M68.7161 695.06 L71.5806 695.06 L71.5806 721.987 Q77.6281 721.605 80.8109 718.358 Q83.9619 715.08 83.9619 709.255 Q83.9619 705.881 83.1344 702.73 Q82.3069 699.547 80.6518 696.428 L86.1899 696.428 Q87.5267 699.579 88.227 702.889 Q88.9272 706.2 88.9272 709.605 Q88.9272 718.135 83.9619 723.132 Q78.9967 728.098 70.5303 728.098 Q61.7774 728.098 56.6531 723.387 Q51.4968 718.645 51.4968 710.624 Q51.4968 703.431 56.1438 699.261 Q60.7589 695.06 68.7161 695.06 M66.9973 700.916 Q62.1912 700.98 59.3266 703.621 Q56.4621 706.231 56.4621 710.56 Q56.4621 715.462 59.2312 718.422 Q62.0002 721.35 67.0292 721.796 L66.9973 700.916 Z\" fill=\"#000000\" fill-rule=\"evenodd\" fill-opacity=\"1\" /><polyline clip-path=\"url(#clip532)\" style=\"stroke:#009af9; stroke-width:12; stroke-opacity:1; fill:none\" stroke-dasharray=\"6, 12\" points=\"\n",
       "  267.05,1382.58 307.549,1342.93 348.049,1266.98 388.548,1256.59 429.047,1105.37 469.546,1122.3 510.045,997.301 550.544,914.335 591.043,788.468 631.542,860.309 \n",
       "  672.042,789.244 712.541,655.536 753.04,555.946 793.539,623.201 834.038,681.19 874.537,667.594 915.036,674.77 955.536,567.524 996.035,711.502 1036.53,651.23 \n",
       "  1077.03,715.205 1117.53,751.063 1158.03,659.115 1198.53,583.887 1239.03,728.784 1279.53,657.176 1320.03,565.194 1360.53,493.056 1401.03,560.685 1441.53,528.969 \n",
       "  1482.02,442.406 1522.52,576.593 1563.02,437.632 1603.52,473.512 1644.02,600.405 1684.52,546.093 1725.02,533.39 1765.52,620.337 1806.02,599.453 1846.52,650.668 \n",
       "  1887.02,649.072 1927.51,633.002 1968.01,658.715 2008.51,597.499 2049.01,497.237 2089.51,371.702 2130.01,413.46 2170.51,217.221 2211.01,308.382 2251.51,160.256 \n",
       "  2292.01,240.153 \n",
       "  \"/>\n",
       "<polyline clip-path=\"url(#clip532)\" style=\"stroke:#e26f46; stroke-width:4; stroke-opacity:1; fill:none\" points=\"\n",
       "  267.05,1386.4 307.549,1336.52 348.049,1281.22 388.548,1224.2 429.047,1148.9 469.546,1084.8 510.045,999.535 550.544,914.012 591.043,845.958 631.542,813.556 \n",
       "  672.042,753.348 712.541,668.272 753.04,612.245 793.539,621.1 834.038,650.711 874.537,659.939 915.036,650.929 955.536,636.699 996.035,664.124 1036.53,681.839 \n",
       "  1077.03,705.766 1117.53,708.357 1158.03,675.467 1198.53,653.604 1239.03,666.05 1279.53,637.08 1320.03,580.059 1360.53,536.894 1401.03,528.382 1441.53,513.063 \n",
       "  1482.02,495.355 1522.52,502.264 1563.02,485.6 1603.52,502.732 1644.02,542.906 1684.52,553.87 1725.02,565.032 1765.52,594.755 1806.02,616.466 1846.52,639.919 \n",
       "  1887.02,650.711 1927.51,649.701 1968.01,635.423 2008.51,582.692 2049.01,499.407 2089.51,414.494 2130.01,353.798 2170.51,282.39 2211.01,250.073 2251.51,214.096 \n",
       "  2292.01,214.521 \n",
       "  \"/>\n",
       "<path clip-path=\"url(#clip530)\" d=\"\n",
       "M2019.54 348.236 L2281.21 348.236 L2281.21 166.796 L2019.54 166.796  Z\n",
       "  \" fill=\"#ffffff\" fill-rule=\"evenodd\" fill-opacity=\"1\"/>\n",
       "<polyline clip-path=\"url(#clip530)\" style=\"stroke:#000000; stroke-width:4; stroke-opacity:1; fill:none\" points=\"\n",
       "  2019.54,348.236 2281.21,348.236 2281.21,166.796 2019.54,166.796 2019.54,348.236 \n",
       "  \"/>\n",
       "<polyline clip-path=\"url(#clip530)\" style=\"stroke:#009af9; stroke-width:4; stroke-opacity:1; fill:none\" stroke-dasharray=\"2, 4\" points=\"\n",
       "  2043.39,227.276 2186.49,227.276 \n",
       "  \"/>\n",
       "<path clip-path=\"url(#clip530)\" d=\"M 0 0 M2226.84 208.537 L2226.84 212.079 L2222.77 212.079 Q2220.48 212.079 2219.57 213.005 Q2218.69 213.931 2218.69 216.338 L2218.69 218.63 L2225.71 218.63 L2225.71 221.94 L2218.69 221.94 L2218.69 244.556 L2214.41 244.556 L2214.41 221.94 L2210.34 221.94 L2210.34 218.63 L2214.41 218.63 L2214.41 216.824 Q2214.41 212.496 2216.43 210.528 Q2218.44 208.537 2222.81 208.537 L2226.84 208.537 Z\" fill=\"#000000\" fill-rule=\"evenodd\" fill-opacity=\"1\" /><polyline clip-path=\"url(#clip530)\" style=\"stroke:#e26f46; stroke-width:4; stroke-opacity:1; fill:none\" points=\"\n",
       "  2043.39,287.756 2186.49,287.756 \n",
       "  \"/>\n",
       "<path clip-path=\"url(#clip530)\" d=\"M 0 0 M2229.25 291.772 Q2229.25 287.142 2227.33 284.596 Q2225.43 282.05 2221.98 282.05 Q2218.55 282.05 2216.63 284.596 Q2214.74 287.142 2214.74 291.772 Q2214.74 296.378 2216.63 298.925 Q2218.55 301.471 2221.98 301.471 Q2225.43 301.471 2227.33 298.925 Q2229.25 296.378 2229.25 291.772 M2233.51 301.818 Q2233.51 308.438 2230.57 311.656 Q2227.63 314.897 2221.56 314.897 Q2219.32 314.897 2217.33 314.55 Q2215.34 314.225 2213.46 313.531 L2213.46 309.388 Q2215.34 310.406 2217.17 310.892 Q2218.99 311.378 2220.89 311.378 Q2225.08 311.378 2227.17 309.179 Q2229.25 307.003 2229.25 302.582 L2229.25 300.476 Q2227.93 302.767 2225.87 303.901 Q2223.81 305.036 2220.94 305.036 Q2216.17 305.036 2213.25 301.401 Q2210.34 297.767 2210.34 291.772 Q2210.34 285.753 2213.25 282.119 Q2216.17 278.485 2220.94 278.485 Q2223.81 278.485 2225.87 279.619 Q2227.93 280.753 2229.25 283.045 L2229.25 279.11 L2233.51 279.11 L2233.51 301.818 Z\" fill=\"#000000\" fill-rule=\"evenodd\" fill-opacity=\"1\" /></svg>\n"
      ]
     },
     "metadata": {},
     "output_type": "display_data"
    },
    {
     "data": {
      "image/svg+xml": [
       "<?xml version=\"1.0\" encoding=\"utf-8\"?>\n",
       "<svg xmlns=\"http://www.w3.org/2000/svg\" xmlns:xlink=\"http://www.w3.org/1999/xlink\" width=\"600\" height=\"400\" viewBox=\"0 0 2400 1600\">\n",
       "<defs>\n",
       "  <clipPath id=\"clip570\">\n",
       "    <rect x=\"0\" y=\"0\" width=\"2400\" height=\"1600\"/>\n",
       "  </clipPath>\n",
       "</defs>\n",
       "<path clip-path=\"url(#clip570)\" d=\"\n",
       "M0 1600 L2400 1600 L2400 0 L0 0  Z\n",
       "  \" fill=\"#ffffff\" fill-rule=\"evenodd\" fill-opacity=\"1\"/>\n",
       "<defs>\n",
       "  <clipPath id=\"clip571\">\n",
       "    <rect x=\"480\" y=\"0\" width=\"1681\" height=\"1600\"/>\n",
       "  </clipPath>\n",
       "</defs>\n",
       "<path clip-path=\"url(#clip570)\" d=\"\n",
       "M206.302 1423.18 L2352.76 1423.18 L2352.76 123.472 L206.302 123.472  Z\n",
       "  \" fill=\"#ffffff\" fill-rule=\"evenodd\" fill-opacity=\"1\"/>\n",
       "<defs>\n",
       "  <clipPath id=\"clip572\">\n",
       "    <rect x=\"206\" y=\"123\" width=\"2147\" height=\"1301\"/>\n",
       "  </clipPath>\n",
       "</defs>\n",
       "<polyline clip-path=\"url(#clip572)\" style=\"stroke:#000000; stroke-width:2; stroke-opacity:0.1; fill:none\" points=\"\n",
       "  226.551,1423.18 226.551,123.472 \n",
       "  \"/>\n",
       "<polyline clip-path=\"url(#clip572)\" style=\"stroke:#000000; stroke-width:2; stroke-opacity:0.1; fill:none\" points=\"\n",
       "  631.542,1423.18 631.542,123.472 \n",
       "  \"/>\n",
       "<polyline clip-path=\"url(#clip572)\" style=\"stroke:#000000; stroke-width:2; stroke-opacity:0.1; fill:none\" points=\"\n",
       "  1036.53,1423.18 1036.53,123.472 \n",
       "  \"/>\n",
       "<polyline clip-path=\"url(#clip572)\" style=\"stroke:#000000; stroke-width:2; stroke-opacity:0.1; fill:none\" points=\"\n",
       "  1441.53,1423.18 1441.53,123.472 \n",
       "  \"/>\n",
       "<polyline clip-path=\"url(#clip572)\" style=\"stroke:#000000; stroke-width:2; stroke-opacity:0.1; fill:none\" points=\"\n",
       "  1846.52,1423.18 1846.52,123.472 \n",
       "  \"/>\n",
       "<polyline clip-path=\"url(#clip572)\" style=\"stroke:#000000; stroke-width:2; stroke-opacity:0.1; fill:none\" points=\"\n",
       "  2251.51,1423.18 2251.51,123.472 \n",
       "  \"/>\n",
       "<polyline clip-path=\"url(#clip572)\" style=\"stroke:#000000; stroke-width:2; stroke-opacity:0.1; fill:none\" points=\"\n",
       "  206.302,1381.01 2352.76,1381.01 \n",
       "  \"/>\n",
       "<polyline clip-path=\"url(#clip572)\" style=\"stroke:#000000; stroke-width:2; stroke-opacity:0.1; fill:none\" points=\"\n",
       "  206.302,1123.2 2352.76,1123.2 \n",
       "  \"/>\n",
       "<polyline clip-path=\"url(#clip572)\" style=\"stroke:#000000; stroke-width:2; stroke-opacity:0.1; fill:none\" points=\"\n",
       "  206.302,865.38 2352.76,865.38 \n",
       "  \"/>\n",
       "<polyline clip-path=\"url(#clip572)\" style=\"stroke:#000000; stroke-width:2; stroke-opacity:0.1; fill:none\" points=\"\n",
       "  206.302,607.564 2352.76,607.564 \n",
       "  \"/>\n",
       "<polyline clip-path=\"url(#clip572)\" style=\"stroke:#000000; stroke-width:2; stroke-opacity:0.1; fill:none\" points=\"\n",
       "  206.302,349.748 2352.76,349.748 \n",
       "  \"/>\n",
       "<polyline clip-path=\"url(#clip570)\" style=\"stroke:#000000; stroke-width:4; stroke-opacity:1; fill:none\" points=\"\n",
       "  206.302,1423.18 2352.76,1423.18 \n",
       "  \"/>\n",
       "<polyline clip-path=\"url(#clip570)\" style=\"stroke:#000000; stroke-width:4; stroke-opacity:1; fill:none\" points=\"\n",
       "  206.302,1423.18 206.302,123.472 \n",
       "  \"/>\n",
       "<polyline clip-path=\"url(#clip570)\" style=\"stroke:#000000; stroke-width:4; stroke-opacity:1; fill:none\" points=\"\n",
       "  226.551,1423.18 226.551,1407.58 \n",
       "  \"/>\n",
       "<polyline clip-path=\"url(#clip570)\" style=\"stroke:#000000; stroke-width:4; stroke-opacity:1; fill:none\" points=\"\n",
       "  631.542,1423.18 631.542,1407.58 \n",
       "  \"/>\n",
       "<polyline clip-path=\"url(#clip570)\" style=\"stroke:#000000; stroke-width:4; stroke-opacity:1; fill:none\" points=\"\n",
       "  1036.53,1423.18 1036.53,1407.58 \n",
       "  \"/>\n",
       "<polyline clip-path=\"url(#clip570)\" style=\"stroke:#000000; stroke-width:4; stroke-opacity:1; fill:none\" points=\"\n",
       "  1441.53,1423.18 1441.53,1407.58 \n",
       "  \"/>\n",
       "<polyline clip-path=\"url(#clip570)\" style=\"stroke:#000000; stroke-width:4; stroke-opacity:1; fill:none\" points=\"\n",
       "  1846.52,1423.18 1846.52,1407.58 \n",
       "  \"/>\n",
       "<polyline clip-path=\"url(#clip570)\" style=\"stroke:#000000; stroke-width:4; stroke-opacity:1; fill:none\" points=\"\n",
       "  2251.51,1423.18 2251.51,1407.58 \n",
       "  \"/>\n",
       "<polyline clip-path=\"url(#clip570)\" style=\"stroke:#000000; stroke-width:4; stroke-opacity:1; fill:none\" points=\"\n",
       "  206.302,1381.01 232.059,1381.01 \n",
       "  \"/>\n",
       "<polyline clip-path=\"url(#clip570)\" style=\"stroke:#000000; stroke-width:4; stroke-opacity:1; fill:none\" points=\"\n",
       "  206.302,1123.2 232.059,1123.2 \n",
       "  \"/>\n",
       "<polyline clip-path=\"url(#clip570)\" style=\"stroke:#000000; stroke-width:4; stroke-opacity:1; fill:none\" points=\"\n",
       "  206.302,865.38 232.059,865.38 \n",
       "  \"/>\n",
       "<polyline clip-path=\"url(#clip570)\" style=\"stroke:#000000; stroke-width:4; stroke-opacity:1; fill:none\" points=\"\n",
       "  206.302,607.564 232.059,607.564 \n",
       "  \"/>\n",
       "<polyline clip-path=\"url(#clip570)\" style=\"stroke:#000000; stroke-width:4; stroke-opacity:1; fill:none\" points=\"\n",
       "  206.302,349.748 232.059,349.748 \n",
       "  \"/>\n",
       "<path clip-path=\"url(#clip570)\" d=\"M 0 0 M226.551 1445.17 Q222.94 1445.17 221.111 1448.74 Q219.306 1452.28 219.306 1459.41 Q219.306 1466.51 221.111 1470.08 Q222.94 1473.62 226.551 1473.62 Q230.185 1473.62 231.991 1470.08 Q233.82 1466.51 233.82 1459.41 Q233.82 1452.28 231.991 1448.74 Q230.185 1445.17 226.551 1445.17 M226.551 1441.47 Q232.361 1441.47 235.417 1446.07 Q238.495 1450.66 238.495 1459.41 Q238.495 1468.13 235.417 1472.74 Q232.361 1477.32 226.551 1477.32 Q220.741 1477.32 217.662 1472.74 Q214.607 1468.13 214.607 1459.41 Q214.607 1450.66 217.662 1446.07 Q220.741 1441.47 226.551 1441.47 Z\" fill=\"#000000\" fill-rule=\"evenodd\" fill-opacity=\"1\" /><path clip-path=\"url(#clip570)\" d=\"M 0 0 M608.418 1472.72 L616.056 1472.72 L616.056 1446.35 L607.746 1448.02 L607.746 1443.76 L616.01 1442.09 L620.686 1442.09 L620.686 1472.72 L628.325 1472.72 L628.325 1476.65 L608.418 1476.65 L608.418 1472.72 Z\" fill=\"#000000\" fill-rule=\"evenodd\" fill-opacity=\"1\" /><path clip-path=\"url(#clip570)\" d=\"M 0 0 M643.394 1445.17 Q639.783 1445.17 637.954 1448.74 Q636.149 1452.28 636.149 1459.41 Q636.149 1466.51 637.954 1470.08 Q639.783 1473.62 643.394 1473.62 Q647.029 1473.62 648.834 1470.08 Q650.663 1466.51 650.663 1459.41 Q650.663 1452.28 648.834 1448.74 Q647.029 1445.17 643.394 1445.17 M643.394 1441.47 Q649.204 1441.47 652.26 1446.07 Q655.339 1450.66 655.339 1459.41 Q655.339 1468.13 652.26 1472.74 Q649.204 1477.32 643.394 1477.32 Q637.584 1477.32 634.505 1472.74 Q631.45 1468.13 631.45 1459.41 Q631.45 1450.66 634.505 1446.07 Q637.584 1441.47 643.394 1441.47 Z\" fill=\"#000000\" fill-rule=\"evenodd\" fill-opacity=\"1\" /><path clip-path=\"url(#clip570)\" d=\"M 0 0 M1017.68 1472.72 L1034 1472.72 L1034 1476.65 L1012.05 1476.65 L1012.05 1472.72 Q1014.72 1469.96 1019.3 1465.33 Q1023.91 1460.68 1025.09 1459.34 Q1027.33 1456.81 1028.21 1455.08 Q1029.11 1453.32 1029.11 1451.63 Q1029.11 1448.87 1027.17 1447.14 Q1025.25 1445.4 1022.15 1445.4 Q1019.95 1445.4 1017.49 1446.17 Q1015.06 1446.93 1012.29 1448.48 L1012.29 1443.76 Q1015.11 1442.62 1017.56 1442.05 Q1020.02 1441.47 1022.05 1441.47 Q1027.43 1441.47 1030.62 1444.15 Q1033.81 1446.84 1033.81 1451.33 Q1033.81 1453.46 1033 1455.38 Q1032.22 1457.28 1030.11 1459.87 Q1029.53 1460.54 1026.43 1463.76 Q1023.33 1466.95 1017.68 1472.72 Z\" fill=\"#000000\" fill-rule=\"evenodd\" fill-opacity=\"1\" /><path clip-path=\"url(#clip570)\" d=\"M 0 0 M1049.07 1445.17 Q1045.46 1445.17 1043.63 1448.74 Q1041.82 1452.28 1041.82 1459.41 Q1041.82 1466.51 1043.63 1470.08 Q1045.46 1473.62 1049.07 1473.62 Q1052.7 1473.62 1054.51 1470.08 Q1056.34 1466.51 1056.34 1459.41 Q1056.34 1452.28 1054.51 1448.74 Q1052.7 1445.17 1049.07 1445.17 M1049.07 1441.47 Q1054.88 1441.47 1057.93 1446.07 Q1061.01 1450.66 1061.01 1459.41 Q1061.01 1468.13 1057.93 1472.74 Q1054.88 1477.32 1049.07 1477.32 Q1043.26 1477.32 1040.18 1472.74 Q1037.12 1468.13 1037.12 1459.41 Q1037.12 1450.66 1040.18 1446.07 Q1043.26 1441.47 1049.07 1441.47 Z\" fill=\"#000000\" fill-rule=\"evenodd\" fill-opacity=\"1\" /><path clip-path=\"url(#clip570)\" d=\"M 0 0 M1432.27 1458.02 Q1435.62 1458.74 1437.5 1461 Q1439.4 1463.27 1439.4 1466.61 Q1439.4 1471.72 1435.88 1474.52 Q1432.36 1477.32 1425.88 1477.32 Q1423.7 1477.32 1421.39 1476.88 Q1419.09 1476.47 1416.64 1475.61 L1416.64 1471.1 Q1418.59 1472.23 1420.9 1472.81 Q1423.22 1473.39 1425.74 1473.39 Q1430.14 1473.39 1432.43 1471.65 Q1434.74 1469.92 1434.74 1466.61 Q1434.74 1463.55 1432.59 1461.84 Q1430.46 1460.1 1426.64 1460.1 L1422.61 1460.1 L1422.61 1456.26 L1426.83 1456.26 Q1430.28 1456.26 1432.1 1454.89 Q1433.93 1453.5 1433.93 1450.91 Q1433.93 1448.25 1432.03 1446.84 Q1430.16 1445.4 1426.64 1445.4 Q1424.72 1445.4 1422.52 1445.82 Q1420.32 1446.24 1417.68 1447.11 L1417.68 1442.95 Q1420.34 1442.21 1422.66 1441.84 Q1425 1441.47 1427.06 1441.47 Q1432.38 1441.47 1435.48 1443.9 Q1438.59 1446.3 1438.59 1450.43 Q1438.59 1453.3 1436.94 1455.29 Q1435.3 1457.25 1432.27 1458.02 Z\" fill=\"#000000\" fill-rule=\"evenodd\" fill-opacity=\"1\" /><path clip-path=\"url(#clip570)\" d=\"M 0 0 M1454.47 1445.17 Q1450.85 1445.17 1449.03 1448.74 Q1447.22 1452.28 1447.22 1459.41 Q1447.22 1466.51 1449.03 1470.08 Q1450.85 1473.62 1454.47 1473.62 Q1458.1 1473.62 1459.9 1470.08 Q1461.73 1466.51 1461.73 1459.41 Q1461.73 1452.28 1459.9 1448.74 Q1458.1 1445.17 1454.47 1445.17 M1454.47 1441.47 Q1460.28 1441.47 1463.33 1446.07 Q1466.41 1450.66 1466.41 1459.41 Q1466.41 1468.13 1463.33 1472.74 Q1460.28 1477.32 1454.47 1477.32 Q1448.65 1477.32 1445.58 1472.74 Q1442.52 1468.13 1442.52 1459.41 Q1442.52 1450.66 1445.58 1446.07 Q1448.65 1441.47 1454.47 1441.47 Z\" fill=\"#000000\" fill-rule=\"evenodd\" fill-opacity=\"1\" /><path clip-path=\"url(#clip570)\" d=\"M 0 0 M1836.02 1446.17 L1824.21 1464.61 L1836.02 1464.61 L1836.02 1446.17 M1834.79 1442.09 L1840.67 1442.09 L1840.67 1464.61 L1845.6 1464.61 L1845.6 1468.5 L1840.67 1468.5 L1840.67 1476.65 L1836.02 1476.65 L1836.02 1468.5 L1820.42 1468.5 L1820.42 1463.99 L1834.79 1442.09 Z\" fill=\"#000000\" fill-rule=\"evenodd\" fill-opacity=\"1\" /><path clip-path=\"url(#clip570)\" d=\"M 0 0 M1860.67 1445.17 Q1857.06 1445.17 1855.23 1448.74 Q1853.43 1452.28 1853.43 1459.41 Q1853.43 1466.51 1855.23 1470.08 Q1857.06 1473.62 1860.67 1473.62 Q1864.31 1473.62 1866.11 1470.08 Q1867.94 1466.51 1867.94 1459.41 Q1867.94 1452.28 1866.11 1448.74 Q1864.31 1445.17 1860.67 1445.17 M1860.67 1441.47 Q1866.48 1441.47 1869.54 1446.07 Q1872.62 1450.66 1872.62 1459.41 Q1872.62 1468.13 1869.54 1472.74 Q1866.48 1477.32 1860.67 1477.32 Q1854.86 1477.32 1851.78 1472.74 Q1848.73 1468.13 1848.73 1459.41 Q1848.73 1450.66 1851.78 1446.07 Q1854.86 1441.47 1860.67 1441.47 Z\" fill=\"#000000\" fill-rule=\"evenodd\" fill-opacity=\"1\" /><path clip-path=\"url(#clip570)\" d=\"M 0 0 M2228.28 1442.09 L2246.64 1442.09 L2246.64 1446.03 L2232.56 1446.03 L2232.56 1454.5 Q2233.58 1454.15 2234.6 1453.99 Q2235.62 1453.8 2236.64 1453.8 Q2242.42 1453.8 2245.8 1456.98 Q2249.18 1460.15 2249.18 1465.56 Q2249.18 1471.14 2245.71 1474.24 Q2242.24 1477.32 2235.92 1477.32 Q2233.74 1477.32 2231.47 1476.95 Q2229.23 1476.58 2226.82 1475.84 L2226.82 1471.14 Q2228.9 1472.28 2231.13 1472.83 Q2233.35 1473.39 2235.83 1473.39 Q2239.83 1473.39 2242.17 1471.28 Q2244.51 1469.18 2244.51 1465.56 Q2244.51 1461.95 2242.17 1459.85 Q2239.83 1457.74 2235.83 1457.74 Q2233.95 1457.74 2232.08 1458.16 Q2230.22 1458.57 2228.28 1459.45 L2228.28 1442.09 Z\" fill=\"#000000\" fill-rule=\"evenodd\" fill-opacity=\"1\" /><path clip-path=\"url(#clip570)\" d=\"M 0 0 M2264.25 1445.17 Q2260.64 1445.17 2258.81 1448.74 Q2257.01 1452.28 2257.01 1459.41 Q2257.01 1466.51 2258.81 1470.08 Q2260.64 1473.62 2264.25 1473.62 Q2267.89 1473.62 2269.69 1470.08 Q2271.52 1466.51 2271.52 1459.41 Q2271.52 1452.28 2269.69 1448.74 Q2267.89 1445.17 2264.25 1445.17 M2264.25 1441.47 Q2270.06 1441.47 2273.12 1446.07 Q2276.2 1450.66 2276.2 1459.41 Q2276.2 1468.13 2273.12 1472.74 Q2270.06 1477.32 2264.25 1477.32 Q2258.44 1477.32 2255.36 1472.74 Q2252.31 1468.13 2252.31 1459.41 Q2252.31 1450.66 2255.36 1446.07 Q2258.44 1441.47 2264.25 1441.47 Z\" fill=\"#000000\" fill-rule=\"evenodd\" fill-opacity=\"1\" /><path clip-path=\"url(#clip570)\" d=\"M 0 0 M126.26 1381.46 L155.936 1381.46 L155.936 1385.4 L126.26 1385.4 L126.26 1381.46 Z\" fill=\"#000000\" fill-rule=\"evenodd\" fill-opacity=\"1\" /><path clip-path=\"url(#clip570)\" d=\"M 0 0 M175.172 1379.66 Q178.528 1380.37 180.403 1382.64 Q182.302 1384.91 182.302 1388.25 Q182.302 1393.36 178.783 1396.16 Q175.265 1398.96 168.783 1398.96 Q166.607 1398.96 164.292 1398.52 Q162.001 1398.11 159.547 1397.25 L159.547 1392.74 Q161.491 1393.87 163.806 1394.45 Q166.121 1395.03 168.644 1395.03 Q173.042 1395.03 175.334 1393.29 Q177.649 1391.56 177.649 1388.25 Q177.649 1385.19 175.496 1383.48 Q173.366 1381.74 169.547 1381.74 L165.519 1381.74 L165.519 1377.9 L169.732 1377.9 Q173.181 1377.9 175.01 1376.53 Q176.839 1375.14 176.839 1372.55 Q176.839 1369.89 174.94 1368.48 Q173.065 1367.04 169.547 1367.04 Q167.626 1367.04 165.427 1367.46 Q163.228 1367.87 160.589 1368.75 L160.589 1364.59 Q163.251 1363.85 165.566 1363.48 Q167.903 1363.11 169.964 1363.11 Q175.288 1363.11 178.39 1365.54 Q181.491 1367.94 181.491 1372.06 Q181.491 1374.94 179.848 1376.93 Q178.204 1378.89 175.172 1379.66 Z\" fill=\"#000000\" fill-rule=\"evenodd\" fill-opacity=\"1\" /><path clip-path=\"url(#clip570)\" d=\"M 0 0 M127.209 1123.65 L156.885 1123.65 L156.885 1127.58 L127.209 1127.58 L127.209 1123.65 Z\" fill=\"#000000\" fill-rule=\"evenodd\" fill-opacity=\"1\" /><path clip-path=\"url(#clip570)\" d=\"M 0 0 M165.982 1136.54 L182.302 1136.54 L182.302 1140.48 L160.357 1140.48 L160.357 1136.54 Q163.019 1133.79 167.603 1129.16 Q172.209 1124.5 173.39 1123.16 Q175.635 1120.64 176.515 1118.9 Q177.417 1117.14 177.417 1115.45 Q177.417 1112.7 175.473 1110.96 Q173.552 1109.23 170.45 1109.23 Q168.251 1109.23 165.797 1109.99 Q163.366 1110.75 160.589 1112.3 L160.589 1107.58 Q163.413 1106.45 165.866 1105.87 Q168.32 1105.29 170.357 1105.29 Q175.727 1105.29 178.922 1107.98 Q182.116 1110.66 182.116 1115.15 Q182.116 1117.28 181.306 1119.2 Q180.519 1121.1 178.413 1123.69 Q177.834 1124.36 174.732 1127.58 Q171.63 1130.78 165.982 1136.54 Z\" fill=\"#000000\" fill-rule=\"evenodd\" fill-opacity=\"1\" /><path clip-path=\"url(#clip570)\" d=\"M 0 0 M126.839 865.831 L156.515 865.831 L156.515 869.766 L126.839 869.766 L126.839 865.831 Z\" fill=\"#000000\" fill-rule=\"evenodd\" fill-opacity=\"1\" /><path clip-path=\"url(#clip570)\" d=\"M 0 0 M162.394 878.725 L170.033 878.725 L170.033 852.359 L161.723 854.026 L161.723 849.767 L169.987 848.1 L174.663 848.1 L174.663 878.725 L182.302 878.725 L182.302 882.66 L162.394 882.66 L162.394 878.725 Z\" fill=\"#000000\" fill-rule=\"evenodd\" fill-opacity=\"1\" /><path clip-path=\"url(#clip570)\" d=\"M 0 0 M170.357 593.363 Q166.746 593.363 164.917 596.928 Q163.112 600.469 163.112 607.599 Q163.112 614.705 164.917 618.27 Q166.746 621.812 170.357 621.812 Q173.991 621.812 175.797 618.27 Q177.626 614.705 177.626 607.599 Q177.626 600.469 175.797 596.928 Q173.991 593.363 170.357 593.363 M170.357 589.659 Q176.167 589.659 179.223 594.266 Q182.302 598.849 182.302 607.599 Q182.302 616.326 179.223 620.932 Q176.167 625.515 170.357 625.515 Q164.547 625.515 161.468 620.932 Q158.413 616.326 158.413 607.599 Q158.413 598.849 161.468 594.266 Q164.547 589.659 170.357 589.659 Z\" fill=\"#000000\" fill-rule=\"evenodd\" fill-opacity=\"1\" /><path clip-path=\"url(#clip570)\" d=\"M 0 0 M162.394 363.093 L170.033 363.093 L170.033 336.728 L161.723 338.394 L161.723 334.135 L169.987 332.468 L174.663 332.468 L174.663 363.093 L182.302 363.093 L182.302 367.028 L162.394 367.028 L162.394 363.093 Z\" fill=\"#000000\" fill-rule=\"evenodd\" fill-opacity=\"1\" /><path clip-path=\"url(#clip570)\" d=\"M 0 0 M1088.83 35.9153 Q1091.63 30.8922 1095.52 28.5022 Q1099.41 26.1121 1104.67 26.1121 Q1111.76 26.1121 1115.61 31.0947 Q1119.46 36.0368 1119.46 45.1919 L1119.46 72.576 L1111.96 72.576 L1111.96 45.4349 Q1111.96 38.913 1109.65 35.7533 Q1107.35 32.5936 1102.61 32.5936 Q1096.81 32.5936 1093.45 36.4419 Q1090.09 40.2903 1090.09 46.9338 L1090.09 72.576 L1082.59 72.576 L1082.59 45.4349 Q1082.59 38.8725 1080.28 35.7533 Q1077.98 32.5936 1073.16 32.5936 Q1067.44 32.5936 1064.08 36.4824 Q1060.72 40.3308 1060.72 46.9338 L1060.72 72.576 L1053.22 72.576 L1053.22 27.2059 L1060.72 27.2059 L1060.72 34.2544 Q1063.27 30.082 1066.84 28.0971 Q1070.4 26.1121 1075.3 26.1121 Q1080.24 26.1121 1083.69 28.6237 Q1087.17 31.1352 1088.83 35.9153 Z\" fill=\"#000000\" fill-rule=\"evenodd\" fill-opacity=\"1\" /><path clip-path=\"url(#clip570)\" d=\"M 0 0 M1126.51 54.671 L1126.51 27.2059 L1133.96 27.2059 L1133.96 54.3874 Q1133.96 60.8284 1136.47 64.0691 Q1138.98 67.2693 1144.01 67.2693 Q1150.04 67.2693 1153.53 63.421 Q1157.05 59.5726 1157.05 52.9291 L1157.05 27.2059 L1164.5 27.2059 L1164.5 72.576 L1157.05 72.576 L1157.05 65.6084 Q1154.34 69.7404 1150.73 71.7658 Q1147.17 73.7508 1142.43 73.7508 Q1134.61 73.7508 1130.56 68.8897 Q1126.51 64.0286 1126.51 54.671 M1145.26 26.1121 L1145.26 26.1121 Z\" fill=\"#000000\" fill-rule=\"evenodd\" fill-opacity=\"1\" /><path clip-path=\"url(#clip570)\" d=\"M 0 0 M1199.67 34.9026 L1251.6 34.9026 L1251.6 41.7081 L1199.67 41.7081 L1199.67 34.9026 M1199.67 51.4303 L1251.6 51.4303 L1251.6 58.3168 L1199.67 58.3168 L1199.67 51.4303 Z\" fill=\"#000000\" fill-rule=\"evenodd\" fill-opacity=\"1\" /><path clip-path=\"url(#clip570)\" d=\"M 0 0 M1288.26 65.6895 L1301.63 65.6895 L1301.63 19.5497 L1287.08 22.4663 L1287.08 15.0127 L1301.55 12.096 L1309.73 12.096 L1309.73 65.6895 L1323.1 65.6895 L1323.1 72.576 L1288.26 72.576 L1288.26 65.6895 Z\" fill=\"#000000\" fill-rule=\"evenodd\" fill-opacity=\"1\" /><path clip-path=\"url(#clip570)\" d=\"M 0 0 M1331.97 62.2867 L1340.52 62.2867 L1340.52 72.576 L1331.97 72.576 L1331.97 62.2867 Z\" fill=\"#000000\" fill-rule=\"evenodd\" fill-opacity=\"1\" /><path clip-path=\"url(#clip570)\" d=\"M 0 0 M1366.89 17.4837 Q1360.57 17.4837 1357.37 23.7221 Q1354.21 29.92 1354.21 42.3968 Q1354.21 54.833 1357.37 61.0714 Q1360.57 67.2693 1366.89 67.2693 Q1373.25 67.2693 1376.41 61.0714 Q1379.61 54.833 1379.61 42.3968 Q1379.61 29.92 1376.41 23.7221 Q1373.25 17.4837 1366.89 17.4837 M1366.89 11.0023 Q1377.05 11.0023 1382.4 19.0636 Q1387.79 27.0843 1387.79 42.3968 Q1387.79 57.6687 1382.4 65.73 Q1377.05 73.7508 1366.89 73.7508 Q1356.72 73.7508 1351.33 65.73 Q1345.98 57.6687 1345.98 42.3968 Q1345.98 27.0843 1351.33 19.0636 Q1356.72 11.0023 1366.89 11.0023 Z\" fill=\"#000000\" fill-rule=\"evenodd\" fill-opacity=\"1\" /><path clip-path=\"url(#clip570)\" d=\"M 0 0 M1434.42 48.0275 L1434.42 51.6733 L1400.14 51.6733 Q1400.63 59.3701 1404.76 63.421 Q1408.93 67.4314 1416.35 67.4314 Q1420.64 67.4314 1424.65 66.3781 Q1428.7 65.3249 1432.67 63.2184 L1432.67 70.267 Q1428.66 71.9684 1424.45 72.8596 Q1420.24 73.7508 1415.9 73.7508 Q1405.05 73.7508 1398.69 67.4314 Q1392.37 61.1119 1392.37 50.3365 Q1392.37 39.1965 1398.36 32.6746 Q1404.4 26.1121 1414.61 26.1121 Q1423.76 26.1121 1429.07 32.0264 Q1434.42 37.9003 1434.42 48.0275 M1426.96 45.84 Q1426.88 39.7232 1423.52 36.0774 Q1420.2 32.4315 1414.69 32.4315 Q1408.45 32.4315 1404.68 35.9558 Q1400.95 39.4801 1400.39 45.8805 L1426.96 45.84 Z\" fill=\"#000000\" fill-rule=\"evenodd\" fill-opacity=\"1\" /><path clip-path=\"url(#clip570)\" d=\"M 0 0 M1438.47 46.5287 L1460.3 46.5287 L1460.3 53.1722 L1438.47 53.1722 L1438.47 46.5287 Z\" fill=\"#000000\" fill-rule=\"evenodd\" fill-opacity=\"1\" /><path clip-path=\"url(#clip570)\" d=\"M 0 0 M1469.25 12.096 L1501.38 12.096 L1501.38 18.9825 L1476.75 18.9825 L1476.75 33.8088 Q1478.53 33.2012 1480.31 32.9176 Q1482.09 32.5936 1483.88 32.5936 Q1494 32.5936 1499.92 38.1433 Q1505.83 43.6931 1505.83 53.1722 Q1505.83 62.9348 1499.76 68.3631 Q1493.68 73.7508 1482.62 73.7508 Q1478.81 73.7508 1474.84 73.1026 Q1470.91 72.4545 1466.7 71.1582 L1466.7 62.9348 Q1470.35 64.9198 1474.24 65.892 Q1478.12 66.8642 1482.46 66.8642 Q1489.47 66.8642 1493.56 63.1779 Q1497.65 59.4916 1497.65 53.1722 Q1497.65 46.8528 1493.56 43.1664 Q1489.47 39.4801 1482.46 39.4801 Q1479.18 39.4801 1475.9 40.2093 Q1472.66 40.9384 1469.25 42.4778 L1469.25 12.096 Z\" fill=\"#000000\" fill-rule=\"evenodd\" fill-opacity=\"1\" /><path clip-path=\"url(#clip570)\" d=\"M 0 0 M1112.3 1556.04 L1094.16 1508.52 L1100.88 1508.52 L1115.93 1548.53 L1131.02 1508.52 L1137.7 1508.52 L1119.59 1556.04 L1112.3 1556.04 Z\" fill=\"#000000\" fill-rule=\"evenodd\" fill-opacity=\"1\" /><path clip-path=\"url(#clip570)\" d=\"M 0 0 M1169.27 1536.76 L1169.27 1539.62 L1142.35 1539.62 Q1142.73 1545.67 1145.98 1548.85 Q1149.25 1552 1155.08 1552 Q1158.45 1552 1161.6 1551.17 Q1164.79 1550.35 1167.91 1548.69 L1167.91 1554.23 Q1164.76 1555.57 1161.44 1556.27 Q1158.13 1556.97 1154.73 1556.97 Q1146.2 1556.97 1141.2 1552 Q1136.24 1547.04 1136.24 1538.57 Q1136.24 1529.82 1140.95 1524.69 Q1145.69 1519.54 1153.71 1519.54 Q1160.9 1519.54 1165.07 1524.18 Q1169.27 1528.8 1169.27 1536.76 M1163.42 1535.04 Q1163.35 1530.23 1160.71 1527.37 Q1158.1 1524.5 1153.77 1524.5 Q1148.87 1524.5 1145.91 1527.27 Q1142.98 1530.04 1142.54 1535.07 L1163.42 1535.04 Z\" fill=\"#000000\" fill-rule=\"evenodd\" fill-opacity=\"1\" /><path clip-path=\"url(#clip570)\" d=\"M 0 0 M1201.07 1521.76 L1201.07 1527.24 Q1198.59 1525.87 1196.07 1525.2 Q1193.59 1524.5 1191.05 1524.5 Q1185.35 1524.5 1182.2 1528.13 Q1179.05 1531.73 1179.05 1538.25 Q1179.05 1544.78 1182.2 1548.4 Q1185.35 1552 1191.05 1552 Q1193.59 1552 1196.07 1551.33 Q1198.59 1550.63 1201.07 1549.26 L1201.07 1554.68 Q1198.62 1555.82 1195.98 1556.39 Q1193.37 1556.97 1190.41 1556.97 Q1182.36 1556.97 1177.61 1551.91 Q1172.87 1546.85 1172.87 1538.25 Q1172.87 1529.53 1177.65 1524.53 Q1182.45 1519.54 1190.79 1519.54 Q1193.5 1519.54 1196.07 1520.11 Q1198.65 1520.65 1201.07 1521.76 Z\" fill=\"#000000\" fill-rule=\"evenodd\" fill-opacity=\"1\" /><path clip-path=\"url(#clip570)\" d=\"M 0 0 M1213.01 1510.27 L1213.01 1520.4 L1225.07 1520.4 L1225.07 1524.95 L1213.01 1524.95 L1213.01 1544.3 Q1213.01 1548.66 1214.18 1549.9 Q1215.39 1551.14 1219.05 1551.14 L1225.07 1551.14 L1225.07 1556.04 L1219.05 1556.04 Q1212.28 1556.04 1209.7 1553.53 Q1207.12 1550.98 1207.12 1544.3 L1207.12 1524.95 L1202.82 1524.95 L1202.82 1520.4 L1207.12 1520.4 L1207.12 1510.27 L1213.01 1510.27 Z\" fill=\"#000000\" fill-rule=\"evenodd\" fill-opacity=\"1\" /><path clip-path=\"url(#clip570)\" d=\"M 0 0 M1245.03 1524.5 Q1240.32 1524.5 1237.58 1528.19 Q1234.84 1531.85 1234.84 1538.25 Q1234.84 1544.65 1237.55 1548.34 Q1240.28 1552 1245.03 1552 Q1249.71 1552 1252.44 1548.31 Q1255.18 1544.62 1255.18 1538.25 Q1255.18 1531.92 1252.44 1528.23 Q1249.71 1524.5 1245.03 1524.5 M1245.03 1519.54 Q1252.67 1519.54 1257.03 1524.5 Q1261.39 1529.47 1261.39 1538.25 Q1261.39 1547 1257.03 1552 Q1252.67 1556.97 1245.03 1556.97 Q1237.36 1556.97 1233 1552 Q1228.67 1547 1228.67 1538.25 Q1228.67 1529.47 1233 1524.5 Q1237.36 1519.54 1245.03 1519.54 Z\" fill=\"#000000\" fill-rule=\"evenodd\" fill-opacity=\"1\" /><path clip-path=\"url(#clip570)\" d=\"M 0 0 M1288.19 1525.87 Q1287.2 1525.3 1286.02 1525.04 Q1284.88 1524.76 1283.48 1524.76 Q1278.51 1524.76 1275.84 1528 Q1273.19 1531.22 1273.19 1537.27 L1273.19 1556.04 L1267.31 1556.04 L1267.31 1520.4 L1273.19 1520.4 L1273.19 1525.93 Q1275.04 1522.69 1278 1521.13 Q1280.96 1519.54 1285.19 1519.54 Q1285.8 1519.54 1286.53 1519.63 Q1287.26 1519.7 1288.15 1519.85 L1288.19 1525.87 Z\" fill=\"#000000\" fill-rule=\"evenodd\" fill-opacity=\"1\" /><path clip-path=\"url(#clip570)\" d=\"M 0 0 M1315.3 1508.52 L1321.73 1508.52 L1321.73 1556.04 L1315.3 1556.04 L1315.3 1508.52 Z\" fill=\"#000000\" fill-rule=\"evenodd\" fill-opacity=\"1\" /><path clip-path=\"url(#clip570)\" d=\"M 0 0 M1357.51 1534.53 L1357.51 1556.04 L1351.65 1556.04 L1351.65 1534.72 Q1351.65 1529.66 1349.68 1527.14 Q1347.71 1524.63 1343.76 1524.63 Q1339.02 1524.63 1336.28 1527.65 Q1333.54 1530.68 1333.54 1535.9 L1333.54 1556.04 L1327.65 1556.04 L1327.65 1520.4 L1333.54 1520.4 L1333.54 1525.93 Q1335.64 1522.72 1338.48 1521.13 Q1341.34 1519.54 1345.06 1519.54 Q1351.21 1519.54 1354.36 1523.36 Q1357.51 1527.14 1357.51 1534.53 Z\" fill=\"#000000\" fill-rule=\"evenodd\" fill-opacity=\"1\" /><path clip-path=\"url(#clip570)\" d=\"M 0 0 M1387.11 1525.81 L1387.11 1506.52 L1392.97 1506.52 L1392.97 1556.04 L1387.11 1556.04 L1387.11 1550.7 Q1385.26 1553.88 1382.43 1555.44 Q1379.63 1556.97 1375.68 1556.97 Q1369.22 1556.97 1365.15 1551.81 Q1361.11 1546.65 1361.11 1538.25 Q1361.11 1529.85 1365.15 1524.69 Q1369.22 1519.54 1375.68 1519.54 Q1379.63 1519.54 1382.43 1521.1 Q1385.26 1522.62 1387.11 1525.81 M1367.15 1538.25 Q1367.15 1544.71 1369.79 1548.4 Q1372.47 1552.07 1377.11 1552.07 Q1381.76 1552.07 1384.44 1548.4 Q1387.11 1544.71 1387.11 1538.25 Q1387.11 1531.79 1384.44 1528.13 Q1381.76 1524.44 1377.11 1524.44 Q1372.47 1524.44 1369.79 1528.13 Q1367.15 1531.79 1367.15 1538.25 Z\" fill=\"#000000\" fill-rule=\"evenodd\" fill-opacity=\"1\" /><path clip-path=\"url(#clip570)\" d=\"M 0 0 M1429.6 1536.76 L1429.6 1539.62 L1402.67 1539.62 Q1403.06 1545.67 1406.3 1548.85 Q1409.58 1552 1415.4 1552 Q1418.78 1552 1421.93 1551.17 Q1425.11 1550.35 1428.23 1548.69 L1428.23 1554.23 Q1425.08 1555.57 1421.77 1556.27 Q1418.46 1556.97 1415.05 1556.97 Q1406.52 1556.97 1401.53 1552 Q1396.56 1547.04 1396.56 1538.57 Q1396.56 1529.82 1401.27 1524.69 Q1406.02 1519.54 1414.04 1519.54 Q1421.23 1519.54 1425.4 1524.18 Q1429.6 1528.8 1429.6 1536.76 M1423.74 1535.04 Q1423.68 1530.23 1421.04 1527.37 Q1418.43 1524.5 1414.1 1524.5 Q1409.2 1524.5 1406.24 1527.27 Q1403.31 1530.04 1402.86 1535.07 L1423.74 1535.04 Z\" fill=\"#000000\" fill-rule=\"evenodd\" fill-opacity=\"1\" /><path clip-path=\"url(#clip570)\" d=\"M 0 0 M1464.23 1520.4 L1451.34 1537.74 L1464.9 1556.04 L1457.99 1556.04 L1447.62 1542.04 L1437.24 1556.04 L1430.33 1556.04 L1444.18 1537.39 L1431.51 1520.4 L1438.42 1520.4 L1447.87 1533.1 L1457.32 1520.4 L1464.23 1520.4 Z\" fill=\"#000000\" fill-rule=\"evenodd\" fill-opacity=\"1\" /><path clip-path=\"url(#clip570)\" d=\"M 0 0 M88.0042 833.45 L40.4842 851.592 L40.4842 844.877 L80.4926 829.822 L40.4842 814.735 L40.4842 808.051 L88.0042 826.161 L88.0042 833.45 Z\" fill=\"#000000\" fill-rule=\"evenodd\" fill-opacity=\"1\" /><path clip-path=\"url(#clip570)\" d=\"M 0 0 M70.0847 790.768 Q70.0847 797.866 71.7079 800.603 Q73.3312 803.34 77.2461 803.34 Q80.3653 803.34 82.2114 801.303 Q84.0256 799.234 84.0256 795.701 Q84.0256 790.832 80.5881 787.903 Q77.1188 784.943 71.3897 784.943 L70.0847 784.943 L70.0847 790.768 M67.6657 779.087 L88.0042 779.087 L88.0042 784.943 L82.5933 784.943 Q85.8398 786.949 87.3994 789.94 Q88.9272 792.932 88.9272 797.261 Q88.9272 802.736 85.8716 805.982 Q82.7843 809.197 77.6281 809.197 Q71.6125 809.197 68.5569 805.186 Q65.5014 801.144 65.5014 793.155 L65.5014 784.943 L64.9285 784.943 Q60.8862 784.943 58.6901 787.617 Q56.4621 790.259 56.4621 795.065 Q56.4621 798.12 57.1941 801.017 Q57.9262 803.913 59.3903 806.587 L53.9795 806.587 Q52.7381 803.372 52.1334 800.348 Q51.4968 797.325 51.4968 794.46 Q51.4968 786.726 55.5072 782.906 Q59.5176 779.087 67.6657 779.087 Z\" fill=\"#000000\" fill-rule=\"evenodd\" fill-opacity=\"1\" /><path clip-path=\"url(#clip570)\" d=\"M 0 0 M38.479 772.944 L38.479 767.088 L88.0042 767.088 L88.0042 772.944 L38.479 772.944 Z\" fill=\"#000000\" fill-rule=\"evenodd\" fill-opacity=\"1\" /><path clip-path=\"url(#clip570)\" d=\"M 0 0 M73.9359 761.549 L52.3562 761.549 L52.3562 755.693 L73.7131 755.693 Q78.7739 755.693 81.3202 753.72 Q83.8346 751.746 83.8346 747.8 Q83.8346 743.057 80.8109 740.32 Q77.7872 737.551 72.5673 737.551 L52.3562 737.551 L52.3562 731.694 L88.0042 731.694 L88.0042 737.551 L82.5296 737.551 Q85.7762 739.683 87.3676 742.516 Q88.9272 745.317 88.9272 749.041 Q88.9272 755.184 85.1078 758.367 Q81.2883 761.549 73.9359 761.549 M51.4968 746.813 L51.4968 746.813 Z\" fill=\"#000000\" fill-rule=\"evenodd\" fill-opacity=\"1\" /><path clip-path=\"url(#clip570)\" d=\"M 0 0 M68.7161 695.06 L71.5806 695.06 L71.5806 721.987 Q77.6281 721.605 80.8109 718.358 Q83.9619 715.08 83.9619 709.255 Q83.9619 705.881 83.1344 702.73 Q82.3069 699.547 80.6518 696.428 L86.1899 696.428 Q87.5267 699.579 88.227 702.889 Q88.9272 706.2 88.9272 709.605 Q88.9272 718.135 83.9619 723.132 Q78.9967 728.098 70.5303 728.098 Q61.7774 728.098 56.6531 723.387 Q51.4968 718.645 51.4968 710.624 Q51.4968 703.431 56.1438 699.261 Q60.7589 695.06 68.7161 695.06 M66.9973 700.916 Q62.1912 700.98 59.3266 703.621 Q56.4621 706.231 56.4621 710.56 Q56.4621 715.462 59.2312 718.422 Q62.0002 721.35 67.0292 721.796 L66.9973 700.916 Z\" fill=\"#000000\" fill-rule=\"evenodd\" fill-opacity=\"1\" /><polyline clip-path=\"url(#clip572)\" style=\"stroke:#009af9; stroke-width:12; stroke-opacity:1; fill:none\" stroke-dasharray=\"6, 12\" points=\"\n",
       "  267.05,1370.07 307.549,1330.82 348.049,1255.65 388.548,1245.37 429.047,1095.69 469.546,1112.45 510.045,988.732 550.544,906.615 591.043,782.037 631.542,853.143 \n",
       "  672.042,782.805 712.541,650.466 753.04,551.895 793.539,618.462 834.038,675.857 874.537,662.4 915.036,669.503 955.536,563.355 996.035,705.859 1036.53,646.204 \n",
       "  1077.03,709.524 1117.53,745.015 1158.03,654.008 1198.53,579.55 1239.03,722.964 1279.53,652.089 1320.03,561.049 1360.53,489.649 1401.03,556.586 1441.53,525.195 \n",
       "  1482.02,439.517 1522.52,572.331 1563.02,434.793 1603.52,470.306 1644.02,595.899 1684.52,542.143 1725.02,529.57 1765.52,615.627 1806.02,594.957 1846.52,645.647 \n",
       "  1887.02,644.068 1927.51,628.162 1968.01,653.613 2008.51,593.023 2049.01,493.787 2089.51,369.537 2130.01,410.867 2170.51,216.638 2211.01,306.866 2251.51,160.256 \n",
       "  2292.01,239.335 \n",
       "  \"/>\n",
       "<polyline clip-path=\"url(#clip572)\" style=\"stroke:#e26f46; stroke-width:4; stroke-opacity:1; fill:none\" points=\"\n",
       "  267.05,1386.4 307.549,1318.88 348.049,1251.14 388.548,1183.1 429.047,1114.77 469.546,1047.03 510.045,980.5 550.544,916.723 591.043,857.361 631.542,803.93 \n",
       "  672.042,756.879 712.541,717.354 753.04,686.871 793.539,665.994 834.038,653.371 874.537,646.976 915.036,645.101 955.536,646.258 996.035,649.304 1036.53,651.92 \n",
       "  1077.03,652.59 1117.53,649.717 1158.03,642.511 1198.53,631.539 1239.03,617.526 1279.53,600.464 1320.03,581.839 1360.53,563.871 1401.03,548.486 1441.53,536.553 \n",
       "  1482.02,529.059 1522.52,526.828 1563.02,529.414 1603.52,537.015 1644.02,548.487 1684.52,561.737 1725.02,575.347 1765.52,587.62 1806.02,596.209 1846.52,599.164 \n",
       "  1887.02,594.518 1927.51,580.964 1968.01,557.898 2008.51,525.389 2049.01,484.861 2089.51,438.702 2130.01,389.426 2170.51,338.563 2211.01,287.95 2251.51,237.691 \n",
       "  2292.01,188.159 \n",
       "  \"/>\n",
       "<path clip-path=\"url(#clip570)\" d=\"\n",
       "M2019.54 348.236 L2281.21 348.236 L2281.21 166.796 L2019.54 166.796  Z\n",
       "  \" fill=\"#ffffff\" fill-rule=\"evenodd\" fill-opacity=\"1\"/>\n",
       "<polyline clip-path=\"url(#clip570)\" style=\"stroke:#000000; stroke-width:4; stroke-opacity:1; fill:none\" points=\"\n",
       "  2019.54,348.236 2281.21,348.236 2281.21,166.796 2019.54,166.796 2019.54,348.236 \n",
       "  \"/>\n",
       "<polyline clip-path=\"url(#clip570)\" style=\"stroke:#009af9; stroke-width:4; stroke-opacity:1; fill:none\" stroke-dasharray=\"2, 4\" points=\"\n",
       "  2043.39,227.276 2186.49,227.276 \n",
       "  \"/>\n",
       "<path clip-path=\"url(#clip570)\" d=\"M 0 0 M2226.84 208.537 L2226.84 212.079 L2222.77 212.079 Q2220.48 212.079 2219.57 213.005 Q2218.69 213.931 2218.69 216.338 L2218.69 218.63 L2225.71 218.63 L2225.71 221.94 L2218.69 221.94 L2218.69 244.556 L2214.41 244.556 L2214.41 221.94 L2210.34 221.94 L2210.34 218.63 L2214.41 218.63 L2214.41 216.824 Q2214.41 212.496 2216.43 210.528 Q2218.44 208.537 2222.81 208.537 L2226.84 208.537 Z\" fill=\"#000000\" fill-rule=\"evenodd\" fill-opacity=\"1\" /><polyline clip-path=\"url(#clip570)\" style=\"stroke:#e26f46; stroke-width:4; stroke-opacity:1; fill:none\" points=\"\n",
       "  2043.39,287.756 2186.49,287.756 \n",
       "  \"/>\n",
       "<path clip-path=\"url(#clip570)\" d=\"M 0 0 M2229.25 291.772 Q2229.25 287.142 2227.33 284.596 Q2225.43 282.05 2221.98 282.05 Q2218.55 282.05 2216.63 284.596 Q2214.74 287.142 2214.74 291.772 Q2214.74 296.378 2216.63 298.925 Q2218.55 301.471 2221.98 301.471 Q2225.43 301.471 2227.33 298.925 Q2229.25 296.378 2229.25 291.772 M2233.51 301.818 Q2233.51 308.438 2230.57 311.656 Q2227.63 314.897 2221.56 314.897 Q2219.32 314.897 2217.33 314.55 Q2215.34 314.225 2213.46 313.531 L2213.46 309.388 Q2215.34 310.406 2217.17 310.892 Q2218.99 311.378 2220.89 311.378 Q2225.08 311.378 2227.17 309.179 Q2229.25 307.003 2229.25 302.582 L2229.25 300.476 Q2227.93 302.767 2225.87 303.901 Q2223.81 305.036 2220.94 305.036 Q2216.17 305.036 2213.25 301.401 Q2210.34 297.767 2210.34 291.772 Q2210.34 285.753 2213.25 282.119 Q2216.17 278.485 2220.94 278.485 Q2223.81 278.485 2225.87 279.619 Q2227.93 280.753 2229.25 283.045 L2229.25 279.11 L2233.51 279.11 L2233.51 301.818 Z\" fill=\"#000000\" fill-rule=\"evenodd\" fill-opacity=\"1\" /></svg>\n"
      ]
     },
     "metadata": {},
     "output_type": "display_data"
    },
    {
     "data": {
      "image/svg+xml": [
       "<?xml version=\"1.0\" encoding=\"utf-8\"?>\n",
       "<svg xmlns=\"http://www.w3.org/2000/svg\" xmlns:xlink=\"http://www.w3.org/1999/xlink\" width=\"600\" height=\"400\" viewBox=\"0 0 2400 1600\">\n",
       "<defs>\n",
       "  <clipPath id=\"clip610\">\n",
       "    <rect x=\"0\" y=\"0\" width=\"2400\" height=\"1600\"/>\n",
       "  </clipPath>\n",
       "</defs>\n",
       "<path clip-path=\"url(#clip610)\" d=\"\n",
       "M0 1600 L2400 1600 L2400 0 L0 0  Z\n",
       "  \" fill=\"#ffffff\" fill-rule=\"evenodd\" fill-opacity=\"1\"/>\n",
       "<defs>\n",
       "  <clipPath id=\"clip611\">\n",
       "    <rect x=\"480\" y=\"0\" width=\"1681\" height=\"1600\"/>\n",
       "  </clipPath>\n",
       "</defs>\n",
       "<path clip-path=\"url(#clip610)\" d=\"\n",
       "M206.302 1423.18 L2352.76 1423.18 L2352.76 123.472 L206.302 123.472  Z\n",
       "  \" fill=\"#ffffff\" fill-rule=\"evenodd\" fill-opacity=\"1\"/>\n",
       "<defs>\n",
       "  <clipPath id=\"clip612\">\n",
       "    <rect x=\"206\" y=\"123\" width=\"2147\" height=\"1301\"/>\n",
       "  </clipPath>\n",
       "</defs>\n",
       "<polyline clip-path=\"url(#clip612)\" style=\"stroke:#000000; stroke-width:2; stroke-opacity:0.1; fill:none\" points=\"\n",
       "  226.551,1423.18 226.551,123.472 \n",
       "  \"/>\n",
       "<polyline clip-path=\"url(#clip612)\" style=\"stroke:#000000; stroke-width:2; stroke-opacity:0.1; fill:none\" points=\"\n",
       "  631.542,1423.18 631.542,123.472 \n",
       "  \"/>\n",
       "<polyline clip-path=\"url(#clip612)\" style=\"stroke:#000000; stroke-width:2; stroke-opacity:0.1; fill:none\" points=\"\n",
       "  1036.53,1423.18 1036.53,123.472 \n",
       "  \"/>\n",
       "<polyline clip-path=\"url(#clip612)\" style=\"stroke:#000000; stroke-width:2; stroke-opacity:0.1; fill:none\" points=\"\n",
       "  1441.53,1423.18 1441.53,123.472 \n",
       "  \"/>\n",
       "<polyline clip-path=\"url(#clip612)\" style=\"stroke:#000000; stroke-width:2; stroke-opacity:0.1; fill:none\" points=\"\n",
       "  1846.52,1423.18 1846.52,123.472 \n",
       "  \"/>\n",
       "<polyline clip-path=\"url(#clip612)\" style=\"stroke:#000000; stroke-width:2; stroke-opacity:0.1; fill:none\" points=\"\n",
       "  2251.51,1423.18 2251.51,123.472 \n",
       "  \"/>\n",
       "<polyline clip-path=\"url(#clip612)\" style=\"stroke:#000000; stroke-width:2; stroke-opacity:0.1; fill:none\" points=\"\n",
       "  206.302,1397.49 2352.76,1397.49 \n",
       "  \"/>\n",
       "<polyline clip-path=\"url(#clip612)\" style=\"stroke:#000000; stroke-width:2; stroke-opacity:0.1; fill:none\" points=\"\n",
       "  206.302,1136.19 2352.76,1136.19 \n",
       "  \"/>\n",
       "<polyline clip-path=\"url(#clip612)\" style=\"stroke:#000000; stroke-width:2; stroke-opacity:0.1; fill:none\" points=\"\n",
       "  206.302,874.896 2352.76,874.896 \n",
       "  \"/>\n",
       "<polyline clip-path=\"url(#clip612)\" style=\"stroke:#000000; stroke-width:2; stroke-opacity:0.1; fill:none\" points=\"\n",
       "  206.302,613.601 2352.76,613.601 \n",
       "  \"/>\n",
       "<polyline clip-path=\"url(#clip612)\" style=\"stroke:#000000; stroke-width:2; stroke-opacity:0.1; fill:none\" points=\"\n",
       "  206.302,352.306 2352.76,352.306 \n",
       "  \"/>\n",
       "<polyline clip-path=\"url(#clip610)\" style=\"stroke:#000000; stroke-width:4; stroke-opacity:1; fill:none\" points=\"\n",
       "  206.302,1423.18 2352.76,1423.18 \n",
       "  \"/>\n",
       "<polyline clip-path=\"url(#clip610)\" style=\"stroke:#000000; stroke-width:4; stroke-opacity:1; fill:none\" points=\"\n",
       "  206.302,1423.18 206.302,123.472 \n",
       "  \"/>\n",
       "<polyline clip-path=\"url(#clip610)\" style=\"stroke:#000000; stroke-width:4; stroke-opacity:1; fill:none\" points=\"\n",
       "  226.551,1423.18 226.551,1407.58 \n",
       "  \"/>\n",
       "<polyline clip-path=\"url(#clip610)\" style=\"stroke:#000000; stroke-width:4; stroke-opacity:1; fill:none\" points=\"\n",
       "  631.542,1423.18 631.542,1407.58 \n",
       "  \"/>\n",
       "<polyline clip-path=\"url(#clip610)\" style=\"stroke:#000000; stroke-width:4; stroke-opacity:1; fill:none\" points=\"\n",
       "  1036.53,1423.18 1036.53,1407.58 \n",
       "  \"/>\n",
       "<polyline clip-path=\"url(#clip610)\" style=\"stroke:#000000; stroke-width:4; stroke-opacity:1; fill:none\" points=\"\n",
       "  1441.53,1423.18 1441.53,1407.58 \n",
       "  \"/>\n",
       "<polyline clip-path=\"url(#clip610)\" style=\"stroke:#000000; stroke-width:4; stroke-opacity:1; fill:none\" points=\"\n",
       "  1846.52,1423.18 1846.52,1407.58 \n",
       "  \"/>\n",
       "<polyline clip-path=\"url(#clip610)\" style=\"stroke:#000000; stroke-width:4; stroke-opacity:1; fill:none\" points=\"\n",
       "  2251.51,1423.18 2251.51,1407.58 \n",
       "  \"/>\n",
       "<polyline clip-path=\"url(#clip610)\" style=\"stroke:#000000; stroke-width:4; stroke-opacity:1; fill:none\" points=\"\n",
       "  206.302,1397.49 232.059,1397.49 \n",
       "  \"/>\n",
       "<polyline clip-path=\"url(#clip610)\" style=\"stroke:#000000; stroke-width:4; stroke-opacity:1; fill:none\" points=\"\n",
       "  206.302,1136.19 232.059,1136.19 \n",
       "  \"/>\n",
       "<polyline clip-path=\"url(#clip610)\" style=\"stroke:#000000; stroke-width:4; stroke-opacity:1; fill:none\" points=\"\n",
       "  206.302,874.896 232.059,874.896 \n",
       "  \"/>\n",
       "<polyline clip-path=\"url(#clip610)\" style=\"stroke:#000000; stroke-width:4; stroke-opacity:1; fill:none\" points=\"\n",
       "  206.302,613.601 232.059,613.601 \n",
       "  \"/>\n",
       "<polyline clip-path=\"url(#clip610)\" style=\"stroke:#000000; stroke-width:4; stroke-opacity:1; fill:none\" points=\"\n",
       "  206.302,352.306 232.059,352.306 \n",
       "  \"/>\n",
       "<path clip-path=\"url(#clip610)\" d=\"M 0 0 M226.551 1445.17 Q222.94 1445.17 221.111 1448.74 Q219.306 1452.28 219.306 1459.41 Q219.306 1466.51 221.111 1470.08 Q222.94 1473.62 226.551 1473.62 Q230.185 1473.62 231.991 1470.08 Q233.82 1466.51 233.82 1459.41 Q233.82 1452.28 231.991 1448.74 Q230.185 1445.17 226.551 1445.17 M226.551 1441.47 Q232.361 1441.47 235.417 1446.07 Q238.495 1450.66 238.495 1459.41 Q238.495 1468.13 235.417 1472.74 Q232.361 1477.32 226.551 1477.32 Q220.741 1477.32 217.662 1472.74 Q214.607 1468.13 214.607 1459.41 Q214.607 1450.66 217.662 1446.07 Q220.741 1441.47 226.551 1441.47 Z\" fill=\"#000000\" fill-rule=\"evenodd\" fill-opacity=\"1\" /><path clip-path=\"url(#clip610)\" d=\"M 0 0 M608.418 1472.72 L616.056 1472.72 L616.056 1446.35 L607.746 1448.02 L607.746 1443.76 L616.01 1442.09 L620.686 1442.09 L620.686 1472.72 L628.325 1472.72 L628.325 1476.65 L608.418 1476.65 L608.418 1472.72 Z\" fill=\"#000000\" fill-rule=\"evenodd\" fill-opacity=\"1\" /><path clip-path=\"url(#clip610)\" d=\"M 0 0 M643.394 1445.17 Q639.783 1445.17 637.954 1448.74 Q636.149 1452.28 636.149 1459.41 Q636.149 1466.51 637.954 1470.08 Q639.783 1473.62 643.394 1473.62 Q647.029 1473.62 648.834 1470.08 Q650.663 1466.51 650.663 1459.41 Q650.663 1452.28 648.834 1448.74 Q647.029 1445.17 643.394 1445.17 M643.394 1441.47 Q649.204 1441.47 652.26 1446.07 Q655.339 1450.66 655.339 1459.41 Q655.339 1468.13 652.26 1472.74 Q649.204 1477.32 643.394 1477.32 Q637.584 1477.32 634.505 1472.74 Q631.45 1468.13 631.45 1459.41 Q631.45 1450.66 634.505 1446.07 Q637.584 1441.47 643.394 1441.47 Z\" fill=\"#000000\" fill-rule=\"evenodd\" fill-opacity=\"1\" /><path clip-path=\"url(#clip610)\" d=\"M 0 0 M1017.68 1472.72 L1034 1472.72 L1034 1476.65 L1012.05 1476.65 L1012.05 1472.72 Q1014.72 1469.96 1019.3 1465.33 Q1023.91 1460.68 1025.09 1459.34 Q1027.33 1456.81 1028.21 1455.08 Q1029.11 1453.32 1029.11 1451.63 Q1029.11 1448.87 1027.17 1447.14 Q1025.25 1445.4 1022.15 1445.4 Q1019.95 1445.4 1017.49 1446.17 Q1015.06 1446.93 1012.29 1448.48 L1012.29 1443.76 Q1015.11 1442.62 1017.56 1442.05 Q1020.02 1441.47 1022.05 1441.47 Q1027.43 1441.47 1030.62 1444.15 Q1033.81 1446.84 1033.81 1451.33 Q1033.81 1453.46 1033 1455.38 Q1032.22 1457.28 1030.11 1459.87 Q1029.53 1460.54 1026.43 1463.76 Q1023.33 1466.95 1017.68 1472.72 Z\" fill=\"#000000\" fill-rule=\"evenodd\" fill-opacity=\"1\" /><path clip-path=\"url(#clip610)\" d=\"M 0 0 M1049.07 1445.17 Q1045.46 1445.17 1043.63 1448.74 Q1041.82 1452.28 1041.82 1459.41 Q1041.82 1466.51 1043.63 1470.08 Q1045.46 1473.62 1049.07 1473.62 Q1052.7 1473.62 1054.51 1470.08 Q1056.34 1466.51 1056.34 1459.41 Q1056.34 1452.28 1054.51 1448.74 Q1052.7 1445.17 1049.07 1445.17 M1049.07 1441.47 Q1054.88 1441.47 1057.93 1446.07 Q1061.01 1450.66 1061.01 1459.41 Q1061.01 1468.13 1057.93 1472.74 Q1054.88 1477.32 1049.07 1477.32 Q1043.26 1477.32 1040.18 1472.74 Q1037.12 1468.13 1037.12 1459.41 Q1037.12 1450.66 1040.18 1446.07 Q1043.26 1441.47 1049.07 1441.47 Z\" fill=\"#000000\" fill-rule=\"evenodd\" fill-opacity=\"1\" /><path clip-path=\"url(#clip610)\" d=\"M 0 0 M1432.27 1458.02 Q1435.62 1458.74 1437.5 1461 Q1439.4 1463.27 1439.4 1466.61 Q1439.4 1471.72 1435.88 1474.52 Q1432.36 1477.32 1425.88 1477.32 Q1423.7 1477.32 1421.39 1476.88 Q1419.09 1476.47 1416.64 1475.61 L1416.64 1471.1 Q1418.59 1472.23 1420.9 1472.81 Q1423.22 1473.39 1425.74 1473.39 Q1430.14 1473.39 1432.43 1471.65 Q1434.74 1469.92 1434.74 1466.61 Q1434.74 1463.55 1432.59 1461.84 Q1430.46 1460.1 1426.64 1460.1 L1422.61 1460.1 L1422.61 1456.26 L1426.83 1456.26 Q1430.28 1456.26 1432.1 1454.89 Q1433.93 1453.5 1433.93 1450.91 Q1433.93 1448.25 1432.03 1446.84 Q1430.16 1445.4 1426.64 1445.4 Q1424.72 1445.4 1422.52 1445.82 Q1420.32 1446.24 1417.68 1447.11 L1417.68 1442.95 Q1420.34 1442.21 1422.66 1441.84 Q1425 1441.47 1427.06 1441.47 Q1432.38 1441.47 1435.48 1443.9 Q1438.59 1446.3 1438.59 1450.43 Q1438.59 1453.3 1436.94 1455.29 Q1435.3 1457.25 1432.27 1458.02 Z\" fill=\"#000000\" fill-rule=\"evenodd\" fill-opacity=\"1\" /><path clip-path=\"url(#clip610)\" d=\"M 0 0 M1454.47 1445.17 Q1450.85 1445.17 1449.03 1448.74 Q1447.22 1452.28 1447.22 1459.41 Q1447.22 1466.51 1449.03 1470.08 Q1450.85 1473.62 1454.47 1473.62 Q1458.1 1473.62 1459.9 1470.08 Q1461.73 1466.51 1461.73 1459.41 Q1461.73 1452.28 1459.9 1448.74 Q1458.1 1445.17 1454.47 1445.17 M1454.47 1441.47 Q1460.28 1441.47 1463.33 1446.07 Q1466.41 1450.66 1466.41 1459.41 Q1466.41 1468.13 1463.33 1472.74 Q1460.28 1477.32 1454.47 1477.32 Q1448.65 1477.32 1445.58 1472.74 Q1442.52 1468.13 1442.52 1459.41 Q1442.52 1450.66 1445.58 1446.07 Q1448.65 1441.47 1454.47 1441.47 Z\" fill=\"#000000\" fill-rule=\"evenodd\" fill-opacity=\"1\" /><path clip-path=\"url(#clip610)\" d=\"M 0 0 M1836.02 1446.17 L1824.21 1464.61 L1836.02 1464.61 L1836.02 1446.17 M1834.79 1442.09 L1840.67 1442.09 L1840.67 1464.61 L1845.6 1464.61 L1845.6 1468.5 L1840.67 1468.5 L1840.67 1476.65 L1836.02 1476.65 L1836.02 1468.5 L1820.42 1468.5 L1820.42 1463.99 L1834.79 1442.09 Z\" fill=\"#000000\" fill-rule=\"evenodd\" fill-opacity=\"1\" /><path clip-path=\"url(#clip610)\" d=\"M 0 0 M1860.67 1445.17 Q1857.06 1445.17 1855.23 1448.74 Q1853.43 1452.28 1853.43 1459.41 Q1853.43 1466.51 1855.23 1470.08 Q1857.06 1473.62 1860.67 1473.62 Q1864.31 1473.62 1866.11 1470.08 Q1867.94 1466.51 1867.94 1459.41 Q1867.94 1452.28 1866.11 1448.74 Q1864.31 1445.17 1860.67 1445.17 M1860.67 1441.47 Q1866.48 1441.47 1869.54 1446.07 Q1872.62 1450.66 1872.62 1459.41 Q1872.62 1468.13 1869.54 1472.74 Q1866.48 1477.32 1860.67 1477.32 Q1854.86 1477.32 1851.78 1472.74 Q1848.73 1468.13 1848.73 1459.41 Q1848.73 1450.66 1851.78 1446.07 Q1854.86 1441.47 1860.67 1441.47 Z\" fill=\"#000000\" fill-rule=\"evenodd\" fill-opacity=\"1\" /><path clip-path=\"url(#clip610)\" d=\"M 0 0 M2228.28 1442.09 L2246.64 1442.09 L2246.64 1446.03 L2232.56 1446.03 L2232.56 1454.5 Q2233.58 1454.15 2234.6 1453.99 Q2235.62 1453.8 2236.64 1453.8 Q2242.42 1453.8 2245.8 1456.98 Q2249.18 1460.15 2249.18 1465.56 Q2249.18 1471.14 2245.71 1474.24 Q2242.24 1477.32 2235.92 1477.32 Q2233.74 1477.32 2231.47 1476.95 Q2229.23 1476.58 2226.82 1475.84 L2226.82 1471.14 Q2228.9 1472.28 2231.13 1472.83 Q2233.35 1473.39 2235.83 1473.39 Q2239.83 1473.39 2242.17 1471.28 Q2244.51 1469.18 2244.51 1465.56 Q2244.51 1461.95 2242.17 1459.85 Q2239.83 1457.74 2235.83 1457.74 Q2233.95 1457.74 2232.08 1458.16 Q2230.22 1458.57 2228.28 1459.45 L2228.28 1442.09 Z\" fill=\"#000000\" fill-rule=\"evenodd\" fill-opacity=\"1\" /><path clip-path=\"url(#clip610)\" d=\"M 0 0 M2264.25 1445.17 Q2260.64 1445.17 2258.81 1448.74 Q2257.01 1452.28 2257.01 1459.41 Q2257.01 1466.51 2258.81 1470.08 Q2260.64 1473.62 2264.25 1473.62 Q2267.89 1473.62 2269.69 1470.08 Q2271.52 1466.51 2271.52 1459.41 Q2271.52 1452.28 2269.69 1448.74 Q2267.89 1445.17 2264.25 1445.17 M2264.25 1441.47 Q2270.06 1441.47 2273.12 1446.07 Q2276.2 1450.66 2276.2 1459.41 Q2276.2 1468.13 2273.12 1472.74 Q2270.06 1477.32 2264.25 1477.32 Q2258.44 1477.32 2255.36 1472.74 Q2252.31 1468.13 2252.31 1459.41 Q2252.31 1450.66 2255.36 1446.07 Q2258.44 1441.47 2264.25 1441.47 Z\" fill=\"#000000\" fill-rule=\"evenodd\" fill-opacity=\"1\" /><path clip-path=\"url(#clip610)\" d=\"M 0 0 M126.26 1397.94 L155.936 1397.94 L155.936 1401.87 L126.26 1401.87 L126.26 1397.94 Z\" fill=\"#000000\" fill-rule=\"evenodd\" fill-opacity=\"1\" /><path clip-path=\"url(#clip610)\" d=\"M 0 0 M175.172 1396.13 Q178.528 1396.85 180.403 1399.12 Q182.302 1401.39 182.302 1404.72 Q182.302 1409.84 178.783 1412.64 Q175.265 1415.44 168.783 1415.44 Q166.607 1415.44 164.292 1415 Q162.001 1414.58 159.547 1413.72 L159.547 1409.21 Q161.491 1410.35 163.806 1410.92 Q166.121 1411.5 168.644 1411.5 Q173.042 1411.5 175.334 1409.77 Q177.649 1408.03 177.649 1404.72 Q177.649 1401.66 175.496 1399.95 Q173.366 1398.22 169.547 1398.22 L165.519 1398.22 L165.519 1394.37 L169.732 1394.37 Q173.181 1394.37 175.01 1393.01 Q176.839 1391.62 176.839 1389.03 Q176.839 1386.36 174.94 1384.95 Q173.065 1383.52 169.547 1383.52 Q167.626 1383.52 165.427 1383.93 Q163.228 1384.35 160.589 1385.23 L160.589 1381.06 Q163.251 1380.32 165.566 1379.95 Q167.903 1379.58 169.964 1379.58 Q175.288 1379.58 178.39 1382.01 Q181.491 1384.42 181.491 1388.54 Q181.491 1391.41 179.848 1393.4 Q178.204 1395.37 175.172 1396.13 Z\" fill=\"#000000\" fill-rule=\"evenodd\" fill-opacity=\"1\" /><path clip-path=\"url(#clip610)\" d=\"M 0 0 M127.209 1136.64 L156.885 1136.64 L156.885 1140.58 L127.209 1140.58 L127.209 1136.64 Z\" fill=\"#000000\" fill-rule=\"evenodd\" fill-opacity=\"1\" /><path clip-path=\"url(#clip610)\" d=\"M 0 0 M165.982 1149.54 L182.302 1149.54 L182.302 1153.47 L160.357 1153.47 L160.357 1149.54 Q163.019 1146.78 167.603 1142.15 Q172.209 1137.5 173.39 1136.16 Q175.635 1133.63 176.515 1131.9 Q177.417 1130.14 177.417 1128.45 Q177.417 1125.69 175.473 1123.96 Q173.552 1122.22 170.45 1122.22 Q168.251 1122.22 165.797 1122.99 Q163.366 1123.75 160.589 1125.3 L160.589 1120.58 Q163.413 1119.44 165.866 1118.86 Q168.32 1118.29 170.357 1118.29 Q175.727 1118.29 178.922 1120.97 Q182.116 1123.66 182.116 1128.15 Q182.116 1130.28 181.306 1132.2 Q180.519 1134.1 178.413 1136.69 Q177.834 1137.36 174.732 1140.58 Q171.63 1143.77 165.982 1149.54 Z\" fill=\"#000000\" fill-rule=\"evenodd\" fill-opacity=\"1\" /><path clip-path=\"url(#clip610)\" d=\"M 0 0 M126.839 875.347 L156.515 875.347 L156.515 879.283 L126.839 879.283 L126.839 875.347 Z\" fill=\"#000000\" fill-rule=\"evenodd\" fill-opacity=\"1\" /><path clip-path=\"url(#clip610)\" d=\"M 0 0 M162.394 888.241 L170.033 888.241 L170.033 861.875 L161.723 863.542 L161.723 859.283 L169.987 857.616 L174.663 857.616 L174.663 888.241 L182.302 888.241 L182.302 892.176 L162.394 892.176 L162.394 888.241 Z\" fill=\"#000000\" fill-rule=\"evenodd\" fill-opacity=\"1\" /><path clip-path=\"url(#clip610)\" d=\"M 0 0 M170.357 599.4 Q166.746 599.4 164.917 602.964 Q163.112 606.506 163.112 613.636 Q163.112 620.742 164.917 624.307 Q166.746 627.848 170.357 627.848 Q173.991 627.848 175.797 624.307 Q177.626 620.742 177.626 613.636 Q177.626 606.506 175.797 602.964 Q173.991 599.4 170.357 599.4 M170.357 595.696 Q176.167 595.696 179.223 600.302 Q182.302 604.886 182.302 613.636 Q182.302 622.362 179.223 626.969 Q176.167 631.552 170.357 631.552 Q164.547 631.552 161.468 626.969 Q158.413 622.362 158.413 613.636 Q158.413 604.886 161.468 600.302 Q164.547 595.696 170.357 595.696 Z\" fill=\"#000000\" fill-rule=\"evenodd\" fill-opacity=\"1\" /><path clip-path=\"url(#clip610)\" d=\"M 0 0 M162.394 365.65 L170.033 365.65 L170.033 339.285 L161.723 340.952 L161.723 336.692 L169.987 335.026 L174.663 335.026 L174.663 365.65 L182.302 365.65 L182.302 369.586 L162.394 369.586 L162.394 365.65 Z\" fill=\"#000000\" fill-rule=\"evenodd\" fill-opacity=\"1\" /><path clip-path=\"url(#clip610)\" d=\"M 0 0 M1100.58 35.9153 Q1103.38 30.8922 1107.26 28.5022 Q1111.15 26.1121 1116.42 26.1121 Q1123.51 26.1121 1127.36 31.0947 Q1131.2 36.0368 1131.2 45.1919 L1131.2 72.576 L1123.71 72.576 L1123.71 45.4349 Q1123.71 38.913 1121.4 35.7533 Q1119.09 32.5936 1114.35 32.5936 Q1108.56 32.5936 1105.2 36.4419 Q1101.84 40.2903 1101.84 46.9338 L1101.84 72.576 L1094.34 72.576 L1094.34 45.4349 Q1094.34 38.8725 1092.03 35.7533 Q1089.72 32.5936 1084.9 32.5936 Q1079.19 32.5936 1075.83 36.4824 Q1072.47 40.3308 1072.47 46.9338 L1072.47 72.576 L1064.97 72.576 L1064.97 27.2059 L1072.47 27.2059 L1072.47 34.2544 Q1075.02 30.082 1078.58 28.0971 Q1082.15 26.1121 1087.05 26.1121 Q1091.99 26.1121 1095.44 28.6237 Q1098.92 31.1352 1100.58 35.9153 Z\" fill=\"#000000\" fill-rule=\"evenodd\" fill-opacity=\"1\" /><path clip-path=\"url(#clip610)\" d=\"M 0 0 M1138.25 54.671 L1138.25 27.2059 L1145.71 27.2059 L1145.71 54.3874 Q1145.71 60.8284 1148.22 64.0691 Q1150.73 67.2693 1155.75 67.2693 Q1161.79 67.2693 1165.27 63.421 Q1168.8 59.5726 1168.8 52.9291 L1168.8 27.2059 L1176.25 27.2059 L1176.25 72.576 L1168.8 72.576 L1168.8 65.6084 Q1166.08 69.7404 1162.48 71.7658 Q1158.91 73.7508 1154.17 73.7508 Q1146.36 73.7508 1142.3 68.8897 Q1138.25 64.0286 1138.25 54.671 M1157.01 26.1121 L1157.01 26.1121 Z\" fill=\"#000000\" fill-rule=\"evenodd\" fill-opacity=\"1\" /><path clip-path=\"url(#clip610)\" d=\"M 0 0 M1211.41 34.9026 L1263.35 34.9026 L1263.35 41.7081 L1211.41 41.7081 L1211.41 34.9026 M1211.41 51.4303 L1263.35 51.4303 L1263.35 58.3168 L1211.41 58.3168 L1211.41 51.4303 Z\" fill=\"#000000\" fill-rule=\"evenodd\" fill-opacity=\"1\" /><path clip-path=\"url(#clip610)\" d=\"M 0 0 M1316.09 17.4837 Q1309.77 17.4837 1306.57 23.7221 Q1303.41 29.92 1303.41 42.3968 Q1303.41 54.833 1306.57 61.0714 Q1309.77 67.2693 1316.09 67.2693 Q1322.45 67.2693 1325.61 61.0714 Q1328.81 54.833 1328.81 42.3968 Q1328.81 29.92 1325.61 23.7221 Q1322.45 17.4837 1316.09 17.4837 M1316.09 11.0023 Q1326.26 11.0023 1331.6 19.0636 Q1336.99 27.0843 1336.99 42.3968 Q1336.99 57.6687 1331.6 65.73 Q1326.26 73.7508 1316.09 73.7508 Q1305.92 73.7508 1300.53 65.73 Q1295.19 57.6687 1295.19 42.3968 Q1295.19 27.0843 1300.53 19.0636 Q1305.92 11.0023 1316.09 11.0023 Z\" fill=\"#000000\" fill-rule=\"evenodd\" fill-opacity=\"1\" /><path clip-path=\"url(#clip610)\" d=\"M 0 0 M1345.86 62.2867 L1354.41 62.2867 L1354.41 72.576 L1345.86 72.576 L1345.86 62.2867 Z\" fill=\"#000000\" fill-rule=\"evenodd\" fill-opacity=\"1\" /><path clip-path=\"url(#clip610)\" d=\"M 0 0 M1380.78 17.4837 Q1374.46 17.4837 1371.26 23.7221 Q1368.1 29.92 1368.1 42.3968 Q1368.1 54.833 1371.26 61.0714 Q1374.46 67.2693 1380.78 67.2693 Q1387.14 67.2693 1390.3 61.0714 Q1393.5 54.833 1393.5 42.3968 Q1393.5 29.92 1390.3 23.7221 Q1387.14 17.4837 1380.78 17.4837 M1380.78 11.0023 Q1390.95 11.0023 1396.3 19.0636 Q1401.68 27.0843 1401.68 42.3968 Q1401.68 57.6687 1396.3 65.73 Q1390.95 73.7508 1380.78 73.7508 Q1370.61 73.7508 1365.23 65.73 Q1359.88 57.6687 1359.88 42.3968 Q1359.88 27.0843 1365.23 19.0636 Q1370.61 11.0023 1380.78 11.0023 Z\" fill=\"#000000\" fill-rule=\"evenodd\" fill-opacity=\"1\" /><path clip-path=\"url(#clip610)\" d=\"M 0 0 M1428.06 17.4837 Q1421.74 17.4837 1418.54 23.7221 Q1415.38 29.92 1415.38 42.3968 Q1415.38 54.833 1418.54 61.0714 Q1421.74 67.2693 1428.06 67.2693 Q1434.42 67.2693 1437.57 61.0714 Q1440.77 54.833 1440.77 42.3968 Q1440.77 29.92 1437.57 23.7221 Q1434.42 17.4837 1428.06 17.4837 M1428.06 11.0023 Q1438.22 11.0023 1443.57 19.0636 Q1448.96 27.0843 1448.96 42.3968 Q1448.96 57.6687 1443.57 65.73 Q1438.22 73.7508 1428.06 73.7508 Q1417.89 73.7508 1412.5 65.73 Q1407.15 57.6687 1407.15 42.3968 Q1407.15 27.0843 1412.5 19.0636 Q1417.89 11.0023 1428.06 11.0023 Z\" fill=\"#000000\" fill-rule=\"evenodd\" fill-opacity=\"1\" /><path clip-path=\"url(#clip610)\" d=\"M 0 0 M1459.25 65.6895 L1472.62 65.6895 L1472.62 19.5497 L1458.07 22.4663 L1458.07 15.0127 L1472.53 12.096 L1480.72 12.096 L1480.72 65.6895 L1494.08 65.6895 L1494.08 72.576 L1459.25 72.576 L1459.25 65.6895 Z\" fill=\"#000000\" fill-rule=\"evenodd\" fill-opacity=\"1\" /><path clip-path=\"url(#clip610)\" d=\"M 0 0 M1112.3 1556.04 L1094.16 1508.52 L1100.88 1508.52 L1115.93 1548.53 L1131.02 1508.52 L1137.7 1508.52 L1119.59 1556.04 L1112.3 1556.04 Z\" fill=\"#000000\" fill-rule=\"evenodd\" fill-opacity=\"1\" /><path clip-path=\"url(#clip610)\" d=\"M 0 0 M1169.27 1536.76 L1169.27 1539.62 L1142.35 1539.62 Q1142.73 1545.67 1145.98 1548.85 Q1149.25 1552 1155.08 1552 Q1158.45 1552 1161.6 1551.17 Q1164.79 1550.35 1167.91 1548.69 L1167.91 1554.23 Q1164.76 1555.57 1161.44 1556.27 Q1158.13 1556.97 1154.73 1556.97 Q1146.2 1556.97 1141.2 1552 Q1136.24 1547.04 1136.24 1538.57 Q1136.24 1529.82 1140.95 1524.69 Q1145.69 1519.54 1153.71 1519.54 Q1160.9 1519.54 1165.07 1524.18 Q1169.27 1528.8 1169.27 1536.76 M1163.42 1535.04 Q1163.35 1530.23 1160.71 1527.37 Q1158.1 1524.5 1153.77 1524.5 Q1148.87 1524.5 1145.91 1527.27 Q1142.98 1530.04 1142.54 1535.07 L1163.42 1535.04 Z\" fill=\"#000000\" fill-rule=\"evenodd\" fill-opacity=\"1\" /><path clip-path=\"url(#clip610)\" d=\"M 0 0 M1201.07 1521.76 L1201.07 1527.24 Q1198.59 1525.87 1196.07 1525.2 Q1193.59 1524.5 1191.05 1524.5 Q1185.35 1524.5 1182.2 1528.13 Q1179.05 1531.73 1179.05 1538.25 Q1179.05 1544.78 1182.2 1548.4 Q1185.35 1552 1191.05 1552 Q1193.59 1552 1196.07 1551.33 Q1198.59 1550.63 1201.07 1549.26 L1201.07 1554.68 Q1198.62 1555.82 1195.98 1556.39 Q1193.37 1556.97 1190.41 1556.97 Q1182.36 1556.97 1177.61 1551.91 Q1172.87 1546.85 1172.87 1538.25 Q1172.87 1529.53 1177.65 1524.53 Q1182.45 1519.54 1190.79 1519.54 Q1193.5 1519.54 1196.07 1520.11 Q1198.65 1520.65 1201.07 1521.76 Z\" fill=\"#000000\" fill-rule=\"evenodd\" fill-opacity=\"1\" /><path clip-path=\"url(#clip610)\" d=\"M 0 0 M1213.01 1510.27 L1213.01 1520.4 L1225.07 1520.4 L1225.07 1524.95 L1213.01 1524.95 L1213.01 1544.3 Q1213.01 1548.66 1214.18 1549.9 Q1215.39 1551.14 1219.05 1551.14 L1225.07 1551.14 L1225.07 1556.04 L1219.05 1556.04 Q1212.28 1556.04 1209.7 1553.53 Q1207.12 1550.98 1207.12 1544.3 L1207.12 1524.95 L1202.82 1524.95 L1202.82 1520.4 L1207.12 1520.4 L1207.12 1510.27 L1213.01 1510.27 Z\" fill=\"#000000\" fill-rule=\"evenodd\" fill-opacity=\"1\" /><path clip-path=\"url(#clip610)\" d=\"M 0 0 M1245.03 1524.5 Q1240.32 1524.5 1237.58 1528.19 Q1234.84 1531.85 1234.84 1538.25 Q1234.84 1544.65 1237.55 1548.34 Q1240.28 1552 1245.03 1552 Q1249.71 1552 1252.44 1548.31 Q1255.18 1544.62 1255.18 1538.25 Q1255.18 1531.92 1252.44 1528.23 Q1249.71 1524.5 1245.03 1524.5 M1245.03 1519.54 Q1252.67 1519.54 1257.03 1524.5 Q1261.39 1529.47 1261.39 1538.25 Q1261.39 1547 1257.03 1552 Q1252.67 1556.97 1245.03 1556.97 Q1237.36 1556.97 1233 1552 Q1228.67 1547 1228.67 1538.25 Q1228.67 1529.47 1233 1524.5 Q1237.36 1519.54 1245.03 1519.54 Z\" fill=\"#000000\" fill-rule=\"evenodd\" fill-opacity=\"1\" /><path clip-path=\"url(#clip610)\" d=\"M 0 0 M1288.19 1525.87 Q1287.2 1525.3 1286.02 1525.04 Q1284.88 1524.76 1283.48 1524.76 Q1278.51 1524.76 1275.84 1528 Q1273.19 1531.22 1273.19 1537.27 L1273.19 1556.04 L1267.31 1556.04 L1267.31 1520.4 L1273.19 1520.4 L1273.19 1525.93 Q1275.04 1522.69 1278 1521.13 Q1280.96 1519.54 1285.19 1519.54 Q1285.8 1519.54 1286.53 1519.63 Q1287.26 1519.7 1288.15 1519.85 L1288.19 1525.87 Z\" fill=\"#000000\" fill-rule=\"evenodd\" fill-opacity=\"1\" /><path clip-path=\"url(#clip610)\" d=\"M 0 0 M1315.3 1508.52 L1321.73 1508.52 L1321.73 1556.04 L1315.3 1556.04 L1315.3 1508.52 Z\" fill=\"#000000\" fill-rule=\"evenodd\" fill-opacity=\"1\" /><path clip-path=\"url(#clip610)\" d=\"M 0 0 M1357.51 1534.53 L1357.51 1556.04 L1351.65 1556.04 L1351.65 1534.72 Q1351.65 1529.66 1349.68 1527.14 Q1347.71 1524.63 1343.76 1524.63 Q1339.02 1524.63 1336.28 1527.65 Q1333.54 1530.68 1333.54 1535.9 L1333.54 1556.04 L1327.65 1556.04 L1327.65 1520.4 L1333.54 1520.4 L1333.54 1525.93 Q1335.64 1522.72 1338.48 1521.13 Q1341.34 1519.54 1345.06 1519.54 Q1351.21 1519.54 1354.36 1523.36 Q1357.51 1527.14 1357.51 1534.53 Z\" fill=\"#000000\" fill-rule=\"evenodd\" fill-opacity=\"1\" /><path clip-path=\"url(#clip610)\" d=\"M 0 0 M1387.11 1525.81 L1387.11 1506.52 L1392.97 1506.52 L1392.97 1556.04 L1387.11 1556.04 L1387.11 1550.7 Q1385.26 1553.88 1382.43 1555.44 Q1379.63 1556.97 1375.68 1556.97 Q1369.22 1556.97 1365.15 1551.81 Q1361.11 1546.65 1361.11 1538.25 Q1361.11 1529.85 1365.15 1524.69 Q1369.22 1519.54 1375.68 1519.54 Q1379.63 1519.54 1382.43 1521.1 Q1385.26 1522.62 1387.11 1525.81 M1367.15 1538.25 Q1367.15 1544.71 1369.79 1548.4 Q1372.47 1552.07 1377.11 1552.07 Q1381.76 1552.07 1384.44 1548.4 Q1387.11 1544.71 1387.11 1538.25 Q1387.11 1531.79 1384.44 1528.13 Q1381.76 1524.44 1377.11 1524.44 Q1372.47 1524.44 1369.79 1528.13 Q1367.15 1531.79 1367.15 1538.25 Z\" fill=\"#000000\" fill-rule=\"evenodd\" fill-opacity=\"1\" /><path clip-path=\"url(#clip610)\" d=\"M 0 0 M1429.6 1536.76 L1429.6 1539.62 L1402.67 1539.62 Q1403.06 1545.67 1406.3 1548.85 Q1409.58 1552 1415.4 1552 Q1418.78 1552 1421.93 1551.17 Q1425.11 1550.35 1428.23 1548.69 L1428.23 1554.23 Q1425.08 1555.57 1421.77 1556.27 Q1418.46 1556.97 1415.05 1556.97 Q1406.52 1556.97 1401.53 1552 Q1396.56 1547.04 1396.56 1538.57 Q1396.56 1529.82 1401.27 1524.69 Q1406.02 1519.54 1414.04 1519.54 Q1421.23 1519.54 1425.4 1524.18 Q1429.6 1528.8 1429.6 1536.76 M1423.74 1535.04 Q1423.68 1530.23 1421.04 1527.37 Q1418.43 1524.5 1414.1 1524.5 Q1409.2 1524.5 1406.24 1527.27 Q1403.31 1530.04 1402.86 1535.07 L1423.74 1535.04 Z\" fill=\"#000000\" fill-rule=\"evenodd\" fill-opacity=\"1\" /><path clip-path=\"url(#clip610)\" d=\"M 0 0 M1464.23 1520.4 L1451.34 1537.74 L1464.9 1556.04 L1457.99 1556.04 L1447.62 1542.04 L1437.24 1556.04 L1430.33 1556.04 L1444.18 1537.39 L1431.51 1520.4 L1438.42 1520.4 L1447.87 1533.1 L1457.32 1520.4 L1464.23 1520.4 Z\" fill=\"#000000\" fill-rule=\"evenodd\" fill-opacity=\"1\" /><path clip-path=\"url(#clip610)\" d=\"M 0 0 M88.0042 833.45 L40.4842 851.592 L40.4842 844.877 L80.4926 829.822 L40.4842 814.735 L40.4842 808.051 L88.0042 826.161 L88.0042 833.45 Z\" fill=\"#000000\" fill-rule=\"evenodd\" fill-opacity=\"1\" /><path clip-path=\"url(#clip610)\" d=\"M 0 0 M70.0847 790.768 Q70.0847 797.866 71.7079 800.603 Q73.3312 803.34 77.2461 803.34 Q80.3653 803.34 82.2114 801.303 Q84.0256 799.234 84.0256 795.701 Q84.0256 790.832 80.5881 787.903 Q77.1188 784.943 71.3897 784.943 L70.0847 784.943 L70.0847 790.768 M67.6657 779.087 L88.0042 779.087 L88.0042 784.943 L82.5933 784.943 Q85.8398 786.949 87.3994 789.94 Q88.9272 792.932 88.9272 797.261 Q88.9272 802.736 85.8716 805.982 Q82.7843 809.197 77.6281 809.197 Q71.6125 809.197 68.5569 805.186 Q65.5014 801.144 65.5014 793.155 L65.5014 784.943 L64.9285 784.943 Q60.8862 784.943 58.6901 787.617 Q56.4621 790.259 56.4621 795.065 Q56.4621 798.12 57.1941 801.017 Q57.9262 803.913 59.3903 806.587 L53.9795 806.587 Q52.7381 803.372 52.1334 800.348 Q51.4968 797.325 51.4968 794.46 Q51.4968 786.726 55.5072 782.906 Q59.5176 779.087 67.6657 779.087 Z\" fill=\"#000000\" fill-rule=\"evenodd\" fill-opacity=\"1\" /><path clip-path=\"url(#clip610)\" d=\"M 0 0 M38.479 772.944 L38.479 767.088 L88.0042 767.088 L88.0042 772.944 L38.479 772.944 Z\" fill=\"#000000\" fill-rule=\"evenodd\" fill-opacity=\"1\" /><path clip-path=\"url(#clip610)\" d=\"M 0 0 M73.9359 761.549 L52.3562 761.549 L52.3562 755.693 L73.7131 755.693 Q78.7739 755.693 81.3202 753.72 Q83.8346 751.746 83.8346 747.8 Q83.8346 743.057 80.8109 740.32 Q77.7872 737.551 72.5673 737.551 L52.3562 737.551 L52.3562 731.694 L88.0042 731.694 L88.0042 737.551 L82.5296 737.551 Q85.7762 739.683 87.3676 742.516 Q88.9272 745.317 88.9272 749.041 Q88.9272 755.184 85.1078 758.367 Q81.2883 761.549 73.9359 761.549 M51.4968 746.813 L51.4968 746.813 Z\" fill=\"#000000\" fill-rule=\"evenodd\" fill-opacity=\"1\" /><path clip-path=\"url(#clip610)\" d=\"M 0 0 M68.7161 695.06 L71.5806 695.06 L71.5806 721.987 Q77.6281 721.605 80.8109 718.358 Q83.9619 715.08 83.9619 709.255 Q83.9619 705.881 83.1344 702.73 Q82.3069 699.547 80.6518 696.428 L86.1899 696.428 Q87.5267 699.579 88.227 702.889 Q88.9272 706.2 88.9272 709.605 Q88.9272 718.135 83.9619 723.132 Q78.9967 728.098 70.5303 728.098 Q61.7774 728.098 56.6531 723.387 Q51.4968 718.645 51.4968 710.624 Q51.4968 703.431 56.1438 699.261 Q60.7589 695.06 68.7161 695.06 M66.9973 700.916 Q62.1912 700.98 59.3266 703.621 Q56.4621 706.231 56.4621 710.56 Q56.4621 715.462 59.2312 718.422 Q62.0002 721.35 67.0292 721.796 L66.9973 700.916 Z\" fill=\"#000000\" fill-rule=\"evenodd\" fill-opacity=\"1\" /><polyline clip-path=\"url(#clip612)\" style=\"stroke:#009af9; stroke-width:12; stroke-opacity:1; fill:none\" stroke-dasharray=\"6, 12\" points=\"\n",
       "  267.05,1386.4 307.549,1346.62 348.049,1270.43 388.548,1260.02 429.047,1108.32 469.546,1125.3 510.045,999.913 550.544,916.688 591.043,790.428 631.542,862.494 \n",
       "  672.042,791.207 712.541,657.082 753.04,557.181 793.539,624.646 834.038,682.815 874.537,669.177 915.036,676.376 955.536,568.795 996.035,713.222 1036.53,652.762 \n",
       "  1077.03,716.937 1117.53,752.906 1158.03,660.672 1198.53,585.208 1239.03,730.558 1279.53,658.726 1320.03,566.458 1360.53,494.095 1401.03,561.935 1441.53,530.12 \n",
       "  1482.02,443.286 1522.52,577.892 1563.02,438.498 1603.52,474.49 1644.02,601.779 1684.52,547.297 1725.02,534.554 1765.52,621.773 1806.02,600.823 1846.52,652.198 \n",
       "  1887.02,650.598 1927.51,634.477 1968.01,660.271 2008.51,598.864 2049.01,498.289 2089.51,372.361 2130.01,414.25 2170.51,217.399 2211.01,308.844 2251.51,160.256 \n",
       "  2292.01,240.402 \n",
       "  \"/>\n",
       "<polyline clip-path=\"url(#clip612)\" style=\"stroke:#e26f46; stroke-width:4; stroke-opacity:1; fill:none\" points=\"\n",
       "  267.05,1169.21 307.549,1139.12 348.049,1109.06 388.548,1079.1 429.047,1049.31 469.546,1019.8 510.045,990.697 550.544,962.124 591.043,934.217 631.542,907.104 \n",
       "  672.042,880.891 712.541,855.68 753.04,831.556 793.539,808.58 834.038,786.773 874.537,766.128 915.036,746.626 955.536,728.232 996.035,710.901 1036.53,694.568 \n",
       "  1077.03,679.166 1117.53,664.622 1158.03,650.869 1198.53,637.852 1239.03,625.52 1279.53,613.81 1320.03,602.678 1360.53,592.084 1401.03,581.983 1441.53,572.318 \n",
       "  1482.02,563.027 1522.52,554.043 1563.02,545.282 1603.52,536.662 1644.02,528.089 1684.52,519.456 1725.02,510.67 1765.52,501.641 1806.02,492.281 1846.52,482.521 \n",
       "  1887.02,472.306 1927.51,461.605 1968.01,450.414 2008.51,438.751 2049.01,426.667 2089.51,414.233 2130.01,401.531 2170.51,388.638 2211.01,375.631 2251.51,362.565 \n",
       "  2292.01,349.483 \n",
       "  \"/>\n",
       "<path clip-path=\"url(#clip610)\" d=\"\n",
       "M2019.54 348.236 L2281.21 348.236 L2281.21 166.796 L2019.54 166.796  Z\n",
       "  \" fill=\"#ffffff\" fill-rule=\"evenodd\" fill-opacity=\"1\"/>\n",
       "<polyline clip-path=\"url(#clip610)\" style=\"stroke:#000000; stroke-width:4; stroke-opacity:1; fill:none\" points=\"\n",
       "  2019.54,348.236 2281.21,348.236 2281.21,166.796 2019.54,166.796 2019.54,348.236 \n",
       "  \"/>\n",
       "<polyline clip-path=\"url(#clip610)\" style=\"stroke:#009af9; stroke-width:4; stroke-opacity:1; fill:none\" stroke-dasharray=\"2, 4\" points=\"\n",
       "  2043.39,227.276 2186.49,227.276 \n",
       "  \"/>\n",
       "<path clip-path=\"url(#clip610)\" d=\"M 0 0 M2226.84 208.537 L2226.84 212.079 L2222.77 212.079 Q2220.48 212.079 2219.57 213.005 Q2218.69 213.931 2218.69 216.338 L2218.69 218.63 L2225.71 218.63 L2225.71 221.94 L2218.69 221.94 L2218.69 244.556 L2214.41 244.556 L2214.41 221.94 L2210.34 221.94 L2210.34 218.63 L2214.41 218.63 L2214.41 216.824 Q2214.41 212.496 2216.43 210.528 Q2218.44 208.537 2222.81 208.537 L2226.84 208.537 Z\" fill=\"#000000\" fill-rule=\"evenodd\" fill-opacity=\"1\" /><polyline clip-path=\"url(#clip610)\" style=\"stroke:#e26f46; stroke-width:4; stroke-opacity:1; fill:none\" points=\"\n",
       "  2043.39,287.756 2186.49,287.756 \n",
       "  \"/>\n",
       "<path clip-path=\"url(#clip610)\" d=\"M 0 0 M2229.25 291.772 Q2229.25 287.142 2227.33 284.596 Q2225.43 282.05 2221.98 282.05 Q2218.55 282.05 2216.63 284.596 Q2214.74 287.142 2214.74 291.772 Q2214.74 296.378 2216.63 298.925 Q2218.55 301.471 2221.98 301.471 Q2225.43 301.471 2227.33 298.925 Q2229.25 296.378 2229.25 291.772 M2233.51 301.818 Q2233.51 308.438 2230.57 311.656 Q2227.63 314.897 2221.56 314.897 Q2219.32 314.897 2217.33 314.55 Q2215.34 314.225 2213.46 313.531 L2213.46 309.388 Q2215.34 310.406 2217.17 310.892 Q2218.99 311.378 2220.89 311.378 Q2225.08 311.378 2227.17 309.179 Q2229.25 307.003 2229.25 302.582 L2229.25 300.476 Q2227.93 302.767 2225.87 303.901 Q2223.81 305.036 2220.94 305.036 Q2216.17 305.036 2213.25 301.401 Q2210.34 297.767 2210.34 291.772 Q2210.34 285.753 2213.25 282.119 Q2216.17 278.485 2220.94 278.485 Q2223.81 278.485 2225.87 279.619 Q2227.93 280.753 2229.25 283.045 L2229.25 279.11 L2233.51 279.11 L2233.51 301.818 Z\" fill=\"#000000\" fill-rule=\"evenodd\" fill-opacity=\"1\" /></svg>\n"
      ]
     },
     "metadata": {},
     "output_type": "display_data"
    }
   ],
   "source": [
    "for mu = [0,Inf, 10e-8, 10e-6, 10e-4]\n",
    "    out = spline(f, B, mu);\n",
    "    curve_plot = plot(1:51, f, linestyle = :dot, lw=3, label=\"f\")\n",
    "    plot!(1:51, out, label=\"g\")\n",
    "    xlabel!(\"Vector Index\")\n",
    "    ylabel!(\"Value\")\n",
    "    title!(\"mu = $(mu)\")\n",
    "    display(curve_plot)\n",
    "end"
   ]
  },
  {
   "cell_type": "code",
   "execution_count": null,
   "metadata": {},
   "outputs": [],
   "source": []
  }
 ],
 "metadata": {
  "kernelspec": {
   "display_name": "Julia 1.5.1",
   "language": "julia",
   "name": "julia-1.5"
  },
  "language_info": {
   "file_extension": ".jl",
   "mimetype": "application/julia",
   "name": "julia",
   "version": "1.5.1"
  }
 },
 "nbformat": 4,
 "nbformat_minor": 4
}
