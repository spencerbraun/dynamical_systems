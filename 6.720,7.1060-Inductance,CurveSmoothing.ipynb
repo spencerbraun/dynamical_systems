{
 "cells": [
  {
   "cell_type": "code",
   "execution_count": 1,
   "metadata": {},
   "outputs": [],
   "source": [
    "using Plots\n",
    "using Statistics\n",
    "using LinearAlgebra\n",
    "using JSON\n",
    "\n",
    "include(\"readclassjson.jl\");"
   ]
  },
  {
   "cell_type": "code",
   "execution_count": 4,
   "metadata": {},
   "outputs": [],
   "source": [
    "# ; wget http://ee263.stanford.edu/hw/inductor_data.json -P data/"
   ]
  },
  {
   "cell_type": "code",
   "execution_count": 6,
   "metadata": {},
   "outputs": [],
   "source": [
    "# ; wget http://ee263.stanford.edu/hw/curve_smoothing.json -P data/"
   ]
  },
  {
   "cell_type": "markdown",
   "metadata": {},
   "source": [
    "## 6.720 Approximate inductance formula\n",
    "\n",
    "Approximate inductance model $\\hat{L}=\\alpha n^{\\beta_{1}} w^{\\beta_{2}} d^{\\beta_{3}} D^{\\beta_{4}}$ for $\\alpha, \\beta_{1}, \\beta_{2}, \\beta_{3}, \\beta_{4} \\in \\mathbb{R}$ in $R$ and $\\alpha > 0$.\n",
    "\n",
    "The file inductor_data.json on the course web site contains data for 50 inductors. (The data is real, not that it would affect how you solve the problem ... ) For inductor $i,$ we give parameters $n_{i}, w_{i}, d_{i},$ and $D_{i}($ all in $\\mu \\mathrm{m}),$ and also, the inductance $L_{i}$ (in nH) obtained from measurements. (The data are organized as vectors of length 50. Thus, for example, $w_{13}$ gives the wire width of inductor $13 .$ ) Your task, i.e., , the problem, is to find $\\alpha, \\beta_{1}, \\ldots, \\beta_{4}$ so that\n",
    "$$\n",
    "\\hat{L}_{i}=\\alpha n_{i}^{\\beta_{1}} w_{i}^{\\beta_{2}} d_{i}^{\\beta_{3}} D_{i}^{\\beta_{4}} \\approx L_{i} \\quad \\text { for } i=1, \\ldots, 50\n",
    "$$\n",
    "Your solution must include a clear description of how you found your parameters, as well as their actual numerical values. Note that we have not specified the criterion that you use to judge the approximate model (i.e., the fit between $\\hat{L}_{i}$ and $\\left.L_{i}\\right) ;$ we leave that to your engineering judgment. But be sure to tell us what criterion you use. We define the percentage error between $\\hat{L}_{i}$ and $L_{i}$ as\n",
    "$$\n",
    "e_{i}=100\\left|\\hat{L}_{i}-L_{i}\\right| / L_{i}\n",
    "$$\n",
    "Find the average percentage error for your model, i.e., $\\left(e_{1}+\\cdots+e_{50}\\right) / 50 .$ (We are only asking you to find the average percentage error for your model; we do not require that your model minimize the average percentage error.) Hint: you might find it easier to work with log $L$."
   ]
  },
  {
   "cell_type": "code",
   "execution_count": 7,
   "metadata": {},
   "outputs": [
    {
     "data": {
      "text/plain": [
       "Dict{Any,Any} with 6 entries:\n",
       "  \"d\" => [165.45, 132.85, 64.35, 221.9, 82.05, 57.0, 34.0, 42.0, 164.0, 236.0  …\n",
       "  \"w\" => [22.4, 21.0, 6.0, 17.6, 12.0, 3.2, 13.0, 24.0, 5.0, 5.0  …  7.0, 7.0, …\n",
       "  \"N\" => 50\n",
       "  \"D\" => [345.0, 325.0, 210.0, 395.0, 240.0, 180.0, 300.0, 400.0, 300.0, 300.0 …\n",
       "  \"L\" => [5.2, 5.5, 13.7, 10.2, 6.5, 20.1, 7.6, 7.3, 23.5, 9.7  …  2.8, 12.1, 3…\n",
       "  \"n\" => [3.75, 4.25, 9.25, 4.5, 5.75, 12.0, 7.0, 6.0, 8.0, 4.0  …  5.0, 9.0, 3…"
      ]
     },
     "execution_count": 7,
     "metadata": {},
     "output_type": "execute_result"
    }
   ],
   "source": [
    "induct = readclassjson(\"data/inductor_data.json\")"
   ]
  },
  {
   "cell_type": "code",
   "execution_count": 15,
   "metadata": {},
   "outputs": [],
   "source": [
    "lL = log.(induct[\"L\"])\n",
    "lw = log.(induct[\"w\"])\n",
    "lD = log.(induct[\"D\"])\n",
    "ld = log.(induct[\"d\"])\n",
    "ln = log.(induct[\"n\"]);"
   ]
  },
  {
   "cell_type": "code",
   "execution_count": 35,
   "metadata": {},
   "outputs": [
    {
     "data": {
      "text/plain": [
       "(50,)"
      ]
     },
     "execution_count": 35,
     "metadata": {},
     "output_type": "execute_result"
    }
   ],
   "source": [
    "size(lL)"
   ]
  },
  {
   "cell_type": "code",
   "execution_count": 22,
   "metadata": {},
   "outputs": [
    {
     "data": {
      "text/plain": [
       "(1, 50)"
      ]
     },
     "execution_count": 22,
     "metadata": {},
     "output_type": "execute_result"
    }
   ],
   "source": []
  },
  {
   "cell_type": "code",
   "execution_count": 19,
   "metadata": {},
   "outputs": [
    {
     "data": {
      "text/plain": [
       "1×50 Array{Float64,2}:\n",
       " 1.0  1.0  1.0  1.0  1.0  1.0  1.0  1.0  …  1.0  1.0  1.0  1.0  1.0  1.0  1.0"
      ]
     },
     "execution_count": 19,
     "metadata": {},
     "output_type": "execute_result"
    }
   ],
   "source": [
    "intercept = ones(1,50)"
   ]
  },
  {
   "cell_type": "code",
   "execution_count": 28,
   "metadata": {},
   "outputs": [
    {
     "data": {
      "text/plain": [
       "50×5 Array{Float64,2}:\n",
       " 1.0  1.32176  3.10906  5.10867  5.84354\n",
       " 1.0  1.44692  3.04452  4.88922  5.78383\n",
       " 1.0  2.22462  1.79176  4.16434  5.34711\n",
       " 1.0  1.50408  2.8679   5.40223  5.97889\n",
       " 1.0  1.7492   2.48491  4.40733  5.48064\n",
       " 1.0  2.48491  1.16315  4.04305  5.19296\n",
       " 1.0  1.94591  2.56495  3.52636  5.70378\n",
       " 1.0  1.79176  3.17805  3.73767  5.99146\n",
       " 1.0  2.07944  1.60944  5.09987  5.70378\n",
       " 1.0  1.38629  1.60944  5.46383  5.70378\n",
       " 1.0  2.3979   2.19722  3.09104  5.70378\n",
       " 1.0  2.07944  2.63906  2.99573  5.70378\n",
       " 1.0  1.79176  2.94444  3.46574  5.70378\n",
       " ⋮                               \n",
       " 1.0  2.19722  1.8718   1.60944  5.34711\n",
       " 1.0  2.07944  1.79176  3.82864  5.42053\n",
       " 1.0  1.60944  1.94591  3.78419  5.03695\n",
       " 1.0  2.19722  1.94591  3.78419  5.52146\n",
       " 1.0  1.17865  3.21888  5.01396  5.82895\n",
       " 1.0  1.50408  3.13549  3.93183  5.70378\n",
       " 1.0  1.09861  2.89037  5.12396  5.70378\n",
       " 1.0  1.7492   2.25129  3.16758  5.24702\n",
       " 1.0  1.09861  4.49981  4.91265  6.55108\n",
       " 1.0  1.38629  2.77259  4.30407  5.56834\n",
       " 1.0  1.79176  2.77259  4.60517  5.97126\n",
       " 1.0  2.07944  2.77259  4.91265  6.27664"
      ]
     },
     "execution_count": 28,
     "metadata": {},
     "output_type": "execute_result"
    }
   ],
   "source": [
    "design = [transpose(intercept) ln lw ld lD]"
   ]
  },
  {
   "cell_type": "code",
   "execution_count": 50,
   "metadata": {},
   "outputs": [
    {
     "data": {
      "text/plain": [
       "5-element Array{Float64,1}:\n",
       " -7.2541217323302485\n",
       "  1.379364507670155\n",
       " -0.4806038688513885\n",
       "  0.275615953098549\n",
       "  1.213171626335038"
      ]
     },
     "execution_count": 50,
     "metadata": {},
     "output_type": "execute_result"
    }
   ],
   "source": [
    "F = qr(design)\n",
    "R = F.R\n",
    "Q = F.Q\n",
    "coefficients = inv(R) * transpose(Q[:,1:5]) * lL"
   ]
  },
  {
   "cell_type": "code",
   "execution_count": 45,
   "metadata": {},
   "outputs": [
    {
     "data": {
      "text/plain": [
       "5-element Array{Float64,1}:\n",
       " -7.254121732328082\n",
       "  1.3793645076706198\n",
       " -0.48060386885095424\n",
       "  0.27561595309879255\n",
       "  1.2131716263341366"
      ]
     },
     "execution_count": 45,
     "metadata": {},
     "output_type": "execute_result"
    }
   ],
   "source": [
    "coefficients = inv(transpose(design) * design) * transpose(design) * lL"
   ]
  },
  {
   "cell_type": "code",
   "execution_count": 46,
   "metadata": {},
   "outputs": [
    {
     "data": {
      "text/plain": [
       "50-element Array{Float64,1}:\n",
       "  4.816693056661896\n",
       "  5.169714756609035\n",
       " 13.303608802234692\n",
       "  8.886918832583243\n",
       "  6.222006749426116\n",
       " 20.671022967278425\n",
       "  8.07571456155682\n",
       "  7.3068983579024565\n",
       " 23.7113929035591\n",
       " 10.076114184412646\n",
       " 15.943686822329685\n",
       "  8.09449037927301\n",
       "  5.350222163312585\n",
       "  ⋮\n",
       "  6.095814575405753\n",
       " 10.851827525304378\n",
       "  3.2685251817228176\n",
       " 13.235500787489151\n",
       "  3.589843508532568\n",
       "  3.7320568830948884\n",
       "  3.3336056432058006\n",
       "  3.7257192524202813\n",
       "  4.056132658908893\n",
       "  3.5508719761944665\n",
       " 11.004173683481907\n",
       " 25.79862272786435"
      ]
     },
     "execution_count": 46,
     "metadata": {},
     "output_type": "execute_result"
    }
   ],
   "source": [
    "L = induct[\"L\"]\n",
    "Lhat = exp.(design * coefficients)"
   ]
  },
  {
   "cell_type": "code",
   "execution_count": 47,
   "metadata": {},
   "outputs": [
    {
     "data": {
      "text/plain": [
       "6.77002401837891"
      ]
     },
     "execution_count": 47,
     "metadata": {},
     "output_type": "execute_result"
    }
   ],
   "source": [
    "e = 100 .* abs.(Lhat - L) ./ L;\n",
    "eBar = sum(e)/50"
   ]
  },
  {
   "cell_type": "code",
   "execution_count": null,
   "metadata": {},
   "outputs": [],
   "source": []
  },
  {
   "cell_type": "code",
   "execution_count": null,
   "metadata": {},
   "outputs": [],
   "source": []
  },
  {
   "cell_type": "markdown",
   "metadata": {},
   "source": [
    "## 7.1060 Curve-smoothing "
   ]
  },
  {
   "cell_type": "markdown",
   "metadata": {},
   "source": [
    "### a)\n",
    "*Explain how to find $g$ that minimizes $d+\\mu c,$ where $\\mu \\geq 0$ is a parameter that gives the relative weighting of sum-square curvature compared to sum-square deviation. Does your method always work? If there are some assumptions you need to make (say, on rank of some matrix, independence of some vectors, etc.), state them clearly. Explain how to obtain the two extreme cases: $\\mu=0,$ which corresponds to minimizing $d$ without regard for $c,$ and also the solution obtained as $\\mu \\rightarrow \\infty(i . e .,$ as we put more and more weight on minimizing curvature).*"
   ]
  },
  {
   "cell_type": "markdown",
   "metadata": {},
   "source": [
    "Let us reformat the problem to match the multi-objective least squares format $\\|A x-y\\|^{2}+\\mu\\|F x-b\\|^{2}$. The first term is roughly our mean square deviation objective. We can write $d=\\frac{1}{n} \\sum_{i=1}^{n}\\left(f_{i}-g_{i}\\right)^{2}$ in vector form $$d = \\frac{1}{n}||f - g||^2 = ||\\frac{I}{\\sqrt{n}}g - \\frac{f}{\\sqrt{n}}||^2$$ We can then see here $A = \\frac{I}{\\sqrt{n}},\\, x = g, \\, y = \\frac{f}{\\sqrt{n}}$. \n",
    "\n",
    "Similarly, to add a cost for curvature we can rewrite $c=\\frac{1}{n-2} \\sum_{i=2}^{n-1}\\left(\\frac{g_{i+1}-2 g_{i}+g_{i-1}}{1 / n^{2}}\\right)^{2}$ as $\\frac{1}{n-2} || \\frac{B}{n^2}g||^2$ where B is an $n-2 \\times n$ matrix \n",
    "$\n",
    "B_{ij} = \\begin{cases}1 & \\text{if }i=j \\\\ -2 & \\text{if }j=i+1\\\\1 & \\text{if }j=i+2 \\\\ 0 & \\text{else}  \\end{cases} \\implies B = \\begin{bmatrix}1 & -2 & 1 & 0 &\\cdots &0 \\\\ 0 & 1 & -2 & 1 &\\cdots &0 \\\\ \\vdots & \\ddots & & & &\\vdots \\\\ 0 & \\cdots & 0 & 1 & -2 & 1\\end{bmatrix}\n",
    "$\n",
    "\n",
    "Here we are equating $F =\\frac{B}{n^2}, \\, x = g, \\, b=0$. Then our objective is $\\underset{g}{min} \\; ||\\frac{I}{\\sqrt{n}}g - \\frac{f}{\\sqrt{n}}||^2 + \\frac{\\mu}{n-2} ||\\frac{B}{n^2}g||^2$. Following the steps from lecture \n",
    "$$\n",
    "\\tilde{A} = \\begin{bmatrix}\\frac{I}{\\sqrt{n}} \\\\ \\sqrt{\\frac{\\mu}{n-2}} \\frac{B}{n^2}\\end{bmatrix}\\quad \n",
    "\\tilde{y} = \\begin{bmatrix}\\frac{f}{\\sqrt{n}} \\\\ 0\\end{bmatrix}\n",
    "$$\n",
    "and the least squares solution becomes \n",
    "$$\n",
    "\\hat{g} =\\left(\\tilde{A}^{\\top} \\tilde{A}\\right)^{-1} \\tilde{A}^{\\top} \\tilde{y} \\\\\n",
    "=\\left(\\frac{1}{n}I^{\\top} I+\\frac{\\mu}{n-2} \\frac{1}{n^4}B^{\\top} B\\right)^{-1}(\\frac{1}{n}I^{\\top}f)\\\\\n",
    "=\\frac{1}{n}(\\frac{1}{n}I+\\frac{\\mu}{n-2} \\frac{1}{n^4}B^{\\top} B)^{-1}f\n",
    "$$"
   ]
  },
  {
   "cell_type": "markdown",
   "metadata": {},
   "source": [
    "For $\\mu = 0$ then $\\underset{g}{min} \\; ||\\frac{I}{\\sqrt{n}}g - \\frac{f}{\\sqrt{n}}||^2 + \\frac{\\mu}{n-2} ||\\frac{B}{n^2}g||^2 = \\underset{g}{min} \\; ||\\frac{I}{\\sqrt{n}}g - \\frac{f}{\\sqrt{n}}||^2$ and we have a more typical least squares objective without regularization on the curvature. We can see the solution becomes $\\frac{1}{n}(\\frac{1}{n}I)^{-1}f = f$ - we are able to perfectly interpolate the points of f. This makes sense since we imposed no other restrictions on the form of g (and matches the definition of a smoothing spline which we are recreating)."
   ]
  },
  {
   "cell_type": "markdown",
   "metadata": {},
   "source": [
    "As $\\mu \\rightarrow \\infty$ there is an infinite penalty on the curvature of g - therefore the function will shift to have a zero second derivative to minimize this cost. This forces g to be linear, since anything more flexible could have a non-zero second derivative. Specifically we create $X = \\begin{bmatrix} 1 & 1\\\\ 1 & 2 \\\\ \\vdots \\\\1 & n\\end{bmatrix}$ where the first column is all 1's and the second a column of indices of f. Next we create a vector of coefficients $\\beta = \\begin{bmatrix}\\beta_0 \\\\ \\beta_1\\end{bmatrix}$. Then knowing that imposing $\\mu \\rightarrow \\infty$ forces $\\frac{1}{n-2} ||\\frac{B}{n^2}g||^2 \\rightarrow 0$, our objective can be rewritten as $\\underset{g}{min} \\; ||\\frac{I}{\\sqrt{n}}g - \\frac{f}{\\sqrt{n}}||^2 = \\underset{\\beta}{min} \\; \\frac{1}{n}||X\\beta - f||^2$. This is a typical linear least squares criterion (say for linear regresion) with solution $\\hat{\\beta} = (X^TX)^{-1}X^Tf$"
   ]
  },
  {
   "cell_type": "markdown",
   "metadata": {},
   "source": [
    "### b) "
   ]
  },
  {
   "cell_type": "code",
   "execution_count": 2,
   "metadata": {},
   "outputs": [],
   "source": [
    "smooth = readclassjson(\"data/curve_smoothing.json\")\n",
    "f = smooth[\"f\"];"
   ]
  },
  {
   "cell_type": "code",
   "execution_count": 3,
   "metadata": {},
   "outputs": [],
   "source": [
    "B = zeros(49, 51)\n",
    "for i = 1:49\n",
    "   B[i, i] = 1\n",
    "   B[i, i+1] = -2\n",
    "   B[i, i+2] = 1\n",
    "end\n"
   ]
  },
  {
   "cell_type": "code",
   "execution_count": 4,
   "metadata": {},
   "outputs": [
    {
     "data": {
      "text/plain": [
       "spline (generic function with 1 method)"
      ]
     },
     "execution_count": 4,
     "metadata": {},
     "output_type": "execute_result"
    }
   ],
   "source": [
    "function spline(f, B, mu)\n",
    "    n = length(f)\n",
    "    g = (1/n)inv(1/n .* I + mu/(n^4*(n-2)) .* (transpose(B)*B)) * f\n",
    "    return g\n",
    "end"
   ]
  },
  {
   "cell_type": "code",
   "execution_count": 20,
   "metadata": {},
   "outputs": [
    {
     "data": {
      "text/plain": [
       "51-element Array{Float64,1}:\n",
       " -1.724640379298432\n",
       " -1.6647350608136189\n",
       " -1.6048297423284228\n",
       " -1.5449244238436086\n",
       " -1.4850191053582666\n",
       " -1.4251137868734995\n",
       " -1.365208468389141\n",
       " -1.3053031499042194\n",
       " -1.2453978314201333\n",
       " -1.1854925129355245\n",
       " -1.125587194451771\n",
       " -1.0656818759679916\n",
       " -1.0057765574843636\n",
       "  ⋮\n",
       "  0.6116670414432595\n",
       "  0.671572359919434\n",
       "  0.7314776783956564\n",
       "  0.7913829968718971\n",
       "  0.851288315348173\n",
       "  0.9111936338244977\n",
       "  0.9710989523008513\n",
       "  1.0310042707772433\n",
       "  1.0909095892536513\n",
       "  1.1508149077300711\n",
       "  1.2107202262064964\n",
       "  1.270625544682923"
      ]
     },
     "execution_count": 20,
     "metadata": {},
     "output_type": "execute_result"
    }
   ],
   "source": [
    "n = length(f)\n",
    "mu = 10e20\n",
    "(1/n)inv(1/n .* I + mu/(n^4*(n-2)) .* (transpose(B)*B)) * f"
   ]
  },
  {
   "cell_type": "code",
   "execution_count": 5,
   "metadata": {},
   "outputs": [
    {
     "data": {
      "text/plain": [
       "tradeoff (generic function with 1 method)"
      ]
     },
     "execution_count": 5,
     "metadata": {},
     "output_type": "execute_result"
    }
   ],
   "source": [
    "function tradeoff(mu)\n",
    "    g = spline(f, B, mu)\n",
    "    J1 = (1/length(f)) * norm(f-g)\n",
    "    J2 = (1/(length(f)-2)*length(f)^4) * norm(B*g)\n",
    "    return [J1 J2]\n",
    "end"
   ]
  },
  {
   "cell_type": "code",
   "execution_count": 6,
   "metadata": {},
   "outputs": [],
   "source": [
    "mu = exp10.(range(-15, stop=20, length=50));"
   ]
  },
  {
   "cell_type": "code",
   "execution_count": 7,
   "metadata": {},
   "outputs": [],
   "source": [
    "curve = tradeoff.(mu);"
   ]
  },
  {
   "cell_type": "code",
   "execution_count": 8,
   "metadata": {},
   "outputs": [],
   "source": [
    "J1 = [x[1] for x in curve]\n",
    "J2 = [x[2] for x in curve];"
   ]
  },
  {
   "cell_type": "code",
   "execution_count": 9,
   "metadata": {},
   "outputs": [
    {
     "data": {
      "text/plain": [
       "50-element Array{Float64,1}:\n",
       " 521846.4341517205\n",
       " 521846.4341517205\n",
       " 521846.4341517205\n",
       " 521846.4341517205\n",
       " 521846.4341517205\n",
       " 521846.4341517205\n",
       " 521846.4341517205\n",
       " 521846.4341517204\n",
       " 521846.4341517201\n",
       " 521846.4341517179\n",
       " 521846.43415170774\n",
       " 521846.43415165384\n",
       " 521846.43415137497\n",
       "      ⋮\n",
       "    155.57018414586716\n",
       "     31.26093964194523\n",
       "      6.08411714355243\n",
       "      1.1764920808694048\n",
       "      0.22721353968230504\n",
       "      0.043870618497397526\n",
       "      0.008470182237773256\n",
       "      0.0016353484336196725\n",
       "      0.0003157291496935925\n",
       "      6.0954340467437486e-5\n",
       "      1.1783519671862748e-5\n",
       "      2.292333613263796e-6"
      ]
     },
     "execution_count": 9,
     "metadata": {},
     "output_type": "execute_result"
    }
   ],
   "source": [
    "J2"
   ]
  },
  {
   "cell_type": "code",
   "execution_count": 10,
   "metadata": {},
   "outputs": [
    {
     "data": {
      "image/svg+xml": [
       "<?xml version=\"1.0\" encoding=\"utf-8\"?>\n",
       "<svg xmlns=\"http://www.w3.org/2000/svg\" xmlns:xlink=\"http://www.w3.org/1999/xlink\" width=\"600\" height=\"400\" viewBox=\"0 0 2400 1600\">\n",
       "<defs>\n",
       "  <clipPath id=\"clip000\">\n",
       "    <rect x=\"0\" y=\"0\" width=\"2400\" height=\"1600\"/>\n",
       "  </clipPath>\n",
       "</defs>\n",
       "<path clip-path=\"url(#clip000)\" d=\"\n",
       "M0 1600 L2400 1600 L2400 0 L0 0  Z\n",
       "  \" fill=\"#ffffff\" fill-rule=\"evenodd\" fill-opacity=\"1\"/>\n",
       "<defs>\n",
       "  <clipPath id=\"clip001\">\n",
       "    <rect x=\"480\" y=\"0\" width=\"1681\" height=\"1600\"/>\n",
       "  </clipPath>\n",
       "</defs>\n",
       "<path clip-path=\"url(#clip000)\" d=\"\n",
       "M238.616 1410.9 L2352.76 1410.9 L2352.76 123.472 L238.616 123.472  Z\n",
       "  \" fill=\"#ffffff\" fill-rule=\"evenodd\" fill-opacity=\"1\"/>\n",
       "<defs>\n",
       "  <clipPath id=\"clip002\">\n",
       "    <rect x=\"238\" y=\"123\" width=\"2115\" height=\"1288\"/>\n",
       "  </clipPath>\n",
       "</defs>\n",
       "<polyline clip-path=\"url(#clip002)\" style=\"stroke:#000000; stroke-width:2; stroke-opacity:0.1; fill:none\" points=\"\n",
       "  298.45,1410.9 298.45,123.472 \n",
       "  \"/>\n",
       "<polyline clip-path=\"url(#clip002)\" style=\"stroke:#000000; stroke-width:2; stroke-opacity:0.1; fill:none\" points=\"\n",
       "  680.645,1410.9 680.645,123.472 \n",
       "  \"/>\n",
       "<polyline clip-path=\"url(#clip002)\" style=\"stroke:#000000; stroke-width:2; stroke-opacity:0.1; fill:none\" points=\"\n",
       "  1062.84,1410.9 1062.84,123.472 \n",
       "  \"/>\n",
       "<polyline clip-path=\"url(#clip002)\" style=\"stroke:#000000; stroke-width:2; stroke-opacity:0.1; fill:none\" points=\"\n",
       "  1445.04,1410.9 1445.04,123.472 \n",
       "  \"/>\n",
       "<polyline clip-path=\"url(#clip002)\" style=\"stroke:#000000; stroke-width:2; stroke-opacity:0.1; fill:none\" points=\"\n",
       "  1827.23,1410.9 1827.23,123.472 \n",
       "  \"/>\n",
       "<polyline clip-path=\"url(#clip002)\" style=\"stroke:#000000; stroke-width:2; stroke-opacity:0.1; fill:none\" points=\"\n",
       "  2209.43,1410.9 2209.43,123.472 \n",
       "  \"/>\n",
       "<polyline clip-path=\"url(#clip002)\" style=\"stroke:#000000; stroke-width:2; stroke-opacity:0.1; fill:none\" points=\"\n",
       "  238.616,1374.46 2352.76,1374.46 \n",
       "  \"/>\n",
       "<polyline clip-path=\"url(#clip002)\" style=\"stroke:#000000; stroke-width:2; stroke-opacity:0.1; fill:none\" points=\"\n",
       "  238.616,1074.59 2352.76,1074.59 \n",
       "  \"/>\n",
       "<polyline clip-path=\"url(#clip002)\" style=\"stroke:#000000; stroke-width:2; stroke-opacity:0.1; fill:none\" points=\"\n",
       "  238.616,774.723 2352.76,774.723 \n",
       "  \"/>\n",
       "<polyline clip-path=\"url(#clip002)\" style=\"stroke:#000000; stroke-width:2; stroke-opacity:0.1; fill:none\" points=\"\n",
       "  238.616,474.855 2352.76,474.855 \n",
       "  \"/>\n",
       "<polyline clip-path=\"url(#clip002)\" style=\"stroke:#000000; stroke-width:2; stroke-opacity:0.1; fill:none\" points=\"\n",
       "  238.616,174.986 2352.76,174.986 \n",
       "  \"/>\n",
       "<polyline clip-path=\"url(#clip000)\" style=\"stroke:#000000; stroke-width:4; stroke-opacity:1; fill:none\" points=\"\n",
       "  238.616,1410.9 2352.76,1410.9 \n",
       "  \"/>\n",
       "<polyline clip-path=\"url(#clip000)\" style=\"stroke:#000000; stroke-width:4; stroke-opacity:1; fill:none\" points=\"\n",
       "  238.616,1410.9 238.616,123.472 \n",
       "  \"/>\n",
       "<polyline clip-path=\"url(#clip000)\" style=\"stroke:#000000; stroke-width:4; stroke-opacity:1; fill:none\" points=\"\n",
       "  298.45,1410.9 298.45,1395.45 \n",
       "  \"/>\n",
       "<polyline clip-path=\"url(#clip000)\" style=\"stroke:#000000; stroke-width:4; stroke-opacity:1; fill:none\" points=\"\n",
       "  680.645,1410.9 680.645,1395.45 \n",
       "  \"/>\n",
       "<polyline clip-path=\"url(#clip000)\" style=\"stroke:#000000; stroke-width:4; stroke-opacity:1; fill:none\" points=\"\n",
       "  1062.84,1410.9 1062.84,1395.45 \n",
       "  \"/>\n",
       "<polyline clip-path=\"url(#clip000)\" style=\"stroke:#000000; stroke-width:4; stroke-opacity:1; fill:none\" points=\"\n",
       "  1445.04,1410.9 1445.04,1395.45 \n",
       "  \"/>\n",
       "<polyline clip-path=\"url(#clip000)\" style=\"stroke:#000000; stroke-width:4; stroke-opacity:1; fill:none\" points=\"\n",
       "  1827.23,1410.9 1827.23,1395.45 \n",
       "  \"/>\n",
       "<polyline clip-path=\"url(#clip000)\" style=\"stroke:#000000; stroke-width:4; stroke-opacity:1; fill:none\" points=\"\n",
       "  2209.43,1410.9 2209.43,1395.45 \n",
       "  \"/>\n",
       "<polyline clip-path=\"url(#clip000)\" style=\"stroke:#000000; stroke-width:4; stroke-opacity:1; fill:none\" points=\"\n",
       "  238.616,1374.46 263.986,1374.46 \n",
       "  \"/>\n",
       "<polyline clip-path=\"url(#clip000)\" style=\"stroke:#000000; stroke-width:4; stroke-opacity:1; fill:none\" points=\"\n",
       "  238.616,1074.59 263.986,1074.59 \n",
       "  \"/>\n",
       "<polyline clip-path=\"url(#clip000)\" style=\"stroke:#000000; stroke-width:4; stroke-opacity:1; fill:none\" points=\"\n",
       "  238.616,774.723 263.986,774.723 \n",
       "  \"/>\n",
       "<polyline clip-path=\"url(#clip000)\" style=\"stroke:#000000; stroke-width:4; stroke-opacity:1; fill:none\" points=\"\n",
       "  238.616,474.855 263.986,474.855 \n",
       "  \"/>\n",
       "<polyline clip-path=\"url(#clip000)\" style=\"stroke:#000000; stroke-width:4; stroke-opacity:1; fill:none\" points=\"\n",
       "  238.616,174.986 263.986,174.986 \n",
       "  \"/>\n",
       "<path clip-path=\"url(#clip000)\" d=\"M 0 0 M298.45 1432.89 Q294.839 1432.89 293.011 1436.45 Q291.205 1439.99 291.205 1447.12 Q291.205 1454.23 293.011 1457.79 Q294.839 1461.34 298.45 1461.34 Q302.085 1461.34 303.89 1457.79 Q305.719 1454.23 305.719 1447.12 Q305.719 1439.99 303.89 1436.45 Q302.085 1432.89 298.45 1432.89 M298.45 1429.18 Q304.26 1429.18 307.316 1433.79 Q310.395 1438.37 310.395 1447.12 Q310.395 1455.85 307.316 1460.46 Q304.26 1465.04 298.45 1465.04 Q292.64 1465.04 289.561 1460.46 Q286.506 1455.85 286.506 1447.12 Q286.506 1438.37 289.561 1433.79 Q292.64 1429.18 298.45 1429.18 Z\" fill=\"#000000\" fill-rule=\"evenodd\" fill-opacity=\"1\" /><path clip-path=\"url(#clip000)\" d=\"M 0 0 M618.923 1481.97 L626.561 1481.97 L626.561 1455.6 L618.251 1457.27 L618.251 1453.01 L626.515 1451.34 L631.191 1451.34 L631.191 1481.97 L638.83 1481.97 L638.83 1485.9 L618.923 1485.9 L618.923 1481.97 Z\" fill=\"#000000\" fill-rule=\"evenodd\" fill-opacity=\"1\" /><path clip-path=\"url(#clip000)\" d=\"M 0 0 M672.071 1460.44 L661.492 1471.07 L672.071 1481.64 L669.316 1484.45 L658.691 1473.82 L648.066 1484.45 L645.335 1481.64 L655.89 1471.07 L645.335 1460.44 L648.066 1457.64 L658.691 1468.27 L669.316 1457.64 L672.071 1460.44 Z\" fill=\"#000000\" fill-rule=\"evenodd\" fill-opacity=\"1\" /><path clip-path=\"url(#clip000)\" d=\"M 0 0 M677.95 1481.97 L685.589 1481.97 L685.589 1455.6 L677.279 1457.27 L677.279 1453.01 L685.543 1451.34 L690.219 1451.34 L690.219 1481.97 L697.857 1481.97 L697.857 1485.9 L677.95 1485.9 L677.95 1481.97 Z\" fill=\"#000000\" fill-rule=\"evenodd\" fill-opacity=\"1\" /><path clip-path=\"url(#clip000)\" d=\"M 0 0 M712.927 1454.42 Q709.316 1454.42 707.487 1457.99 Q705.681 1461.53 705.681 1468.66 Q705.681 1475.77 707.487 1479.33 Q709.316 1482.87 712.927 1482.87 Q716.561 1482.87 718.367 1479.33 Q720.195 1475.77 720.195 1468.66 Q720.195 1461.53 718.367 1457.99 Q716.561 1454.42 712.927 1454.42 M712.927 1450.72 Q718.737 1450.72 721.792 1455.33 Q724.871 1459.91 724.871 1468.66 Q724.871 1477.39 721.792 1481.99 Q718.737 1486.58 712.927 1486.58 Q707.117 1486.58 704.038 1481.99 Q700.982 1477.39 700.982 1468.66 Q700.982 1459.91 704.038 1455.33 Q707.117 1450.72 712.927 1450.72 Z\" fill=\"#000000\" fill-rule=\"evenodd\" fill-opacity=\"1\" /><path clip-path=\"url(#clip000)\" d=\"M 0 0 M726.056 1430.41 L740.971 1430.41 L740.971 1433.61 L729.535 1433.61 L729.535 1440.49 Q730.363 1440.21 731.191 1440.08 Q732.018 1439.93 732.846 1439.93 Q737.548 1439.93 740.294 1442.51 Q743.039 1445.08 743.039 1449.48 Q743.039 1454.02 740.218 1456.54 Q737.397 1459.04 732.263 1459.04 Q730.495 1459.04 728.652 1458.74 Q726.827 1458.44 724.871 1457.84 L724.871 1454.02 Q726.564 1454.94 728.369 1455.39 Q730.175 1455.84 732.187 1455.84 Q735.441 1455.84 737.341 1454.13 Q739.24 1452.42 739.24 1449.48 Q739.24 1446.55 737.341 1444.84 Q735.441 1443.13 732.187 1443.13 Q730.664 1443.13 729.141 1443.47 Q727.636 1443.8 726.056 1444.52 L726.056 1430.41 Z\" fill=\"#000000\" fill-rule=\"evenodd\" fill-opacity=\"1\" /><path clip-path=\"url(#clip000)\" d=\"M 0 0 M1005.39 1481.97 L1021.71 1481.97 L1021.71 1485.9 L999.764 1485.9 L999.764 1481.97 Q1002.43 1479.21 1007.01 1474.58 Q1011.62 1469.93 1012.8 1468.59 Q1015.04 1466.07 1015.92 1464.33 Q1016.82 1462.57 1016.82 1460.88 Q1016.82 1458.13 1014.88 1456.39 Q1012.96 1454.65 1009.86 1454.65 Q1007.66 1454.65 1005.2 1455.42 Q1002.77 1456.18 999.995 1457.73 L999.995 1453.01 Q1002.82 1451.88 1005.27 1451.3 Q1007.73 1450.72 1009.76 1450.72 Q1015.13 1450.72 1018.33 1453.4 Q1021.52 1456.09 1021.52 1460.58 Q1021.52 1462.71 1020.71 1464.63 Q1019.93 1466.53 1017.82 1469.12 Q1017.24 1469.79 1014.14 1473.01 Q1011.04 1476.2 1005.39 1481.97 Z\" fill=\"#000000\" fill-rule=\"evenodd\" fill-opacity=\"1\" /><path clip-path=\"url(#clip000)\" d=\"M 0 0 M1054.95 1460.44 L1044.37 1471.07 L1054.95 1481.64 L1052.19 1484.45 L1041.57 1473.82 L1030.94 1484.45 L1028.21 1481.64 L1038.77 1471.07 L1028.21 1460.44 L1030.94 1457.64 L1041.57 1468.27 L1052.19 1457.64 L1054.95 1460.44 Z\" fill=\"#000000\" fill-rule=\"evenodd\" fill-opacity=\"1\" /><path clip-path=\"url(#clip000)\" d=\"M 0 0 M1060.83 1481.97 L1068.47 1481.97 L1068.47 1455.6 L1060.16 1457.27 L1060.16 1453.01 L1068.42 1451.34 L1073.1 1451.34 L1073.1 1481.97 L1080.74 1481.97 L1080.74 1485.9 L1060.83 1485.9 L1060.83 1481.97 Z\" fill=\"#000000\" fill-rule=\"evenodd\" fill-opacity=\"1\" /><path clip-path=\"url(#clip000)\" d=\"M 0 0 M1095.8 1454.42 Q1092.19 1454.42 1090.36 1457.99 Q1088.56 1461.53 1088.56 1468.66 Q1088.56 1475.77 1090.36 1479.33 Q1092.19 1482.87 1095.8 1482.87 Q1099.44 1482.87 1101.24 1479.33 Q1103.07 1475.77 1103.07 1468.66 Q1103.07 1461.53 1101.24 1457.99 Q1099.44 1454.42 1095.8 1454.42 M1095.8 1450.72 Q1101.61 1450.72 1104.67 1455.33 Q1107.75 1459.91 1107.75 1468.66 Q1107.75 1477.39 1104.67 1481.99 Q1101.61 1486.58 1095.8 1486.58 Q1089.99 1486.58 1086.92 1481.99 Q1083.86 1477.39 1083.86 1468.66 Q1083.86 1459.91 1086.92 1455.33 Q1089.99 1450.72 1095.8 1450.72 Z\" fill=\"#000000\" fill-rule=\"evenodd\" fill-opacity=\"1\" /><path clip-path=\"url(#clip000)\" d=\"M 0 0 M1108.93 1430.41 L1123.85 1430.41 L1123.85 1433.61 L1112.41 1433.61 L1112.41 1440.49 Q1113.24 1440.21 1114.07 1440.08 Q1114.9 1439.93 1115.72 1439.93 Q1120.43 1439.93 1123.17 1442.51 Q1125.92 1445.08 1125.92 1449.48 Q1125.92 1454.02 1123.1 1456.54 Q1120.28 1459.04 1115.14 1459.04 Q1113.37 1459.04 1111.53 1458.74 Q1109.71 1458.44 1107.75 1457.84 L1107.75 1454.02 Q1109.44 1454.94 1111.25 1455.39 Q1113.05 1455.84 1115.07 1455.84 Q1118.32 1455.84 1120.22 1454.13 Q1122.12 1452.42 1122.12 1449.48 Q1122.12 1446.55 1120.22 1444.84 Q1118.32 1443.13 1115.07 1443.13 Q1113.54 1443.13 1112.02 1443.47 Q1110.51 1443.8 1108.93 1444.52 L1108.93 1430.41 Z\" fill=\"#000000\" fill-rule=\"evenodd\" fill-opacity=\"1\" /><path clip-path=\"url(#clip000)\" d=\"M 0 0 M1397.18 1467.27 Q1400.53 1467.99 1402.41 1470.26 Q1404.31 1472.52 1404.31 1475.86 Q1404.31 1480.97 1400.79 1483.77 Q1397.27 1486.58 1390.79 1486.58 Q1388.61 1486.58 1386.3 1486.14 Q1384.01 1485.72 1381.55 1484.86 L1381.55 1480.35 Q1383.5 1481.48 1385.81 1482.06 Q1388.13 1482.64 1390.65 1482.64 Q1395.05 1482.64 1397.34 1480.9 Q1399.66 1479.17 1399.66 1475.86 Q1399.66 1472.8 1397.5 1471.09 Q1395.37 1469.35 1391.55 1469.35 L1387.53 1469.35 L1387.53 1465.51 L1391.74 1465.51 Q1395.19 1465.51 1397.02 1464.14 Q1398.85 1462.76 1398.85 1460.16 Q1398.85 1457.5 1396.95 1456.09 Q1395.07 1454.65 1391.55 1454.65 Q1389.63 1454.65 1387.43 1455.07 Q1385.23 1455.49 1382.6 1456.37 L1382.6 1452.2 Q1385.26 1451.46 1387.57 1451.09 Q1389.91 1450.72 1391.97 1450.72 Q1397.29 1450.72 1400.4 1453.15 Q1403.5 1455.56 1403.5 1459.68 Q1403.5 1462.55 1401.85 1464.54 Q1400.21 1466.51 1397.18 1467.27 Z\" fill=\"#000000\" fill-rule=\"evenodd\" fill-opacity=\"1\" /><path clip-path=\"url(#clip000)\" d=\"M 0 0 M1437.55 1460.44 L1426.97 1471.07 L1437.55 1481.64 L1434.79 1484.45 L1424.17 1473.82 L1413.54 1484.45 L1410.81 1481.64 L1421.37 1471.07 L1410.81 1460.44 L1413.54 1457.64 L1424.17 1468.27 L1434.79 1457.64 L1437.55 1460.44 Z\" fill=\"#000000\" fill-rule=\"evenodd\" fill-opacity=\"1\" /><path clip-path=\"url(#clip000)\" d=\"M 0 0 M1443.43 1481.97 L1451.07 1481.97 L1451.07 1455.6 L1442.76 1457.27 L1442.76 1453.01 L1451.02 1451.34 L1455.7 1451.34 L1455.7 1481.97 L1463.34 1481.97 L1463.34 1485.9 L1443.43 1485.9 L1443.43 1481.97 Z\" fill=\"#000000\" fill-rule=\"evenodd\" fill-opacity=\"1\" /><path clip-path=\"url(#clip000)\" d=\"M 0 0 M1478.4 1454.42 Q1474.79 1454.42 1472.97 1457.99 Q1471.16 1461.53 1471.16 1468.66 Q1471.16 1475.77 1472.97 1479.33 Q1474.79 1482.87 1478.4 1482.87 Q1482.04 1482.87 1483.84 1479.33 Q1485.67 1475.77 1485.67 1468.66 Q1485.67 1461.53 1483.84 1457.99 Q1482.04 1454.42 1478.4 1454.42 M1478.4 1450.72 Q1484.22 1450.72 1487.27 1455.33 Q1490.35 1459.91 1490.35 1468.66 Q1490.35 1477.39 1487.27 1481.99 Q1484.22 1486.58 1478.4 1486.58 Q1472.59 1486.58 1469.52 1481.99 Q1466.46 1477.39 1466.46 1468.66 Q1466.46 1459.91 1469.52 1455.33 Q1472.59 1450.72 1478.4 1450.72 Z\" fill=\"#000000\" fill-rule=\"evenodd\" fill-opacity=\"1\" /><path clip-path=\"url(#clip000)\" d=\"M 0 0 M1491.53 1430.41 L1506.45 1430.41 L1506.45 1433.61 L1495.01 1433.61 L1495.01 1440.49 Q1495.84 1440.21 1496.67 1440.08 Q1497.5 1439.93 1498.32 1439.93 Q1503.03 1439.93 1505.77 1442.51 Q1508.52 1445.08 1508.52 1449.48 Q1508.52 1454.02 1505.7 1456.54 Q1502.88 1459.04 1497.74 1459.04 Q1495.97 1459.04 1494.13 1458.74 Q1492.31 1458.44 1490.35 1457.84 L1490.35 1454.02 Q1492.04 1454.94 1493.85 1455.39 Q1495.65 1455.84 1497.67 1455.84 Q1500.92 1455.84 1502.82 1454.13 Q1504.72 1452.42 1504.72 1449.48 Q1504.72 1446.55 1502.82 1444.84 Q1500.92 1443.13 1497.67 1443.13 Q1496.14 1443.13 1494.62 1443.47 Q1493.11 1443.8 1491.53 1444.52 L1491.53 1430.41 Z\" fill=\"#000000\" fill-rule=\"evenodd\" fill-opacity=\"1\" /><path clip-path=\"url(#clip000)\" d=\"M 0 0 M1778.14 1455.42 L1766.33 1473.87 L1778.14 1473.87 L1778.14 1455.42 M1776.91 1451.34 L1782.79 1451.34 L1782.79 1473.87 L1787.72 1473.87 L1787.72 1477.76 L1782.79 1477.76 L1782.79 1485.9 L1778.14 1485.9 L1778.14 1477.76 L1762.53 1477.76 L1762.53 1473.24 L1776.91 1451.34 Z\" fill=\"#000000\" fill-rule=\"evenodd\" fill-opacity=\"1\" /><path clip-path=\"url(#clip000)\" d=\"M 0 0 M1820.96 1460.44 L1810.38 1471.07 L1820.96 1481.64 L1818.2 1484.45 L1807.58 1473.82 L1796.95 1484.45 L1794.22 1481.64 L1804.78 1471.07 L1794.22 1460.44 L1796.95 1457.64 L1807.58 1468.27 L1818.2 1457.64 L1820.96 1460.44 Z\" fill=\"#000000\" fill-rule=\"evenodd\" fill-opacity=\"1\" /><path clip-path=\"url(#clip000)\" d=\"M 0 0 M1826.84 1481.97 L1834.48 1481.97 L1834.48 1455.6 L1826.17 1457.27 L1826.17 1453.01 L1834.43 1451.34 L1839.11 1451.34 L1839.11 1481.97 L1846.75 1481.97 L1846.75 1485.9 L1826.84 1485.9 L1826.84 1481.97 Z\" fill=\"#000000\" fill-rule=\"evenodd\" fill-opacity=\"1\" /><path clip-path=\"url(#clip000)\" d=\"M 0 0 M1861.82 1454.42 Q1858.2 1454.42 1856.38 1457.99 Q1854.57 1461.53 1854.57 1468.66 Q1854.57 1475.77 1856.38 1479.33 Q1858.2 1482.87 1861.82 1482.87 Q1865.45 1482.87 1867.26 1479.33 Q1869.08 1475.77 1869.08 1468.66 Q1869.08 1461.53 1867.26 1457.99 Q1865.45 1454.42 1861.82 1454.42 M1861.82 1450.72 Q1867.63 1450.72 1870.68 1455.33 Q1873.76 1459.91 1873.76 1468.66 Q1873.76 1477.39 1870.68 1481.99 Q1867.63 1486.58 1861.82 1486.58 Q1856.01 1486.58 1852.93 1481.99 Q1849.87 1477.39 1849.87 1468.66 Q1849.87 1459.91 1852.93 1455.33 Q1856.01 1450.72 1861.82 1450.72 Z\" fill=\"#000000\" fill-rule=\"evenodd\" fill-opacity=\"1\" /><path clip-path=\"url(#clip000)\" d=\"M 0 0 M1874.94 1430.41 L1889.86 1430.41 L1889.86 1433.61 L1878.42 1433.61 L1878.42 1440.49 Q1879.25 1440.21 1880.08 1440.08 Q1880.91 1439.93 1881.73 1439.93 Q1886.44 1439.93 1889.18 1442.51 Q1891.93 1445.08 1891.93 1449.48 Q1891.93 1454.02 1889.11 1456.54 Q1886.29 1459.04 1881.15 1459.04 Q1879.38 1459.04 1877.54 1458.74 Q1875.72 1458.44 1873.76 1457.84 L1873.76 1454.02 Q1875.45 1454.94 1877.26 1455.39 Q1879.06 1455.84 1881.08 1455.84 Q1884.33 1455.84 1886.23 1454.13 Q1888.13 1452.42 1888.13 1449.48 Q1888.13 1446.55 1886.23 1444.84 Q1884.33 1443.13 1881.08 1443.13 Q1879.55 1443.13 1878.03 1443.47 Q1876.52 1443.8 1874.94 1444.52 L1874.94 1430.41 Z\" fill=\"#000000\" fill-rule=\"evenodd\" fill-opacity=\"1\" /><path clip-path=\"url(#clip000)\" d=\"M 0 0 M2147.6 1451.34 L2165.96 1451.34 L2165.96 1455.28 L2151.88 1455.28 L2151.88 1463.75 Q2152.9 1463.4 2153.92 1463.24 Q2154.94 1463.06 2155.96 1463.06 Q2161.74 1463.06 2165.12 1466.23 Q2168.5 1469.4 2168.5 1474.82 Q2168.5 1480.39 2165.03 1483.5 Q2161.56 1486.58 2155.24 1486.58 Q2153.06 1486.58 2150.79 1486.2 Q2148.55 1485.83 2146.14 1485.09 L2146.14 1480.39 Q2148.22 1481.53 2150.45 1482.08 Q2152.67 1482.64 2155.15 1482.64 Q2159.15 1482.64 2161.49 1480.53 Q2163.83 1478.43 2163.83 1474.82 Q2163.83 1471.2 2161.49 1469.1 Q2159.15 1466.99 2155.15 1466.99 Q2153.27 1466.99 2151.4 1467.41 Q2149.54 1467.83 2147.6 1468.7 L2147.6 1451.34 Z\" fill=\"#000000\" fill-rule=\"evenodd\" fill-opacity=\"1\" /><path clip-path=\"url(#clip000)\" d=\"M 0 0 M2201.74 1460.44 L2191.16 1471.07 L2201.74 1481.64 L2198.99 1484.45 L2188.36 1473.82 L2177.74 1484.45 L2175.01 1481.64 L2185.56 1471.07 L2175.01 1460.44 L2177.74 1457.64 L2188.36 1468.27 L2198.99 1457.64 L2201.74 1460.44 Z\" fill=\"#000000\" fill-rule=\"evenodd\" fill-opacity=\"1\" /><path clip-path=\"url(#clip000)\" d=\"M 0 0 M2207.62 1481.97 L2215.26 1481.97 L2215.26 1455.6 L2206.95 1457.27 L2206.95 1453.01 L2215.21 1451.34 L2219.89 1451.34 L2219.89 1481.97 L2227.53 1481.97 L2227.53 1485.9 L2207.62 1485.9 L2207.62 1481.97 Z\" fill=\"#000000\" fill-rule=\"evenodd\" fill-opacity=\"1\" /><path clip-path=\"url(#clip000)\" d=\"M 0 0 M2242.6 1454.42 Q2238.99 1454.42 2237.16 1457.99 Q2235.35 1461.53 2235.35 1468.66 Q2235.35 1475.77 2237.16 1479.33 Q2238.99 1482.87 2242.6 1482.87 Q2246.23 1482.87 2248.04 1479.33 Q2249.87 1475.77 2249.87 1468.66 Q2249.87 1461.53 2248.04 1457.99 Q2246.23 1454.42 2242.6 1454.42 M2242.6 1450.72 Q2248.41 1450.72 2251.46 1455.33 Q2254.54 1459.91 2254.54 1468.66 Q2254.54 1477.39 2251.46 1481.99 Q2248.41 1486.58 2242.6 1486.58 Q2236.79 1486.58 2233.71 1481.99 Q2230.65 1477.39 2230.65 1468.66 Q2230.65 1459.91 2233.71 1455.33 Q2236.79 1450.72 2242.6 1450.72 Z\" fill=\"#000000\" fill-rule=\"evenodd\" fill-opacity=\"1\" /><path clip-path=\"url(#clip000)\" d=\"M 0 0 M2255.73 1430.41 L2270.64 1430.41 L2270.64 1433.61 L2259.21 1433.61 L2259.21 1440.49 Q2260.03 1440.21 2260.86 1440.08 Q2261.69 1439.93 2262.52 1439.93 Q2267.22 1439.93 2269.97 1442.51 Q2272.71 1445.08 2272.71 1449.48 Q2272.71 1454.02 2269.89 1456.54 Q2267.07 1459.04 2261.93 1459.04 Q2260.17 1459.04 2258.32 1458.74 Q2256.5 1458.44 2254.54 1457.84 L2254.54 1454.02 Q2256.24 1454.94 2258.04 1455.39 Q2259.85 1455.84 2261.86 1455.84 Q2265.11 1455.84 2267.01 1454.13 Q2268.91 1452.42 2268.91 1449.48 Q2268.91 1446.55 2267.01 1444.84 Q2265.11 1443.13 2261.86 1443.13 Q2260.34 1443.13 2258.81 1443.47 Q2257.31 1443.8 2255.73 1444.52 L2255.73 1430.41 Z\" fill=\"#000000\" fill-rule=\"evenodd\" fill-opacity=\"1\" /><path clip-path=\"url(#clip000)\" d=\"M 0 0 M138.691 1360.26 Q135.08 1360.26 133.251 1363.82 Q131.445 1367.37 131.445 1374.49 Q131.445 1381.6 133.251 1385.17 Q135.08 1388.71 138.691 1388.71 Q142.325 1388.71 144.13 1385.17 Q145.959 1381.6 145.959 1374.49 Q145.959 1367.37 144.13 1363.82 Q142.325 1360.26 138.691 1360.26 M138.691 1356.56 Q144.501 1356.56 147.556 1361.16 Q150.635 1365.74 150.635 1374.49 Q150.635 1383.22 147.556 1387.83 Q144.501 1392.41 138.691 1392.41 Q132.88 1392.41 129.802 1387.83 Q126.746 1383.22 126.746 1374.49 Q126.746 1365.74 129.802 1361.16 Q132.88 1356.56 138.691 1356.56 Z\" fill=\"#000000\" fill-rule=\"evenodd\" fill-opacity=\"1\" /><path clip-path=\"url(#clip000)\" d=\"M 0 0 M155.704 1385.86 L160.589 1385.86 L160.589 1391.74 L155.704 1391.74 L155.704 1385.86 Z\" fill=\"#000000\" fill-rule=\"evenodd\" fill-opacity=\"1\" /><path clip-path=\"url(#clip000)\" d=\"M 0 0 M175.658 1360.26 Q172.047 1360.26 170.218 1363.82 Q168.413 1367.37 168.413 1374.49 Q168.413 1381.6 170.218 1385.17 Q172.047 1388.71 175.658 1388.71 Q179.292 1388.71 181.098 1385.17 Q182.927 1381.6 182.927 1374.49 Q182.927 1367.37 181.098 1363.82 Q179.292 1360.26 175.658 1360.26 M175.658 1356.56 Q181.468 1356.56 184.524 1361.16 Q187.602 1365.74 187.602 1374.49 Q187.602 1383.22 184.524 1387.83 Q181.468 1392.41 175.658 1392.41 Q169.848 1392.41 166.769 1387.83 Q163.714 1383.22 163.714 1374.49 Q163.714 1365.74 166.769 1361.16 Q169.848 1356.56 175.658 1356.56 Z\" fill=\"#000000\" fill-rule=\"evenodd\" fill-opacity=\"1\" /><path clip-path=\"url(#clip000)\" d=\"M 0 0 M202.672 1360.26 Q199.061 1360.26 197.232 1363.82 Q195.426 1367.37 195.426 1374.49 Q195.426 1381.6 197.232 1385.17 Q199.061 1388.71 202.672 1388.71 Q206.306 1388.71 208.112 1385.17 Q209.94 1381.6 209.94 1374.49 Q209.94 1367.37 208.112 1363.82 Q206.306 1360.26 202.672 1360.26 M202.672 1356.56 Q208.482 1356.56 211.537 1361.16 Q214.616 1365.74 214.616 1374.49 Q214.616 1383.22 211.537 1387.83 Q208.482 1392.41 202.672 1392.41 Q196.862 1392.41 193.783 1387.83 Q190.727 1383.22 190.727 1374.49 Q190.727 1365.74 193.783 1361.16 Q196.862 1356.56 202.672 1356.56 Z\" fill=\"#000000\" fill-rule=\"evenodd\" fill-opacity=\"1\" /><path clip-path=\"url(#clip000)\" d=\"M 0 0 M140.288 1060.39 Q136.677 1060.39 134.848 1063.96 Q133.043 1067.5 133.043 1074.63 Q133.043 1081.73 134.848 1085.3 Q136.677 1088.84 140.288 1088.84 Q143.922 1088.84 145.728 1085.3 Q147.556 1081.73 147.556 1074.63 Q147.556 1067.5 145.728 1063.96 Q143.922 1060.39 140.288 1060.39 M140.288 1056.69 Q146.098 1056.69 149.154 1061.29 Q152.232 1065.88 152.232 1074.63 Q152.232 1083.35 149.154 1087.96 Q146.098 1092.54 140.288 1092.54 Q134.478 1092.54 131.399 1087.96 Q128.343 1083.35 128.343 1074.63 Q128.343 1065.88 131.399 1061.29 Q134.478 1056.69 140.288 1056.69 Z\" fill=\"#000000\" fill-rule=\"evenodd\" fill-opacity=\"1\" /><path clip-path=\"url(#clip000)\" d=\"M 0 0 M157.302 1085.99 L162.186 1085.99 L162.186 1091.87 L157.302 1091.87 L157.302 1085.99 Z\" fill=\"#000000\" fill-rule=\"evenodd\" fill-opacity=\"1\" /><path clip-path=\"url(#clip000)\" d=\"M 0 0 M177.255 1060.39 Q173.644 1060.39 171.815 1063.96 Q170.01 1067.5 170.01 1074.63 Q170.01 1081.73 171.815 1085.3 Q173.644 1088.84 177.255 1088.84 Q180.889 1088.84 182.695 1085.3 Q184.524 1081.73 184.524 1074.63 Q184.524 1067.5 182.695 1063.96 Q180.889 1060.39 177.255 1060.39 M177.255 1056.69 Q183.065 1056.69 186.121 1061.29 Q189.2 1065.88 189.2 1074.63 Q189.2 1083.35 186.121 1087.96 Q183.065 1092.54 177.255 1092.54 Q171.445 1092.54 168.366 1087.96 Q165.311 1083.35 165.311 1074.63 Q165.311 1065.88 168.366 1061.29 Q171.445 1056.69 177.255 1056.69 Z\" fill=\"#000000\" fill-rule=\"evenodd\" fill-opacity=\"1\" /><path clip-path=\"url(#clip000)\" d=\"M 0 0 M198.297 1087.94 L214.616 1087.94 L214.616 1091.87 L192.672 1091.87 L192.672 1087.94 Q195.334 1085.18 199.917 1080.55 Q204.524 1075.9 205.704 1074.56 Q207.95 1072.03 208.829 1070.3 Q209.732 1068.54 209.732 1066.85 Q209.732 1064.09 207.787 1062.36 Q205.866 1060.62 202.764 1060.62 Q200.565 1060.62 198.112 1061.39 Q195.681 1062.15 192.903 1063.7 L192.903 1058.98 Q195.727 1057.84 198.181 1057.27 Q200.635 1056.69 202.672 1056.69 Q208.042 1056.69 211.237 1059.37 Q214.431 1062.06 214.431 1066.55 Q214.431 1068.68 213.621 1070.6 Q212.834 1072.5 210.727 1075.09 Q210.149 1075.76 207.047 1078.98 Q203.945 1082.17 198.297 1087.94 Z\" fill=\"#000000\" fill-rule=\"evenodd\" fill-opacity=\"1\" /><path clip-path=\"url(#clip000)\" d=\"M 0 0 M138.205 760.522 Q134.593 760.522 132.765 764.087 Q130.959 767.628 130.959 774.758 Q130.959 781.864 132.765 785.429 Q134.593 788.971 138.205 788.971 Q141.839 788.971 143.644 785.429 Q145.473 781.864 145.473 774.758 Q145.473 767.628 143.644 764.087 Q141.839 760.522 138.205 760.522 M138.205 756.818 Q144.015 756.818 147.07 761.424 Q150.149 766.008 150.149 774.758 Q150.149 783.485 147.07 788.091 Q144.015 792.674 138.205 792.674 Q132.394 792.674 129.316 788.091 Q126.26 783.485 126.26 774.758 Q126.26 766.008 129.316 761.424 Q132.394 756.818 138.205 756.818 Z\" fill=\"#000000\" fill-rule=\"evenodd\" fill-opacity=\"1\" /><path clip-path=\"url(#clip000)\" d=\"M 0 0 M155.218 786.123 L160.103 786.123 L160.103 792.003 L155.218 792.003 L155.218 786.123 Z\" fill=\"#000000\" fill-rule=\"evenodd\" fill-opacity=\"1\" /><path clip-path=\"url(#clip000)\" d=\"M 0 0 M175.172 760.522 Q171.561 760.522 169.732 764.087 Q167.927 767.628 167.927 774.758 Q167.927 781.864 169.732 785.429 Q171.561 788.971 175.172 788.971 Q178.806 788.971 180.612 785.429 Q182.44 781.864 182.44 774.758 Q182.44 767.628 180.612 764.087 Q178.806 760.522 175.172 760.522 M175.172 756.818 Q180.982 756.818 184.038 761.424 Q187.116 766.008 187.116 774.758 Q187.116 783.485 184.038 788.091 Q180.982 792.674 175.172 792.674 Q169.362 792.674 166.283 788.091 Q163.228 783.485 163.228 774.758 Q163.228 766.008 166.283 761.424 Q169.362 756.818 175.172 756.818 Z\" fill=\"#000000\" fill-rule=\"evenodd\" fill-opacity=\"1\" /><path clip-path=\"url(#clip000)\" d=\"M 0 0 M205.033 761.517 L193.227 779.966 L205.033 779.966 L205.033 761.517 M203.806 757.443 L209.686 757.443 L209.686 779.966 L214.616 779.966 L214.616 783.855 L209.686 783.855 L209.686 792.003 L205.033 792.003 L205.033 783.855 L189.431 783.855 L189.431 779.341 L203.806 757.443 Z\" fill=\"#000000\" fill-rule=\"evenodd\" fill-opacity=\"1\" /><path clip-path=\"url(#clip000)\" d=\"M 0 0 M138.529 460.653 Q134.918 460.653 133.089 464.218 Q131.283 467.76 131.283 474.889 Q131.283 481.996 133.089 485.56 Q134.918 489.102 138.529 489.102 Q142.163 489.102 143.968 485.56 Q145.797 481.996 145.797 474.889 Q145.797 467.76 143.968 464.218 Q142.163 460.653 138.529 460.653 M138.529 456.95 Q144.339 456.95 147.394 461.556 Q150.473 466.139 150.473 474.889 Q150.473 483.616 147.394 488.222 Q144.339 492.806 138.529 492.806 Q132.718 492.806 129.64 488.222 Q126.584 483.616 126.584 474.889 Q126.584 466.139 129.64 461.556 Q132.718 456.95 138.529 456.95 Z\" fill=\"#000000\" fill-rule=\"evenodd\" fill-opacity=\"1\" /><path clip-path=\"url(#clip000)\" d=\"M 0 0 M155.542 486.255 L160.427 486.255 L160.427 492.135 L155.542 492.135 L155.542 486.255 Z\" fill=\"#000000\" fill-rule=\"evenodd\" fill-opacity=\"1\" /><path clip-path=\"url(#clip000)\" d=\"M 0 0 M175.496 460.653 Q171.885 460.653 170.056 464.218 Q168.251 467.76 168.251 474.889 Q168.251 481.996 170.056 485.56 Q171.885 489.102 175.496 489.102 Q179.13 489.102 180.936 485.56 Q182.764 481.996 182.764 474.889 Q182.764 467.76 180.936 464.218 Q179.13 460.653 175.496 460.653 M175.496 456.95 Q181.306 456.95 184.362 461.556 Q187.44 466.139 187.44 474.889 Q187.44 483.616 184.362 488.222 Q181.306 492.806 175.496 492.806 Q169.686 492.806 166.607 488.222 Q163.552 483.616 163.552 474.889 Q163.552 466.139 166.607 461.556 Q169.686 456.95 175.496 456.95 Z\" fill=\"#000000\" fill-rule=\"evenodd\" fill-opacity=\"1\" /><path clip-path=\"url(#clip000)\" d=\"M 0 0 M203.088 472.991 Q199.94 472.991 198.088 475.144 Q196.26 477.297 196.26 481.047 Q196.26 484.773 198.088 486.949 Q199.94 489.102 203.088 489.102 Q206.237 489.102 208.065 486.949 Q209.917 484.773 209.917 481.047 Q209.917 477.297 208.065 475.144 Q206.237 472.991 203.088 472.991 M212.371 458.338 L212.371 462.598 Q210.612 461.764 208.806 461.324 Q207.024 460.885 205.264 460.885 Q200.635 460.885 198.181 464.01 Q195.751 467.135 195.403 473.454 Q196.769 471.44 198.829 470.375 Q200.889 469.287 203.366 469.287 Q208.575 469.287 211.584 472.459 Q214.616 475.607 214.616 481.047 Q214.616 486.371 211.468 489.588 Q208.32 492.806 203.088 492.806 Q197.093 492.806 193.922 488.222 Q190.751 483.616 190.751 474.889 Q190.751 466.695 194.639 461.834 Q198.528 456.95 205.079 456.95 Q206.838 456.95 208.621 457.297 Q210.426 457.644 212.371 458.338 Z\" fill=\"#000000\" fill-rule=\"evenodd\" fill-opacity=\"1\" /><path clip-path=\"url(#clip000)\" d=\"M 0 0 M138.783 160.785 Q135.172 160.785 133.343 164.349 Q131.538 167.891 131.538 175.021 Q131.538 182.127 133.343 185.692 Q135.172 189.234 138.783 189.234 Q142.417 189.234 144.223 185.692 Q146.052 182.127 146.052 175.021 Q146.052 167.891 144.223 164.349 Q142.417 160.785 138.783 160.785 M138.783 157.081 Q144.593 157.081 147.649 161.687 Q150.728 166.271 150.728 175.021 Q150.728 183.748 147.649 188.354 Q144.593 192.937 138.783 192.937 Q132.973 192.937 129.894 188.354 Q126.839 183.748 126.839 175.021 Q126.839 166.271 129.894 161.687 Q132.973 157.081 138.783 157.081 Z\" fill=\"#000000\" fill-rule=\"evenodd\" fill-opacity=\"1\" /><path clip-path=\"url(#clip000)\" d=\"M 0 0 M155.797 186.386 L160.681 186.386 L160.681 192.266 L155.797 192.266 L155.797 186.386 Z\" fill=\"#000000\" fill-rule=\"evenodd\" fill-opacity=\"1\" /><path clip-path=\"url(#clip000)\" d=\"M 0 0 M175.751 160.785 Q172.14 160.785 170.311 164.349 Q168.505 167.891 168.505 175.021 Q168.505 182.127 170.311 185.692 Q172.14 189.234 175.751 189.234 Q179.385 189.234 181.19 185.692 Q183.019 182.127 183.019 175.021 Q183.019 167.891 181.19 164.349 Q179.385 160.785 175.751 160.785 M175.751 157.081 Q181.561 157.081 184.616 161.687 Q187.695 166.271 187.695 175.021 Q187.695 183.748 184.616 188.354 Q181.561 192.937 175.751 192.937 Q169.94 192.937 166.862 188.354 Q163.806 183.748 163.806 175.021 Q163.806 166.271 166.862 161.687 Q169.94 157.081 175.751 157.081 Z\" fill=\"#000000\" fill-rule=\"evenodd\" fill-opacity=\"1\" /><path clip-path=\"url(#clip000)\" d=\"M 0 0 M202.764 175.854 Q199.431 175.854 197.51 177.636 Q195.612 179.419 195.612 182.544 Q195.612 185.669 197.51 187.451 Q199.431 189.234 202.764 189.234 Q206.098 189.234 208.019 187.451 Q209.94 185.646 209.94 182.544 Q209.94 179.419 208.019 177.636 Q206.121 175.854 202.764 175.854 M198.088 173.863 Q195.079 173.123 193.389 171.062 Q191.723 169.002 191.723 166.039 Q191.723 161.896 194.663 159.488 Q197.626 157.081 202.764 157.081 Q207.926 157.081 210.866 159.488 Q213.806 161.896 213.806 166.039 Q213.806 169.002 212.116 171.062 Q210.45 173.123 207.463 173.863 Q210.843 174.65 212.718 176.942 Q214.616 179.234 214.616 182.544 Q214.616 187.567 211.537 190.252 Q208.482 192.937 202.764 192.937 Q197.047 192.937 193.968 190.252 Q190.913 187.567 190.913 182.544 Q190.913 179.234 192.811 176.942 Q194.709 174.65 198.088 173.863 M196.376 166.479 Q196.376 169.164 198.042 170.669 Q199.732 172.173 202.764 172.173 Q205.774 172.173 207.463 170.669 Q209.176 169.164 209.176 166.479 Q209.176 163.794 207.463 162.289 Q205.774 160.785 202.764 160.785 Q199.732 160.785 198.042 162.289 Q196.376 163.794 196.376 166.479 Z\" fill=\"#000000\" fill-rule=\"evenodd\" fill-opacity=\"1\" /><path clip-path=\"url(#clip000)\" d=\"M 0 0 M869.126 17.6457 Q860.214 17.6457 854.948 24.2892 Q849.722 30.9327 849.722 42.3968 Q849.722 53.8203 854.948 60.4638 Q860.214 67.1073 869.126 67.1073 Q878.038 67.1073 883.223 60.4638 Q888.449 53.8203 888.449 42.3968 Q888.449 30.9327 883.223 24.2892 Q878.038 17.6457 869.126 17.6457 M869.126 11.0023 Q881.846 11.0023 889.461 19.5497 Q897.077 28.0566 897.077 42.3968 Q897.077 56.6965 889.461 65.2439 Q881.846 73.7508 869.126 73.7508 Q856.365 73.7508 848.709 65.2439 Q841.094 56.737 841.094 42.3968 Q841.094 28.0566 848.709 19.5497 Q856.365 11.0023 869.126 11.0023 Z\" fill=\"#000000\" fill-rule=\"evenodd\" fill-opacity=\"1\" /><path clip-path=\"url(#clip000)\" d=\"M 0 0 M912.106 65.7705 L912.106 89.8329 L904.612 89.8329 L904.612 27.2059 L912.106 27.2059 L912.106 34.0924 Q914.455 30.0415 918.02 28.0971 Q921.626 26.1121 926.608 26.1121 Q934.872 26.1121 940.017 32.6746 Q945.202 39.2371 945.202 49.9314 Q945.202 60.6258 940.017 67.1883 Q934.872 73.7508 926.608 73.7508 Q921.626 73.7508 918.02 71.8063 Q914.455 69.8214 912.106 65.7705 M937.465 49.9314 Q937.465 41.7081 934.062 37.0496 Q930.7 32.3505 924.785 32.3505 Q918.871 32.3505 915.468 37.0496 Q912.106 41.7081 912.106 49.9314 Q912.106 58.1548 915.468 62.8538 Q918.871 67.5124 924.785 67.5124 Q930.7 67.5124 934.062 62.8538 Q937.465 58.1548 937.465 49.9314 Z\" fill=\"#000000\" fill-rule=\"evenodd\" fill-opacity=\"1\" /><path clip-path=\"url(#clip000)\" d=\"M 0 0 M960.393 14.324 L960.393 27.2059 L975.746 27.2059 L975.746 32.9987 L960.393 32.9987 L960.393 57.6282 Q960.393 63.1779 961.892 64.7578 Q963.431 66.3376 968.089 66.3376 L975.746 66.3376 L975.746 72.576 L968.089 72.576 Q959.461 72.576 956.18 69.3758 Q952.899 66.1351 952.899 57.6282 L952.899 32.9987 L947.43 32.9987 L947.43 27.2059 L952.899 27.2059 L952.899 14.324 L960.393 14.324 Z\" fill=\"#000000\" fill-rule=\"evenodd\" fill-opacity=\"1\" /><path clip-path=\"url(#clip000)\" d=\"M 0 0 M983.564 27.2059 L991.018 27.2059 L991.018 72.576 L983.564 72.576 L983.564 27.2059 M983.564 9.54393 L991.018 9.54393 L991.018 18.9825 L983.564 18.9825 L983.564 9.54393 Z\" fill=\"#000000\" fill-rule=\"evenodd\" fill-opacity=\"1\" /><path clip-path=\"url(#clip000)\" d=\"M 0 0 M1034.16 35.9153 Q1036.95 30.8922 1040.84 28.5022 Q1044.73 26.1121 1050 26.1121 Q1057.09 26.1121 1060.94 31.0947 Q1064.78 36.0368 1064.78 45.1919 L1064.78 72.576 L1057.29 72.576 L1057.29 45.4349 Q1057.29 38.913 1054.98 35.7533 Q1052.67 32.5936 1047.93 32.5936 Q1042.14 32.5936 1038.78 36.4419 Q1035.42 40.2903 1035.42 46.9338 L1035.42 72.576 L1027.92 72.576 L1027.92 45.4349 Q1027.92 38.8725 1025.61 35.7533 Q1023.3 32.5936 1018.48 32.5936 Q1012.77 32.5936 1009.41 36.4824 Q1006.05 40.3308 1006.05 46.9338 L1006.05 72.576 L998.552 72.576 L998.552 27.2059 L1006.05 27.2059 L1006.05 34.2544 Q1008.6 30.082 1012.16 28.0971 Q1015.73 26.1121 1020.63 26.1121 Q1025.57 26.1121 1029.02 28.6237 Q1032.5 31.1352 1034.16 35.9153 Z\" fill=\"#000000\" fill-rule=\"evenodd\" fill-opacity=\"1\" /><path clip-path=\"url(#clip000)\" d=\"M 0 0 M1093.22 49.7694 Q1084.19 49.7694 1080.7 51.8354 Q1077.22 53.9013 1077.22 58.8839 Q1077.22 62.8538 1079.81 65.2034 Q1082.45 67.5124 1086.94 67.5124 Q1093.14 67.5124 1096.87 63.1374 Q1100.63 58.7219 1100.63 51.4303 L1100.63 49.7694 L1093.22 49.7694 M1108.09 46.6907 L1108.09 72.576 L1100.63 72.576 L1100.63 65.6895 Q1098.08 69.8214 1094.28 71.8063 Q1090.47 73.7508 1084.96 73.7508 Q1077.99 73.7508 1073.86 69.8619 Q1069.77 65.9325 1069.77 59.3701 Q1069.77 51.7138 1074.87 47.825 Q1080.02 43.9361 1090.18 43.9361 L1100.63 43.9361 L1100.63 43.2069 Q1100.63 38.0623 1097.23 35.2672 Q1093.87 32.4315 1087.75 32.4315 Q1083.86 32.4315 1080.18 33.3632 Q1076.49 34.295 1073.09 36.1584 L1073.09 29.2718 Q1077.18 27.692 1081.03 26.9223 Q1084.88 26.1121 1088.52 26.1121 Q1098.37 26.1121 1103.23 31.2163 Q1108.09 36.3204 1108.09 46.6907 Z\" fill=\"#000000\" fill-rule=\"evenodd\" fill-opacity=\"1\" /><path clip-path=\"url(#clip000)\" d=\"M 0 0 M1115.91 9.54393 L1123.36 9.54393 L1123.36 72.576 L1115.91 72.576 L1115.91 9.54393 Z\" fill=\"#000000\" fill-rule=\"evenodd\" fill-opacity=\"1\" /><path clip-path=\"url(#clip000)\" d=\"M 0 0 M1164.92 14.324 L1164.92 27.2059 L1180.28 27.2059 L1180.28 32.9987 L1164.92 32.9987 L1164.92 57.6282 Q1164.92 63.1779 1166.42 64.7578 Q1167.96 66.3376 1172.62 66.3376 L1180.28 66.3376 L1180.28 72.576 L1172.62 72.576 Q1163.99 72.576 1160.71 69.3758 Q1157.43 66.1351 1157.43 57.6282 L1157.43 32.9987 L1151.96 32.9987 L1151.96 27.2059 L1157.43 27.2059 L1157.43 14.324 L1164.92 14.324 Z\" fill=\"#000000\" fill-rule=\"evenodd\" fill-opacity=\"1\" /><path clip-path=\"url(#clip000)\" d=\"M 0 0 M1214.38 34.1734 Q1213.13 33.4443 1211.63 33.1202 Q1210.17 32.7556 1208.39 32.7556 Q1202.07 32.7556 1198.67 36.8875 Q1195.3 40.9789 1195.3 48.6757 L1195.3 72.576 L1187.81 72.576 L1187.81 27.2059 L1195.3 27.2059 L1195.3 34.2544 Q1197.65 30.1225 1201.42 28.1376 Q1205.19 26.1121 1210.58 26.1121 Q1211.35 26.1121 1212.28 26.2337 Q1213.21 26.3147 1214.34 26.5172 L1214.38 34.1734 Z\" fill=\"#000000\" fill-rule=\"evenodd\" fill-opacity=\"1\" /><path clip-path=\"url(#clip000)\" d=\"M 0 0 M1242.82 49.7694 Q1233.79 49.7694 1230.3 51.8354 Q1226.82 53.9013 1226.82 58.8839 Q1226.82 62.8538 1229.41 65.2034 Q1232.05 67.5124 1236.54 67.5124 Q1242.74 67.5124 1246.47 63.1374 Q1250.23 58.7219 1250.23 51.4303 L1250.23 49.7694 L1242.82 49.7694 M1257.69 46.6907 L1257.69 72.576 L1250.23 72.576 L1250.23 65.6895 Q1247.68 69.8214 1243.87 71.8063 Q1240.07 73.7508 1234.56 73.7508 Q1227.59 73.7508 1223.46 69.8619 Q1219.37 65.9325 1219.37 59.3701 Q1219.37 51.7138 1224.47 47.825 Q1229.62 43.9361 1239.78 43.9361 L1250.23 43.9361 L1250.23 43.2069 Q1250.23 38.0623 1246.83 35.2672 Q1243.47 32.4315 1237.35 32.4315 Q1233.46 32.4315 1229.78 33.3632 Q1226.09 34.295 1222.69 36.1584 L1222.69 29.2718 Q1226.78 27.692 1230.63 26.9223 Q1234.48 26.1121 1238.12 26.1121 Q1247.97 26.1121 1252.83 31.2163 Q1257.69 36.3204 1257.69 46.6907 Z\" fill=\"#000000\" fill-rule=\"evenodd\" fill-opacity=\"1\" /><path clip-path=\"url(#clip000)\" d=\"M 0 0 M1295.36 34.0924 L1295.36 9.54393 L1302.82 9.54393 L1302.82 72.576 L1295.36 72.576 L1295.36 65.7705 Q1293.01 69.8214 1289.41 71.8063 Q1285.84 73.7508 1280.82 73.7508 Q1272.6 73.7508 1267.41 67.1883 Q1262.27 60.6258 1262.27 49.9314 Q1262.27 39.2371 1267.41 32.6746 Q1272.6 26.1121 1280.82 26.1121 Q1285.84 26.1121 1289.41 28.0971 Q1293.01 30.0415 1295.36 34.0924 M1269.96 49.9314 Q1269.96 58.1548 1273.33 62.8538 Q1276.73 67.5124 1282.64 67.5124 Q1288.56 67.5124 1291.96 62.8538 Q1295.36 58.1548 1295.36 49.9314 Q1295.36 41.7081 1291.96 37.0496 Q1288.56 32.3505 1282.64 32.3505 Q1276.73 32.3505 1273.33 37.0496 Q1269.96 41.7081 1269.96 49.9314 Z\" fill=\"#000000\" fill-rule=\"evenodd\" fill-opacity=\"1\" /><path clip-path=\"url(#clip000)\" d=\"M 0 0 M1349.44 48.0275 L1349.44 51.6733 L1315.17 51.6733 Q1315.66 59.3701 1319.79 63.421 Q1323.96 67.4314 1331.37 67.4314 Q1335.67 67.4314 1339.68 66.3781 Q1343.73 65.3249 1347.7 63.2184 L1347.7 70.267 Q1343.69 71.9684 1339.48 72.8596 Q1335.26 73.7508 1330.93 73.7508 Q1320.07 73.7508 1313.71 67.4314 Q1307.39 61.1119 1307.39 50.3365 Q1307.39 39.1965 1313.39 32.6746 Q1319.42 26.1121 1329.63 26.1121 Q1338.79 26.1121 1344.09 32.0264 Q1349.44 37.9003 1349.44 48.0275 M1341.99 45.84 Q1341.91 39.7232 1338.54 36.0774 Q1335.22 32.4315 1329.71 32.4315 Q1323.48 32.4315 1319.71 35.9558 Q1315.98 39.4801 1315.41 45.8805 L1341.99 45.84 Z\" fill=\"#000000\" fill-rule=\"evenodd\" fill-opacity=\"1\" /><path clip-path=\"url(#clip000)\" d=\"M 0 0 M1353.49 46.5287 L1375.33 46.5287 L1375.33 53.1722 L1353.49 53.1722 L1353.49 46.5287 Z\" fill=\"#000000\" fill-rule=\"evenodd\" fill-opacity=\"1\" /><path clip-path=\"url(#clip000)\" d=\"M 0 0 M1402.27 32.4315 Q1396.27 32.4315 1392.79 37.1306 Q1389.3 41.7891 1389.3 49.9314 Q1389.3 58.0738 1392.75 62.7728 Q1396.23 67.4314 1402.27 67.4314 Q1408.22 67.4314 1411.7 62.7323 Q1415.19 58.0333 1415.19 49.9314 Q1415.19 41.8701 1411.7 37.1711 Q1408.22 32.4315 1402.27 32.4315 M1402.27 26.1121 Q1411.99 26.1121 1417.54 32.4315 Q1423.09 38.7509 1423.09 49.9314 Q1423.09 61.0714 1417.54 67.4314 Q1411.99 73.7508 1402.27 73.7508 Q1392.5 73.7508 1386.95 67.4314 Q1381.44 61.0714 1381.44 49.9314 Q1381.44 38.7509 1386.95 32.4315 Q1392.5 26.1121 1402.27 26.1121 Z\" fill=\"#000000\" fill-rule=\"evenodd\" fill-opacity=\"1\" /><path clip-path=\"url(#clip000)\" d=\"M 0 0 M1453.87 9.54393 L1453.87 15.7418 L1446.74 15.7418 Q1442.73 15.7418 1441.15 17.3622 Q1439.61 18.9825 1439.61 23.1955 L1439.61 27.2059 L1451.89 27.2059 L1451.89 32.9987 L1439.61 32.9987 L1439.61 72.576 L1432.12 72.576 L1432.12 32.9987 L1424.99 32.9987 L1424.99 27.2059 L1432.12 27.2059 L1432.12 24.0462 Q1432.12 16.471 1435.64 13.0277 Q1439.17 9.54393 1446.83 9.54393 L1453.87 9.54393 Z\" fill=\"#000000\" fill-rule=\"evenodd\" fill-opacity=\"1\" /><path clip-path=\"url(#clip000)\" d=\"M 0 0 M1484.66 9.54393 L1484.66 15.7418 L1477.53 15.7418 Q1473.52 15.7418 1471.94 17.3622 Q1470.4 18.9825 1470.4 23.1955 L1470.4 27.2059 L1482.68 27.2059 L1482.68 32.9987 L1470.4 32.9987 L1470.4 72.576 L1462.91 72.576 L1462.91 32.9987 L1455.78 32.9987 L1455.78 27.2059 L1462.91 27.2059 L1462.91 24.0462 Q1462.91 16.471 1466.43 13.0277 Q1469.96 9.54393 1477.61 9.54393 L1484.66 9.54393 Z\" fill=\"#000000\" fill-rule=\"evenodd\" fill-opacity=\"1\" /><path clip-path=\"url(#clip000)\" d=\"M 0 0 M1551.5 28.9478 L1551.5 35.9153 Q1548.34 34.1734 1545.14 33.3227 Q1541.98 32.4315 1538.74 32.4315 Q1531.49 32.4315 1527.48 37.0496 Q1523.47 41.6271 1523.47 49.9314 Q1523.47 58.2358 1527.48 62.8538 Q1531.49 67.4314 1538.74 67.4314 Q1541.98 67.4314 1545.14 66.5807 Q1548.34 65.6895 1551.5 63.9476 L1551.5 70.8341 Q1548.38 72.2924 1545.02 73.0216 Q1541.7 73.7508 1537.93 73.7508 Q1527.68 73.7508 1521.65 67.3098 Q1515.61 60.8689 1515.61 49.9314 Q1515.61 38.832 1521.69 32.472 Q1527.8 26.1121 1538.42 26.1121 Q1541.86 26.1121 1545.14 26.8413 Q1548.42 27.5299 1551.5 28.9478 Z\" fill=\"#000000\" fill-rule=\"evenodd\" fill-opacity=\"1\" /><path clip-path=\"url(#clip000)\" d=\"M 0 0 M1558.55 54.671 L1558.55 27.2059 L1566 27.2059 L1566 54.3874 Q1566 60.8284 1568.51 64.0691 Q1571.03 67.2693 1576.05 67.2693 Q1582.08 67.2693 1585.57 63.421 Q1589.09 59.5726 1589.09 52.9291 L1589.09 27.2059 L1596.55 27.2059 L1596.55 72.576 L1589.09 72.576 L1589.09 65.6084 Q1586.38 69.7404 1582.77 71.7658 Q1579.21 73.7508 1574.47 73.7508 Q1566.65 73.7508 1562.6 68.8897 Q1558.55 64.0286 1558.55 54.671 M1577.3 26.1121 L1577.3 26.1121 Z\" fill=\"#000000\" fill-rule=\"evenodd\" fill-opacity=\"1\" /><path clip-path=\"url(#clip000)\" d=\"M 0 0 M1630.66 34.1734 Q1629.4 33.4443 1627.9 33.1202 Q1626.44 32.7556 1624.66 32.7556 Q1618.34 32.7556 1614.94 36.8875 Q1611.58 40.9789 1611.58 48.6757 L1611.58 72.576 L1604.08 72.576 L1604.08 27.2059 L1611.58 27.2059 L1611.58 34.2544 Q1613.93 30.1225 1617.69 28.1376 Q1621.46 26.1121 1626.85 26.1121 Q1627.62 26.1121 1628.55 26.2337 Q1629.48 26.3147 1630.61 26.5172 L1630.66 34.1734 Z\" fill=\"#000000\" fill-rule=\"evenodd\" fill-opacity=\"1\" /><path clip-path=\"url(#clip000)\" d=\"M 0 0 M1633.13 27.2059 L1641.03 27.2059 L1655.2 65.2844 L1669.38 27.2059 L1677.28 27.2059 L1660.27 72.576 L1650.14 72.576 L1633.13 27.2059 Z\" fill=\"#000000\" fill-rule=\"evenodd\" fill-opacity=\"1\" /><path clip-path=\"url(#clip000)\" d=\"M 0 0 M1723.91 48.0275 L1723.91 51.6733 L1689.64 51.6733 Q1690.12 59.3701 1694.25 63.421 Q1698.43 67.4314 1705.84 67.4314 Q1710.13 67.4314 1714.14 66.3781 Q1718.2 65.3249 1722.17 63.2184 L1722.17 70.267 Q1718.15 71.9684 1713.94 72.8596 Q1709.73 73.7508 1705.39 73.7508 Q1694.54 73.7508 1688.18 67.4314 Q1681.86 61.1119 1681.86 50.3365 Q1681.86 39.1965 1687.85 32.6746 Q1693.89 26.1121 1704.1 26.1121 Q1713.25 26.1121 1718.56 32.0264 Q1723.91 37.9003 1723.91 48.0275 M1716.45 45.84 Q1716.37 39.7232 1713.01 36.0774 Q1709.69 32.4315 1704.18 32.4315 Q1697.94 32.4315 1694.17 35.9558 Q1690.45 39.4801 1689.88 45.8805 L1716.45 45.84 Z\" fill=\"#000000\" fill-rule=\"evenodd\" fill-opacity=\"1\" /><path clip-path=\"url(#clip000)\" d=\"M 0 0 M1033.02 1514.67 L1039.45 1514.67 L1039.45 1558.88 Q1039.45 1567.47 1036.17 1571.35 Q1032.93 1575.24 1025.7 1575.24 L1023.25 1575.24 L1023.25 1569.82 L1025.25 1569.82 Q1029.52 1569.82 1031.27 1567.44 Q1033.02 1565.05 1033.02 1558.88 L1033.02 1514.67 Z\" fill=\"#000000\" fill-rule=\"evenodd\" fill-opacity=\"1\" /><path clip-path=\"url(#clip000)\" d=\"M 0 0 M1051.96 1556.77 L1074.4 1556.77 L1074.4 1562.19 L1044.22 1562.19 L1044.22 1556.77 Q1047.88 1552.99 1054.19 1546.62 Q1060.52 1540.22 1062.14 1538.38 Q1065.23 1534.91 1066.44 1532.52 Q1067.68 1530.1 1067.68 1527.78 Q1067.68 1523.99 1065.01 1521.6 Q1062.37 1519.22 1058.1 1519.22 Q1055.08 1519.22 1051.7 1520.27 Q1048.36 1521.32 1044.54 1523.45 L1044.54 1516.96 Q1048.43 1515.4 1051.8 1514.6 Q1055.17 1513.81 1057.97 1513.81 Q1065.36 1513.81 1069.75 1517.5 Q1074.14 1521.19 1074.14 1527.37 Q1074.14 1530.29 1073.03 1532.94 Q1071.95 1535.54 1069.05 1539.11 Q1068.26 1540.03 1063.99 1544.46 Q1059.73 1548.85 1051.96 1556.77 Z\" fill=\"#000000\" fill-rule=\"evenodd\" fill-opacity=\"1\" /><path clip-path=\"url(#clip000)\" d=\"M 0 0 M1102.03 1532.58 L1142.83 1532.58 L1142.83 1537.93 L1102.03 1537.93 L1102.03 1532.58 M1102.03 1545.57 L1142.83 1545.57 L1142.83 1550.98 L1102.03 1550.98 L1102.03 1545.57 Z\" fill=\"#000000\" fill-rule=\"evenodd\" fill-opacity=\"1\" /><path clip-path=\"url(#clip000)\" d=\"M 0 0 M1169.95 1514.67 L1179.53 1514.67 L1191.65 1547 L1203.84 1514.67 L1213.43 1514.67 L1213.43 1562.19 L1207.15 1562.19 L1207.15 1520.46 L1194.9 1553.05 L1188.44 1553.05 L1176.19 1520.46 L1176.19 1562.19 L1169.95 1562.19 L1169.95 1514.67 Z\" fill=\"#000000\" fill-rule=\"evenodd\" fill-opacity=\"1\" /><path clip-path=\"url(#clip000)\" d=\"M 0 0 M1248.31 1516.23 L1248.31 1522.5 Q1244.65 1520.74 1241.4 1519.89 Q1238.16 1519.03 1235.13 1519.03 Q1229.88 1519.03 1227.02 1521.06 Q1224.18 1523.1 1224.18 1526.86 Q1224.18 1530.01 1226.06 1531.63 Q1227.97 1533.22 1233.25 1534.21 L1237.14 1535 Q1244.33 1536.37 1247.74 1539.84 Q1251.17 1543.28 1251.17 1549.07 Q1251.17 1555.98 1246.53 1559.54 Q1241.91 1563.11 1232.97 1563.11 Q1229.59 1563.11 1225.77 1562.34 Q1221.99 1561.58 1217.91 1560.08 L1217.91 1553.46 Q1221.83 1555.66 1225.58 1556.77 Q1229.34 1557.89 1232.97 1557.89 Q1238.47 1557.89 1241.47 1555.72 Q1244.46 1553.56 1244.46 1549.55 Q1244.46 1546.05 1242.29 1544.08 Q1240.16 1542.1 1235.26 1541.11 L1231.34 1540.35 Q1224.15 1538.92 1220.94 1535.86 Q1217.72 1532.81 1217.72 1527.37 Q1217.72 1521.06 1222.15 1517.43 Q1226.6 1513.81 1234.4 1513.81 Q1237.74 1513.81 1241.21 1514.41 Q1244.68 1515.02 1248.31 1516.23 Z\" fill=\"#000000\" fill-rule=\"evenodd\" fill-opacity=\"1\" /><path clip-path=\"url(#clip000)\" d=\"M 0 0 M1313.88 1518.33 L1313.88 1525.11 Q1310.63 1522.08 1306.94 1520.59 Q1303.28 1519.09 1299.14 1519.09 Q1290.99 1519.09 1286.66 1524.09 Q1282.33 1529.05 1282.33 1538.47 Q1282.33 1547.86 1286.66 1552.86 Q1290.99 1557.82 1299.14 1557.82 Q1303.28 1557.82 1306.94 1556.33 Q1310.63 1554.83 1313.88 1551.81 L1313.88 1558.53 Q1310.5 1560.82 1306.71 1561.96 Q1302.96 1563.11 1298.76 1563.11 Q1287.97 1563.11 1281.76 1556.52 Q1275.55 1549.9 1275.55 1538.47 Q1275.55 1527.01 1281.76 1520.43 Q1287.97 1513.81 1298.76 1513.81 Q1303.02 1513.81 1306.78 1514.95 Q1310.57 1516.07 1313.88 1518.33 Z\" fill=\"#000000\" fill-rule=\"evenodd\" fill-opacity=\"1\" /><path clip-path=\"url(#clip000)\" d=\"M 0 0 M1319.41 1548.12 L1319.41 1526.54 L1325.27 1526.54 L1325.27 1547.89 Q1325.27 1552.96 1327.24 1555.5 Q1329.22 1558.02 1333.16 1558.02 Q1337.91 1558.02 1340.64 1554.99 Q1343.41 1551.97 1343.41 1546.75 L1343.41 1526.54 L1349.27 1526.54 L1349.27 1562.19 L1343.41 1562.19 L1343.41 1556.71 Q1341.28 1559.96 1338.45 1561.55 Q1335.65 1563.11 1331.92 1563.11 Q1325.78 1563.11 1322.6 1559.29 Q1319.41 1555.47 1319.41 1548.12 M1334.15 1525.68 L1334.15 1525.68 Z\" fill=\"#000000\" fill-rule=\"evenodd\" fill-opacity=\"1\" /><path clip-path=\"url(#clip000)\" d=\"M 0 0 M1376.07 1532.01 Q1375.08 1531.44 1373.9 1531.18 Q1372.76 1530.9 1371.36 1530.9 Q1366.39 1530.9 1363.72 1534.14 Q1361.08 1537.36 1361.08 1543.41 L1361.08 1562.19 L1355.19 1562.19 L1355.19 1526.54 L1361.08 1526.54 L1361.08 1532.08 Q1362.92 1528.83 1365.88 1527.27 Q1368.84 1525.68 1373.08 1525.68 Q1373.68 1525.68 1374.41 1525.77 Q1375.15 1525.84 1376.04 1526 L1376.07 1532.01 Z\" fill=\"#000000\" fill-rule=\"evenodd\" fill-opacity=\"1\" /><path clip-path=\"url(#clip000)\" d=\"M 0 0 M1378.01 1526.54 L1384.22 1526.54 L1395.36 1556.46 L1406.5 1526.54 L1412.7 1526.54 L1399.34 1562.19 L1391.38 1562.19 L1378.01 1526.54 Z\" fill=\"#000000\" fill-rule=\"evenodd\" fill-opacity=\"1\" /><path clip-path=\"url(#clip000)\" d=\"M 0 0 M1435.05 1544.27 Q1427.95 1544.27 1425.21 1545.89 Q1422.47 1547.51 1422.47 1551.43 Q1422.47 1554.55 1424.51 1556.39 Q1426.58 1558.21 1430.11 1558.21 Q1434.98 1558.21 1437.91 1554.77 Q1440.87 1551.3 1440.87 1545.57 L1440.87 1544.27 L1435.05 1544.27 M1446.73 1541.85 L1446.73 1562.19 L1440.87 1562.19 L1440.87 1556.77 Q1438.87 1560.02 1435.87 1561.58 Q1432.88 1563.11 1428.55 1563.11 Q1423.08 1563.11 1419.83 1560.05 Q1416.62 1556.97 1416.62 1551.81 Q1416.62 1545.79 1420.63 1542.74 Q1424.67 1539.68 1432.66 1539.68 L1440.87 1539.68 L1440.87 1539.11 Q1440.87 1535.07 1438.2 1532.87 Q1435.56 1530.64 1430.75 1530.64 Q1427.69 1530.64 1424.8 1531.38 Q1421.9 1532.11 1419.23 1533.57 L1419.23 1528.16 Q1422.44 1526.92 1425.47 1526.31 Q1428.49 1525.68 1431.36 1525.68 Q1439.09 1525.68 1442.91 1529.69 Q1446.73 1533.7 1446.73 1541.85 Z\" fill=\"#000000\" fill-rule=\"evenodd\" fill-opacity=\"1\" /><path clip-path=\"url(#clip000)\" d=\"M 0 0 M1458.66 1516.42 L1458.66 1526.54 L1470.73 1526.54 L1470.73 1531.09 L1458.66 1531.09 L1458.66 1550.44 Q1458.66 1554.8 1459.84 1556.04 Q1461.05 1557.28 1464.71 1557.28 L1470.73 1557.28 L1470.73 1562.19 L1464.71 1562.19 Q1457.93 1562.19 1455.35 1559.67 Q1452.78 1557.12 1452.78 1550.44 L1452.78 1531.09 L1448.48 1531.09 L1448.48 1526.54 L1452.78 1526.54 L1452.78 1516.42 L1458.66 1516.42 Z\" fill=\"#000000\" fill-rule=\"evenodd\" fill-opacity=\"1\" /><path clip-path=\"url(#clip000)\" d=\"M 0 0 M1476.27 1548.12 L1476.27 1526.54 L1482.12 1526.54 L1482.12 1547.89 Q1482.12 1552.96 1484.1 1555.5 Q1486.07 1558.02 1490.02 1558.02 Q1494.76 1558.02 1497.49 1554.99 Q1500.26 1551.97 1500.26 1546.75 L1500.26 1526.54 L1506.12 1526.54 L1506.12 1562.19 L1500.26 1562.19 L1500.26 1556.71 Q1498.13 1559.96 1495.3 1561.55 Q1492.5 1563.11 1488.77 1563.11 Q1482.63 1563.11 1479.45 1559.29 Q1476.27 1555.47 1476.27 1548.12 M1491 1525.68 L1491 1525.68 Z\" fill=\"#000000\" fill-rule=\"evenodd\" fill-opacity=\"1\" /><path clip-path=\"url(#clip000)\" d=\"M 0 0 M1532.92 1532.01 Q1531.93 1531.44 1530.76 1531.18 Q1529.61 1530.9 1528.21 1530.9 Q1523.24 1530.9 1520.57 1534.14 Q1517.93 1537.36 1517.93 1543.41 L1517.93 1562.19 L1512.04 1562.19 L1512.04 1526.54 L1517.93 1526.54 L1517.93 1532.08 Q1519.77 1528.83 1522.73 1527.27 Q1525.69 1525.68 1529.93 1525.68 Q1530.53 1525.68 1531.26 1525.77 Q1532 1525.84 1532.89 1526 L1532.92 1532.01 Z\" fill=\"#000000\" fill-rule=\"evenodd\" fill-opacity=\"1\" /><path clip-path=\"url(#clip000)\" d=\"M 0 0 M1568.12 1542.9 L1568.12 1545.76 L1541.2 1545.76 Q1541.58 1551.81 1544.82 1554.99 Q1548.1 1558.14 1553.93 1558.14 Q1557.3 1558.14 1560.45 1557.32 Q1563.63 1556.49 1566.75 1554.83 L1566.75 1560.37 Q1563.6 1561.71 1560.29 1562.41 Q1556.98 1563.11 1553.58 1563.11 Q1545.05 1563.11 1540.05 1558.14 Q1535.08 1553.18 1535.08 1544.71 Q1535.08 1535.96 1539.79 1530.83 Q1544.54 1525.68 1552.56 1525.68 Q1559.75 1525.68 1563.92 1530.33 Q1568.12 1534.94 1568.12 1542.9 M1562.27 1541.18 Q1562.2 1536.37 1559.56 1533.51 Q1556.95 1530.64 1552.62 1530.64 Q1547.72 1530.64 1544.76 1533.41 Q1541.83 1536.18 1541.39 1541.21 L1562.27 1541.18 Z\" fill=\"#000000\" fill-rule=\"evenodd\" fill-opacity=\"1\" /><path clip-path=\"url(#clip000)\" d=\"M 0 0 M40.4842 1018.85 L40.4842 1012.42 L84.694 1012.42 Q93.2877 1012.42 97.1708 1015.7 Q101.054 1018.95 101.054 1026.17 L101.054 1028.62 L95.643 1028.62 L95.643 1026.62 Q95.643 1022.35 93.2559 1020.6 Q90.8687 1018.85 84.694 1018.85 L40.4842 1018.85 Z\" fill=\"#000000\" fill-rule=\"evenodd\" fill-opacity=\"1\" /><path clip-path=\"url(#clip000)\" d=\"M 0 0 M82.5933 1004.34 L82.5933 993.835 L46.3406 993.835 L48.6323 1005.26 L42.7758 1005.26 L40.4842 993.899 L40.4842 987.47 L82.5933 987.47 L82.5933 976.966 L88.0042 976.966 L88.0042 1004.34 L82.5933 1004.34 Z\" fill=\"#000000\" fill-rule=\"evenodd\" fill-opacity=\"1\" /><path clip-path=\"url(#clip000)\" d=\"M 0 0 M58.4036 949.339 L58.4036 908.535 L63.7508 908.535 L63.7508 949.339 L58.4036 949.339 M71.3897 949.339 L71.3897 908.535 L76.8005 908.535 L76.8005 949.339 L71.3897 949.339 Z\" fill=\"#000000\" fill-rule=\"evenodd\" fill-opacity=\"1\" /><path clip-path=\"url(#clip000)\" d=\"M 0 0 M40.4842 881.417 L40.4842 871.837 L72.8219 859.71 L40.4842 847.52 L40.4842 837.939 L88.0042 837.939 L88.0042 844.209 L46.277 844.209 L78.8694 856.463 L78.8694 862.925 L46.277 875.179 L88.0042 875.179 L88.0042 881.417 L40.4842 881.417 Z\" fill=\"#000000\" fill-rule=\"evenodd\" fill-opacity=\"1\" /><path clip-path=\"url(#clip000)\" d=\"M 0 0 M42.0438 803.055 L48.314 803.055 Q46.5634 806.715 45.704 809.962 Q44.8447 813.208 44.8447 816.232 Q44.8447 821.484 46.8817 824.348 Q48.9187 827.181 52.6745 827.181 Q55.8255 827.181 57.4488 825.303 Q59.0402 823.394 60.0269 818.11 L60.8226 814.227 Q62.1912 807.034 65.6605 803.628 Q69.098 800.191 74.8908 800.191 Q81.7976 800.191 85.3624 804.838 Q88.9272 809.453 88.9272 818.396 Q88.9272 821.77 88.1633 825.59 Q87.3994 829.377 85.9035 833.451 L79.2831 833.451 Q81.4793 829.536 82.5933 825.781 Q83.7073 822.025 83.7073 818.396 Q83.7073 812.89 81.543 809.898 Q79.3786 806.906 75.3682 806.906 Q71.8671 806.906 69.8937 809.071 Q67.9204 811.203 66.9337 816.105 L66.1698 820.02 Q64.7375 827.213 61.682 830.428 Q58.6264 833.642 53.1837 833.642 Q46.8817 833.642 43.2532 829.218 Q39.6248 824.762 39.6248 816.964 Q39.6248 813.622 40.2295 810.153 Q40.8343 806.684 42.0438 803.055 Z\" fill=\"#000000\" fill-rule=\"evenodd\" fill-opacity=\"1\" /><path clip-path=\"url(#clip000)\" d=\"M 0 0 M45.7677 766.643 L82.7206 766.643 L82.7206 758.877 Q82.7206 749.042 78.2646 744.491 Q73.8086 739.907 64.1964 739.907 Q54.6479 739.907 50.2237 744.491 Q45.7677 749.042 45.7677 758.877 L45.7677 766.643 M40.4842 773.073 L40.4842 759.864 Q40.4842 746.05 46.2451 739.589 Q51.9743 733.128 64.1964 733.128 Q76.4822 733.128 82.2432 739.621 Q88.0042 746.114 88.0042 759.864 L88.0042 773.073 L40.4842 773.073 Z\" fill=\"#000000\" fill-rule=\"evenodd\" fill-opacity=\"1\" /><path clip-path=\"url(#clip000)\" d=\"M 0 0 M68.7161 696.493 L71.5806 696.493 L71.5806 723.42 Q77.6281 723.038 80.8109 719.792 Q83.9619 716.513 83.9619 710.689 Q83.9619 707.315 83.1344 704.164 Q82.3069 700.981 80.6518 697.862 L86.1899 697.862 Q87.5267 701.013 88.227 704.323 Q88.9272 707.633 88.9272 711.039 Q88.9272 719.569 83.9619 724.566 Q78.9967 729.531 70.5303 729.531 Q61.7774 729.531 56.6531 724.821 Q51.4968 720.078 51.4968 712.057 Q51.4968 704.864 56.1438 700.695 Q60.7589 696.493 68.7161 696.493 M66.9973 702.35 Q62.1912 702.413 59.3266 705.055 Q56.4621 707.665 56.4621 711.994 Q56.4621 716.895 59.2312 719.855 Q62.0002 722.784 67.0292 723.229 L66.9973 702.35 Z\" fill=\"#000000\" fill-rule=\"evenodd\" fill-opacity=\"1\" /><path clip-path=\"url(#clip000)\" d=\"M 0 0 M52.3562 694.552 L52.3562 688.345 L82.275 677.205 L52.3562 666.065 L52.3562 659.859 L88.0042 673.227 L88.0042 681.184 L52.3562 694.552 Z\" fill=\"#000000\" fill-rule=\"evenodd\" fill-opacity=\"1\" /><path clip-path=\"url(#clip000)\" d=\"M 0 0 M52.3562 653.716 L52.3562 647.859 L88.0042 647.859 L88.0042 653.716 L52.3562 653.716 M38.479 653.716 L38.479 647.859 L45.895 647.859 L45.895 653.716 L38.479 653.716 Z\" fill=\"#000000\" fill-rule=\"evenodd\" fill-opacity=\"1\" /><path clip-path=\"url(#clip000)\" d=\"M 0 0 M70.0847 625.516 Q70.0847 632.613 71.7079 635.351 Q73.3312 638.088 77.2461 638.088 Q80.3653 638.088 82.2114 636.051 Q84.0256 633.982 84.0256 630.449 Q84.0256 625.579 80.5881 622.651 Q77.1188 619.691 71.3897 619.691 L70.0847 619.691 L70.0847 625.516 M67.6657 613.835 L88.0042 613.835 L88.0042 619.691 L82.5933 619.691 Q85.8398 621.696 87.3994 624.688 Q88.9272 627.68 88.9272 632.009 Q88.9272 637.483 85.8716 640.73 Q82.7843 643.944 77.6281 643.944 Q71.6125 643.944 68.5569 639.934 Q65.5014 635.892 65.5014 627.903 L65.5014 619.691 L64.9285 619.691 Q60.8862 619.691 58.6901 622.365 Q56.4621 625.006 56.4621 629.812 Q56.4621 632.868 57.1941 635.764 Q57.9262 638.661 59.3903 641.334 L53.9795 641.334 Q52.7381 638.12 52.1334 635.096 Q51.4968 632.072 51.4968 629.208 Q51.4968 621.473 55.5072 617.654 Q59.5176 613.835 67.6657 613.835 Z\" fill=\"#000000\" fill-rule=\"evenodd\" fill-opacity=\"1\" /><path clip-path=\"url(#clip000)\" d=\"M 0 0 M42.2347 601.899 L52.3562 601.899 L52.3562 589.836 L56.9077 589.836 L56.9077 601.899 L76.2594 601.899 Q80.6199 601.899 81.8613 600.721 Q83.1026 599.512 83.1026 595.851 L83.1026 589.836 L88.0042 589.836 L88.0042 595.851 Q88.0042 602.631 85.4897 605.209 Q82.9434 607.787 76.2594 607.787 L56.9077 607.787 L56.9077 612.084 L52.3562 612.084 L52.3562 607.787 L42.2347 607.787 L42.2347 601.899 Z\" fill=\"#000000\" fill-rule=\"evenodd\" fill-opacity=\"1\" /><path clip-path=\"url(#clip000)\" d=\"M 0 0 M52.3562 583.693 L52.3562 577.836 L88.0042 577.836 L88.0042 583.693 L52.3562 583.693 M38.479 583.693 L38.479 577.836 L45.895 577.836 L45.895 583.693 L38.479 583.693 Z\" fill=\"#000000\" fill-rule=\"evenodd\" fill-opacity=\"1\" /><path clip-path=\"url(#clip000)\" d=\"M 0 0 M56.4621 557.88 Q56.4621 562.591 60.1542 565.328 Q63.8145 568.065 70.212 568.065 Q76.6095 568.065 80.3017 565.36 Q83.9619 562.622 83.9619 557.88 Q83.9619 553.201 80.2698 550.464 Q76.5777 547.727 70.212 547.727 Q63.8781 547.727 60.186 550.464 Q56.4621 553.201 56.4621 557.88 M51.4968 557.88 Q51.4968 550.241 56.4621 545.881 Q61.4273 541.52 70.212 541.52 Q78.9649 541.52 83.9619 545.881 Q88.9272 550.241 88.9272 557.88 Q88.9272 565.551 83.9619 569.911 Q78.9649 574.24 70.212 574.24 Q61.4273 574.24 56.4621 569.911 Q51.4968 565.551 51.4968 557.88 Z\" fill=\"#000000\" fill-rule=\"evenodd\" fill-opacity=\"1\" /><path clip-path=\"url(#clip000)\" d=\"M 0 0 M66.4881 505.745 L88.0042 505.745 L88.0042 511.601 L66.679 511.601 Q61.6183 511.601 59.1038 513.575 Q56.5894 515.548 56.5894 519.495 Q56.5894 524.237 59.6131 526.974 Q62.6368 529.712 67.8567 529.712 L88.0042 529.712 L88.0042 535.6 L52.3562 535.6 L52.3562 529.712 L57.8944 529.712 Q54.6797 527.611 53.0883 524.778 Q51.4968 521.914 51.4968 518.19 Q51.4968 512.047 55.3163 508.896 Q59.1038 505.745 66.4881 505.745 Z\" fill=\"#000000\" fill-rule=\"evenodd\" fill-opacity=\"1\" /><polyline clip-path=\"url(#clip002)\" style=\"stroke:#009af9; stroke-width:4; stroke-opacity:1; fill:none\" points=\"\n",
       "  2292.92,1374.46 2292.92,1374.46 2292.92,1374.46 2292.92,1374.46 2292.92,1374.46 \n",
       "  2292.92,1374.46 2292.92,1374.46 2292.92,1374.46 2292.92,1374.46 2292.92,1374.46 2292.92,1374.46 2292.92,1374.46 2292.92,1374.46 2292.92,1374.46 2292.92,1374.46 \n",
       "  2292.92,1374.46 2292.92,1374.46 2292.9,1374.46 2292.83,1374.44 2292.43,1374.38 2290.38,1374.04 2279.82,1372.31 2227.25,1363.67 2000.78,1326.02 1407.22,1222.98 \n",
       "  778.03,1099.01 486.375,1022.45 407.265,981.056 372.139,919.848 340.12,776.938 319.399,589.62 306.813,384.675 301.04,242.048 299.045,179.891 298.57,163.987 \n",
       "  298.474,160.714 298.455,160.074 298.451,159.95 298.45,159.926 298.45,159.922 298.45,159.921 298.45,159.921 298.45,159.921 298.45,159.92 298.45,159.909 \n",
       "  \n",
       "  \"/>\n",
       "</svg>\n"
      ]
     },
     "execution_count": 10,
     "metadata": {},
     "output_type": "execute_result"
    }
   ],
   "source": [
    "plot(J2, J1, legend=false)\n",
    "xlabel!(\"J2 = MS Curvature\")\n",
    "ylabel!(\"J1 = MS Deviation\")\n",
    "title!(\"Optimal trade-off curve \")"
   ]
  },
  {
   "cell_type": "code",
   "execution_count": 11,
   "metadata": {},
   "outputs": [
    {
     "name": "stdout",
     "output_type": "stream",
     "text": [
      "cp1 = (findall(J1 .== 0))[end] = 6\n",
      "mu[cp1] = 3.727593720314938e-12\n",
      "J2[cp1] = 521846.4341517205\n"
     ]
    },
    {
     "data": {
      "text/plain": [
       "521846.4341517205"
      ]
     },
     "execution_count": 11,
     "metadata": {},
     "output_type": "execute_result"
    }
   ],
   "source": [
    "@show cp1 = findall(J1 .== 0)[end]\n",
    "@show mu[cp1]\n",
    "@show J2[cp1]"
   ]
  },
  {
   "cell_type": "code",
   "execution_count": 21,
   "metadata": {
    "scrolled": false
   },
   "outputs": [
    {
     "data": {
      "image/svg+xml": [
       "<?xml version=\"1.0\" encoding=\"utf-8\"?>\n",
       "<svg xmlns=\"http://www.w3.org/2000/svg\" xmlns:xlink=\"http://www.w3.org/1999/xlink\" width=\"600\" height=\"400\" viewBox=\"0 0 2400 1600\">\n",
       "<defs>\n",
       "  <clipPath id=\"clip440\">\n",
       "    <rect x=\"0\" y=\"0\" width=\"2400\" height=\"1600\"/>\n",
       "  </clipPath>\n",
       "</defs>\n",
       "<path clip-path=\"url(#clip440)\" d=\"\n",
       "M0 1600 L2400 1600 L2400 0 L0 0  Z\n",
       "  \" fill=\"#ffffff\" fill-rule=\"evenodd\" fill-opacity=\"1\"/>\n",
       "<defs>\n",
       "  <clipPath id=\"clip441\">\n",
       "    <rect x=\"480\" y=\"0\" width=\"1681\" height=\"1600\"/>\n",
       "  </clipPath>\n",
       "</defs>\n",
       "<path clip-path=\"url(#clip440)\" d=\"\n",
       "M206.302 1423.18 L2352.76 1423.18 L2352.76 123.472 L206.302 123.472  Z\n",
       "  \" fill=\"#ffffff\" fill-rule=\"evenodd\" fill-opacity=\"1\"/>\n",
       "<defs>\n",
       "  <clipPath id=\"clip442\">\n",
       "    <rect x=\"206\" y=\"123\" width=\"2147\" height=\"1301\"/>\n",
       "  </clipPath>\n",
       "</defs>\n",
       "<polyline clip-path=\"url(#clip442)\" style=\"stroke:#000000; stroke-width:2; stroke-opacity:0.1; fill:none\" points=\"\n",
       "  226.551,1423.18 226.551,123.472 \n",
       "  \"/>\n",
       "<polyline clip-path=\"url(#clip442)\" style=\"stroke:#000000; stroke-width:2; stroke-opacity:0.1; fill:none\" points=\"\n",
       "  631.542,1423.18 631.542,123.472 \n",
       "  \"/>\n",
       "<polyline clip-path=\"url(#clip442)\" style=\"stroke:#000000; stroke-width:2; stroke-opacity:0.1; fill:none\" points=\"\n",
       "  1036.53,1423.18 1036.53,123.472 \n",
       "  \"/>\n",
       "<polyline clip-path=\"url(#clip442)\" style=\"stroke:#000000; stroke-width:2; stroke-opacity:0.1; fill:none\" points=\"\n",
       "  1441.53,1423.18 1441.53,123.472 \n",
       "  \"/>\n",
       "<polyline clip-path=\"url(#clip442)\" style=\"stroke:#000000; stroke-width:2; stroke-opacity:0.1; fill:none\" points=\"\n",
       "  1846.52,1423.18 1846.52,123.472 \n",
       "  \"/>\n",
       "<polyline clip-path=\"url(#clip442)\" style=\"stroke:#000000; stroke-width:2; stroke-opacity:0.1; fill:none\" points=\"\n",
       "  2251.51,1423.18 2251.51,123.472 \n",
       "  \"/>\n",
       "<polyline clip-path=\"url(#clip442)\" style=\"stroke:#000000; stroke-width:2; stroke-opacity:0.1; fill:none\" points=\"\n",
       "  206.302,1397.49 2352.76,1397.49 \n",
       "  \"/>\n",
       "<polyline clip-path=\"url(#clip442)\" style=\"stroke:#000000; stroke-width:2; stroke-opacity:0.1; fill:none\" points=\"\n",
       "  206.302,1136.19 2352.76,1136.19 \n",
       "  \"/>\n",
       "<polyline clip-path=\"url(#clip442)\" style=\"stroke:#000000; stroke-width:2; stroke-opacity:0.1; fill:none\" points=\"\n",
       "  206.302,874.896 2352.76,874.896 \n",
       "  \"/>\n",
       "<polyline clip-path=\"url(#clip442)\" style=\"stroke:#000000; stroke-width:2; stroke-opacity:0.1; fill:none\" points=\"\n",
       "  206.302,613.601 2352.76,613.601 \n",
       "  \"/>\n",
       "<polyline clip-path=\"url(#clip442)\" style=\"stroke:#000000; stroke-width:2; stroke-opacity:0.1; fill:none\" points=\"\n",
       "  206.302,352.306 2352.76,352.306 \n",
       "  \"/>\n",
       "<polyline clip-path=\"url(#clip440)\" style=\"stroke:#000000; stroke-width:4; stroke-opacity:1; fill:none\" points=\"\n",
       "  206.302,1423.18 2352.76,1423.18 \n",
       "  \"/>\n",
       "<polyline clip-path=\"url(#clip440)\" style=\"stroke:#000000; stroke-width:4; stroke-opacity:1; fill:none\" points=\"\n",
       "  206.302,1423.18 206.302,123.472 \n",
       "  \"/>\n",
       "<polyline clip-path=\"url(#clip440)\" style=\"stroke:#000000; stroke-width:4; stroke-opacity:1; fill:none\" points=\"\n",
       "  226.551,1423.18 226.551,1407.58 \n",
       "  \"/>\n",
       "<polyline clip-path=\"url(#clip440)\" style=\"stroke:#000000; stroke-width:4; stroke-opacity:1; fill:none\" points=\"\n",
       "  631.542,1423.18 631.542,1407.58 \n",
       "  \"/>\n",
       "<polyline clip-path=\"url(#clip440)\" style=\"stroke:#000000; stroke-width:4; stroke-opacity:1; fill:none\" points=\"\n",
       "  1036.53,1423.18 1036.53,1407.58 \n",
       "  \"/>\n",
       "<polyline clip-path=\"url(#clip440)\" style=\"stroke:#000000; stroke-width:4; stroke-opacity:1; fill:none\" points=\"\n",
       "  1441.53,1423.18 1441.53,1407.58 \n",
       "  \"/>\n",
       "<polyline clip-path=\"url(#clip440)\" style=\"stroke:#000000; stroke-width:4; stroke-opacity:1; fill:none\" points=\"\n",
       "  1846.52,1423.18 1846.52,1407.58 \n",
       "  \"/>\n",
       "<polyline clip-path=\"url(#clip440)\" style=\"stroke:#000000; stroke-width:4; stroke-opacity:1; fill:none\" points=\"\n",
       "  2251.51,1423.18 2251.51,1407.58 \n",
       "  \"/>\n",
       "<polyline clip-path=\"url(#clip440)\" style=\"stroke:#000000; stroke-width:4; stroke-opacity:1; fill:none\" points=\"\n",
       "  206.302,1397.49 232.059,1397.49 \n",
       "  \"/>\n",
       "<polyline clip-path=\"url(#clip440)\" style=\"stroke:#000000; stroke-width:4; stroke-opacity:1; fill:none\" points=\"\n",
       "  206.302,1136.19 232.059,1136.19 \n",
       "  \"/>\n",
       "<polyline clip-path=\"url(#clip440)\" style=\"stroke:#000000; stroke-width:4; stroke-opacity:1; fill:none\" points=\"\n",
       "  206.302,874.896 232.059,874.896 \n",
       "  \"/>\n",
       "<polyline clip-path=\"url(#clip440)\" style=\"stroke:#000000; stroke-width:4; stroke-opacity:1; fill:none\" points=\"\n",
       "  206.302,613.601 232.059,613.601 \n",
       "  \"/>\n",
       "<polyline clip-path=\"url(#clip440)\" style=\"stroke:#000000; stroke-width:4; stroke-opacity:1; fill:none\" points=\"\n",
       "  206.302,352.306 232.059,352.306 \n",
       "  \"/>\n",
       "<path clip-path=\"url(#clip440)\" d=\"M 0 0 M226.551 1445.17 Q222.94 1445.17 221.111 1448.74 Q219.306 1452.28 219.306 1459.41 Q219.306 1466.51 221.111 1470.08 Q222.94 1473.62 226.551 1473.62 Q230.185 1473.62 231.991 1470.08 Q233.82 1466.51 233.82 1459.41 Q233.82 1452.28 231.991 1448.74 Q230.185 1445.17 226.551 1445.17 M226.551 1441.47 Q232.361 1441.47 235.417 1446.07 Q238.495 1450.66 238.495 1459.41 Q238.495 1468.13 235.417 1472.74 Q232.361 1477.32 226.551 1477.32 Q220.741 1477.32 217.662 1472.74 Q214.607 1468.13 214.607 1459.41 Q214.607 1450.66 217.662 1446.07 Q220.741 1441.47 226.551 1441.47 Z\" fill=\"#000000\" fill-rule=\"evenodd\" fill-opacity=\"1\" /><path clip-path=\"url(#clip440)\" d=\"M 0 0 M608.418 1472.72 L616.056 1472.72 L616.056 1446.35 L607.746 1448.02 L607.746 1443.76 L616.01 1442.09 L620.686 1442.09 L620.686 1472.72 L628.325 1472.72 L628.325 1476.65 L608.418 1476.65 L608.418 1472.72 Z\" fill=\"#000000\" fill-rule=\"evenodd\" fill-opacity=\"1\" /><path clip-path=\"url(#clip440)\" d=\"M 0 0 M643.394 1445.17 Q639.783 1445.17 637.954 1448.74 Q636.149 1452.28 636.149 1459.41 Q636.149 1466.51 637.954 1470.08 Q639.783 1473.62 643.394 1473.62 Q647.029 1473.62 648.834 1470.08 Q650.663 1466.51 650.663 1459.41 Q650.663 1452.28 648.834 1448.74 Q647.029 1445.17 643.394 1445.17 M643.394 1441.47 Q649.204 1441.47 652.26 1446.07 Q655.339 1450.66 655.339 1459.41 Q655.339 1468.13 652.26 1472.74 Q649.204 1477.32 643.394 1477.32 Q637.584 1477.32 634.505 1472.74 Q631.45 1468.13 631.45 1459.41 Q631.45 1450.66 634.505 1446.07 Q637.584 1441.47 643.394 1441.47 Z\" fill=\"#000000\" fill-rule=\"evenodd\" fill-opacity=\"1\" /><path clip-path=\"url(#clip440)\" d=\"M 0 0 M1017.68 1472.72 L1034 1472.72 L1034 1476.65 L1012.05 1476.65 L1012.05 1472.72 Q1014.72 1469.96 1019.3 1465.33 Q1023.91 1460.68 1025.09 1459.34 Q1027.33 1456.81 1028.21 1455.08 Q1029.11 1453.32 1029.11 1451.63 Q1029.11 1448.87 1027.17 1447.14 Q1025.25 1445.4 1022.15 1445.4 Q1019.95 1445.4 1017.49 1446.17 Q1015.06 1446.93 1012.29 1448.48 L1012.29 1443.76 Q1015.11 1442.62 1017.56 1442.05 Q1020.02 1441.47 1022.05 1441.47 Q1027.43 1441.47 1030.62 1444.15 Q1033.81 1446.84 1033.81 1451.33 Q1033.81 1453.46 1033 1455.38 Q1032.22 1457.28 1030.11 1459.87 Q1029.53 1460.54 1026.43 1463.76 Q1023.33 1466.95 1017.68 1472.72 Z\" fill=\"#000000\" fill-rule=\"evenodd\" fill-opacity=\"1\" /><path clip-path=\"url(#clip440)\" d=\"M 0 0 M1049.07 1445.17 Q1045.46 1445.17 1043.63 1448.74 Q1041.82 1452.28 1041.82 1459.41 Q1041.82 1466.51 1043.63 1470.08 Q1045.46 1473.62 1049.07 1473.62 Q1052.7 1473.62 1054.51 1470.08 Q1056.34 1466.51 1056.34 1459.41 Q1056.34 1452.28 1054.51 1448.74 Q1052.7 1445.17 1049.07 1445.17 M1049.07 1441.47 Q1054.88 1441.47 1057.93 1446.07 Q1061.01 1450.66 1061.01 1459.41 Q1061.01 1468.13 1057.93 1472.74 Q1054.88 1477.32 1049.07 1477.32 Q1043.26 1477.32 1040.18 1472.74 Q1037.12 1468.13 1037.12 1459.41 Q1037.12 1450.66 1040.18 1446.07 Q1043.26 1441.47 1049.07 1441.47 Z\" fill=\"#000000\" fill-rule=\"evenodd\" fill-opacity=\"1\" /><path clip-path=\"url(#clip440)\" d=\"M 0 0 M1432.27 1458.02 Q1435.62 1458.74 1437.5 1461 Q1439.4 1463.27 1439.4 1466.61 Q1439.4 1471.72 1435.88 1474.52 Q1432.36 1477.32 1425.88 1477.32 Q1423.7 1477.32 1421.39 1476.88 Q1419.09 1476.47 1416.64 1475.61 L1416.64 1471.1 Q1418.59 1472.23 1420.9 1472.81 Q1423.22 1473.39 1425.74 1473.39 Q1430.14 1473.39 1432.43 1471.65 Q1434.74 1469.92 1434.74 1466.61 Q1434.74 1463.55 1432.59 1461.84 Q1430.46 1460.1 1426.64 1460.1 L1422.61 1460.1 L1422.61 1456.26 L1426.83 1456.26 Q1430.28 1456.26 1432.1 1454.89 Q1433.93 1453.5 1433.93 1450.91 Q1433.93 1448.25 1432.03 1446.84 Q1430.16 1445.4 1426.64 1445.4 Q1424.72 1445.4 1422.52 1445.82 Q1420.32 1446.24 1417.68 1447.11 L1417.68 1442.95 Q1420.34 1442.21 1422.66 1441.84 Q1425 1441.47 1427.06 1441.47 Q1432.38 1441.47 1435.48 1443.9 Q1438.59 1446.3 1438.59 1450.43 Q1438.59 1453.3 1436.94 1455.29 Q1435.3 1457.25 1432.27 1458.02 Z\" fill=\"#000000\" fill-rule=\"evenodd\" fill-opacity=\"1\" /><path clip-path=\"url(#clip440)\" d=\"M 0 0 M1454.47 1445.17 Q1450.85 1445.17 1449.03 1448.74 Q1447.22 1452.28 1447.22 1459.41 Q1447.22 1466.51 1449.03 1470.08 Q1450.85 1473.62 1454.47 1473.62 Q1458.1 1473.62 1459.9 1470.08 Q1461.73 1466.51 1461.73 1459.41 Q1461.73 1452.28 1459.9 1448.74 Q1458.1 1445.17 1454.47 1445.17 M1454.47 1441.47 Q1460.28 1441.47 1463.33 1446.07 Q1466.41 1450.66 1466.41 1459.41 Q1466.41 1468.13 1463.33 1472.74 Q1460.28 1477.32 1454.47 1477.32 Q1448.65 1477.32 1445.58 1472.74 Q1442.52 1468.13 1442.52 1459.41 Q1442.52 1450.66 1445.58 1446.07 Q1448.65 1441.47 1454.47 1441.47 Z\" fill=\"#000000\" fill-rule=\"evenodd\" fill-opacity=\"1\" /><path clip-path=\"url(#clip440)\" d=\"M 0 0 M1836.02 1446.17 L1824.21 1464.61 L1836.02 1464.61 L1836.02 1446.17 M1834.79 1442.09 L1840.67 1442.09 L1840.67 1464.61 L1845.6 1464.61 L1845.6 1468.5 L1840.67 1468.5 L1840.67 1476.65 L1836.02 1476.65 L1836.02 1468.5 L1820.42 1468.5 L1820.42 1463.99 L1834.79 1442.09 Z\" fill=\"#000000\" fill-rule=\"evenodd\" fill-opacity=\"1\" /><path clip-path=\"url(#clip440)\" d=\"M 0 0 M1860.67 1445.17 Q1857.06 1445.17 1855.23 1448.74 Q1853.43 1452.28 1853.43 1459.41 Q1853.43 1466.51 1855.23 1470.08 Q1857.06 1473.62 1860.67 1473.62 Q1864.31 1473.62 1866.11 1470.08 Q1867.94 1466.51 1867.94 1459.41 Q1867.94 1452.28 1866.11 1448.74 Q1864.31 1445.17 1860.67 1445.17 M1860.67 1441.47 Q1866.48 1441.47 1869.54 1446.07 Q1872.62 1450.66 1872.62 1459.41 Q1872.62 1468.13 1869.54 1472.74 Q1866.48 1477.32 1860.67 1477.32 Q1854.86 1477.32 1851.78 1472.74 Q1848.73 1468.13 1848.73 1459.41 Q1848.73 1450.66 1851.78 1446.07 Q1854.86 1441.47 1860.67 1441.47 Z\" fill=\"#000000\" fill-rule=\"evenodd\" fill-opacity=\"1\" /><path clip-path=\"url(#clip440)\" d=\"M 0 0 M2228.28 1442.09 L2246.64 1442.09 L2246.64 1446.03 L2232.56 1446.03 L2232.56 1454.5 Q2233.58 1454.15 2234.6 1453.99 Q2235.62 1453.8 2236.64 1453.8 Q2242.42 1453.8 2245.8 1456.98 Q2249.18 1460.15 2249.18 1465.56 Q2249.18 1471.14 2245.71 1474.24 Q2242.24 1477.32 2235.92 1477.32 Q2233.74 1477.32 2231.47 1476.95 Q2229.23 1476.58 2226.82 1475.84 L2226.82 1471.14 Q2228.9 1472.28 2231.13 1472.83 Q2233.35 1473.39 2235.83 1473.39 Q2239.83 1473.39 2242.17 1471.28 Q2244.51 1469.18 2244.51 1465.56 Q2244.51 1461.95 2242.17 1459.85 Q2239.83 1457.74 2235.83 1457.74 Q2233.95 1457.74 2232.08 1458.16 Q2230.22 1458.57 2228.28 1459.45 L2228.28 1442.09 Z\" fill=\"#000000\" fill-rule=\"evenodd\" fill-opacity=\"1\" /><path clip-path=\"url(#clip440)\" d=\"M 0 0 M2264.25 1445.17 Q2260.64 1445.17 2258.81 1448.74 Q2257.01 1452.28 2257.01 1459.41 Q2257.01 1466.51 2258.81 1470.08 Q2260.64 1473.62 2264.25 1473.62 Q2267.89 1473.62 2269.69 1470.08 Q2271.52 1466.51 2271.52 1459.41 Q2271.52 1452.28 2269.69 1448.74 Q2267.89 1445.17 2264.25 1445.17 M2264.25 1441.47 Q2270.06 1441.47 2273.12 1446.07 Q2276.2 1450.66 2276.2 1459.41 Q2276.2 1468.13 2273.12 1472.74 Q2270.06 1477.32 2264.25 1477.32 Q2258.44 1477.32 2255.36 1472.74 Q2252.31 1468.13 2252.31 1459.41 Q2252.31 1450.66 2255.36 1446.07 Q2258.44 1441.47 2264.25 1441.47 Z\" fill=\"#000000\" fill-rule=\"evenodd\" fill-opacity=\"1\" /><path clip-path=\"url(#clip440)\" d=\"M 0 0 M126.26 1397.94 L155.936 1397.94 L155.936 1401.87 L126.26 1401.87 L126.26 1397.94 Z\" fill=\"#000000\" fill-rule=\"evenodd\" fill-opacity=\"1\" /><path clip-path=\"url(#clip440)\" d=\"M 0 0 M175.172 1396.13 Q178.528 1396.85 180.403 1399.12 Q182.302 1401.39 182.302 1404.72 Q182.302 1409.84 178.783 1412.64 Q175.265 1415.44 168.783 1415.44 Q166.607 1415.44 164.292 1415 Q162.001 1414.58 159.547 1413.72 L159.547 1409.21 Q161.491 1410.35 163.806 1410.92 Q166.121 1411.5 168.644 1411.5 Q173.042 1411.5 175.334 1409.77 Q177.649 1408.03 177.649 1404.72 Q177.649 1401.66 175.496 1399.95 Q173.366 1398.22 169.547 1398.22 L165.519 1398.22 L165.519 1394.37 L169.732 1394.37 Q173.181 1394.37 175.01 1393.01 Q176.839 1391.62 176.839 1389.03 Q176.839 1386.36 174.94 1384.95 Q173.065 1383.52 169.547 1383.52 Q167.626 1383.52 165.427 1383.93 Q163.228 1384.35 160.589 1385.23 L160.589 1381.06 Q163.251 1380.32 165.566 1379.95 Q167.903 1379.58 169.964 1379.58 Q175.288 1379.58 178.39 1382.01 Q181.491 1384.42 181.491 1388.54 Q181.491 1391.41 179.848 1393.4 Q178.204 1395.37 175.172 1396.13 Z\" fill=\"#000000\" fill-rule=\"evenodd\" fill-opacity=\"1\" /><path clip-path=\"url(#clip440)\" d=\"M 0 0 M127.209 1136.64 L156.885 1136.64 L156.885 1140.58 L127.209 1140.58 L127.209 1136.64 Z\" fill=\"#000000\" fill-rule=\"evenodd\" fill-opacity=\"1\" /><path clip-path=\"url(#clip440)\" d=\"M 0 0 M165.982 1149.54 L182.302 1149.54 L182.302 1153.47 L160.357 1153.47 L160.357 1149.54 Q163.019 1146.78 167.603 1142.15 Q172.209 1137.5 173.39 1136.16 Q175.635 1133.63 176.515 1131.9 Q177.417 1130.14 177.417 1128.45 Q177.417 1125.69 175.473 1123.96 Q173.552 1122.22 170.45 1122.22 Q168.251 1122.22 165.797 1122.99 Q163.366 1123.75 160.589 1125.3 L160.589 1120.58 Q163.413 1119.44 165.866 1118.86 Q168.32 1118.29 170.357 1118.29 Q175.727 1118.29 178.922 1120.97 Q182.116 1123.66 182.116 1128.15 Q182.116 1130.28 181.306 1132.2 Q180.519 1134.1 178.413 1136.69 Q177.834 1137.36 174.732 1140.58 Q171.63 1143.77 165.982 1149.54 Z\" fill=\"#000000\" fill-rule=\"evenodd\" fill-opacity=\"1\" /><path clip-path=\"url(#clip440)\" d=\"M 0 0 M126.839 875.347 L156.515 875.347 L156.515 879.283 L126.839 879.283 L126.839 875.347 Z\" fill=\"#000000\" fill-rule=\"evenodd\" fill-opacity=\"1\" /><path clip-path=\"url(#clip440)\" d=\"M 0 0 M162.394 888.241 L170.033 888.241 L170.033 861.875 L161.723 863.542 L161.723 859.283 L169.987 857.616 L174.663 857.616 L174.663 888.241 L182.302 888.241 L182.302 892.176 L162.394 892.176 L162.394 888.241 Z\" fill=\"#000000\" fill-rule=\"evenodd\" fill-opacity=\"1\" /><path clip-path=\"url(#clip440)\" d=\"M 0 0 M170.357 599.4 Q166.746 599.4 164.917 602.964 Q163.112 606.506 163.112 613.636 Q163.112 620.742 164.917 624.307 Q166.746 627.848 170.357 627.848 Q173.991 627.848 175.797 624.307 Q177.626 620.742 177.626 613.636 Q177.626 606.506 175.797 602.964 Q173.991 599.4 170.357 599.4 M170.357 595.696 Q176.167 595.696 179.223 600.302 Q182.302 604.886 182.302 613.636 Q182.302 622.362 179.223 626.969 Q176.167 631.552 170.357 631.552 Q164.547 631.552 161.468 626.969 Q158.413 622.362 158.413 613.636 Q158.413 604.886 161.468 600.302 Q164.547 595.696 170.357 595.696 Z\" fill=\"#000000\" fill-rule=\"evenodd\" fill-opacity=\"1\" /><path clip-path=\"url(#clip440)\" d=\"M 0 0 M162.394 365.65 L170.033 365.65 L170.033 339.285 L161.723 340.952 L161.723 336.692 L169.987 335.026 L174.663 335.026 L174.663 365.65 L182.302 365.65 L182.302 369.586 L162.394 369.586 L162.394 365.65 Z\" fill=\"#000000\" fill-rule=\"evenodd\" fill-opacity=\"1\" /><path clip-path=\"url(#clip440)\" d=\"M 0 0 M1146.78 35.9153 Q1149.58 30.8922 1153.46 28.5022 Q1157.35 26.1121 1162.62 26.1121 Q1169.71 26.1121 1173.56 31.0947 Q1177.41 36.0368 1177.41 45.1919 L1177.41 72.576 L1169.91 72.576 L1169.91 45.4349 Q1169.91 38.913 1167.6 35.7533 Q1165.29 32.5936 1160.55 32.5936 Q1154.76 32.5936 1151.4 36.4419 Q1148.04 40.2903 1148.04 46.9338 L1148.04 72.576 L1140.54 72.576 L1140.54 45.4349 Q1140.54 38.8725 1138.23 35.7533 Q1135.92 32.5936 1131.1 32.5936 Q1125.39 32.5936 1122.03 36.4824 Q1118.67 40.3308 1118.67 46.9338 L1118.67 72.576 L1111.17 72.576 L1111.17 27.2059 L1118.67 27.2059 L1118.67 34.2544 Q1121.22 30.082 1124.78 28.0971 Q1128.35 26.1121 1133.25 26.1121 Q1138.19 26.1121 1141.64 28.6237 Q1145.12 31.1352 1146.78 35.9153 Z\" fill=\"#000000\" fill-rule=\"evenodd\" fill-opacity=\"1\" /><path clip-path=\"url(#clip440)\" d=\"M 0 0 M1184.45 54.671 L1184.45 27.2059 L1191.91 27.2059 L1191.91 54.3874 Q1191.91 60.8284 1194.42 64.0691 Q1196.93 67.2693 1201.95 67.2693 Q1207.99 67.2693 1211.47 63.421 Q1215 59.5726 1215 52.9291 L1215 27.2059 L1222.45 27.2059 L1222.45 72.576 L1215 72.576 L1215 65.6084 Q1212.28 69.7404 1208.68 71.7658 Q1205.11 73.7508 1200.37 73.7508 Q1192.56 73.7508 1188.5 68.8897 Q1184.45 64.0286 1184.45 54.671 M1203.21 26.1121 L1203.21 26.1121 Z\" fill=\"#000000\" fill-rule=\"evenodd\" fill-opacity=\"1\" /><path clip-path=\"url(#clip440)\" d=\"M 0 0 M1257.61 34.9026 L1309.55 34.9026 L1309.55 41.7081 L1257.61 41.7081 L1257.61 34.9026 M1257.61 51.4303 L1309.55 51.4303 L1309.55 58.3168 L1257.61 58.3168 L1257.61 51.4303 Z\" fill=\"#000000\" fill-rule=\"evenodd\" fill-opacity=\"1\" /><path clip-path=\"url(#clip440)\" d=\"M 0 0 M1362.29 17.4837 Q1355.97 17.4837 1352.77 23.7221 Q1349.61 29.92 1349.61 42.3968 Q1349.61 54.833 1352.77 61.0714 Q1355.97 67.2693 1362.29 67.2693 Q1368.65 67.2693 1371.81 61.0714 Q1375.01 54.833 1375.01 42.3968 Q1375.01 29.92 1371.81 23.7221 Q1368.65 17.4837 1362.29 17.4837 M1362.29 11.0023 Q1372.46 11.0023 1377.8 19.0636 Q1383.19 27.0843 1383.19 42.3968 Q1383.19 57.6687 1377.8 65.73 Q1372.46 73.7508 1362.29 73.7508 Q1352.12 73.7508 1346.73 65.73 Q1341.39 57.6687 1341.39 42.3968 Q1341.39 27.0843 1346.73 19.0636 Q1352.12 11.0023 1362.29 11.0023 Z\" fill=\"#000000\" fill-rule=\"evenodd\" fill-opacity=\"1\" /><path clip-path=\"url(#clip440)\" d=\"M 0 0 M1392.06 62.2867 L1400.61 62.2867 L1400.61 72.576 L1392.06 72.576 L1392.06 62.2867 Z\" fill=\"#000000\" fill-rule=\"evenodd\" fill-opacity=\"1\" /><path clip-path=\"url(#clip440)\" d=\"M 0 0 M1426.98 17.4837 Q1420.66 17.4837 1417.46 23.7221 Q1414.3 29.92 1414.3 42.3968 Q1414.3 54.833 1417.46 61.0714 Q1420.66 67.2693 1426.98 67.2693 Q1433.34 67.2693 1436.5 61.0714 Q1439.7 54.833 1439.7 42.3968 Q1439.7 29.92 1436.5 23.7221 Q1433.34 17.4837 1426.98 17.4837 M1426.98 11.0023 Q1437.15 11.0023 1442.5 19.0636 Q1447.88 27.0843 1447.88 42.3968 Q1447.88 57.6687 1442.5 65.73 Q1437.15 73.7508 1426.98 73.7508 Q1416.81 73.7508 1411.43 65.73 Q1406.08 57.6687 1406.08 42.3968 Q1406.08 27.0843 1411.43 19.0636 Q1416.81 11.0023 1426.98 11.0023 Z\" fill=\"#000000\" fill-rule=\"evenodd\" fill-opacity=\"1\" /><path clip-path=\"url(#clip440)\" d=\"M 0 0 M1112.3 1556.04 L1094.16 1508.52 L1100.88 1508.52 L1115.93 1548.53 L1131.02 1508.52 L1137.7 1508.52 L1119.59 1556.04 L1112.3 1556.04 Z\" fill=\"#000000\" fill-rule=\"evenodd\" fill-opacity=\"1\" /><path clip-path=\"url(#clip440)\" d=\"M 0 0 M1169.27 1536.76 L1169.27 1539.62 L1142.35 1539.62 Q1142.73 1545.67 1145.98 1548.85 Q1149.25 1552 1155.08 1552 Q1158.45 1552 1161.6 1551.17 Q1164.79 1550.35 1167.91 1548.69 L1167.91 1554.23 Q1164.76 1555.57 1161.44 1556.27 Q1158.13 1556.97 1154.73 1556.97 Q1146.2 1556.97 1141.2 1552 Q1136.24 1547.04 1136.24 1538.57 Q1136.24 1529.82 1140.95 1524.69 Q1145.69 1519.54 1153.71 1519.54 Q1160.9 1519.54 1165.07 1524.18 Q1169.27 1528.8 1169.27 1536.76 M1163.42 1535.04 Q1163.35 1530.23 1160.71 1527.37 Q1158.1 1524.5 1153.77 1524.5 Q1148.87 1524.5 1145.91 1527.27 Q1142.98 1530.04 1142.54 1535.07 L1163.42 1535.04 Z\" fill=\"#000000\" fill-rule=\"evenodd\" fill-opacity=\"1\" /><path clip-path=\"url(#clip440)\" d=\"M 0 0 M1201.07 1521.76 L1201.07 1527.24 Q1198.59 1525.87 1196.07 1525.2 Q1193.59 1524.5 1191.05 1524.5 Q1185.35 1524.5 1182.2 1528.13 Q1179.05 1531.73 1179.05 1538.25 Q1179.05 1544.78 1182.2 1548.4 Q1185.35 1552 1191.05 1552 Q1193.59 1552 1196.07 1551.33 Q1198.59 1550.63 1201.07 1549.26 L1201.07 1554.68 Q1198.62 1555.82 1195.98 1556.39 Q1193.37 1556.97 1190.41 1556.97 Q1182.36 1556.97 1177.61 1551.91 Q1172.87 1546.85 1172.87 1538.25 Q1172.87 1529.53 1177.65 1524.53 Q1182.45 1519.54 1190.79 1519.54 Q1193.5 1519.54 1196.07 1520.11 Q1198.65 1520.65 1201.07 1521.76 Z\" fill=\"#000000\" fill-rule=\"evenodd\" fill-opacity=\"1\" /><path clip-path=\"url(#clip440)\" d=\"M 0 0 M1213.01 1510.27 L1213.01 1520.4 L1225.07 1520.4 L1225.07 1524.95 L1213.01 1524.95 L1213.01 1544.3 Q1213.01 1548.66 1214.18 1549.9 Q1215.39 1551.14 1219.05 1551.14 L1225.07 1551.14 L1225.07 1556.04 L1219.05 1556.04 Q1212.28 1556.04 1209.7 1553.53 Q1207.12 1550.98 1207.12 1544.3 L1207.12 1524.95 L1202.82 1524.95 L1202.82 1520.4 L1207.12 1520.4 L1207.12 1510.27 L1213.01 1510.27 Z\" fill=\"#000000\" fill-rule=\"evenodd\" fill-opacity=\"1\" /><path clip-path=\"url(#clip440)\" d=\"M 0 0 M1245.03 1524.5 Q1240.32 1524.5 1237.58 1528.19 Q1234.84 1531.85 1234.84 1538.25 Q1234.84 1544.65 1237.55 1548.34 Q1240.28 1552 1245.03 1552 Q1249.71 1552 1252.44 1548.31 Q1255.18 1544.62 1255.18 1538.25 Q1255.18 1531.92 1252.44 1528.23 Q1249.71 1524.5 1245.03 1524.5 M1245.03 1519.54 Q1252.67 1519.54 1257.03 1524.5 Q1261.39 1529.47 1261.39 1538.25 Q1261.39 1547 1257.03 1552 Q1252.67 1556.97 1245.03 1556.97 Q1237.36 1556.97 1233 1552 Q1228.67 1547 1228.67 1538.25 Q1228.67 1529.47 1233 1524.5 Q1237.36 1519.54 1245.03 1519.54 Z\" fill=\"#000000\" fill-rule=\"evenodd\" fill-opacity=\"1\" /><path clip-path=\"url(#clip440)\" d=\"M 0 0 M1288.19 1525.87 Q1287.2 1525.3 1286.02 1525.04 Q1284.88 1524.76 1283.48 1524.76 Q1278.51 1524.76 1275.84 1528 Q1273.19 1531.22 1273.19 1537.27 L1273.19 1556.04 L1267.31 1556.04 L1267.31 1520.4 L1273.19 1520.4 L1273.19 1525.93 Q1275.04 1522.69 1278 1521.13 Q1280.96 1519.54 1285.19 1519.54 Q1285.8 1519.54 1286.53 1519.63 Q1287.26 1519.7 1288.15 1519.85 L1288.19 1525.87 Z\" fill=\"#000000\" fill-rule=\"evenodd\" fill-opacity=\"1\" /><path clip-path=\"url(#clip440)\" d=\"M 0 0 M1315.3 1508.52 L1321.73 1508.52 L1321.73 1556.04 L1315.3 1556.04 L1315.3 1508.52 Z\" fill=\"#000000\" fill-rule=\"evenodd\" fill-opacity=\"1\" /><path clip-path=\"url(#clip440)\" d=\"M 0 0 M1357.51 1534.53 L1357.51 1556.04 L1351.65 1556.04 L1351.65 1534.72 Q1351.65 1529.66 1349.68 1527.14 Q1347.71 1524.63 1343.76 1524.63 Q1339.02 1524.63 1336.28 1527.65 Q1333.54 1530.68 1333.54 1535.9 L1333.54 1556.04 L1327.65 1556.04 L1327.65 1520.4 L1333.54 1520.4 L1333.54 1525.93 Q1335.64 1522.72 1338.48 1521.13 Q1341.34 1519.54 1345.06 1519.54 Q1351.21 1519.54 1354.36 1523.36 Q1357.51 1527.14 1357.51 1534.53 Z\" fill=\"#000000\" fill-rule=\"evenodd\" fill-opacity=\"1\" /><path clip-path=\"url(#clip440)\" d=\"M 0 0 M1387.11 1525.81 L1387.11 1506.52 L1392.97 1506.52 L1392.97 1556.04 L1387.11 1556.04 L1387.11 1550.7 Q1385.26 1553.88 1382.43 1555.44 Q1379.63 1556.97 1375.68 1556.97 Q1369.22 1556.97 1365.15 1551.81 Q1361.11 1546.65 1361.11 1538.25 Q1361.11 1529.85 1365.15 1524.69 Q1369.22 1519.54 1375.68 1519.54 Q1379.63 1519.54 1382.43 1521.1 Q1385.26 1522.62 1387.11 1525.81 M1367.15 1538.25 Q1367.15 1544.71 1369.79 1548.4 Q1372.47 1552.07 1377.11 1552.07 Q1381.76 1552.07 1384.44 1548.4 Q1387.11 1544.71 1387.11 1538.25 Q1387.11 1531.79 1384.44 1528.13 Q1381.76 1524.44 1377.11 1524.44 Q1372.47 1524.44 1369.79 1528.13 Q1367.15 1531.79 1367.15 1538.25 Z\" fill=\"#000000\" fill-rule=\"evenodd\" fill-opacity=\"1\" /><path clip-path=\"url(#clip440)\" d=\"M 0 0 M1429.6 1536.76 L1429.6 1539.62 L1402.67 1539.62 Q1403.06 1545.67 1406.3 1548.85 Q1409.58 1552 1415.4 1552 Q1418.78 1552 1421.93 1551.17 Q1425.11 1550.35 1428.23 1548.69 L1428.23 1554.23 Q1425.08 1555.57 1421.77 1556.27 Q1418.46 1556.97 1415.05 1556.97 Q1406.52 1556.97 1401.53 1552 Q1396.56 1547.04 1396.56 1538.57 Q1396.56 1529.82 1401.27 1524.69 Q1406.02 1519.54 1414.04 1519.54 Q1421.23 1519.54 1425.4 1524.18 Q1429.6 1528.8 1429.6 1536.76 M1423.74 1535.04 Q1423.68 1530.23 1421.04 1527.37 Q1418.43 1524.5 1414.1 1524.5 Q1409.2 1524.5 1406.24 1527.27 Q1403.31 1530.04 1402.86 1535.07 L1423.74 1535.04 Z\" fill=\"#000000\" fill-rule=\"evenodd\" fill-opacity=\"1\" /><path clip-path=\"url(#clip440)\" d=\"M 0 0 M1464.23 1520.4 L1451.34 1537.74 L1464.9 1556.04 L1457.99 1556.04 L1447.62 1542.04 L1437.24 1556.04 L1430.33 1556.04 L1444.18 1537.39 L1431.51 1520.4 L1438.42 1520.4 L1447.87 1533.1 L1457.32 1520.4 L1464.23 1520.4 Z\" fill=\"#000000\" fill-rule=\"evenodd\" fill-opacity=\"1\" /><path clip-path=\"url(#clip440)\" d=\"M 0 0 M88.0042 833.45 L40.4842 851.592 L40.4842 844.877 L80.4926 829.822 L40.4842 814.735 L40.4842 808.051 L88.0042 826.161 L88.0042 833.45 Z\" fill=\"#000000\" fill-rule=\"evenodd\" fill-opacity=\"1\" /><path clip-path=\"url(#clip440)\" d=\"M 0 0 M70.0847 790.768 Q70.0847 797.866 71.7079 800.603 Q73.3312 803.34 77.2461 803.34 Q80.3653 803.34 82.2114 801.303 Q84.0256 799.234 84.0256 795.701 Q84.0256 790.832 80.5881 787.903 Q77.1188 784.943 71.3897 784.943 L70.0847 784.943 L70.0847 790.768 M67.6657 779.087 L88.0042 779.087 L88.0042 784.943 L82.5933 784.943 Q85.8398 786.949 87.3994 789.94 Q88.9272 792.932 88.9272 797.261 Q88.9272 802.736 85.8716 805.982 Q82.7843 809.197 77.6281 809.197 Q71.6125 809.197 68.5569 805.186 Q65.5014 801.144 65.5014 793.155 L65.5014 784.943 L64.9285 784.943 Q60.8862 784.943 58.6901 787.617 Q56.4621 790.259 56.4621 795.065 Q56.4621 798.12 57.1941 801.017 Q57.9262 803.913 59.3903 806.587 L53.9795 806.587 Q52.7381 803.372 52.1334 800.348 Q51.4968 797.325 51.4968 794.46 Q51.4968 786.726 55.5072 782.906 Q59.5176 779.087 67.6657 779.087 Z\" fill=\"#000000\" fill-rule=\"evenodd\" fill-opacity=\"1\" /><path clip-path=\"url(#clip440)\" d=\"M 0 0 M38.479 772.944 L38.479 767.088 L88.0042 767.088 L88.0042 772.944 L38.479 772.944 Z\" fill=\"#000000\" fill-rule=\"evenodd\" fill-opacity=\"1\" /><path clip-path=\"url(#clip440)\" d=\"M 0 0 M73.9359 761.549 L52.3562 761.549 L52.3562 755.693 L73.7131 755.693 Q78.7739 755.693 81.3202 753.72 Q83.8346 751.746 83.8346 747.8 Q83.8346 743.057 80.8109 740.32 Q77.7872 737.551 72.5673 737.551 L52.3562 737.551 L52.3562 731.694 L88.0042 731.694 L88.0042 737.551 L82.5296 737.551 Q85.7762 739.683 87.3676 742.516 Q88.9272 745.317 88.9272 749.041 Q88.9272 755.184 85.1078 758.367 Q81.2883 761.549 73.9359 761.549 M51.4968 746.813 L51.4968 746.813 Z\" fill=\"#000000\" fill-rule=\"evenodd\" fill-opacity=\"1\" /><path clip-path=\"url(#clip440)\" d=\"M 0 0 M68.7161 695.06 L71.5806 695.06 L71.5806 721.987 Q77.6281 721.605 80.8109 718.358 Q83.9619 715.08 83.9619 709.255 Q83.9619 705.881 83.1344 702.73 Q82.3069 699.547 80.6518 696.428 L86.1899 696.428 Q87.5267 699.579 88.227 702.889 Q88.9272 706.2 88.9272 709.605 Q88.9272 718.135 83.9619 723.132 Q78.9967 728.098 70.5303 728.098 Q61.7774 728.098 56.6531 723.387 Q51.4968 718.645 51.4968 710.624 Q51.4968 703.431 56.1438 699.261 Q60.7589 695.06 68.7161 695.06 M66.9973 700.916 Q62.1912 700.98 59.3266 703.621 Q56.4621 706.231 56.4621 710.56 Q56.4621 715.462 59.2312 718.422 Q62.0002 721.35 67.0292 721.796 L66.9973 700.916 Z\" fill=\"#000000\" fill-rule=\"evenodd\" fill-opacity=\"1\" /><polyline clip-path=\"url(#clip442)\" style=\"stroke:#009af9; stroke-width:12; stroke-opacity:1; fill:none\" stroke-dasharray=\"6, 12\" points=\"\n",
       "  267.05,1386.4 307.549,1346.62 348.049,1270.43 388.548,1260.02 429.047,1108.32 469.546,1125.3 510.045,999.913 550.544,916.688 591.043,790.428 631.542,862.494 \n",
       "  672.042,791.207 712.541,657.082 753.04,557.181 793.539,624.646 834.038,682.815 874.537,669.177 915.036,676.376 955.536,568.795 996.035,713.222 1036.53,652.762 \n",
       "  1077.03,716.937 1117.53,752.906 1158.03,660.672 1198.53,585.208 1239.03,730.558 1279.53,658.726 1320.03,566.458 1360.53,494.095 1401.03,561.935 1441.53,530.12 \n",
       "  1482.02,443.286 1522.52,577.892 1563.02,438.498 1603.52,474.49 1644.02,601.779 1684.52,547.297 1725.02,534.554 1765.52,621.773 1806.02,600.823 1846.52,652.198 \n",
       "  1887.02,650.598 1927.51,634.477 1968.01,660.271 2008.51,598.864 2049.01,498.289 2089.51,372.361 2130.01,414.25 2170.51,217.399 2211.01,308.844 2251.51,160.256 \n",
       "  2292.01,240.402 \n",
       "  \"/>\n",
       "<polyline clip-path=\"url(#clip442)\" style=\"stroke:#e26f46; stroke-width:4; stroke-opacity:1; fill:none\" points=\"\n",
       "  267.05,1386.4 307.549,1346.62 348.049,1270.43 388.548,1260.02 429.047,1108.32 469.546,1125.3 510.045,999.913 550.544,916.688 591.043,790.428 631.542,862.494 \n",
       "  672.042,791.207 712.541,657.082 753.04,557.181 793.539,624.646 834.038,682.815 874.537,669.177 915.036,676.376 955.536,568.795 996.035,713.222 1036.53,652.762 \n",
       "  1077.03,716.937 1117.53,752.906 1158.03,660.672 1198.53,585.208 1239.03,730.558 1279.53,658.726 1320.03,566.458 1360.53,494.095 1401.03,561.935 1441.53,530.12 \n",
       "  1482.02,443.286 1522.52,577.892 1563.02,438.498 1603.52,474.49 1644.02,601.779 1684.52,547.297 1725.02,534.554 1765.52,621.773 1806.02,600.823 1846.52,652.198 \n",
       "  1887.02,650.598 1927.51,634.477 1968.01,660.271 2008.51,598.864 2049.01,498.289 2089.51,372.361 2130.01,414.25 2170.51,217.399 2211.01,308.844 2251.51,160.256 \n",
       "  2292.01,240.402 \n",
       "  \"/>\n",
       "<path clip-path=\"url(#clip440)\" d=\"\n",
       "M2019.54 348.236 L2281.21 348.236 L2281.21 166.796 L2019.54 166.796  Z\n",
       "  \" fill=\"#ffffff\" fill-rule=\"evenodd\" fill-opacity=\"1\"/>\n",
       "<polyline clip-path=\"url(#clip440)\" style=\"stroke:#000000; stroke-width:4; stroke-opacity:1; fill:none\" points=\"\n",
       "  2019.54,348.236 2281.21,348.236 2281.21,166.796 2019.54,166.796 2019.54,348.236 \n",
       "  \"/>\n",
       "<polyline clip-path=\"url(#clip440)\" style=\"stroke:#009af9; stroke-width:4; stroke-opacity:1; fill:none\" stroke-dasharray=\"2, 4\" points=\"\n",
       "  2043.39,227.276 2186.49,227.276 \n",
       "  \"/>\n",
       "<path clip-path=\"url(#clip440)\" d=\"M 0 0 M2226.84 208.537 L2226.84 212.079 L2222.77 212.079 Q2220.48 212.079 2219.57 213.005 Q2218.69 213.931 2218.69 216.338 L2218.69 218.63 L2225.71 218.63 L2225.71 221.94 L2218.69 221.94 L2218.69 244.556 L2214.41 244.556 L2214.41 221.94 L2210.34 221.94 L2210.34 218.63 L2214.41 218.63 L2214.41 216.824 Q2214.41 212.496 2216.43 210.528 Q2218.44 208.537 2222.81 208.537 L2226.84 208.537 Z\" fill=\"#000000\" fill-rule=\"evenodd\" fill-opacity=\"1\" /><polyline clip-path=\"url(#clip440)\" style=\"stroke:#e26f46; stroke-width:4; stroke-opacity:1; fill:none\" points=\"\n",
       "  2043.39,287.756 2186.49,287.756 \n",
       "  \"/>\n",
       "<path clip-path=\"url(#clip440)\" d=\"M 0 0 M2229.25 291.772 Q2229.25 287.142 2227.33 284.596 Q2225.43 282.05 2221.98 282.05 Q2218.55 282.05 2216.63 284.596 Q2214.74 287.142 2214.74 291.772 Q2214.74 296.378 2216.63 298.925 Q2218.55 301.471 2221.98 301.471 Q2225.43 301.471 2227.33 298.925 Q2229.25 296.378 2229.25 291.772 M2233.51 301.818 Q2233.51 308.438 2230.57 311.656 Q2227.63 314.897 2221.56 314.897 Q2219.32 314.897 2217.33 314.55 Q2215.34 314.225 2213.46 313.531 L2213.46 309.388 Q2215.34 310.406 2217.17 310.892 Q2218.99 311.378 2220.89 311.378 Q2225.08 311.378 2227.17 309.179 Q2229.25 307.003 2229.25 302.582 L2229.25 300.476 Q2227.93 302.767 2225.87 303.901 Q2223.81 305.036 2220.94 305.036 Q2216.17 305.036 2213.25 301.401 Q2210.34 297.767 2210.34 291.772 Q2210.34 285.753 2213.25 282.119 Q2216.17 278.485 2220.94 278.485 Q2223.81 278.485 2225.87 279.619 Q2227.93 280.753 2229.25 283.045 L2229.25 279.11 L2233.51 279.11 L2233.51 301.818 Z\" fill=\"#000000\" fill-rule=\"evenodd\" fill-opacity=\"1\" /></svg>\n"
      ]
     },
     "metadata": {},
     "output_type": "display_data"
    },
    {
     "data": {
      "image/svg+xml": [
       "<?xml version=\"1.0\" encoding=\"utf-8\"?>\n",
       "<svg xmlns=\"http://www.w3.org/2000/svg\" xmlns:xlink=\"http://www.w3.org/1999/xlink\" width=\"600\" height=\"400\" viewBox=\"0 0 2400 1600\">\n",
       "<defs>\n",
       "  <clipPath id=\"clip480\">\n",
       "    <rect x=\"0\" y=\"0\" width=\"2400\" height=\"1600\"/>\n",
       "  </clipPath>\n",
       "</defs>\n",
       "<path clip-path=\"url(#clip480)\" d=\"\n",
       "M0 1600 L2400 1600 L2400 0 L0 0  Z\n",
       "  \" fill=\"#ffffff\" fill-rule=\"evenodd\" fill-opacity=\"1\"/>\n",
       "<defs>\n",
       "  <clipPath id=\"clip481\">\n",
       "    <rect x=\"480\" y=\"0\" width=\"1681\" height=\"1600\"/>\n",
       "  </clipPath>\n",
       "</defs>\n",
       "<path clip-path=\"url(#clip480)\" d=\"\n",
       "M206.302 1423.18 L2352.76 1423.18 L2352.76 123.472 L206.302 123.472  Z\n",
       "  \" fill=\"#ffffff\" fill-rule=\"evenodd\" fill-opacity=\"1\"/>\n",
       "<defs>\n",
       "  <clipPath id=\"clip482\">\n",
       "    <rect x=\"206\" y=\"123\" width=\"2147\" height=\"1301\"/>\n",
       "  </clipPath>\n",
       "</defs>\n",
       "<polyline clip-path=\"url(#clip482)\" style=\"stroke:#000000; stroke-width:2; stroke-opacity:0.1; fill:none\" points=\"\n",
       "  226.551,1423.18 226.551,123.472 \n",
       "  \"/>\n",
       "<polyline clip-path=\"url(#clip482)\" style=\"stroke:#000000; stroke-width:2; stroke-opacity:0.1; fill:none\" points=\"\n",
       "  631.542,1423.18 631.542,123.472 \n",
       "  \"/>\n",
       "<polyline clip-path=\"url(#clip482)\" style=\"stroke:#000000; stroke-width:2; stroke-opacity:0.1; fill:none\" points=\"\n",
       "  1036.53,1423.18 1036.53,123.472 \n",
       "  \"/>\n",
       "<polyline clip-path=\"url(#clip482)\" style=\"stroke:#000000; stroke-width:2; stroke-opacity:0.1; fill:none\" points=\"\n",
       "  1441.53,1423.18 1441.53,123.472 \n",
       "  \"/>\n",
       "<polyline clip-path=\"url(#clip482)\" style=\"stroke:#000000; stroke-width:2; stroke-opacity:0.1; fill:none\" points=\"\n",
       "  1846.52,1423.18 1846.52,123.472 \n",
       "  \"/>\n",
       "<polyline clip-path=\"url(#clip482)\" style=\"stroke:#000000; stroke-width:2; stroke-opacity:0.1; fill:none\" points=\"\n",
       "  2251.51,1423.18 2251.51,123.472 \n",
       "  \"/>\n",
       "<polyline clip-path=\"url(#clip482)\" style=\"stroke:#000000; stroke-width:2; stroke-opacity:0.1; fill:none\" points=\"\n",
       "  206.302,1397.49 2352.76,1397.49 \n",
       "  \"/>\n",
       "<polyline clip-path=\"url(#clip482)\" style=\"stroke:#000000; stroke-width:2; stroke-opacity:0.1; fill:none\" points=\"\n",
       "  206.302,1136.19 2352.76,1136.19 \n",
       "  \"/>\n",
       "<polyline clip-path=\"url(#clip482)\" style=\"stroke:#000000; stroke-width:2; stroke-opacity:0.1; fill:none\" points=\"\n",
       "  206.302,874.896 2352.76,874.896 \n",
       "  \"/>\n",
       "<polyline clip-path=\"url(#clip482)\" style=\"stroke:#000000; stroke-width:2; stroke-opacity:0.1; fill:none\" points=\"\n",
       "  206.302,613.601 2352.76,613.601 \n",
       "  \"/>\n",
       "<polyline clip-path=\"url(#clip482)\" style=\"stroke:#000000; stroke-width:2; stroke-opacity:0.1; fill:none\" points=\"\n",
       "  206.302,352.306 2352.76,352.306 \n",
       "  \"/>\n",
       "<polyline clip-path=\"url(#clip480)\" style=\"stroke:#000000; stroke-width:4; stroke-opacity:1; fill:none\" points=\"\n",
       "  206.302,1423.18 2352.76,1423.18 \n",
       "  \"/>\n",
       "<polyline clip-path=\"url(#clip480)\" style=\"stroke:#000000; stroke-width:4; stroke-opacity:1; fill:none\" points=\"\n",
       "  206.302,1423.18 206.302,123.472 \n",
       "  \"/>\n",
       "<polyline clip-path=\"url(#clip480)\" style=\"stroke:#000000; stroke-width:4; stroke-opacity:1; fill:none\" points=\"\n",
       "  226.551,1423.18 226.551,1407.58 \n",
       "  \"/>\n",
       "<polyline clip-path=\"url(#clip480)\" style=\"stroke:#000000; stroke-width:4; stroke-opacity:1; fill:none\" points=\"\n",
       "  631.542,1423.18 631.542,1407.58 \n",
       "  \"/>\n",
       "<polyline clip-path=\"url(#clip480)\" style=\"stroke:#000000; stroke-width:4; stroke-opacity:1; fill:none\" points=\"\n",
       "  1036.53,1423.18 1036.53,1407.58 \n",
       "  \"/>\n",
       "<polyline clip-path=\"url(#clip480)\" style=\"stroke:#000000; stroke-width:4; stroke-opacity:1; fill:none\" points=\"\n",
       "  1441.53,1423.18 1441.53,1407.58 \n",
       "  \"/>\n",
       "<polyline clip-path=\"url(#clip480)\" style=\"stroke:#000000; stroke-width:4; stroke-opacity:1; fill:none\" points=\"\n",
       "  1846.52,1423.18 1846.52,1407.58 \n",
       "  \"/>\n",
       "<polyline clip-path=\"url(#clip480)\" style=\"stroke:#000000; stroke-width:4; stroke-opacity:1; fill:none\" points=\"\n",
       "  2251.51,1423.18 2251.51,1407.58 \n",
       "  \"/>\n",
       "<polyline clip-path=\"url(#clip480)\" style=\"stroke:#000000; stroke-width:4; stroke-opacity:1; fill:none\" points=\"\n",
       "  206.302,1397.49 232.059,1397.49 \n",
       "  \"/>\n",
       "<polyline clip-path=\"url(#clip480)\" style=\"stroke:#000000; stroke-width:4; stroke-opacity:1; fill:none\" points=\"\n",
       "  206.302,1136.19 232.059,1136.19 \n",
       "  \"/>\n",
       "<polyline clip-path=\"url(#clip480)\" style=\"stroke:#000000; stroke-width:4; stroke-opacity:1; fill:none\" points=\"\n",
       "  206.302,874.896 232.059,874.896 \n",
       "  \"/>\n",
       "<polyline clip-path=\"url(#clip480)\" style=\"stroke:#000000; stroke-width:4; stroke-opacity:1; fill:none\" points=\"\n",
       "  206.302,613.601 232.059,613.601 \n",
       "  \"/>\n",
       "<polyline clip-path=\"url(#clip480)\" style=\"stroke:#000000; stroke-width:4; stroke-opacity:1; fill:none\" points=\"\n",
       "  206.302,352.306 232.059,352.306 \n",
       "  \"/>\n",
       "<path clip-path=\"url(#clip480)\" d=\"M 0 0 M226.551 1445.17 Q222.94 1445.17 221.111 1448.74 Q219.306 1452.28 219.306 1459.41 Q219.306 1466.51 221.111 1470.08 Q222.94 1473.62 226.551 1473.62 Q230.185 1473.62 231.991 1470.08 Q233.82 1466.51 233.82 1459.41 Q233.82 1452.28 231.991 1448.74 Q230.185 1445.17 226.551 1445.17 M226.551 1441.47 Q232.361 1441.47 235.417 1446.07 Q238.495 1450.66 238.495 1459.41 Q238.495 1468.13 235.417 1472.74 Q232.361 1477.32 226.551 1477.32 Q220.741 1477.32 217.662 1472.74 Q214.607 1468.13 214.607 1459.41 Q214.607 1450.66 217.662 1446.07 Q220.741 1441.47 226.551 1441.47 Z\" fill=\"#000000\" fill-rule=\"evenodd\" fill-opacity=\"1\" /><path clip-path=\"url(#clip480)\" d=\"M 0 0 M608.418 1472.72 L616.056 1472.72 L616.056 1446.35 L607.746 1448.02 L607.746 1443.76 L616.01 1442.09 L620.686 1442.09 L620.686 1472.72 L628.325 1472.72 L628.325 1476.65 L608.418 1476.65 L608.418 1472.72 Z\" fill=\"#000000\" fill-rule=\"evenodd\" fill-opacity=\"1\" /><path clip-path=\"url(#clip480)\" d=\"M 0 0 M643.394 1445.17 Q639.783 1445.17 637.954 1448.74 Q636.149 1452.28 636.149 1459.41 Q636.149 1466.51 637.954 1470.08 Q639.783 1473.62 643.394 1473.62 Q647.029 1473.62 648.834 1470.08 Q650.663 1466.51 650.663 1459.41 Q650.663 1452.28 648.834 1448.74 Q647.029 1445.17 643.394 1445.17 M643.394 1441.47 Q649.204 1441.47 652.26 1446.07 Q655.339 1450.66 655.339 1459.41 Q655.339 1468.13 652.26 1472.74 Q649.204 1477.32 643.394 1477.32 Q637.584 1477.32 634.505 1472.74 Q631.45 1468.13 631.45 1459.41 Q631.45 1450.66 634.505 1446.07 Q637.584 1441.47 643.394 1441.47 Z\" fill=\"#000000\" fill-rule=\"evenodd\" fill-opacity=\"1\" /><path clip-path=\"url(#clip480)\" d=\"M 0 0 M1017.68 1472.72 L1034 1472.72 L1034 1476.65 L1012.05 1476.65 L1012.05 1472.72 Q1014.72 1469.96 1019.3 1465.33 Q1023.91 1460.68 1025.09 1459.34 Q1027.33 1456.81 1028.21 1455.08 Q1029.11 1453.32 1029.11 1451.63 Q1029.11 1448.87 1027.17 1447.14 Q1025.25 1445.4 1022.15 1445.4 Q1019.95 1445.4 1017.49 1446.17 Q1015.06 1446.93 1012.29 1448.48 L1012.29 1443.76 Q1015.11 1442.62 1017.56 1442.05 Q1020.02 1441.47 1022.05 1441.47 Q1027.43 1441.47 1030.62 1444.15 Q1033.81 1446.84 1033.81 1451.33 Q1033.81 1453.46 1033 1455.38 Q1032.22 1457.28 1030.11 1459.87 Q1029.53 1460.54 1026.43 1463.76 Q1023.33 1466.95 1017.68 1472.72 Z\" fill=\"#000000\" fill-rule=\"evenodd\" fill-opacity=\"1\" /><path clip-path=\"url(#clip480)\" d=\"M 0 0 M1049.07 1445.17 Q1045.46 1445.17 1043.63 1448.74 Q1041.82 1452.28 1041.82 1459.41 Q1041.82 1466.51 1043.63 1470.08 Q1045.46 1473.62 1049.07 1473.62 Q1052.7 1473.62 1054.51 1470.08 Q1056.34 1466.51 1056.34 1459.41 Q1056.34 1452.28 1054.51 1448.74 Q1052.7 1445.17 1049.07 1445.17 M1049.07 1441.47 Q1054.88 1441.47 1057.93 1446.07 Q1061.01 1450.66 1061.01 1459.41 Q1061.01 1468.13 1057.93 1472.74 Q1054.88 1477.32 1049.07 1477.32 Q1043.26 1477.32 1040.18 1472.74 Q1037.12 1468.13 1037.12 1459.41 Q1037.12 1450.66 1040.18 1446.07 Q1043.26 1441.47 1049.07 1441.47 Z\" fill=\"#000000\" fill-rule=\"evenodd\" fill-opacity=\"1\" /><path clip-path=\"url(#clip480)\" d=\"M 0 0 M1432.27 1458.02 Q1435.62 1458.74 1437.5 1461 Q1439.4 1463.27 1439.4 1466.61 Q1439.4 1471.72 1435.88 1474.52 Q1432.36 1477.32 1425.88 1477.32 Q1423.7 1477.32 1421.39 1476.88 Q1419.09 1476.47 1416.64 1475.61 L1416.64 1471.1 Q1418.59 1472.23 1420.9 1472.81 Q1423.22 1473.39 1425.74 1473.39 Q1430.14 1473.39 1432.43 1471.65 Q1434.74 1469.92 1434.74 1466.61 Q1434.74 1463.55 1432.59 1461.84 Q1430.46 1460.1 1426.64 1460.1 L1422.61 1460.1 L1422.61 1456.26 L1426.83 1456.26 Q1430.28 1456.26 1432.1 1454.89 Q1433.93 1453.5 1433.93 1450.91 Q1433.93 1448.25 1432.03 1446.84 Q1430.16 1445.4 1426.64 1445.4 Q1424.72 1445.4 1422.52 1445.82 Q1420.32 1446.24 1417.68 1447.11 L1417.68 1442.95 Q1420.34 1442.21 1422.66 1441.84 Q1425 1441.47 1427.06 1441.47 Q1432.38 1441.47 1435.48 1443.9 Q1438.59 1446.3 1438.59 1450.43 Q1438.59 1453.3 1436.94 1455.29 Q1435.3 1457.25 1432.27 1458.02 Z\" fill=\"#000000\" fill-rule=\"evenodd\" fill-opacity=\"1\" /><path clip-path=\"url(#clip480)\" d=\"M 0 0 M1454.47 1445.17 Q1450.85 1445.17 1449.03 1448.74 Q1447.22 1452.28 1447.22 1459.41 Q1447.22 1466.51 1449.03 1470.08 Q1450.85 1473.62 1454.47 1473.62 Q1458.1 1473.62 1459.9 1470.08 Q1461.73 1466.51 1461.73 1459.41 Q1461.73 1452.28 1459.9 1448.74 Q1458.1 1445.17 1454.47 1445.17 M1454.47 1441.47 Q1460.28 1441.47 1463.33 1446.07 Q1466.41 1450.66 1466.41 1459.41 Q1466.41 1468.13 1463.33 1472.74 Q1460.28 1477.32 1454.47 1477.32 Q1448.65 1477.32 1445.58 1472.74 Q1442.52 1468.13 1442.52 1459.41 Q1442.52 1450.66 1445.58 1446.07 Q1448.65 1441.47 1454.47 1441.47 Z\" fill=\"#000000\" fill-rule=\"evenodd\" fill-opacity=\"1\" /><path clip-path=\"url(#clip480)\" d=\"M 0 0 M1836.02 1446.17 L1824.21 1464.61 L1836.02 1464.61 L1836.02 1446.17 M1834.79 1442.09 L1840.67 1442.09 L1840.67 1464.61 L1845.6 1464.61 L1845.6 1468.5 L1840.67 1468.5 L1840.67 1476.65 L1836.02 1476.65 L1836.02 1468.5 L1820.42 1468.5 L1820.42 1463.99 L1834.79 1442.09 Z\" fill=\"#000000\" fill-rule=\"evenodd\" fill-opacity=\"1\" /><path clip-path=\"url(#clip480)\" d=\"M 0 0 M1860.67 1445.17 Q1857.06 1445.17 1855.23 1448.74 Q1853.43 1452.28 1853.43 1459.41 Q1853.43 1466.51 1855.23 1470.08 Q1857.06 1473.62 1860.67 1473.62 Q1864.31 1473.62 1866.11 1470.08 Q1867.94 1466.51 1867.94 1459.41 Q1867.94 1452.28 1866.11 1448.74 Q1864.31 1445.17 1860.67 1445.17 M1860.67 1441.47 Q1866.48 1441.47 1869.54 1446.07 Q1872.62 1450.66 1872.62 1459.41 Q1872.62 1468.13 1869.54 1472.74 Q1866.48 1477.32 1860.67 1477.32 Q1854.86 1477.32 1851.78 1472.74 Q1848.73 1468.13 1848.73 1459.41 Q1848.73 1450.66 1851.78 1446.07 Q1854.86 1441.47 1860.67 1441.47 Z\" fill=\"#000000\" fill-rule=\"evenodd\" fill-opacity=\"1\" /><path clip-path=\"url(#clip480)\" d=\"M 0 0 M2228.28 1442.09 L2246.64 1442.09 L2246.64 1446.03 L2232.56 1446.03 L2232.56 1454.5 Q2233.58 1454.15 2234.6 1453.99 Q2235.62 1453.8 2236.64 1453.8 Q2242.42 1453.8 2245.8 1456.98 Q2249.18 1460.15 2249.18 1465.56 Q2249.18 1471.14 2245.71 1474.24 Q2242.24 1477.32 2235.92 1477.32 Q2233.74 1477.32 2231.47 1476.95 Q2229.23 1476.58 2226.82 1475.84 L2226.82 1471.14 Q2228.9 1472.28 2231.13 1472.83 Q2233.35 1473.39 2235.83 1473.39 Q2239.83 1473.39 2242.17 1471.28 Q2244.51 1469.18 2244.51 1465.56 Q2244.51 1461.95 2242.17 1459.85 Q2239.83 1457.74 2235.83 1457.74 Q2233.95 1457.74 2232.08 1458.16 Q2230.22 1458.57 2228.28 1459.45 L2228.28 1442.09 Z\" fill=\"#000000\" fill-rule=\"evenodd\" fill-opacity=\"1\" /><path clip-path=\"url(#clip480)\" d=\"M 0 0 M2264.25 1445.17 Q2260.64 1445.17 2258.81 1448.74 Q2257.01 1452.28 2257.01 1459.41 Q2257.01 1466.51 2258.81 1470.08 Q2260.64 1473.62 2264.25 1473.62 Q2267.89 1473.62 2269.69 1470.08 Q2271.52 1466.51 2271.52 1459.41 Q2271.52 1452.28 2269.69 1448.74 Q2267.89 1445.17 2264.25 1445.17 M2264.25 1441.47 Q2270.06 1441.47 2273.12 1446.07 Q2276.2 1450.66 2276.2 1459.41 Q2276.2 1468.13 2273.12 1472.74 Q2270.06 1477.32 2264.25 1477.32 Q2258.44 1477.32 2255.36 1472.74 Q2252.31 1468.13 2252.31 1459.41 Q2252.31 1450.66 2255.36 1446.07 Q2258.44 1441.47 2264.25 1441.47 Z\" fill=\"#000000\" fill-rule=\"evenodd\" fill-opacity=\"1\" /><path clip-path=\"url(#clip480)\" d=\"M 0 0 M126.26 1397.94 L155.936 1397.94 L155.936 1401.87 L126.26 1401.87 L126.26 1397.94 Z\" fill=\"#000000\" fill-rule=\"evenodd\" fill-opacity=\"1\" /><path clip-path=\"url(#clip480)\" d=\"M 0 0 M175.172 1396.13 Q178.528 1396.85 180.403 1399.12 Q182.302 1401.39 182.302 1404.72 Q182.302 1409.84 178.783 1412.64 Q175.265 1415.44 168.783 1415.44 Q166.607 1415.44 164.292 1415 Q162.001 1414.58 159.547 1413.72 L159.547 1409.21 Q161.491 1410.35 163.806 1410.92 Q166.121 1411.5 168.644 1411.5 Q173.042 1411.5 175.334 1409.77 Q177.649 1408.03 177.649 1404.72 Q177.649 1401.66 175.496 1399.95 Q173.366 1398.22 169.547 1398.22 L165.519 1398.22 L165.519 1394.37 L169.732 1394.37 Q173.181 1394.37 175.01 1393.01 Q176.839 1391.62 176.839 1389.03 Q176.839 1386.36 174.94 1384.95 Q173.065 1383.52 169.547 1383.52 Q167.626 1383.52 165.427 1383.93 Q163.228 1384.35 160.589 1385.23 L160.589 1381.06 Q163.251 1380.32 165.566 1379.95 Q167.903 1379.58 169.964 1379.58 Q175.288 1379.58 178.39 1382.01 Q181.491 1384.42 181.491 1388.54 Q181.491 1391.41 179.848 1393.4 Q178.204 1395.37 175.172 1396.13 Z\" fill=\"#000000\" fill-rule=\"evenodd\" fill-opacity=\"1\" /><path clip-path=\"url(#clip480)\" d=\"M 0 0 M127.209 1136.64 L156.885 1136.64 L156.885 1140.58 L127.209 1140.58 L127.209 1136.64 Z\" fill=\"#000000\" fill-rule=\"evenodd\" fill-opacity=\"1\" /><path clip-path=\"url(#clip480)\" d=\"M 0 0 M165.982 1149.54 L182.302 1149.54 L182.302 1153.47 L160.357 1153.47 L160.357 1149.54 Q163.019 1146.78 167.603 1142.15 Q172.209 1137.5 173.39 1136.16 Q175.635 1133.63 176.515 1131.9 Q177.417 1130.14 177.417 1128.45 Q177.417 1125.69 175.473 1123.96 Q173.552 1122.22 170.45 1122.22 Q168.251 1122.22 165.797 1122.99 Q163.366 1123.75 160.589 1125.3 L160.589 1120.58 Q163.413 1119.44 165.866 1118.86 Q168.32 1118.29 170.357 1118.29 Q175.727 1118.29 178.922 1120.97 Q182.116 1123.66 182.116 1128.15 Q182.116 1130.28 181.306 1132.2 Q180.519 1134.1 178.413 1136.69 Q177.834 1137.36 174.732 1140.58 Q171.63 1143.77 165.982 1149.54 Z\" fill=\"#000000\" fill-rule=\"evenodd\" fill-opacity=\"1\" /><path clip-path=\"url(#clip480)\" d=\"M 0 0 M126.839 875.347 L156.515 875.347 L156.515 879.283 L126.839 879.283 L126.839 875.347 Z\" fill=\"#000000\" fill-rule=\"evenodd\" fill-opacity=\"1\" /><path clip-path=\"url(#clip480)\" d=\"M 0 0 M162.394 888.241 L170.033 888.241 L170.033 861.875 L161.723 863.542 L161.723 859.283 L169.987 857.616 L174.663 857.616 L174.663 888.241 L182.302 888.241 L182.302 892.176 L162.394 892.176 L162.394 888.241 Z\" fill=\"#000000\" fill-rule=\"evenodd\" fill-opacity=\"1\" /><path clip-path=\"url(#clip480)\" d=\"M 0 0 M170.357 599.4 Q166.746 599.4 164.917 602.964 Q163.112 606.506 163.112 613.636 Q163.112 620.742 164.917 624.307 Q166.746 627.848 170.357 627.848 Q173.991 627.848 175.797 624.307 Q177.626 620.742 177.626 613.636 Q177.626 606.506 175.797 602.964 Q173.991 599.4 170.357 599.4 M170.357 595.696 Q176.167 595.696 179.223 600.302 Q182.302 604.886 182.302 613.636 Q182.302 622.362 179.223 626.969 Q176.167 631.552 170.357 631.552 Q164.547 631.552 161.468 626.969 Q158.413 622.362 158.413 613.636 Q158.413 604.886 161.468 600.302 Q164.547 595.696 170.357 595.696 Z\" fill=\"#000000\" fill-rule=\"evenodd\" fill-opacity=\"1\" /><path clip-path=\"url(#clip480)\" d=\"M 0 0 M162.394 365.65 L170.033 365.65 L170.033 339.285 L161.723 340.952 L161.723 336.692 L169.987 335.026 L174.663 335.026 L174.663 365.65 L182.302 365.65 L182.302 369.586 L162.394 369.586 L162.394 365.65 Z\" fill=\"#000000\" fill-rule=\"evenodd\" fill-opacity=\"1\" /><path clip-path=\"url(#clip480)\" d=\"M 0 0 M1077.92 35.9153 Q1080.71 30.8922 1084.6 28.5022 Q1088.49 26.1121 1093.75 26.1121 Q1100.84 26.1121 1104.69 31.0947 Q1108.54 36.0368 1108.54 45.1919 L1108.54 72.576 L1101.05 72.576 L1101.05 45.4349 Q1101.05 38.913 1098.74 35.7533 Q1096.43 32.5936 1091.69 32.5936 Q1085.9 32.5936 1082.53 36.4419 Q1079.17 40.2903 1079.17 46.9338 L1079.17 72.576 L1071.68 72.576 L1071.68 45.4349 Q1071.68 38.8725 1069.37 35.7533 Q1067.06 32.5936 1062.24 32.5936 Q1056.53 32.5936 1053.16 36.4824 Q1049.8 40.3308 1049.8 46.9338 L1049.8 72.576 L1042.31 72.576 L1042.31 27.2059 L1049.8 27.2059 L1049.8 34.2544 Q1052.35 30.082 1055.92 28.0971 Q1059.48 26.1121 1064.39 26.1121 Q1069.33 26.1121 1072.77 28.6237 Q1076.25 31.1352 1077.92 35.9153 Z\" fill=\"#000000\" fill-rule=\"evenodd\" fill-opacity=\"1\" /><path clip-path=\"url(#clip480)\" d=\"M 0 0 M1115.59 54.671 L1115.59 27.2059 L1123.04 27.2059 L1123.04 54.3874 Q1123.04 60.8284 1125.55 64.0691 Q1128.07 67.2693 1133.09 67.2693 Q1139.12 67.2693 1142.61 63.421 Q1146.13 59.5726 1146.13 52.9291 L1146.13 27.2059 L1153.59 27.2059 L1153.59 72.576 L1146.13 72.576 L1146.13 65.6084 Q1143.42 69.7404 1139.81 71.7658 Q1136.25 73.7508 1131.51 73.7508 Q1123.69 73.7508 1119.64 68.8897 Q1115.59 64.0286 1115.59 54.671 M1134.34 26.1121 L1134.34 26.1121 Z\" fill=\"#000000\" fill-rule=\"evenodd\" fill-opacity=\"1\" /><path clip-path=\"url(#clip480)\" d=\"M 0 0 M1188.75 34.9026 L1240.68 34.9026 L1240.68 41.7081 L1188.75 41.7081 L1188.75 34.9026 M1188.75 51.4303 L1240.68 51.4303 L1240.68 58.3168 L1188.75 58.3168 L1188.75 51.4303 Z\" fill=\"#000000\" fill-rule=\"evenodd\" fill-opacity=\"1\" /><path clip-path=\"url(#clip480)\" d=\"M 0 0 M1277.34 65.6895 L1290.71 65.6895 L1290.71 19.5497 L1276.17 22.4663 L1276.17 15.0127 L1290.63 12.096 L1298.81 12.096 L1298.81 65.6895 L1312.18 65.6895 L1312.18 72.576 L1277.34 72.576 L1277.34 65.6895 Z\" fill=\"#000000\" fill-rule=\"evenodd\" fill-opacity=\"1\" /><path clip-path=\"url(#clip480)\" d=\"M 0 0 M1321.05 62.2867 L1329.6 62.2867 L1329.6 72.576 L1321.05 72.576 L1321.05 62.2867 Z\" fill=\"#000000\" fill-rule=\"evenodd\" fill-opacity=\"1\" /><path clip-path=\"url(#clip480)\" d=\"M 0 0 M1355.97 17.4837 Q1349.65 17.4837 1346.45 23.7221 Q1343.29 29.92 1343.29 42.3968 Q1343.29 54.833 1346.45 61.0714 Q1349.65 67.2693 1355.97 67.2693 Q1362.33 67.2693 1365.49 61.0714 Q1368.69 54.833 1368.69 42.3968 Q1368.69 29.92 1365.49 23.7221 Q1362.33 17.4837 1355.97 17.4837 M1355.97 11.0023 Q1366.14 11.0023 1371.48 19.0636 Q1376.87 27.0843 1376.87 42.3968 Q1376.87 57.6687 1371.48 65.73 Q1366.14 73.7508 1355.97 73.7508 Q1345.8 73.7508 1340.41 65.73 Q1335.07 57.6687 1335.07 42.3968 Q1335.07 27.0843 1340.41 19.0636 Q1345.8 11.0023 1355.97 11.0023 Z\" fill=\"#000000\" fill-rule=\"evenodd\" fill-opacity=\"1\" /><path clip-path=\"url(#clip480)\" d=\"M 0 0 M1423.5 48.0275 L1423.5 51.6733 L1389.23 51.6733 Q1389.71 59.3701 1393.85 63.421 Q1398.02 67.4314 1405.43 67.4314 Q1409.72 67.4314 1413.74 66.3781 Q1417.79 65.3249 1421.76 63.2184 L1421.76 70.267 Q1417.75 71.9684 1413.53 72.8596 Q1409.32 73.7508 1404.99 73.7508 Q1394.13 73.7508 1387.77 67.4314 Q1381.45 61.1119 1381.45 50.3365 Q1381.45 39.1965 1387.44 32.6746 Q1393.48 26.1121 1403.69 26.1121 Q1412.84 26.1121 1418.15 32.0264 Q1423.5 37.9003 1423.5 48.0275 M1416.04 45.84 Q1415.96 39.7232 1412.6 36.0774 Q1409.28 32.4315 1403.77 32.4315 Q1397.53 32.4315 1393.76 35.9558 Q1390.04 39.4801 1389.47 45.8805 L1416.04 45.84 Z\" fill=\"#000000\" fill-rule=\"evenodd\" fill-opacity=\"1\" /><path clip-path=\"url(#clip480)\" d=\"M 0 0 M1454.85 19.2256 L1434.19 51.5113 L1454.85 51.5113 L1454.85 19.2256 M1452.7 12.096 L1462.99 12.096 L1462.99 51.5113 L1471.62 51.5113 L1471.62 58.3168 L1462.99 58.3168 L1462.99 72.576 L1454.85 72.576 L1454.85 58.3168 L1427.55 58.3168 L1427.55 50.4176 L1452.7 12.096 Z\" fill=\"#000000\" fill-rule=\"evenodd\" fill-opacity=\"1\" /><path clip-path=\"url(#clip480)\" d=\"M 0 0 M1481.91 65.6895 L1495.28 65.6895 L1495.28 19.5497 L1480.74 22.4663 L1480.74 15.0127 L1495.2 12.096 L1503.38 12.096 L1503.38 65.6895 L1516.75 65.6895 L1516.75 72.576 L1481.91 72.576 L1481.91 65.6895 Z\" fill=\"#000000\" fill-rule=\"evenodd\" fill-opacity=\"1\" /><path clip-path=\"url(#clip480)\" d=\"M 0 0 M1112.3 1556.04 L1094.16 1508.52 L1100.88 1508.52 L1115.93 1548.53 L1131.02 1508.52 L1137.7 1508.52 L1119.59 1556.04 L1112.3 1556.04 Z\" fill=\"#000000\" fill-rule=\"evenodd\" fill-opacity=\"1\" /><path clip-path=\"url(#clip480)\" d=\"M 0 0 M1169.27 1536.76 L1169.27 1539.62 L1142.35 1539.62 Q1142.73 1545.67 1145.98 1548.85 Q1149.25 1552 1155.08 1552 Q1158.45 1552 1161.6 1551.17 Q1164.79 1550.35 1167.91 1548.69 L1167.91 1554.23 Q1164.76 1555.57 1161.44 1556.27 Q1158.13 1556.97 1154.73 1556.97 Q1146.2 1556.97 1141.2 1552 Q1136.24 1547.04 1136.24 1538.57 Q1136.24 1529.82 1140.95 1524.69 Q1145.69 1519.54 1153.71 1519.54 Q1160.9 1519.54 1165.07 1524.18 Q1169.27 1528.8 1169.27 1536.76 M1163.42 1535.04 Q1163.35 1530.23 1160.71 1527.37 Q1158.1 1524.5 1153.77 1524.5 Q1148.87 1524.5 1145.91 1527.27 Q1142.98 1530.04 1142.54 1535.07 L1163.42 1535.04 Z\" fill=\"#000000\" fill-rule=\"evenodd\" fill-opacity=\"1\" /><path clip-path=\"url(#clip480)\" d=\"M 0 0 M1201.07 1521.76 L1201.07 1527.24 Q1198.59 1525.87 1196.07 1525.2 Q1193.59 1524.5 1191.05 1524.5 Q1185.35 1524.5 1182.2 1528.13 Q1179.05 1531.73 1179.05 1538.25 Q1179.05 1544.78 1182.2 1548.4 Q1185.35 1552 1191.05 1552 Q1193.59 1552 1196.07 1551.33 Q1198.59 1550.63 1201.07 1549.26 L1201.07 1554.68 Q1198.62 1555.82 1195.98 1556.39 Q1193.37 1556.97 1190.41 1556.97 Q1182.36 1556.97 1177.61 1551.91 Q1172.87 1546.85 1172.87 1538.25 Q1172.87 1529.53 1177.65 1524.53 Q1182.45 1519.54 1190.79 1519.54 Q1193.5 1519.54 1196.07 1520.11 Q1198.65 1520.65 1201.07 1521.76 Z\" fill=\"#000000\" fill-rule=\"evenodd\" fill-opacity=\"1\" /><path clip-path=\"url(#clip480)\" d=\"M 0 0 M1213.01 1510.27 L1213.01 1520.4 L1225.07 1520.4 L1225.07 1524.95 L1213.01 1524.95 L1213.01 1544.3 Q1213.01 1548.66 1214.18 1549.9 Q1215.39 1551.14 1219.05 1551.14 L1225.07 1551.14 L1225.07 1556.04 L1219.05 1556.04 Q1212.28 1556.04 1209.7 1553.53 Q1207.12 1550.98 1207.12 1544.3 L1207.12 1524.95 L1202.82 1524.95 L1202.82 1520.4 L1207.12 1520.4 L1207.12 1510.27 L1213.01 1510.27 Z\" fill=\"#000000\" fill-rule=\"evenodd\" fill-opacity=\"1\" /><path clip-path=\"url(#clip480)\" d=\"M 0 0 M1245.03 1524.5 Q1240.32 1524.5 1237.58 1528.19 Q1234.84 1531.85 1234.84 1538.25 Q1234.84 1544.65 1237.55 1548.34 Q1240.28 1552 1245.03 1552 Q1249.71 1552 1252.44 1548.31 Q1255.18 1544.62 1255.18 1538.25 Q1255.18 1531.92 1252.44 1528.23 Q1249.71 1524.5 1245.03 1524.5 M1245.03 1519.54 Q1252.67 1519.54 1257.03 1524.5 Q1261.39 1529.47 1261.39 1538.25 Q1261.39 1547 1257.03 1552 Q1252.67 1556.97 1245.03 1556.97 Q1237.36 1556.97 1233 1552 Q1228.67 1547 1228.67 1538.25 Q1228.67 1529.47 1233 1524.5 Q1237.36 1519.54 1245.03 1519.54 Z\" fill=\"#000000\" fill-rule=\"evenodd\" fill-opacity=\"1\" /><path clip-path=\"url(#clip480)\" d=\"M 0 0 M1288.19 1525.87 Q1287.2 1525.3 1286.02 1525.04 Q1284.88 1524.76 1283.48 1524.76 Q1278.51 1524.76 1275.84 1528 Q1273.19 1531.22 1273.19 1537.27 L1273.19 1556.04 L1267.31 1556.04 L1267.31 1520.4 L1273.19 1520.4 L1273.19 1525.93 Q1275.04 1522.69 1278 1521.13 Q1280.96 1519.54 1285.19 1519.54 Q1285.8 1519.54 1286.53 1519.63 Q1287.26 1519.7 1288.15 1519.85 L1288.19 1525.87 Z\" fill=\"#000000\" fill-rule=\"evenodd\" fill-opacity=\"1\" /><path clip-path=\"url(#clip480)\" d=\"M 0 0 M1315.3 1508.52 L1321.73 1508.52 L1321.73 1556.04 L1315.3 1556.04 L1315.3 1508.52 Z\" fill=\"#000000\" fill-rule=\"evenodd\" fill-opacity=\"1\" /><path clip-path=\"url(#clip480)\" d=\"M 0 0 M1357.51 1534.53 L1357.51 1556.04 L1351.65 1556.04 L1351.65 1534.72 Q1351.65 1529.66 1349.68 1527.14 Q1347.71 1524.63 1343.76 1524.63 Q1339.02 1524.63 1336.28 1527.65 Q1333.54 1530.68 1333.54 1535.9 L1333.54 1556.04 L1327.65 1556.04 L1327.65 1520.4 L1333.54 1520.4 L1333.54 1525.93 Q1335.64 1522.72 1338.48 1521.13 Q1341.34 1519.54 1345.06 1519.54 Q1351.21 1519.54 1354.36 1523.36 Q1357.51 1527.14 1357.51 1534.53 Z\" fill=\"#000000\" fill-rule=\"evenodd\" fill-opacity=\"1\" /><path clip-path=\"url(#clip480)\" d=\"M 0 0 M1387.11 1525.81 L1387.11 1506.52 L1392.97 1506.52 L1392.97 1556.04 L1387.11 1556.04 L1387.11 1550.7 Q1385.26 1553.88 1382.43 1555.44 Q1379.63 1556.97 1375.68 1556.97 Q1369.22 1556.97 1365.15 1551.81 Q1361.11 1546.65 1361.11 1538.25 Q1361.11 1529.85 1365.15 1524.69 Q1369.22 1519.54 1375.68 1519.54 Q1379.63 1519.54 1382.43 1521.1 Q1385.26 1522.62 1387.11 1525.81 M1367.15 1538.25 Q1367.15 1544.71 1369.79 1548.4 Q1372.47 1552.07 1377.11 1552.07 Q1381.76 1552.07 1384.44 1548.4 Q1387.11 1544.71 1387.11 1538.25 Q1387.11 1531.79 1384.44 1528.13 Q1381.76 1524.44 1377.11 1524.44 Q1372.47 1524.44 1369.79 1528.13 Q1367.15 1531.79 1367.15 1538.25 Z\" fill=\"#000000\" fill-rule=\"evenodd\" fill-opacity=\"1\" /><path clip-path=\"url(#clip480)\" d=\"M 0 0 M1429.6 1536.76 L1429.6 1539.62 L1402.67 1539.62 Q1403.06 1545.67 1406.3 1548.85 Q1409.58 1552 1415.4 1552 Q1418.78 1552 1421.93 1551.17 Q1425.11 1550.35 1428.23 1548.69 L1428.23 1554.23 Q1425.08 1555.57 1421.77 1556.27 Q1418.46 1556.97 1415.05 1556.97 Q1406.52 1556.97 1401.53 1552 Q1396.56 1547.04 1396.56 1538.57 Q1396.56 1529.82 1401.27 1524.69 Q1406.02 1519.54 1414.04 1519.54 Q1421.23 1519.54 1425.4 1524.18 Q1429.6 1528.8 1429.6 1536.76 M1423.74 1535.04 Q1423.68 1530.23 1421.04 1527.37 Q1418.43 1524.5 1414.1 1524.5 Q1409.2 1524.5 1406.24 1527.27 Q1403.31 1530.04 1402.86 1535.07 L1423.74 1535.04 Z\" fill=\"#000000\" fill-rule=\"evenodd\" fill-opacity=\"1\" /><path clip-path=\"url(#clip480)\" d=\"M 0 0 M1464.23 1520.4 L1451.34 1537.74 L1464.9 1556.04 L1457.99 1556.04 L1447.62 1542.04 L1437.24 1556.04 L1430.33 1556.04 L1444.18 1537.39 L1431.51 1520.4 L1438.42 1520.4 L1447.87 1533.1 L1457.32 1520.4 L1464.23 1520.4 Z\" fill=\"#000000\" fill-rule=\"evenodd\" fill-opacity=\"1\" /><path clip-path=\"url(#clip480)\" d=\"M 0 0 M88.0042 833.45 L40.4842 851.592 L40.4842 844.877 L80.4926 829.822 L40.4842 814.735 L40.4842 808.051 L88.0042 826.161 L88.0042 833.45 Z\" fill=\"#000000\" fill-rule=\"evenodd\" fill-opacity=\"1\" /><path clip-path=\"url(#clip480)\" d=\"M 0 0 M70.0847 790.768 Q70.0847 797.866 71.7079 800.603 Q73.3312 803.34 77.2461 803.34 Q80.3653 803.34 82.2114 801.303 Q84.0256 799.234 84.0256 795.701 Q84.0256 790.832 80.5881 787.903 Q77.1188 784.943 71.3897 784.943 L70.0847 784.943 L70.0847 790.768 M67.6657 779.087 L88.0042 779.087 L88.0042 784.943 L82.5933 784.943 Q85.8398 786.949 87.3994 789.94 Q88.9272 792.932 88.9272 797.261 Q88.9272 802.736 85.8716 805.982 Q82.7843 809.197 77.6281 809.197 Q71.6125 809.197 68.5569 805.186 Q65.5014 801.144 65.5014 793.155 L65.5014 784.943 L64.9285 784.943 Q60.8862 784.943 58.6901 787.617 Q56.4621 790.259 56.4621 795.065 Q56.4621 798.12 57.1941 801.017 Q57.9262 803.913 59.3903 806.587 L53.9795 806.587 Q52.7381 803.372 52.1334 800.348 Q51.4968 797.325 51.4968 794.46 Q51.4968 786.726 55.5072 782.906 Q59.5176 779.087 67.6657 779.087 Z\" fill=\"#000000\" fill-rule=\"evenodd\" fill-opacity=\"1\" /><path clip-path=\"url(#clip480)\" d=\"M 0 0 M38.479 772.944 L38.479 767.088 L88.0042 767.088 L88.0042 772.944 L38.479 772.944 Z\" fill=\"#000000\" fill-rule=\"evenodd\" fill-opacity=\"1\" /><path clip-path=\"url(#clip480)\" d=\"M 0 0 M73.9359 761.549 L52.3562 761.549 L52.3562 755.693 L73.7131 755.693 Q78.7739 755.693 81.3202 753.72 Q83.8346 751.746 83.8346 747.8 Q83.8346 743.057 80.8109 740.32 Q77.7872 737.551 72.5673 737.551 L52.3562 737.551 L52.3562 731.694 L88.0042 731.694 L88.0042 737.551 L82.5296 737.551 Q85.7762 739.683 87.3676 742.516 Q88.9272 745.317 88.9272 749.041 Q88.9272 755.184 85.1078 758.367 Q81.2883 761.549 73.9359 761.549 M51.4968 746.813 L51.4968 746.813 Z\" fill=\"#000000\" fill-rule=\"evenodd\" fill-opacity=\"1\" /><path clip-path=\"url(#clip480)\" d=\"M 0 0 M68.7161 695.06 L71.5806 695.06 L71.5806 721.987 Q77.6281 721.605 80.8109 718.358 Q83.9619 715.08 83.9619 709.255 Q83.9619 705.881 83.1344 702.73 Q82.3069 699.547 80.6518 696.428 L86.1899 696.428 Q87.5267 699.579 88.227 702.889 Q88.9272 706.2 88.9272 709.605 Q88.9272 718.135 83.9619 723.132 Q78.9967 728.098 70.5303 728.098 Q61.7774 728.098 56.6531 723.387 Q51.4968 718.645 51.4968 710.624 Q51.4968 703.431 56.1438 699.261 Q60.7589 695.06 68.7161 695.06 M66.9973 700.916 Q62.1912 700.98 59.3266 703.621 Q56.4621 706.231 56.4621 710.56 Q56.4621 715.462 59.2312 718.422 Q62.0002 721.35 67.0292 721.796 L66.9973 700.916 Z\" fill=\"#000000\" fill-rule=\"evenodd\" fill-opacity=\"1\" /><polyline clip-path=\"url(#clip482)\" style=\"stroke:#009af9; stroke-width:12; stroke-opacity:1; fill:none\" stroke-dasharray=\"6, 12\" points=\"\n",
       "  267.05,1386.4 307.549,1346.62 348.049,1270.43 388.548,1260.02 429.047,1108.32 469.546,1125.3 510.045,999.913 550.544,916.688 591.043,790.428 631.542,862.494 \n",
       "  672.042,791.207 712.541,657.082 753.04,557.181 793.539,624.646 834.038,682.815 874.537,669.177 915.036,676.376 955.536,568.795 996.035,713.222 1036.53,652.762 \n",
       "  1077.03,716.937 1117.53,752.906 1158.03,660.672 1198.53,585.208 1239.03,730.558 1279.53,658.726 1320.03,566.458 1360.53,494.095 1401.03,561.935 1441.53,530.12 \n",
       "  1482.02,443.286 1522.52,577.892 1563.02,438.498 1603.52,474.49 1644.02,601.779 1684.52,547.297 1725.02,534.554 1765.52,621.773 1806.02,600.823 1846.52,652.198 \n",
       "  1887.02,650.598 1927.51,634.477 1968.01,660.271 2008.51,598.864 2049.01,498.289 2089.51,372.361 2130.01,414.25 2170.51,217.399 2211.01,308.844 2251.51,160.256 \n",
       "  2292.01,240.402 \n",
       "  \"/>\n",
       "<polyline clip-path=\"url(#clip482)\" style=\"stroke:#e26f46; stroke-width:4; stroke-opacity:1; fill:none\" points=\"\n",
       "  267.05,613.601 307.549,613.601 348.049,613.601 388.548,613.601 429.047,613.601 469.546,613.601 510.045,613.601 550.544,613.601 591.043,613.601 631.542,613.601 \n",
       "  672.042,613.601 712.541,613.601 753.04,613.601 793.539,613.601 834.038,613.601 874.537,613.601 915.036,613.601 955.536,613.601 996.035,613.601 1036.53,613.601 \n",
       "  1077.03,613.601 1117.53,613.601 1158.03,613.601 1198.53,613.601 1239.03,613.601 1279.53,613.601 1320.03,613.601 1360.53,613.601 1401.03,613.601 1441.53,613.601 \n",
       "  1482.02,613.601 1522.52,613.601 1563.02,613.601 1603.52,613.601 1644.02,613.601 1684.52,613.601 1725.02,613.601 1765.52,613.601 1806.02,613.601 1846.52,613.601 \n",
       "  1887.02,613.601 1927.51,613.601 1968.01,613.601 2008.51,613.601 2049.01,613.601 2089.51,613.601 2130.01,613.601 2170.51,613.601 2211.01,613.601 2251.51,613.601 \n",
       "  2292.01,613.601 \n",
       "  \"/>\n",
       "<path clip-path=\"url(#clip480)\" d=\"\n",
       "M2019.54 348.236 L2281.21 348.236 L2281.21 166.796 L2019.54 166.796  Z\n",
       "  \" fill=\"#ffffff\" fill-rule=\"evenodd\" fill-opacity=\"1\"/>\n",
       "<polyline clip-path=\"url(#clip480)\" style=\"stroke:#000000; stroke-width:4; stroke-opacity:1; fill:none\" points=\"\n",
       "  2019.54,348.236 2281.21,348.236 2281.21,166.796 2019.54,166.796 2019.54,348.236 \n",
       "  \"/>\n",
       "<polyline clip-path=\"url(#clip480)\" style=\"stroke:#009af9; stroke-width:4; stroke-opacity:1; fill:none\" stroke-dasharray=\"2, 4\" points=\"\n",
       "  2043.39,227.276 2186.49,227.276 \n",
       "  \"/>\n",
       "<path clip-path=\"url(#clip480)\" d=\"M 0 0 M2226.84 208.537 L2226.84 212.079 L2222.77 212.079 Q2220.48 212.079 2219.57 213.005 Q2218.69 213.931 2218.69 216.338 L2218.69 218.63 L2225.71 218.63 L2225.71 221.94 L2218.69 221.94 L2218.69 244.556 L2214.41 244.556 L2214.41 221.94 L2210.34 221.94 L2210.34 218.63 L2214.41 218.63 L2214.41 216.824 Q2214.41 212.496 2216.43 210.528 Q2218.44 208.537 2222.81 208.537 L2226.84 208.537 Z\" fill=\"#000000\" fill-rule=\"evenodd\" fill-opacity=\"1\" /><polyline clip-path=\"url(#clip480)\" style=\"stroke:#e26f46; stroke-width:4; stroke-opacity:1; fill:none\" points=\"\n",
       "  2043.39,287.756 2186.49,287.756 \n",
       "  \"/>\n",
       "<path clip-path=\"url(#clip480)\" d=\"M 0 0 M2229.25 291.772 Q2229.25 287.142 2227.33 284.596 Q2225.43 282.05 2221.98 282.05 Q2218.55 282.05 2216.63 284.596 Q2214.74 287.142 2214.74 291.772 Q2214.74 296.378 2216.63 298.925 Q2218.55 301.471 2221.98 301.471 Q2225.43 301.471 2227.33 298.925 Q2229.25 296.378 2229.25 291.772 M2233.51 301.818 Q2233.51 308.438 2230.57 311.656 Q2227.63 314.897 2221.56 314.897 Q2219.32 314.897 2217.33 314.55 Q2215.34 314.225 2213.46 313.531 L2213.46 309.388 Q2215.34 310.406 2217.17 310.892 Q2218.99 311.378 2220.89 311.378 Q2225.08 311.378 2227.17 309.179 Q2229.25 307.003 2229.25 302.582 L2229.25 300.476 Q2227.93 302.767 2225.87 303.901 Q2223.81 305.036 2220.94 305.036 Q2216.17 305.036 2213.25 301.401 Q2210.34 297.767 2210.34 291.772 Q2210.34 285.753 2213.25 282.119 Q2216.17 278.485 2220.94 278.485 Q2223.81 278.485 2225.87 279.619 Q2227.93 280.753 2229.25 283.045 L2229.25 279.11 L2233.51 279.11 L2233.51 301.818 Z\" fill=\"#000000\" fill-rule=\"evenodd\" fill-opacity=\"1\" /></svg>\n"
      ]
     },
     "metadata": {},
     "output_type": "display_data"
    },
    {
     "data": {
      "image/svg+xml": [
       "<?xml version=\"1.0\" encoding=\"utf-8\"?>\n",
       "<svg xmlns=\"http://www.w3.org/2000/svg\" xmlns:xlink=\"http://www.w3.org/1999/xlink\" width=\"600\" height=\"400\" viewBox=\"0 0 2400 1600\">\n",
       "<defs>\n",
       "  <clipPath id=\"clip520\">\n",
       "    <rect x=\"0\" y=\"0\" width=\"2400\" height=\"1600\"/>\n",
       "  </clipPath>\n",
       "</defs>\n",
       "<path clip-path=\"url(#clip520)\" d=\"\n",
       "M0 1600 L2400 1600 L2400 0 L0 0  Z\n",
       "  \" fill=\"#ffffff\" fill-rule=\"evenodd\" fill-opacity=\"1\"/>\n",
       "<defs>\n",
       "  <clipPath id=\"clip521\">\n",
       "    <rect x=\"480\" y=\"0\" width=\"1681\" height=\"1600\"/>\n",
       "  </clipPath>\n",
       "</defs>\n",
       "<path clip-path=\"url(#clip520)\" d=\"\n",
       "M206.302 1423.18 L2352.76 1423.18 L2352.76 123.472 L206.302 123.472  Z\n",
       "  \" fill=\"#ffffff\" fill-rule=\"evenodd\" fill-opacity=\"1\"/>\n",
       "<defs>\n",
       "  <clipPath id=\"clip522\">\n",
       "    <rect x=\"206\" y=\"123\" width=\"2147\" height=\"1301\"/>\n",
       "  </clipPath>\n",
       "</defs>\n",
       "<polyline clip-path=\"url(#clip522)\" style=\"stroke:#000000; stroke-width:2; stroke-opacity:0.1; fill:none\" points=\"\n",
       "  226.551,1423.18 226.551,123.472 \n",
       "  \"/>\n",
       "<polyline clip-path=\"url(#clip522)\" style=\"stroke:#000000; stroke-width:2; stroke-opacity:0.1; fill:none\" points=\"\n",
       "  631.542,1423.18 631.542,123.472 \n",
       "  \"/>\n",
       "<polyline clip-path=\"url(#clip522)\" style=\"stroke:#000000; stroke-width:2; stroke-opacity:0.1; fill:none\" points=\"\n",
       "  1036.53,1423.18 1036.53,123.472 \n",
       "  \"/>\n",
       "<polyline clip-path=\"url(#clip522)\" style=\"stroke:#000000; stroke-width:2; stroke-opacity:0.1; fill:none\" points=\"\n",
       "  1441.53,1423.18 1441.53,123.472 \n",
       "  \"/>\n",
       "<polyline clip-path=\"url(#clip522)\" style=\"stroke:#000000; stroke-width:2; stroke-opacity:0.1; fill:none\" points=\"\n",
       "  1846.52,1423.18 1846.52,123.472 \n",
       "  \"/>\n",
       "<polyline clip-path=\"url(#clip522)\" style=\"stroke:#000000; stroke-width:2; stroke-opacity:0.1; fill:none\" points=\"\n",
       "  2251.51,1423.18 2251.51,123.472 \n",
       "  \"/>\n",
       "<polyline clip-path=\"url(#clip522)\" style=\"stroke:#000000; stroke-width:2; stroke-opacity:0.1; fill:none\" points=\"\n",
       "  206.302,1397.04 2352.76,1397.04 \n",
       "  \"/>\n",
       "<polyline clip-path=\"url(#clip522)\" style=\"stroke:#000000; stroke-width:2; stroke-opacity:0.1; fill:none\" points=\"\n",
       "  206.302,1135.84 2352.76,1135.84 \n",
       "  \"/>\n",
       "<polyline clip-path=\"url(#clip522)\" style=\"stroke:#000000; stroke-width:2; stroke-opacity:0.1; fill:none\" points=\"\n",
       "  206.302,874.637 2352.76,874.637 \n",
       "  \"/>\n",
       "<polyline clip-path=\"url(#clip522)\" style=\"stroke:#000000; stroke-width:2; stroke-opacity:0.1; fill:none\" points=\"\n",
       "  206.302,613.437 2352.76,613.437 \n",
       "  \"/>\n",
       "<polyline clip-path=\"url(#clip522)\" style=\"stroke:#000000; stroke-width:2; stroke-opacity:0.1; fill:none\" points=\"\n",
       "  206.302,352.236 2352.76,352.236 \n",
       "  \"/>\n",
       "<polyline clip-path=\"url(#clip520)\" style=\"stroke:#000000; stroke-width:4; stroke-opacity:1; fill:none\" points=\"\n",
       "  206.302,1423.18 2352.76,1423.18 \n",
       "  \"/>\n",
       "<polyline clip-path=\"url(#clip520)\" style=\"stroke:#000000; stroke-width:4; stroke-opacity:1; fill:none\" points=\"\n",
       "  206.302,1423.18 206.302,123.472 \n",
       "  \"/>\n",
       "<polyline clip-path=\"url(#clip520)\" style=\"stroke:#000000; stroke-width:4; stroke-opacity:1; fill:none\" points=\"\n",
       "  226.551,1423.18 226.551,1407.58 \n",
       "  \"/>\n",
       "<polyline clip-path=\"url(#clip520)\" style=\"stroke:#000000; stroke-width:4; stroke-opacity:1; fill:none\" points=\"\n",
       "  631.542,1423.18 631.542,1407.58 \n",
       "  \"/>\n",
       "<polyline clip-path=\"url(#clip520)\" style=\"stroke:#000000; stroke-width:4; stroke-opacity:1; fill:none\" points=\"\n",
       "  1036.53,1423.18 1036.53,1407.58 \n",
       "  \"/>\n",
       "<polyline clip-path=\"url(#clip520)\" style=\"stroke:#000000; stroke-width:4; stroke-opacity:1; fill:none\" points=\"\n",
       "  1441.53,1423.18 1441.53,1407.58 \n",
       "  \"/>\n",
       "<polyline clip-path=\"url(#clip520)\" style=\"stroke:#000000; stroke-width:4; stroke-opacity:1; fill:none\" points=\"\n",
       "  1846.52,1423.18 1846.52,1407.58 \n",
       "  \"/>\n",
       "<polyline clip-path=\"url(#clip520)\" style=\"stroke:#000000; stroke-width:4; stroke-opacity:1; fill:none\" points=\"\n",
       "  2251.51,1423.18 2251.51,1407.58 \n",
       "  \"/>\n",
       "<polyline clip-path=\"url(#clip520)\" style=\"stroke:#000000; stroke-width:4; stroke-opacity:1; fill:none\" points=\"\n",
       "  206.302,1397.04 232.059,1397.04 \n",
       "  \"/>\n",
       "<polyline clip-path=\"url(#clip520)\" style=\"stroke:#000000; stroke-width:4; stroke-opacity:1; fill:none\" points=\"\n",
       "  206.302,1135.84 232.059,1135.84 \n",
       "  \"/>\n",
       "<polyline clip-path=\"url(#clip520)\" style=\"stroke:#000000; stroke-width:4; stroke-opacity:1; fill:none\" points=\"\n",
       "  206.302,874.637 232.059,874.637 \n",
       "  \"/>\n",
       "<polyline clip-path=\"url(#clip520)\" style=\"stroke:#000000; stroke-width:4; stroke-opacity:1; fill:none\" points=\"\n",
       "  206.302,613.437 232.059,613.437 \n",
       "  \"/>\n",
       "<polyline clip-path=\"url(#clip520)\" style=\"stroke:#000000; stroke-width:4; stroke-opacity:1; fill:none\" points=\"\n",
       "  206.302,352.236 232.059,352.236 \n",
       "  \"/>\n",
       "<path clip-path=\"url(#clip520)\" d=\"M 0 0 M226.551 1445.17 Q222.94 1445.17 221.111 1448.74 Q219.306 1452.28 219.306 1459.41 Q219.306 1466.51 221.111 1470.08 Q222.94 1473.62 226.551 1473.62 Q230.185 1473.62 231.991 1470.08 Q233.82 1466.51 233.82 1459.41 Q233.82 1452.28 231.991 1448.74 Q230.185 1445.17 226.551 1445.17 M226.551 1441.47 Q232.361 1441.47 235.417 1446.07 Q238.495 1450.66 238.495 1459.41 Q238.495 1468.13 235.417 1472.74 Q232.361 1477.32 226.551 1477.32 Q220.741 1477.32 217.662 1472.74 Q214.607 1468.13 214.607 1459.41 Q214.607 1450.66 217.662 1446.07 Q220.741 1441.47 226.551 1441.47 Z\" fill=\"#000000\" fill-rule=\"evenodd\" fill-opacity=\"1\" /><path clip-path=\"url(#clip520)\" d=\"M 0 0 M608.418 1472.72 L616.056 1472.72 L616.056 1446.35 L607.746 1448.02 L607.746 1443.76 L616.01 1442.09 L620.686 1442.09 L620.686 1472.72 L628.325 1472.72 L628.325 1476.65 L608.418 1476.65 L608.418 1472.72 Z\" fill=\"#000000\" fill-rule=\"evenodd\" fill-opacity=\"1\" /><path clip-path=\"url(#clip520)\" d=\"M 0 0 M643.394 1445.17 Q639.783 1445.17 637.954 1448.74 Q636.149 1452.28 636.149 1459.41 Q636.149 1466.51 637.954 1470.08 Q639.783 1473.62 643.394 1473.62 Q647.029 1473.62 648.834 1470.08 Q650.663 1466.51 650.663 1459.41 Q650.663 1452.28 648.834 1448.74 Q647.029 1445.17 643.394 1445.17 M643.394 1441.47 Q649.204 1441.47 652.26 1446.07 Q655.339 1450.66 655.339 1459.41 Q655.339 1468.13 652.26 1472.74 Q649.204 1477.32 643.394 1477.32 Q637.584 1477.32 634.505 1472.74 Q631.45 1468.13 631.45 1459.41 Q631.45 1450.66 634.505 1446.07 Q637.584 1441.47 643.394 1441.47 Z\" fill=\"#000000\" fill-rule=\"evenodd\" fill-opacity=\"1\" /><path clip-path=\"url(#clip520)\" d=\"M 0 0 M1017.68 1472.72 L1034 1472.72 L1034 1476.65 L1012.05 1476.65 L1012.05 1472.72 Q1014.72 1469.96 1019.3 1465.33 Q1023.91 1460.68 1025.09 1459.34 Q1027.33 1456.81 1028.21 1455.08 Q1029.11 1453.32 1029.11 1451.63 Q1029.11 1448.87 1027.17 1447.14 Q1025.25 1445.4 1022.15 1445.4 Q1019.95 1445.4 1017.49 1446.17 Q1015.06 1446.93 1012.29 1448.48 L1012.29 1443.76 Q1015.11 1442.62 1017.56 1442.05 Q1020.02 1441.47 1022.05 1441.47 Q1027.43 1441.47 1030.62 1444.15 Q1033.81 1446.84 1033.81 1451.33 Q1033.81 1453.46 1033 1455.38 Q1032.22 1457.28 1030.11 1459.87 Q1029.53 1460.54 1026.43 1463.76 Q1023.33 1466.95 1017.68 1472.72 Z\" fill=\"#000000\" fill-rule=\"evenodd\" fill-opacity=\"1\" /><path clip-path=\"url(#clip520)\" d=\"M 0 0 M1049.07 1445.17 Q1045.46 1445.17 1043.63 1448.74 Q1041.82 1452.28 1041.82 1459.41 Q1041.82 1466.51 1043.63 1470.08 Q1045.46 1473.62 1049.07 1473.62 Q1052.7 1473.62 1054.51 1470.08 Q1056.34 1466.51 1056.34 1459.41 Q1056.34 1452.28 1054.51 1448.74 Q1052.7 1445.17 1049.07 1445.17 M1049.07 1441.47 Q1054.88 1441.47 1057.93 1446.07 Q1061.01 1450.66 1061.01 1459.41 Q1061.01 1468.13 1057.93 1472.74 Q1054.88 1477.32 1049.07 1477.32 Q1043.26 1477.32 1040.18 1472.74 Q1037.12 1468.13 1037.12 1459.41 Q1037.12 1450.66 1040.18 1446.07 Q1043.26 1441.47 1049.07 1441.47 Z\" fill=\"#000000\" fill-rule=\"evenodd\" fill-opacity=\"1\" /><path clip-path=\"url(#clip520)\" d=\"M 0 0 M1432.27 1458.02 Q1435.62 1458.74 1437.5 1461 Q1439.4 1463.27 1439.4 1466.61 Q1439.4 1471.72 1435.88 1474.52 Q1432.36 1477.32 1425.88 1477.32 Q1423.7 1477.32 1421.39 1476.88 Q1419.09 1476.47 1416.64 1475.61 L1416.64 1471.1 Q1418.59 1472.23 1420.9 1472.81 Q1423.22 1473.39 1425.74 1473.39 Q1430.14 1473.39 1432.43 1471.65 Q1434.74 1469.92 1434.74 1466.61 Q1434.74 1463.55 1432.59 1461.84 Q1430.46 1460.1 1426.64 1460.1 L1422.61 1460.1 L1422.61 1456.26 L1426.83 1456.26 Q1430.28 1456.26 1432.1 1454.89 Q1433.93 1453.5 1433.93 1450.91 Q1433.93 1448.25 1432.03 1446.84 Q1430.16 1445.4 1426.64 1445.4 Q1424.72 1445.4 1422.52 1445.82 Q1420.32 1446.24 1417.68 1447.11 L1417.68 1442.95 Q1420.34 1442.21 1422.66 1441.84 Q1425 1441.47 1427.06 1441.47 Q1432.38 1441.47 1435.48 1443.9 Q1438.59 1446.3 1438.59 1450.43 Q1438.59 1453.3 1436.94 1455.29 Q1435.3 1457.25 1432.27 1458.02 Z\" fill=\"#000000\" fill-rule=\"evenodd\" fill-opacity=\"1\" /><path clip-path=\"url(#clip520)\" d=\"M 0 0 M1454.47 1445.17 Q1450.85 1445.17 1449.03 1448.74 Q1447.22 1452.28 1447.22 1459.41 Q1447.22 1466.51 1449.03 1470.08 Q1450.85 1473.62 1454.47 1473.62 Q1458.1 1473.62 1459.9 1470.08 Q1461.73 1466.51 1461.73 1459.41 Q1461.73 1452.28 1459.9 1448.74 Q1458.1 1445.17 1454.47 1445.17 M1454.47 1441.47 Q1460.28 1441.47 1463.33 1446.07 Q1466.41 1450.66 1466.41 1459.41 Q1466.41 1468.13 1463.33 1472.74 Q1460.28 1477.32 1454.47 1477.32 Q1448.65 1477.32 1445.58 1472.74 Q1442.52 1468.13 1442.52 1459.41 Q1442.52 1450.66 1445.58 1446.07 Q1448.65 1441.47 1454.47 1441.47 Z\" fill=\"#000000\" fill-rule=\"evenodd\" fill-opacity=\"1\" /><path clip-path=\"url(#clip520)\" d=\"M 0 0 M1836.02 1446.17 L1824.21 1464.61 L1836.02 1464.61 L1836.02 1446.17 M1834.79 1442.09 L1840.67 1442.09 L1840.67 1464.61 L1845.6 1464.61 L1845.6 1468.5 L1840.67 1468.5 L1840.67 1476.65 L1836.02 1476.65 L1836.02 1468.5 L1820.42 1468.5 L1820.42 1463.99 L1834.79 1442.09 Z\" fill=\"#000000\" fill-rule=\"evenodd\" fill-opacity=\"1\" /><path clip-path=\"url(#clip520)\" d=\"M 0 0 M1860.67 1445.17 Q1857.06 1445.17 1855.23 1448.74 Q1853.43 1452.28 1853.43 1459.41 Q1853.43 1466.51 1855.23 1470.08 Q1857.06 1473.62 1860.67 1473.62 Q1864.31 1473.62 1866.11 1470.08 Q1867.94 1466.51 1867.94 1459.41 Q1867.94 1452.28 1866.11 1448.74 Q1864.31 1445.17 1860.67 1445.17 M1860.67 1441.47 Q1866.48 1441.47 1869.54 1446.07 Q1872.62 1450.66 1872.62 1459.41 Q1872.62 1468.13 1869.54 1472.74 Q1866.48 1477.32 1860.67 1477.32 Q1854.86 1477.32 1851.78 1472.74 Q1848.73 1468.13 1848.73 1459.41 Q1848.73 1450.66 1851.78 1446.07 Q1854.86 1441.47 1860.67 1441.47 Z\" fill=\"#000000\" fill-rule=\"evenodd\" fill-opacity=\"1\" /><path clip-path=\"url(#clip520)\" d=\"M 0 0 M2228.28 1442.09 L2246.64 1442.09 L2246.64 1446.03 L2232.56 1446.03 L2232.56 1454.5 Q2233.58 1454.15 2234.6 1453.99 Q2235.62 1453.8 2236.64 1453.8 Q2242.42 1453.8 2245.8 1456.98 Q2249.18 1460.15 2249.18 1465.56 Q2249.18 1471.14 2245.71 1474.24 Q2242.24 1477.32 2235.92 1477.32 Q2233.74 1477.32 2231.47 1476.95 Q2229.23 1476.58 2226.82 1475.84 L2226.82 1471.14 Q2228.9 1472.28 2231.13 1472.83 Q2233.35 1473.39 2235.83 1473.39 Q2239.83 1473.39 2242.17 1471.28 Q2244.51 1469.18 2244.51 1465.56 Q2244.51 1461.95 2242.17 1459.85 Q2239.83 1457.74 2235.83 1457.74 Q2233.95 1457.74 2232.08 1458.16 Q2230.22 1458.57 2228.28 1459.45 L2228.28 1442.09 Z\" fill=\"#000000\" fill-rule=\"evenodd\" fill-opacity=\"1\" /><path clip-path=\"url(#clip520)\" d=\"M 0 0 M2264.25 1445.17 Q2260.64 1445.17 2258.81 1448.74 Q2257.01 1452.28 2257.01 1459.41 Q2257.01 1466.51 2258.81 1470.08 Q2260.64 1473.62 2264.25 1473.62 Q2267.89 1473.62 2269.69 1470.08 Q2271.52 1466.51 2271.52 1459.41 Q2271.52 1452.28 2269.69 1448.74 Q2267.89 1445.17 2264.25 1445.17 M2264.25 1441.47 Q2270.06 1441.47 2273.12 1446.07 Q2276.2 1450.66 2276.2 1459.41 Q2276.2 1468.13 2273.12 1472.74 Q2270.06 1477.32 2264.25 1477.32 Q2258.44 1477.32 2255.36 1472.74 Q2252.31 1468.13 2252.31 1459.41 Q2252.31 1450.66 2255.36 1446.07 Q2258.44 1441.47 2264.25 1441.47 Z\" fill=\"#000000\" fill-rule=\"evenodd\" fill-opacity=\"1\" /><path clip-path=\"url(#clip520)\" d=\"M 0 0 M126.26 1397.49 L155.936 1397.49 L155.936 1401.42 L126.26 1401.42 L126.26 1397.49 Z\" fill=\"#000000\" fill-rule=\"evenodd\" fill-opacity=\"1\" /><path clip-path=\"url(#clip520)\" d=\"M 0 0 M175.172 1395.68 Q178.528 1396.4 180.403 1398.67 Q182.302 1400.94 182.302 1404.27 Q182.302 1409.39 178.783 1412.19 Q175.265 1414.99 168.783 1414.99 Q166.607 1414.99 164.292 1414.55 Q162.001 1414.13 159.547 1413.28 L159.547 1408.76 Q161.491 1409.9 163.806 1410.48 Q166.121 1411.05 168.644 1411.05 Q173.042 1411.05 175.334 1409.32 Q177.649 1407.58 177.649 1404.27 Q177.649 1401.22 175.496 1399.5 Q173.366 1397.77 169.547 1397.77 L165.519 1397.77 L165.519 1393.92 L169.732 1393.92 Q173.181 1393.92 175.01 1392.56 Q176.839 1391.17 176.839 1388.58 Q176.839 1385.92 174.94 1384.5 Q173.065 1383.07 169.547 1383.07 Q167.626 1383.07 165.427 1383.49 Q163.228 1383.9 160.589 1384.78 L160.589 1380.61 Q163.251 1379.87 165.566 1379.5 Q167.903 1379.13 169.964 1379.13 Q175.288 1379.13 178.39 1381.56 Q181.491 1383.97 181.491 1388.09 Q181.491 1390.96 179.848 1392.95 Q178.204 1394.92 175.172 1395.68 Z\" fill=\"#000000\" fill-rule=\"evenodd\" fill-opacity=\"1\" /><path clip-path=\"url(#clip520)\" d=\"M 0 0 M127.209 1136.29 L156.885 1136.29 L156.885 1140.22 L127.209 1140.22 L127.209 1136.29 Z\" fill=\"#000000\" fill-rule=\"evenodd\" fill-opacity=\"1\" /><path clip-path=\"url(#clip520)\" d=\"M 0 0 M165.982 1149.18 L182.302 1149.18 L182.302 1153.12 L160.357 1153.12 L160.357 1149.18 Q163.019 1146.43 167.603 1141.8 Q172.209 1137.15 173.39 1135.8 Q175.635 1133.28 176.515 1131.54 Q177.417 1129.78 177.417 1128.09 Q177.417 1125.34 175.473 1123.6 Q173.552 1121.87 170.45 1121.87 Q168.251 1121.87 165.797 1122.63 Q163.366 1123.4 160.589 1124.95 L160.589 1120.22 Q163.413 1119.09 165.866 1118.51 Q168.32 1117.93 170.357 1117.93 Q175.727 1117.93 178.922 1120.62 Q182.116 1123.3 182.116 1127.79 Q182.116 1129.92 181.306 1131.84 Q180.519 1133.74 178.413 1136.34 Q177.834 1137.01 174.732 1140.22 Q171.63 1143.42 165.982 1149.18 Z\" fill=\"#000000\" fill-rule=\"evenodd\" fill-opacity=\"1\" /><path clip-path=\"url(#clip520)\" d=\"M 0 0 M126.839 875.089 L156.515 875.089 L156.515 879.024 L126.839 879.024 L126.839 875.089 Z\" fill=\"#000000\" fill-rule=\"evenodd\" fill-opacity=\"1\" /><path clip-path=\"url(#clip520)\" d=\"M 0 0 M162.394 887.982 L170.033 887.982 L170.033 861.616 L161.723 863.283 L161.723 859.024 L169.987 857.357 L174.663 857.357 L174.663 887.982 L182.302 887.982 L182.302 891.917 L162.394 891.917 L162.394 887.982 Z\" fill=\"#000000\" fill-rule=\"evenodd\" fill-opacity=\"1\" /><path clip-path=\"url(#clip520)\" d=\"M 0 0 M170.357 599.235 Q166.746 599.235 164.917 602.8 Q163.112 606.342 163.112 613.471 Q163.112 620.578 164.917 624.143 Q166.746 627.684 170.357 627.684 Q173.991 627.684 175.797 624.143 Q177.626 620.578 177.626 613.471 Q177.626 606.342 175.797 602.8 Q173.991 599.235 170.357 599.235 M170.357 595.532 Q176.167 595.532 179.223 600.138 Q182.302 604.721 182.302 613.471 Q182.302 622.198 179.223 626.805 Q176.167 631.388 170.357 631.388 Q164.547 631.388 161.468 626.805 Q158.413 622.198 158.413 613.471 Q158.413 604.721 161.468 600.138 Q164.547 595.532 170.357 595.532 Z\" fill=\"#000000\" fill-rule=\"evenodd\" fill-opacity=\"1\" /><path clip-path=\"url(#clip520)\" d=\"M 0 0 M162.394 365.581 L170.033 365.581 L170.033 339.215 L161.723 340.882 L161.723 336.623 L169.987 334.956 L174.663 334.956 L174.663 365.581 L182.302 365.581 L182.302 369.516 L162.394 369.516 L162.394 365.581 Z\" fill=\"#000000\" fill-rule=\"evenodd\" fill-opacity=\"1\" /><path clip-path=\"url(#clip520)\" d=\"M 0 0 M1029.67 35.9153 Q1032.46 30.8922 1036.35 28.5022 Q1040.24 26.1121 1045.51 26.1121 Q1052.6 26.1121 1056.45 31.0947 Q1060.29 36.0368 1060.29 45.1919 L1060.29 72.576 L1052.8 72.576 L1052.8 45.4349 Q1052.8 38.913 1050.49 35.7533 Q1048.18 32.5936 1043.44 32.5936 Q1037.65 32.5936 1034.29 36.4419 Q1030.92 40.2903 1030.92 46.9338 L1030.92 72.576 L1023.43 72.576 L1023.43 45.4349 Q1023.43 38.8725 1021.12 35.7533 Q1018.81 32.5936 1013.99 32.5936 Q1008.28 32.5936 1004.92 36.4824 Q1001.56 40.3308 1001.56 46.9338 L1001.56 72.576 L994.061 72.576 L994.061 27.2059 L1001.56 27.2059 L1001.56 34.2544 Q1004.11 30.082 1007.67 28.0971 Q1011.24 26.1121 1016.14 26.1121 Q1021.08 26.1121 1024.52 28.6237 Q1028.01 31.1352 1029.67 35.9153 Z\" fill=\"#000000\" fill-rule=\"evenodd\" fill-opacity=\"1\" /><path clip-path=\"url(#clip520)\" d=\"M 0 0 M1067.34 54.671 L1067.34 27.2059 L1074.8 27.2059 L1074.8 54.3874 Q1074.8 60.8284 1077.31 64.0691 Q1079.82 67.2693 1084.84 67.2693 Q1090.88 67.2693 1094.36 63.421 Q1097.89 59.5726 1097.89 52.9291 L1097.89 27.2059 L1105.34 27.2059 L1105.34 72.576 L1097.89 72.576 L1097.89 65.6084 Q1095.17 69.7404 1091.57 71.7658 Q1088 73.7508 1083.26 73.7508 Q1075.44 73.7508 1071.39 68.8897 Q1067.34 64.0286 1067.34 54.671 M1086.1 26.1121 L1086.1 26.1121 Z\" fill=\"#000000\" fill-rule=\"evenodd\" fill-opacity=\"1\" /><path clip-path=\"url(#clip520)\" d=\"M 0 0 M1140.5 34.9026 L1192.43 34.9026 L1192.43 41.7081 L1140.5 41.7081 L1140.5 34.9026 M1140.5 51.4303 L1192.43 51.4303 L1192.43 58.3168 L1140.5 58.3168 L1140.5 51.4303 Z\" fill=\"#000000\" fill-rule=\"evenodd\" fill-opacity=\"1\" /><path clip-path=\"url(#clip520)\" d=\"M 0 0 M1229.09 65.6895 L1242.46 65.6895 L1242.46 19.5497 L1227.92 22.4663 L1227.92 15.0127 L1242.38 12.096 L1250.56 12.096 L1250.56 65.6895 L1263.93 65.6895 L1263.93 72.576 L1229.09 72.576 L1229.09 65.6895 Z\" fill=\"#000000\" fill-rule=\"evenodd\" fill-opacity=\"1\" /><path clip-path=\"url(#clip520)\" d=\"M 0 0 M1290.3 17.4837 Q1283.98 17.4837 1280.78 23.7221 Q1277.62 29.92 1277.62 42.3968 Q1277.62 54.833 1280.78 61.0714 Q1283.98 67.2693 1290.3 67.2693 Q1296.66 67.2693 1299.82 61.0714 Q1303.02 54.833 1303.02 42.3968 Q1303.02 29.92 1299.82 23.7221 Q1296.66 17.4837 1290.3 17.4837 M1290.3 11.0023 Q1300.47 11.0023 1305.82 19.0636 Q1311.21 27.0843 1311.21 42.3968 Q1311.21 57.6687 1305.82 65.73 Q1300.47 73.7508 1290.3 73.7508 Q1280.14 73.7508 1274.75 65.73 Q1269.4 57.6687 1269.4 42.3968 Q1269.4 27.0843 1274.75 19.0636 Q1280.14 11.0023 1290.3 11.0023 Z\" fill=\"#000000\" fill-rule=\"evenodd\" fill-opacity=\"1\" /><path clip-path=\"url(#clip520)\" d=\"M 0 0 M1337.58 17.4837 Q1331.26 17.4837 1328.06 23.7221 Q1324.9 29.92 1324.9 42.3968 Q1324.9 54.833 1328.06 61.0714 Q1331.26 67.2693 1337.58 67.2693 Q1343.94 67.2693 1347.1 61.0714 Q1350.3 54.833 1350.3 42.3968 Q1350.3 29.92 1347.1 23.7221 Q1343.94 17.4837 1337.58 17.4837 M1337.58 11.0023 Q1347.75 11.0023 1353.09 19.0636 Q1358.48 27.0843 1358.48 42.3968 Q1358.48 57.6687 1353.09 65.73 Q1347.75 73.7508 1337.58 73.7508 Q1327.41 73.7508 1322.02 65.73 Q1316.68 57.6687 1316.68 42.3968 Q1316.68 27.0843 1322.02 19.0636 Q1327.41 11.0023 1337.58 11.0023 Z\" fill=\"#000000\" fill-rule=\"evenodd\" fill-opacity=\"1\" /><path clip-path=\"url(#clip520)\" d=\"M 0 0 M1384.85 17.4837 Q1378.53 17.4837 1375.33 23.7221 Q1372.17 29.92 1372.17 42.3968 Q1372.17 54.833 1375.33 61.0714 Q1378.53 67.2693 1384.85 67.2693 Q1391.21 67.2693 1394.37 61.0714 Q1397.57 54.833 1397.57 42.3968 Q1397.57 29.92 1394.37 23.7221 Q1391.21 17.4837 1384.85 17.4837 M1384.85 11.0023 Q1395.02 11.0023 1400.37 19.0636 Q1405.75 27.0843 1405.75 42.3968 Q1405.75 57.6687 1400.37 65.73 Q1395.02 73.7508 1384.85 73.7508 Q1374.68 73.7508 1369.3 65.73 Q1363.95 57.6687 1363.95 42.3968 Q1363.95 27.0843 1369.3 19.0636 Q1374.68 11.0023 1384.85 11.0023 Z\" fill=\"#000000\" fill-rule=\"evenodd\" fill-opacity=\"1\" /><path clip-path=\"url(#clip520)\" d=\"M 0 0 M1432.13 17.4837 Q1425.81 17.4837 1422.61 23.7221 Q1419.45 29.92 1419.45 42.3968 Q1419.45 54.833 1422.61 61.0714 Q1425.81 67.2693 1432.13 67.2693 Q1438.49 67.2693 1441.65 61.0714 Q1444.85 54.833 1444.85 42.3968 Q1444.85 29.92 1441.65 23.7221 Q1438.49 17.4837 1432.13 17.4837 M1432.13 11.0023 Q1442.29 11.0023 1447.64 19.0636 Q1453.03 27.0843 1453.03 42.3968 Q1453.03 57.6687 1447.64 65.73 Q1442.29 73.7508 1432.13 73.7508 Q1421.96 73.7508 1416.57 65.73 Q1411.22 57.6687 1411.22 42.3968 Q1411.22 27.0843 1416.57 19.0636 Q1421.96 11.0023 1432.13 11.0023 Z\" fill=\"#000000\" fill-rule=\"evenodd\" fill-opacity=\"1\" /><path clip-path=\"url(#clip520)\" d=\"M 0 0 M1479.4 17.4837 Q1473.08 17.4837 1469.88 23.7221 Q1466.72 29.92 1466.72 42.3968 Q1466.72 54.833 1469.88 61.0714 Q1473.08 67.2693 1479.4 67.2693 Q1485.76 67.2693 1488.92 61.0714 Q1492.12 54.833 1492.12 42.3968 Q1492.12 29.92 1488.92 23.7221 Q1485.76 17.4837 1479.4 17.4837 M1479.4 11.0023 Q1489.57 11.0023 1494.92 19.0636 Q1500.3 27.0843 1500.3 42.3968 Q1500.3 57.6687 1494.92 65.73 Q1489.57 73.7508 1479.4 73.7508 Q1469.23 73.7508 1463.84 65.73 Q1458.5 57.6687 1458.5 42.3968 Q1458.5 27.0843 1463.84 19.0636 Q1469.23 11.0023 1479.4 11.0023 Z\" fill=\"#000000\" fill-rule=\"evenodd\" fill-opacity=\"1\" /><path clip-path=\"url(#clip520)\" d=\"M 0 0 M1509.17 62.2867 L1517.72 62.2867 L1517.72 72.576 L1509.17 72.576 L1509.17 62.2867 Z\" fill=\"#000000\" fill-rule=\"evenodd\" fill-opacity=\"1\" /><path clip-path=\"url(#clip520)\" d=\"M 0 0 M1544.09 17.4837 Q1537.77 17.4837 1534.57 23.7221 Q1531.41 29.92 1531.41 42.3968 Q1531.41 54.833 1534.57 61.0714 Q1537.77 67.2693 1544.09 67.2693 Q1550.45 67.2693 1553.61 61.0714 Q1556.81 54.833 1556.81 42.3968 Q1556.81 29.92 1553.61 23.7221 Q1550.45 17.4837 1544.09 17.4837 M1544.09 11.0023 Q1554.26 11.0023 1559.61 19.0636 Q1565 27.0843 1565 42.3968 Q1565 57.6687 1559.61 65.73 Q1554.26 73.7508 1544.09 73.7508 Q1533.93 73.7508 1528.54 65.73 Q1523.19 57.6687 1523.19 42.3968 Q1523.19 27.0843 1528.54 19.0636 Q1533.93 11.0023 1544.09 11.0023 Z\" fill=\"#000000\" fill-rule=\"evenodd\" fill-opacity=\"1\" /><path clip-path=\"url(#clip520)\" d=\"M 0 0 M1112.3 1556.04 L1094.16 1508.52 L1100.88 1508.52 L1115.93 1548.53 L1131.02 1508.52 L1137.7 1508.52 L1119.59 1556.04 L1112.3 1556.04 Z\" fill=\"#000000\" fill-rule=\"evenodd\" fill-opacity=\"1\" /><path clip-path=\"url(#clip520)\" d=\"M 0 0 M1169.27 1536.76 L1169.27 1539.62 L1142.35 1539.62 Q1142.73 1545.67 1145.98 1548.85 Q1149.25 1552 1155.08 1552 Q1158.45 1552 1161.6 1551.17 Q1164.79 1550.35 1167.91 1548.69 L1167.91 1554.23 Q1164.76 1555.57 1161.44 1556.27 Q1158.13 1556.97 1154.73 1556.97 Q1146.2 1556.97 1141.2 1552 Q1136.24 1547.04 1136.24 1538.57 Q1136.24 1529.82 1140.95 1524.69 Q1145.69 1519.54 1153.71 1519.54 Q1160.9 1519.54 1165.07 1524.18 Q1169.27 1528.8 1169.27 1536.76 M1163.42 1535.04 Q1163.35 1530.23 1160.71 1527.37 Q1158.1 1524.5 1153.77 1524.5 Q1148.87 1524.5 1145.91 1527.27 Q1142.98 1530.04 1142.54 1535.07 L1163.42 1535.04 Z\" fill=\"#000000\" fill-rule=\"evenodd\" fill-opacity=\"1\" /><path clip-path=\"url(#clip520)\" d=\"M 0 0 M1201.07 1521.76 L1201.07 1527.24 Q1198.59 1525.87 1196.07 1525.2 Q1193.59 1524.5 1191.05 1524.5 Q1185.35 1524.5 1182.2 1528.13 Q1179.05 1531.73 1179.05 1538.25 Q1179.05 1544.78 1182.2 1548.4 Q1185.35 1552 1191.05 1552 Q1193.59 1552 1196.07 1551.33 Q1198.59 1550.63 1201.07 1549.26 L1201.07 1554.68 Q1198.62 1555.82 1195.98 1556.39 Q1193.37 1556.97 1190.41 1556.97 Q1182.36 1556.97 1177.61 1551.91 Q1172.87 1546.85 1172.87 1538.25 Q1172.87 1529.53 1177.65 1524.53 Q1182.45 1519.54 1190.79 1519.54 Q1193.5 1519.54 1196.07 1520.11 Q1198.65 1520.65 1201.07 1521.76 Z\" fill=\"#000000\" fill-rule=\"evenodd\" fill-opacity=\"1\" /><path clip-path=\"url(#clip520)\" d=\"M 0 0 M1213.01 1510.27 L1213.01 1520.4 L1225.07 1520.4 L1225.07 1524.95 L1213.01 1524.95 L1213.01 1544.3 Q1213.01 1548.66 1214.18 1549.9 Q1215.39 1551.14 1219.05 1551.14 L1225.07 1551.14 L1225.07 1556.04 L1219.05 1556.04 Q1212.28 1556.04 1209.7 1553.53 Q1207.12 1550.98 1207.12 1544.3 L1207.12 1524.95 L1202.82 1524.95 L1202.82 1520.4 L1207.12 1520.4 L1207.12 1510.27 L1213.01 1510.27 Z\" fill=\"#000000\" fill-rule=\"evenodd\" fill-opacity=\"1\" /><path clip-path=\"url(#clip520)\" d=\"M 0 0 M1245.03 1524.5 Q1240.32 1524.5 1237.58 1528.19 Q1234.84 1531.85 1234.84 1538.25 Q1234.84 1544.65 1237.55 1548.34 Q1240.28 1552 1245.03 1552 Q1249.71 1552 1252.44 1548.31 Q1255.18 1544.62 1255.18 1538.25 Q1255.18 1531.92 1252.44 1528.23 Q1249.71 1524.5 1245.03 1524.5 M1245.03 1519.54 Q1252.67 1519.54 1257.03 1524.5 Q1261.39 1529.47 1261.39 1538.25 Q1261.39 1547 1257.03 1552 Q1252.67 1556.97 1245.03 1556.97 Q1237.36 1556.97 1233 1552 Q1228.67 1547 1228.67 1538.25 Q1228.67 1529.47 1233 1524.5 Q1237.36 1519.54 1245.03 1519.54 Z\" fill=\"#000000\" fill-rule=\"evenodd\" fill-opacity=\"1\" /><path clip-path=\"url(#clip520)\" d=\"M 0 0 M1288.19 1525.87 Q1287.2 1525.3 1286.02 1525.04 Q1284.88 1524.76 1283.48 1524.76 Q1278.51 1524.76 1275.84 1528 Q1273.19 1531.22 1273.19 1537.27 L1273.19 1556.04 L1267.31 1556.04 L1267.31 1520.4 L1273.19 1520.4 L1273.19 1525.93 Q1275.04 1522.69 1278 1521.13 Q1280.96 1519.54 1285.19 1519.54 Q1285.8 1519.54 1286.53 1519.63 Q1287.26 1519.7 1288.15 1519.85 L1288.19 1525.87 Z\" fill=\"#000000\" fill-rule=\"evenodd\" fill-opacity=\"1\" /><path clip-path=\"url(#clip520)\" d=\"M 0 0 M1315.3 1508.52 L1321.73 1508.52 L1321.73 1556.04 L1315.3 1556.04 L1315.3 1508.52 Z\" fill=\"#000000\" fill-rule=\"evenodd\" fill-opacity=\"1\" /><path clip-path=\"url(#clip520)\" d=\"M 0 0 M1357.51 1534.53 L1357.51 1556.04 L1351.65 1556.04 L1351.65 1534.72 Q1351.65 1529.66 1349.68 1527.14 Q1347.71 1524.63 1343.76 1524.63 Q1339.02 1524.63 1336.28 1527.65 Q1333.54 1530.68 1333.54 1535.9 L1333.54 1556.04 L1327.65 1556.04 L1327.65 1520.4 L1333.54 1520.4 L1333.54 1525.93 Q1335.64 1522.72 1338.48 1521.13 Q1341.34 1519.54 1345.06 1519.54 Q1351.21 1519.54 1354.36 1523.36 Q1357.51 1527.14 1357.51 1534.53 Z\" fill=\"#000000\" fill-rule=\"evenodd\" fill-opacity=\"1\" /><path clip-path=\"url(#clip520)\" d=\"M 0 0 M1387.11 1525.81 L1387.11 1506.52 L1392.97 1506.52 L1392.97 1556.04 L1387.11 1556.04 L1387.11 1550.7 Q1385.26 1553.88 1382.43 1555.44 Q1379.63 1556.97 1375.68 1556.97 Q1369.22 1556.97 1365.15 1551.81 Q1361.11 1546.65 1361.11 1538.25 Q1361.11 1529.85 1365.15 1524.69 Q1369.22 1519.54 1375.68 1519.54 Q1379.63 1519.54 1382.43 1521.1 Q1385.26 1522.62 1387.11 1525.81 M1367.15 1538.25 Q1367.15 1544.71 1369.79 1548.4 Q1372.47 1552.07 1377.11 1552.07 Q1381.76 1552.07 1384.44 1548.4 Q1387.11 1544.71 1387.11 1538.25 Q1387.11 1531.79 1384.44 1528.13 Q1381.76 1524.44 1377.11 1524.44 Q1372.47 1524.44 1369.79 1528.13 Q1367.15 1531.79 1367.15 1538.25 Z\" fill=\"#000000\" fill-rule=\"evenodd\" fill-opacity=\"1\" /><path clip-path=\"url(#clip520)\" d=\"M 0 0 M1429.6 1536.76 L1429.6 1539.62 L1402.67 1539.62 Q1403.06 1545.67 1406.3 1548.85 Q1409.58 1552 1415.4 1552 Q1418.78 1552 1421.93 1551.17 Q1425.11 1550.35 1428.23 1548.69 L1428.23 1554.23 Q1425.08 1555.57 1421.77 1556.27 Q1418.46 1556.97 1415.05 1556.97 Q1406.52 1556.97 1401.53 1552 Q1396.56 1547.04 1396.56 1538.57 Q1396.56 1529.82 1401.27 1524.69 Q1406.02 1519.54 1414.04 1519.54 Q1421.23 1519.54 1425.4 1524.18 Q1429.6 1528.8 1429.6 1536.76 M1423.74 1535.04 Q1423.68 1530.23 1421.04 1527.37 Q1418.43 1524.5 1414.1 1524.5 Q1409.2 1524.5 1406.24 1527.27 Q1403.31 1530.04 1402.86 1535.07 L1423.74 1535.04 Z\" fill=\"#000000\" fill-rule=\"evenodd\" fill-opacity=\"1\" /><path clip-path=\"url(#clip520)\" d=\"M 0 0 M1464.23 1520.4 L1451.34 1537.74 L1464.9 1556.04 L1457.99 1556.04 L1447.62 1542.04 L1437.24 1556.04 L1430.33 1556.04 L1444.18 1537.39 L1431.51 1520.4 L1438.42 1520.4 L1447.87 1533.1 L1457.32 1520.4 L1464.23 1520.4 Z\" fill=\"#000000\" fill-rule=\"evenodd\" fill-opacity=\"1\" /><path clip-path=\"url(#clip520)\" d=\"M 0 0 M88.0042 833.45 L40.4842 851.592 L40.4842 844.877 L80.4926 829.822 L40.4842 814.735 L40.4842 808.051 L88.0042 826.161 L88.0042 833.45 Z\" fill=\"#000000\" fill-rule=\"evenodd\" fill-opacity=\"1\" /><path clip-path=\"url(#clip520)\" d=\"M 0 0 M70.0847 790.768 Q70.0847 797.866 71.7079 800.603 Q73.3312 803.34 77.2461 803.34 Q80.3653 803.34 82.2114 801.303 Q84.0256 799.234 84.0256 795.701 Q84.0256 790.832 80.5881 787.903 Q77.1188 784.943 71.3897 784.943 L70.0847 784.943 L70.0847 790.768 M67.6657 779.087 L88.0042 779.087 L88.0042 784.943 L82.5933 784.943 Q85.8398 786.949 87.3994 789.94 Q88.9272 792.932 88.9272 797.261 Q88.9272 802.736 85.8716 805.982 Q82.7843 809.197 77.6281 809.197 Q71.6125 809.197 68.5569 805.186 Q65.5014 801.144 65.5014 793.155 L65.5014 784.943 L64.9285 784.943 Q60.8862 784.943 58.6901 787.617 Q56.4621 790.259 56.4621 795.065 Q56.4621 798.12 57.1941 801.017 Q57.9262 803.913 59.3903 806.587 L53.9795 806.587 Q52.7381 803.372 52.1334 800.348 Q51.4968 797.325 51.4968 794.46 Q51.4968 786.726 55.5072 782.906 Q59.5176 779.087 67.6657 779.087 Z\" fill=\"#000000\" fill-rule=\"evenodd\" fill-opacity=\"1\" /><path clip-path=\"url(#clip520)\" d=\"M 0 0 M38.479 772.944 L38.479 767.088 L88.0042 767.088 L88.0042 772.944 L38.479 772.944 Z\" fill=\"#000000\" fill-rule=\"evenodd\" fill-opacity=\"1\" /><path clip-path=\"url(#clip520)\" d=\"M 0 0 M73.9359 761.549 L52.3562 761.549 L52.3562 755.693 L73.7131 755.693 Q78.7739 755.693 81.3202 753.72 Q83.8346 751.746 83.8346 747.8 Q83.8346 743.057 80.8109 740.32 Q77.7872 737.551 72.5673 737.551 L52.3562 737.551 L52.3562 731.694 L88.0042 731.694 L88.0042 737.551 L82.5296 737.551 Q85.7762 739.683 87.3676 742.516 Q88.9272 745.317 88.9272 749.041 Q88.9272 755.184 85.1078 758.367 Q81.2883 761.549 73.9359 761.549 M51.4968 746.813 L51.4968 746.813 Z\" fill=\"#000000\" fill-rule=\"evenodd\" fill-opacity=\"1\" /><path clip-path=\"url(#clip520)\" d=\"M 0 0 M68.7161 695.06 L71.5806 695.06 L71.5806 721.987 Q77.6281 721.605 80.8109 718.358 Q83.9619 715.08 83.9619 709.255 Q83.9619 705.881 83.1344 702.73 Q82.3069 699.547 80.6518 696.428 L86.1899 696.428 Q87.5267 699.579 88.227 702.889 Q88.9272 706.2 88.9272 709.605 Q88.9272 718.135 83.9619 723.132 Q78.9967 728.098 70.5303 728.098 Q61.7774 728.098 56.6531 723.387 Q51.4968 718.645 51.4968 710.624 Q51.4968 703.431 56.1438 699.261 Q60.7589 695.06 68.7161 695.06 M66.9973 700.916 Q62.1912 700.98 59.3266 703.621 Q56.4621 706.231 56.4621 710.56 Q56.4621 715.462 59.2312 718.422 Q62.0002 721.35 67.0292 721.796 L66.9973 700.916 Z\" fill=\"#000000\" fill-rule=\"evenodd\" fill-opacity=\"1\" /><polyline clip-path=\"url(#clip522)\" style=\"stroke:#009af9; stroke-width:12; stroke-opacity:1; fill:none\" stroke-dasharray=\"6, 12\" points=\"\n",
       "  267.05,1385.95 307.549,1346.19 348.049,1270.03 388.548,1259.62 429.047,1107.98 469.546,1124.95 510.045,999.609 550.544,916.414 591.043,790.2 631.542,862.239 \n",
       "  672.042,790.979 712.541,656.902 753.04,557.037 793.539,624.478 834.038,682.626 874.537,668.993 915.036,676.189 955.536,568.647 996.035,713.022 1036.53,652.584 \n",
       "  1077.03,716.735 1117.53,752.692 1158.03,660.491 1198.53,585.055 1239.03,730.351 1279.53,658.546 1320.03,566.311 1360.53,493.974 1401.03,561.789 1441.53,529.986 \n",
       "  1482.02,443.184 1522.52,577.741 1563.02,438.397 1603.52,474.376 1644.02,601.619 1684.52,547.157 1725.02,534.418 1765.52,621.606 1806.02,600.664 1846.52,652.02 \n",
       "  1887.02,650.42 1927.51,634.305 1968.01,660.09 2008.51,598.705 2049.01,498.166 2089.51,372.285 2130.01,414.158 2170.51,217.378 2211.01,308.791 2251.51,160.256 \n",
       "  2292.01,240.373 \n",
       "  \"/>\n",
       "<polyline clip-path=\"url(#clip522)\" style=\"stroke:#e26f46; stroke-width:4; stroke-opacity:1; fill:none\" points=\"\n",
       "  267.05,1386.4 307.549,1344.53 348.049,1273.8 388.548,1253.11 429.047,1115.91 469.546,1118.73 510.045,1002.62 550.544,912.582 591.043,797.851 631.542,856.742 \n",
       "  672.042,790.256 712.541,656.694 753.04,561.341 793.539,622.961 834.038,680.53 874.537,671.614 915.036,670.029 955.536,579.209 996.035,702.982 1036.53,658.687 \n",
       "  1077.03,716.274 1117.53,748.985 1158.03,660.057 1198.53,593.63 1239.03,721.997 1279.53,660.055 1320.03,565.717 1360.53,498.803 1401.03,557.765 1441.53,527.163 \n",
       "  1482.02,453.156 1522.52,565.391 1563.02,445.327 1603.52,477.184 1644.02,594.759 1684.52,549.334 1725.02,538.049 1765.52,616.554 1806.02,604.521 1846.52,649.953 \n",
       "  1887.02,650.169 1927.51,636.801 1968.01,657.772 2008.51,598.809 2049.01,496.267 2089.51,379.77 2130.01,402.385 2170.51,230.634 2211.01,296.212 2251.51,169.223 \n",
       "  2292.01,237.371 \n",
       "  \"/>\n",
       "<path clip-path=\"url(#clip520)\" d=\"\n",
       "M2019.54 348.236 L2281.21 348.236 L2281.21 166.796 L2019.54 166.796  Z\n",
       "  \" fill=\"#ffffff\" fill-rule=\"evenodd\" fill-opacity=\"1\"/>\n",
       "<polyline clip-path=\"url(#clip520)\" style=\"stroke:#000000; stroke-width:4; stroke-opacity:1; fill:none\" points=\"\n",
       "  2019.54,348.236 2281.21,348.236 2281.21,166.796 2019.54,166.796 2019.54,348.236 \n",
       "  \"/>\n",
       "<polyline clip-path=\"url(#clip520)\" style=\"stroke:#009af9; stroke-width:4; stroke-opacity:1; fill:none\" stroke-dasharray=\"2, 4\" points=\"\n",
       "  2043.39,227.276 2186.49,227.276 \n",
       "  \"/>\n",
       "<path clip-path=\"url(#clip520)\" d=\"M 0 0 M2226.84 208.537 L2226.84 212.079 L2222.77 212.079 Q2220.48 212.079 2219.57 213.005 Q2218.69 213.931 2218.69 216.338 L2218.69 218.63 L2225.71 218.63 L2225.71 221.94 L2218.69 221.94 L2218.69 244.556 L2214.41 244.556 L2214.41 221.94 L2210.34 221.94 L2210.34 218.63 L2214.41 218.63 L2214.41 216.824 Q2214.41 212.496 2216.43 210.528 Q2218.44 208.537 2222.81 208.537 L2226.84 208.537 Z\" fill=\"#000000\" fill-rule=\"evenodd\" fill-opacity=\"1\" /><polyline clip-path=\"url(#clip520)\" style=\"stroke:#e26f46; stroke-width:4; stroke-opacity:1; fill:none\" points=\"\n",
       "  2043.39,287.756 2186.49,287.756 \n",
       "  \"/>\n",
       "<path clip-path=\"url(#clip520)\" d=\"M 0 0 M2229.25 291.772 Q2229.25 287.142 2227.33 284.596 Q2225.43 282.05 2221.98 282.05 Q2218.55 282.05 2216.63 284.596 Q2214.74 287.142 2214.74 291.772 Q2214.74 296.378 2216.63 298.925 Q2218.55 301.471 2221.98 301.471 Q2225.43 301.471 2227.33 298.925 Q2229.25 296.378 2229.25 291.772 M2233.51 301.818 Q2233.51 308.438 2230.57 311.656 Q2227.63 314.897 2221.56 314.897 Q2219.32 314.897 2217.33 314.55 Q2215.34 314.225 2213.46 313.531 L2213.46 309.388 Q2215.34 310.406 2217.17 310.892 Q2218.99 311.378 2220.89 311.378 Q2225.08 311.378 2227.17 309.179 Q2229.25 307.003 2229.25 302.582 L2229.25 300.476 Q2227.93 302.767 2225.87 303.901 Q2223.81 305.036 2220.94 305.036 Q2216.17 305.036 2213.25 301.401 Q2210.34 297.767 2210.34 291.772 Q2210.34 285.753 2213.25 282.119 Q2216.17 278.485 2220.94 278.485 Q2223.81 278.485 2225.87 279.619 Q2227.93 280.753 2229.25 283.045 L2229.25 279.11 L2233.51 279.11 L2233.51 301.818 Z\" fill=\"#000000\" fill-rule=\"evenodd\" fill-opacity=\"1\" /></svg>\n"
      ]
     },
     "metadata": {},
     "output_type": "display_data"
    },
    {
     "data": {
      "image/svg+xml": [
       "<?xml version=\"1.0\" encoding=\"utf-8\"?>\n",
       "<svg xmlns=\"http://www.w3.org/2000/svg\" xmlns:xlink=\"http://www.w3.org/1999/xlink\" width=\"600\" height=\"400\" viewBox=\"0 0 2400 1600\">\n",
       "<defs>\n",
       "  <clipPath id=\"clip560\">\n",
       "    <rect x=\"0\" y=\"0\" width=\"2400\" height=\"1600\"/>\n",
       "  </clipPath>\n",
       "</defs>\n",
       "<path clip-path=\"url(#clip560)\" d=\"\n",
       "M0 1600 L2400 1600 L2400 0 L0 0  Z\n",
       "  \" fill=\"#ffffff\" fill-rule=\"evenodd\" fill-opacity=\"1\"/>\n",
       "<defs>\n",
       "  <clipPath id=\"clip561\">\n",
       "    <rect x=\"480\" y=\"0\" width=\"1681\" height=\"1600\"/>\n",
       "  </clipPath>\n",
       "</defs>\n",
       "<path clip-path=\"url(#clip560)\" d=\"\n",
       "M206.302 1423.18 L2352.76 1423.18 L2352.76 123.472 L206.302 123.472  Z\n",
       "  \" fill=\"#ffffff\" fill-rule=\"evenodd\" fill-opacity=\"1\"/>\n",
       "<defs>\n",
       "  <clipPath id=\"clip562\">\n",
       "    <rect x=\"206\" y=\"123\" width=\"2147\" height=\"1301\"/>\n",
       "  </clipPath>\n",
       "</defs>\n",
       "<polyline clip-path=\"url(#clip562)\" style=\"stroke:#000000; stroke-width:2; stroke-opacity:0.1; fill:none\" points=\"\n",
       "  226.551,1423.18 226.551,123.472 \n",
       "  \"/>\n",
       "<polyline clip-path=\"url(#clip562)\" style=\"stroke:#000000; stroke-width:2; stroke-opacity:0.1; fill:none\" points=\"\n",
       "  631.542,1423.18 631.542,123.472 \n",
       "  \"/>\n",
       "<polyline clip-path=\"url(#clip562)\" style=\"stroke:#000000; stroke-width:2; stroke-opacity:0.1; fill:none\" points=\"\n",
       "  1036.53,1423.18 1036.53,123.472 \n",
       "  \"/>\n",
       "<polyline clip-path=\"url(#clip562)\" style=\"stroke:#000000; stroke-width:2; stroke-opacity:0.1; fill:none\" points=\"\n",
       "  1441.53,1423.18 1441.53,123.472 \n",
       "  \"/>\n",
       "<polyline clip-path=\"url(#clip562)\" style=\"stroke:#000000; stroke-width:2; stroke-opacity:0.1; fill:none\" points=\"\n",
       "  1846.52,1423.18 1846.52,123.472 \n",
       "  \"/>\n",
       "<polyline clip-path=\"url(#clip562)\" style=\"stroke:#000000; stroke-width:2; stroke-opacity:0.1; fill:none\" points=\"\n",
       "  2251.51,1423.18 2251.51,123.472 \n",
       "  \"/>\n",
       "<polyline clip-path=\"url(#clip562)\" style=\"stroke:#000000; stroke-width:2; stroke-opacity:0.1; fill:none\" points=\"\n",
       "  206.302,1391.5 2352.76,1391.5 \n",
       "  \"/>\n",
       "<polyline clip-path=\"url(#clip562)\" style=\"stroke:#000000; stroke-width:2; stroke-opacity:0.1; fill:none\" points=\"\n",
       "  206.302,1131.47 2352.76,1131.47 \n",
       "  \"/>\n",
       "<polyline clip-path=\"url(#clip562)\" style=\"stroke:#000000; stroke-width:2; stroke-opacity:0.1; fill:none\" points=\"\n",
       "  206.302,871.44 2352.76,871.44 \n",
       "  \"/>\n",
       "<polyline clip-path=\"url(#clip562)\" style=\"stroke:#000000; stroke-width:2; stroke-opacity:0.1; fill:none\" points=\"\n",
       "  206.302,611.408 2352.76,611.408 \n",
       "  \"/>\n",
       "<polyline clip-path=\"url(#clip562)\" style=\"stroke:#000000; stroke-width:2; stroke-opacity:0.1; fill:none\" points=\"\n",
       "  206.302,351.377 2352.76,351.377 \n",
       "  \"/>\n",
       "<polyline clip-path=\"url(#clip560)\" style=\"stroke:#000000; stroke-width:4; stroke-opacity:1; fill:none\" points=\"\n",
       "  206.302,1423.18 2352.76,1423.18 \n",
       "  \"/>\n",
       "<polyline clip-path=\"url(#clip560)\" style=\"stroke:#000000; stroke-width:4; stroke-opacity:1; fill:none\" points=\"\n",
       "  206.302,1423.18 206.302,123.472 \n",
       "  \"/>\n",
       "<polyline clip-path=\"url(#clip560)\" style=\"stroke:#000000; stroke-width:4; stroke-opacity:1; fill:none\" points=\"\n",
       "  226.551,1423.18 226.551,1407.58 \n",
       "  \"/>\n",
       "<polyline clip-path=\"url(#clip560)\" style=\"stroke:#000000; stroke-width:4; stroke-opacity:1; fill:none\" points=\"\n",
       "  631.542,1423.18 631.542,1407.58 \n",
       "  \"/>\n",
       "<polyline clip-path=\"url(#clip560)\" style=\"stroke:#000000; stroke-width:4; stroke-opacity:1; fill:none\" points=\"\n",
       "  1036.53,1423.18 1036.53,1407.58 \n",
       "  \"/>\n",
       "<polyline clip-path=\"url(#clip560)\" style=\"stroke:#000000; stroke-width:4; stroke-opacity:1; fill:none\" points=\"\n",
       "  1441.53,1423.18 1441.53,1407.58 \n",
       "  \"/>\n",
       "<polyline clip-path=\"url(#clip560)\" style=\"stroke:#000000; stroke-width:4; stroke-opacity:1; fill:none\" points=\"\n",
       "  1846.52,1423.18 1846.52,1407.58 \n",
       "  \"/>\n",
       "<polyline clip-path=\"url(#clip560)\" style=\"stroke:#000000; stroke-width:4; stroke-opacity:1; fill:none\" points=\"\n",
       "  2251.51,1423.18 2251.51,1407.58 \n",
       "  \"/>\n",
       "<polyline clip-path=\"url(#clip560)\" style=\"stroke:#000000; stroke-width:4; stroke-opacity:1; fill:none\" points=\"\n",
       "  206.302,1391.5 232.059,1391.5 \n",
       "  \"/>\n",
       "<polyline clip-path=\"url(#clip560)\" style=\"stroke:#000000; stroke-width:4; stroke-opacity:1; fill:none\" points=\"\n",
       "  206.302,1131.47 232.059,1131.47 \n",
       "  \"/>\n",
       "<polyline clip-path=\"url(#clip560)\" style=\"stroke:#000000; stroke-width:4; stroke-opacity:1; fill:none\" points=\"\n",
       "  206.302,871.44 232.059,871.44 \n",
       "  \"/>\n",
       "<polyline clip-path=\"url(#clip560)\" style=\"stroke:#000000; stroke-width:4; stroke-opacity:1; fill:none\" points=\"\n",
       "  206.302,611.408 232.059,611.408 \n",
       "  \"/>\n",
       "<polyline clip-path=\"url(#clip560)\" style=\"stroke:#000000; stroke-width:4; stroke-opacity:1; fill:none\" points=\"\n",
       "  206.302,351.377 232.059,351.377 \n",
       "  \"/>\n",
       "<path clip-path=\"url(#clip560)\" d=\"M 0 0 M226.551 1445.17 Q222.94 1445.17 221.111 1448.74 Q219.306 1452.28 219.306 1459.41 Q219.306 1466.51 221.111 1470.08 Q222.94 1473.62 226.551 1473.62 Q230.185 1473.62 231.991 1470.08 Q233.82 1466.51 233.82 1459.41 Q233.82 1452.28 231.991 1448.74 Q230.185 1445.17 226.551 1445.17 M226.551 1441.47 Q232.361 1441.47 235.417 1446.07 Q238.495 1450.66 238.495 1459.41 Q238.495 1468.13 235.417 1472.74 Q232.361 1477.32 226.551 1477.32 Q220.741 1477.32 217.662 1472.74 Q214.607 1468.13 214.607 1459.41 Q214.607 1450.66 217.662 1446.07 Q220.741 1441.47 226.551 1441.47 Z\" fill=\"#000000\" fill-rule=\"evenodd\" fill-opacity=\"1\" /><path clip-path=\"url(#clip560)\" d=\"M 0 0 M608.418 1472.72 L616.056 1472.72 L616.056 1446.35 L607.746 1448.02 L607.746 1443.76 L616.01 1442.09 L620.686 1442.09 L620.686 1472.72 L628.325 1472.72 L628.325 1476.65 L608.418 1476.65 L608.418 1472.72 Z\" fill=\"#000000\" fill-rule=\"evenodd\" fill-opacity=\"1\" /><path clip-path=\"url(#clip560)\" d=\"M 0 0 M643.394 1445.17 Q639.783 1445.17 637.954 1448.74 Q636.149 1452.28 636.149 1459.41 Q636.149 1466.51 637.954 1470.08 Q639.783 1473.62 643.394 1473.62 Q647.029 1473.62 648.834 1470.08 Q650.663 1466.51 650.663 1459.41 Q650.663 1452.28 648.834 1448.74 Q647.029 1445.17 643.394 1445.17 M643.394 1441.47 Q649.204 1441.47 652.26 1446.07 Q655.339 1450.66 655.339 1459.41 Q655.339 1468.13 652.26 1472.74 Q649.204 1477.32 643.394 1477.32 Q637.584 1477.32 634.505 1472.74 Q631.45 1468.13 631.45 1459.41 Q631.45 1450.66 634.505 1446.07 Q637.584 1441.47 643.394 1441.47 Z\" fill=\"#000000\" fill-rule=\"evenodd\" fill-opacity=\"1\" /><path clip-path=\"url(#clip560)\" d=\"M 0 0 M1017.68 1472.72 L1034 1472.72 L1034 1476.65 L1012.05 1476.65 L1012.05 1472.72 Q1014.72 1469.96 1019.3 1465.33 Q1023.91 1460.68 1025.09 1459.34 Q1027.33 1456.81 1028.21 1455.08 Q1029.11 1453.32 1029.11 1451.63 Q1029.11 1448.87 1027.17 1447.14 Q1025.25 1445.4 1022.15 1445.4 Q1019.95 1445.4 1017.49 1446.17 Q1015.06 1446.93 1012.29 1448.48 L1012.29 1443.76 Q1015.11 1442.62 1017.56 1442.05 Q1020.02 1441.47 1022.05 1441.47 Q1027.43 1441.47 1030.62 1444.15 Q1033.81 1446.84 1033.81 1451.33 Q1033.81 1453.46 1033 1455.38 Q1032.22 1457.28 1030.11 1459.87 Q1029.53 1460.54 1026.43 1463.76 Q1023.33 1466.95 1017.68 1472.72 Z\" fill=\"#000000\" fill-rule=\"evenodd\" fill-opacity=\"1\" /><path clip-path=\"url(#clip560)\" d=\"M 0 0 M1049.07 1445.17 Q1045.46 1445.17 1043.63 1448.74 Q1041.82 1452.28 1041.82 1459.41 Q1041.82 1466.51 1043.63 1470.08 Q1045.46 1473.62 1049.07 1473.62 Q1052.7 1473.62 1054.51 1470.08 Q1056.34 1466.51 1056.34 1459.41 Q1056.34 1452.28 1054.51 1448.74 Q1052.7 1445.17 1049.07 1445.17 M1049.07 1441.47 Q1054.88 1441.47 1057.93 1446.07 Q1061.01 1450.66 1061.01 1459.41 Q1061.01 1468.13 1057.93 1472.74 Q1054.88 1477.32 1049.07 1477.32 Q1043.26 1477.32 1040.18 1472.74 Q1037.12 1468.13 1037.12 1459.41 Q1037.12 1450.66 1040.18 1446.07 Q1043.26 1441.47 1049.07 1441.47 Z\" fill=\"#000000\" fill-rule=\"evenodd\" fill-opacity=\"1\" /><path clip-path=\"url(#clip560)\" d=\"M 0 0 M1432.27 1458.02 Q1435.62 1458.74 1437.5 1461 Q1439.4 1463.27 1439.4 1466.61 Q1439.4 1471.72 1435.88 1474.52 Q1432.36 1477.32 1425.88 1477.32 Q1423.7 1477.32 1421.39 1476.88 Q1419.09 1476.47 1416.64 1475.61 L1416.64 1471.1 Q1418.59 1472.23 1420.9 1472.81 Q1423.22 1473.39 1425.74 1473.39 Q1430.14 1473.39 1432.43 1471.65 Q1434.74 1469.92 1434.74 1466.61 Q1434.74 1463.55 1432.59 1461.84 Q1430.46 1460.1 1426.64 1460.1 L1422.61 1460.1 L1422.61 1456.26 L1426.83 1456.26 Q1430.28 1456.26 1432.1 1454.89 Q1433.93 1453.5 1433.93 1450.91 Q1433.93 1448.25 1432.03 1446.84 Q1430.16 1445.4 1426.64 1445.4 Q1424.72 1445.4 1422.52 1445.82 Q1420.32 1446.24 1417.68 1447.11 L1417.68 1442.95 Q1420.34 1442.21 1422.66 1441.84 Q1425 1441.47 1427.06 1441.47 Q1432.38 1441.47 1435.48 1443.9 Q1438.59 1446.3 1438.59 1450.43 Q1438.59 1453.3 1436.94 1455.29 Q1435.3 1457.25 1432.27 1458.02 Z\" fill=\"#000000\" fill-rule=\"evenodd\" fill-opacity=\"1\" /><path clip-path=\"url(#clip560)\" d=\"M 0 0 M1454.47 1445.17 Q1450.85 1445.17 1449.03 1448.74 Q1447.22 1452.28 1447.22 1459.41 Q1447.22 1466.51 1449.03 1470.08 Q1450.85 1473.62 1454.47 1473.62 Q1458.1 1473.62 1459.9 1470.08 Q1461.73 1466.51 1461.73 1459.41 Q1461.73 1452.28 1459.9 1448.74 Q1458.1 1445.17 1454.47 1445.17 M1454.47 1441.47 Q1460.28 1441.47 1463.33 1446.07 Q1466.41 1450.66 1466.41 1459.41 Q1466.41 1468.13 1463.33 1472.74 Q1460.28 1477.32 1454.47 1477.32 Q1448.65 1477.32 1445.58 1472.74 Q1442.52 1468.13 1442.52 1459.41 Q1442.52 1450.66 1445.58 1446.07 Q1448.65 1441.47 1454.47 1441.47 Z\" fill=\"#000000\" fill-rule=\"evenodd\" fill-opacity=\"1\" /><path clip-path=\"url(#clip560)\" d=\"M 0 0 M1836.02 1446.17 L1824.21 1464.61 L1836.02 1464.61 L1836.02 1446.17 M1834.79 1442.09 L1840.67 1442.09 L1840.67 1464.61 L1845.6 1464.61 L1845.6 1468.5 L1840.67 1468.5 L1840.67 1476.65 L1836.02 1476.65 L1836.02 1468.5 L1820.42 1468.5 L1820.42 1463.99 L1834.79 1442.09 Z\" fill=\"#000000\" fill-rule=\"evenodd\" fill-opacity=\"1\" /><path clip-path=\"url(#clip560)\" d=\"M 0 0 M1860.67 1445.17 Q1857.06 1445.17 1855.23 1448.74 Q1853.43 1452.28 1853.43 1459.41 Q1853.43 1466.51 1855.23 1470.08 Q1857.06 1473.62 1860.67 1473.62 Q1864.31 1473.62 1866.11 1470.08 Q1867.94 1466.51 1867.94 1459.41 Q1867.94 1452.28 1866.11 1448.74 Q1864.31 1445.17 1860.67 1445.17 M1860.67 1441.47 Q1866.48 1441.47 1869.54 1446.07 Q1872.62 1450.66 1872.62 1459.41 Q1872.62 1468.13 1869.54 1472.74 Q1866.48 1477.32 1860.67 1477.32 Q1854.86 1477.32 1851.78 1472.74 Q1848.73 1468.13 1848.73 1459.41 Q1848.73 1450.66 1851.78 1446.07 Q1854.86 1441.47 1860.67 1441.47 Z\" fill=\"#000000\" fill-rule=\"evenodd\" fill-opacity=\"1\" /><path clip-path=\"url(#clip560)\" d=\"M 0 0 M2228.28 1442.09 L2246.64 1442.09 L2246.64 1446.03 L2232.56 1446.03 L2232.56 1454.5 Q2233.58 1454.15 2234.6 1453.99 Q2235.62 1453.8 2236.64 1453.8 Q2242.42 1453.8 2245.8 1456.98 Q2249.18 1460.15 2249.18 1465.56 Q2249.18 1471.14 2245.71 1474.24 Q2242.24 1477.32 2235.92 1477.32 Q2233.74 1477.32 2231.47 1476.95 Q2229.23 1476.58 2226.82 1475.84 L2226.82 1471.14 Q2228.9 1472.28 2231.13 1472.83 Q2233.35 1473.39 2235.83 1473.39 Q2239.83 1473.39 2242.17 1471.28 Q2244.51 1469.18 2244.51 1465.56 Q2244.51 1461.95 2242.17 1459.85 Q2239.83 1457.74 2235.83 1457.74 Q2233.95 1457.74 2232.08 1458.16 Q2230.22 1458.57 2228.28 1459.45 L2228.28 1442.09 Z\" fill=\"#000000\" fill-rule=\"evenodd\" fill-opacity=\"1\" /><path clip-path=\"url(#clip560)\" d=\"M 0 0 M2264.25 1445.17 Q2260.64 1445.17 2258.81 1448.74 Q2257.01 1452.28 2257.01 1459.41 Q2257.01 1466.51 2258.81 1470.08 Q2260.64 1473.62 2264.25 1473.62 Q2267.89 1473.62 2269.69 1470.08 Q2271.52 1466.51 2271.52 1459.41 Q2271.52 1452.28 2269.69 1448.74 Q2267.89 1445.17 2264.25 1445.17 M2264.25 1441.47 Q2270.06 1441.47 2273.12 1446.07 Q2276.2 1450.66 2276.2 1459.41 Q2276.2 1468.13 2273.12 1472.74 Q2270.06 1477.32 2264.25 1477.32 Q2258.44 1477.32 2255.36 1472.74 Q2252.31 1468.13 2252.31 1459.41 Q2252.31 1450.66 2255.36 1446.07 Q2258.44 1441.47 2264.25 1441.47 Z\" fill=\"#000000\" fill-rule=\"evenodd\" fill-opacity=\"1\" /><path clip-path=\"url(#clip560)\" d=\"M 0 0 M126.26 1391.95 L155.936 1391.95 L155.936 1395.89 L126.26 1395.89 L126.26 1391.95 Z\" fill=\"#000000\" fill-rule=\"evenodd\" fill-opacity=\"1\" /><path clip-path=\"url(#clip560)\" d=\"M 0 0 M175.172 1390.15 Q178.528 1390.87 180.403 1393.13 Q182.302 1395.4 182.302 1398.74 Q182.302 1403.85 178.783 1406.65 Q175.265 1409.45 168.783 1409.45 Q166.607 1409.45 164.292 1409.01 Q162.001 1408.6 159.547 1407.74 L159.547 1403.23 Q161.491 1404.36 163.806 1404.94 Q166.121 1405.52 168.644 1405.52 Q173.042 1405.52 175.334 1403.78 Q177.649 1402.05 177.649 1398.74 Q177.649 1395.68 175.496 1393.97 Q173.366 1392.23 169.547 1392.23 L165.519 1392.23 L165.519 1388.39 L169.732 1388.39 Q173.181 1388.39 175.01 1387.02 Q176.839 1385.63 176.839 1383.04 Q176.839 1380.38 174.94 1378.97 Q173.065 1377.53 169.547 1377.53 Q167.626 1377.53 165.427 1377.95 Q163.228 1378.37 160.589 1379.25 L160.589 1375.08 Q163.251 1374.34 165.566 1373.97 Q167.903 1373.6 169.964 1373.6 Q175.288 1373.6 178.39 1376.03 Q181.491 1378.44 181.491 1382.56 Q181.491 1385.43 179.848 1387.42 Q178.204 1389.38 175.172 1390.15 Z\" fill=\"#000000\" fill-rule=\"evenodd\" fill-opacity=\"1\" /><path clip-path=\"url(#clip560)\" d=\"M 0 0 M127.209 1131.92 L156.885 1131.92 L156.885 1135.86 L127.209 1135.86 L127.209 1131.92 Z\" fill=\"#000000\" fill-rule=\"evenodd\" fill-opacity=\"1\" /><path clip-path=\"url(#clip560)\" d=\"M 0 0 M165.982 1144.82 L182.302 1144.82 L182.302 1148.75 L160.357 1148.75 L160.357 1144.82 Q163.019 1142.06 167.603 1137.43 Q172.209 1132.78 173.39 1131.44 Q175.635 1128.91 176.515 1127.18 Q177.417 1125.42 177.417 1123.73 Q177.417 1120.97 175.473 1119.24 Q173.552 1117.5 170.45 1117.5 Q168.251 1117.5 165.797 1118.27 Q163.366 1119.03 160.589 1120.58 L160.589 1115.86 Q163.413 1114.72 165.866 1114.14 Q168.32 1113.57 170.357 1113.57 Q175.727 1113.57 178.922 1116.25 Q182.116 1118.94 182.116 1123.43 Q182.116 1125.56 181.306 1127.48 Q180.519 1129.38 178.413 1131.97 Q177.834 1132.64 174.732 1135.86 Q171.63 1139.05 165.982 1144.82 Z\" fill=\"#000000\" fill-rule=\"evenodd\" fill-opacity=\"1\" /><path clip-path=\"url(#clip560)\" d=\"M 0 0 M126.839 871.891 L156.515 871.891 L156.515 875.826 L126.839 875.826 L126.839 871.891 Z\" fill=\"#000000\" fill-rule=\"evenodd\" fill-opacity=\"1\" /><path clip-path=\"url(#clip560)\" d=\"M 0 0 M162.394 884.784 L170.033 884.784 L170.033 858.419 L161.723 860.086 L161.723 855.826 L169.987 854.16 L174.663 854.16 L174.663 884.784 L182.302 884.784 L182.302 888.72 L162.394 888.72 L162.394 884.784 Z\" fill=\"#000000\" fill-rule=\"evenodd\" fill-opacity=\"1\" /><path clip-path=\"url(#clip560)\" d=\"M 0 0 M170.357 597.207 Q166.746 597.207 164.917 600.772 Q163.112 604.313 163.112 611.443 Q163.112 618.549 164.917 622.114 Q166.746 625.656 170.357 625.656 Q173.991 625.656 175.797 622.114 Q177.626 618.549 177.626 611.443 Q177.626 604.313 175.797 600.772 Q173.991 597.207 170.357 597.207 M170.357 593.503 Q176.167 593.503 179.223 598.11 Q182.302 602.693 182.302 611.443 Q182.302 620.17 179.223 624.776 Q176.167 629.36 170.357 629.36 Q164.547 629.36 161.468 624.776 Q158.413 620.17 158.413 611.443 Q158.413 602.693 161.468 598.11 Q164.547 593.503 170.357 593.503 Z\" fill=\"#000000\" fill-rule=\"evenodd\" fill-opacity=\"1\" /><path clip-path=\"url(#clip560)\" d=\"M 0 0 M162.394 364.722 L170.033 364.722 L170.033 338.356 L161.723 340.023 L161.723 335.763 L169.987 334.097 L174.663 334.097 L174.663 364.722 L182.302 364.722 L182.302 368.657 L162.394 368.657 L162.394 364.722 Z\" fill=\"#000000\" fill-rule=\"evenodd\" fill-opacity=\"1\" /><path clip-path=\"url(#clip560)\" d=\"M 0 0 M1101.69 35.9153 Q1104.49 30.8922 1108.38 28.5022 Q1112.27 26.1121 1117.53 26.1121 Q1124.62 26.1121 1128.47 31.0947 Q1132.32 36.0368 1132.32 45.1919 L1132.32 72.576 L1124.82 72.576 L1124.82 45.4349 Q1124.82 38.913 1122.52 35.7533 Q1120.21 32.5936 1115.47 32.5936 Q1109.67 32.5936 1106.31 36.4419 Q1102.95 40.2903 1102.95 46.9338 L1102.95 72.576 L1095.46 72.576 L1095.46 45.4349 Q1095.46 38.8725 1093.15 35.7533 Q1090.84 32.5936 1086.02 32.5936 Q1080.31 32.5936 1076.94 36.4824 Q1073.58 40.3308 1073.58 46.9338 L1073.58 72.576 L1066.09 72.576 L1066.09 27.2059 L1073.58 27.2059 L1073.58 34.2544 Q1076.13 30.082 1079.7 28.0971 Q1083.26 26.1121 1088.16 26.1121 Q1093.11 26.1121 1096.55 28.6237 Q1100.03 31.1352 1101.69 35.9153 Z\" fill=\"#000000\" fill-rule=\"evenodd\" fill-opacity=\"1\" /><path clip-path=\"url(#clip560)\" d=\"M 0 0 M1139.37 54.671 L1139.37 27.2059 L1146.82 27.2059 L1146.82 54.3874 Q1146.82 60.8284 1149.33 64.0691 Q1151.84 67.2693 1156.87 67.2693 Q1162.9 67.2693 1166.39 63.421 Q1169.91 59.5726 1169.91 52.9291 L1169.91 27.2059 L1177.36 27.2059 L1177.36 72.576 L1169.91 72.576 L1169.91 65.6084 Q1167.2 69.7404 1163.59 71.7658 Q1160.03 73.7508 1155.29 73.7508 Q1147.47 73.7508 1143.42 68.8897 Q1139.37 64.0286 1139.37 54.671 M1158.12 26.1121 L1158.12 26.1121 Z\" fill=\"#000000\" fill-rule=\"evenodd\" fill-opacity=\"1\" /><path clip-path=\"url(#clip560)\" d=\"M 0 0 M1212.53 34.9026 L1264.46 34.9026 L1264.46 41.7081 L1212.53 41.7081 L1212.53 34.9026 M1212.53 51.4303 L1264.46 51.4303 L1264.46 58.3168 L1212.53 58.3168 L1212.53 51.4303 Z\" fill=\"#000000\" fill-rule=\"evenodd\" fill-opacity=\"1\" /><path clip-path=\"url(#clip560)\" d=\"M 0 0 M1301.12 65.6895 L1314.49 65.6895 L1314.49 19.5497 L1299.95 22.4663 L1299.95 15.0127 L1314.41 12.096 L1322.59 12.096 L1322.59 65.6895 L1335.96 65.6895 L1335.96 72.576 L1301.12 72.576 L1301.12 65.6895 Z\" fill=\"#000000\" fill-rule=\"evenodd\" fill-opacity=\"1\" /><path clip-path=\"url(#clip560)\" d=\"M 0 0 M1344.83 62.2867 L1353.38 62.2867 L1353.38 72.576 L1344.83 72.576 L1344.83 62.2867 Z\" fill=\"#000000\" fill-rule=\"evenodd\" fill-opacity=\"1\" /><path clip-path=\"url(#clip560)\" d=\"M 0 0 M1379.75 17.4837 Q1373.43 17.4837 1370.23 23.7221 Q1367.07 29.92 1367.07 42.3968 Q1367.07 54.833 1370.23 61.0714 Q1373.43 67.2693 1379.75 67.2693 Q1386.11 67.2693 1389.27 61.0714 Q1392.47 54.833 1392.47 42.3968 Q1392.47 29.92 1389.27 23.7221 Q1386.11 17.4837 1379.75 17.4837 M1379.75 11.0023 Q1389.92 11.0023 1395.26 19.0636 Q1400.65 27.0843 1400.65 42.3968 Q1400.65 57.6687 1395.26 65.73 Q1389.92 73.7508 1379.75 73.7508 Q1369.58 73.7508 1364.19 65.73 Q1358.85 57.6687 1358.85 42.3968 Q1358.85 27.0843 1364.19 19.0636 Q1369.58 11.0023 1379.75 11.0023 Z\" fill=\"#000000\" fill-rule=\"evenodd\" fill-opacity=\"1\" /><path clip-path=\"url(#clip560)\" d=\"M 0 0 M1447.28 48.0275 L1447.28 51.6733 L1413.01 51.6733 Q1413.49 59.3701 1417.62 63.421 Q1421.8 67.4314 1429.21 67.4314 Q1433.5 67.4314 1437.51 66.3781 Q1441.56 65.3249 1445.53 63.2184 L1445.53 70.267 Q1441.52 71.9684 1437.31 72.8596 Q1433.1 73.7508 1428.76 73.7508 Q1417.91 73.7508 1411.55 67.4314 Q1405.23 61.1119 1405.23 50.3365 Q1405.23 39.1965 1411.22 32.6746 Q1417.26 26.1121 1427.47 26.1121 Q1436.62 26.1121 1441.93 32.0264 Q1447.28 37.9003 1447.28 48.0275 M1439.82 45.84 Q1439.74 39.7232 1436.38 36.0774 Q1433.06 32.4315 1427.55 32.4315 Q1421.31 32.4315 1417.54 35.9558 Q1413.82 39.4801 1413.25 45.8805 L1439.82 45.84 Z\" fill=\"#000000\" fill-rule=\"evenodd\" fill-opacity=\"1\" /><path clip-path=\"url(#clip560)\" d=\"M 0 0 M1454.08 12.096 L1492.97 12.096 L1492.97 15.5798 L1471.01 72.576 L1462.47 72.576 L1483.13 18.9825 L1454.08 18.9825 L1454.08 12.096 Z\" fill=\"#000000\" fill-rule=\"evenodd\" fill-opacity=\"1\" /><path clip-path=\"url(#clip560)\" d=\"M 0 0 M1112.3 1556.04 L1094.16 1508.52 L1100.88 1508.52 L1115.93 1548.53 L1131.02 1508.52 L1137.7 1508.52 L1119.59 1556.04 L1112.3 1556.04 Z\" fill=\"#000000\" fill-rule=\"evenodd\" fill-opacity=\"1\" /><path clip-path=\"url(#clip560)\" d=\"M 0 0 M1169.27 1536.76 L1169.27 1539.62 L1142.35 1539.62 Q1142.73 1545.67 1145.98 1548.85 Q1149.25 1552 1155.08 1552 Q1158.45 1552 1161.6 1551.17 Q1164.79 1550.35 1167.91 1548.69 L1167.91 1554.23 Q1164.76 1555.57 1161.44 1556.27 Q1158.13 1556.97 1154.73 1556.97 Q1146.2 1556.97 1141.2 1552 Q1136.24 1547.04 1136.24 1538.57 Q1136.24 1529.82 1140.95 1524.69 Q1145.69 1519.54 1153.71 1519.54 Q1160.9 1519.54 1165.07 1524.18 Q1169.27 1528.8 1169.27 1536.76 M1163.42 1535.04 Q1163.35 1530.23 1160.71 1527.37 Q1158.1 1524.5 1153.77 1524.5 Q1148.87 1524.5 1145.91 1527.27 Q1142.98 1530.04 1142.54 1535.07 L1163.42 1535.04 Z\" fill=\"#000000\" fill-rule=\"evenodd\" fill-opacity=\"1\" /><path clip-path=\"url(#clip560)\" d=\"M 0 0 M1201.07 1521.76 L1201.07 1527.24 Q1198.59 1525.87 1196.07 1525.2 Q1193.59 1524.5 1191.05 1524.5 Q1185.35 1524.5 1182.2 1528.13 Q1179.05 1531.73 1179.05 1538.25 Q1179.05 1544.78 1182.2 1548.4 Q1185.35 1552 1191.05 1552 Q1193.59 1552 1196.07 1551.33 Q1198.59 1550.63 1201.07 1549.26 L1201.07 1554.68 Q1198.62 1555.82 1195.98 1556.39 Q1193.37 1556.97 1190.41 1556.97 Q1182.36 1556.97 1177.61 1551.91 Q1172.87 1546.85 1172.87 1538.25 Q1172.87 1529.53 1177.65 1524.53 Q1182.45 1519.54 1190.79 1519.54 Q1193.5 1519.54 1196.07 1520.11 Q1198.65 1520.65 1201.07 1521.76 Z\" fill=\"#000000\" fill-rule=\"evenodd\" fill-opacity=\"1\" /><path clip-path=\"url(#clip560)\" d=\"M 0 0 M1213.01 1510.27 L1213.01 1520.4 L1225.07 1520.4 L1225.07 1524.95 L1213.01 1524.95 L1213.01 1544.3 Q1213.01 1548.66 1214.18 1549.9 Q1215.39 1551.14 1219.05 1551.14 L1225.07 1551.14 L1225.07 1556.04 L1219.05 1556.04 Q1212.28 1556.04 1209.7 1553.53 Q1207.12 1550.98 1207.12 1544.3 L1207.12 1524.95 L1202.82 1524.95 L1202.82 1520.4 L1207.12 1520.4 L1207.12 1510.27 L1213.01 1510.27 Z\" fill=\"#000000\" fill-rule=\"evenodd\" fill-opacity=\"1\" /><path clip-path=\"url(#clip560)\" d=\"M 0 0 M1245.03 1524.5 Q1240.32 1524.5 1237.58 1528.19 Q1234.84 1531.85 1234.84 1538.25 Q1234.84 1544.65 1237.55 1548.34 Q1240.28 1552 1245.03 1552 Q1249.71 1552 1252.44 1548.31 Q1255.18 1544.62 1255.18 1538.25 Q1255.18 1531.92 1252.44 1528.23 Q1249.71 1524.5 1245.03 1524.5 M1245.03 1519.54 Q1252.67 1519.54 1257.03 1524.5 Q1261.39 1529.47 1261.39 1538.25 Q1261.39 1547 1257.03 1552 Q1252.67 1556.97 1245.03 1556.97 Q1237.36 1556.97 1233 1552 Q1228.67 1547 1228.67 1538.25 Q1228.67 1529.47 1233 1524.5 Q1237.36 1519.54 1245.03 1519.54 Z\" fill=\"#000000\" fill-rule=\"evenodd\" fill-opacity=\"1\" /><path clip-path=\"url(#clip560)\" d=\"M 0 0 M1288.19 1525.87 Q1287.2 1525.3 1286.02 1525.04 Q1284.88 1524.76 1283.48 1524.76 Q1278.51 1524.76 1275.84 1528 Q1273.19 1531.22 1273.19 1537.27 L1273.19 1556.04 L1267.31 1556.04 L1267.31 1520.4 L1273.19 1520.4 L1273.19 1525.93 Q1275.04 1522.69 1278 1521.13 Q1280.96 1519.54 1285.19 1519.54 Q1285.8 1519.54 1286.53 1519.63 Q1287.26 1519.7 1288.15 1519.85 L1288.19 1525.87 Z\" fill=\"#000000\" fill-rule=\"evenodd\" fill-opacity=\"1\" /><path clip-path=\"url(#clip560)\" d=\"M 0 0 M1315.3 1508.52 L1321.73 1508.52 L1321.73 1556.04 L1315.3 1556.04 L1315.3 1508.52 Z\" fill=\"#000000\" fill-rule=\"evenodd\" fill-opacity=\"1\" /><path clip-path=\"url(#clip560)\" d=\"M 0 0 M1357.51 1534.53 L1357.51 1556.04 L1351.65 1556.04 L1351.65 1534.72 Q1351.65 1529.66 1349.68 1527.14 Q1347.71 1524.63 1343.76 1524.63 Q1339.02 1524.63 1336.28 1527.65 Q1333.54 1530.68 1333.54 1535.9 L1333.54 1556.04 L1327.65 1556.04 L1327.65 1520.4 L1333.54 1520.4 L1333.54 1525.93 Q1335.64 1522.72 1338.48 1521.13 Q1341.34 1519.54 1345.06 1519.54 Q1351.21 1519.54 1354.36 1523.36 Q1357.51 1527.14 1357.51 1534.53 Z\" fill=\"#000000\" fill-rule=\"evenodd\" fill-opacity=\"1\" /><path clip-path=\"url(#clip560)\" d=\"M 0 0 M1387.11 1525.81 L1387.11 1506.52 L1392.97 1506.52 L1392.97 1556.04 L1387.11 1556.04 L1387.11 1550.7 Q1385.26 1553.88 1382.43 1555.44 Q1379.63 1556.97 1375.68 1556.97 Q1369.22 1556.97 1365.15 1551.81 Q1361.11 1546.65 1361.11 1538.25 Q1361.11 1529.85 1365.15 1524.69 Q1369.22 1519.54 1375.68 1519.54 Q1379.63 1519.54 1382.43 1521.1 Q1385.26 1522.62 1387.11 1525.81 M1367.15 1538.25 Q1367.15 1544.71 1369.79 1548.4 Q1372.47 1552.07 1377.11 1552.07 Q1381.76 1552.07 1384.44 1548.4 Q1387.11 1544.71 1387.11 1538.25 Q1387.11 1531.79 1384.44 1528.13 Q1381.76 1524.44 1377.11 1524.44 Q1372.47 1524.44 1369.79 1528.13 Q1367.15 1531.79 1367.15 1538.25 Z\" fill=\"#000000\" fill-rule=\"evenodd\" fill-opacity=\"1\" /><path clip-path=\"url(#clip560)\" d=\"M 0 0 M1429.6 1536.76 L1429.6 1539.62 L1402.67 1539.62 Q1403.06 1545.67 1406.3 1548.85 Q1409.58 1552 1415.4 1552 Q1418.78 1552 1421.93 1551.17 Q1425.11 1550.35 1428.23 1548.69 L1428.23 1554.23 Q1425.08 1555.57 1421.77 1556.27 Q1418.46 1556.97 1415.05 1556.97 Q1406.52 1556.97 1401.53 1552 Q1396.56 1547.04 1396.56 1538.57 Q1396.56 1529.82 1401.27 1524.69 Q1406.02 1519.54 1414.04 1519.54 Q1421.23 1519.54 1425.4 1524.18 Q1429.6 1528.8 1429.6 1536.76 M1423.74 1535.04 Q1423.68 1530.23 1421.04 1527.37 Q1418.43 1524.5 1414.1 1524.5 Q1409.2 1524.5 1406.24 1527.27 Q1403.31 1530.04 1402.86 1535.07 L1423.74 1535.04 Z\" fill=\"#000000\" fill-rule=\"evenodd\" fill-opacity=\"1\" /><path clip-path=\"url(#clip560)\" d=\"M 0 0 M1464.23 1520.4 L1451.34 1537.74 L1464.9 1556.04 L1457.99 1556.04 L1447.62 1542.04 L1437.24 1556.04 L1430.33 1556.04 L1444.18 1537.39 L1431.51 1520.4 L1438.42 1520.4 L1447.87 1533.1 L1457.32 1520.4 L1464.23 1520.4 Z\" fill=\"#000000\" fill-rule=\"evenodd\" fill-opacity=\"1\" /><path clip-path=\"url(#clip560)\" d=\"M 0 0 M88.0042 833.45 L40.4842 851.592 L40.4842 844.877 L80.4926 829.822 L40.4842 814.735 L40.4842 808.051 L88.0042 826.161 L88.0042 833.45 Z\" fill=\"#000000\" fill-rule=\"evenodd\" fill-opacity=\"1\" /><path clip-path=\"url(#clip560)\" d=\"M 0 0 M70.0847 790.768 Q70.0847 797.866 71.7079 800.603 Q73.3312 803.34 77.2461 803.34 Q80.3653 803.34 82.2114 801.303 Q84.0256 799.234 84.0256 795.701 Q84.0256 790.832 80.5881 787.903 Q77.1188 784.943 71.3897 784.943 L70.0847 784.943 L70.0847 790.768 M67.6657 779.087 L88.0042 779.087 L88.0042 784.943 L82.5933 784.943 Q85.8398 786.949 87.3994 789.94 Q88.9272 792.932 88.9272 797.261 Q88.9272 802.736 85.8716 805.982 Q82.7843 809.197 77.6281 809.197 Q71.6125 809.197 68.5569 805.186 Q65.5014 801.144 65.5014 793.155 L65.5014 784.943 L64.9285 784.943 Q60.8862 784.943 58.6901 787.617 Q56.4621 790.259 56.4621 795.065 Q56.4621 798.12 57.1941 801.017 Q57.9262 803.913 59.3903 806.587 L53.9795 806.587 Q52.7381 803.372 52.1334 800.348 Q51.4968 797.325 51.4968 794.46 Q51.4968 786.726 55.5072 782.906 Q59.5176 779.087 67.6657 779.087 Z\" fill=\"#000000\" fill-rule=\"evenodd\" fill-opacity=\"1\" /><path clip-path=\"url(#clip560)\" d=\"M 0 0 M38.479 772.944 L38.479 767.088 L88.0042 767.088 L88.0042 772.944 L38.479 772.944 Z\" fill=\"#000000\" fill-rule=\"evenodd\" fill-opacity=\"1\" /><path clip-path=\"url(#clip560)\" d=\"M 0 0 M73.9359 761.549 L52.3562 761.549 L52.3562 755.693 L73.7131 755.693 Q78.7739 755.693 81.3202 753.72 Q83.8346 751.746 83.8346 747.8 Q83.8346 743.057 80.8109 740.32 Q77.7872 737.551 72.5673 737.551 L52.3562 737.551 L52.3562 731.694 L88.0042 731.694 L88.0042 737.551 L82.5296 737.551 Q85.7762 739.683 87.3676 742.516 Q88.9272 745.317 88.9272 749.041 Q88.9272 755.184 85.1078 758.367 Q81.2883 761.549 73.9359 761.549 M51.4968 746.813 L51.4968 746.813 Z\" fill=\"#000000\" fill-rule=\"evenodd\" fill-opacity=\"1\" /><path clip-path=\"url(#clip560)\" d=\"M 0 0 M68.7161 695.06 L71.5806 695.06 L71.5806 721.987 Q77.6281 721.605 80.8109 718.358 Q83.9619 715.08 83.9619 709.255 Q83.9619 705.881 83.1344 702.73 Q82.3069 699.547 80.6518 696.428 L86.1899 696.428 Q87.5267 699.579 88.227 702.889 Q88.9272 706.2 88.9272 709.605 Q88.9272 718.135 83.9619 723.132 Q78.9967 728.098 70.5303 728.098 Q61.7774 728.098 56.6531 723.387 Q51.4968 718.645 51.4968 710.624 Q51.4968 703.431 56.1438 699.261 Q60.7589 695.06 68.7161 695.06 M66.9973 700.916 Q62.1912 700.98 59.3266 703.621 Q56.4621 706.231 56.4621 710.56 Q56.4621 715.462 59.2312 718.422 Q62.0002 721.35 67.0292 721.796 L66.9973 700.916 Z\" fill=\"#000000\" fill-rule=\"evenodd\" fill-opacity=\"1\" /><polyline clip-path=\"url(#clip562)\" style=\"stroke:#009af9; stroke-width:12; stroke-opacity:1; fill:none\" stroke-dasharray=\"6, 12\" points=\"\n",
       "  267.05,1380.47 307.549,1340.88 348.049,1265.06 388.548,1254.7 429.047,1103.73 469.546,1120.63 510.045,995.852 550.544,913.029 591.043,787.381 631.542,859.097 \n",
       "  672.042,788.155 712.541,654.679 753.04,555.261 793.539,622.4 834.038,680.288 874.537,666.716 915.036,673.879 955.536,566.819 996.035,710.548 1036.53,650.38 \n",
       "  1077.03,714.244 1117.53,750.04 1158.03,658.252 1198.53,583.153 1239.03,727.8 1279.53,656.316 1320.03,564.493 1360.53,492.48 1401.03,559.992 1441.53,528.331 \n",
       "  1482.02,441.917 1522.52,575.872 1563.02,437.152 1603.52,472.97 1644.02,599.643 1684.52,545.425 1725.02,532.744 1765.52,619.541 1806.02,598.693 1846.52,649.819 \n",
       "  1887.02,648.226 1927.51,632.183 1968.01,657.852 2008.51,596.742 2049.01,496.654 2089.51,371.336 2130.01,413.021 2170.51,217.123 2211.01,308.126 2251.51,160.256 \n",
       "  2292.01,240.014 \n",
       "  \"/>\n",
       "<polyline clip-path=\"url(#clip562)\" style=\"stroke:#e26f46; stroke-width:4; stroke-opacity:1; fill:none\" points=\"\n",
       "  267.05,1386.4 307.549,1334.46 348.049,1278.66 388.548,1219.34 429.047,1147.95 469.546,1078.97 510.045,998.116 550.544,918.184 591.043,850.503 631.542,803.049 \n",
       "  672.042,742.771 712.541,673.047 753.04,626.754 793.539,624.832 834.038,641.749 874.537,650.393 915.036,648.701 955.536,645.222 996.035,664.866 1036.53,681.587 \n",
       "  1077.03,699.029 1117.53,700.554 1158.03,679.41 1198.53,661.013 1239.03,657.028 1279.53,628.508 1320.03,582.51 1360.53,544.165 1401.03,526.892 1441.53,510.517 \n",
       "  1482.02,496.38 1522.52,497.4 1563.02,491.093 1603.52,505.986 1644.02,535.54 1684.52,551.759 1725.02,568.314 1765.52,594.757 1806.02,617.521 1846.52,639.148 \n",
       "  1887.02,649.941 1927.51,647.14 1968.01,626.871 2008.51,575.538 2049.01,499.683 2089.51,419.628 2130.01,353.729 2170.51,288.952 2211.01,250.802 2251.51,218.096 \n",
       "  2292.01,206.908 \n",
       "  \"/>\n",
       "<path clip-path=\"url(#clip560)\" d=\"\n",
       "M2019.54 348.236 L2281.21 348.236 L2281.21 166.796 L2019.54 166.796  Z\n",
       "  \" fill=\"#ffffff\" fill-rule=\"evenodd\" fill-opacity=\"1\"/>\n",
       "<polyline clip-path=\"url(#clip560)\" style=\"stroke:#000000; stroke-width:4; stroke-opacity:1; fill:none\" points=\"\n",
       "  2019.54,348.236 2281.21,348.236 2281.21,166.796 2019.54,166.796 2019.54,348.236 \n",
       "  \"/>\n",
       "<polyline clip-path=\"url(#clip560)\" style=\"stroke:#009af9; stroke-width:4; stroke-opacity:1; fill:none\" stroke-dasharray=\"2, 4\" points=\"\n",
       "  2043.39,227.276 2186.49,227.276 \n",
       "  \"/>\n",
       "<path clip-path=\"url(#clip560)\" d=\"M 0 0 M2226.84 208.537 L2226.84 212.079 L2222.77 212.079 Q2220.48 212.079 2219.57 213.005 Q2218.69 213.931 2218.69 216.338 L2218.69 218.63 L2225.71 218.63 L2225.71 221.94 L2218.69 221.94 L2218.69 244.556 L2214.41 244.556 L2214.41 221.94 L2210.34 221.94 L2210.34 218.63 L2214.41 218.63 L2214.41 216.824 Q2214.41 212.496 2216.43 210.528 Q2218.44 208.537 2222.81 208.537 L2226.84 208.537 Z\" fill=\"#000000\" fill-rule=\"evenodd\" fill-opacity=\"1\" /><polyline clip-path=\"url(#clip560)\" style=\"stroke:#e26f46; stroke-width:4; stroke-opacity:1; fill:none\" points=\"\n",
       "  2043.39,287.756 2186.49,287.756 \n",
       "  \"/>\n",
       "<path clip-path=\"url(#clip560)\" d=\"M 0 0 M2229.25 291.772 Q2229.25 287.142 2227.33 284.596 Q2225.43 282.05 2221.98 282.05 Q2218.55 282.05 2216.63 284.596 Q2214.74 287.142 2214.74 291.772 Q2214.74 296.378 2216.63 298.925 Q2218.55 301.471 2221.98 301.471 Q2225.43 301.471 2227.33 298.925 Q2229.25 296.378 2229.25 291.772 M2233.51 301.818 Q2233.51 308.438 2230.57 311.656 Q2227.63 314.897 2221.56 314.897 Q2219.32 314.897 2217.33 314.55 Q2215.34 314.225 2213.46 313.531 L2213.46 309.388 Q2215.34 310.406 2217.17 310.892 Q2218.99 311.378 2220.89 311.378 Q2225.08 311.378 2227.17 309.179 Q2229.25 307.003 2229.25 302.582 L2229.25 300.476 Q2227.93 302.767 2225.87 303.901 Q2223.81 305.036 2220.94 305.036 Q2216.17 305.036 2213.25 301.401 Q2210.34 297.767 2210.34 291.772 Q2210.34 285.753 2213.25 282.119 Q2216.17 278.485 2220.94 278.485 Q2223.81 278.485 2225.87 279.619 Q2227.93 280.753 2229.25 283.045 L2229.25 279.11 L2233.51 279.11 L2233.51 301.818 Z\" fill=\"#000000\" fill-rule=\"evenodd\" fill-opacity=\"1\" /></svg>\n"
      ]
     },
     "metadata": {},
     "output_type": "display_data"
    },
    {
     "data": {
      "image/svg+xml": [
       "<?xml version=\"1.0\" encoding=\"utf-8\"?>\n",
       "<svg xmlns=\"http://www.w3.org/2000/svg\" xmlns:xlink=\"http://www.w3.org/1999/xlink\" width=\"600\" height=\"400\" viewBox=\"0 0 2400 1600\">\n",
       "<defs>\n",
       "  <clipPath id=\"clip600\">\n",
       "    <rect x=\"0\" y=\"0\" width=\"2400\" height=\"1600\"/>\n",
       "  </clipPath>\n",
       "</defs>\n",
       "<path clip-path=\"url(#clip600)\" d=\"\n",
       "M0 1600 L2400 1600 L2400 0 L0 0  Z\n",
       "  \" fill=\"#ffffff\" fill-rule=\"evenodd\" fill-opacity=\"1\"/>\n",
       "<defs>\n",
       "  <clipPath id=\"clip601\">\n",
       "    <rect x=\"480\" y=\"0\" width=\"1681\" height=\"1600\"/>\n",
       "  </clipPath>\n",
       "</defs>\n",
       "<path clip-path=\"url(#clip600)\" d=\"\n",
       "M206.302 1423.18 L2352.76 1423.18 L2352.76 123.472 L206.302 123.472  Z\n",
       "  \" fill=\"#ffffff\" fill-rule=\"evenodd\" fill-opacity=\"1\"/>\n",
       "<defs>\n",
       "  <clipPath id=\"clip602\">\n",
       "    <rect x=\"206\" y=\"123\" width=\"2147\" height=\"1301\"/>\n",
       "  </clipPath>\n",
       "</defs>\n",
       "<polyline clip-path=\"url(#clip602)\" style=\"stroke:#000000; stroke-width:2; stroke-opacity:0.1; fill:none\" points=\"\n",
       "  226.551,1423.18 226.551,123.472 \n",
       "  \"/>\n",
       "<polyline clip-path=\"url(#clip602)\" style=\"stroke:#000000; stroke-width:2; stroke-opacity:0.1; fill:none\" points=\"\n",
       "  631.542,1423.18 631.542,123.472 \n",
       "  \"/>\n",
       "<polyline clip-path=\"url(#clip602)\" style=\"stroke:#000000; stroke-width:2; stroke-opacity:0.1; fill:none\" points=\"\n",
       "  1036.53,1423.18 1036.53,123.472 \n",
       "  \"/>\n",
       "<polyline clip-path=\"url(#clip602)\" style=\"stroke:#000000; stroke-width:2; stroke-opacity:0.1; fill:none\" points=\"\n",
       "  1441.53,1423.18 1441.53,123.472 \n",
       "  \"/>\n",
       "<polyline clip-path=\"url(#clip602)\" style=\"stroke:#000000; stroke-width:2; stroke-opacity:0.1; fill:none\" points=\"\n",
       "  1846.52,1423.18 1846.52,123.472 \n",
       "  \"/>\n",
       "<polyline clip-path=\"url(#clip602)\" style=\"stroke:#000000; stroke-width:2; stroke-opacity:0.1; fill:none\" points=\"\n",
       "  2251.51,1423.18 2251.51,123.472 \n",
       "  \"/>\n",
       "<polyline clip-path=\"url(#clip602)\" style=\"stroke:#000000; stroke-width:2; stroke-opacity:0.1; fill:none\" points=\"\n",
       "  206.302,1397.49 2352.76,1397.49 \n",
       "  \"/>\n",
       "<polyline clip-path=\"url(#clip602)\" style=\"stroke:#000000; stroke-width:2; stroke-opacity:0.1; fill:none\" points=\"\n",
       "  206.302,1136.19 2352.76,1136.19 \n",
       "  \"/>\n",
       "<polyline clip-path=\"url(#clip602)\" style=\"stroke:#000000; stroke-width:2; stroke-opacity:0.1; fill:none\" points=\"\n",
       "  206.302,874.896 2352.76,874.896 \n",
       "  \"/>\n",
       "<polyline clip-path=\"url(#clip602)\" style=\"stroke:#000000; stroke-width:2; stroke-opacity:0.1; fill:none\" points=\"\n",
       "  206.302,613.601 2352.76,613.601 \n",
       "  \"/>\n",
       "<polyline clip-path=\"url(#clip602)\" style=\"stroke:#000000; stroke-width:2; stroke-opacity:0.1; fill:none\" points=\"\n",
       "  206.302,352.306 2352.76,352.306 \n",
       "  \"/>\n",
       "<polyline clip-path=\"url(#clip600)\" style=\"stroke:#000000; stroke-width:4; stroke-opacity:1; fill:none\" points=\"\n",
       "  206.302,1423.18 2352.76,1423.18 \n",
       "  \"/>\n",
       "<polyline clip-path=\"url(#clip600)\" style=\"stroke:#000000; stroke-width:4; stroke-opacity:1; fill:none\" points=\"\n",
       "  206.302,1423.18 206.302,123.472 \n",
       "  \"/>\n",
       "<polyline clip-path=\"url(#clip600)\" style=\"stroke:#000000; stroke-width:4; stroke-opacity:1; fill:none\" points=\"\n",
       "  226.551,1423.18 226.551,1407.58 \n",
       "  \"/>\n",
       "<polyline clip-path=\"url(#clip600)\" style=\"stroke:#000000; stroke-width:4; stroke-opacity:1; fill:none\" points=\"\n",
       "  631.542,1423.18 631.542,1407.58 \n",
       "  \"/>\n",
       "<polyline clip-path=\"url(#clip600)\" style=\"stroke:#000000; stroke-width:4; stroke-opacity:1; fill:none\" points=\"\n",
       "  1036.53,1423.18 1036.53,1407.58 \n",
       "  \"/>\n",
       "<polyline clip-path=\"url(#clip600)\" style=\"stroke:#000000; stroke-width:4; stroke-opacity:1; fill:none\" points=\"\n",
       "  1441.53,1423.18 1441.53,1407.58 \n",
       "  \"/>\n",
       "<polyline clip-path=\"url(#clip600)\" style=\"stroke:#000000; stroke-width:4; stroke-opacity:1; fill:none\" points=\"\n",
       "  1846.52,1423.18 1846.52,1407.58 \n",
       "  \"/>\n",
       "<polyline clip-path=\"url(#clip600)\" style=\"stroke:#000000; stroke-width:4; stroke-opacity:1; fill:none\" points=\"\n",
       "  2251.51,1423.18 2251.51,1407.58 \n",
       "  \"/>\n",
       "<polyline clip-path=\"url(#clip600)\" style=\"stroke:#000000; stroke-width:4; stroke-opacity:1; fill:none\" points=\"\n",
       "  206.302,1397.49 232.059,1397.49 \n",
       "  \"/>\n",
       "<polyline clip-path=\"url(#clip600)\" style=\"stroke:#000000; stroke-width:4; stroke-opacity:1; fill:none\" points=\"\n",
       "  206.302,1136.19 232.059,1136.19 \n",
       "  \"/>\n",
       "<polyline clip-path=\"url(#clip600)\" style=\"stroke:#000000; stroke-width:4; stroke-opacity:1; fill:none\" points=\"\n",
       "  206.302,874.896 232.059,874.896 \n",
       "  \"/>\n",
       "<polyline clip-path=\"url(#clip600)\" style=\"stroke:#000000; stroke-width:4; stroke-opacity:1; fill:none\" points=\"\n",
       "  206.302,613.601 232.059,613.601 \n",
       "  \"/>\n",
       "<polyline clip-path=\"url(#clip600)\" style=\"stroke:#000000; stroke-width:4; stroke-opacity:1; fill:none\" points=\"\n",
       "  206.302,352.306 232.059,352.306 \n",
       "  \"/>\n",
       "<path clip-path=\"url(#clip600)\" d=\"M 0 0 M226.551 1445.17 Q222.94 1445.17 221.111 1448.74 Q219.306 1452.28 219.306 1459.41 Q219.306 1466.51 221.111 1470.08 Q222.94 1473.62 226.551 1473.62 Q230.185 1473.62 231.991 1470.08 Q233.82 1466.51 233.82 1459.41 Q233.82 1452.28 231.991 1448.74 Q230.185 1445.17 226.551 1445.17 M226.551 1441.47 Q232.361 1441.47 235.417 1446.07 Q238.495 1450.66 238.495 1459.41 Q238.495 1468.13 235.417 1472.74 Q232.361 1477.32 226.551 1477.32 Q220.741 1477.32 217.662 1472.74 Q214.607 1468.13 214.607 1459.41 Q214.607 1450.66 217.662 1446.07 Q220.741 1441.47 226.551 1441.47 Z\" fill=\"#000000\" fill-rule=\"evenodd\" fill-opacity=\"1\" /><path clip-path=\"url(#clip600)\" d=\"M 0 0 M608.418 1472.72 L616.056 1472.72 L616.056 1446.35 L607.746 1448.02 L607.746 1443.76 L616.01 1442.09 L620.686 1442.09 L620.686 1472.72 L628.325 1472.72 L628.325 1476.65 L608.418 1476.65 L608.418 1472.72 Z\" fill=\"#000000\" fill-rule=\"evenodd\" fill-opacity=\"1\" /><path clip-path=\"url(#clip600)\" d=\"M 0 0 M643.394 1445.17 Q639.783 1445.17 637.954 1448.74 Q636.149 1452.28 636.149 1459.41 Q636.149 1466.51 637.954 1470.08 Q639.783 1473.62 643.394 1473.62 Q647.029 1473.62 648.834 1470.08 Q650.663 1466.51 650.663 1459.41 Q650.663 1452.28 648.834 1448.74 Q647.029 1445.17 643.394 1445.17 M643.394 1441.47 Q649.204 1441.47 652.26 1446.07 Q655.339 1450.66 655.339 1459.41 Q655.339 1468.13 652.26 1472.74 Q649.204 1477.32 643.394 1477.32 Q637.584 1477.32 634.505 1472.74 Q631.45 1468.13 631.45 1459.41 Q631.45 1450.66 634.505 1446.07 Q637.584 1441.47 643.394 1441.47 Z\" fill=\"#000000\" fill-rule=\"evenodd\" fill-opacity=\"1\" /><path clip-path=\"url(#clip600)\" d=\"M 0 0 M1017.68 1472.72 L1034 1472.72 L1034 1476.65 L1012.05 1476.65 L1012.05 1472.72 Q1014.72 1469.96 1019.3 1465.33 Q1023.91 1460.68 1025.09 1459.34 Q1027.33 1456.81 1028.21 1455.08 Q1029.11 1453.32 1029.11 1451.63 Q1029.11 1448.87 1027.17 1447.14 Q1025.25 1445.4 1022.15 1445.4 Q1019.95 1445.4 1017.49 1446.17 Q1015.06 1446.93 1012.29 1448.48 L1012.29 1443.76 Q1015.11 1442.62 1017.56 1442.05 Q1020.02 1441.47 1022.05 1441.47 Q1027.43 1441.47 1030.62 1444.15 Q1033.81 1446.84 1033.81 1451.33 Q1033.81 1453.46 1033 1455.38 Q1032.22 1457.28 1030.11 1459.87 Q1029.53 1460.54 1026.43 1463.76 Q1023.33 1466.95 1017.68 1472.72 Z\" fill=\"#000000\" fill-rule=\"evenodd\" fill-opacity=\"1\" /><path clip-path=\"url(#clip600)\" d=\"M 0 0 M1049.07 1445.17 Q1045.46 1445.17 1043.63 1448.74 Q1041.82 1452.28 1041.82 1459.41 Q1041.82 1466.51 1043.63 1470.08 Q1045.46 1473.62 1049.07 1473.62 Q1052.7 1473.62 1054.51 1470.08 Q1056.34 1466.51 1056.34 1459.41 Q1056.34 1452.28 1054.51 1448.74 Q1052.7 1445.17 1049.07 1445.17 M1049.07 1441.47 Q1054.88 1441.47 1057.93 1446.07 Q1061.01 1450.66 1061.01 1459.41 Q1061.01 1468.13 1057.93 1472.74 Q1054.88 1477.32 1049.07 1477.32 Q1043.26 1477.32 1040.18 1472.74 Q1037.12 1468.13 1037.12 1459.41 Q1037.12 1450.66 1040.18 1446.07 Q1043.26 1441.47 1049.07 1441.47 Z\" fill=\"#000000\" fill-rule=\"evenodd\" fill-opacity=\"1\" /><path clip-path=\"url(#clip600)\" d=\"M 0 0 M1432.27 1458.02 Q1435.62 1458.74 1437.5 1461 Q1439.4 1463.27 1439.4 1466.61 Q1439.4 1471.72 1435.88 1474.52 Q1432.36 1477.32 1425.88 1477.32 Q1423.7 1477.32 1421.39 1476.88 Q1419.09 1476.47 1416.64 1475.61 L1416.64 1471.1 Q1418.59 1472.23 1420.9 1472.81 Q1423.22 1473.39 1425.74 1473.39 Q1430.14 1473.39 1432.43 1471.65 Q1434.74 1469.92 1434.74 1466.61 Q1434.74 1463.55 1432.59 1461.84 Q1430.46 1460.1 1426.64 1460.1 L1422.61 1460.1 L1422.61 1456.26 L1426.83 1456.26 Q1430.28 1456.26 1432.1 1454.89 Q1433.93 1453.5 1433.93 1450.91 Q1433.93 1448.25 1432.03 1446.84 Q1430.16 1445.4 1426.64 1445.4 Q1424.72 1445.4 1422.52 1445.82 Q1420.32 1446.24 1417.68 1447.11 L1417.68 1442.95 Q1420.34 1442.21 1422.66 1441.84 Q1425 1441.47 1427.06 1441.47 Q1432.38 1441.47 1435.48 1443.9 Q1438.59 1446.3 1438.59 1450.43 Q1438.59 1453.3 1436.94 1455.29 Q1435.3 1457.25 1432.27 1458.02 Z\" fill=\"#000000\" fill-rule=\"evenodd\" fill-opacity=\"1\" /><path clip-path=\"url(#clip600)\" d=\"M 0 0 M1454.47 1445.17 Q1450.85 1445.17 1449.03 1448.74 Q1447.22 1452.28 1447.22 1459.41 Q1447.22 1466.51 1449.03 1470.08 Q1450.85 1473.62 1454.47 1473.62 Q1458.1 1473.62 1459.9 1470.08 Q1461.73 1466.51 1461.73 1459.41 Q1461.73 1452.28 1459.9 1448.74 Q1458.1 1445.17 1454.47 1445.17 M1454.47 1441.47 Q1460.28 1441.47 1463.33 1446.07 Q1466.41 1450.66 1466.41 1459.41 Q1466.41 1468.13 1463.33 1472.74 Q1460.28 1477.32 1454.47 1477.32 Q1448.65 1477.32 1445.58 1472.74 Q1442.52 1468.13 1442.52 1459.41 Q1442.52 1450.66 1445.58 1446.07 Q1448.65 1441.47 1454.47 1441.47 Z\" fill=\"#000000\" fill-rule=\"evenodd\" fill-opacity=\"1\" /><path clip-path=\"url(#clip600)\" d=\"M 0 0 M1836.02 1446.17 L1824.21 1464.61 L1836.02 1464.61 L1836.02 1446.17 M1834.79 1442.09 L1840.67 1442.09 L1840.67 1464.61 L1845.6 1464.61 L1845.6 1468.5 L1840.67 1468.5 L1840.67 1476.65 L1836.02 1476.65 L1836.02 1468.5 L1820.42 1468.5 L1820.42 1463.99 L1834.79 1442.09 Z\" fill=\"#000000\" fill-rule=\"evenodd\" fill-opacity=\"1\" /><path clip-path=\"url(#clip600)\" d=\"M 0 0 M1860.67 1445.17 Q1857.06 1445.17 1855.23 1448.74 Q1853.43 1452.28 1853.43 1459.41 Q1853.43 1466.51 1855.23 1470.08 Q1857.06 1473.62 1860.67 1473.62 Q1864.31 1473.62 1866.11 1470.08 Q1867.94 1466.51 1867.94 1459.41 Q1867.94 1452.28 1866.11 1448.74 Q1864.31 1445.17 1860.67 1445.17 M1860.67 1441.47 Q1866.48 1441.47 1869.54 1446.07 Q1872.62 1450.66 1872.62 1459.41 Q1872.62 1468.13 1869.54 1472.74 Q1866.48 1477.32 1860.67 1477.32 Q1854.86 1477.32 1851.78 1472.74 Q1848.73 1468.13 1848.73 1459.41 Q1848.73 1450.66 1851.78 1446.07 Q1854.86 1441.47 1860.67 1441.47 Z\" fill=\"#000000\" fill-rule=\"evenodd\" fill-opacity=\"1\" /><path clip-path=\"url(#clip600)\" d=\"M 0 0 M2228.28 1442.09 L2246.64 1442.09 L2246.64 1446.03 L2232.56 1446.03 L2232.56 1454.5 Q2233.58 1454.15 2234.6 1453.99 Q2235.62 1453.8 2236.64 1453.8 Q2242.42 1453.8 2245.8 1456.98 Q2249.18 1460.15 2249.18 1465.56 Q2249.18 1471.14 2245.71 1474.24 Q2242.24 1477.32 2235.92 1477.32 Q2233.74 1477.32 2231.47 1476.95 Q2229.23 1476.58 2226.82 1475.84 L2226.82 1471.14 Q2228.9 1472.28 2231.13 1472.83 Q2233.35 1473.39 2235.83 1473.39 Q2239.83 1473.39 2242.17 1471.28 Q2244.51 1469.18 2244.51 1465.56 Q2244.51 1461.95 2242.17 1459.85 Q2239.83 1457.74 2235.83 1457.74 Q2233.95 1457.74 2232.08 1458.16 Q2230.22 1458.57 2228.28 1459.45 L2228.28 1442.09 Z\" fill=\"#000000\" fill-rule=\"evenodd\" fill-opacity=\"1\" /><path clip-path=\"url(#clip600)\" d=\"M 0 0 M2264.25 1445.17 Q2260.64 1445.17 2258.81 1448.74 Q2257.01 1452.28 2257.01 1459.41 Q2257.01 1466.51 2258.81 1470.08 Q2260.64 1473.62 2264.25 1473.62 Q2267.89 1473.62 2269.69 1470.08 Q2271.52 1466.51 2271.52 1459.41 Q2271.52 1452.28 2269.69 1448.74 Q2267.89 1445.17 2264.25 1445.17 M2264.25 1441.47 Q2270.06 1441.47 2273.12 1446.07 Q2276.2 1450.66 2276.2 1459.41 Q2276.2 1468.13 2273.12 1472.74 Q2270.06 1477.32 2264.25 1477.32 Q2258.44 1477.32 2255.36 1472.74 Q2252.31 1468.13 2252.31 1459.41 Q2252.31 1450.66 2255.36 1446.07 Q2258.44 1441.47 2264.25 1441.47 Z\" fill=\"#000000\" fill-rule=\"evenodd\" fill-opacity=\"1\" /><path clip-path=\"url(#clip600)\" d=\"M 0 0 M126.26 1397.94 L155.936 1397.94 L155.936 1401.87 L126.26 1401.87 L126.26 1397.94 Z\" fill=\"#000000\" fill-rule=\"evenodd\" fill-opacity=\"1\" /><path clip-path=\"url(#clip600)\" d=\"M 0 0 M175.172 1396.13 Q178.528 1396.85 180.403 1399.12 Q182.302 1401.39 182.302 1404.72 Q182.302 1409.84 178.783 1412.64 Q175.265 1415.44 168.783 1415.44 Q166.607 1415.44 164.292 1415 Q162.001 1414.58 159.547 1413.72 L159.547 1409.21 Q161.491 1410.35 163.806 1410.92 Q166.121 1411.5 168.644 1411.5 Q173.042 1411.5 175.334 1409.77 Q177.649 1408.03 177.649 1404.72 Q177.649 1401.66 175.496 1399.95 Q173.366 1398.22 169.547 1398.22 L165.519 1398.22 L165.519 1394.37 L169.732 1394.37 Q173.181 1394.37 175.01 1393.01 Q176.839 1391.62 176.839 1389.03 Q176.839 1386.36 174.94 1384.95 Q173.065 1383.52 169.547 1383.52 Q167.626 1383.52 165.427 1383.93 Q163.228 1384.35 160.589 1385.23 L160.589 1381.06 Q163.251 1380.32 165.566 1379.95 Q167.903 1379.58 169.964 1379.58 Q175.288 1379.58 178.39 1382.01 Q181.491 1384.42 181.491 1388.54 Q181.491 1391.41 179.848 1393.4 Q178.204 1395.37 175.172 1396.13 Z\" fill=\"#000000\" fill-rule=\"evenodd\" fill-opacity=\"1\" /><path clip-path=\"url(#clip600)\" d=\"M 0 0 M127.209 1136.64 L156.885 1136.64 L156.885 1140.58 L127.209 1140.58 L127.209 1136.64 Z\" fill=\"#000000\" fill-rule=\"evenodd\" fill-opacity=\"1\" /><path clip-path=\"url(#clip600)\" d=\"M 0 0 M165.982 1149.54 L182.302 1149.54 L182.302 1153.47 L160.357 1153.47 L160.357 1149.54 Q163.019 1146.78 167.603 1142.15 Q172.209 1137.5 173.39 1136.16 Q175.635 1133.63 176.515 1131.9 Q177.417 1130.14 177.417 1128.45 Q177.417 1125.69 175.473 1123.96 Q173.552 1122.22 170.45 1122.22 Q168.251 1122.22 165.797 1122.99 Q163.366 1123.75 160.589 1125.3 L160.589 1120.58 Q163.413 1119.44 165.866 1118.86 Q168.32 1118.29 170.357 1118.29 Q175.727 1118.29 178.922 1120.97 Q182.116 1123.66 182.116 1128.15 Q182.116 1130.28 181.306 1132.2 Q180.519 1134.1 178.413 1136.69 Q177.834 1137.36 174.732 1140.58 Q171.63 1143.77 165.982 1149.54 Z\" fill=\"#000000\" fill-rule=\"evenodd\" fill-opacity=\"1\" /><path clip-path=\"url(#clip600)\" d=\"M 0 0 M126.839 875.347 L156.515 875.347 L156.515 879.283 L126.839 879.283 L126.839 875.347 Z\" fill=\"#000000\" fill-rule=\"evenodd\" fill-opacity=\"1\" /><path clip-path=\"url(#clip600)\" d=\"M 0 0 M162.394 888.241 L170.033 888.241 L170.033 861.875 L161.723 863.542 L161.723 859.283 L169.987 857.616 L174.663 857.616 L174.663 888.241 L182.302 888.241 L182.302 892.176 L162.394 892.176 L162.394 888.241 Z\" fill=\"#000000\" fill-rule=\"evenodd\" fill-opacity=\"1\" /><path clip-path=\"url(#clip600)\" d=\"M 0 0 M170.357 599.4 Q166.746 599.4 164.917 602.964 Q163.112 606.506 163.112 613.636 Q163.112 620.742 164.917 624.307 Q166.746 627.848 170.357 627.848 Q173.991 627.848 175.797 624.307 Q177.626 620.742 177.626 613.636 Q177.626 606.506 175.797 602.964 Q173.991 599.4 170.357 599.4 M170.357 595.696 Q176.167 595.696 179.223 600.302 Q182.302 604.886 182.302 613.636 Q182.302 622.362 179.223 626.969 Q176.167 631.552 170.357 631.552 Q164.547 631.552 161.468 626.969 Q158.413 622.362 158.413 613.636 Q158.413 604.886 161.468 600.302 Q164.547 595.696 170.357 595.696 Z\" fill=\"#000000\" fill-rule=\"evenodd\" fill-opacity=\"1\" /><path clip-path=\"url(#clip600)\" d=\"M 0 0 M162.394 365.65 L170.033 365.65 L170.033 339.285 L161.723 340.952 L161.723 336.692 L169.987 335.026 L174.663 335.026 L174.663 365.65 L182.302 365.65 L182.302 369.586 L162.394 369.586 L162.394 365.65 Z\" fill=\"#000000\" fill-rule=\"evenodd\" fill-opacity=\"1\" /><path clip-path=\"url(#clip600)\" d=\"M 0 0 M1079.41 35.9153 Q1082.21 30.8922 1086.1 28.5022 Q1089.99 26.1121 1095.25 26.1121 Q1102.34 26.1121 1106.19 31.0947 Q1110.04 36.0368 1110.04 45.1919 L1110.04 72.576 L1102.54 72.576 L1102.54 45.4349 Q1102.54 38.913 1100.24 35.7533 Q1097.93 32.5936 1093.19 32.5936 Q1087.39 32.5936 1084.03 36.4419 Q1080.67 40.2903 1080.67 46.9338 L1080.67 72.576 L1073.18 72.576 L1073.18 45.4349 Q1073.18 38.8725 1070.87 35.7533 Q1068.56 32.5936 1063.74 32.5936 Q1058.03 32.5936 1054.66 36.4824 Q1051.3 40.3308 1051.3 46.9338 L1051.3 72.576 L1043.81 72.576 L1043.81 27.2059 L1051.3 27.2059 L1051.3 34.2544 Q1053.85 30.082 1057.42 28.0971 Q1060.98 26.1121 1065.88 26.1121 Q1070.83 26.1121 1074.27 28.6237 Q1077.75 31.1352 1079.41 35.9153 Z\" fill=\"#000000\" fill-rule=\"evenodd\" fill-opacity=\"1\" /><path clip-path=\"url(#clip600)\" d=\"M 0 0 M1117.09 54.671 L1117.09 27.2059 L1124.54 27.2059 L1124.54 54.3874 Q1124.54 60.8284 1127.05 64.0691 Q1129.56 67.2693 1134.59 67.2693 Q1140.62 67.2693 1144.11 63.421 Q1147.63 59.5726 1147.63 52.9291 L1147.63 27.2059 L1155.08 27.2059 L1155.08 72.576 L1147.63 72.576 L1147.63 65.6084 Q1144.92 69.7404 1141.31 71.7658 Q1137.75 73.7508 1133.01 73.7508 Q1125.19 73.7508 1121.14 68.8897 Q1117.09 64.0286 1117.09 54.671 M1135.84 26.1121 L1135.84 26.1121 Z\" fill=\"#000000\" fill-rule=\"evenodd\" fill-opacity=\"1\" /><path clip-path=\"url(#clip600)\" d=\"M 0 0 M1190.25 34.9026 L1242.18 34.9026 L1242.18 41.7081 L1190.25 41.7081 L1190.25 34.9026 M1190.25 51.4303 L1242.18 51.4303 L1242.18 58.3168 L1190.25 58.3168 L1190.25 51.4303 Z\" fill=\"#000000\" fill-rule=\"evenodd\" fill-opacity=\"1\" /><path clip-path=\"url(#clip600)\" d=\"M 0 0 M1278.84 65.6895 L1292.21 65.6895 L1292.21 19.5497 L1277.67 22.4663 L1277.67 15.0127 L1292.13 12.096 L1300.31 12.096 L1300.31 65.6895 L1313.68 65.6895 L1313.68 72.576 L1278.84 72.576 L1278.84 65.6895 Z\" fill=\"#000000\" fill-rule=\"evenodd\" fill-opacity=\"1\" /><path clip-path=\"url(#clip600)\" d=\"M 0 0 M1322.55 62.2867 L1331.1 62.2867 L1331.1 72.576 L1322.55 72.576 L1322.55 62.2867 Z\" fill=\"#000000\" fill-rule=\"evenodd\" fill-opacity=\"1\" /><path clip-path=\"url(#clip600)\" d=\"M 0 0 M1357.47 17.4837 Q1351.15 17.4837 1347.95 23.7221 Q1344.79 29.92 1344.79 42.3968 Q1344.79 54.833 1347.95 61.0714 Q1351.15 67.2693 1357.47 67.2693 Q1363.83 67.2693 1366.99 61.0714 Q1370.19 54.833 1370.19 42.3968 Q1370.19 29.92 1366.99 23.7221 Q1363.83 17.4837 1357.47 17.4837 M1357.47 11.0023 Q1367.64 11.0023 1372.98 19.0636 Q1378.37 27.0843 1378.37 42.3968 Q1378.37 57.6687 1372.98 65.73 Q1367.64 73.7508 1357.47 73.7508 Q1347.3 73.7508 1341.91 65.73 Q1336.57 57.6687 1336.57 42.3968 Q1336.57 27.0843 1341.91 19.0636 Q1347.3 11.0023 1357.47 11.0023 Z\" fill=\"#000000\" fill-rule=\"evenodd\" fill-opacity=\"1\" /><path clip-path=\"url(#clip600)\" d=\"M 0 0 M1425 48.0275 L1425 51.6733 L1390.73 51.6733 Q1391.21 59.3701 1395.34 63.421 Q1399.52 67.4314 1406.93 67.4314 Q1411.22 67.4314 1415.23 66.3781 Q1419.28 65.3249 1423.25 63.2184 L1423.25 70.267 Q1419.24 71.9684 1415.03 72.8596 Q1410.82 73.7508 1406.48 73.7508 Q1395.63 73.7508 1389.27 67.4314 Q1382.95 61.1119 1382.95 50.3365 Q1382.95 39.1965 1388.94 32.6746 Q1394.98 26.1121 1405.19 26.1121 Q1414.34 26.1121 1419.65 32.0264 Q1425 37.9003 1425 48.0275 M1417.54 45.84 Q1417.46 39.7232 1414.1 36.0774 Q1410.78 32.4315 1405.27 32.4315 Q1399.03 32.4315 1395.26 35.9558 Q1391.54 39.4801 1390.97 45.8805 L1417.54 45.84 Z\" fill=\"#000000\" fill-rule=\"evenodd\" fill-opacity=\"1\" /><path clip-path=\"url(#clip600)\" d=\"M 0 0 M1435.29 65.6895 L1448.65 65.6895 L1448.65 19.5497 L1434.11 22.4663 L1434.11 15.0127 L1448.57 12.096 L1456.76 12.096 L1456.76 65.6895 L1470.12 65.6895 L1470.12 72.576 L1435.29 72.576 L1435.29 65.6895 Z\" fill=\"#000000\" fill-rule=\"evenodd\" fill-opacity=\"1\" /><path clip-path=\"url(#clip600)\" d=\"M 0 0 M1480.41 65.6895 L1493.78 65.6895 L1493.78 19.5497 L1479.24 22.4663 L1479.24 15.0127 L1493.7 12.096 L1501.88 12.096 L1501.88 65.6895 L1515.25 65.6895 L1515.25 72.576 L1480.41 72.576 L1480.41 65.6895 Z\" fill=\"#000000\" fill-rule=\"evenodd\" fill-opacity=\"1\" /><path clip-path=\"url(#clip600)\" d=\"M 0 0 M1112.3 1556.04 L1094.16 1508.52 L1100.88 1508.52 L1115.93 1548.53 L1131.02 1508.52 L1137.7 1508.52 L1119.59 1556.04 L1112.3 1556.04 Z\" fill=\"#000000\" fill-rule=\"evenodd\" fill-opacity=\"1\" /><path clip-path=\"url(#clip600)\" d=\"M 0 0 M1169.27 1536.76 L1169.27 1539.62 L1142.35 1539.62 Q1142.73 1545.67 1145.98 1548.85 Q1149.25 1552 1155.08 1552 Q1158.45 1552 1161.6 1551.17 Q1164.79 1550.35 1167.91 1548.69 L1167.91 1554.23 Q1164.76 1555.57 1161.44 1556.27 Q1158.13 1556.97 1154.73 1556.97 Q1146.2 1556.97 1141.2 1552 Q1136.24 1547.04 1136.24 1538.57 Q1136.24 1529.82 1140.95 1524.69 Q1145.69 1519.54 1153.71 1519.54 Q1160.9 1519.54 1165.07 1524.18 Q1169.27 1528.8 1169.27 1536.76 M1163.42 1535.04 Q1163.35 1530.23 1160.71 1527.37 Q1158.1 1524.5 1153.77 1524.5 Q1148.87 1524.5 1145.91 1527.27 Q1142.98 1530.04 1142.54 1535.07 L1163.42 1535.04 Z\" fill=\"#000000\" fill-rule=\"evenodd\" fill-opacity=\"1\" /><path clip-path=\"url(#clip600)\" d=\"M 0 0 M1201.07 1521.76 L1201.07 1527.24 Q1198.59 1525.87 1196.07 1525.2 Q1193.59 1524.5 1191.05 1524.5 Q1185.35 1524.5 1182.2 1528.13 Q1179.05 1531.73 1179.05 1538.25 Q1179.05 1544.78 1182.2 1548.4 Q1185.35 1552 1191.05 1552 Q1193.59 1552 1196.07 1551.33 Q1198.59 1550.63 1201.07 1549.26 L1201.07 1554.68 Q1198.62 1555.82 1195.98 1556.39 Q1193.37 1556.97 1190.41 1556.97 Q1182.36 1556.97 1177.61 1551.91 Q1172.87 1546.85 1172.87 1538.25 Q1172.87 1529.53 1177.65 1524.53 Q1182.45 1519.54 1190.79 1519.54 Q1193.5 1519.54 1196.07 1520.11 Q1198.65 1520.65 1201.07 1521.76 Z\" fill=\"#000000\" fill-rule=\"evenodd\" fill-opacity=\"1\" /><path clip-path=\"url(#clip600)\" d=\"M 0 0 M1213.01 1510.27 L1213.01 1520.4 L1225.07 1520.4 L1225.07 1524.95 L1213.01 1524.95 L1213.01 1544.3 Q1213.01 1548.66 1214.18 1549.9 Q1215.39 1551.14 1219.05 1551.14 L1225.07 1551.14 L1225.07 1556.04 L1219.05 1556.04 Q1212.28 1556.04 1209.7 1553.53 Q1207.12 1550.98 1207.12 1544.3 L1207.12 1524.95 L1202.82 1524.95 L1202.82 1520.4 L1207.12 1520.4 L1207.12 1510.27 L1213.01 1510.27 Z\" fill=\"#000000\" fill-rule=\"evenodd\" fill-opacity=\"1\" /><path clip-path=\"url(#clip600)\" d=\"M 0 0 M1245.03 1524.5 Q1240.32 1524.5 1237.58 1528.19 Q1234.84 1531.85 1234.84 1538.25 Q1234.84 1544.65 1237.55 1548.34 Q1240.28 1552 1245.03 1552 Q1249.71 1552 1252.44 1548.31 Q1255.18 1544.62 1255.18 1538.25 Q1255.18 1531.92 1252.44 1528.23 Q1249.71 1524.5 1245.03 1524.5 M1245.03 1519.54 Q1252.67 1519.54 1257.03 1524.5 Q1261.39 1529.47 1261.39 1538.25 Q1261.39 1547 1257.03 1552 Q1252.67 1556.97 1245.03 1556.97 Q1237.36 1556.97 1233 1552 Q1228.67 1547 1228.67 1538.25 Q1228.67 1529.47 1233 1524.5 Q1237.36 1519.54 1245.03 1519.54 Z\" fill=\"#000000\" fill-rule=\"evenodd\" fill-opacity=\"1\" /><path clip-path=\"url(#clip600)\" d=\"M 0 0 M1288.19 1525.87 Q1287.2 1525.3 1286.02 1525.04 Q1284.88 1524.76 1283.48 1524.76 Q1278.51 1524.76 1275.84 1528 Q1273.19 1531.22 1273.19 1537.27 L1273.19 1556.04 L1267.31 1556.04 L1267.31 1520.4 L1273.19 1520.4 L1273.19 1525.93 Q1275.04 1522.69 1278 1521.13 Q1280.96 1519.54 1285.19 1519.54 Q1285.8 1519.54 1286.53 1519.63 Q1287.26 1519.7 1288.15 1519.85 L1288.19 1525.87 Z\" fill=\"#000000\" fill-rule=\"evenodd\" fill-opacity=\"1\" /><path clip-path=\"url(#clip600)\" d=\"M 0 0 M1315.3 1508.52 L1321.73 1508.52 L1321.73 1556.04 L1315.3 1556.04 L1315.3 1508.52 Z\" fill=\"#000000\" fill-rule=\"evenodd\" fill-opacity=\"1\" /><path clip-path=\"url(#clip600)\" d=\"M 0 0 M1357.51 1534.53 L1357.51 1556.04 L1351.65 1556.04 L1351.65 1534.72 Q1351.65 1529.66 1349.68 1527.14 Q1347.71 1524.63 1343.76 1524.63 Q1339.02 1524.63 1336.28 1527.65 Q1333.54 1530.68 1333.54 1535.9 L1333.54 1556.04 L1327.65 1556.04 L1327.65 1520.4 L1333.54 1520.4 L1333.54 1525.93 Q1335.64 1522.72 1338.48 1521.13 Q1341.34 1519.54 1345.06 1519.54 Q1351.21 1519.54 1354.36 1523.36 Q1357.51 1527.14 1357.51 1534.53 Z\" fill=\"#000000\" fill-rule=\"evenodd\" fill-opacity=\"1\" /><path clip-path=\"url(#clip600)\" d=\"M 0 0 M1387.11 1525.81 L1387.11 1506.52 L1392.97 1506.52 L1392.97 1556.04 L1387.11 1556.04 L1387.11 1550.7 Q1385.26 1553.88 1382.43 1555.44 Q1379.63 1556.97 1375.68 1556.97 Q1369.22 1556.97 1365.15 1551.81 Q1361.11 1546.65 1361.11 1538.25 Q1361.11 1529.85 1365.15 1524.69 Q1369.22 1519.54 1375.68 1519.54 Q1379.63 1519.54 1382.43 1521.1 Q1385.26 1522.62 1387.11 1525.81 M1367.15 1538.25 Q1367.15 1544.71 1369.79 1548.4 Q1372.47 1552.07 1377.11 1552.07 Q1381.76 1552.07 1384.44 1548.4 Q1387.11 1544.71 1387.11 1538.25 Q1387.11 1531.79 1384.44 1528.13 Q1381.76 1524.44 1377.11 1524.44 Q1372.47 1524.44 1369.79 1528.13 Q1367.15 1531.79 1367.15 1538.25 Z\" fill=\"#000000\" fill-rule=\"evenodd\" fill-opacity=\"1\" /><path clip-path=\"url(#clip600)\" d=\"M 0 0 M1429.6 1536.76 L1429.6 1539.62 L1402.67 1539.62 Q1403.06 1545.67 1406.3 1548.85 Q1409.58 1552 1415.4 1552 Q1418.78 1552 1421.93 1551.17 Q1425.11 1550.35 1428.23 1548.69 L1428.23 1554.23 Q1425.08 1555.57 1421.77 1556.27 Q1418.46 1556.97 1415.05 1556.97 Q1406.52 1556.97 1401.53 1552 Q1396.56 1547.04 1396.56 1538.57 Q1396.56 1529.82 1401.27 1524.69 Q1406.02 1519.54 1414.04 1519.54 Q1421.23 1519.54 1425.4 1524.18 Q1429.6 1528.8 1429.6 1536.76 M1423.74 1535.04 Q1423.68 1530.23 1421.04 1527.37 Q1418.43 1524.5 1414.1 1524.5 Q1409.2 1524.5 1406.24 1527.27 Q1403.31 1530.04 1402.86 1535.07 L1423.74 1535.04 Z\" fill=\"#000000\" fill-rule=\"evenodd\" fill-opacity=\"1\" /><path clip-path=\"url(#clip600)\" d=\"M 0 0 M1464.23 1520.4 L1451.34 1537.74 L1464.9 1556.04 L1457.99 1556.04 L1447.62 1542.04 L1437.24 1556.04 L1430.33 1556.04 L1444.18 1537.39 L1431.51 1520.4 L1438.42 1520.4 L1447.87 1533.1 L1457.32 1520.4 L1464.23 1520.4 Z\" fill=\"#000000\" fill-rule=\"evenodd\" fill-opacity=\"1\" /><path clip-path=\"url(#clip600)\" d=\"M 0 0 M88.0042 833.45 L40.4842 851.592 L40.4842 844.877 L80.4926 829.822 L40.4842 814.735 L40.4842 808.051 L88.0042 826.161 L88.0042 833.45 Z\" fill=\"#000000\" fill-rule=\"evenodd\" fill-opacity=\"1\" /><path clip-path=\"url(#clip600)\" d=\"M 0 0 M70.0847 790.768 Q70.0847 797.866 71.7079 800.603 Q73.3312 803.34 77.2461 803.34 Q80.3653 803.34 82.2114 801.303 Q84.0256 799.234 84.0256 795.701 Q84.0256 790.832 80.5881 787.903 Q77.1188 784.943 71.3897 784.943 L70.0847 784.943 L70.0847 790.768 M67.6657 779.087 L88.0042 779.087 L88.0042 784.943 L82.5933 784.943 Q85.8398 786.949 87.3994 789.94 Q88.9272 792.932 88.9272 797.261 Q88.9272 802.736 85.8716 805.982 Q82.7843 809.197 77.6281 809.197 Q71.6125 809.197 68.5569 805.186 Q65.5014 801.144 65.5014 793.155 L65.5014 784.943 L64.9285 784.943 Q60.8862 784.943 58.6901 787.617 Q56.4621 790.259 56.4621 795.065 Q56.4621 798.12 57.1941 801.017 Q57.9262 803.913 59.3903 806.587 L53.9795 806.587 Q52.7381 803.372 52.1334 800.348 Q51.4968 797.325 51.4968 794.46 Q51.4968 786.726 55.5072 782.906 Q59.5176 779.087 67.6657 779.087 Z\" fill=\"#000000\" fill-rule=\"evenodd\" fill-opacity=\"1\" /><path clip-path=\"url(#clip600)\" d=\"M 0 0 M38.479 772.944 L38.479 767.088 L88.0042 767.088 L88.0042 772.944 L38.479 772.944 Z\" fill=\"#000000\" fill-rule=\"evenodd\" fill-opacity=\"1\" /><path clip-path=\"url(#clip600)\" d=\"M 0 0 M73.9359 761.549 L52.3562 761.549 L52.3562 755.693 L73.7131 755.693 Q78.7739 755.693 81.3202 753.72 Q83.8346 751.746 83.8346 747.8 Q83.8346 743.057 80.8109 740.32 Q77.7872 737.551 72.5673 737.551 L52.3562 737.551 L52.3562 731.694 L88.0042 731.694 L88.0042 737.551 L82.5296 737.551 Q85.7762 739.683 87.3676 742.516 Q88.9272 745.317 88.9272 749.041 Q88.9272 755.184 85.1078 758.367 Q81.2883 761.549 73.9359 761.549 M51.4968 746.813 L51.4968 746.813 Z\" fill=\"#000000\" fill-rule=\"evenodd\" fill-opacity=\"1\" /><path clip-path=\"url(#clip600)\" d=\"M 0 0 M68.7161 695.06 L71.5806 695.06 L71.5806 721.987 Q77.6281 721.605 80.8109 718.358 Q83.9619 715.08 83.9619 709.255 Q83.9619 705.881 83.1344 702.73 Q82.3069 699.547 80.6518 696.428 L86.1899 696.428 Q87.5267 699.579 88.227 702.889 Q88.9272 706.2 88.9272 709.605 Q88.9272 718.135 83.9619 723.132 Q78.9967 728.098 70.5303 728.098 Q61.7774 728.098 56.6531 723.387 Q51.4968 718.645 51.4968 710.624 Q51.4968 703.431 56.1438 699.261 Q60.7589 695.06 68.7161 695.06 M66.9973 700.916 Q62.1912 700.98 59.3266 703.621 Q56.4621 706.231 56.4621 710.56 Q56.4621 715.462 59.2312 718.422 Q62.0002 721.35 67.0292 721.796 L66.9973 700.916 Z\" fill=\"#000000\" fill-rule=\"evenodd\" fill-opacity=\"1\" /><polyline clip-path=\"url(#clip602)\" style=\"stroke:#009af9; stroke-width:12; stroke-opacity:1; fill:none\" stroke-dasharray=\"6, 12\" points=\"\n",
       "  267.05,1386.4 307.549,1346.62 348.049,1270.43 388.548,1260.02 429.047,1108.32 469.546,1125.3 510.045,999.913 550.544,916.688 591.043,790.428 631.542,862.494 \n",
       "  672.042,791.207 712.541,657.082 753.04,557.181 793.539,624.646 834.038,682.815 874.537,669.177 915.036,676.376 955.536,568.795 996.035,713.222 1036.53,652.762 \n",
       "  1077.03,716.937 1117.53,752.906 1158.03,660.672 1198.53,585.208 1239.03,730.558 1279.53,658.726 1320.03,566.458 1360.53,494.095 1401.03,561.935 1441.53,530.12 \n",
       "  1482.02,443.286 1522.52,577.892 1563.02,438.498 1603.52,474.49 1644.02,601.779 1684.52,547.297 1725.02,534.554 1765.52,621.773 1806.02,600.823 1846.52,652.198 \n",
       "  1887.02,650.598 1927.51,634.477 1968.01,660.271 2008.51,598.864 2049.01,498.289 2089.51,372.361 2130.01,414.25 2170.51,217.399 2211.01,308.844 2251.51,160.256 \n",
       "  2292.01,240.402 \n",
       "  \"/>\n",
       "<polyline clip-path=\"url(#clip602)\" style=\"stroke:#e26f46; stroke-width:4; stroke-opacity:1; fill:none\" points=\"\n",
       "  267.05,1124.49 307.549,1100.16 348.049,1075.85 388.548,1051.59 429.047,1027.43 469.546,1003.42 510.045,979.627 550.544,956.129 591.043,932.996 631.542,910.3 \n",
       "  672.042,888.102 712.541,866.462 753.04,845.433 793.539,825.052 834.038,805.34 874.537,786.304 915.036,767.944 955.536,750.25 996.035,733.209 1036.53,716.795 \n",
       "  1077.03,700.979 1117.53,685.73 1158.03,671.018 1198.53,656.816 1239.03,643.098 1279.53,629.831 1320.03,616.99 1360.53,604.551 1401.03,592.487 1441.53,580.762 \n",
       "  1482.02,569.342 1522.52,558.185 1563.02,547.244 1603.52,536.472 1644.02,525.816 1684.52,515.218 1725.02,504.624 1765.52,493.985 1806.02,483.251 1846.52,472.382 \n",
       "  1887.02,461.345 1927.51,450.118 1968.01,438.694 2008.51,427.075 2049.01,415.278 2089.51,403.333 2130.01,391.273 2170.51,379.131 2211.01,366.939 2251.51,354.722 \n",
       "  2292.01,342.498 \n",
       "  \"/>\n",
       "<path clip-path=\"url(#clip600)\" d=\"\n",
       "M2019.54 348.236 L2281.21 348.236 L2281.21 166.796 L2019.54 166.796  Z\n",
       "  \" fill=\"#ffffff\" fill-rule=\"evenodd\" fill-opacity=\"1\"/>\n",
       "<polyline clip-path=\"url(#clip600)\" style=\"stroke:#000000; stroke-width:4; stroke-opacity:1; fill:none\" points=\"\n",
       "  2019.54,348.236 2281.21,348.236 2281.21,166.796 2019.54,166.796 2019.54,348.236 \n",
       "  \"/>\n",
       "<polyline clip-path=\"url(#clip600)\" style=\"stroke:#009af9; stroke-width:4; stroke-opacity:1; fill:none\" stroke-dasharray=\"2, 4\" points=\"\n",
       "  2043.39,227.276 2186.49,227.276 \n",
       "  \"/>\n",
       "<path clip-path=\"url(#clip600)\" d=\"M 0 0 M2226.84 208.537 L2226.84 212.079 L2222.77 212.079 Q2220.48 212.079 2219.57 213.005 Q2218.69 213.931 2218.69 216.338 L2218.69 218.63 L2225.71 218.63 L2225.71 221.94 L2218.69 221.94 L2218.69 244.556 L2214.41 244.556 L2214.41 221.94 L2210.34 221.94 L2210.34 218.63 L2214.41 218.63 L2214.41 216.824 Q2214.41 212.496 2216.43 210.528 Q2218.44 208.537 2222.81 208.537 L2226.84 208.537 Z\" fill=\"#000000\" fill-rule=\"evenodd\" fill-opacity=\"1\" /><polyline clip-path=\"url(#clip600)\" style=\"stroke:#e26f46; stroke-width:4; stroke-opacity:1; fill:none\" points=\"\n",
       "  2043.39,287.756 2186.49,287.756 \n",
       "  \"/>\n",
       "<path clip-path=\"url(#clip600)\" d=\"M 0 0 M2229.25 291.772 Q2229.25 287.142 2227.33 284.596 Q2225.43 282.05 2221.98 282.05 Q2218.55 282.05 2216.63 284.596 Q2214.74 287.142 2214.74 291.772 Q2214.74 296.378 2216.63 298.925 Q2218.55 301.471 2221.98 301.471 Q2225.43 301.471 2227.33 298.925 Q2229.25 296.378 2229.25 291.772 M2233.51 301.818 Q2233.51 308.438 2230.57 311.656 Q2227.63 314.897 2221.56 314.897 Q2219.32 314.897 2217.33 314.55 Q2215.34 314.225 2213.46 313.531 L2213.46 309.388 Q2215.34 310.406 2217.17 310.892 Q2218.99 311.378 2220.89 311.378 Q2225.08 311.378 2227.17 309.179 Q2229.25 307.003 2229.25 302.582 L2229.25 300.476 Q2227.93 302.767 2225.87 303.901 Q2223.81 305.036 2220.94 305.036 Q2216.17 305.036 2213.25 301.401 Q2210.34 297.767 2210.34 291.772 Q2210.34 285.753 2213.25 282.119 Q2216.17 278.485 2220.94 278.485 Q2223.81 278.485 2225.87 279.619 Q2227.93 280.753 2229.25 283.045 L2229.25 279.11 L2233.51 279.11 L2233.51 301.818 Z\" fill=\"#000000\" fill-rule=\"evenodd\" fill-opacity=\"1\" /></svg>\n"
      ]
     },
     "metadata": {},
     "output_type": "display_data"
    }
   ],
   "source": [
    "for mu = [0,10e40, 10e4, 10e6, 10e10]\n",
    "    out = spline(f, B, mu);\n",
    "    curve_plot = plot(1:51, f, linestyle = :dot, lw=3, label=\"f\")\n",
    "    plot!(1:51, out, label=\"g\")\n",
    "    xlabel!(\"Vector Index\")\n",
    "    ylabel!(\"Value\")\n",
    "    title!(\"mu = $(mu)\")\n",
    "    display(curve_plot)\n",
    "end"
   ]
  },
  {
   "cell_type": "code",
   "execution_count": null,
   "metadata": {},
   "outputs": [],
   "source": []
  }
 ],
 "metadata": {
  "kernelspec": {
   "display_name": "Julia 1.5.1",
   "language": "julia",
   "name": "julia-1.5"
  },
  "language_info": {
   "file_extension": ".jl",
   "mimetype": "application/julia",
   "name": "julia",
   "version": "1.5.1"
  }
 },
 "nbformat": 4,
 "nbformat_minor": 4
}
